{
 "cells": [
  {
   "cell_type": "code",
   "execution_count": 1,
   "metadata": {},
   "outputs": [
    {
     "name": "stdout",
     "output_type": "stream",
     "text": [
      "/volatile/home/Zaccharie/workspace/understanding-unets\n"
     ]
    }
   ],
   "source": [
    "%cd .."
   ]
  },
  {
   "cell_type": "code",
   "execution_count": 2,
   "metadata": {},
   "outputs": [],
   "source": [
    "# this just to make sure we are using only on CPU\n",
    "import os\n",
    "os.environ[\"CUDA_VISIBLE_DEVICES\"]=\"-1\""
   ]
  },
  {
   "cell_type": "code",
   "execution_count": 3,
   "metadata": {},
   "outputs": [
    {
     "name": "stdout",
     "output_type": "stream",
     "text": [
      "\n",
      "                 .|'''|       /.\\      '||'''|,\n",
      "                 ||          // \\\\      ||   ||\n",
      "'||''|, '||  ||` `|'''|,    //...\\\\     ||...|'\n",
      " ||  ||  `|..||   .   ||   //     \\\\    ||\n",
      " ||..|'      ||   |...|' .//       \\\\. .||\n",
      " ||       ,  |'\n",
      ".||        ''\n",
      "\n",
      "Package version: 0.0.3\n",
      "\n",
      "License: CeCILL-B\n",
      "\n",
      "Authors: \n",
      "\n",
      "Antoine Grigis <antoine.grigis@cea.fr>\n",
      "Samuel Farrens <samuel.farrens@cea.fr>\n",
      "Jean-Luc Starck <jl.stark@cea.fr>\n",
      "Philippe Ciuciu <philippe.ciuciu@cea.fr>\n",
      "\n",
      "Dependencies: \n",
      "\n",
      "scipy          : >=1.3.0   - required | 1.4.1     installed\n",
      "numpy          : >=1.16.4  - required | 1.17.4    installed\n",
      "matplotlib     : >=3.0.0   - required | 3.1.2     installed\n",
      "astropy        : >=3.0.0   - required | 3.2.3     installed\n",
      "nibabel        : >=2.3.2   - required | 2.5.1     installed\n",
      "pyqtgraph      : >=0.10.0  - required | 0.10.0    installed\n",
      "progressbar2   : >=3.34.3  - required | ?         installed\n",
      "modopt         : >=1.4.0   - required | 1.4.1     installed\n",
      "scikit-learn   : >=0.19.1  - required | ?         installed\n",
      "pywt           : >=1.0.0   - required | 1.1.1     installed\n",
      "pysparse       : >=0.0.1   - required | 0.1.0     installed\n",
      "\n"
     ]
    }
   ],
   "source": [
    "%load_ext autoreload\n",
    "%autoreload 2\n",
    "import copy\n",
    "import time\n",
    "\n",
    "import numpy as np\n",
    "import pandas as pd\n",
    "from tqdm import tqdm_notebook\n",
    "\n",
    "# from learning_wavelets.data import im_generators, ConcatenateGenerators\n",
    "from learning_wavelets.datasets import im_dataset_bsd68\n",
    "from learning_wavelets.dncnn import dncnn\n",
    "from learning_wavelets.keras_utils.thresholding import SoftThresholding, HardThresholding, DynamicSoftThresholding, DynamicHardThresholding, RelaxedDynamicHardThresholding, LocalWienerFiltering\n",
    "from learning_wavelets.learned_wavelet import learned_wavelet, learnlet\n",
    "from learning_wavelets.unet import unet\n",
    "from learning_wavelets.utils.metrics import metrics_from_ds, metrics_original_from_ds\n",
    "# from learning_wavelets.utils.metrics import metrics_for_params, metrics_exact_recon_net, metrics_original, metrics_wavelets, metrics_bm3d, metrics_dynamic_denoising_net"
   ]
  },
  {
   "cell_type": "code",
   "execution_count": 4,
   "metadata": {},
   "outputs": [],
   "source": [
    "np.random.seed(0)"
   ]
  },
  {
   "cell_type": "code",
   "execution_count": 5,
   "metadata": {
    "code_folding": []
   },
   "outputs": [],
   "source": [
    "all_net_params = [\n",
    "    {\n",
    "        'name': 'unet-multiple-stds',\n",
    "        'init_function': unet,\n",
    "        'run_params': {\n",
    "            'n_layers': 5, \n",
    "            'pool': 'max', \n",
    "            \"layers_n_channels\": [64, 128, 256, 512, 1024], \n",
    "            'layers_n_non_lins': 2,\n",
    "            'non_relu_contract': False,\n",
    "            'bn': True,\n",
    "            'input_size': (None, None, 1),\n",
    "        },\n",
    "        'run_id': 'unet_dynamic_st_bsd500_0_55_1576668365',\n",
    "        'epoch': 500,\n",
    "    },\n",
    "]\n",
    "\n",
    "dynamic_denoising_net_params = [\n",
    "    {\n",
    "        'name': 'learnlet_0_55_big_bsd',\n",
    "        'init_function': learnlet,\n",
    "        'run_params': {\n",
    "            'denoising_activation': 'dynamic_soft_thresholding',\n",
    "            'learnlet_analysis_kwargs':{\n",
    "                'n_tiling': 256, \n",
    "                'mixing_details': False,  \n",
    "                'kernel_size': 11\n",
    "            },\n",
    "            'learnlet_synthesis_kwargs': {\n",
    "                'res': True,\n",
    "                'kernel_size': 13,\n",
    "            },\n",
    "            'n_scales': 5,\n",
    "            'exact_reconstruction_weight': 0,\n",
    "            'clip': True,\n",
    "            'input_size': (None, None, 1),     \n",
    "        },\n",
    "        'run_id': 'learnlet_dynamic_st_bsd500_0_55_1576762010',\n",
    "        'epoch': 500,\n",
    "    },\n",
    "    {\n",
    "        'name': 'learnlet_20_40_big_bsd',\n",
    "        'init_function': learnlet,\n",
    "        'run_params': {\n",
    "            'denoising_activation': 'dynamic_soft_thresholding',\n",
    "            'learnlet_analysis_kwargs':{\n",
    "                'n_tiling': 256, \n",
    "                'mixing_details': False,  \n",
    "                'kernel_size': 11,\n",
    "                'skip_connection': True,\n",
    "            },\n",
    "            'learnlet_synthesis_kwargs': {\n",
    "                'res': True,\n",
    "                'kernel_size': 13,\n",
    "            },\n",
    "            'n_scales': 5,\n",
    "            'exact_reconstruction_weight': 0,\n",
    "            'clip': True,\n",
    "            'input_size': (None, None, 1),     \n",
    "        },\n",
    "        'run_id': 'learnlet_dynamic_st_bsd500_20_40_1580492805',\n",
    "        'epoch': 500,\n",
    "    },\n",
    "    {\n",
    "        'name': 'learnlet_30_big_bsd',\n",
    "        'init_function': learnlet,\n",
    "        'run_params': {\n",
    "            'denoising_activation': 'dynamic_soft_thresholding',\n",
    "            'learnlet_analysis_kwargs':{\n",
    "                'n_tiling': 256, \n",
    "                'mixing_details': False,  \n",
    "                'kernel_size': 11,\n",
    "                'skip_connection': True,\n",
    "            },\n",
    "            'learnlet_synthesis_kwargs': {\n",
    "                'res': True,\n",
    "                'kernel_size': 13,\n",
    "            },\n",
    "            'n_scales': 5,\n",
    "            'exact_reconstruction_weight': 0,\n",
    "            'clip': True,\n",
    "            'input_size': (None, None, 1),     \n",
    "        },\n",
    "        'run_id': 'learnlet_dynamic_st_bsd500_30_1580668579',\n",
    "        'epoch': 500,\n",
    "    },\n",
    "]"
   ]
  },
  {
   "cell_type": "code",
   "execution_count": 6,
   "metadata": {},
   "outputs": [],
   "source": [
    "noise_stds = [5, 15, 20, 25, 30, 50, 75]\n",
    "# noise_stds = [15, 20, 30]\n",
    "# noise_stds = [30]"
   ]
  },
  {
   "cell_type": "code",
   "execution_count": 7,
   "metadata": {
    "code_folding": [],
    "scrolled": true
   },
   "outputs": [
    {
     "name": "stderr",
     "output_type": "stream",
     "text": [
      "/volatile/home/Zaccharie/workspace/understanding-unets/venv/lib/python3.6/site-packages/ipykernel_launcher.py:3: TqdmDeprecationWarning: This function will be removed in tqdm==5.0.0\n",
      "Please use `tqdm.notebook.tqdm` instead of `tqdm.tqdm_notebook`\n",
      "  This is separate from the ipykernel package so we can avoid doing imports until\n"
     ]
    },
    {
     "data": {
      "application/vnd.jupyter.widget-view+json": {
       "model_id": "cd42f783538a4809bf429f788b78c291",
       "version_major": 2,
       "version_minor": 0
      },
      "text/plain": [
       "HBox(children=(FloatProgress(value=0.0, description='Noise stds', max=7.0, style=ProgressStyle(description_wid…"
      ]
     },
     "metadata": {},
     "output_type": "display_data"
    },
    {
     "data": {
      "application/vnd.jupyter.widget-view+json": {
       "model_id": "e953ca5890724ee887179f74cd486f86",
       "version_major": 2,
       "version_minor": 0
      },
      "text/plain": [
       "HBox(children=(FloatProgress(value=1.0, bar_style='info', max=1.0), HTML(value='')))"
      ]
     },
     "metadata": {},
     "output_type": "display_data"
    },
    {
     "name": "stdout",
     "output_type": "stream",
     "text": [
      "\n"
     ]
    },
    {
     "data": {
      "application/vnd.jupyter.widget-view+json": {
       "model_id": "70db9280f6ce463abf074172f5e27f3f",
       "version_major": 2,
       "version_minor": 0
      },
      "text/plain": [
       "HBox(children=(FloatProgress(value=0.0, description='Stats for unet-multiple-stds', max=5.0, style=ProgressSty…"
      ]
     },
     "metadata": {},
     "output_type": "display_data"
    },
    {
     "name": "stdout",
     "output_type": "stream",
     "text": [
      "\n"
     ]
    },
    {
     "name": "stderr",
     "output_type": "stream",
     "text": [
      "/volatile/home/Zaccharie/workspace/understanding-unets/learning_wavelets/evaluate.py:29: UserWarning: DEPRECATED: skimage.measure.compare_psnr has been moved to skimage.metrics.peak_signal_noise_ratio. It will be removed from skimage.measure in version 0.18.\n",
      "  return compare_psnr(gt, pred, data_range=1)\n",
      "/volatile/home/Zaccharie/workspace/understanding-unets/learning_wavelets/evaluate.py:38: UserWarning: DEPRECATED: skimage.measure.compare_ssim has been moved to skimage.metrics.structural_similarity. It will be removed from skimage.measure in version 0.18.\n",
      "  gt, pred, multichannel=True, data_range=1\n"
     ]
    },
    {
     "data": {
      "application/vnd.jupyter.widget-view+json": {
       "model_id": "1d33601e245a48cb8b5e5c625f32e630",
       "version_major": 2,
       "version_minor": 0
      },
      "text/plain": [
       "HBox(children=(FloatProgress(value=1.0, bar_style='info', max=1.0), HTML(value='')))"
      ]
     },
     "metadata": {},
     "output_type": "display_data"
    },
    {
     "name": "stdout",
     "output_type": "stream",
     "text": [
      "\n"
     ]
    },
    {
     "data": {
      "application/vnd.jupyter.widget-view+json": {
       "model_id": "c3a0350c63184a3e8867fb481d16fc2e",
       "version_major": 2,
       "version_minor": 0
      },
      "text/plain": [
       "HBox(children=(FloatProgress(value=0.0, description='Original noisy image', max=5.0, style=ProgressStyle(descr…"
      ]
     },
     "metadata": {},
     "output_type": "display_data"
    },
    {
     "name": "stdout",
     "output_type": "stream",
     "text": [
      "\n"
     ]
    },
    {
     "data": {
      "application/vnd.jupyter.widget-view+json": {
       "model_id": "351f495c672d4cba977ba65b44ba3854",
       "version_major": 2,
       "version_minor": 0
      },
      "text/plain": [
       "HBox(children=(FloatProgress(value=1.0, bar_style='info', max=1.0), HTML(value='')))"
      ]
     },
     "metadata": {},
     "output_type": "display_data"
    },
    {
     "name": "stdout",
     "output_type": "stream",
     "text": [
      "\n"
     ]
    },
    {
     "data": {
      "application/vnd.jupyter.widget-view+json": {
       "model_id": "fb3128b1072143d48a7fcbe46e40ed1c",
       "version_major": 2,
       "version_minor": 0
      },
      "text/plain": [
       "HBox(children=(FloatProgress(value=0.0, description='Stats for learnlet_0_55_big_bsd', max=5.0, style=Progress…"
      ]
     },
     "metadata": {},
     "output_type": "display_data"
    },
    {
     "name": "stdout",
     "output_type": "stream",
     "text": [
      "\n"
     ]
    },
    {
     "data": {
      "application/vnd.jupyter.widget-view+json": {
       "model_id": "e480cd54075c4744b77f4402e8bd72cd",
       "version_major": 2,
       "version_minor": 0
      },
      "text/plain": [
       "HBox(children=(FloatProgress(value=1.0, bar_style='info', max=1.0), HTML(value='')))"
      ]
     },
     "metadata": {},
     "output_type": "display_data"
    },
    {
     "name": "stdout",
     "output_type": "stream",
     "text": [
      "\n"
     ]
    },
    {
     "data": {
      "application/vnd.jupyter.widget-view+json": {
       "model_id": "3c9fb11497004a69b5fbd8656768a420",
       "version_major": 2,
       "version_minor": 0
      },
      "text/plain": [
       "HBox(children=(FloatProgress(value=0.0, description='Stats for learnlet_20_40_big_bsd', max=5.0, style=Progres…"
      ]
     },
     "metadata": {},
     "output_type": "display_data"
    },
    {
     "name": "stdout",
     "output_type": "stream",
     "text": [
      "\n"
     ]
    },
    {
     "data": {
      "application/vnd.jupyter.widget-view+json": {
       "model_id": "272d9306a95e48a3a37e43f2f210dfbe",
       "version_major": 2,
       "version_minor": 0
      },
      "text/plain": [
       "HBox(children=(FloatProgress(value=1.0, bar_style='info', max=1.0), HTML(value='')))"
      ]
     },
     "metadata": {},
     "output_type": "display_data"
    },
    {
     "name": "stdout",
     "output_type": "stream",
     "text": [
      "\n"
     ]
    },
    {
     "data": {
      "application/vnd.jupyter.widget-view+json": {
       "model_id": "d5e62e7779fb413781aab08618e9f94d",
       "version_major": 2,
       "version_minor": 0
      },
      "text/plain": [
       "HBox(children=(FloatProgress(value=0.0, description='Stats for learnlet_30_big_bsd', max=5.0, style=ProgressSt…"
      ]
     },
     "metadata": {},
     "output_type": "display_data"
    },
    {
     "name": "stdout",
     "output_type": "stream",
     "text": [
      "\n"
     ]
    },
    {
     "data": {
      "application/vnd.jupyter.widget-view+json": {
       "model_id": "27fae61cc7c34cfa8b8f6b31e8c4a31c",
       "version_major": 2,
       "version_minor": 0
      },
      "text/plain": [
       "HBox(children=(FloatProgress(value=1.0, bar_style='info', max=1.0), HTML(value='')))"
      ]
     },
     "metadata": {},
     "output_type": "display_data"
    },
    {
     "name": "stdout",
     "output_type": "stream",
     "text": [
      "\n"
     ]
    },
    {
     "data": {
      "application/vnd.jupyter.widget-view+json": {
       "model_id": "35a2132266bb4c4c8dc2fbe720b04804",
       "version_major": 2,
       "version_minor": 0
      },
      "text/plain": [
       "HBox(children=(FloatProgress(value=0.0, description='Stats for unet-multiple-stds', max=5.0, style=ProgressSty…"
      ]
     },
     "metadata": {},
     "output_type": "display_data"
    },
    {
     "name": "stdout",
     "output_type": "stream",
     "text": [
      "\n"
     ]
    },
    {
     "data": {
      "application/vnd.jupyter.widget-view+json": {
       "model_id": "b9466abbe79c4894b7491266fab9029f",
       "version_major": 2,
       "version_minor": 0
      },
      "text/plain": [
       "HBox(children=(FloatProgress(value=1.0, bar_style='info', max=1.0), HTML(value='')))"
      ]
     },
     "metadata": {},
     "output_type": "display_data"
    },
    {
     "name": "stdout",
     "output_type": "stream",
     "text": [
      "\n"
     ]
    },
    {
     "data": {
      "application/vnd.jupyter.widget-view+json": {
       "model_id": "4044a684621548f680d23ffb75a15ff4",
       "version_major": 2,
       "version_minor": 0
      },
      "text/plain": [
       "HBox(children=(FloatProgress(value=0.0, description='Original noisy image', max=5.0, style=ProgressStyle(descr…"
      ]
     },
     "metadata": {},
     "output_type": "display_data"
    },
    {
     "name": "stdout",
     "output_type": "stream",
     "text": [
      "\n"
     ]
    },
    {
     "data": {
      "application/vnd.jupyter.widget-view+json": {
       "model_id": "5dd48e1587874c77aa00ee839c21000a",
       "version_major": 2,
       "version_minor": 0
      },
      "text/plain": [
       "HBox(children=(FloatProgress(value=1.0, bar_style='info', max=1.0), HTML(value='')))"
      ]
     },
     "metadata": {},
     "output_type": "display_data"
    },
    {
     "name": "stdout",
     "output_type": "stream",
     "text": [
      "\n"
     ]
    },
    {
     "data": {
      "application/vnd.jupyter.widget-view+json": {
       "model_id": "519226dcd29747f08e46ef4b2fe2e40b",
       "version_major": 2,
       "version_minor": 0
      },
      "text/plain": [
       "HBox(children=(FloatProgress(value=0.0, description='Stats for learnlet_0_55_big_bsd', max=5.0, style=Progress…"
      ]
     },
     "metadata": {},
     "output_type": "display_data"
    },
    {
     "name": "stdout",
     "output_type": "stream",
     "text": [
      "\n"
     ]
    },
    {
     "data": {
      "application/vnd.jupyter.widget-view+json": {
       "model_id": "ddd96191c428449fae0870e3621fcb16",
       "version_major": 2,
       "version_minor": 0
      },
      "text/plain": [
       "HBox(children=(FloatProgress(value=1.0, bar_style='info', max=1.0), HTML(value='')))"
      ]
     },
     "metadata": {},
     "output_type": "display_data"
    },
    {
     "name": "stdout",
     "output_type": "stream",
     "text": [
      "\n"
     ]
    },
    {
     "data": {
      "application/vnd.jupyter.widget-view+json": {
       "model_id": "4a450ad6f49f4153b158fb62aad4742e",
       "version_major": 2,
       "version_minor": 0
      },
      "text/plain": [
       "HBox(children=(FloatProgress(value=0.0, description='Stats for learnlet_20_40_big_bsd', max=5.0, style=Progres…"
      ]
     },
     "metadata": {},
     "output_type": "display_data"
    },
    {
     "name": "stdout",
     "output_type": "stream",
     "text": [
      "\n"
     ]
    },
    {
     "data": {
      "application/vnd.jupyter.widget-view+json": {
       "model_id": "3299ede70e224542bf4e8614f2d464f1",
       "version_major": 2,
       "version_minor": 0
      },
      "text/plain": [
       "HBox(children=(FloatProgress(value=1.0, bar_style='info', max=1.0), HTML(value='')))"
      ]
     },
     "metadata": {},
     "output_type": "display_data"
    },
    {
     "name": "stdout",
     "output_type": "stream",
     "text": [
      "\n"
     ]
    },
    {
     "data": {
      "application/vnd.jupyter.widget-view+json": {
       "model_id": "909332cd14574f0c8a7d65ea440dc8a9",
       "version_major": 2,
       "version_minor": 0
      },
      "text/plain": [
       "HBox(children=(FloatProgress(value=0.0, description='Stats for learnlet_30_big_bsd', max=5.0, style=ProgressSt…"
      ]
     },
     "metadata": {},
     "output_type": "display_data"
    },
    {
     "name": "stdout",
     "output_type": "stream",
     "text": [
      "\n"
     ]
    },
    {
     "data": {
      "application/vnd.jupyter.widget-view+json": {
       "model_id": "f81f4e86f06d47a59c4003a87ed460f4",
       "version_major": 2,
       "version_minor": 0
      },
      "text/plain": [
       "HBox(children=(FloatProgress(value=1.0, bar_style='info', max=1.0), HTML(value='')))"
      ]
     },
     "metadata": {},
     "output_type": "display_data"
    },
    {
     "name": "stdout",
     "output_type": "stream",
     "text": [
      "\n"
     ]
    },
    {
     "data": {
      "application/vnd.jupyter.widget-view+json": {
       "model_id": "e78a6b85add644b4802fc178eb7e94f8",
       "version_major": 2,
       "version_minor": 0
      },
      "text/plain": [
       "HBox(children=(FloatProgress(value=0.0, description='Stats for unet-multiple-stds', max=5.0, style=ProgressSty…"
      ]
     },
     "metadata": {},
     "output_type": "display_data"
    },
    {
     "name": "stdout",
     "output_type": "stream",
     "text": [
      "\n"
     ]
    },
    {
     "data": {
      "application/vnd.jupyter.widget-view+json": {
       "model_id": "9f02fb4615cc41e2ba50b05fa3b40e59",
       "version_major": 2,
       "version_minor": 0
      },
      "text/plain": [
       "HBox(children=(FloatProgress(value=1.0, bar_style='info', max=1.0), HTML(value='')))"
      ]
     },
     "metadata": {},
     "output_type": "display_data"
    },
    {
     "name": "stdout",
     "output_type": "stream",
     "text": [
      "\n"
     ]
    },
    {
     "data": {
      "application/vnd.jupyter.widget-view+json": {
       "model_id": "167edeb1b8f8498aaa8a305169a92fa4",
       "version_major": 2,
       "version_minor": 0
      },
      "text/plain": [
       "HBox(children=(FloatProgress(value=0.0, description='Original noisy image', max=5.0, style=ProgressStyle(descr…"
      ]
     },
     "metadata": {},
     "output_type": "display_data"
    },
    {
     "name": "stdout",
     "output_type": "stream",
     "text": [
      "\n"
     ]
    },
    {
     "data": {
      "application/vnd.jupyter.widget-view+json": {
       "model_id": "1c7d394419b14354b7a780f3c7d5e124",
       "version_major": 2,
       "version_minor": 0
      },
      "text/plain": [
       "HBox(children=(FloatProgress(value=1.0, bar_style='info', max=1.0), HTML(value='')))"
      ]
     },
     "metadata": {},
     "output_type": "display_data"
    },
    {
     "name": "stdout",
     "output_type": "stream",
     "text": [
      "\n"
     ]
    },
    {
     "data": {
      "application/vnd.jupyter.widget-view+json": {
       "model_id": "0af966d0d4bd4468a6c4361d49f1ebbb",
       "version_major": 2,
       "version_minor": 0
      },
      "text/plain": [
       "HBox(children=(FloatProgress(value=0.0, description='Stats for learnlet_0_55_big_bsd', max=5.0, style=Progress…"
      ]
     },
     "metadata": {},
     "output_type": "display_data"
    },
    {
     "name": "stdout",
     "output_type": "stream",
     "text": [
      "\n"
     ]
    },
    {
     "data": {
      "application/vnd.jupyter.widget-view+json": {
       "model_id": "e2317b9c424a422bafffaca8c42f73a1",
       "version_major": 2,
       "version_minor": 0
      },
      "text/plain": [
       "HBox(children=(FloatProgress(value=1.0, bar_style='info', max=1.0), HTML(value='')))"
      ]
     },
     "metadata": {},
     "output_type": "display_data"
    },
    {
     "name": "stdout",
     "output_type": "stream",
     "text": [
      "\n"
     ]
    },
    {
     "data": {
      "application/vnd.jupyter.widget-view+json": {
       "model_id": "f29f6d6c3d2b4fafb5626b6c2f62cc54",
       "version_major": 2,
       "version_minor": 0
      },
      "text/plain": [
       "HBox(children=(FloatProgress(value=0.0, description='Stats for learnlet_20_40_big_bsd', max=5.0, style=Progres…"
      ]
     },
     "metadata": {},
     "output_type": "display_data"
    },
    {
     "name": "stdout",
     "output_type": "stream",
     "text": [
      "\n"
     ]
    },
    {
     "data": {
      "application/vnd.jupyter.widget-view+json": {
       "model_id": "e26102d75b0f44679fda5da778986683",
       "version_major": 2,
       "version_minor": 0
      },
      "text/plain": [
       "HBox(children=(FloatProgress(value=1.0, bar_style='info', max=1.0), HTML(value='')))"
      ]
     },
     "metadata": {},
     "output_type": "display_data"
    },
    {
     "name": "stdout",
     "output_type": "stream",
     "text": [
      "\n"
     ]
    },
    {
     "data": {
      "application/vnd.jupyter.widget-view+json": {
       "model_id": "c28c9bba3d3f457e82bed67c86ddcf61",
       "version_major": 2,
       "version_minor": 0
      },
      "text/plain": [
       "HBox(children=(FloatProgress(value=0.0, description='Stats for learnlet_30_big_bsd', max=5.0, style=ProgressSt…"
      ]
     },
     "metadata": {},
     "output_type": "display_data"
    },
    {
     "name": "stdout",
     "output_type": "stream",
     "text": [
      "\n"
     ]
    },
    {
     "data": {
      "application/vnd.jupyter.widget-view+json": {
       "model_id": "9e37dcf06b96411e91b7b308114d13a5",
       "version_major": 2,
       "version_minor": 0
      },
      "text/plain": [
       "HBox(children=(FloatProgress(value=1.0, bar_style='info', max=1.0), HTML(value='')))"
      ]
     },
     "metadata": {},
     "output_type": "display_data"
    },
    {
     "name": "stdout",
     "output_type": "stream",
     "text": [
      "\n"
     ]
    },
    {
     "data": {
      "application/vnd.jupyter.widget-view+json": {
       "model_id": "683ac6f4bb9b4ef6915c6415250d51cc",
       "version_major": 2,
       "version_minor": 0
      },
      "text/plain": [
       "HBox(children=(FloatProgress(value=0.0, description='Stats for unet-multiple-stds', max=5.0, style=ProgressSty…"
      ]
     },
     "metadata": {},
     "output_type": "display_data"
    },
    {
     "name": "stdout",
     "output_type": "stream",
     "text": [
      "\n"
     ]
    },
    {
     "data": {
      "application/vnd.jupyter.widget-view+json": {
       "model_id": "df80807361004f1695b37c795c9aa850",
       "version_major": 2,
       "version_minor": 0
      },
      "text/plain": [
       "HBox(children=(FloatProgress(value=1.0, bar_style='info', max=1.0), HTML(value='')))"
      ]
     },
     "metadata": {},
     "output_type": "display_data"
    },
    {
     "name": "stdout",
     "output_type": "stream",
     "text": [
      "\n"
     ]
    },
    {
     "data": {
      "application/vnd.jupyter.widget-view+json": {
       "model_id": "12cf5405e60e4f6d931ac96cbdd6070f",
       "version_major": 2,
       "version_minor": 0
      },
      "text/plain": [
       "HBox(children=(FloatProgress(value=0.0, description='Original noisy image', max=5.0, style=ProgressStyle(descr…"
      ]
     },
     "metadata": {},
     "output_type": "display_data"
    },
    {
     "name": "stdout",
     "output_type": "stream",
     "text": [
      "\n"
     ]
    },
    {
     "data": {
      "application/vnd.jupyter.widget-view+json": {
       "model_id": "94d82f4384924444bd6ddde9bc3b43c2",
       "version_major": 2,
       "version_minor": 0
      },
      "text/plain": [
       "HBox(children=(FloatProgress(value=1.0, bar_style='info', max=1.0), HTML(value='')))"
      ]
     },
     "metadata": {},
     "output_type": "display_data"
    },
    {
     "name": "stdout",
     "output_type": "stream",
     "text": [
      "\n"
     ]
    },
    {
     "data": {
      "application/vnd.jupyter.widget-view+json": {
       "model_id": "6c4dedde3603420387f96cd2c2ca6d46",
       "version_major": 2,
       "version_minor": 0
      },
      "text/plain": [
       "HBox(children=(FloatProgress(value=0.0, description='Stats for learnlet_0_55_big_bsd', max=5.0, style=Progress…"
      ]
     },
     "metadata": {},
     "output_type": "display_data"
    },
    {
     "name": "stdout",
     "output_type": "stream",
     "text": [
      "\n"
     ]
    },
    {
     "data": {
      "application/vnd.jupyter.widget-view+json": {
       "model_id": "1fc751799ac54865b664b150d1e4dbc7",
       "version_major": 2,
       "version_minor": 0
      },
      "text/plain": [
       "HBox(children=(FloatProgress(value=1.0, bar_style='info', max=1.0), HTML(value='')))"
      ]
     },
     "metadata": {},
     "output_type": "display_data"
    },
    {
     "name": "stdout",
     "output_type": "stream",
     "text": [
      "\n"
     ]
    },
    {
     "data": {
      "application/vnd.jupyter.widget-view+json": {
       "model_id": "99d0da7c2aa54ba0b28d36ad9eeb4548",
       "version_major": 2,
       "version_minor": 0
      },
      "text/plain": [
       "HBox(children=(FloatProgress(value=0.0, description='Stats for learnlet_20_40_big_bsd', max=5.0, style=Progres…"
      ]
     },
     "metadata": {},
     "output_type": "display_data"
    },
    {
     "name": "stdout",
     "output_type": "stream",
     "text": [
      "\n"
     ]
    },
    {
     "data": {
      "application/vnd.jupyter.widget-view+json": {
       "model_id": "a384e854439448f79f2c89803aaf3de0",
       "version_major": 2,
       "version_minor": 0
      },
      "text/plain": [
       "HBox(children=(FloatProgress(value=1.0, bar_style='info', max=1.0), HTML(value='')))"
      ]
     },
     "metadata": {},
     "output_type": "display_data"
    },
    {
     "name": "stdout",
     "output_type": "stream",
     "text": [
      "\n"
     ]
    },
    {
     "data": {
      "application/vnd.jupyter.widget-view+json": {
       "model_id": "aa53a572fe0b408a8fd29139355db24a",
       "version_major": 2,
       "version_minor": 0
      },
      "text/plain": [
       "HBox(children=(FloatProgress(value=0.0, description='Stats for learnlet_30_big_bsd', max=5.0, style=ProgressSt…"
      ]
     },
     "metadata": {},
     "output_type": "display_data"
    },
    {
     "name": "stdout",
     "output_type": "stream",
     "text": [
      "\n"
     ]
    },
    {
     "data": {
      "application/vnd.jupyter.widget-view+json": {
       "model_id": "3b5827347a684ac4bd81985399d49646",
       "version_major": 2,
       "version_minor": 0
      },
      "text/plain": [
       "HBox(children=(FloatProgress(value=1.0, bar_style='info', max=1.0), HTML(value='')))"
      ]
     },
     "metadata": {},
     "output_type": "display_data"
    },
    {
     "name": "stdout",
     "output_type": "stream",
     "text": [
      "\n"
     ]
    },
    {
     "data": {
      "application/vnd.jupyter.widget-view+json": {
       "model_id": "6b552d86748945198f9a29c798917c0b",
       "version_major": 2,
       "version_minor": 0
      },
      "text/plain": [
       "HBox(children=(FloatProgress(value=0.0, description='Stats for unet-multiple-stds', max=5.0, style=ProgressSty…"
      ]
     },
     "metadata": {},
     "output_type": "display_data"
    },
    {
     "name": "stdout",
     "output_type": "stream",
     "text": [
      "\n"
     ]
    },
    {
     "data": {
      "application/vnd.jupyter.widget-view+json": {
       "model_id": "2fc50543565f43a3861e05d74f555073",
       "version_major": 2,
       "version_minor": 0
      },
      "text/plain": [
       "HBox(children=(FloatProgress(value=1.0, bar_style='info', max=1.0), HTML(value='')))"
      ]
     },
     "metadata": {},
     "output_type": "display_data"
    },
    {
     "name": "stdout",
     "output_type": "stream",
     "text": [
      "\n"
     ]
    },
    {
     "data": {
      "application/vnd.jupyter.widget-view+json": {
       "model_id": "932985fcf4544213a42f8928323f30c9",
       "version_major": 2,
       "version_minor": 0
      },
      "text/plain": [
       "HBox(children=(FloatProgress(value=0.0, description='Original noisy image', max=5.0, style=ProgressStyle(descr…"
      ]
     },
     "metadata": {},
     "output_type": "display_data"
    },
    {
     "name": "stdout",
     "output_type": "stream",
     "text": [
      "\n"
     ]
    },
    {
     "data": {
      "application/vnd.jupyter.widget-view+json": {
       "model_id": "cdceb30279c247b9a2bc375a01616360",
       "version_major": 2,
       "version_minor": 0
      },
      "text/plain": [
       "HBox(children=(FloatProgress(value=1.0, bar_style='info', max=1.0), HTML(value='')))"
      ]
     },
     "metadata": {},
     "output_type": "display_data"
    },
    {
     "name": "stdout",
     "output_type": "stream",
     "text": [
      "\n"
     ]
    },
    {
     "data": {
      "application/vnd.jupyter.widget-view+json": {
       "model_id": "16fabca549cb4f80b4778060be13a16b",
       "version_major": 2,
       "version_minor": 0
      },
      "text/plain": [
       "HBox(children=(FloatProgress(value=0.0, description='Stats for learnlet_0_55_big_bsd', max=5.0, style=Progress…"
      ]
     },
     "metadata": {},
     "output_type": "display_data"
    },
    {
     "name": "stdout",
     "output_type": "stream",
     "text": [
      "\n"
     ]
    },
    {
     "data": {
      "application/vnd.jupyter.widget-view+json": {
       "model_id": "a8184dc5264242f286e81520926b17cc",
       "version_major": 2,
       "version_minor": 0
      },
      "text/plain": [
       "HBox(children=(FloatProgress(value=1.0, bar_style='info', max=1.0), HTML(value='')))"
      ]
     },
     "metadata": {},
     "output_type": "display_data"
    },
    {
     "name": "stdout",
     "output_type": "stream",
     "text": [
      "\n"
     ]
    },
    {
     "data": {
      "application/vnd.jupyter.widget-view+json": {
       "model_id": "4c1712cde59a4e3693b858ac60e547ee",
       "version_major": 2,
       "version_minor": 0
      },
      "text/plain": [
       "HBox(children=(FloatProgress(value=0.0, description='Stats for learnlet_20_40_big_bsd', max=5.0, style=Progres…"
      ]
     },
     "metadata": {},
     "output_type": "display_data"
    },
    {
     "name": "stdout",
     "output_type": "stream",
     "text": [
      "\n"
     ]
    },
    {
     "data": {
      "application/vnd.jupyter.widget-view+json": {
       "model_id": "2ca08b66ae634bbb9329a0218b546567",
       "version_major": 2,
       "version_minor": 0
      },
      "text/plain": [
       "HBox(children=(FloatProgress(value=1.0, bar_style='info', max=1.0), HTML(value='')))"
      ]
     },
     "metadata": {},
     "output_type": "display_data"
    },
    {
     "name": "stdout",
     "output_type": "stream",
     "text": [
      "\n"
     ]
    },
    {
     "data": {
      "application/vnd.jupyter.widget-view+json": {
       "model_id": "427ab793e7c243fbbeea78e1257f47c5",
       "version_major": 2,
       "version_minor": 0
      },
      "text/plain": [
       "HBox(children=(FloatProgress(value=0.0, description='Stats for learnlet_30_big_bsd', max=5.0, style=ProgressSt…"
      ]
     },
     "metadata": {},
     "output_type": "display_data"
    },
    {
     "name": "stdout",
     "output_type": "stream",
     "text": [
      "\n"
     ]
    },
    {
     "data": {
      "application/vnd.jupyter.widget-view+json": {
       "model_id": "97a52c13d70f48a59fa9b6392b0b37b5",
       "version_major": 2,
       "version_minor": 0
      },
      "text/plain": [
       "HBox(children=(FloatProgress(value=1.0, bar_style='info', max=1.0), HTML(value='')))"
      ]
     },
     "metadata": {},
     "output_type": "display_data"
    },
    {
     "name": "stdout",
     "output_type": "stream",
     "text": [
      "\n"
     ]
    },
    {
     "data": {
      "application/vnd.jupyter.widget-view+json": {
       "model_id": "2a43f878f13f4b7a81fd140f4590fa66",
       "version_major": 2,
       "version_minor": 0
      },
      "text/plain": [
       "HBox(children=(FloatProgress(value=0.0, description='Stats for unet-multiple-stds', max=5.0, style=ProgressSty…"
      ]
     },
     "metadata": {},
     "output_type": "display_data"
    },
    {
     "name": "stdout",
     "output_type": "stream",
     "text": [
      "\n"
     ]
    },
    {
     "data": {
      "application/vnd.jupyter.widget-view+json": {
       "model_id": "78b0df5f98da4648ae29e0ff5006519f",
       "version_major": 2,
       "version_minor": 0
      },
      "text/plain": [
       "HBox(children=(FloatProgress(value=1.0, bar_style='info', max=1.0), HTML(value='')))"
      ]
     },
     "metadata": {},
     "output_type": "display_data"
    },
    {
     "name": "stdout",
     "output_type": "stream",
     "text": [
      "\n"
     ]
    },
    {
     "data": {
      "application/vnd.jupyter.widget-view+json": {
       "model_id": "216669c47b8d4e5aa96c9f515e627007",
       "version_major": 2,
       "version_minor": 0
      },
      "text/plain": [
       "HBox(children=(FloatProgress(value=0.0, description='Original noisy image', max=5.0, style=ProgressStyle(descr…"
      ]
     },
     "metadata": {},
     "output_type": "display_data"
    },
    {
     "name": "stdout",
     "output_type": "stream",
     "text": [
      "\n"
     ]
    },
    {
     "data": {
      "application/vnd.jupyter.widget-view+json": {
       "model_id": "949ca4d3dac541ea811b1f876bb8a3b7",
       "version_major": 2,
       "version_minor": 0
      },
      "text/plain": [
       "HBox(children=(FloatProgress(value=1.0, bar_style='info', max=1.0), HTML(value='')))"
      ]
     },
     "metadata": {},
     "output_type": "display_data"
    },
    {
     "name": "stdout",
     "output_type": "stream",
     "text": [
      "\n"
     ]
    },
    {
     "data": {
      "application/vnd.jupyter.widget-view+json": {
       "model_id": "6f330ceb9d02438592382de382c9fc79",
       "version_major": 2,
       "version_minor": 0
      },
      "text/plain": [
       "HBox(children=(FloatProgress(value=0.0, description='Stats for learnlet_0_55_big_bsd', max=5.0, style=Progress…"
      ]
     },
     "metadata": {},
     "output_type": "display_data"
    },
    {
     "name": "stdout",
     "output_type": "stream",
     "text": [
      "\n"
     ]
    },
    {
     "data": {
      "application/vnd.jupyter.widget-view+json": {
       "model_id": "ec2453c62ab349828b8d3d7e60c2a513",
       "version_major": 2,
       "version_minor": 0
      },
      "text/plain": [
       "HBox(children=(FloatProgress(value=1.0, bar_style='info', max=1.0), HTML(value='')))"
      ]
     },
     "metadata": {},
     "output_type": "display_data"
    },
    {
     "name": "stdout",
     "output_type": "stream",
     "text": [
      "\n"
     ]
    },
    {
     "data": {
      "application/vnd.jupyter.widget-view+json": {
       "model_id": "d06952fdcda148cd86a5cf36a6dd2bd8",
       "version_major": 2,
       "version_minor": 0
      },
      "text/plain": [
       "HBox(children=(FloatProgress(value=0.0, description='Stats for learnlet_20_40_big_bsd', max=5.0, style=Progres…"
      ]
     },
     "metadata": {},
     "output_type": "display_data"
    },
    {
     "name": "stdout",
     "output_type": "stream",
     "text": [
      "\n"
     ]
    },
    {
     "data": {
      "application/vnd.jupyter.widget-view+json": {
       "model_id": "ebc17c4d2b0f4701ba9db571393f7b46",
       "version_major": 2,
       "version_minor": 0
      },
      "text/plain": [
       "HBox(children=(FloatProgress(value=1.0, bar_style='info', max=1.0), HTML(value='')))"
      ]
     },
     "metadata": {},
     "output_type": "display_data"
    },
    {
     "name": "stdout",
     "output_type": "stream",
     "text": [
      "\n"
     ]
    },
    {
     "data": {
      "application/vnd.jupyter.widget-view+json": {
       "model_id": "c3eeb038e97d4836ac593b29404bdf1a",
       "version_major": 2,
       "version_minor": 0
      },
      "text/plain": [
       "HBox(children=(FloatProgress(value=0.0, description='Stats for learnlet_30_big_bsd', max=5.0, style=ProgressSt…"
      ]
     },
     "metadata": {},
     "output_type": "display_data"
    },
    {
     "name": "stdout",
     "output_type": "stream",
     "text": [
      "\n"
     ]
    },
    {
     "data": {
      "application/vnd.jupyter.widget-view+json": {
       "model_id": "e4ac26209e0c4a22b34fa93795da75bb",
       "version_major": 2,
       "version_minor": 0
      },
      "text/plain": [
       "HBox(children=(FloatProgress(value=1.0, bar_style='info', max=1.0), HTML(value='')))"
      ]
     },
     "metadata": {},
     "output_type": "display_data"
    },
    {
     "name": "stdout",
     "output_type": "stream",
     "text": [
      "\n"
     ]
    },
    {
     "data": {
      "application/vnd.jupyter.widget-view+json": {
       "model_id": "0ef84758e0204e2389e33a5371d18ccd",
       "version_major": 2,
       "version_minor": 0
      },
      "text/plain": [
       "HBox(children=(FloatProgress(value=0.0, description='Stats for unet-multiple-stds', max=5.0, style=ProgressSty…"
      ]
     },
     "metadata": {},
     "output_type": "display_data"
    },
    {
     "name": "stdout",
     "output_type": "stream",
     "text": [
      "\n"
     ]
    },
    {
     "data": {
      "application/vnd.jupyter.widget-view+json": {
       "model_id": "2fd028c8b0ad4a399c6a02c244c885ab",
       "version_major": 2,
       "version_minor": 0
      },
      "text/plain": [
       "HBox(children=(FloatProgress(value=1.0, bar_style='info', max=1.0), HTML(value='')))"
      ]
     },
     "metadata": {},
     "output_type": "display_data"
    },
    {
     "name": "stdout",
     "output_type": "stream",
     "text": [
      "\n"
     ]
    },
    {
     "data": {
      "application/vnd.jupyter.widget-view+json": {
       "model_id": "7dcf2dc8d4dd4012956a9ec5ac0a94a1",
       "version_major": 2,
       "version_minor": 0
      },
      "text/plain": [
       "HBox(children=(FloatProgress(value=0.0, description='Original noisy image', max=5.0, style=ProgressStyle(descr…"
      ]
     },
     "metadata": {},
     "output_type": "display_data"
    },
    {
     "name": "stdout",
     "output_type": "stream",
     "text": [
      "\n"
     ]
    },
    {
     "data": {
      "application/vnd.jupyter.widget-view+json": {
       "model_id": "c61937983292429d9395cff3f6376dda",
       "version_major": 2,
       "version_minor": 0
      },
      "text/plain": [
       "HBox(children=(FloatProgress(value=1.0, bar_style='info', max=1.0), HTML(value='')))"
      ]
     },
     "metadata": {},
     "output_type": "display_data"
    },
    {
     "name": "stdout",
     "output_type": "stream",
     "text": [
      "\n"
     ]
    },
    {
     "data": {
      "application/vnd.jupyter.widget-view+json": {
       "model_id": "e31741e99cde46da8a5a897949d1a95d",
       "version_major": 2,
       "version_minor": 0
      },
      "text/plain": [
       "HBox(children=(FloatProgress(value=0.0, description='Stats for learnlet_0_55_big_bsd', max=5.0, style=Progress…"
      ]
     },
     "metadata": {},
     "output_type": "display_data"
    },
    {
     "name": "stdout",
     "output_type": "stream",
     "text": [
      "\n"
     ]
    },
    {
     "data": {
      "application/vnd.jupyter.widget-view+json": {
       "model_id": "1483e9a0e489497590e81d6a2447ec09",
       "version_major": 2,
       "version_minor": 0
      },
      "text/plain": [
       "HBox(children=(FloatProgress(value=1.0, bar_style='info', max=1.0), HTML(value='')))"
      ]
     },
     "metadata": {},
     "output_type": "display_data"
    },
    {
     "name": "stdout",
     "output_type": "stream",
     "text": [
      "\n"
     ]
    },
    {
     "data": {
      "application/vnd.jupyter.widget-view+json": {
       "model_id": "9b2815480f6b43fbb9a565438f48853b",
       "version_major": 2,
       "version_minor": 0
      },
      "text/plain": [
       "HBox(children=(FloatProgress(value=0.0, description='Stats for learnlet_20_40_big_bsd', max=5.0, style=Progres…"
      ]
     },
     "metadata": {},
     "output_type": "display_data"
    },
    {
     "name": "stdout",
     "output_type": "stream",
     "text": [
      "\n"
     ]
    },
    {
     "data": {
      "application/vnd.jupyter.widget-view+json": {
       "model_id": "79bae193f29a4202b9eed7a7bcaa39bd",
       "version_major": 2,
       "version_minor": 0
      },
      "text/plain": [
       "HBox(children=(FloatProgress(value=1.0, bar_style='info', max=1.0), HTML(value='')))"
      ]
     },
     "metadata": {},
     "output_type": "display_data"
    },
    {
     "name": "stdout",
     "output_type": "stream",
     "text": [
      "\n"
     ]
    },
    {
     "data": {
      "application/vnd.jupyter.widget-view+json": {
       "model_id": "989cc38861d84c9888ccab01108c2c6c",
       "version_major": 2,
       "version_minor": 0
      },
      "text/plain": [
       "HBox(children=(FloatProgress(value=0.0, description='Stats for learnlet_30_big_bsd', max=5.0, style=ProgressSt…"
      ]
     },
     "metadata": {},
     "output_type": "display_data"
    },
    {
     "name": "stdout",
     "output_type": "stream",
     "text": [
      "\n",
      "\n"
     ]
    }
   ],
   "source": [
    "noise_std_metrics = {}\n",
    "n_samples = 5\n",
    "for noise_std in tqdm_notebook(noise_stds, 'Noise stds'):\n",
    "    metrics = []\n",
    "    for net_params in all_net_params:\n",
    "        im_ds = im_dataset_bsd68(\n",
    "            mode='testing', \n",
    "            batch_size=1, \n",
    "            patch_size=None, \n",
    "            noise_std=noise_std, \n",
    "            return_noise_level=False,\n",
    "            n_pooling=5,\n",
    "            n_samples=n_samples,\n",
    "        )\n",
    "        metrics.append((net_params['name'], metrics_from_ds(im_ds, **net_params)))\n",
    "    im_ds = im_dataset_bsd68(\n",
    "        mode='testing', \n",
    "        batch_size=1, \n",
    "        patch_size=None, \n",
    "        noise_std=noise_std, \n",
    "        return_noise_level=False,\n",
    "        n_pooling=5,\n",
    "        n_samples=n_samples,\n",
    "    )\n",
    "    metrics.append(('original', metrics_original_from_ds(im_ds)))\n",
    "        \n",
    "    for net_params in dynamic_denoising_net_params:\n",
    "        im_ds = im_dataset_bsd68(\n",
    "            mode='testing', \n",
    "            batch_size=1, \n",
    "            patch_size=None, \n",
    "            noise_std=noise_std, \n",
    "            return_noise_level=True,\n",
    "            n_pooling=5,\n",
    "            n_samples=n_samples,\n",
    "        )\n",
    "        metrics.append((net_params['name'], metrics_from_ds(im_ds, **net_params)))\n",
    "\n",
    "#     metrics.append(('bm3d', metrics_bm3d(im_gen_test)))\n",
    "#     metrics.append(('wavelets_24', metrics_wavelets(im_gen_test, '24', noise_std=noise_std)))\n",
    "#     metrics.sort(key=lambda x: x[1].metrics['PSNR'].mean())\n",
    "    noise_std_metrics[noise_std] = metrics"
   ]
  },
  {
   "cell_type": "code",
   "execution_count": 8,
   "metadata": {},
   "outputs": [
    {
     "data": {
      "text/plain": [
       "{5: [('unet-multiple-stds', PSNR = 38.2 +/- 3.735 SSIM = 0.9686 +/- 0.01937),\n",
       "  ('original', PSNR = 34.16 +/- 0.03369 SSIM = 0.8695 +/- 0.1112),\n",
       "  ('learnlet_0_55_big_bsd', PSNR = 37.14 +/- 4.133 SSIM = 0.9623 +/- 0.02299),\n",
       "  ('learnlet_20_40_big_bsd', PSNR = 32.72 +/- 7.983 SSIM = 0.9484 +/- 0.0376),\n",
       "  ('learnlet_30_big_bsd', PSNR = 31.65 +/- 8.439 SSIM = 0.9422 +/- 0.04554)],\n",
       " 15: [('unet-multiple-stds', PSNR = 32.11 +/- 4.444 SSIM = 0.8951 +/- 0.07118),\n",
       "  ('original', PSNR = 24.62 +/- 0.0149 SSIM = 0.5306 +/- 0.2514),\n",
       "  ('learnlet_0_55_big_bsd', PSNR = 31.47 +/- 4.477 SSIM = 0.874 +/- 0.07115),\n",
       "  ('learnlet_20_40_big_bsd', PSNR = 31.29 +/- 4.91 SSIM = 0.8745 +/- 0.06967),\n",
       "  ('learnlet_30_big_bsd', PSNR = 31.2 +/- 5.107 SSIM = 0.875 +/- 0.06728)],\n",
       " 20: [('unet-multiple-stds', PSNR = 30.73 +/- 4.651 SSIM = 0.8626 +/- 0.0949),\n",
       "  ('original', PSNR = 22.11 +/- 0.02487 SSIM = 0.4282 +/- 0.2489),\n",
       "  ('learnlet_0_55_big_bsd', PSNR = 30.08 +/- 4.582 SSIM = 0.8342 +/- 0.08794),\n",
       "  ('learnlet_20_40_big_bsd', PSNR = 30.09 +/- 4.696 SSIM = 0.8339 +/- 0.0832),\n",
       "  ('learnlet_30_big_bsd', PSNR = 30.02 +/- 4.787 SSIM = 0.833 +/- 0.08442)],\n",
       " 25: [('unet-multiple-stds', PSNR = 29.67 +/- 4.83 SSIM = 0.8319 +/- 0.1179),\n",
       "  ('original', PSNR = 20.16 +/- 0.04053 SSIM = 0.3531 +/- 0.2343),\n",
       "  ('learnlet_0_55_big_bsd', PSNR = 29.01 +/- 4.649 SSIM = 0.7946 +/- 0.1014),\n",
       "  ('learnlet_20_40_big_bsd', PSNR = 29.1 +/- 4.628 SSIM = 0.7968 +/- 0.08935),\n",
       "  ('learnlet_30_big_bsd', PSNR = 29.05 +/- 4.55 SSIM = 0.7945 +/- 0.08742)],\n",
       " 30: [('unet-multiple-stds', PSNR = 28.87 +/- 4.95 SSIM = 0.805 +/- 0.1338),\n",
       "  ('original', PSNR = 18.58 +/- 0.03142 SSIM = 0.2955 +/- 0.2148),\n",
       "  ('learnlet_0_55_big_bsd', PSNR = 28.19 +/- 4.628 SSIM = 0.7624 +/- 0.1058),\n",
       "  ('learnlet_20_40_big_bsd', PSNR = 28.25 +/- 4.559 SSIM = 0.7596 +/- 0.09145),\n",
       "  ('learnlet_30_big_bsd', PSNR = 28.22 +/- 4.505 SSIM = 0.7579 +/- 0.0924)],\n",
       " 50: [('unet-multiple-stds', PSNR = 26.72 +/- 5.163 SSIM = 0.719 +/- 0.1916),\n",
       "  ('original', PSNR = 14.15 +/- 0.02763 SSIM = 0.1624 +/- 0.1468),\n",
       "  ('learnlet_0_55_big_bsd', PSNR = 25.92 +/- 4.631 SSIM = 0.64 +/- 0.1106),\n",
       "  ('learnlet_20_40_big_bsd', PSNR = 25.86 +/- 4.341 SSIM = 0.6321 +/- 0.09888),\n",
       "  ('learnlet_30_big_bsd', PSNR = 25.86 +/- 4.357 SSIM = 0.6303 +/- 0.09291)],\n",
       " 75: [('unet-multiple-stds', PSNR = 22.45 +/- 2.53 SSIM = 0.384 +/- 0.0835),\n",
       "  ('original', PSNR = 10.63 +/- 0.02924 SSIM = 0.08869 +/- 0.0939),\n",
       "  ('learnlet_0_55_big_bsd', PSNR = 24.1 +/- 4.292 SSIM = 0.5219 +/- 0.1026),\n",
       "  ('learnlet_20_40_big_bsd', PSNR = 24 +/- 3.955 SSIM = 0.5102 +/- 0.06801),\n",
       "  ('learnlet_30_big_bsd', PSNR = 23.98 +/- 4.067 SSIM = 0.505 +/- 0.07102)]}"
      ]
     },
     "execution_count": 8,
     "metadata": {},
     "output_type": "execute_result"
    }
   ],
   "source": [
    "noise_std_metrics"
   ]
  },
  {
   "cell_type": "code",
   "execution_count": 9,
   "metadata": {},
   "outputs": [
    {
     "data": {
      "text/html": [
       "<div>\n",
       "<style scoped>\n",
       "    .dataframe tbody tr th:only-of-type {\n",
       "        vertical-align: middle;\n",
       "    }\n",
       "\n",
       "    .dataframe tbody tr th {\n",
       "        vertical-align: top;\n",
       "    }\n",
       "\n",
       "    .dataframe thead th {\n",
       "        text-align: right;\n",
       "    }\n",
       "</style>\n",
       "<table border=\"1\" class=\"dataframe\">\n",
       "  <thead>\n",
       "    <tr style=\"text-align: right;\">\n",
       "      <th></th>\n",
       "      <th>noise_std</th>\n",
       "      <th>unet-multiple-stds</th>\n",
       "      <th>learnlet_0_55_big_bsd</th>\n",
       "      <th>learnlet_20_40_big_bsd</th>\n",
       "      <th>learnlet_30_big_bsd</th>\n",
       "      <th>original</th>\n",
       "      <th>wavelets_24</th>\n",
       "      <th>bm3d</th>\n",
       "    </tr>\n",
       "  </thead>\n",
       "  <tbody>\n",
       "    <tr>\n",
       "      <th>0</th>\n",
       "      <td>5</td>\n",
       "      <td>38.2 (1.868)</td>\n",
       "      <td>37.14 (2.066)</td>\n",
       "      <td>32.72 (3.992)</td>\n",
       "      <td>31.65 (4.219)</td>\n",
       "      <td>34.16 (0.01685)</td>\n",
       "      <td>NaN</td>\n",
       "      <td>NaN</td>\n",
       "    </tr>\n",
       "    <tr>\n",
       "      <th>1</th>\n",
       "      <td>15</td>\n",
       "      <td>32.11 (2.222)</td>\n",
       "      <td>31.47 (2.238)</td>\n",
       "      <td>31.29 (2.455)</td>\n",
       "      <td>31.2 (2.553)</td>\n",
       "      <td>24.62 (0.007451)</td>\n",
       "      <td>NaN</td>\n",
       "      <td>NaN</td>\n",
       "    </tr>\n",
       "    <tr>\n",
       "      <th>2</th>\n",
       "      <td>20</td>\n",
       "      <td>30.73 (2.325)</td>\n",
       "      <td>30.08 (2.291)</td>\n",
       "      <td>30.09 (2.348)</td>\n",
       "      <td>30.02 (2.394)</td>\n",
       "      <td>22.11 (0.01243)</td>\n",
       "      <td>NaN</td>\n",
       "      <td>NaN</td>\n",
       "    </tr>\n",
       "    <tr>\n",
       "      <th>3</th>\n",
       "      <td>25</td>\n",
       "      <td>29.67 (2.415)</td>\n",
       "      <td>29.01 (2.325)</td>\n",
       "      <td>29.1 (2.314)</td>\n",
       "      <td>29.05 (2.275)</td>\n",
       "      <td>20.16 (0.02027)</td>\n",
       "      <td>NaN</td>\n",
       "      <td>NaN</td>\n",
       "    </tr>\n",
       "    <tr>\n",
       "      <th>4</th>\n",
       "      <td>30</td>\n",
       "      <td>28.87 (2.475)</td>\n",
       "      <td>28.19 (2.314)</td>\n",
       "      <td>28.25 (2.279)</td>\n",
       "      <td>28.22 (2.252)</td>\n",
       "      <td>18.58 (0.01571)</td>\n",
       "      <td>NaN</td>\n",
       "      <td>NaN</td>\n",
       "    </tr>\n",
       "    <tr>\n",
       "      <th>5</th>\n",
       "      <td>50</td>\n",
       "      <td>26.72 (2.582)</td>\n",
       "      <td>25.92 (2.316)</td>\n",
       "      <td>25.86 (2.171)</td>\n",
       "      <td>25.86 (2.178)</td>\n",
       "      <td>14.15 (0.01382)</td>\n",
       "      <td>NaN</td>\n",
       "      <td>NaN</td>\n",
       "    </tr>\n",
       "    <tr>\n",
       "      <th>6</th>\n",
       "      <td>75</td>\n",
       "      <td>22.45 (1.265)</td>\n",
       "      <td>24.1 (2.146)</td>\n",
       "      <td>24.0 (1.978)</td>\n",
       "      <td>23.98 (2.033)</td>\n",
       "      <td>10.63 (0.01462)</td>\n",
       "      <td>NaN</td>\n",
       "      <td>NaN</td>\n",
       "    </tr>\n",
       "  </tbody>\n",
       "</table>\n",
       "</div>"
      ],
      "text/plain": [
       "  noise_std unet-multiple-stds learnlet_0_55_big_bsd learnlet_20_40_big_bsd  \\\n",
       "0         5       38.2 (1.868)         37.14 (2.066)          32.72 (3.992)   \n",
       "1        15      32.11 (2.222)         31.47 (2.238)          31.29 (2.455)   \n",
       "2        20      30.73 (2.325)         30.08 (2.291)          30.09 (2.348)   \n",
       "3        25      29.67 (2.415)         29.01 (2.325)           29.1 (2.314)   \n",
       "4        30      28.87 (2.475)         28.19 (2.314)          28.25 (2.279)   \n",
       "5        50      26.72 (2.582)         25.92 (2.316)          25.86 (2.171)   \n",
       "6        75      22.45 (1.265)          24.1 (2.146)           24.0 (1.978)   \n",
       "\n",
       "  learnlet_30_big_bsd          original wavelets_24 bm3d  \n",
       "0       31.65 (4.219)   34.16 (0.01685)         NaN  NaN  \n",
       "1        31.2 (2.553)  24.62 (0.007451)         NaN  NaN  \n",
       "2       30.02 (2.394)   22.11 (0.01243)         NaN  NaN  \n",
       "3       29.05 (2.275)   20.16 (0.02027)         NaN  NaN  \n",
       "4       28.22 (2.252)   18.58 (0.01571)         NaN  NaN  \n",
       "5       25.86 (2.178)   14.15 (0.01382)         NaN  NaN  \n",
       "6       23.98 (2.033)   10.63 (0.01462)         NaN  NaN  "
      ]
     },
     "execution_count": 9,
     "metadata": {},
     "output_type": "execute_result"
    }
   ],
   "source": [
    "# PSNR table\n",
    "psnr_metrics_table = pd.DataFrame(\n",
    "    columns=['noise_std'] + [p['name'] for p in all_net_params] + [p['name'] for p in dynamic_denoising_net_params] + ['original', 'wavelets_24', 'bm3d'],\n",
    ")\n",
    "for i, (noise_std, metrics) in enumerate(noise_std_metrics.items()):\n",
    "    psnr_metrics_table.loc[i, 'noise_std'] = noise_std\n",
    "    for name, m in metrics:\n",
    "        psnr_metrics_table.loc[i, name] = \"{mean:.4} ({std:.4})\".format(\n",
    "            mean=m.metrics['PSNR'].mean(), \n",
    "            std=m.metrics['PSNR'].stddev(),\n",
    "        )\n",
    "psnr_metrics_table"
   ]
  },
  {
   "cell_type": "code",
   "execution_count": 10,
   "metadata": {},
   "outputs": [
    {
     "data": {
      "text/html": [
       "<div>\n",
       "<style scoped>\n",
       "    .dataframe tbody tr th:only-of-type {\n",
       "        vertical-align: middle;\n",
       "    }\n",
       "\n",
       "    .dataframe tbody tr th {\n",
       "        vertical-align: top;\n",
       "    }\n",
       "\n",
       "    .dataframe thead th {\n",
       "        text-align: right;\n",
       "    }\n",
       "</style>\n",
       "<table border=\"1\" class=\"dataframe\">\n",
       "  <thead>\n",
       "    <tr style=\"text-align: right;\">\n",
       "      <th></th>\n",
       "      <th>noise_std</th>\n",
       "      <th>unet-multiple-stds</th>\n",
       "      <th>learnlet_0_55_big_bsd</th>\n",
       "      <th>learnlet_20_40_big_bsd</th>\n",
       "      <th>learnlet_30_big_bsd</th>\n",
       "      <th>original</th>\n",
       "      <th>wavelets_24</th>\n",
       "      <th>bm3d</th>\n",
       "    </tr>\n",
       "  </thead>\n",
       "  <tbody>\n",
       "    <tr>\n",
       "      <th>0</th>\n",
       "      <td>5</td>\n",
       "      <td>0.9686 (0.009685)</td>\n",
       "      <td>0.9623 (0.01149)</td>\n",
       "      <td>0.9484 (0.0188)</td>\n",
       "      <td>0.9422 (0.02277)</td>\n",
       "      <td>0.8695 (0.05562)</td>\n",
       "      <td>NaN</td>\n",
       "      <td>NaN</td>\n",
       "    </tr>\n",
       "    <tr>\n",
       "      <th>1</th>\n",
       "      <td>15</td>\n",
       "      <td>0.8951 (0.03559)</td>\n",
       "      <td>0.874 (0.03558)</td>\n",
       "      <td>0.8745 (0.03484)</td>\n",
       "      <td>0.875 (0.03364)</td>\n",
       "      <td>0.5306 (0.1257)</td>\n",
       "      <td>NaN</td>\n",
       "      <td>NaN</td>\n",
       "    </tr>\n",
       "    <tr>\n",
       "      <th>2</th>\n",
       "      <td>20</td>\n",
       "      <td>0.8626 (0.04745)</td>\n",
       "      <td>0.8342 (0.04397)</td>\n",
       "      <td>0.8339 (0.0416)</td>\n",
       "      <td>0.833 (0.04221)</td>\n",
       "      <td>0.4282 (0.1244)</td>\n",
       "      <td>NaN</td>\n",
       "      <td>NaN</td>\n",
       "    </tr>\n",
       "    <tr>\n",
       "      <th>3</th>\n",
       "      <td>25</td>\n",
       "      <td>0.8319 (0.05893)</td>\n",
       "      <td>0.7946 (0.05068)</td>\n",
       "      <td>0.7968 (0.04468)</td>\n",
       "      <td>0.7945 (0.04371)</td>\n",
       "      <td>0.3531 (0.1172)</td>\n",
       "      <td>NaN</td>\n",
       "      <td>NaN</td>\n",
       "    </tr>\n",
       "    <tr>\n",
       "      <th>4</th>\n",
       "      <td>30</td>\n",
       "      <td>0.805 (0.06688)</td>\n",
       "      <td>0.7624 (0.05291)</td>\n",
       "      <td>0.7596 (0.04573)</td>\n",
       "      <td>0.7579 (0.0462)</td>\n",
       "      <td>0.2955 (0.1074)</td>\n",
       "      <td>NaN</td>\n",
       "      <td>NaN</td>\n",
       "    </tr>\n",
       "    <tr>\n",
       "      <th>5</th>\n",
       "      <td>50</td>\n",
       "      <td>0.719 (0.09581)</td>\n",
       "      <td>0.64 (0.05528)</td>\n",
       "      <td>0.6321 (0.04944)</td>\n",
       "      <td>0.6303 (0.04645)</td>\n",
       "      <td>0.1624 (0.07342)</td>\n",
       "      <td>NaN</td>\n",
       "      <td>NaN</td>\n",
       "    </tr>\n",
       "    <tr>\n",
       "      <th>6</th>\n",
       "      <td>75</td>\n",
       "      <td>0.384 (0.04175)</td>\n",
       "      <td>0.5219 (0.05128)</td>\n",
       "      <td>0.5102 (0.034)</td>\n",
       "      <td>0.505 (0.03551)</td>\n",
       "      <td>0.08869 (0.04695)</td>\n",
       "      <td>NaN</td>\n",
       "      <td>NaN</td>\n",
       "    </tr>\n",
       "  </tbody>\n",
       "</table>\n",
       "</div>"
      ],
      "text/plain": [
       "  noise_std unet-multiple-stds learnlet_0_55_big_bsd learnlet_20_40_big_bsd  \\\n",
       "0         5  0.9686 (0.009685)      0.9623 (0.01149)        0.9484 (0.0188)   \n",
       "1        15   0.8951 (0.03559)       0.874 (0.03558)       0.8745 (0.03484)   \n",
       "2        20   0.8626 (0.04745)      0.8342 (0.04397)        0.8339 (0.0416)   \n",
       "3        25   0.8319 (0.05893)      0.7946 (0.05068)       0.7968 (0.04468)   \n",
       "4        30    0.805 (0.06688)      0.7624 (0.05291)       0.7596 (0.04573)   \n",
       "5        50    0.719 (0.09581)        0.64 (0.05528)       0.6321 (0.04944)   \n",
       "6        75    0.384 (0.04175)      0.5219 (0.05128)         0.5102 (0.034)   \n",
       "\n",
       "  learnlet_30_big_bsd           original wavelets_24 bm3d  \n",
       "0    0.9422 (0.02277)   0.8695 (0.05562)         NaN  NaN  \n",
       "1     0.875 (0.03364)    0.5306 (0.1257)         NaN  NaN  \n",
       "2     0.833 (0.04221)    0.4282 (0.1244)         NaN  NaN  \n",
       "3    0.7945 (0.04371)    0.3531 (0.1172)         NaN  NaN  \n",
       "4     0.7579 (0.0462)    0.2955 (0.1074)         NaN  NaN  \n",
       "5    0.6303 (0.04645)   0.1624 (0.07342)         NaN  NaN  \n",
       "6     0.505 (0.03551)  0.08869 (0.04695)         NaN  NaN  "
      ]
     },
     "execution_count": 10,
     "metadata": {},
     "output_type": "execute_result"
    }
   ],
   "source": [
    "# SSIM table\n",
    "ssim_metrics_table = pd.DataFrame(\n",
    "    columns=['noise_std'] + [p['name'] for p in all_net_params] + [p['name'] for p in dynamic_denoising_net_params] + ['original', 'wavelets_24', 'bm3d'],\n",
    ")\n",
    "for i, (noise_std, metrics) in enumerate(noise_std_metrics.items()):\n",
    "    ssim_metrics_table.loc[i, 'noise_std'] = noise_std\n",
    "    for name, m in metrics:\n",
    "        ssim_metrics_table.loc[i, name] = \"{mean:.4} ({std:.4})\".format(\n",
    "            mean=m.metrics['SSIM'].mean(), \n",
    "            std=m.metrics['SSIM'].stddev(),\n",
    "        )\n",
    "ssim_metrics_table"
   ]
  },
  {
   "cell_type": "code",
   "execution_count": 11,
   "metadata": {},
   "outputs": [],
   "source": [
    "%matplotlib nbagg\n",
    "import matplotlib.pyplot as plt\n",
    "import seaborn as sns"
   ]
  },
  {
   "cell_type": "code",
   "execution_count": 32,
   "metadata": {},
   "outputs": [],
   "source": [
    "sns.set(style=\"ticks\", palette=\"muted\", rc={'figure.figsize': (9, 5), 'image.cmap': 'gray'})"
   ]
  },
  {
   "cell_type": "code",
   "execution_count": 33,
   "metadata": {},
   "outputs": [],
   "source": [
    "n_models = 1 + len(all_net_params) + len(dynamic_denoising_net_params)  # maybe add wavelets at some point for big showdown"
   ]
  },
  {
   "cell_type": "code",
   "execution_count": 36,
   "metadata": {
    "scrolled": true
   },
   "outputs": [
    {
     "data": {
      "text/html": [
       "<div>\n",
       "<style scoped>\n",
       "    .dataframe tbody tr th:only-of-type {\n",
       "        vertical-align: middle;\n",
       "    }\n",
       "\n",
       "    .dataframe tbody tr th {\n",
       "        vertical-align: top;\n",
       "    }\n",
       "\n",
       "    .dataframe thead th {\n",
       "        text-align: right;\n",
       "    }\n",
       "</style>\n",
       "<table border=\"1\" class=\"dataframe\">\n",
       "  <thead>\n",
       "    <tr style=\"text-align: right;\">\n",
       "      <th></th>\n",
       "      <th>Test noise standard deviation</th>\n",
       "      <th>PSNR</th>\n",
       "      <th>psnr-std-dev</th>\n",
       "      <th>model_name</th>\n",
       "      <th>Model</th>\n",
       "      <th>Range of the standard deviation of the training noise</th>\n",
       "    </tr>\n",
       "  </thead>\n",
       "  <tbody>\n",
       "    <tr>\n",
       "      <th>0</th>\n",
       "      <td>5</td>\n",
       "      <td>38.2039</td>\n",
       "      <td>0.933777</td>\n",
       "      <td>unet-multiple-stds</td>\n",
       "      <td>U-net</td>\n",
       "      <td>[0; 55]</td>\n",
       "    </tr>\n",
       "    <tr>\n",
       "      <th>1</th>\n",
       "      <td>5</td>\n",
       "      <td>34.1559</td>\n",
       "      <td>0.00842284</td>\n",
       "      <td>original</td>\n",
       "      <td>Original</td>\n",
       "      <td>[0; 55]</td>\n",
       "    </tr>\n",
       "    <tr>\n",
       "      <th>2</th>\n",
       "      <td>5</td>\n",
       "      <td>37.1366</td>\n",
       "      <td>1.03321</td>\n",
       "      <td>learnlet_0_55_big_bsd</td>\n",
       "      <td>Learnlet</td>\n",
       "      <td>[0; 55]</td>\n",
       "    </tr>\n",
       "    <tr>\n",
       "      <th>3</th>\n",
       "      <td>5</td>\n",
       "      <td>32.7176</td>\n",
       "      <td>1.99581</td>\n",
       "      <td>learnlet_20_40_big_bsd</td>\n",
       "      <td>Learnlet</td>\n",
       "      <td>[20; 40]</td>\n",
       "    </tr>\n",
       "    <tr>\n",
       "      <th>4</th>\n",
       "      <td>5</td>\n",
       "      <td>31.6496</td>\n",
       "      <td>2.10965</td>\n",
       "      <td>learnlet_30_big_bsd</td>\n",
       "      <td>Learnlet</td>\n",
       "      <td>30</td>\n",
       "    </tr>\n",
       "    <tr>\n",
       "      <th>5</th>\n",
       "      <td>15</td>\n",
       "      <td>32.1133</td>\n",
       "      <td>1.11093</td>\n",
       "      <td>unet-multiple-stds</td>\n",
       "      <td>U-net</td>\n",
       "      <td>[0; 55]</td>\n",
       "    </tr>\n",
       "    <tr>\n",
       "      <th>6</th>\n",
       "      <td>15</td>\n",
       "      <td>24.6155</td>\n",
       "      <td>0.00372558</td>\n",
       "      <td>original</td>\n",
       "      <td>Original</td>\n",
       "      <td>[0; 55]</td>\n",
       "    </tr>\n",
       "    <tr>\n",
       "      <th>7</th>\n",
       "      <td>15</td>\n",
       "      <td>31.4667</td>\n",
       "      <td>1.11922</td>\n",
       "      <td>learnlet_0_55_big_bsd</td>\n",
       "      <td>Learnlet</td>\n",
       "      <td>[0; 55]</td>\n",
       "    </tr>\n",
       "    <tr>\n",
       "      <th>8</th>\n",
       "      <td>15</td>\n",
       "      <td>31.2907</td>\n",
       "      <td>1.22741</td>\n",
       "      <td>learnlet_20_40_big_bsd</td>\n",
       "      <td>Learnlet</td>\n",
       "      <td>[20; 40]</td>\n",
       "    </tr>\n",
       "    <tr>\n",
       "      <th>9</th>\n",
       "      <td>15</td>\n",
       "      <td>31.1967</td>\n",
       "      <td>1.27667</td>\n",
       "      <td>learnlet_30_big_bsd</td>\n",
       "      <td>Learnlet</td>\n",
       "      <td>30</td>\n",
       "    </tr>\n",
       "    <tr>\n",
       "      <th>10</th>\n",
       "      <td>20</td>\n",
       "      <td>30.7314</td>\n",
       "      <td>1.16271</td>\n",
       "      <td>unet-multiple-stds</td>\n",
       "      <td>U-net</td>\n",
       "      <td>[0; 55]</td>\n",
       "    </tr>\n",
       "    <tr>\n",
       "      <th>11</th>\n",
       "      <td>20</td>\n",
       "      <td>22.106</td>\n",
       "      <td>0.0062164</td>\n",
       "      <td>original</td>\n",
       "      <td>Original</td>\n",
       "      <td>[0; 55]</td>\n",
       "    </tr>\n",
       "    <tr>\n",
       "      <th>12</th>\n",
       "      <td>20</td>\n",
       "      <td>30.0846</td>\n",
       "      <td>1.14545</td>\n",
       "      <td>learnlet_0_55_big_bsd</td>\n",
       "      <td>Learnlet</td>\n",
       "      <td>[0; 55]</td>\n",
       "    </tr>\n",
       "    <tr>\n",
       "      <th>13</th>\n",
       "      <td>20</td>\n",
       "      <td>30.0902</td>\n",
       "      <td>1.17412</td>\n",
       "      <td>learnlet_20_40_big_bsd</td>\n",
       "      <td>Learnlet</td>\n",
       "      <td>[20; 40]</td>\n",
       "    </tr>\n",
       "    <tr>\n",
       "      <th>14</th>\n",
       "      <td>20</td>\n",
       "      <td>30.0204</td>\n",
       "      <td>1.19676</td>\n",
       "      <td>learnlet_30_big_bsd</td>\n",
       "      <td>Learnlet</td>\n",
       "      <td>30</td>\n",
       "    </tr>\n",
       "    <tr>\n",
       "      <th>15</th>\n",
       "      <td>25</td>\n",
       "      <td>29.6711</td>\n",
       "      <td>1.20741</td>\n",
       "      <td>unet-multiple-stds</td>\n",
       "      <td>U-net</td>\n",
       "      <td>[0; 55]</td>\n",
       "    </tr>\n",
       "    <tr>\n",
       "      <th>16</th>\n",
       "      <td>25</td>\n",
       "      <td>20.161</td>\n",
       "      <td>0.0101335</td>\n",
       "      <td>original</td>\n",
       "      <td>Original</td>\n",
       "      <td>[0; 55]</td>\n",
       "    </tr>\n",
       "    <tr>\n",
       "      <th>17</th>\n",
       "      <td>25</td>\n",
       "      <td>29.0097</td>\n",
       "      <td>1.16232</td>\n",
       "      <td>learnlet_0_55_big_bsd</td>\n",
       "      <td>Learnlet</td>\n",
       "      <td>[0; 55]</td>\n",
       "    </tr>\n",
       "    <tr>\n",
       "      <th>18</th>\n",
       "      <td>25</td>\n",
       "      <td>29.0973</td>\n",
       "      <td>1.15711</td>\n",
       "      <td>learnlet_20_40_big_bsd</td>\n",
       "      <td>Learnlet</td>\n",
       "      <td>[20; 40]</td>\n",
       "    </tr>\n",
       "    <tr>\n",
       "      <th>19</th>\n",
       "      <td>25</td>\n",
       "      <td>29.0541</td>\n",
       "      <td>1.1375</td>\n",
       "      <td>learnlet_30_big_bsd</td>\n",
       "      <td>Learnlet</td>\n",
       "      <td>30</td>\n",
       "    </tr>\n",
       "    <tr>\n",
       "      <th>20</th>\n",
       "      <td>30</td>\n",
       "      <td>28.8719</td>\n",
       "      <td>1.23757</td>\n",
       "      <td>unet-multiple-stds</td>\n",
       "      <td>U-net</td>\n",
       "      <td>[0; 55]</td>\n",
       "    </tr>\n",
       "    <tr>\n",
       "      <th>21</th>\n",
       "      <td>30</td>\n",
       "      <td>18.5784</td>\n",
       "      <td>0.00785541</td>\n",
       "      <td>original</td>\n",
       "      <td>Original</td>\n",
       "      <td>[0; 55]</td>\n",
       "    </tr>\n",
       "    <tr>\n",
       "      <th>22</th>\n",
       "      <td>30</td>\n",
       "      <td>28.1871</td>\n",
       "      <td>1.157</td>\n",
       "      <td>learnlet_0_55_big_bsd</td>\n",
       "      <td>Learnlet</td>\n",
       "      <td>[0; 55]</td>\n",
       "    </tr>\n",
       "    <tr>\n",
       "      <th>23</th>\n",
       "      <td>30</td>\n",
       "      <td>28.2542</td>\n",
       "      <td>1.13973</td>\n",
       "      <td>learnlet_20_40_big_bsd</td>\n",
       "      <td>Learnlet</td>\n",
       "      <td>[20; 40]</td>\n",
       "    </tr>\n",
       "    <tr>\n",
       "      <th>24</th>\n",
       "      <td>30</td>\n",
       "      <td>28.2227</td>\n",
       "      <td>1.12617</td>\n",
       "      <td>learnlet_30_big_bsd</td>\n",
       "      <td>Learnlet</td>\n",
       "      <td>30</td>\n",
       "    </tr>\n",
       "    <tr>\n",
       "      <th>25</th>\n",
       "      <td>50</td>\n",
       "      <td>26.7237</td>\n",
       "      <td>1.29086</td>\n",
       "      <td>unet-multiple-stds</td>\n",
       "      <td>U-net</td>\n",
       "      <td>[0; 55]</td>\n",
       "    </tr>\n",
       "    <tr>\n",
       "      <th>26</th>\n",
       "      <td>50</td>\n",
       "      <td>14.1482</td>\n",
       "      <td>0.00690753</td>\n",
       "      <td>original</td>\n",
       "      <td>Original</td>\n",
       "      <td>[0; 55]</td>\n",
       "    </tr>\n",
       "    <tr>\n",
       "      <th>27</th>\n",
       "      <td>50</td>\n",
       "      <td>25.9211</td>\n",
       "      <td>1.15786</td>\n",
       "      <td>learnlet_0_55_big_bsd</td>\n",
       "      <td>Learnlet</td>\n",
       "      <td>[0; 55]</td>\n",
       "    </tr>\n",
       "    <tr>\n",
       "      <th>28</th>\n",
       "      <td>50</td>\n",
       "      <td>25.861</td>\n",
       "      <td>1.08531</td>\n",
       "      <td>learnlet_20_40_big_bsd</td>\n",
       "      <td>Learnlet</td>\n",
       "      <td>[20; 40]</td>\n",
       "    </tr>\n",
       "    <tr>\n",
       "      <th>29</th>\n",
       "      <td>50</td>\n",
       "      <td>25.8584</td>\n",
       "      <td>1.08921</td>\n",
       "      <td>learnlet_30_big_bsd</td>\n",
       "      <td>Learnlet</td>\n",
       "      <td>30</td>\n",
       "    </tr>\n",
       "    <tr>\n",
       "      <th>30</th>\n",
       "      <td>75</td>\n",
       "      <td>22.4512</td>\n",
       "      <td>0.632593</td>\n",
       "      <td>unet-multiple-stds</td>\n",
       "      <td>U-net</td>\n",
       "      <td>[0; 55]</td>\n",
       "    </tr>\n",
       "    <tr>\n",
       "      <th>31</th>\n",
       "      <td>75</td>\n",
       "      <td>10.6272</td>\n",
       "      <td>0.00730889</td>\n",
       "      <td>original</td>\n",
       "      <td>Original</td>\n",
       "      <td>[0; 55]</td>\n",
       "    </tr>\n",
       "    <tr>\n",
       "      <th>32</th>\n",
       "      <td>75</td>\n",
       "      <td>24.0996</td>\n",
       "      <td>1.07293</td>\n",
       "      <td>learnlet_0_55_big_bsd</td>\n",
       "      <td>Learnlet</td>\n",
       "      <td>[0; 55]</td>\n",
       "    </tr>\n",
       "    <tr>\n",
       "      <th>33</th>\n",
       "      <td>75</td>\n",
       "      <td>23.9952</td>\n",
       "      <td>0.988833</td>\n",
       "      <td>learnlet_20_40_big_bsd</td>\n",
       "      <td>Learnlet</td>\n",
       "      <td>[20; 40]</td>\n",
       "    </tr>\n",
       "    <tr>\n",
       "      <th>34</th>\n",
       "      <td>75</td>\n",
       "      <td>23.9792</td>\n",
       "      <td>1.01666</td>\n",
       "      <td>learnlet_30_big_bsd</td>\n",
       "      <td>Learnlet</td>\n",
       "      <td>30</td>\n",
       "    </tr>\n",
       "  </tbody>\n",
       "</table>\n",
       "</div>"
      ],
      "text/plain": [
       "   Test noise standard deviation     PSNR psnr-std-dev  \\\n",
       "0                              5  38.2039     0.933777   \n",
       "1                              5  34.1559   0.00842284   \n",
       "2                              5  37.1366      1.03321   \n",
       "3                              5  32.7176      1.99581   \n",
       "4                              5  31.6496      2.10965   \n",
       "5                             15  32.1133      1.11093   \n",
       "6                             15  24.6155   0.00372558   \n",
       "7                             15  31.4667      1.11922   \n",
       "8                             15  31.2907      1.22741   \n",
       "9                             15  31.1967      1.27667   \n",
       "10                            20  30.7314      1.16271   \n",
       "11                            20   22.106    0.0062164   \n",
       "12                            20  30.0846      1.14545   \n",
       "13                            20  30.0902      1.17412   \n",
       "14                            20  30.0204      1.19676   \n",
       "15                            25  29.6711      1.20741   \n",
       "16                            25   20.161    0.0101335   \n",
       "17                            25  29.0097      1.16232   \n",
       "18                            25  29.0973      1.15711   \n",
       "19                            25  29.0541       1.1375   \n",
       "20                            30  28.8719      1.23757   \n",
       "21                            30  18.5784   0.00785541   \n",
       "22                            30  28.1871        1.157   \n",
       "23                            30  28.2542      1.13973   \n",
       "24                            30  28.2227      1.12617   \n",
       "25                            50  26.7237      1.29086   \n",
       "26                            50  14.1482   0.00690753   \n",
       "27                            50  25.9211      1.15786   \n",
       "28                            50   25.861      1.08531   \n",
       "29                            50  25.8584      1.08921   \n",
       "30                            75  22.4512     0.632593   \n",
       "31                            75  10.6272   0.00730889   \n",
       "32                            75  24.0996      1.07293   \n",
       "33                            75  23.9952     0.988833   \n",
       "34                            75  23.9792      1.01666   \n",
       "\n",
       "                model_name     Model  \\\n",
       "0       unet-multiple-stds     U-net   \n",
       "1                 original  Original   \n",
       "2    learnlet_0_55_big_bsd  Learnlet   \n",
       "3   learnlet_20_40_big_bsd  Learnlet   \n",
       "4      learnlet_30_big_bsd  Learnlet   \n",
       "5       unet-multiple-stds     U-net   \n",
       "6                 original  Original   \n",
       "7    learnlet_0_55_big_bsd  Learnlet   \n",
       "8   learnlet_20_40_big_bsd  Learnlet   \n",
       "9      learnlet_30_big_bsd  Learnlet   \n",
       "10      unet-multiple-stds     U-net   \n",
       "11                original  Original   \n",
       "12   learnlet_0_55_big_bsd  Learnlet   \n",
       "13  learnlet_20_40_big_bsd  Learnlet   \n",
       "14     learnlet_30_big_bsd  Learnlet   \n",
       "15      unet-multiple-stds     U-net   \n",
       "16                original  Original   \n",
       "17   learnlet_0_55_big_bsd  Learnlet   \n",
       "18  learnlet_20_40_big_bsd  Learnlet   \n",
       "19     learnlet_30_big_bsd  Learnlet   \n",
       "20      unet-multiple-stds     U-net   \n",
       "21                original  Original   \n",
       "22   learnlet_0_55_big_bsd  Learnlet   \n",
       "23  learnlet_20_40_big_bsd  Learnlet   \n",
       "24     learnlet_30_big_bsd  Learnlet   \n",
       "25      unet-multiple-stds     U-net   \n",
       "26                original  Original   \n",
       "27   learnlet_0_55_big_bsd  Learnlet   \n",
       "28  learnlet_20_40_big_bsd  Learnlet   \n",
       "29     learnlet_30_big_bsd  Learnlet   \n",
       "30      unet-multiple-stds     U-net   \n",
       "31                original  Original   \n",
       "32   learnlet_0_55_big_bsd  Learnlet   \n",
       "33  learnlet_20_40_big_bsd  Learnlet   \n",
       "34     learnlet_30_big_bsd  Learnlet   \n",
       "\n",
       "   Range of the standard deviation of the training noise  \n",
       "0                                             [0; 55]     \n",
       "1                                             [0; 55]     \n",
       "2                                             [0; 55]     \n",
       "3                                            [20; 40]     \n",
       "4                                                  30     \n",
       "5                                             [0; 55]     \n",
       "6                                             [0; 55]     \n",
       "7                                             [0; 55]     \n",
       "8                                            [20; 40]     \n",
       "9                                                  30     \n",
       "10                                            [0; 55]     \n",
       "11                                            [0; 55]     \n",
       "12                                            [0; 55]     \n",
       "13                                           [20; 40]     \n",
       "14                                                 30     \n",
       "15                                            [0; 55]     \n",
       "16                                            [0; 55]     \n",
       "17                                            [0; 55]     \n",
       "18                                           [20; 40]     \n",
       "19                                                 30     \n",
       "20                                            [0; 55]     \n",
       "21                                            [0; 55]     \n",
       "22                                            [0; 55]     \n",
       "23                                           [20; 40]     \n",
       "24                                                 30     \n",
       "25                                            [0; 55]     \n",
       "26                                            [0; 55]     \n",
       "27                                            [0; 55]     \n",
       "28                                           [20; 40]     \n",
       "29                                                 30     \n",
       "30                                            [0; 55]     \n",
       "31                                            [0; 55]     \n",
       "32                                            [0; 55]     \n",
       "33                                           [20; 40]     \n",
       "34                                                 30     "
      ]
     },
     "execution_count": 36,
     "metadata": {},
     "output_type": "execute_result"
    }
   ],
   "source": [
    "model_family_str = r'Model'\n",
    "train_stds_str = r'Range of the standard deviation of the training noise'\n",
    "noise_std_str = 'Test noise standard deviation'\n",
    "psnr_str = 'PSNR'\n",
    "# PSNR to plot\n",
    "psnr_to_plot = pd.DataFrame(\n",
    "    columns=[noise_std_str, psnr_str, 'psnr-std-dev', 'model_name', model_family_str, train_stds_str]\n",
    ")\n",
    "\n",
    "def from_name_to_family(model_name):\n",
    "    if 'learnlet' in model_name:\n",
    "        return 'Learnlet'\n",
    "    elif 'unet' in model_name:\n",
    "        return 'U-net'\n",
    "    else:\n",
    "        return 'Original'\n",
    "    \n",
    "def from_name_to_train_stds(model_name):\n",
    "    if '30' in model_name:\n",
    "        return '30'\n",
    "    elif '20_40' in model_name:\n",
    "        return '[20; 40]'\n",
    "    else:\n",
    "        return '[0; 55]'\n",
    "\n",
    "family_model_to_color = {\n",
    "    'U-net': (0.2823529411764706, 0.47058823529411764, 0.8156862745098039),\n",
    "    'Learnlet': (0.9333333333333333, 0.5215686274509804, 0.2901960784313726),\n",
    "    'Original': (0.41568627450980394, 0.8, 0.39215686274509803),\n",
    "}\n",
    "    \n",
    "for i_noise, (noise_std, metrics) in enumerate(noise_std_metrics.items()):\n",
    "    for j_model, (name, m) in enumerate(metrics):\n",
    "        index = i_noise * n_models + j_model\n",
    "        psnr_to_plot.loc[index, noise_std_str] = noise_std\n",
    "        psnr_to_plot.loc[index, psnr_str] = m.metrics['PSNR'].mean()\n",
    "        psnr_to_plot.loc[index, 'psnr-std-dev'] = m.metrics['PSNR'].stddev() / 2\n",
    "        psnr_to_plot.loc[index, 'model_name'] = name\n",
    "        psnr_to_plot.loc[index, train_stds_str] = from_name_to_train_stds(name)\n",
    "        psnr_to_plot.loc[index, model_family_str] = from_name_to_family(name)\n",
    "psnr_to_plot"
   ]
  },
  {
   "cell_type": "code",
   "execution_count": 38,
   "metadata": {
    "scrolled": false
   },
   "outputs": [
    {
     "data": {
      "application/javascript": [
       "/* Put everything inside the global mpl namespace */\n",
       "window.mpl = {};\n",
       "\n",
       "\n",
       "mpl.get_websocket_type = function() {\n",
       "    if (typeof(WebSocket) !== 'undefined') {\n",
       "        return WebSocket;\n",
       "    } else if (typeof(MozWebSocket) !== 'undefined') {\n",
       "        return MozWebSocket;\n",
       "    } else {\n",
       "        alert('Your browser does not have WebSocket support. ' +\n",
       "              'Please try Chrome, Safari or Firefox ≥ 6. ' +\n",
       "              'Firefox 4 and 5 are also supported but you ' +\n",
       "              'have to enable WebSockets in about:config.');\n",
       "    };\n",
       "}\n",
       "\n",
       "mpl.figure = function(figure_id, websocket, ondownload, parent_element) {\n",
       "    this.id = figure_id;\n",
       "\n",
       "    this.ws = websocket;\n",
       "\n",
       "    this.supports_binary = (this.ws.binaryType != undefined);\n",
       "\n",
       "    if (!this.supports_binary) {\n",
       "        var warnings = document.getElementById(\"mpl-warnings\");\n",
       "        if (warnings) {\n",
       "            warnings.style.display = 'block';\n",
       "            warnings.textContent = (\n",
       "                \"This browser does not support binary websocket messages. \" +\n",
       "                    \"Performance may be slow.\");\n",
       "        }\n",
       "    }\n",
       "\n",
       "    this.imageObj = new Image();\n",
       "\n",
       "    this.context = undefined;\n",
       "    this.message = undefined;\n",
       "    this.canvas = undefined;\n",
       "    this.rubberband_canvas = undefined;\n",
       "    this.rubberband_context = undefined;\n",
       "    this.format_dropdown = undefined;\n",
       "\n",
       "    this.image_mode = 'full';\n",
       "\n",
       "    this.root = $('<div/>');\n",
       "    this._root_extra_style(this.root)\n",
       "    this.root.attr('style', 'display: inline-block');\n",
       "\n",
       "    $(parent_element).append(this.root);\n",
       "\n",
       "    this._init_header(this);\n",
       "    this._init_canvas(this);\n",
       "    this._init_toolbar(this);\n",
       "\n",
       "    var fig = this;\n",
       "\n",
       "    this.waiting = false;\n",
       "\n",
       "    this.ws.onopen =  function () {\n",
       "            fig.send_message(\"supports_binary\", {value: fig.supports_binary});\n",
       "            fig.send_message(\"send_image_mode\", {});\n",
       "            if (mpl.ratio != 1) {\n",
       "                fig.send_message(\"set_dpi_ratio\", {'dpi_ratio': mpl.ratio});\n",
       "            }\n",
       "            fig.send_message(\"refresh\", {});\n",
       "        }\n",
       "\n",
       "    this.imageObj.onload = function() {\n",
       "            if (fig.image_mode == 'full') {\n",
       "                // Full images could contain transparency (where diff images\n",
       "                // almost always do), so we need to clear the canvas so that\n",
       "                // there is no ghosting.\n",
       "                fig.context.clearRect(0, 0, fig.canvas.width, fig.canvas.height);\n",
       "            }\n",
       "            fig.context.drawImage(fig.imageObj, 0, 0);\n",
       "        };\n",
       "\n",
       "    this.imageObj.onunload = function() {\n",
       "        fig.ws.close();\n",
       "    }\n",
       "\n",
       "    this.ws.onmessage = this._make_on_message_function(this);\n",
       "\n",
       "    this.ondownload = ondownload;\n",
       "}\n",
       "\n",
       "mpl.figure.prototype._init_header = function() {\n",
       "    var titlebar = $(\n",
       "        '<div class=\"ui-dialog-titlebar ui-widget-header ui-corner-all ' +\n",
       "        'ui-helper-clearfix\"/>');\n",
       "    var titletext = $(\n",
       "        '<div class=\"ui-dialog-title\" style=\"width: 100%; ' +\n",
       "        'text-align: center; padding: 3px;\"/>');\n",
       "    titlebar.append(titletext)\n",
       "    this.root.append(titlebar);\n",
       "    this.header = titletext[0];\n",
       "}\n",
       "\n",
       "\n",
       "\n",
       "mpl.figure.prototype._canvas_extra_style = function(canvas_div) {\n",
       "\n",
       "}\n",
       "\n",
       "\n",
       "mpl.figure.prototype._root_extra_style = function(canvas_div) {\n",
       "\n",
       "}\n",
       "\n",
       "mpl.figure.prototype._init_canvas = function() {\n",
       "    var fig = this;\n",
       "\n",
       "    var canvas_div = $('<div/>');\n",
       "\n",
       "    canvas_div.attr('style', 'position: relative; clear: both; outline: 0');\n",
       "\n",
       "    function canvas_keyboard_event(event) {\n",
       "        return fig.key_event(event, event['data']);\n",
       "    }\n",
       "\n",
       "    canvas_div.keydown('key_press', canvas_keyboard_event);\n",
       "    canvas_div.keyup('key_release', canvas_keyboard_event);\n",
       "    this.canvas_div = canvas_div\n",
       "    this._canvas_extra_style(canvas_div)\n",
       "    this.root.append(canvas_div);\n",
       "\n",
       "    var canvas = $('<canvas/>');\n",
       "    canvas.addClass('mpl-canvas');\n",
       "    canvas.attr('style', \"left: 0; top: 0; z-index: 0; outline: 0\")\n",
       "\n",
       "    this.canvas = canvas[0];\n",
       "    this.context = canvas[0].getContext(\"2d\");\n",
       "\n",
       "    var backingStore = this.context.backingStorePixelRatio ||\n",
       "\tthis.context.webkitBackingStorePixelRatio ||\n",
       "\tthis.context.mozBackingStorePixelRatio ||\n",
       "\tthis.context.msBackingStorePixelRatio ||\n",
       "\tthis.context.oBackingStorePixelRatio ||\n",
       "\tthis.context.backingStorePixelRatio || 1;\n",
       "\n",
       "    mpl.ratio = (window.devicePixelRatio || 1) / backingStore;\n",
       "\n",
       "    var rubberband = $('<canvas/>');\n",
       "    rubberband.attr('style', \"position: absolute; left: 0; top: 0; z-index: 1;\")\n",
       "\n",
       "    var pass_mouse_events = true;\n",
       "\n",
       "    canvas_div.resizable({\n",
       "        start: function(event, ui) {\n",
       "            pass_mouse_events = false;\n",
       "        },\n",
       "        resize: function(event, ui) {\n",
       "            fig.request_resize(ui.size.width, ui.size.height);\n",
       "        },\n",
       "        stop: function(event, ui) {\n",
       "            pass_mouse_events = true;\n",
       "            fig.request_resize(ui.size.width, ui.size.height);\n",
       "        },\n",
       "    });\n",
       "\n",
       "    function mouse_event_fn(event) {\n",
       "        if (pass_mouse_events)\n",
       "            return fig.mouse_event(event, event['data']);\n",
       "    }\n",
       "\n",
       "    rubberband.mousedown('button_press', mouse_event_fn);\n",
       "    rubberband.mouseup('button_release', mouse_event_fn);\n",
       "    // Throttle sequential mouse events to 1 every 20ms.\n",
       "    rubberband.mousemove('motion_notify', mouse_event_fn);\n",
       "\n",
       "    rubberband.mouseenter('figure_enter', mouse_event_fn);\n",
       "    rubberband.mouseleave('figure_leave', mouse_event_fn);\n",
       "\n",
       "    canvas_div.on(\"wheel\", function (event) {\n",
       "        event = event.originalEvent;\n",
       "        event['data'] = 'scroll'\n",
       "        if (event.deltaY < 0) {\n",
       "            event.step = 1;\n",
       "        } else {\n",
       "            event.step = -1;\n",
       "        }\n",
       "        mouse_event_fn(event);\n",
       "    });\n",
       "\n",
       "    canvas_div.append(canvas);\n",
       "    canvas_div.append(rubberband);\n",
       "\n",
       "    this.rubberband = rubberband;\n",
       "    this.rubberband_canvas = rubberband[0];\n",
       "    this.rubberband_context = rubberband[0].getContext(\"2d\");\n",
       "    this.rubberband_context.strokeStyle = \"#000000\";\n",
       "\n",
       "    this._resize_canvas = function(width, height) {\n",
       "        // Keep the size of the canvas, canvas container, and rubber band\n",
       "        // canvas in synch.\n",
       "        canvas_div.css('width', width)\n",
       "        canvas_div.css('height', height)\n",
       "\n",
       "        canvas.attr('width', width * mpl.ratio);\n",
       "        canvas.attr('height', height * mpl.ratio);\n",
       "        canvas.attr('style', 'width: ' + width + 'px; height: ' + height + 'px;');\n",
       "\n",
       "        rubberband.attr('width', width);\n",
       "        rubberband.attr('height', height);\n",
       "    }\n",
       "\n",
       "    // Set the figure to an initial 600x600px, this will subsequently be updated\n",
       "    // upon first draw.\n",
       "    this._resize_canvas(600, 600);\n",
       "\n",
       "    // Disable right mouse context menu.\n",
       "    $(this.rubberband_canvas).bind(\"contextmenu\",function(e){\n",
       "        return false;\n",
       "    });\n",
       "\n",
       "    function set_focus () {\n",
       "        canvas.focus();\n",
       "        canvas_div.focus();\n",
       "    }\n",
       "\n",
       "    window.setTimeout(set_focus, 100);\n",
       "}\n",
       "\n",
       "mpl.figure.prototype._init_toolbar = function() {\n",
       "    var fig = this;\n",
       "\n",
       "    var nav_element = $('<div/>');\n",
       "    nav_element.attr('style', 'width: 100%');\n",
       "    this.root.append(nav_element);\n",
       "\n",
       "    // Define a callback function for later on.\n",
       "    function toolbar_event(event) {\n",
       "        return fig.toolbar_button_onclick(event['data']);\n",
       "    }\n",
       "    function toolbar_mouse_event(event) {\n",
       "        return fig.toolbar_button_onmouseover(event['data']);\n",
       "    }\n",
       "\n",
       "    for(var toolbar_ind in mpl.toolbar_items) {\n",
       "        var name = mpl.toolbar_items[toolbar_ind][0];\n",
       "        var tooltip = mpl.toolbar_items[toolbar_ind][1];\n",
       "        var image = mpl.toolbar_items[toolbar_ind][2];\n",
       "        var method_name = mpl.toolbar_items[toolbar_ind][3];\n",
       "\n",
       "        if (!name) {\n",
       "            // put a spacer in here.\n",
       "            continue;\n",
       "        }\n",
       "        var button = $('<button/>');\n",
       "        button.addClass('ui-button ui-widget ui-state-default ui-corner-all ' +\n",
       "                        'ui-button-icon-only');\n",
       "        button.attr('role', 'button');\n",
       "        button.attr('aria-disabled', 'false');\n",
       "        button.click(method_name, toolbar_event);\n",
       "        button.mouseover(tooltip, toolbar_mouse_event);\n",
       "\n",
       "        var icon_img = $('<span/>');\n",
       "        icon_img.addClass('ui-button-icon-primary ui-icon');\n",
       "        icon_img.addClass(image);\n",
       "        icon_img.addClass('ui-corner-all');\n",
       "\n",
       "        var tooltip_span = $('<span/>');\n",
       "        tooltip_span.addClass('ui-button-text');\n",
       "        tooltip_span.html(tooltip);\n",
       "\n",
       "        button.append(icon_img);\n",
       "        button.append(tooltip_span);\n",
       "\n",
       "        nav_element.append(button);\n",
       "    }\n",
       "\n",
       "    var fmt_picker_span = $('<span/>');\n",
       "\n",
       "    var fmt_picker = $('<select/>');\n",
       "    fmt_picker.addClass('mpl-toolbar-option ui-widget ui-widget-content');\n",
       "    fmt_picker_span.append(fmt_picker);\n",
       "    nav_element.append(fmt_picker_span);\n",
       "    this.format_dropdown = fmt_picker[0];\n",
       "\n",
       "    for (var ind in mpl.extensions) {\n",
       "        var fmt = mpl.extensions[ind];\n",
       "        var option = $(\n",
       "            '<option/>', {selected: fmt === mpl.default_extension}).html(fmt);\n",
       "        fmt_picker.append(option);\n",
       "    }\n",
       "\n",
       "    // Add hover states to the ui-buttons\n",
       "    $( \".ui-button\" ).hover(\n",
       "        function() { $(this).addClass(\"ui-state-hover\");},\n",
       "        function() { $(this).removeClass(\"ui-state-hover\");}\n",
       "    );\n",
       "\n",
       "    var status_bar = $('<span class=\"mpl-message\"/>');\n",
       "    nav_element.append(status_bar);\n",
       "    this.message = status_bar[0];\n",
       "}\n",
       "\n",
       "mpl.figure.prototype.request_resize = function(x_pixels, y_pixels) {\n",
       "    // Request matplotlib to resize the figure. Matplotlib will then trigger a resize in the client,\n",
       "    // which will in turn request a refresh of the image.\n",
       "    this.send_message('resize', {'width': x_pixels, 'height': y_pixels});\n",
       "}\n",
       "\n",
       "mpl.figure.prototype.send_message = function(type, properties) {\n",
       "    properties['type'] = type;\n",
       "    properties['figure_id'] = this.id;\n",
       "    this.ws.send(JSON.stringify(properties));\n",
       "}\n",
       "\n",
       "mpl.figure.prototype.send_draw_message = function() {\n",
       "    if (!this.waiting) {\n",
       "        this.waiting = true;\n",
       "        this.ws.send(JSON.stringify({type: \"draw\", figure_id: this.id}));\n",
       "    }\n",
       "}\n",
       "\n",
       "\n",
       "mpl.figure.prototype.handle_save = function(fig, msg) {\n",
       "    var format_dropdown = fig.format_dropdown;\n",
       "    var format = format_dropdown.options[format_dropdown.selectedIndex].value;\n",
       "    fig.ondownload(fig, format);\n",
       "}\n",
       "\n",
       "\n",
       "mpl.figure.prototype.handle_resize = function(fig, msg) {\n",
       "    var size = msg['size'];\n",
       "    if (size[0] != fig.canvas.width || size[1] != fig.canvas.height) {\n",
       "        fig._resize_canvas(size[0], size[1]);\n",
       "        fig.send_message(\"refresh\", {});\n",
       "    };\n",
       "}\n",
       "\n",
       "mpl.figure.prototype.handle_rubberband = function(fig, msg) {\n",
       "    var x0 = msg['x0'] / mpl.ratio;\n",
       "    var y0 = (fig.canvas.height - msg['y0']) / mpl.ratio;\n",
       "    var x1 = msg['x1'] / mpl.ratio;\n",
       "    var y1 = (fig.canvas.height - msg['y1']) / mpl.ratio;\n",
       "    x0 = Math.floor(x0) + 0.5;\n",
       "    y0 = Math.floor(y0) + 0.5;\n",
       "    x1 = Math.floor(x1) + 0.5;\n",
       "    y1 = Math.floor(y1) + 0.5;\n",
       "    var min_x = Math.min(x0, x1);\n",
       "    var min_y = Math.min(y0, y1);\n",
       "    var width = Math.abs(x1 - x0);\n",
       "    var height = Math.abs(y1 - y0);\n",
       "\n",
       "    fig.rubberband_context.clearRect(\n",
       "        0, 0, fig.canvas.width / mpl.ratio, fig.canvas.height / mpl.ratio);\n",
       "\n",
       "    fig.rubberband_context.strokeRect(min_x, min_y, width, height);\n",
       "}\n",
       "\n",
       "mpl.figure.prototype.handle_figure_label = function(fig, msg) {\n",
       "    // Updates the figure title.\n",
       "    fig.header.textContent = msg['label'];\n",
       "}\n",
       "\n",
       "mpl.figure.prototype.handle_cursor = function(fig, msg) {\n",
       "    var cursor = msg['cursor'];\n",
       "    switch(cursor)\n",
       "    {\n",
       "    case 0:\n",
       "        cursor = 'pointer';\n",
       "        break;\n",
       "    case 1:\n",
       "        cursor = 'default';\n",
       "        break;\n",
       "    case 2:\n",
       "        cursor = 'crosshair';\n",
       "        break;\n",
       "    case 3:\n",
       "        cursor = 'move';\n",
       "        break;\n",
       "    }\n",
       "    fig.rubberband_canvas.style.cursor = cursor;\n",
       "}\n",
       "\n",
       "mpl.figure.prototype.handle_message = function(fig, msg) {\n",
       "    fig.message.textContent = msg['message'];\n",
       "}\n",
       "\n",
       "mpl.figure.prototype.handle_draw = function(fig, msg) {\n",
       "    // Request the server to send over a new figure.\n",
       "    fig.send_draw_message();\n",
       "}\n",
       "\n",
       "mpl.figure.prototype.handle_image_mode = function(fig, msg) {\n",
       "    fig.image_mode = msg['mode'];\n",
       "}\n",
       "\n",
       "mpl.figure.prototype.updated_canvas_event = function() {\n",
       "    // Called whenever the canvas gets updated.\n",
       "    this.send_message(\"ack\", {});\n",
       "}\n",
       "\n",
       "// A function to construct a web socket function for onmessage handling.\n",
       "// Called in the figure constructor.\n",
       "mpl.figure.prototype._make_on_message_function = function(fig) {\n",
       "    return function socket_on_message(evt) {\n",
       "        if (evt.data instanceof Blob) {\n",
       "            /* FIXME: We get \"Resource interpreted as Image but\n",
       "             * transferred with MIME type text/plain:\" errors on\n",
       "             * Chrome.  But how to set the MIME type?  It doesn't seem\n",
       "             * to be part of the websocket stream */\n",
       "            evt.data.type = \"image/png\";\n",
       "\n",
       "            /* Free the memory for the previous frames */\n",
       "            if (fig.imageObj.src) {\n",
       "                (window.URL || window.webkitURL).revokeObjectURL(\n",
       "                    fig.imageObj.src);\n",
       "            }\n",
       "\n",
       "            fig.imageObj.src = (window.URL || window.webkitURL).createObjectURL(\n",
       "                evt.data);\n",
       "            fig.updated_canvas_event();\n",
       "            fig.waiting = false;\n",
       "            return;\n",
       "        }\n",
       "        else if (typeof evt.data === 'string' && evt.data.slice(0, 21) == \"data:image/png;base64\") {\n",
       "            fig.imageObj.src = evt.data;\n",
       "            fig.updated_canvas_event();\n",
       "            fig.waiting = false;\n",
       "            return;\n",
       "        }\n",
       "\n",
       "        var msg = JSON.parse(evt.data);\n",
       "        var msg_type = msg['type'];\n",
       "\n",
       "        // Call the  \"handle_{type}\" callback, which takes\n",
       "        // the figure and JSON message as its only arguments.\n",
       "        try {\n",
       "            var callback = fig[\"handle_\" + msg_type];\n",
       "        } catch (e) {\n",
       "            console.log(\"No handler for the '\" + msg_type + \"' message type: \", msg);\n",
       "            return;\n",
       "        }\n",
       "\n",
       "        if (callback) {\n",
       "            try {\n",
       "                // console.log(\"Handling '\" + msg_type + \"' message: \", msg);\n",
       "                callback(fig, msg);\n",
       "            } catch (e) {\n",
       "                console.log(\"Exception inside the 'handler_\" + msg_type + \"' callback:\", e, e.stack, msg);\n",
       "            }\n",
       "        }\n",
       "    };\n",
       "}\n",
       "\n",
       "// from http://stackoverflow.com/questions/1114465/getting-mouse-location-in-canvas\n",
       "mpl.findpos = function(e) {\n",
       "    //this section is from http://www.quirksmode.org/js/events_properties.html\n",
       "    var targ;\n",
       "    if (!e)\n",
       "        e = window.event;\n",
       "    if (e.target)\n",
       "        targ = e.target;\n",
       "    else if (e.srcElement)\n",
       "        targ = e.srcElement;\n",
       "    if (targ.nodeType == 3) // defeat Safari bug\n",
       "        targ = targ.parentNode;\n",
       "\n",
       "    // jQuery normalizes the pageX and pageY\n",
       "    // pageX,Y are the mouse positions relative to the document\n",
       "    // offset() returns the position of the element relative to the document\n",
       "    var x = e.pageX - $(targ).offset().left;\n",
       "    var y = e.pageY - $(targ).offset().top;\n",
       "\n",
       "    return {\"x\": x, \"y\": y};\n",
       "};\n",
       "\n",
       "/*\n",
       " * return a copy of an object with only non-object keys\n",
       " * we need this to avoid circular references\n",
       " * http://stackoverflow.com/a/24161582/3208463\n",
       " */\n",
       "function simpleKeys (original) {\n",
       "  return Object.keys(original).reduce(function (obj, key) {\n",
       "    if (typeof original[key] !== 'object')\n",
       "        obj[key] = original[key]\n",
       "    return obj;\n",
       "  }, {});\n",
       "}\n",
       "\n",
       "mpl.figure.prototype.mouse_event = function(event, name) {\n",
       "    var canvas_pos = mpl.findpos(event)\n",
       "\n",
       "    if (name === 'button_press')\n",
       "    {\n",
       "        this.canvas.focus();\n",
       "        this.canvas_div.focus();\n",
       "    }\n",
       "\n",
       "    var x = canvas_pos.x * mpl.ratio;\n",
       "    var y = canvas_pos.y * mpl.ratio;\n",
       "\n",
       "    this.send_message(name, {x: x, y: y, button: event.button,\n",
       "                             step: event.step,\n",
       "                             guiEvent: simpleKeys(event)});\n",
       "\n",
       "    /* This prevents the web browser from automatically changing to\n",
       "     * the text insertion cursor when the button is pressed.  We want\n",
       "     * to control all of the cursor setting manually through the\n",
       "     * 'cursor' event from matplotlib */\n",
       "    event.preventDefault();\n",
       "    return false;\n",
       "}\n",
       "\n",
       "mpl.figure.prototype._key_event_extra = function(event, name) {\n",
       "    // Handle any extra behaviour associated with a key event\n",
       "}\n",
       "\n",
       "mpl.figure.prototype.key_event = function(event, name) {\n",
       "\n",
       "    // Prevent repeat events\n",
       "    if (name == 'key_press')\n",
       "    {\n",
       "        if (event.which === this._key)\n",
       "            return;\n",
       "        else\n",
       "            this._key = event.which;\n",
       "    }\n",
       "    if (name == 'key_release')\n",
       "        this._key = null;\n",
       "\n",
       "    var value = '';\n",
       "    if (event.ctrlKey && event.which != 17)\n",
       "        value += \"ctrl+\";\n",
       "    if (event.altKey && event.which != 18)\n",
       "        value += \"alt+\";\n",
       "    if (event.shiftKey && event.which != 16)\n",
       "        value += \"shift+\";\n",
       "\n",
       "    value += 'k';\n",
       "    value += event.which.toString();\n",
       "\n",
       "    this._key_event_extra(event, name);\n",
       "\n",
       "    this.send_message(name, {key: value,\n",
       "                             guiEvent: simpleKeys(event)});\n",
       "    return false;\n",
       "}\n",
       "\n",
       "mpl.figure.prototype.toolbar_button_onclick = function(name) {\n",
       "    if (name == 'download') {\n",
       "        this.handle_save(this, null);\n",
       "    } else {\n",
       "        this.send_message(\"toolbar_button\", {name: name});\n",
       "    }\n",
       "};\n",
       "\n",
       "mpl.figure.prototype.toolbar_button_onmouseover = function(tooltip) {\n",
       "    this.message.textContent = tooltip;\n",
       "};\n",
       "mpl.toolbar_items = [[\"Home\", \"Reset original view\", \"fa fa-home icon-home\", \"home\"], [\"Back\", \"Back to previous view\", \"fa fa-arrow-left icon-arrow-left\", \"back\"], [\"Forward\", \"Forward to next view\", \"fa fa-arrow-right icon-arrow-right\", \"forward\"], [\"\", \"\", \"\", \"\"], [\"Pan\", \"Pan axes with left mouse, zoom with right\", \"fa fa-arrows icon-move\", \"pan\"], [\"Zoom\", \"Zoom to rectangle\", \"fa fa-square-o icon-check-empty\", \"zoom\"], [\"\", \"\", \"\", \"\"], [\"Download\", \"Download plot\", \"fa fa-floppy-o icon-save\", \"download\"]];\n",
       "\n",
       "mpl.extensions = [\"eps\", \"jpeg\", \"pdf\", \"png\", \"ps\", \"raw\", \"svg\", \"tif\"];\n",
       "\n",
       "mpl.default_extension = \"png\";var comm_websocket_adapter = function(comm) {\n",
       "    // Create a \"websocket\"-like object which calls the given IPython comm\n",
       "    // object with the appropriate methods. Currently this is a non binary\n",
       "    // socket, so there is still some room for performance tuning.\n",
       "    var ws = {};\n",
       "\n",
       "    ws.close = function() {\n",
       "        comm.close()\n",
       "    };\n",
       "    ws.send = function(m) {\n",
       "        //console.log('sending', m);\n",
       "        comm.send(m);\n",
       "    };\n",
       "    // Register the callback with on_msg.\n",
       "    comm.on_msg(function(msg) {\n",
       "        //console.log('receiving', msg['content']['data'], msg);\n",
       "        // Pass the mpl event to the overridden (by mpl) onmessage function.\n",
       "        ws.onmessage(msg['content']['data'])\n",
       "    });\n",
       "    return ws;\n",
       "}\n",
       "\n",
       "mpl.mpl_figure_comm = function(comm, msg) {\n",
       "    // This is the function which gets called when the mpl process\n",
       "    // starts-up an IPython Comm through the \"matplotlib\" channel.\n",
       "\n",
       "    var id = msg.content.data.id;\n",
       "    // Get hold of the div created by the display call when the Comm\n",
       "    // socket was opened in Python.\n",
       "    var element = $(\"#\" + id);\n",
       "    var ws_proxy = comm_websocket_adapter(comm)\n",
       "\n",
       "    function ondownload(figure, format) {\n",
       "        window.open(figure.imageObj.src);\n",
       "    }\n",
       "\n",
       "    var fig = new mpl.figure(id, ws_proxy,\n",
       "                           ondownload,\n",
       "                           element.get(0));\n",
       "\n",
       "    // Call onopen now - mpl needs it, as it is assuming we've passed it a real\n",
       "    // web socket which is closed, not our websocket->open comm proxy.\n",
       "    ws_proxy.onopen();\n",
       "\n",
       "    fig.parent_element = element.get(0);\n",
       "    fig.cell_info = mpl.find_output_cell(\"<div id='\" + id + \"'></div>\");\n",
       "    if (!fig.cell_info) {\n",
       "        console.error(\"Failed to find cell for figure\", id, fig);\n",
       "        return;\n",
       "    }\n",
       "\n",
       "    var output_index = fig.cell_info[2]\n",
       "    var cell = fig.cell_info[0];\n",
       "\n",
       "};\n",
       "\n",
       "mpl.figure.prototype.handle_close = function(fig, msg) {\n",
       "    var width = fig.canvas.width/mpl.ratio\n",
       "    fig.root.unbind('remove')\n",
       "\n",
       "    // Update the output cell to use the data from the current canvas.\n",
       "    fig.push_to_output();\n",
       "    var dataURL = fig.canvas.toDataURL();\n",
       "    // Re-enable the keyboard manager in IPython - without this line, in FF,\n",
       "    // the notebook keyboard shortcuts fail.\n",
       "    IPython.keyboard_manager.enable()\n",
       "    $(fig.parent_element).html('<img src=\"' + dataURL + '\" width=\"' + width + '\">');\n",
       "    fig.close_ws(fig, msg);\n",
       "}\n",
       "\n",
       "mpl.figure.prototype.close_ws = function(fig, msg){\n",
       "    fig.send_message('closing', msg);\n",
       "    // fig.ws.close()\n",
       "}\n",
       "\n",
       "mpl.figure.prototype.push_to_output = function(remove_interactive) {\n",
       "    // Turn the data on the canvas into data in the output cell.\n",
       "    var width = this.canvas.width/mpl.ratio\n",
       "    var dataURL = this.canvas.toDataURL();\n",
       "    this.cell_info[1]['text/html'] = '<img src=\"' + dataURL + '\" width=\"' + width + '\">';\n",
       "}\n",
       "\n",
       "mpl.figure.prototype.updated_canvas_event = function() {\n",
       "    // Tell IPython that the notebook contents must change.\n",
       "    IPython.notebook.set_dirty(true);\n",
       "    this.send_message(\"ack\", {});\n",
       "    var fig = this;\n",
       "    // Wait a second, then push the new image to the DOM so\n",
       "    // that it is saved nicely (might be nice to debounce this).\n",
       "    setTimeout(function () { fig.push_to_output() }, 1000);\n",
       "}\n",
       "\n",
       "mpl.figure.prototype._init_toolbar = function() {\n",
       "    var fig = this;\n",
       "\n",
       "    var nav_element = $('<div/>');\n",
       "    nav_element.attr('style', 'width: 100%');\n",
       "    this.root.append(nav_element);\n",
       "\n",
       "    // Define a callback function for later on.\n",
       "    function toolbar_event(event) {\n",
       "        return fig.toolbar_button_onclick(event['data']);\n",
       "    }\n",
       "    function toolbar_mouse_event(event) {\n",
       "        return fig.toolbar_button_onmouseover(event['data']);\n",
       "    }\n",
       "\n",
       "    for(var toolbar_ind in mpl.toolbar_items){\n",
       "        var name = mpl.toolbar_items[toolbar_ind][0];\n",
       "        var tooltip = mpl.toolbar_items[toolbar_ind][1];\n",
       "        var image = mpl.toolbar_items[toolbar_ind][2];\n",
       "        var method_name = mpl.toolbar_items[toolbar_ind][3];\n",
       "\n",
       "        if (!name) { continue; };\n",
       "\n",
       "        var button = $('<button class=\"btn btn-default\" href=\"#\" title=\"' + name + '\"><i class=\"fa ' + image + ' fa-lg\"></i></button>');\n",
       "        button.click(method_name, toolbar_event);\n",
       "        button.mouseover(tooltip, toolbar_mouse_event);\n",
       "        nav_element.append(button);\n",
       "    }\n",
       "\n",
       "    // Add the status bar.\n",
       "    var status_bar = $('<span class=\"mpl-message\" style=\"text-align:right; float: right;\"/>');\n",
       "    nav_element.append(status_bar);\n",
       "    this.message = status_bar[0];\n",
       "\n",
       "    // Add the close button to the window.\n",
       "    var buttongrp = $('<div class=\"btn-group inline pull-right\"></div>');\n",
       "    var button = $('<button class=\"btn btn-mini btn-primary\" href=\"#\" title=\"Stop Interaction\"><i class=\"fa fa-power-off icon-remove icon-large\"></i></button>');\n",
       "    button.click(function (evt) { fig.handle_close(fig, {}); } );\n",
       "    button.mouseover('Stop Interaction', toolbar_mouse_event);\n",
       "    buttongrp.append(button);\n",
       "    var titlebar = this.root.find($('.ui-dialog-titlebar'));\n",
       "    titlebar.prepend(buttongrp);\n",
       "}\n",
       "\n",
       "mpl.figure.prototype._root_extra_style = function(el){\n",
       "    var fig = this\n",
       "    el.on(\"remove\", function(){\n",
       "\tfig.close_ws(fig, {});\n",
       "    });\n",
       "}\n",
       "\n",
       "mpl.figure.prototype._canvas_extra_style = function(el){\n",
       "    // this is important to make the div 'focusable\n",
       "    el.attr('tabindex', 0)\n",
       "    // reach out to IPython and tell the keyboard manager to turn it's self\n",
       "    // off when our div gets focus\n",
       "\n",
       "    // location in version 3\n",
       "    if (IPython.notebook.keyboard_manager) {\n",
       "        IPython.notebook.keyboard_manager.register_events(el);\n",
       "    }\n",
       "    else {\n",
       "        // location in version 2\n",
       "        IPython.keyboard_manager.register_events(el);\n",
       "    }\n",
       "\n",
       "}\n",
       "\n",
       "mpl.figure.prototype._key_event_extra = function(event, name) {\n",
       "    var manager = IPython.notebook.keyboard_manager;\n",
       "    if (!manager)\n",
       "        manager = IPython.keyboard_manager;\n",
       "\n",
       "    // Check for shift+enter\n",
       "    if (event.shiftKey && event.which == 13) {\n",
       "        this.canvas_div.blur();\n",
       "        // select the cell after this one\n",
       "        var index = IPython.notebook.find_cell_index(this.cell_info[0]);\n",
       "        IPython.notebook.select(index + 1);\n",
       "    }\n",
       "}\n",
       "\n",
       "mpl.figure.prototype.handle_save = function(fig, msg) {\n",
       "    fig.ondownload(fig, null);\n",
       "}\n",
       "\n",
       "\n",
       "mpl.find_output_cell = function(html_output) {\n",
       "    // Return the cell and output element which can be found *uniquely* in the notebook.\n",
       "    // Note - this is a bit hacky, but it is done because the \"notebook_saving.Notebook\"\n",
       "    // IPython event is triggered only after the cells have been serialised, which for\n",
       "    // our purposes (turning an active figure into a static one), is too late.\n",
       "    var cells = IPython.notebook.get_cells();\n",
       "    var ncells = cells.length;\n",
       "    for (var i=0; i<ncells; i++) {\n",
       "        var cell = cells[i];\n",
       "        if (cell.cell_type === 'code'){\n",
       "            for (var j=0; j<cell.output_area.outputs.length; j++) {\n",
       "                var data = cell.output_area.outputs[j];\n",
       "                if (data.data) {\n",
       "                    // IPython >= 3 moved mimebundle to data attribute of output\n",
       "                    data = data.data;\n",
       "                }\n",
       "                if (data['text/html'] == html_output) {\n",
       "                    return [cell, data, j];\n",
       "                }\n",
       "            }\n",
       "        }\n",
       "    }\n",
       "}\n",
       "\n",
       "// Register the function which deals with the matplotlib target/channel.\n",
       "// The kernel may be null if the page has been refreshed.\n",
       "if (IPython.notebook.kernel != null) {\n",
       "    IPython.notebook.kernel.comm_manager.register_target('matplotlib', mpl.mpl_figure_comm);\n",
       "}\n"
      ],
      "text/plain": [
       "<IPython.core.display.Javascript object>"
      ]
     },
     "metadata": {},
     "output_type": "display_data"
    },
    {
     "data": {
      "text/html": [
       "<img src=\"data:image/png;base64,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\" width=\"900\">"
      ],
      "text/plain": [
       "<IPython.core.display.HTML object>"
      ]
     },
     "metadata": {},
     "output_type": "display_data"
    },
    {
     "data": {
      "text/plain": [
       "[None, None]"
      ]
     },
     "execution_count": 38,
     "metadata": {},
     "output_type": "execute_result"
    }
   ],
   "source": [
    "psnr_to_plot[psnr_str] = psnr_to_plot[psnr_str].astype(float)\n",
    "lplot = sns.lineplot(\n",
    "    x=noise_std_str, \n",
    "    y=psnr_str, \n",
    "    hue=model_family_str,\n",
    "    hue_order=['U-net', 'Learnlet', 'Original'],\n",
    "    style=train_stds_str,\n",
    "    data=psnr_to_plot,\n",
    "    palette=family_model_to_color,\n",
    ")\n",
    "lplot.errorbar(\n",
    "    x=noise_std_str, \n",
    "    y=psnr_str,\n",
    "    yerr='psnr-std-dev',\n",
    "    fmt='none',\n",
    "    ecolor=[family_model_to_color[mf] for mf in psnr_to_plot[model_family_str]],\n",
    "    data=psnr_to_plot,\n",
    "    alpha=0.3,\n",
    "#     capsize=0.2,\n",
    ")\n",
    "plt.setp(lplot.get_legend().get_title(), fontsize='10')"
   ]
  },
  {
   "cell_type": "code",
   "execution_count": null,
   "metadata": {},
   "outputs": [],
   "source": []
  }
 ],
 "metadata": {
  "kernelspec": {
   "display_name": "Python 3",
   "language": "python",
   "name": "python3"
  },
  "language_info": {
   "codemirror_mode": {
    "name": "ipython",
    "version": 3
   },
   "file_extension": ".py",
   "mimetype": "text/x-python",
   "name": "python",
   "nbconvert_exporter": "python",
   "pygments_lexer": "ipython3",
   "version": "3.6.8"
  },
  "notify_time": "30"
 },
 "nbformat": 4,
 "nbformat_minor": 2
}
