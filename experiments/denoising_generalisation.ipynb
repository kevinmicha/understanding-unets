{
 "cells": [
  {
   "cell_type": "code",
   "execution_count": 1,
   "metadata": {},
   "outputs": [
    {
     "name": "stdout",
     "output_type": "stream",
     "text": [
      "/volatile/home/Zaccharie/workspace/understanding-unets\n"
     ]
    }
   ],
   "source": [
    "%cd .."
   ]
  },
  {
   "cell_type": "code",
   "execution_count": 2,
   "metadata": {},
   "outputs": [],
   "source": [
    "# this just to make sure we are using only on CPU\n",
    "import os\n",
    "os.environ[\"CUDA_VISIBLE_DEVICES\"]=\"-1\""
   ]
  },
  {
   "cell_type": "code",
   "execution_count": 3,
   "metadata": {},
   "outputs": [
    {
     "name": "stdout",
     "output_type": "stream",
     "text": [
      "\n",
      "                 .|'''|       /.\\      '||'''|,\n",
      "                 ||          // \\\\      ||   ||\n",
      "'||''|, '||  ||` `|'''|,    //...\\\\     ||...|'\n",
      " ||  ||  `|..||   .   ||   //     \\\\    ||\n",
      " ||..|'      ||   |...|' .//       \\\\. .||\n",
      " ||       ,  |'\n",
      ".||        ''\n",
      "\n",
      "Package version: 0.0.3\n",
      "\n",
      "License: CeCILL-B\n",
      "\n",
      "Authors: \n",
      "\n",
      "Antoine Grigis <antoine.grigis@cea.fr>\n",
      "Samuel Farrens <samuel.farrens@cea.fr>\n",
      "Jean-Luc Starck <jl.stark@cea.fr>\n",
      "Philippe Ciuciu <philippe.ciuciu@cea.fr>\n",
      "\n",
      "Dependencies: \n",
      "\n",
      "scipy          : >=1.3.0   - required | 1.4.1     installed\n",
      "numpy          : >=1.16.4  - required | 1.17.4    installed\n",
      "matplotlib     : >=3.0.0   - required | 3.1.2     installed\n",
      "astropy        : >=3.0.0   - required | 3.2.3     installed\n",
      "nibabel        : >=2.3.2   - required | 2.5.1     installed\n",
      "pyqtgraph      : >=0.10.0  - required | 0.10.0    installed\n",
      "progressbar2   : >=3.34.3  - required | ?         installed\n",
      "modopt         : >=1.4.0   - required | 1.4.1     installed\n",
      "scikit-learn   : >=0.19.1  - required | ?         installed\n",
      "pywt           : >=1.0.0   - required | 1.1.1     installed\n",
      "pysparse       : >=0.0.1   - required | 0.1.0     installed\n",
      "\n"
     ]
    }
   ],
   "source": [
    "%load_ext autoreload\n",
    "%autoreload 2\n",
    "import copy\n",
    "import time\n",
    "\n",
    "import numpy as np\n",
    "import pandas as pd\n",
    "from tqdm import tqdm_notebook\n",
    "\n",
    "# from learning_wavelets.data import im_generators, ConcatenateGenerators\n",
    "from learning_wavelets.datasets import im_dataset_bsd68\n",
    "from learning_wavelets.dncnn import dncnn\n",
    "from learning_wavelets.keras_utils.thresholding import SoftThresholding, HardThresholding, DynamicSoftThresholding, DynamicHardThresholding, RelaxedDynamicHardThresholding, LocalWienerFiltering\n",
    "from learning_wavelets.learned_wavelet import learned_wavelet, learnlet\n",
    "from learning_wavelets.unet import unet\n",
    "from learning_wavelets.utils.metrics import metrics_from_ds, metrics_original_from_ds\n",
    "# from learning_wavelets.utils.metrics import metrics_for_params, metrics_exact_recon_net, metrics_original, metrics_wavelets, metrics_bm3d, metrics_dynamic_denoising_net"
   ]
  },
  {
   "cell_type": "code",
   "execution_count": 4,
   "metadata": {},
   "outputs": [],
   "source": [
    "np.random.seed(0)"
   ]
  },
  {
   "cell_type": "code",
   "execution_count": 5,
   "metadata": {
    "code_folding": []
   },
   "outputs": [],
   "source": [
    "all_net_params = [\n",
    "    {\n",
    "        'name': 'unet-multiple-stds',\n",
    "        'init_function': unet,\n",
    "        'run_params': {\n",
    "            'n_layers': 5, \n",
    "            'pool': 'max', \n",
    "            \"layers_n_channels\": [64, 128, 256, 512, 1024], \n",
    "            'layers_n_non_lins': 2,\n",
    "            'non_relu_contract': False,\n",
    "            'bn': True,\n",
    "            'input_size': (None, None, 1),\n",
    "        },\n",
    "        'run_id': 'unet_dynamic_st_bsd500_0_55_1576668365',\n",
    "        'epoch': 500,\n",
    "    },\n",
    "]\n",
    "\n",
    "dynamic_denoising_net_params = [\n",
    "    {\n",
    "        'name': 'learnlet_0_55_big_bsd',\n",
    "        'init_function': learnlet,\n",
    "        'run_params': {\n",
    "            'denoising_activation': 'dynamic_soft_thresholding',\n",
    "            'learnlet_analysis_kwargs':{\n",
    "                'n_tiling': 256, \n",
    "                'mixing_details': False,  \n",
    "                'kernel_size': 11\n",
    "            },\n",
    "            'learnlet_synthesis_kwargs': {\n",
    "                'res': True,\n",
    "                'kernel_size': 13,\n",
    "            },\n",
    "            'n_scales': 5,\n",
    "            'exact_reconstruction_weight': 0,\n",
    "            'clip': True,\n",
    "            'input_size': (None, None, 1),     \n",
    "        },\n",
    "        'run_id': 'learnlet_dynamic_st_bsd500_0_55_1576762010',\n",
    "        'epoch': 500,\n",
    "    },\n",
    "    {\n",
    "        'name': 'learnlet_20_40_big_bsd',\n",
    "        'init_function': learnlet,\n",
    "        'run_params': {\n",
    "            'denoising_activation': 'dynamic_soft_thresholding',\n",
    "            'learnlet_analysis_kwargs':{\n",
    "                'n_tiling': 256, \n",
    "                'mixing_details': False,  \n",
    "                'kernel_size': 11,\n",
    "                'skip_connection': True,\n",
    "            },\n",
    "            'learnlet_synthesis_kwargs': {\n",
    "                'res': True,\n",
    "                'kernel_size': 13,\n",
    "            },\n",
    "            'n_scales': 5,\n",
    "            'exact_reconstruction_weight': 0,\n",
    "            'clip': True,\n",
    "            'input_size': (None, None, 1),     \n",
    "        },\n",
    "        'run_id': 'learnlet_dynamic_st_bsd500_20_40_1580492805',\n",
    "        'epoch': 500,\n",
    "    },\n",
    "    {\n",
    "        'name': 'learnlet_30_big_bsd',\n",
    "        'init_function': learnlet,\n",
    "        'run_params': {\n",
    "            'denoising_activation': 'dynamic_soft_thresholding',\n",
    "            'learnlet_analysis_kwargs':{\n",
    "                'n_tiling': 256, \n",
    "                'mixing_details': False,  \n",
    "                'kernel_size': 11,\n",
    "                'skip_connection': True,\n",
    "            },\n",
    "            'learnlet_synthesis_kwargs': {\n",
    "                'res': True,\n",
    "                'kernel_size': 13,\n",
    "            },\n",
    "            'n_scales': 5,\n",
    "            'exact_reconstruction_weight': 0,\n",
    "            'clip': True,\n",
    "            'input_size': (None, None, 1),     \n",
    "        },\n",
    "        'run_id': 'learnlet_dynamic_st_bsd500_30_1580668579',\n",
    "        'epoch': 500,\n",
    "    },\n",
    "]"
   ]
  },
  {
   "cell_type": "code",
   "execution_count": 6,
   "metadata": {},
   "outputs": [],
   "source": [
    "noise_stds = [5, 15, 20, 25, 30, 50, 75]\n",
    "# noise_stds = [15, 20, 30]\n",
    "# noise_stds = [30]"
   ]
  },
  {
   "cell_type": "code",
   "execution_count": 7,
   "metadata": {
    "code_folding": [],
    "scrolled": true
   },
   "outputs": [
    {
     "name": "stderr",
     "output_type": "stream",
     "text": [
      "/volatile/home/Zaccharie/workspace/understanding-unets/venv/lib/python3.6/site-packages/ipykernel_launcher.py:3: TqdmDeprecationWarning: This function will be removed in tqdm==5.0.0\n",
      "Please use `tqdm.notebook.tqdm` instead of `tqdm.tqdm_notebook`\n",
      "  This is separate from the ipykernel package so we can avoid doing imports until\n"
     ]
    },
    {
     "data": {
      "application/vnd.jupyter.widget-view+json": {
       "model_id": "cd42f783538a4809bf429f788b78c291",
       "version_major": 2,
       "version_minor": 0
      },
      "text/plain": [
       "HBox(children=(FloatProgress(value=0.0, description='Noise stds', max=7.0, style=ProgressStyle(description_wid…"
      ]
     },
     "metadata": {},
     "output_type": "display_data"
    },
    {
     "data": {
      "application/vnd.jupyter.widget-view+json": {
       "model_id": "e953ca5890724ee887179f74cd486f86",
       "version_major": 2,
       "version_minor": 0
      },
      "text/plain": [
       "HBox(children=(FloatProgress(value=1.0, bar_style='info', max=1.0), HTML(value='')))"
      ]
     },
     "metadata": {},
     "output_type": "display_data"
    },
    {
     "name": "stdout",
     "output_type": "stream",
     "text": [
      "\n"
     ]
    },
    {
     "data": {
      "application/vnd.jupyter.widget-view+json": {
       "model_id": "70db9280f6ce463abf074172f5e27f3f",
       "version_major": 2,
       "version_minor": 0
      },
      "text/plain": [
       "HBox(children=(FloatProgress(value=0.0, description='Stats for unet-multiple-stds', max=5.0, style=ProgressSty…"
      ]
     },
     "metadata": {},
     "output_type": "display_data"
    },
    {
     "name": "stdout",
     "output_type": "stream",
     "text": [
      "\n"
     ]
    },
    {
     "name": "stderr",
     "output_type": "stream",
     "text": [
      "/volatile/home/Zaccharie/workspace/understanding-unets/learning_wavelets/evaluate.py:29: UserWarning: DEPRECATED: skimage.measure.compare_psnr has been moved to skimage.metrics.peak_signal_noise_ratio. It will be removed from skimage.measure in version 0.18.\n",
      "  return compare_psnr(gt, pred, data_range=1)\n",
      "/volatile/home/Zaccharie/workspace/understanding-unets/learning_wavelets/evaluate.py:38: UserWarning: DEPRECATED: skimage.measure.compare_ssim has been moved to skimage.metrics.structural_similarity. It will be removed from skimage.measure in version 0.18.\n",
      "  gt, pred, multichannel=True, data_range=1\n"
     ]
    },
    {
     "data": {
      "application/vnd.jupyter.widget-view+json": {
       "model_id": "1d33601e245a48cb8b5e5c625f32e630",
       "version_major": 2,
       "version_minor": 0
      },
      "text/plain": [
       "HBox(children=(FloatProgress(value=1.0, bar_style='info', max=1.0), HTML(value='')))"
      ]
     },
     "metadata": {},
     "output_type": "display_data"
    },
    {
     "name": "stdout",
     "output_type": "stream",
     "text": [
      "\n"
     ]
    },
    {
     "data": {
      "application/vnd.jupyter.widget-view+json": {
       "model_id": "c3a0350c63184a3e8867fb481d16fc2e",
       "version_major": 2,
       "version_minor": 0
      },
      "text/plain": [
       "HBox(children=(FloatProgress(value=0.0, description='Original noisy image', max=5.0, style=ProgressStyle(descr…"
      ]
     },
     "metadata": {},
     "output_type": "display_data"
    },
    {
     "name": "stdout",
     "output_type": "stream",
     "text": [
      "\n"
     ]
    },
    {
     "data": {
      "application/vnd.jupyter.widget-view+json": {
       "model_id": "351f495c672d4cba977ba65b44ba3854",
       "version_major": 2,
       "version_minor": 0
      },
      "text/plain": [
       "HBox(children=(FloatProgress(value=1.0, bar_style='info', max=1.0), HTML(value='')))"
      ]
     },
     "metadata": {},
     "output_type": "display_data"
    },
    {
     "name": "stdout",
     "output_type": "stream",
     "text": [
      "\n"
     ]
    },
    {
     "data": {
      "application/vnd.jupyter.widget-view+json": {
       "model_id": "fb3128b1072143d48a7fcbe46e40ed1c",
       "version_major": 2,
       "version_minor": 0
      },
      "text/plain": [
       "HBox(children=(FloatProgress(value=0.0, description='Stats for learnlet_0_55_big_bsd', max=5.0, style=Progress…"
      ]
     },
     "metadata": {},
     "output_type": "display_data"
    },
    {
     "name": "stdout",
     "output_type": "stream",
     "text": [
      "\n"
     ]
    },
    {
     "data": {
      "application/vnd.jupyter.widget-view+json": {
       "model_id": "e480cd54075c4744b77f4402e8bd72cd",
       "version_major": 2,
       "version_minor": 0
      },
      "text/plain": [
       "HBox(children=(FloatProgress(value=1.0, bar_style='info', max=1.0), HTML(value='')))"
      ]
     },
     "metadata": {},
     "output_type": "display_data"
    },
    {
     "name": "stdout",
     "output_type": "stream",
     "text": [
      "\n"
     ]
    },
    {
     "data": {
      "application/vnd.jupyter.widget-view+json": {
       "model_id": "3c9fb11497004a69b5fbd8656768a420",
       "version_major": 2,
       "version_minor": 0
      },
      "text/plain": [
       "HBox(children=(FloatProgress(value=0.0, description='Stats for learnlet_20_40_big_bsd', max=5.0, style=Progres…"
      ]
     },
     "metadata": {},
     "output_type": "display_data"
    },
    {
     "name": "stdout",
     "output_type": "stream",
     "text": [
      "\n"
     ]
    },
    {
     "data": {
      "application/vnd.jupyter.widget-view+json": {
       "model_id": "272d9306a95e48a3a37e43f2f210dfbe",
       "version_major": 2,
       "version_minor": 0
      },
      "text/plain": [
       "HBox(children=(FloatProgress(value=1.0, bar_style='info', max=1.0), HTML(value='')))"
      ]
     },
     "metadata": {},
     "output_type": "display_data"
    },
    {
     "name": "stdout",
     "output_type": "stream",
     "text": [
      "\n"
     ]
    },
    {
     "data": {
      "application/vnd.jupyter.widget-view+json": {
       "model_id": "d5e62e7779fb413781aab08618e9f94d",
       "version_major": 2,
       "version_minor": 0
      },
      "text/plain": [
       "HBox(children=(FloatProgress(value=0.0, description='Stats for learnlet_30_big_bsd', max=5.0, style=ProgressSt…"
      ]
     },
     "metadata": {},
     "output_type": "display_data"
    },
    {
     "name": "stdout",
     "output_type": "stream",
     "text": [
      "\n"
     ]
    },
    {
     "data": {
      "application/vnd.jupyter.widget-view+json": {
       "model_id": "27fae61cc7c34cfa8b8f6b31e8c4a31c",
       "version_major": 2,
       "version_minor": 0
      },
      "text/plain": [
       "HBox(children=(FloatProgress(value=1.0, bar_style='info', max=1.0), HTML(value='')))"
      ]
     },
     "metadata": {},
     "output_type": "display_data"
    },
    {
     "name": "stdout",
     "output_type": "stream",
     "text": [
      "\n"
     ]
    },
    {
     "data": {
      "application/vnd.jupyter.widget-view+json": {
       "model_id": "35a2132266bb4c4c8dc2fbe720b04804",
       "version_major": 2,
       "version_minor": 0
      },
      "text/plain": [
       "HBox(children=(FloatProgress(value=0.0, description='Stats for unet-multiple-stds', max=5.0, style=ProgressSty…"
      ]
     },
     "metadata": {},
     "output_type": "display_data"
    },
    {
     "name": "stdout",
     "output_type": "stream",
     "text": [
      "\n"
     ]
    },
    {
     "data": {
      "application/vnd.jupyter.widget-view+json": {
       "model_id": "b9466abbe79c4894b7491266fab9029f",
       "version_major": 2,
       "version_minor": 0
      },
      "text/plain": [
       "HBox(children=(FloatProgress(value=1.0, bar_style='info', max=1.0), HTML(value='')))"
      ]
     },
     "metadata": {},
     "output_type": "display_data"
    },
    {
     "name": "stdout",
     "output_type": "stream",
     "text": [
      "\n"
     ]
    },
    {
     "data": {
      "application/vnd.jupyter.widget-view+json": {
       "model_id": "4044a684621548f680d23ffb75a15ff4",
       "version_major": 2,
       "version_minor": 0
      },
      "text/plain": [
       "HBox(children=(FloatProgress(value=0.0, description='Original noisy image', max=5.0, style=ProgressStyle(descr…"
      ]
     },
     "metadata": {},
     "output_type": "display_data"
    },
    {
     "name": "stdout",
     "output_type": "stream",
     "text": [
      "\n"
     ]
    },
    {
     "data": {
      "application/vnd.jupyter.widget-view+json": {
       "model_id": "5dd48e1587874c77aa00ee839c21000a",
       "version_major": 2,
       "version_minor": 0
      },
      "text/plain": [
       "HBox(children=(FloatProgress(value=1.0, bar_style='info', max=1.0), HTML(value='')))"
      ]
     },
     "metadata": {},
     "output_type": "display_data"
    },
    {
     "name": "stdout",
     "output_type": "stream",
     "text": [
      "\n"
     ]
    },
    {
     "data": {
      "application/vnd.jupyter.widget-view+json": {
       "model_id": "519226dcd29747f08e46ef4b2fe2e40b",
       "version_major": 2,
       "version_minor": 0
      },
      "text/plain": [
       "HBox(children=(FloatProgress(value=0.0, description='Stats for learnlet_0_55_big_bsd', max=5.0, style=Progress…"
      ]
     },
     "metadata": {},
     "output_type": "display_data"
    },
    {
     "name": "stdout",
     "output_type": "stream",
     "text": [
      "\n"
     ]
    },
    {
     "data": {
      "application/vnd.jupyter.widget-view+json": {
       "model_id": "ddd96191c428449fae0870e3621fcb16",
       "version_major": 2,
       "version_minor": 0
      },
      "text/plain": [
       "HBox(children=(FloatProgress(value=1.0, bar_style='info', max=1.0), HTML(value='')))"
      ]
     },
     "metadata": {},
     "output_type": "display_data"
    },
    {
     "name": "stdout",
     "output_type": "stream",
     "text": [
      "\n"
     ]
    },
    {
     "data": {
      "application/vnd.jupyter.widget-view+json": {
       "model_id": "4a450ad6f49f4153b158fb62aad4742e",
       "version_major": 2,
       "version_minor": 0
      },
      "text/plain": [
       "HBox(children=(FloatProgress(value=0.0, description='Stats for learnlet_20_40_big_bsd', max=5.0, style=Progres…"
      ]
     },
     "metadata": {},
     "output_type": "display_data"
    },
    {
     "name": "stdout",
     "output_type": "stream",
     "text": [
      "\n"
     ]
    },
    {
     "data": {
      "application/vnd.jupyter.widget-view+json": {
       "model_id": "3299ede70e224542bf4e8614f2d464f1",
       "version_major": 2,
       "version_minor": 0
      },
      "text/plain": [
       "HBox(children=(FloatProgress(value=1.0, bar_style='info', max=1.0), HTML(value='')))"
      ]
     },
     "metadata": {},
     "output_type": "display_data"
    },
    {
     "name": "stdout",
     "output_type": "stream",
     "text": [
      "\n"
     ]
    },
    {
     "data": {
      "application/vnd.jupyter.widget-view+json": {
       "model_id": "909332cd14574f0c8a7d65ea440dc8a9",
       "version_major": 2,
       "version_minor": 0
      },
      "text/plain": [
       "HBox(children=(FloatProgress(value=0.0, description='Stats for learnlet_30_big_bsd', max=5.0, style=ProgressSt…"
      ]
     },
     "metadata": {},
     "output_type": "display_data"
    },
    {
     "name": "stdout",
     "output_type": "stream",
     "text": [
      "\n"
     ]
    },
    {
     "data": {
      "application/vnd.jupyter.widget-view+json": {
       "model_id": "f81f4e86f06d47a59c4003a87ed460f4",
       "version_major": 2,
       "version_minor": 0
      },
      "text/plain": [
       "HBox(children=(FloatProgress(value=1.0, bar_style='info', max=1.0), HTML(value='')))"
      ]
     },
     "metadata": {},
     "output_type": "display_data"
    },
    {
     "name": "stdout",
     "output_type": "stream",
     "text": [
      "\n"
     ]
    },
    {
     "data": {
      "application/vnd.jupyter.widget-view+json": {
       "model_id": "e78a6b85add644b4802fc178eb7e94f8",
       "version_major": 2,
       "version_minor": 0
      },
      "text/plain": [
       "HBox(children=(FloatProgress(value=0.0, description='Stats for unet-multiple-stds', max=5.0, style=ProgressSty…"
      ]
     },
     "metadata": {},
     "output_type": "display_data"
    },
    {
     "name": "stdout",
     "output_type": "stream",
     "text": [
      "\n"
     ]
    },
    {
     "data": {
      "application/vnd.jupyter.widget-view+json": {
       "model_id": "9f02fb4615cc41e2ba50b05fa3b40e59",
       "version_major": 2,
       "version_minor": 0
      },
      "text/plain": [
       "HBox(children=(FloatProgress(value=1.0, bar_style='info', max=1.0), HTML(value='')))"
      ]
     },
     "metadata": {},
     "output_type": "display_data"
    },
    {
     "name": "stdout",
     "output_type": "stream",
     "text": [
      "\n"
     ]
    },
    {
     "data": {
      "application/vnd.jupyter.widget-view+json": {
       "model_id": "167edeb1b8f8498aaa8a305169a92fa4",
       "version_major": 2,
       "version_minor": 0
      },
      "text/plain": [
       "HBox(children=(FloatProgress(value=0.0, description='Original noisy image', max=5.0, style=ProgressStyle(descr…"
      ]
     },
     "metadata": {},
     "output_type": "display_data"
    },
    {
     "name": "stdout",
     "output_type": "stream",
     "text": [
      "\n"
     ]
    },
    {
     "data": {
      "application/vnd.jupyter.widget-view+json": {
       "model_id": "1c7d394419b14354b7a780f3c7d5e124",
       "version_major": 2,
       "version_minor": 0
      },
      "text/plain": [
       "HBox(children=(FloatProgress(value=1.0, bar_style='info', max=1.0), HTML(value='')))"
      ]
     },
     "metadata": {},
     "output_type": "display_data"
    },
    {
     "name": "stdout",
     "output_type": "stream",
     "text": [
      "\n"
     ]
    },
    {
     "data": {
      "application/vnd.jupyter.widget-view+json": {
       "model_id": "0af966d0d4bd4468a6c4361d49f1ebbb",
       "version_major": 2,
       "version_minor": 0
      },
      "text/plain": [
       "HBox(children=(FloatProgress(value=0.0, description='Stats for learnlet_0_55_big_bsd', max=5.0, style=Progress…"
      ]
     },
     "metadata": {},
     "output_type": "display_data"
    },
    {
     "name": "stdout",
     "output_type": "stream",
     "text": [
      "\n"
     ]
    },
    {
     "data": {
      "application/vnd.jupyter.widget-view+json": {
       "model_id": "e2317b9c424a422bafffaca8c42f73a1",
       "version_major": 2,
       "version_minor": 0
      },
      "text/plain": [
       "HBox(children=(FloatProgress(value=1.0, bar_style='info', max=1.0), HTML(value='')))"
      ]
     },
     "metadata": {},
     "output_type": "display_data"
    },
    {
     "name": "stdout",
     "output_type": "stream",
     "text": [
      "\n"
     ]
    },
    {
     "data": {
      "application/vnd.jupyter.widget-view+json": {
       "model_id": "f29f6d6c3d2b4fafb5626b6c2f62cc54",
       "version_major": 2,
       "version_minor": 0
      },
      "text/plain": [
       "HBox(children=(FloatProgress(value=0.0, description='Stats for learnlet_20_40_big_bsd', max=5.0, style=Progres…"
      ]
     },
     "metadata": {},
     "output_type": "display_data"
    },
    {
     "name": "stdout",
     "output_type": "stream",
     "text": [
      "\n"
     ]
    },
    {
     "data": {
      "application/vnd.jupyter.widget-view+json": {
       "model_id": "e26102d75b0f44679fda5da778986683",
       "version_major": 2,
       "version_minor": 0
      },
      "text/plain": [
       "HBox(children=(FloatProgress(value=1.0, bar_style='info', max=1.0), HTML(value='')))"
      ]
     },
     "metadata": {},
     "output_type": "display_data"
    },
    {
     "name": "stdout",
     "output_type": "stream",
     "text": [
      "\n"
     ]
    },
    {
     "data": {
      "application/vnd.jupyter.widget-view+json": {
       "model_id": "c28c9bba3d3f457e82bed67c86ddcf61",
       "version_major": 2,
       "version_minor": 0
      },
      "text/plain": [
       "HBox(children=(FloatProgress(value=0.0, description='Stats for learnlet_30_big_bsd', max=5.0, style=ProgressSt…"
      ]
     },
     "metadata": {},
     "output_type": "display_data"
    },
    {
     "name": "stdout",
     "output_type": "stream",
     "text": [
      "\n"
     ]
    },
    {
     "data": {
      "application/vnd.jupyter.widget-view+json": {
       "model_id": "9e37dcf06b96411e91b7b308114d13a5",
       "version_major": 2,
       "version_minor": 0
      },
      "text/plain": [
       "HBox(children=(FloatProgress(value=1.0, bar_style='info', max=1.0), HTML(value='')))"
      ]
     },
     "metadata": {},
     "output_type": "display_data"
    },
    {
     "name": "stdout",
     "output_type": "stream",
     "text": [
      "\n"
     ]
    },
    {
     "data": {
      "application/vnd.jupyter.widget-view+json": {
       "model_id": "683ac6f4bb9b4ef6915c6415250d51cc",
       "version_major": 2,
       "version_minor": 0
      },
      "text/plain": [
       "HBox(children=(FloatProgress(value=0.0, description='Stats for unet-multiple-stds', max=5.0, style=ProgressSty…"
      ]
     },
     "metadata": {},
     "output_type": "display_data"
    },
    {
     "name": "stdout",
     "output_type": "stream",
     "text": [
      "\n"
     ]
    },
    {
     "data": {
      "application/vnd.jupyter.widget-view+json": {
       "model_id": "df80807361004f1695b37c795c9aa850",
       "version_major": 2,
       "version_minor": 0
      },
      "text/plain": [
       "HBox(children=(FloatProgress(value=1.0, bar_style='info', max=1.0), HTML(value='')))"
      ]
     },
     "metadata": {},
     "output_type": "display_data"
    },
    {
     "name": "stdout",
     "output_type": "stream",
     "text": [
      "\n"
     ]
    },
    {
     "data": {
      "application/vnd.jupyter.widget-view+json": {
       "model_id": "12cf5405e60e4f6d931ac96cbdd6070f",
       "version_major": 2,
       "version_minor": 0
      },
      "text/plain": [
       "HBox(children=(FloatProgress(value=0.0, description='Original noisy image', max=5.0, style=ProgressStyle(descr…"
      ]
     },
     "metadata": {},
     "output_type": "display_data"
    },
    {
     "name": "stdout",
     "output_type": "stream",
     "text": [
      "\n"
     ]
    },
    {
     "data": {
      "application/vnd.jupyter.widget-view+json": {
       "model_id": "94d82f4384924444bd6ddde9bc3b43c2",
       "version_major": 2,
       "version_minor": 0
      },
      "text/plain": [
       "HBox(children=(FloatProgress(value=1.0, bar_style='info', max=1.0), HTML(value='')))"
      ]
     },
     "metadata": {},
     "output_type": "display_data"
    },
    {
     "name": "stdout",
     "output_type": "stream",
     "text": [
      "\n"
     ]
    },
    {
     "data": {
      "application/vnd.jupyter.widget-view+json": {
       "model_id": "6c4dedde3603420387f96cd2c2ca6d46",
       "version_major": 2,
       "version_minor": 0
      },
      "text/plain": [
       "HBox(children=(FloatProgress(value=0.0, description='Stats for learnlet_0_55_big_bsd', max=5.0, style=Progress…"
      ]
     },
     "metadata": {},
     "output_type": "display_data"
    },
    {
     "name": "stdout",
     "output_type": "stream",
     "text": [
      "\n"
     ]
    },
    {
     "data": {
      "application/vnd.jupyter.widget-view+json": {
       "model_id": "1fc751799ac54865b664b150d1e4dbc7",
       "version_major": 2,
       "version_minor": 0
      },
      "text/plain": [
       "HBox(children=(FloatProgress(value=1.0, bar_style='info', max=1.0), HTML(value='')))"
      ]
     },
     "metadata": {},
     "output_type": "display_data"
    },
    {
     "name": "stdout",
     "output_type": "stream",
     "text": [
      "\n"
     ]
    },
    {
     "data": {
      "application/vnd.jupyter.widget-view+json": {
       "model_id": "99d0da7c2aa54ba0b28d36ad9eeb4548",
       "version_major": 2,
       "version_minor": 0
      },
      "text/plain": [
       "HBox(children=(FloatProgress(value=0.0, description='Stats for learnlet_20_40_big_bsd', max=5.0, style=Progres…"
      ]
     },
     "metadata": {},
     "output_type": "display_data"
    },
    {
     "name": "stdout",
     "output_type": "stream",
     "text": [
      "\n"
     ]
    },
    {
     "data": {
      "application/vnd.jupyter.widget-view+json": {
       "model_id": "a384e854439448f79f2c89803aaf3de0",
       "version_major": 2,
       "version_minor": 0
      },
      "text/plain": [
       "HBox(children=(FloatProgress(value=1.0, bar_style='info', max=1.0), HTML(value='')))"
      ]
     },
     "metadata": {},
     "output_type": "display_data"
    },
    {
     "name": "stdout",
     "output_type": "stream",
     "text": [
      "\n"
     ]
    },
    {
     "data": {
      "application/vnd.jupyter.widget-view+json": {
       "model_id": "aa53a572fe0b408a8fd29139355db24a",
       "version_major": 2,
       "version_minor": 0
      },
      "text/plain": [
       "HBox(children=(FloatProgress(value=0.0, description='Stats for learnlet_30_big_bsd', max=5.0, style=ProgressSt…"
      ]
     },
     "metadata": {},
     "output_type": "display_data"
    },
    {
     "name": "stdout",
     "output_type": "stream",
     "text": [
      "\n"
     ]
    },
    {
     "data": {
      "application/vnd.jupyter.widget-view+json": {
       "model_id": "3b5827347a684ac4bd81985399d49646",
       "version_major": 2,
       "version_minor": 0
      },
      "text/plain": [
       "HBox(children=(FloatProgress(value=1.0, bar_style='info', max=1.0), HTML(value='')))"
      ]
     },
     "metadata": {},
     "output_type": "display_data"
    },
    {
     "name": "stdout",
     "output_type": "stream",
     "text": [
      "\n"
     ]
    },
    {
     "data": {
      "application/vnd.jupyter.widget-view+json": {
       "model_id": "6b552d86748945198f9a29c798917c0b",
       "version_major": 2,
       "version_minor": 0
      },
      "text/plain": [
       "HBox(children=(FloatProgress(value=0.0, description='Stats for unet-multiple-stds', max=5.0, style=ProgressSty…"
      ]
     },
     "metadata": {},
     "output_type": "display_data"
    },
    {
     "name": "stdout",
     "output_type": "stream",
     "text": [
      "\n"
     ]
    },
    {
     "data": {
      "application/vnd.jupyter.widget-view+json": {
       "model_id": "2fc50543565f43a3861e05d74f555073",
       "version_major": 2,
       "version_minor": 0
      },
      "text/plain": [
       "HBox(children=(FloatProgress(value=1.0, bar_style='info', max=1.0), HTML(value='')))"
      ]
     },
     "metadata": {},
     "output_type": "display_data"
    },
    {
     "name": "stdout",
     "output_type": "stream",
     "text": [
      "\n"
     ]
    },
    {
     "data": {
      "application/vnd.jupyter.widget-view+json": {
       "model_id": "932985fcf4544213a42f8928323f30c9",
       "version_major": 2,
       "version_minor": 0
      },
      "text/plain": [
       "HBox(children=(FloatProgress(value=0.0, description='Original noisy image', max=5.0, style=ProgressStyle(descr…"
      ]
     },
     "metadata": {},
     "output_type": "display_data"
    },
    {
     "name": "stdout",
     "output_type": "stream",
     "text": [
      "\n"
     ]
    },
    {
     "data": {
      "application/vnd.jupyter.widget-view+json": {
       "model_id": "cdceb30279c247b9a2bc375a01616360",
       "version_major": 2,
       "version_minor": 0
      },
      "text/plain": [
       "HBox(children=(FloatProgress(value=1.0, bar_style='info', max=1.0), HTML(value='')))"
      ]
     },
     "metadata": {},
     "output_type": "display_data"
    },
    {
     "name": "stdout",
     "output_type": "stream",
     "text": [
      "\n"
     ]
    },
    {
     "data": {
      "application/vnd.jupyter.widget-view+json": {
       "model_id": "16fabca549cb4f80b4778060be13a16b",
       "version_major": 2,
       "version_minor": 0
      },
      "text/plain": [
       "HBox(children=(FloatProgress(value=0.0, description='Stats for learnlet_0_55_big_bsd', max=5.0, style=Progress…"
      ]
     },
     "metadata": {},
     "output_type": "display_data"
    },
    {
     "name": "stdout",
     "output_type": "stream",
     "text": [
      "\n"
     ]
    },
    {
     "data": {
      "application/vnd.jupyter.widget-view+json": {
       "model_id": "a8184dc5264242f286e81520926b17cc",
       "version_major": 2,
       "version_minor": 0
      },
      "text/plain": [
       "HBox(children=(FloatProgress(value=1.0, bar_style='info', max=1.0), HTML(value='')))"
      ]
     },
     "metadata": {},
     "output_type": "display_data"
    },
    {
     "name": "stdout",
     "output_type": "stream",
     "text": [
      "\n"
     ]
    },
    {
     "data": {
      "application/vnd.jupyter.widget-view+json": {
       "model_id": "4c1712cde59a4e3693b858ac60e547ee",
       "version_major": 2,
       "version_minor": 0
      },
      "text/plain": [
       "HBox(children=(FloatProgress(value=0.0, description='Stats for learnlet_20_40_big_bsd', max=5.0, style=Progres…"
      ]
     },
     "metadata": {},
     "output_type": "display_data"
    },
    {
     "name": "stdout",
     "output_type": "stream",
     "text": [
      "\n"
     ]
    },
    {
     "data": {
      "application/vnd.jupyter.widget-view+json": {
       "model_id": "2ca08b66ae634bbb9329a0218b546567",
       "version_major": 2,
       "version_minor": 0
      },
      "text/plain": [
       "HBox(children=(FloatProgress(value=1.0, bar_style='info', max=1.0), HTML(value='')))"
      ]
     },
     "metadata": {},
     "output_type": "display_data"
    },
    {
     "name": "stdout",
     "output_type": "stream",
     "text": [
      "\n"
     ]
    },
    {
     "data": {
      "application/vnd.jupyter.widget-view+json": {
       "model_id": "427ab793e7c243fbbeea78e1257f47c5",
       "version_major": 2,
       "version_minor": 0
      },
      "text/plain": [
       "HBox(children=(FloatProgress(value=0.0, description='Stats for learnlet_30_big_bsd', max=5.0, style=ProgressSt…"
      ]
     },
     "metadata": {},
     "output_type": "display_data"
    },
    {
     "name": "stdout",
     "output_type": "stream",
     "text": [
      "\n"
     ]
    },
    {
     "data": {
      "application/vnd.jupyter.widget-view+json": {
       "model_id": "97a52c13d70f48a59fa9b6392b0b37b5",
       "version_major": 2,
       "version_minor": 0
      },
      "text/plain": [
       "HBox(children=(FloatProgress(value=1.0, bar_style='info', max=1.0), HTML(value='')))"
      ]
     },
     "metadata": {},
     "output_type": "display_data"
    },
    {
     "name": "stdout",
     "output_type": "stream",
     "text": [
      "\n"
     ]
    },
    {
     "data": {
      "application/vnd.jupyter.widget-view+json": {
       "model_id": "2a43f878f13f4b7a81fd140f4590fa66",
       "version_major": 2,
       "version_minor": 0
      },
      "text/plain": [
       "HBox(children=(FloatProgress(value=0.0, description='Stats for unet-multiple-stds', max=5.0, style=ProgressSty…"
      ]
     },
     "metadata": {},
     "output_type": "display_data"
    },
    {
     "name": "stdout",
     "output_type": "stream",
     "text": [
      "\n"
     ]
    },
    {
     "data": {
      "application/vnd.jupyter.widget-view+json": {
       "model_id": "78b0df5f98da4648ae29e0ff5006519f",
       "version_major": 2,
       "version_minor": 0
      },
      "text/plain": [
       "HBox(children=(FloatProgress(value=1.0, bar_style='info', max=1.0), HTML(value='')))"
      ]
     },
     "metadata": {},
     "output_type": "display_data"
    },
    {
     "name": "stdout",
     "output_type": "stream",
     "text": [
      "\n"
     ]
    },
    {
     "data": {
      "application/vnd.jupyter.widget-view+json": {
       "model_id": "216669c47b8d4e5aa96c9f515e627007",
       "version_major": 2,
       "version_minor": 0
      },
      "text/plain": [
       "HBox(children=(FloatProgress(value=0.0, description='Original noisy image', max=5.0, style=ProgressStyle(descr…"
      ]
     },
     "metadata": {},
     "output_type": "display_data"
    },
    {
     "name": "stdout",
     "output_type": "stream",
     "text": [
      "\n"
     ]
    },
    {
     "data": {
      "application/vnd.jupyter.widget-view+json": {
       "model_id": "949ca4d3dac541ea811b1f876bb8a3b7",
       "version_major": 2,
       "version_minor": 0
      },
      "text/plain": [
       "HBox(children=(FloatProgress(value=1.0, bar_style='info', max=1.0), HTML(value='')))"
      ]
     },
     "metadata": {},
     "output_type": "display_data"
    },
    {
     "name": "stdout",
     "output_type": "stream",
     "text": [
      "\n"
     ]
    },
    {
     "data": {
      "application/vnd.jupyter.widget-view+json": {
       "model_id": "6f330ceb9d02438592382de382c9fc79",
       "version_major": 2,
       "version_minor": 0
      },
      "text/plain": [
       "HBox(children=(FloatProgress(value=0.0, description='Stats for learnlet_0_55_big_bsd', max=5.0, style=Progress…"
      ]
     },
     "metadata": {},
     "output_type": "display_data"
    },
    {
     "name": "stdout",
     "output_type": "stream",
     "text": [
      "\n"
     ]
    },
    {
     "data": {
      "application/vnd.jupyter.widget-view+json": {
       "model_id": "ec2453c62ab349828b8d3d7e60c2a513",
       "version_major": 2,
       "version_minor": 0
      },
      "text/plain": [
       "HBox(children=(FloatProgress(value=1.0, bar_style='info', max=1.0), HTML(value='')))"
      ]
     },
     "metadata": {},
     "output_type": "display_data"
    },
    {
     "name": "stdout",
     "output_type": "stream",
     "text": [
      "\n"
     ]
    },
    {
     "data": {
      "application/vnd.jupyter.widget-view+json": {
       "model_id": "d06952fdcda148cd86a5cf36a6dd2bd8",
       "version_major": 2,
       "version_minor": 0
      },
      "text/plain": [
       "HBox(children=(FloatProgress(value=0.0, description='Stats for learnlet_20_40_big_bsd', max=5.0, style=Progres…"
      ]
     },
     "metadata": {},
     "output_type": "display_data"
    },
    {
     "name": "stdout",
     "output_type": "stream",
     "text": [
      "\n"
     ]
    },
    {
     "data": {
      "application/vnd.jupyter.widget-view+json": {
       "model_id": "ebc17c4d2b0f4701ba9db571393f7b46",
       "version_major": 2,
       "version_minor": 0
      },
      "text/plain": [
       "HBox(children=(FloatProgress(value=1.0, bar_style='info', max=1.0), HTML(value='')))"
      ]
     },
     "metadata": {},
     "output_type": "display_data"
    },
    {
     "name": "stdout",
     "output_type": "stream",
     "text": [
      "\n"
     ]
    },
    {
     "data": {
      "application/vnd.jupyter.widget-view+json": {
       "model_id": "c3eeb038e97d4836ac593b29404bdf1a",
       "version_major": 2,
       "version_minor": 0
      },
      "text/plain": [
       "HBox(children=(FloatProgress(value=0.0, description='Stats for learnlet_30_big_bsd', max=5.0, style=ProgressSt…"
      ]
     },
     "metadata": {},
     "output_type": "display_data"
    },
    {
     "name": "stdout",
     "output_type": "stream",
     "text": [
      "\n"
     ]
    },
    {
     "data": {
      "application/vnd.jupyter.widget-view+json": {
       "model_id": "e4ac26209e0c4a22b34fa93795da75bb",
       "version_major": 2,
       "version_minor": 0
      },
      "text/plain": [
       "HBox(children=(FloatProgress(value=1.0, bar_style='info', max=1.0), HTML(value='')))"
      ]
     },
     "metadata": {},
     "output_type": "display_data"
    },
    {
     "name": "stdout",
     "output_type": "stream",
     "text": [
      "\n"
     ]
    },
    {
     "data": {
      "application/vnd.jupyter.widget-view+json": {
       "model_id": "0ef84758e0204e2389e33a5371d18ccd",
       "version_major": 2,
       "version_minor": 0
      },
      "text/plain": [
       "HBox(children=(FloatProgress(value=0.0, description='Stats for unet-multiple-stds', max=5.0, style=ProgressSty…"
      ]
     },
     "metadata": {},
     "output_type": "display_data"
    },
    {
     "name": "stdout",
     "output_type": "stream",
     "text": [
      "\n"
     ]
    },
    {
     "data": {
      "application/vnd.jupyter.widget-view+json": {
       "model_id": "2fd028c8b0ad4a399c6a02c244c885ab",
       "version_major": 2,
       "version_minor": 0
      },
      "text/plain": [
       "HBox(children=(FloatProgress(value=1.0, bar_style='info', max=1.0), HTML(value='')))"
      ]
     },
     "metadata": {},
     "output_type": "display_data"
    },
    {
     "name": "stdout",
     "output_type": "stream",
     "text": [
      "\n"
     ]
    },
    {
     "data": {
      "application/vnd.jupyter.widget-view+json": {
       "model_id": "7dcf2dc8d4dd4012956a9ec5ac0a94a1",
       "version_major": 2,
       "version_minor": 0
      },
      "text/plain": [
       "HBox(children=(FloatProgress(value=0.0, description='Original noisy image', max=5.0, style=ProgressStyle(descr…"
      ]
     },
     "metadata": {},
     "output_type": "display_data"
    },
    {
     "name": "stdout",
     "output_type": "stream",
     "text": [
      "\n"
     ]
    },
    {
     "data": {
      "application/vnd.jupyter.widget-view+json": {
       "model_id": "c61937983292429d9395cff3f6376dda",
       "version_major": 2,
       "version_minor": 0
      },
      "text/plain": [
       "HBox(children=(FloatProgress(value=1.0, bar_style='info', max=1.0), HTML(value='')))"
      ]
     },
     "metadata": {},
     "output_type": "display_data"
    },
    {
     "name": "stdout",
     "output_type": "stream",
     "text": [
      "\n"
     ]
    },
    {
     "data": {
      "application/vnd.jupyter.widget-view+json": {
       "model_id": "e31741e99cde46da8a5a897949d1a95d",
       "version_major": 2,
       "version_minor": 0
      },
      "text/plain": [
       "HBox(children=(FloatProgress(value=0.0, description='Stats for learnlet_0_55_big_bsd', max=5.0, style=Progress…"
      ]
     },
     "metadata": {},
     "output_type": "display_data"
    },
    {
     "name": "stdout",
     "output_type": "stream",
     "text": [
      "\n"
     ]
    },
    {
     "data": {
      "application/vnd.jupyter.widget-view+json": {
       "model_id": "1483e9a0e489497590e81d6a2447ec09",
       "version_major": 2,
       "version_minor": 0
      },
      "text/plain": [
       "HBox(children=(FloatProgress(value=1.0, bar_style='info', max=1.0), HTML(value='')))"
      ]
     },
     "metadata": {},
     "output_type": "display_data"
    },
    {
     "name": "stdout",
     "output_type": "stream",
     "text": [
      "\n"
     ]
    },
    {
     "data": {
      "application/vnd.jupyter.widget-view+json": {
       "model_id": "9b2815480f6b43fbb9a565438f48853b",
       "version_major": 2,
       "version_minor": 0
      },
      "text/plain": [
       "HBox(children=(FloatProgress(value=0.0, description='Stats for learnlet_20_40_big_bsd', max=5.0, style=Progres…"
      ]
     },
     "metadata": {},
     "output_type": "display_data"
    },
    {
     "name": "stdout",
     "output_type": "stream",
     "text": [
      "\n"
     ]
    },
    {
     "data": {
      "application/vnd.jupyter.widget-view+json": {
       "model_id": "79bae193f29a4202b9eed7a7bcaa39bd",
       "version_major": 2,
       "version_minor": 0
      },
      "text/plain": [
       "HBox(children=(FloatProgress(value=1.0, bar_style='info', max=1.0), HTML(value='')))"
      ]
     },
     "metadata": {},
     "output_type": "display_data"
    },
    {
     "name": "stdout",
     "output_type": "stream",
     "text": [
      "\n"
     ]
    },
    {
     "data": {
      "application/vnd.jupyter.widget-view+json": {
       "model_id": "989cc38861d84c9888ccab01108c2c6c",
       "version_major": 2,
       "version_minor": 0
      },
      "text/plain": [
       "HBox(children=(FloatProgress(value=0.0, description='Stats for learnlet_30_big_bsd', max=5.0, style=ProgressSt…"
      ]
     },
     "metadata": {},
     "output_type": "display_data"
    },
    {
     "name": "stdout",
     "output_type": "stream",
     "text": [
      "\n",
      "\n"
     ]
    }
   ],
   "source": [
    "noise_std_metrics = {}\n",
    "n_samples = 5\n",
    "for noise_std in tqdm_notebook(noise_stds, 'Noise stds'):\n",
    "    metrics = []\n",
    "    for net_params in all_net_params:\n",
    "        im_ds = im_dataset_bsd68(\n",
    "            mode='testing', \n",
    "            batch_size=1, \n",
    "            patch_size=None, \n",
    "            noise_std=noise_std, \n",
    "            return_noise_level=False,\n",
    "            n_pooling=5,\n",
    "            n_samples=n_samples,\n",
    "        )\n",
    "        metrics.append((net_params['name'], metrics_from_ds(im_ds, **net_params)))\n",
    "    im_ds = im_dataset_bsd68(\n",
    "        mode='testing', \n",
    "        batch_size=1, \n",
    "        patch_size=None, \n",
    "        noise_std=noise_std, \n",
    "        return_noise_level=False,\n",
    "        n_pooling=5,\n",
    "        n_samples=n_samples,\n",
    "    )\n",
    "    metrics.append(('original', metrics_original_from_ds(im_ds)))\n",
    "        \n",
    "    for net_params in dynamic_denoising_net_params:\n",
    "        im_ds = im_dataset_bsd68(\n",
    "            mode='testing', \n",
    "            batch_size=1, \n",
    "            patch_size=None, \n",
    "            noise_std=noise_std, \n",
    "            return_noise_level=True,\n",
    "            n_pooling=5,\n",
    "            n_samples=n_samples,\n",
    "        )\n",
    "        metrics.append((net_params['name'], metrics_from_ds(im_ds, **net_params)))\n",
    "\n",
    "#     metrics.append(('bm3d', metrics_bm3d(im_gen_test)))\n",
    "#     metrics.append(('wavelets_24', metrics_wavelets(im_gen_test, '24', noise_std=noise_std)))\n",
    "#     metrics.sort(key=lambda x: x[1].metrics['PSNR'].mean())\n",
    "    noise_std_metrics[noise_std] = metrics"
   ]
  },
  {
   "cell_type": "code",
   "execution_count": 8,
   "metadata": {},
   "outputs": [
    {
     "data": {
      "text/plain": [
       "{5: [('unet-multiple-stds', PSNR = 38.2 +/- 3.735 SSIM = 0.9686 +/- 0.01937),\n",
       "  ('original', PSNR = 34.16 +/- 0.03369 SSIM = 0.8695 +/- 0.1112),\n",
       "  ('learnlet_0_55_big_bsd', PSNR = 37.14 +/- 4.133 SSIM = 0.9623 +/- 0.02299),\n",
       "  ('learnlet_20_40_big_bsd', PSNR = 32.72 +/- 7.983 SSIM = 0.9484 +/- 0.0376),\n",
       "  ('learnlet_30_big_bsd', PSNR = 31.65 +/- 8.439 SSIM = 0.9422 +/- 0.04554)],\n",
       " 15: [('unet-multiple-stds', PSNR = 32.11 +/- 4.444 SSIM = 0.8951 +/- 0.07118),\n",
       "  ('original', PSNR = 24.62 +/- 0.0149 SSIM = 0.5306 +/- 0.2514),\n",
       "  ('learnlet_0_55_big_bsd', PSNR = 31.47 +/- 4.477 SSIM = 0.874 +/- 0.07115),\n",
       "  ('learnlet_20_40_big_bsd', PSNR = 31.29 +/- 4.91 SSIM = 0.8745 +/- 0.06967),\n",
       "  ('learnlet_30_big_bsd', PSNR = 31.2 +/- 5.107 SSIM = 0.875 +/- 0.06728)],\n",
       " 20: [('unet-multiple-stds', PSNR = 30.73 +/- 4.651 SSIM = 0.8626 +/- 0.0949),\n",
       "  ('original', PSNR = 22.11 +/- 0.02487 SSIM = 0.4282 +/- 0.2489),\n",
       "  ('learnlet_0_55_big_bsd', PSNR = 30.08 +/- 4.582 SSIM = 0.8342 +/- 0.08794),\n",
       "  ('learnlet_20_40_big_bsd', PSNR = 30.09 +/- 4.696 SSIM = 0.8339 +/- 0.0832),\n",
       "  ('learnlet_30_big_bsd', PSNR = 30.02 +/- 4.787 SSIM = 0.833 +/- 0.08442)],\n",
       " 25: [('unet-multiple-stds', PSNR = 29.67 +/- 4.83 SSIM = 0.8319 +/- 0.1179),\n",
       "  ('original', PSNR = 20.16 +/- 0.04053 SSIM = 0.3531 +/- 0.2343),\n",
       "  ('learnlet_0_55_big_bsd', PSNR = 29.01 +/- 4.649 SSIM = 0.7946 +/- 0.1014),\n",
       "  ('learnlet_20_40_big_bsd', PSNR = 29.1 +/- 4.628 SSIM = 0.7968 +/- 0.08935),\n",
       "  ('learnlet_30_big_bsd', PSNR = 29.05 +/- 4.55 SSIM = 0.7945 +/- 0.08742)],\n",
       " 30: [('unet-multiple-stds', PSNR = 28.87 +/- 4.95 SSIM = 0.805 +/- 0.1338),\n",
       "  ('original', PSNR = 18.58 +/- 0.03142 SSIM = 0.2955 +/- 0.2148),\n",
       "  ('learnlet_0_55_big_bsd', PSNR = 28.19 +/- 4.628 SSIM = 0.7624 +/- 0.1058),\n",
       "  ('learnlet_20_40_big_bsd', PSNR = 28.25 +/- 4.559 SSIM = 0.7596 +/- 0.09145),\n",
       "  ('learnlet_30_big_bsd', PSNR = 28.22 +/- 4.505 SSIM = 0.7579 +/- 0.0924)],\n",
       " 50: [('unet-multiple-stds', PSNR = 26.72 +/- 5.163 SSIM = 0.719 +/- 0.1916),\n",
       "  ('original', PSNR = 14.15 +/- 0.02763 SSIM = 0.1624 +/- 0.1468),\n",
       "  ('learnlet_0_55_big_bsd', PSNR = 25.92 +/- 4.631 SSIM = 0.64 +/- 0.1106),\n",
       "  ('learnlet_20_40_big_bsd', PSNR = 25.86 +/- 4.341 SSIM = 0.6321 +/- 0.09888),\n",
       "  ('learnlet_30_big_bsd', PSNR = 25.86 +/- 4.357 SSIM = 0.6303 +/- 0.09291)],\n",
       " 75: [('unet-multiple-stds', PSNR = 22.45 +/- 2.53 SSIM = 0.384 +/- 0.0835),\n",
       "  ('original', PSNR = 10.63 +/- 0.02924 SSIM = 0.08869 +/- 0.0939),\n",
       "  ('learnlet_0_55_big_bsd', PSNR = 24.1 +/- 4.292 SSIM = 0.5219 +/- 0.1026),\n",
       "  ('learnlet_20_40_big_bsd', PSNR = 24 +/- 3.955 SSIM = 0.5102 +/- 0.06801),\n",
       "  ('learnlet_30_big_bsd', PSNR = 23.98 +/- 4.067 SSIM = 0.505 +/- 0.07102)]}"
      ]
     },
     "execution_count": 8,
     "metadata": {},
     "output_type": "execute_result"
    }
   ],
   "source": [
    "noise_std_metrics"
   ]
  },
  {
   "cell_type": "code",
   "execution_count": 108,
   "metadata": {},
   "outputs": [],
   "source": [
    "BM3D_psnr_results = {\n",
    "    5: 37.57,\n",
    "    15: 31.07,\n",
    "    20: 29.60,\n",
    "    25: 28.57,\n",
    "    30: 27.74,\n",
    "    50: 25.62,\n",
    "    75: 24.21,\n",
    "}\n",
    "\n",
    "wavelets_psnr_results = {\n",
    "    5: (35.76,  1.937),\n",
    "    15: (29.56,  2.553),\n",
    "    20: (28.25,  2.645),\n",
    "    25: (27.32,  2.684),\n",
    "    30: (26.61,  2.694),\n",
    "    50: (24.79,  2.673),\n",
    "    75: (23.46,  2.574),\n",
    "}"
   ]
  },
  {
   "cell_type": "code",
   "execution_count": 109,
   "metadata": {},
   "outputs": [
    {
     "data": {
      "text/html": [
       "<div>\n",
       "<style scoped>\n",
       "    .dataframe tbody tr th:only-of-type {\n",
       "        vertical-align: middle;\n",
       "    }\n",
       "\n",
       "    .dataframe tbody tr th {\n",
       "        vertical-align: top;\n",
       "    }\n",
       "\n",
       "    .dataframe thead th {\n",
       "        text-align: right;\n",
       "    }\n",
       "</style>\n",
       "<table border=\"1\" class=\"dataframe\">\n",
       "  <thead>\n",
       "    <tr style=\"text-align: right;\">\n",
       "      <th></th>\n",
       "      <th>noise_std</th>\n",
       "      <th>unet-multiple-stds</th>\n",
       "      <th>learnlet_0_55_big_bsd</th>\n",
       "      <th>learnlet_20_40_big_bsd</th>\n",
       "      <th>learnlet_30_big_bsd</th>\n",
       "      <th>original</th>\n",
       "      <th>wavelets_24</th>\n",
       "      <th>bm3d</th>\n",
       "    </tr>\n",
       "  </thead>\n",
       "  <tbody>\n",
       "    <tr>\n",
       "      <th>0</th>\n",
       "      <td>5</td>\n",
       "      <td>38.2 (1.868)</td>\n",
       "      <td>37.14 (2.066)</td>\n",
       "      <td>32.72 (3.992)</td>\n",
       "      <td>31.65 (4.219)</td>\n",
       "      <td>34.16 (0.01685)</td>\n",
       "      <td>35.76 (1.937)</td>\n",
       "      <td>37.57</td>\n",
       "    </tr>\n",
       "    <tr>\n",
       "      <th>1</th>\n",
       "      <td>15</td>\n",
       "      <td>32.11 (2.222)</td>\n",
       "      <td>31.47 (2.238)</td>\n",
       "      <td>31.29 (2.455)</td>\n",
       "      <td>31.2 (2.553)</td>\n",
       "      <td>24.62 (0.007451)</td>\n",
       "      <td>29.56 (2.553)</td>\n",
       "      <td>31.07</td>\n",
       "    </tr>\n",
       "    <tr>\n",
       "      <th>2</th>\n",
       "      <td>20</td>\n",
       "      <td>30.73 (2.325)</td>\n",
       "      <td>30.08 (2.291)</td>\n",
       "      <td>30.09 (2.348)</td>\n",
       "      <td>30.02 (2.394)</td>\n",
       "      <td>22.11 (0.01243)</td>\n",
       "      <td>28.25 (2.645)</td>\n",
       "      <td>29.6</td>\n",
       "    </tr>\n",
       "    <tr>\n",
       "      <th>3</th>\n",
       "      <td>25</td>\n",
       "      <td>29.67 (2.415)</td>\n",
       "      <td>29.01 (2.325)</td>\n",
       "      <td>29.1 (2.314)</td>\n",
       "      <td>29.05 (2.275)</td>\n",
       "      <td>20.16 (0.02027)</td>\n",
       "      <td>27.32 (2.684)</td>\n",
       "      <td>28.57</td>\n",
       "    </tr>\n",
       "    <tr>\n",
       "      <th>4</th>\n",
       "      <td>30</td>\n",
       "      <td>28.87 (2.475)</td>\n",
       "      <td>28.19 (2.314)</td>\n",
       "      <td>28.25 (2.279)</td>\n",
       "      <td>28.22 (2.252)</td>\n",
       "      <td>18.58 (0.01571)</td>\n",
       "      <td>26.61 (2.694)</td>\n",
       "      <td>27.74</td>\n",
       "    </tr>\n",
       "    <tr>\n",
       "      <th>5</th>\n",
       "      <td>50</td>\n",
       "      <td>26.72 (2.582)</td>\n",
       "      <td>25.92 (2.316)</td>\n",
       "      <td>25.86 (2.171)</td>\n",
       "      <td>25.86 (2.178)</td>\n",
       "      <td>14.15 (0.01382)</td>\n",
       "      <td>24.79 (2.673)</td>\n",
       "      <td>25.62</td>\n",
       "    </tr>\n",
       "    <tr>\n",
       "      <th>6</th>\n",
       "      <td>75</td>\n",
       "      <td>22.45 (1.265)</td>\n",
       "      <td>24.1 (2.146)</td>\n",
       "      <td>24.0 (1.978)</td>\n",
       "      <td>23.98 (2.033)</td>\n",
       "      <td>10.63 (0.01462)</td>\n",
       "      <td>23.46 (2.574)</td>\n",
       "      <td>24.21</td>\n",
       "    </tr>\n",
       "  </tbody>\n",
       "</table>\n",
       "</div>"
      ],
      "text/plain": [
       "  noise_std unet-multiple-stds learnlet_0_55_big_bsd learnlet_20_40_big_bsd  \\\n",
       "0         5       38.2 (1.868)         37.14 (2.066)          32.72 (3.992)   \n",
       "1        15      32.11 (2.222)         31.47 (2.238)          31.29 (2.455)   \n",
       "2        20      30.73 (2.325)         30.08 (2.291)          30.09 (2.348)   \n",
       "3        25      29.67 (2.415)         29.01 (2.325)           29.1 (2.314)   \n",
       "4        30      28.87 (2.475)         28.19 (2.314)          28.25 (2.279)   \n",
       "5        50      26.72 (2.582)         25.92 (2.316)          25.86 (2.171)   \n",
       "6        75      22.45 (1.265)          24.1 (2.146)           24.0 (1.978)   \n",
       "\n",
       "  learnlet_30_big_bsd          original    wavelets_24   bm3d  \n",
       "0       31.65 (4.219)   34.16 (0.01685)  35.76 (1.937)  37.57  \n",
       "1        31.2 (2.553)  24.62 (0.007451)  29.56 (2.553)  31.07  \n",
       "2       30.02 (2.394)   22.11 (0.01243)  28.25 (2.645)   29.6  \n",
       "3       29.05 (2.275)   20.16 (0.02027)  27.32 (2.684)  28.57  \n",
       "4       28.22 (2.252)   18.58 (0.01571)  26.61 (2.694)  27.74  \n",
       "5       25.86 (2.178)   14.15 (0.01382)  24.79 (2.673)  25.62  \n",
       "6       23.98 (2.033)   10.63 (0.01462)  23.46 (2.574)  24.21  "
      ]
     },
     "execution_count": 109,
     "metadata": {},
     "output_type": "execute_result"
    }
   ],
   "source": [
    "# PSNR table\n",
    "psnr_metrics_table = pd.DataFrame(\n",
    "    columns=['noise_std'] + [p['name'] for p in all_net_params] + [p['name'] for p in dynamic_denoising_net_params] + ['original', 'wavelets_24', 'bm3d'],\n",
    ")\n",
    "for i, (noise_std, metrics) in enumerate(noise_std_metrics.items()):\n",
    "    psnr_metrics_table.loc[i, 'noise_std'] = noise_std\n",
    "    for name, m in metrics:\n",
    "        psnr_metrics_table.loc[i, name] = \"{mean:.4} ({std:.4})\".format(\n",
    "            mean=m.metrics['PSNR'].mean(), \n",
    "            std=m.metrics['PSNR'].stddev(),\n",
    "        )\n",
    "    psnr_metrics_table.loc[i, 'bm3d'] = BM3D_psnr_results[noise_std]\n",
    "    psnr_metrics_table.loc[i, 'wavelets_24'] = \"{mean:.4} ({std:.4})\".format(\n",
    "        mean=wavelets_psnr_results[noise_std][0], \n",
    "        std=wavelets_psnr_results[noise_std][1],\n",
    "    )\n",
    "psnr_metrics_table"
   ]
  },
  {
   "cell_type": "code",
   "execution_count": 110,
   "metadata": {},
   "outputs": [
    {
     "data": {
      "text/html": [
       "<div>\n",
       "<style scoped>\n",
       "    .dataframe tbody tr th:only-of-type {\n",
       "        vertical-align: middle;\n",
       "    }\n",
       "\n",
       "    .dataframe tbody tr th {\n",
       "        vertical-align: top;\n",
       "    }\n",
       "\n",
       "    .dataframe thead th {\n",
       "        text-align: right;\n",
       "    }\n",
       "</style>\n",
       "<table border=\"1\" class=\"dataframe\">\n",
       "  <thead>\n",
       "    <tr style=\"text-align: right;\">\n",
       "      <th></th>\n",
       "      <th>noise_std</th>\n",
       "      <th>unet-multiple-stds</th>\n",
       "      <th>learnlet_0_55_big_bsd</th>\n",
       "      <th>learnlet_20_40_big_bsd</th>\n",
       "      <th>learnlet_30_big_bsd</th>\n",
       "      <th>original</th>\n",
       "      <th>wavelets_24</th>\n",
       "      <th>bm3d</th>\n",
       "    </tr>\n",
       "  </thead>\n",
       "  <tbody>\n",
       "    <tr>\n",
       "      <th>0</th>\n",
       "      <td>5</td>\n",
       "      <td>0.9686 (0.009685)</td>\n",
       "      <td>0.9623 (0.01149)</td>\n",
       "      <td>0.9484 (0.0188)</td>\n",
       "      <td>0.9422 (0.02277)</td>\n",
       "      <td>0.8695 (0.05562)</td>\n",
       "      <td>NaN</td>\n",
       "      <td>NaN</td>\n",
       "    </tr>\n",
       "    <tr>\n",
       "      <th>1</th>\n",
       "      <td>15</td>\n",
       "      <td>0.8951 (0.03559)</td>\n",
       "      <td>0.874 (0.03558)</td>\n",
       "      <td>0.8745 (0.03484)</td>\n",
       "      <td>0.875 (0.03364)</td>\n",
       "      <td>0.5306 (0.1257)</td>\n",
       "      <td>NaN</td>\n",
       "      <td>NaN</td>\n",
       "    </tr>\n",
       "    <tr>\n",
       "      <th>2</th>\n",
       "      <td>20</td>\n",
       "      <td>0.8626 (0.04745)</td>\n",
       "      <td>0.8342 (0.04397)</td>\n",
       "      <td>0.8339 (0.0416)</td>\n",
       "      <td>0.833 (0.04221)</td>\n",
       "      <td>0.4282 (0.1244)</td>\n",
       "      <td>NaN</td>\n",
       "      <td>NaN</td>\n",
       "    </tr>\n",
       "    <tr>\n",
       "      <th>3</th>\n",
       "      <td>25</td>\n",
       "      <td>0.8319 (0.05893)</td>\n",
       "      <td>0.7946 (0.05068)</td>\n",
       "      <td>0.7968 (0.04468)</td>\n",
       "      <td>0.7945 (0.04371)</td>\n",
       "      <td>0.3531 (0.1172)</td>\n",
       "      <td>NaN</td>\n",
       "      <td>NaN</td>\n",
       "    </tr>\n",
       "    <tr>\n",
       "      <th>4</th>\n",
       "      <td>30</td>\n",
       "      <td>0.805 (0.06688)</td>\n",
       "      <td>0.7624 (0.05291)</td>\n",
       "      <td>0.7596 (0.04573)</td>\n",
       "      <td>0.7579 (0.0462)</td>\n",
       "      <td>0.2955 (0.1074)</td>\n",
       "      <td>NaN</td>\n",
       "      <td>NaN</td>\n",
       "    </tr>\n",
       "    <tr>\n",
       "      <th>5</th>\n",
       "      <td>50</td>\n",
       "      <td>0.719 (0.09581)</td>\n",
       "      <td>0.64 (0.05528)</td>\n",
       "      <td>0.6321 (0.04944)</td>\n",
       "      <td>0.6303 (0.04645)</td>\n",
       "      <td>0.1624 (0.07342)</td>\n",
       "      <td>NaN</td>\n",
       "      <td>NaN</td>\n",
       "    </tr>\n",
       "    <tr>\n",
       "      <th>6</th>\n",
       "      <td>75</td>\n",
       "      <td>0.384 (0.04175)</td>\n",
       "      <td>0.5219 (0.05128)</td>\n",
       "      <td>0.5102 (0.034)</td>\n",
       "      <td>0.505 (0.03551)</td>\n",
       "      <td>0.08869 (0.04695)</td>\n",
       "      <td>NaN</td>\n",
       "      <td>NaN</td>\n",
       "    </tr>\n",
       "  </tbody>\n",
       "</table>\n",
       "</div>"
      ],
      "text/plain": [
       "  noise_std unet-multiple-stds learnlet_0_55_big_bsd learnlet_20_40_big_bsd  \\\n",
       "0         5  0.9686 (0.009685)      0.9623 (0.01149)        0.9484 (0.0188)   \n",
       "1        15   0.8951 (0.03559)       0.874 (0.03558)       0.8745 (0.03484)   \n",
       "2        20   0.8626 (0.04745)      0.8342 (0.04397)        0.8339 (0.0416)   \n",
       "3        25   0.8319 (0.05893)      0.7946 (0.05068)       0.7968 (0.04468)   \n",
       "4        30    0.805 (0.06688)      0.7624 (0.05291)       0.7596 (0.04573)   \n",
       "5        50    0.719 (0.09581)        0.64 (0.05528)       0.6321 (0.04944)   \n",
       "6        75    0.384 (0.04175)      0.5219 (0.05128)         0.5102 (0.034)   \n",
       "\n",
       "  learnlet_30_big_bsd           original wavelets_24 bm3d  \n",
       "0    0.9422 (0.02277)   0.8695 (0.05562)         NaN  NaN  \n",
       "1     0.875 (0.03364)    0.5306 (0.1257)         NaN  NaN  \n",
       "2     0.833 (0.04221)    0.4282 (0.1244)         NaN  NaN  \n",
       "3    0.7945 (0.04371)    0.3531 (0.1172)         NaN  NaN  \n",
       "4     0.7579 (0.0462)    0.2955 (0.1074)         NaN  NaN  \n",
       "5    0.6303 (0.04645)   0.1624 (0.07342)         NaN  NaN  \n",
       "6     0.505 (0.03551)  0.08869 (0.04695)         NaN  NaN  "
      ]
     },
     "execution_count": 110,
     "metadata": {},
     "output_type": "execute_result"
    }
   ],
   "source": [
    "# SSIM table\n",
    "ssim_metrics_table = pd.DataFrame(\n",
    "    columns=['noise_std'] + [p['name'] for p in all_net_params] + [p['name'] for p in dynamic_denoising_net_params] + ['original', 'wavelets_24', 'bm3d'],\n",
    ")\n",
    "for i, (noise_std, metrics) in enumerate(noise_std_metrics.items()):\n",
    "    ssim_metrics_table.loc[i, 'noise_std'] = noise_std\n",
    "    for name, m in metrics:\n",
    "        ssim_metrics_table.loc[i, name] = \"{mean:.4} ({std:.4})\".format(\n",
    "            mean=m.metrics['SSIM'].mean(), \n",
    "            std=m.metrics['SSIM'].stddev(),\n",
    "        )\n",
    "ssim_metrics_table"
   ]
  },
  {
   "cell_type": "code",
   "execution_count": 111,
   "metadata": {},
   "outputs": [],
   "source": [
    "%matplotlib nbagg\n",
    "import matplotlib.pyplot as plt\n",
    "import seaborn as sns"
   ]
  },
  {
   "cell_type": "code",
   "execution_count": 112,
   "metadata": {},
   "outputs": [],
   "source": [
    "sns.set(style=\"whitegrid\", palette=\"muted\", rc={'figure.figsize': (9, 5), 'image.cmap': 'gray'})"
   ]
  },
  {
   "cell_type": "code",
   "execution_count": 113,
   "metadata": {
    "scrolled": true
   },
   "outputs": [
    {
     "data": {
      "text/html": [
       "<div>\n",
       "<style scoped>\n",
       "    .dataframe tbody tr th:only-of-type {\n",
       "        vertical-align: middle;\n",
       "    }\n",
       "\n",
       "    .dataframe tbody tr th {\n",
       "        vertical-align: top;\n",
       "    }\n",
       "\n",
       "    .dataframe thead th {\n",
       "        text-align: right;\n",
       "    }\n",
       "</style>\n",
       "<table border=\"1\" class=\"dataframe\">\n",
       "  <thead>\n",
       "    <tr style=\"text-align: right;\">\n",
       "      <th></th>\n",
       "      <th>Test noise standard deviation</th>\n",
       "      <th>PSNR</th>\n",
       "      <th>psnr-std-dev</th>\n",
       "      <th>model_name</th>\n",
       "      <th>Model</th>\n",
       "      <th>Train standard deviation</th>\n",
       "    </tr>\n",
       "  </thead>\n",
       "  <tbody>\n",
       "    <tr>\n",
       "      <th>0</th>\n",
       "      <td>5</td>\n",
       "      <td>38.2039</td>\n",
       "      <td>0.933777</td>\n",
       "      <td>unet-multiple-stds</td>\n",
       "      <td>U-net</td>\n",
       "      <td>[0; 55]</td>\n",
       "    </tr>\n",
       "    <tr>\n",
       "      <th>1</th>\n",
       "      <td>5</td>\n",
       "      <td>34.1559</td>\n",
       "      <td>0.00842284</td>\n",
       "      <td>original</td>\n",
       "      <td>Original</td>\n",
       "      <td>[0; 55]</td>\n",
       "    </tr>\n",
       "    <tr>\n",
       "      <th>2</th>\n",
       "      <td>5</td>\n",
       "      <td>37.1366</td>\n",
       "      <td>1.03321</td>\n",
       "      <td>learnlet_0_55_big_bsd</td>\n",
       "      <td>Learnlets</td>\n",
       "      <td>[0; 55]</td>\n",
       "    </tr>\n",
       "    <tr>\n",
       "      <th>3</th>\n",
       "      <td>5</td>\n",
       "      <td>32.7176</td>\n",
       "      <td>1.99581</td>\n",
       "      <td>learnlet_20_40_big_bsd</td>\n",
       "      <td>Learnlets</td>\n",
       "      <td>[20; 40]</td>\n",
       "    </tr>\n",
       "    <tr>\n",
       "      <th>4</th>\n",
       "      <td>5</td>\n",
       "      <td>31.6496</td>\n",
       "      <td>2.10965</td>\n",
       "      <td>learnlet_30_big_bsd</td>\n",
       "      <td>Learnlets</td>\n",
       "      <td>30</td>\n",
       "    </tr>\n",
       "    <tr>\n",
       "      <th>5</th>\n",
       "      <td>5</td>\n",
       "      <td>37.57</td>\n",
       "      <td>0</td>\n",
       "      <td>bm3d</td>\n",
       "      <td>BM3D</td>\n",
       "      <td>[0; 55]</td>\n",
       "    </tr>\n",
       "    <tr>\n",
       "      <th>6</th>\n",
       "      <td>5</td>\n",
       "      <td>35.76</td>\n",
       "      <td>1.937</td>\n",
       "      <td>wavelets_24</td>\n",
       "      <td>Wavelets</td>\n",
       "      <td>[0; 55]</td>\n",
       "    </tr>\n",
       "    <tr>\n",
       "      <th>7</th>\n",
       "      <td>15</td>\n",
       "      <td>32.1133</td>\n",
       "      <td>1.11093</td>\n",
       "      <td>unet-multiple-stds</td>\n",
       "      <td>U-net</td>\n",
       "      <td>[0; 55]</td>\n",
       "    </tr>\n",
       "    <tr>\n",
       "      <th>8</th>\n",
       "      <td>15</td>\n",
       "      <td>24.6155</td>\n",
       "      <td>0.00372558</td>\n",
       "      <td>original</td>\n",
       "      <td>Original</td>\n",
       "      <td>[0; 55]</td>\n",
       "    </tr>\n",
       "    <tr>\n",
       "      <th>9</th>\n",
       "      <td>15</td>\n",
       "      <td>31.4667</td>\n",
       "      <td>1.11922</td>\n",
       "      <td>learnlet_0_55_big_bsd</td>\n",
       "      <td>Learnlets</td>\n",
       "      <td>[0; 55]</td>\n",
       "    </tr>\n",
       "    <tr>\n",
       "      <th>10</th>\n",
       "      <td>15</td>\n",
       "      <td>31.2907</td>\n",
       "      <td>1.22741</td>\n",
       "      <td>learnlet_20_40_big_bsd</td>\n",
       "      <td>Learnlets</td>\n",
       "      <td>[20; 40]</td>\n",
       "    </tr>\n",
       "    <tr>\n",
       "      <th>11</th>\n",
       "      <td>15</td>\n",
       "      <td>31.1967</td>\n",
       "      <td>1.27667</td>\n",
       "      <td>learnlet_30_big_bsd</td>\n",
       "      <td>Learnlets</td>\n",
       "      <td>30</td>\n",
       "    </tr>\n",
       "    <tr>\n",
       "      <th>12</th>\n",
       "      <td>15</td>\n",
       "      <td>31.07</td>\n",
       "      <td>0</td>\n",
       "      <td>bm3d</td>\n",
       "      <td>BM3D</td>\n",
       "      <td>[0; 55]</td>\n",
       "    </tr>\n",
       "    <tr>\n",
       "      <th>13</th>\n",
       "      <td>15</td>\n",
       "      <td>29.56</td>\n",
       "      <td>2.553</td>\n",
       "      <td>wavelets_24</td>\n",
       "      <td>Wavelets</td>\n",
       "      <td>[0; 55]</td>\n",
       "    </tr>\n",
       "    <tr>\n",
       "      <th>14</th>\n",
       "      <td>20</td>\n",
       "      <td>30.7314</td>\n",
       "      <td>1.16271</td>\n",
       "      <td>unet-multiple-stds</td>\n",
       "      <td>U-net</td>\n",
       "      <td>[0; 55]</td>\n",
       "    </tr>\n",
       "    <tr>\n",
       "      <th>15</th>\n",
       "      <td>20</td>\n",
       "      <td>22.106</td>\n",
       "      <td>0.0062164</td>\n",
       "      <td>original</td>\n",
       "      <td>Original</td>\n",
       "      <td>[0; 55]</td>\n",
       "    </tr>\n",
       "    <tr>\n",
       "      <th>16</th>\n",
       "      <td>20</td>\n",
       "      <td>30.0846</td>\n",
       "      <td>1.14545</td>\n",
       "      <td>learnlet_0_55_big_bsd</td>\n",
       "      <td>Learnlets</td>\n",
       "      <td>[0; 55]</td>\n",
       "    </tr>\n",
       "    <tr>\n",
       "      <th>17</th>\n",
       "      <td>20</td>\n",
       "      <td>30.0902</td>\n",
       "      <td>1.17412</td>\n",
       "      <td>learnlet_20_40_big_bsd</td>\n",
       "      <td>Learnlets</td>\n",
       "      <td>[20; 40]</td>\n",
       "    </tr>\n",
       "    <tr>\n",
       "      <th>18</th>\n",
       "      <td>20</td>\n",
       "      <td>30.0204</td>\n",
       "      <td>1.19676</td>\n",
       "      <td>learnlet_30_big_bsd</td>\n",
       "      <td>Learnlets</td>\n",
       "      <td>30</td>\n",
       "    </tr>\n",
       "    <tr>\n",
       "      <th>19</th>\n",
       "      <td>20</td>\n",
       "      <td>29.6</td>\n",
       "      <td>0</td>\n",
       "      <td>bm3d</td>\n",
       "      <td>BM3D</td>\n",
       "      <td>[0; 55]</td>\n",
       "    </tr>\n",
       "    <tr>\n",
       "      <th>20</th>\n",
       "      <td>20</td>\n",
       "      <td>28.25</td>\n",
       "      <td>2.645</td>\n",
       "      <td>wavelets_24</td>\n",
       "      <td>Wavelets</td>\n",
       "      <td>[0; 55]</td>\n",
       "    </tr>\n",
       "    <tr>\n",
       "      <th>21</th>\n",
       "      <td>25</td>\n",
       "      <td>29.6711</td>\n",
       "      <td>1.20741</td>\n",
       "      <td>unet-multiple-stds</td>\n",
       "      <td>U-net</td>\n",
       "      <td>[0; 55]</td>\n",
       "    </tr>\n",
       "    <tr>\n",
       "      <th>22</th>\n",
       "      <td>25</td>\n",
       "      <td>20.161</td>\n",
       "      <td>0.0101335</td>\n",
       "      <td>original</td>\n",
       "      <td>Original</td>\n",
       "      <td>[0; 55]</td>\n",
       "    </tr>\n",
       "    <tr>\n",
       "      <th>23</th>\n",
       "      <td>25</td>\n",
       "      <td>29.0097</td>\n",
       "      <td>1.16232</td>\n",
       "      <td>learnlet_0_55_big_bsd</td>\n",
       "      <td>Learnlets</td>\n",
       "      <td>[0; 55]</td>\n",
       "    </tr>\n",
       "    <tr>\n",
       "      <th>24</th>\n",
       "      <td>25</td>\n",
       "      <td>29.0973</td>\n",
       "      <td>1.15711</td>\n",
       "      <td>learnlet_20_40_big_bsd</td>\n",
       "      <td>Learnlets</td>\n",
       "      <td>[20; 40]</td>\n",
       "    </tr>\n",
       "    <tr>\n",
       "      <th>25</th>\n",
       "      <td>25</td>\n",
       "      <td>29.0541</td>\n",
       "      <td>1.1375</td>\n",
       "      <td>learnlet_30_big_bsd</td>\n",
       "      <td>Learnlets</td>\n",
       "      <td>30</td>\n",
       "    </tr>\n",
       "    <tr>\n",
       "      <th>26</th>\n",
       "      <td>25</td>\n",
       "      <td>28.57</td>\n",
       "      <td>0</td>\n",
       "      <td>bm3d</td>\n",
       "      <td>BM3D</td>\n",
       "      <td>[0; 55]</td>\n",
       "    </tr>\n",
       "    <tr>\n",
       "      <th>27</th>\n",
       "      <td>25</td>\n",
       "      <td>27.32</td>\n",
       "      <td>2.684</td>\n",
       "      <td>wavelets_24</td>\n",
       "      <td>Wavelets</td>\n",
       "      <td>[0; 55]</td>\n",
       "    </tr>\n",
       "    <tr>\n",
       "      <th>28</th>\n",
       "      <td>30</td>\n",
       "      <td>28.8719</td>\n",
       "      <td>1.23757</td>\n",
       "      <td>unet-multiple-stds</td>\n",
       "      <td>U-net</td>\n",
       "      <td>[0; 55]</td>\n",
       "    </tr>\n",
       "    <tr>\n",
       "      <th>29</th>\n",
       "      <td>30</td>\n",
       "      <td>18.5784</td>\n",
       "      <td>0.00785541</td>\n",
       "      <td>original</td>\n",
       "      <td>Original</td>\n",
       "      <td>[0; 55]</td>\n",
       "    </tr>\n",
       "    <tr>\n",
       "      <th>30</th>\n",
       "      <td>30</td>\n",
       "      <td>28.1871</td>\n",
       "      <td>1.157</td>\n",
       "      <td>learnlet_0_55_big_bsd</td>\n",
       "      <td>Learnlets</td>\n",
       "      <td>[0; 55]</td>\n",
       "    </tr>\n",
       "    <tr>\n",
       "      <th>31</th>\n",
       "      <td>30</td>\n",
       "      <td>28.2542</td>\n",
       "      <td>1.13973</td>\n",
       "      <td>learnlet_20_40_big_bsd</td>\n",
       "      <td>Learnlets</td>\n",
       "      <td>[20; 40]</td>\n",
       "    </tr>\n",
       "    <tr>\n",
       "      <th>32</th>\n",
       "      <td>30</td>\n",
       "      <td>28.2227</td>\n",
       "      <td>1.12617</td>\n",
       "      <td>learnlet_30_big_bsd</td>\n",
       "      <td>Learnlets</td>\n",
       "      <td>30</td>\n",
       "    </tr>\n",
       "    <tr>\n",
       "      <th>33</th>\n",
       "      <td>30</td>\n",
       "      <td>27.74</td>\n",
       "      <td>0</td>\n",
       "      <td>bm3d</td>\n",
       "      <td>BM3D</td>\n",
       "      <td>[0; 55]</td>\n",
       "    </tr>\n",
       "    <tr>\n",
       "      <th>34</th>\n",
       "      <td>30</td>\n",
       "      <td>26.61</td>\n",
       "      <td>2.694</td>\n",
       "      <td>wavelets_24</td>\n",
       "      <td>Wavelets</td>\n",
       "      <td>[0; 55]</td>\n",
       "    </tr>\n",
       "    <tr>\n",
       "      <th>35</th>\n",
       "      <td>50</td>\n",
       "      <td>26.7237</td>\n",
       "      <td>1.29086</td>\n",
       "      <td>unet-multiple-stds</td>\n",
       "      <td>U-net</td>\n",
       "      <td>[0; 55]</td>\n",
       "    </tr>\n",
       "    <tr>\n",
       "      <th>36</th>\n",
       "      <td>50</td>\n",
       "      <td>14.1482</td>\n",
       "      <td>0.00690753</td>\n",
       "      <td>original</td>\n",
       "      <td>Original</td>\n",
       "      <td>[0; 55]</td>\n",
       "    </tr>\n",
       "    <tr>\n",
       "      <th>37</th>\n",
       "      <td>50</td>\n",
       "      <td>25.9211</td>\n",
       "      <td>1.15786</td>\n",
       "      <td>learnlet_0_55_big_bsd</td>\n",
       "      <td>Learnlets</td>\n",
       "      <td>[0; 55]</td>\n",
       "    </tr>\n",
       "    <tr>\n",
       "      <th>38</th>\n",
       "      <td>50</td>\n",
       "      <td>25.861</td>\n",
       "      <td>1.08531</td>\n",
       "      <td>learnlet_20_40_big_bsd</td>\n",
       "      <td>Learnlets</td>\n",
       "      <td>[20; 40]</td>\n",
       "    </tr>\n",
       "    <tr>\n",
       "      <th>39</th>\n",
       "      <td>50</td>\n",
       "      <td>25.8584</td>\n",
       "      <td>1.08921</td>\n",
       "      <td>learnlet_30_big_bsd</td>\n",
       "      <td>Learnlets</td>\n",
       "      <td>30</td>\n",
       "    </tr>\n",
       "    <tr>\n",
       "      <th>40</th>\n",
       "      <td>50</td>\n",
       "      <td>25.62</td>\n",
       "      <td>0</td>\n",
       "      <td>bm3d</td>\n",
       "      <td>BM3D</td>\n",
       "      <td>[0; 55]</td>\n",
       "    </tr>\n",
       "    <tr>\n",
       "      <th>41</th>\n",
       "      <td>50</td>\n",
       "      <td>24.79</td>\n",
       "      <td>2.673</td>\n",
       "      <td>wavelets_24</td>\n",
       "      <td>Wavelets</td>\n",
       "      <td>[0; 55]</td>\n",
       "    </tr>\n",
       "    <tr>\n",
       "      <th>42</th>\n",
       "      <td>75</td>\n",
       "      <td>22.4512</td>\n",
       "      <td>0.632593</td>\n",
       "      <td>unet-multiple-stds</td>\n",
       "      <td>U-net</td>\n",
       "      <td>[0; 55]</td>\n",
       "    </tr>\n",
       "    <tr>\n",
       "      <th>43</th>\n",
       "      <td>75</td>\n",
       "      <td>10.6272</td>\n",
       "      <td>0.00730889</td>\n",
       "      <td>original</td>\n",
       "      <td>Original</td>\n",
       "      <td>[0; 55]</td>\n",
       "    </tr>\n",
       "    <tr>\n",
       "      <th>44</th>\n",
       "      <td>75</td>\n",
       "      <td>24.0996</td>\n",
       "      <td>1.07293</td>\n",
       "      <td>learnlet_0_55_big_bsd</td>\n",
       "      <td>Learnlets</td>\n",
       "      <td>[0; 55]</td>\n",
       "    </tr>\n",
       "    <tr>\n",
       "      <th>45</th>\n",
       "      <td>75</td>\n",
       "      <td>23.9952</td>\n",
       "      <td>0.988833</td>\n",
       "      <td>learnlet_20_40_big_bsd</td>\n",
       "      <td>Learnlets</td>\n",
       "      <td>[20; 40]</td>\n",
       "    </tr>\n",
       "    <tr>\n",
       "      <th>46</th>\n",
       "      <td>75</td>\n",
       "      <td>23.9792</td>\n",
       "      <td>1.01666</td>\n",
       "      <td>learnlet_30_big_bsd</td>\n",
       "      <td>Learnlets</td>\n",
       "      <td>30</td>\n",
       "    </tr>\n",
       "    <tr>\n",
       "      <th>47</th>\n",
       "      <td>75</td>\n",
       "      <td>24.21</td>\n",
       "      <td>0</td>\n",
       "      <td>bm3d</td>\n",
       "      <td>BM3D</td>\n",
       "      <td>[0; 55]</td>\n",
       "    </tr>\n",
       "    <tr>\n",
       "      <th>48</th>\n",
       "      <td>75</td>\n",
       "      <td>23.46</td>\n",
       "      <td>2.574</td>\n",
       "      <td>wavelets_24</td>\n",
       "      <td>Wavelets</td>\n",
       "      <td>[0; 55]</td>\n",
       "    </tr>\n",
       "  </tbody>\n",
       "</table>\n",
       "</div>"
      ],
      "text/plain": [
       "   Test noise standard deviation     PSNR psnr-std-dev  \\\n",
       "0                              5  38.2039     0.933777   \n",
       "1                              5  34.1559   0.00842284   \n",
       "2                              5  37.1366      1.03321   \n",
       "3                              5  32.7176      1.99581   \n",
       "4                              5  31.6496      2.10965   \n",
       "5                              5    37.57            0   \n",
       "6                              5    35.76        1.937   \n",
       "7                             15  32.1133      1.11093   \n",
       "8                             15  24.6155   0.00372558   \n",
       "9                             15  31.4667      1.11922   \n",
       "10                            15  31.2907      1.22741   \n",
       "11                            15  31.1967      1.27667   \n",
       "12                            15    31.07            0   \n",
       "13                            15    29.56        2.553   \n",
       "14                            20  30.7314      1.16271   \n",
       "15                            20   22.106    0.0062164   \n",
       "16                            20  30.0846      1.14545   \n",
       "17                            20  30.0902      1.17412   \n",
       "18                            20  30.0204      1.19676   \n",
       "19                            20     29.6            0   \n",
       "20                            20    28.25        2.645   \n",
       "21                            25  29.6711      1.20741   \n",
       "22                            25   20.161    0.0101335   \n",
       "23                            25  29.0097      1.16232   \n",
       "24                            25  29.0973      1.15711   \n",
       "25                            25  29.0541       1.1375   \n",
       "26                            25    28.57            0   \n",
       "27                            25    27.32        2.684   \n",
       "28                            30  28.8719      1.23757   \n",
       "29                            30  18.5784   0.00785541   \n",
       "30                            30  28.1871        1.157   \n",
       "31                            30  28.2542      1.13973   \n",
       "32                            30  28.2227      1.12617   \n",
       "33                            30    27.74            0   \n",
       "34                            30    26.61        2.694   \n",
       "35                            50  26.7237      1.29086   \n",
       "36                            50  14.1482   0.00690753   \n",
       "37                            50  25.9211      1.15786   \n",
       "38                            50   25.861      1.08531   \n",
       "39                            50  25.8584      1.08921   \n",
       "40                            50    25.62            0   \n",
       "41                            50    24.79        2.673   \n",
       "42                            75  22.4512     0.632593   \n",
       "43                            75  10.6272   0.00730889   \n",
       "44                            75  24.0996      1.07293   \n",
       "45                            75  23.9952     0.988833   \n",
       "46                            75  23.9792      1.01666   \n",
       "47                            75    24.21            0   \n",
       "48                            75    23.46        2.574   \n",
       "\n",
       "                model_name      Model Train standard deviation  \n",
       "0       unet-multiple-stds      U-net                  [0; 55]  \n",
       "1                 original   Original                  [0; 55]  \n",
       "2    learnlet_0_55_big_bsd  Learnlets                  [0; 55]  \n",
       "3   learnlet_20_40_big_bsd  Learnlets                 [20; 40]  \n",
       "4      learnlet_30_big_bsd  Learnlets                       30  \n",
       "5                     bm3d       BM3D                  [0; 55]  \n",
       "6              wavelets_24   Wavelets                  [0; 55]  \n",
       "7       unet-multiple-stds      U-net                  [0; 55]  \n",
       "8                 original   Original                  [0; 55]  \n",
       "9    learnlet_0_55_big_bsd  Learnlets                  [0; 55]  \n",
       "10  learnlet_20_40_big_bsd  Learnlets                 [20; 40]  \n",
       "11     learnlet_30_big_bsd  Learnlets                       30  \n",
       "12                    bm3d       BM3D                  [0; 55]  \n",
       "13             wavelets_24   Wavelets                  [0; 55]  \n",
       "14      unet-multiple-stds      U-net                  [0; 55]  \n",
       "15                original   Original                  [0; 55]  \n",
       "16   learnlet_0_55_big_bsd  Learnlets                  [0; 55]  \n",
       "17  learnlet_20_40_big_bsd  Learnlets                 [20; 40]  \n",
       "18     learnlet_30_big_bsd  Learnlets                       30  \n",
       "19                    bm3d       BM3D                  [0; 55]  \n",
       "20             wavelets_24   Wavelets                  [0; 55]  \n",
       "21      unet-multiple-stds      U-net                  [0; 55]  \n",
       "22                original   Original                  [0; 55]  \n",
       "23   learnlet_0_55_big_bsd  Learnlets                  [0; 55]  \n",
       "24  learnlet_20_40_big_bsd  Learnlets                 [20; 40]  \n",
       "25     learnlet_30_big_bsd  Learnlets                       30  \n",
       "26                    bm3d       BM3D                  [0; 55]  \n",
       "27             wavelets_24   Wavelets                  [0; 55]  \n",
       "28      unet-multiple-stds      U-net                  [0; 55]  \n",
       "29                original   Original                  [0; 55]  \n",
       "30   learnlet_0_55_big_bsd  Learnlets                  [0; 55]  \n",
       "31  learnlet_20_40_big_bsd  Learnlets                 [20; 40]  \n",
       "32     learnlet_30_big_bsd  Learnlets                       30  \n",
       "33                    bm3d       BM3D                  [0; 55]  \n",
       "34             wavelets_24   Wavelets                  [0; 55]  \n",
       "35      unet-multiple-stds      U-net                  [0; 55]  \n",
       "36                original   Original                  [0; 55]  \n",
       "37   learnlet_0_55_big_bsd  Learnlets                  [0; 55]  \n",
       "38  learnlet_20_40_big_bsd  Learnlets                 [20; 40]  \n",
       "39     learnlet_30_big_bsd  Learnlets                       30  \n",
       "40                    bm3d       BM3D                  [0; 55]  \n",
       "41             wavelets_24   Wavelets                  [0; 55]  \n",
       "42      unet-multiple-stds      U-net                  [0; 55]  \n",
       "43                original   Original                  [0; 55]  \n",
       "44   learnlet_0_55_big_bsd  Learnlets                  [0; 55]  \n",
       "45  learnlet_20_40_big_bsd  Learnlets                 [20; 40]  \n",
       "46     learnlet_30_big_bsd  Learnlets                       30  \n",
       "47                    bm3d       BM3D                  [0; 55]  \n",
       "48             wavelets_24   Wavelets                  [0; 55]  "
      ]
     },
     "execution_count": 113,
     "metadata": {},
     "output_type": "execute_result"
    }
   ],
   "source": [
    "model_family_str = r'Model'\n",
    "train_stds_str = r'Train standard deviation'\n",
    "noise_std_str = 'Test noise standard deviation'\n",
    "psnr_str = 'PSNR'\n",
    "# PSNR to plot\n",
    "psnr_to_plot = pd.DataFrame(\n",
    "    columns=[noise_std_str, psnr_str, 'psnr-std-dev', 'model_name', model_family_str, train_stds_str]\n",
    ")\n",
    "\n",
    "def from_name_to_family(model_name):\n",
    "    if 'learnlet' in model_name:\n",
    "        return 'Learnlets'\n",
    "    elif 'unet' in model_name:\n",
    "        return 'U-net'\n",
    "    elif 'bm3d' in model_name:\n",
    "        return 'BM3D'\n",
    "    elif 'wavelets' in model_name:\n",
    "        return 'Wavelets'\n",
    "    else:\n",
    "        return 'Original'\n",
    "    \n",
    "def from_name_to_train_stds(model_name):\n",
    "    if '30' in model_name:\n",
    "        return '30'\n",
    "    elif '20_40' in model_name:\n",
    "        return '[20; 40]'\n",
    "    else:\n",
    "        return '[0; 55]'\n",
    "\n",
    "family_model_to_color = {\n",
    "    'U-net': (0.2823529411764706, 0.47058823529411764, 0.8156862745098039),\n",
    "    'Learnlets': (0.9333333333333333, 0.5215686274509804, 0.2901960784313726),\n",
    "    'BM3D': 'violet',\n",
    "    'Wavelets': 'red',\n",
    "    'Original': (0.41568627450980394, 0.8, 0.39215686274509803),\n",
    "}\n",
    "index = 0\n",
    "for i_noise, (noise_std, metrics) in enumerate(noise_std_metrics.items()):\n",
    "    for j_model, (name, m) in enumerate(metrics):\n",
    "        psnr_to_plot.loc[index, noise_std_str] = noise_std\n",
    "        psnr_to_plot.loc[index, psnr_str] = m.metrics['PSNR'].mean()\n",
    "        psnr_to_plot.loc[index, 'psnr-std-dev'] = m.metrics['PSNR'].stddev() / 2\n",
    "        psnr_to_plot.loc[index, 'model_name'] = name\n",
    "        psnr_to_plot.loc[index, train_stds_str] = from_name_to_train_stds(name)\n",
    "        psnr_to_plot.loc[index, model_family_str] = from_name_to_family(name)\n",
    "        index += 1\n",
    "    name = 'bm3d'\n",
    "    psnr_to_plot.loc[index, noise_std_str] = noise_std\n",
    "    psnr_to_plot.loc[index, psnr_str] = BM3D_psnr_results[noise_std]\n",
    "    psnr_to_plot.loc[index, 'psnr-std-dev'] = 0\n",
    "    psnr_to_plot.loc[index, 'model_name'] = name\n",
    "    psnr_to_plot.loc[index, train_stds_str] = from_name_to_train_stds(name)\n",
    "    psnr_to_plot.loc[index, model_family_str] = from_name_to_family(name)\n",
    "    index += 1\n",
    "    name = 'wavelets_24'\n",
    "    psnr_to_plot.loc[index, noise_std_str] = noise_std\n",
    "    psnr_to_plot.loc[index, psnr_str] = wavelets_psnr_results[noise_std][0]\n",
    "    psnr_to_plot.loc[index, 'psnr-std-dev'] = wavelets_psnr_results[noise_std][1]\n",
    "    psnr_to_plot.loc[index, 'model_name'] = name\n",
    "    psnr_to_plot.loc[index, train_stds_str] = from_name_to_train_stds(name)\n",
    "    psnr_to_plot.loc[index, model_family_str] = from_name_to_family(name)\n",
    "    index += 1\n",
    "psnr_to_plot"
   ]
  },
  {
   "cell_type": "code",
   "execution_count": 114,
   "metadata": {
    "scrolled": false
   },
   "outputs": [
    {
     "data": {
      "application/javascript": [
       "/* Put everything inside the global mpl namespace */\n",
       "window.mpl = {};\n",
       "\n",
       "\n",
       "mpl.get_websocket_type = function() {\n",
       "    if (typeof(WebSocket) !== 'undefined') {\n",
       "        return WebSocket;\n",
       "    } else if (typeof(MozWebSocket) !== 'undefined') {\n",
       "        return MozWebSocket;\n",
       "    } else {\n",
       "        alert('Your browser does not have WebSocket support. ' +\n",
       "              'Please try Chrome, Safari or Firefox ≥ 6. ' +\n",
       "              'Firefox 4 and 5 are also supported but you ' +\n",
       "              'have to enable WebSockets in about:config.');\n",
       "    };\n",
       "}\n",
       "\n",
       "mpl.figure = function(figure_id, websocket, ondownload, parent_element) {\n",
       "    this.id = figure_id;\n",
       "\n",
       "    this.ws = websocket;\n",
       "\n",
       "    this.supports_binary = (this.ws.binaryType != undefined);\n",
       "\n",
       "    if (!this.supports_binary) {\n",
       "        var warnings = document.getElementById(\"mpl-warnings\");\n",
       "        if (warnings) {\n",
       "            warnings.style.display = 'block';\n",
       "            warnings.textContent = (\n",
       "                \"This browser does not support binary websocket messages. \" +\n",
       "                    \"Performance may be slow.\");\n",
       "        }\n",
       "    }\n",
       "\n",
       "    this.imageObj = new Image();\n",
       "\n",
       "    this.context = undefined;\n",
       "    this.message = undefined;\n",
       "    this.canvas = undefined;\n",
       "    this.rubberband_canvas = undefined;\n",
       "    this.rubberband_context = undefined;\n",
       "    this.format_dropdown = undefined;\n",
       "\n",
       "    this.image_mode = 'full';\n",
       "\n",
       "    this.root = $('<div/>');\n",
       "    this._root_extra_style(this.root)\n",
       "    this.root.attr('style', 'display: inline-block');\n",
       "\n",
       "    $(parent_element).append(this.root);\n",
       "\n",
       "    this._init_header(this);\n",
       "    this._init_canvas(this);\n",
       "    this._init_toolbar(this);\n",
       "\n",
       "    var fig = this;\n",
       "\n",
       "    this.waiting = false;\n",
       "\n",
       "    this.ws.onopen =  function () {\n",
       "            fig.send_message(\"supports_binary\", {value: fig.supports_binary});\n",
       "            fig.send_message(\"send_image_mode\", {});\n",
       "            if (mpl.ratio != 1) {\n",
       "                fig.send_message(\"set_dpi_ratio\", {'dpi_ratio': mpl.ratio});\n",
       "            }\n",
       "            fig.send_message(\"refresh\", {});\n",
       "        }\n",
       "\n",
       "    this.imageObj.onload = function() {\n",
       "            if (fig.image_mode == 'full') {\n",
       "                // Full images could contain transparency (where diff images\n",
       "                // almost always do), so we need to clear the canvas so that\n",
       "                // there is no ghosting.\n",
       "                fig.context.clearRect(0, 0, fig.canvas.width, fig.canvas.height);\n",
       "            }\n",
       "            fig.context.drawImage(fig.imageObj, 0, 0);\n",
       "        };\n",
       "\n",
       "    this.imageObj.onunload = function() {\n",
       "        fig.ws.close();\n",
       "    }\n",
       "\n",
       "    this.ws.onmessage = this._make_on_message_function(this);\n",
       "\n",
       "    this.ondownload = ondownload;\n",
       "}\n",
       "\n",
       "mpl.figure.prototype._init_header = function() {\n",
       "    var titlebar = $(\n",
       "        '<div class=\"ui-dialog-titlebar ui-widget-header ui-corner-all ' +\n",
       "        'ui-helper-clearfix\"/>');\n",
       "    var titletext = $(\n",
       "        '<div class=\"ui-dialog-title\" style=\"width: 100%; ' +\n",
       "        'text-align: center; padding: 3px;\"/>');\n",
       "    titlebar.append(titletext)\n",
       "    this.root.append(titlebar);\n",
       "    this.header = titletext[0];\n",
       "}\n",
       "\n",
       "\n",
       "\n",
       "mpl.figure.prototype._canvas_extra_style = function(canvas_div) {\n",
       "\n",
       "}\n",
       "\n",
       "\n",
       "mpl.figure.prototype._root_extra_style = function(canvas_div) {\n",
       "\n",
       "}\n",
       "\n",
       "mpl.figure.prototype._init_canvas = function() {\n",
       "    var fig = this;\n",
       "\n",
       "    var canvas_div = $('<div/>');\n",
       "\n",
       "    canvas_div.attr('style', 'position: relative; clear: both; outline: 0');\n",
       "\n",
       "    function canvas_keyboard_event(event) {\n",
       "        return fig.key_event(event, event['data']);\n",
       "    }\n",
       "\n",
       "    canvas_div.keydown('key_press', canvas_keyboard_event);\n",
       "    canvas_div.keyup('key_release', canvas_keyboard_event);\n",
       "    this.canvas_div = canvas_div\n",
       "    this._canvas_extra_style(canvas_div)\n",
       "    this.root.append(canvas_div);\n",
       "\n",
       "    var canvas = $('<canvas/>');\n",
       "    canvas.addClass('mpl-canvas');\n",
       "    canvas.attr('style', \"left: 0; top: 0; z-index: 0; outline: 0\")\n",
       "\n",
       "    this.canvas = canvas[0];\n",
       "    this.context = canvas[0].getContext(\"2d\");\n",
       "\n",
       "    var backingStore = this.context.backingStorePixelRatio ||\n",
       "\tthis.context.webkitBackingStorePixelRatio ||\n",
       "\tthis.context.mozBackingStorePixelRatio ||\n",
       "\tthis.context.msBackingStorePixelRatio ||\n",
       "\tthis.context.oBackingStorePixelRatio ||\n",
       "\tthis.context.backingStorePixelRatio || 1;\n",
       "\n",
       "    mpl.ratio = (window.devicePixelRatio || 1) / backingStore;\n",
       "\n",
       "    var rubberband = $('<canvas/>');\n",
       "    rubberband.attr('style', \"position: absolute; left: 0; top: 0; z-index: 1;\")\n",
       "\n",
       "    var pass_mouse_events = true;\n",
       "\n",
       "    canvas_div.resizable({\n",
       "        start: function(event, ui) {\n",
       "            pass_mouse_events = false;\n",
       "        },\n",
       "        resize: function(event, ui) {\n",
       "            fig.request_resize(ui.size.width, ui.size.height);\n",
       "        },\n",
       "        stop: function(event, ui) {\n",
       "            pass_mouse_events = true;\n",
       "            fig.request_resize(ui.size.width, ui.size.height);\n",
       "        },\n",
       "    });\n",
       "\n",
       "    function mouse_event_fn(event) {\n",
       "        if (pass_mouse_events)\n",
       "            return fig.mouse_event(event, event['data']);\n",
       "    }\n",
       "\n",
       "    rubberband.mousedown('button_press', mouse_event_fn);\n",
       "    rubberband.mouseup('button_release', mouse_event_fn);\n",
       "    // Throttle sequential mouse events to 1 every 20ms.\n",
       "    rubberband.mousemove('motion_notify', mouse_event_fn);\n",
       "\n",
       "    rubberband.mouseenter('figure_enter', mouse_event_fn);\n",
       "    rubberband.mouseleave('figure_leave', mouse_event_fn);\n",
       "\n",
       "    canvas_div.on(\"wheel\", function (event) {\n",
       "        event = event.originalEvent;\n",
       "        event['data'] = 'scroll'\n",
       "        if (event.deltaY < 0) {\n",
       "            event.step = 1;\n",
       "        } else {\n",
       "            event.step = -1;\n",
       "        }\n",
       "        mouse_event_fn(event);\n",
       "    });\n",
       "\n",
       "    canvas_div.append(canvas);\n",
       "    canvas_div.append(rubberband);\n",
       "\n",
       "    this.rubberband = rubberband;\n",
       "    this.rubberband_canvas = rubberband[0];\n",
       "    this.rubberband_context = rubberband[0].getContext(\"2d\");\n",
       "    this.rubberband_context.strokeStyle = \"#000000\";\n",
       "\n",
       "    this._resize_canvas = function(width, height) {\n",
       "        // Keep the size of the canvas, canvas container, and rubber band\n",
       "        // canvas in synch.\n",
       "        canvas_div.css('width', width)\n",
       "        canvas_div.css('height', height)\n",
       "\n",
       "        canvas.attr('width', width * mpl.ratio);\n",
       "        canvas.attr('height', height * mpl.ratio);\n",
       "        canvas.attr('style', 'width: ' + width + 'px; height: ' + height + 'px;');\n",
       "\n",
       "        rubberband.attr('width', width);\n",
       "        rubberband.attr('height', height);\n",
       "    }\n",
       "\n",
       "    // Set the figure to an initial 600x600px, this will subsequently be updated\n",
       "    // upon first draw.\n",
       "    this._resize_canvas(600, 600);\n",
       "\n",
       "    // Disable right mouse context menu.\n",
       "    $(this.rubberband_canvas).bind(\"contextmenu\",function(e){\n",
       "        return false;\n",
       "    });\n",
       "\n",
       "    function set_focus () {\n",
       "        canvas.focus();\n",
       "        canvas_div.focus();\n",
       "    }\n",
       "\n",
       "    window.setTimeout(set_focus, 100);\n",
       "}\n",
       "\n",
       "mpl.figure.prototype._init_toolbar = function() {\n",
       "    var fig = this;\n",
       "\n",
       "    var nav_element = $('<div/>');\n",
       "    nav_element.attr('style', 'width: 100%');\n",
       "    this.root.append(nav_element);\n",
       "\n",
       "    // Define a callback function for later on.\n",
       "    function toolbar_event(event) {\n",
       "        return fig.toolbar_button_onclick(event['data']);\n",
       "    }\n",
       "    function toolbar_mouse_event(event) {\n",
       "        return fig.toolbar_button_onmouseover(event['data']);\n",
       "    }\n",
       "\n",
       "    for(var toolbar_ind in mpl.toolbar_items) {\n",
       "        var name = mpl.toolbar_items[toolbar_ind][0];\n",
       "        var tooltip = mpl.toolbar_items[toolbar_ind][1];\n",
       "        var image = mpl.toolbar_items[toolbar_ind][2];\n",
       "        var method_name = mpl.toolbar_items[toolbar_ind][3];\n",
       "\n",
       "        if (!name) {\n",
       "            // put a spacer in here.\n",
       "            continue;\n",
       "        }\n",
       "        var button = $('<button/>');\n",
       "        button.addClass('ui-button ui-widget ui-state-default ui-corner-all ' +\n",
       "                        'ui-button-icon-only');\n",
       "        button.attr('role', 'button');\n",
       "        button.attr('aria-disabled', 'false');\n",
       "        button.click(method_name, toolbar_event);\n",
       "        button.mouseover(tooltip, toolbar_mouse_event);\n",
       "\n",
       "        var icon_img = $('<span/>');\n",
       "        icon_img.addClass('ui-button-icon-primary ui-icon');\n",
       "        icon_img.addClass(image);\n",
       "        icon_img.addClass('ui-corner-all');\n",
       "\n",
       "        var tooltip_span = $('<span/>');\n",
       "        tooltip_span.addClass('ui-button-text');\n",
       "        tooltip_span.html(tooltip);\n",
       "\n",
       "        button.append(icon_img);\n",
       "        button.append(tooltip_span);\n",
       "\n",
       "        nav_element.append(button);\n",
       "    }\n",
       "\n",
       "    var fmt_picker_span = $('<span/>');\n",
       "\n",
       "    var fmt_picker = $('<select/>');\n",
       "    fmt_picker.addClass('mpl-toolbar-option ui-widget ui-widget-content');\n",
       "    fmt_picker_span.append(fmt_picker);\n",
       "    nav_element.append(fmt_picker_span);\n",
       "    this.format_dropdown = fmt_picker[0];\n",
       "\n",
       "    for (var ind in mpl.extensions) {\n",
       "        var fmt = mpl.extensions[ind];\n",
       "        var option = $(\n",
       "            '<option/>', {selected: fmt === mpl.default_extension}).html(fmt);\n",
       "        fmt_picker.append(option);\n",
       "    }\n",
       "\n",
       "    // Add hover states to the ui-buttons\n",
       "    $( \".ui-button\" ).hover(\n",
       "        function() { $(this).addClass(\"ui-state-hover\");},\n",
       "        function() { $(this).removeClass(\"ui-state-hover\");}\n",
       "    );\n",
       "\n",
       "    var status_bar = $('<span class=\"mpl-message\"/>');\n",
       "    nav_element.append(status_bar);\n",
       "    this.message = status_bar[0];\n",
       "}\n",
       "\n",
       "mpl.figure.prototype.request_resize = function(x_pixels, y_pixels) {\n",
       "    // Request matplotlib to resize the figure. Matplotlib will then trigger a resize in the client,\n",
       "    // which will in turn request a refresh of the image.\n",
       "    this.send_message('resize', {'width': x_pixels, 'height': y_pixels});\n",
       "}\n",
       "\n",
       "mpl.figure.prototype.send_message = function(type, properties) {\n",
       "    properties['type'] = type;\n",
       "    properties['figure_id'] = this.id;\n",
       "    this.ws.send(JSON.stringify(properties));\n",
       "}\n",
       "\n",
       "mpl.figure.prototype.send_draw_message = function() {\n",
       "    if (!this.waiting) {\n",
       "        this.waiting = true;\n",
       "        this.ws.send(JSON.stringify({type: \"draw\", figure_id: this.id}));\n",
       "    }\n",
       "}\n",
       "\n",
       "\n",
       "mpl.figure.prototype.handle_save = function(fig, msg) {\n",
       "    var format_dropdown = fig.format_dropdown;\n",
       "    var format = format_dropdown.options[format_dropdown.selectedIndex].value;\n",
       "    fig.ondownload(fig, format);\n",
       "}\n",
       "\n",
       "\n",
       "mpl.figure.prototype.handle_resize = function(fig, msg) {\n",
       "    var size = msg['size'];\n",
       "    if (size[0] != fig.canvas.width || size[1] != fig.canvas.height) {\n",
       "        fig._resize_canvas(size[0], size[1]);\n",
       "        fig.send_message(\"refresh\", {});\n",
       "    };\n",
       "}\n",
       "\n",
       "mpl.figure.prototype.handle_rubberband = function(fig, msg) {\n",
       "    var x0 = msg['x0'] / mpl.ratio;\n",
       "    var y0 = (fig.canvas.height - msg['y0']) / mpl.ratio;\n",
       "    var x1 = msg['x1'] / mpl.ratio;\n",
       "    var y1 = (fig.canvas.height - msg['y1']) / mpl.ratio;\n",
       "    x0 = Math.floor(x0) + 0.5;\n",
       "    y0 = Math.floor(y0) + 0.5;\n",
       "    x1 = Math.floor(x1) + 0.5;\n",
       "    y1 = Math.floor(y1) + 0.5;\n",
       "    var min_x = Math.min(x0, x1);\n",
       "    var min_y = Math.min(y0, y1);\n",
       "    var width = Math.abs(x1 - x0);\n",
       "    var height = Math.abs(y1 - y0);\n",
       "\n",
       "    fig.rubberband_context.clearRect(\n",
       "        0, 0, fig.canvas.width / mpl.ratio, fig.canvas.height / mpl.ratio);\n",
       "\n",
       "    fig.rubberband_context.strokeRect(min_x, min_y, width, height);\n",
       "}\n",
       "\n",
       "mpl.figure.prototype.handle_figure_label = function(fig, msg) {\n",
       "    // Updates the figure title.\n",
       "    fig.header.textContent = msg['label'];\n",
       "}\n",
       "\n",
       "mpl.figure.prototype.handle_cursor = function(fig, msg) {\n",
       "    var cursor = msg['cursor'];\n",
       "    switch(cursor)\n",
       "    {\n",
       "    case 0:\n",
       "        cursor = 'pointer';\n",
       "        break;\n",
       "    case 1:\n",
       "        cursor = 'default';\n",
       "        break;\n",
       "    case 2:\n",
       "        cursor = 'crosshair';\n",
       "        break;\n",
       "    case 3:\n",
       "        cursor = 'move';\n",
       "        break;\n",
       "    }\n",
       "    fig.rubberband_canvas.style.cursor = cursor;\n",
       "}\n",
       "\n",
       "mpl.figure.prototype.handle_message = function(fig, msg) {\n",
       "    fig.message.textContent = msg['message'];\n",
       "}\n",
       "\n",
       "mpl.figure.prototype.handle_draw = function(fig, msg) {\n",
       "    // Request the server to send over a new figure.\n",
       "    fig.send_draw_message();\n",
       "}\n",
       "\n",
       "mpl.figure.prototype.handle_image_mode = function(fig, msg) {\n",
       "    fig.image_mode = msg['mode'];\n",
       "}\n",
       "\n",
       "mpl.figure.prototype.updated_canvas_event = function() {\n",
       "    // Called whenever the canvas gets updated.\n",
       "    this.send_message(\"ack\", {});\n",
       "}\n",
       "\n",
       "// A function to construct a web socket function for onmessage handling.\n",
       "// Called in the figure constructor.\n",
       "mpl.figure.prototype._make_on_message_function = function(fig) {\n",
       "    return function socket_on_message(evt) {\n",
       "        if (evt.data instanceof Blob) {\n",
       "            /* FIXME: We get \"Resource interpreted as Image but\n",
       "             * transferred with MIME type text/plain:\" errors on\n",
       "             * Chrome.  But how to set the MIME type?  It doesn't seem\n",
       "             * to be part of the websocket stream */\n",
       "            evt.data.type = \"image/png\";\n",
       "\n",
       "            /* Free the memory for the previous frames */\n",
       "            if (fig.imageObj.src) {\n",
       "                (window.URL || window.webkitURL).revokeObjectURL(\n",
       "                    fig.imageObj.src);\n",
       "            }\n",
       "\n",
       "            fig.imageObj.src = (window.URL || window.webkitURL).createObjectURL(\n",
       "                evt.data);\n",
       "            fig.updated_canvas_event();\n",
       "            fig.waiting = false;\n",
       "            return;\n",
       "        }\n",
       "        else if (typeof evt.data === 'string' && evt.data.slice(0, 21) == \"data:image/png;base64\") {\n",
       "            fig.imageObj.src = evt.data;\n",
       "            fig.updated_canvas_event();\n",
       "            fig.waiting = false;\n",
       "            return;\n",
       "        }\n",
       "\n",
       "        var msg = JSON.parse(evt.data);\n",
       "        var msg_type = msg['type'];\n",
       "\n",
       "        // Call the  \"handle_{type}\" callback, which takes\n",
       "        // the figure and JSON message as its only arguments.\n",
       "        try {\n",
       "            var callback = fig[\"handle_\" + msg_type];\n",
       "        } catch (e) {\n",
       "            console.log(\"No handler for the '\" + msg_type + \"' message type: \", msg);\n",
       "            return;\n",
       "        }\n",
       "\n",
       "        if (callback) {\n",
       "            try {\n",
       "                // console.log(\"Handling '\" + msg_type + \"' message: \", msg);\n",
       "                callback(fig, msg);\n",
       "            } catch (e) {\n",
       "                console.log(\"Exception inside the 'handler_\" + msg_type + \"' callback:\", e, e.stack, msg);\n",
       "            }\n",
       "        }\n",
       "    };\n",
       "}\n",
       "\n",
       "// from http://stackoverflow.com/questions/1114465/getting-mouse-location-in-canvas\n",
       "mpl.findpos = function(e) {\n",
       "    //this section is from http://www.quirksmode.org/js/events_properties.html\n",
       "    var targ;\n",
       "    if (!e)\n",
       "        e = window.event;\n",
       "    if (e.target)\n",
       "        targ = e.target;\n",
       "    else if (e.srcElement)\n",
       "        targ = e.srcElement;\n",
       "    if (targ.nodeType == 3) // defeat Safari bug\n",
       "        targ = targ.parentNode;\n",
       "\n",
       "    // jQuery normalizes the pageX and pageY\n",
       "    // pageX,Y are the mouse positions relative to the document\n",
       "    // offset() returns the position of the element relative to the document\n",
       "    var x = e.pageX - $(targ).offset().left;\n",
       "    var y = e.pageY - $(targ).offset().top;\n",
       "\n",
       "    return {\"x\": x, \"y\": y};\n",
       "};\n",
       "\n",
       "/*\n",
       " * return a copy of an object with only non-object keys\n",
       " * we need this to avoid circular references\n",
       " * http://stackoverflow.com/a/24161582/3208463\n",
       " */\n",
       "function simpleKeys (original) {\n",
       "  return Object.keys(original).reduce(function (obj, key) {\n",
       "    if (typeof original[key] !== 'object')\n",
       "        obj[key] = original[key]\n",
       "    return obj;\n",
       "  }, {});\n",
       "}\n",
       "\n",
       "mpl.figure.prototype.mouse_event = function(event, name) {\n",
       "    var canvas_pos = mpl.findpos(event)\n",
       "\n",
       "    if (name === 'button_press')\n",
       "    {\n",
       "        this.canvas.focus();\n",
       "        this.canvas_div.focus();\n",
       "    }\n",
       "\n",
       "    var x = canvas_pos.x * mpl.ratio;\n",
       "    var y = canvas_pos.y * mpl.ratio;\n",
       "\n",
       "    this.send_message(name, {x: x, y: y, button: event.button,\n",
       "                             step: event.step,\n",
       "                             guiEvent: simpleKeys(event)});\n",
       "\n",
       "    /* This prevents the web browser from automatically changing to\n",
       "     * the text insertion cursor when the button is pressed.  We want\n",
       "     * to control all of the cursor setting manually through the\n",
       "     * 'cursor' event from matplotlib */\n",
       "    event.preventDefault();\n",
       "    return false;\n",
       "}\n",
       "\n",
       "mpl.figure.prototype._key_event_extra = function(event, name) {\n",
       "    // Handle any extra behaviour associated with a key event\n",
       "}\n",
       "\n",
       "mpl.figure.prototype.key_event = function(event, name) {\n",
       "\n",
       "    // Prevent repeat events\n",
       "    if (name == 'key_press')\n",
       "    {\n",
       "        if (event.which === this._key)\n",
       "            return;\n",
       "        else\n",
       "            this._key = event.which;\n",
       "    }\n",
       "    if (name == 'key_release')\n",
       "        this._key = null;\n",
       "\n",
       "    var value = '';\n",
       "    if (event.ctrlKey && event.which != 17)\n",
       "        value += \"ctrl+\";\n",
       "    if (event.altKey && event.which != 18)\n",
       "        value += \"alt+\";\n",
       "    if (event.shiftKey && event.which != 16)\n",
       "        value += \"shift+\";\n",
       "\n",
       "    value += 'k';\n",
       "    value += event.which.toString();\n",
       "\n",
       "    this._key_event_extra(event, name);\n",
       "\n",
       "    this.send_message(name, {key: value,\n",
       "                             guiEvent: simpleKeys(event)});\n",
       "    return false;\n",
       "}\n",
       "\n",
       "mpl.figure.prototype.toolbar_button_onclick = function(name) {\n",
       "    if (name == 'download') {\n",
       "        this.handle_save(this, null);\n",
       "    } else {\n",
       "        this.send_message(\"toolbar_button\", {name: name});\n",
       "    }\n",
       "};\n",
       "\n",
       "mpl.figure.prototype.toolbar_button_onmouseover = function(tooltip) {\n",
       "    this.message.textContent = tooltip;\n",
       "};\n",
       "mpl.toolbar_items = [[\"Home\", \"Reset original view\", \"fa fa-home icon-home\", \"home\"], [\"Back\", \"Back to previous view\", \"fa fa-arrow-left icon-arrow-left\", \"back\"], [\"Forward\", \"Forward to next view\", \"fa fa-arrow-right icon-arrow-right\", \"forward\"], [\"\", \"\", \"\", \"\"], [\"Pan\", \"Pan axes with left mouse, zoom with right\", \"fa fa-arrows icon-move\", \"pan\"], [\"Zoom\", \"Zoom to rectangle\", \"fa fa-square-o icon-check-empty\", \"zoom\"], [\"\", \"\", \"\", \"\"], [\"Download\", \"Download plot\", \"fa fa-floppy-o icon-save\", \"download\"]];\n",
       "\n",
       "mpl.extensions = [\"eps\", \"jpeg\", \"pdf\", \"png\", \"ps\", \"raw\", \"svg\", \"tif\"];\n",
       "\n",
       "mpl.default_extension = \"png\";var comm_websocket_adapter = function(comm) {\n",
       "    // Create a \"websocket\"-like object which calls the given IPython comm\n",
       "    // object with the appropriate methods. Currently this is a non binary\n",
       "    // socket, so there is still some room for performance tuning.\n",
       "    var ws = {};\n",
       "\n",
       "    ws.close = function() {\n",
       "        comm.close()\n",
       "    };\n",
       "    ws.send = function(m) {\n",
       "        //console.log('sending', m);\n",
       "        comm.send(m);\n",
       "    };\n",
       "    // Register the callback with on_msg.\n",
       "    comm.on_msg(function(msg) {\n",
       "        //console.log('receiving', msg['content']['data'], msg);\n",
       "        // Pass the mpl event to the overridden (by mpl) onmessage function.\n",
       "        ws.onmessage(msg['content']['data'])\n",
       "    });\n",
       "    return ws;\n",
       "}\n",
       "\n",
       "mpl.mpl_figure_comm = function(comm, msg) {\n",
       "    // This is the function which gets called when the mpl process\n",
       "    // starts-up an IPython Comm through the \"matplotlib\" channel.\n",
       "\n",
       "    var id = msg.content.data.id;\n",
       "    // Get hold of the div created by the display call when the Comm\n",
       "    // socket was opened in Python.\n",
       "    var element = $(\"#\" + id);\n",
       "    var ws_proxy = comm_websocket_adapter(comm)\n",
       "\n",
       "    function ondownload(figure, format) {\n",
       "        window.open(figure.imageObj.src);\n",
       "    }\n",
       "\n",
       "    var fig = new mpl.figure(id, ws_proxy,\n",
       "                           ondownload,\n",
       "                           element.get(0));\n",
       "\n",
       "    // Call onopen now - mpl needs it, as it is assuming we've passed it a real\n",
       "    // web socket which is closed, not our websocket->open comm proxy.\n",
       "    ws_proxy.onopen();\n",
       "\n",
       "    fig.parent_element = element.get(0);\n",
       "    fig.cell_info = mpl.find_output_cell(\"<div id='\" + id + \"'></div>\");\n",
       "    if (!fig.cell_info) {\n",
       "        console.error(\"Failed to find cell for figure\", id, fig);\n",
       "        return;\n",
       "    }\n",
       "\n",
       "    var output_index = fig.cell_info[2]\n",
       "    var cell = fig.cell_info[0];\n",
       "\n",
       "};\n",
       "\n",
       "mpl.figure.prototype.handle_close = function(fig, msg) {\n",
       "    var width = fig.canvas.width/mpl.ratio\n",
       "    fig.root.unbind('remove')\n",
       "\n",
       "    // Update the output cell to use the data from the current canvas.\n",
       "    fig.push_to_output();\n",
       "    var dataURL = fig.canvas.toDataURL();\n",
       "    // Re-enable the keyboard manager in IPython - without this line, in FF,\n",
       "    // the notebook keyboard shortcuts fail.\n",
       "    IPython.keyboard_manager.enable()\n",
       "    $(fig.parent_element).html('<img src=\"' + dataURL + '\" width=\"' + width + '\">');\n",
       "    fig.close_ws(fig, msg);\n",
       "}\n",
       "\n",
       "mpl.figure.prototype.close_ws = function(fig, msg){\n",
       "    fig.send_message('closing', msg);\n",
       "    // fig.ws.close()\n",
       "}\n",
       "\n",
       "mpl.figure.prototype.push_to_output = function(remove_interactive) {\n",
       "    // Turn the data on the canvas into data in the output cell.\n",
       "    var width = this.canvas.width/mpl.ratio\n",
       "    var dataURL = this.canvas.toDataURL();\n",
       "    this.cell_info[1]['text/html'] = '<img src=\"' + dataURL + '\" width=\"' + width + '\">';\n",
       "}\n",
       "\n",
       "mpl.figure.prototype.updated_canvas_event = function() {\n",
       "    // Tell IPython that the notebook contents must change.\n",
       "    IPython.notebook.set_dirty(true);\n",
       "    this.send_message(\"ack\", {});\n",
       "    var fig = this;\n",
       "    // Wait a second, then push the new image to the DOM so\n",
       "    // that it is saved nicely (might be nice to debounce this).\n",
       "    setTimeout(function () { fig.push_to_output() }, 1000);\n",
       "}\n",
       "\n",
       "mpl.figure.prototype._init_toolbar = function() {\n",
       "    var fig = this;\n",
       "\n",
       "    var nav_element = $('<div/>');\n",
       "    nav_element.attr('style', 'width: 100%');\n",
       "    this.root.append(nav_element);\n",
       "\n",
       "    // Define a callback function for later on.\n",
       "    function toolbar_event(event) {\n",
       "        return fig.toolbar_button_onclick(event['data']);\n",
       "    }\n",
       "    function toolbar_mouse_event(event) {\n",
       "        return fig.toolbar_button_onmouseover(event['data']);\n",
       "    }\n",
       "\n",
       "    for(var toolbar_ind in mpl.toolbar_items){\n",
       "        var name = mpl.toolbar_items[toolbar_ind][0];\n",
       "        var tooltip = mpl.toolbar_items[toolbar_ind][1];\n",
       "        var image = mpl.toolbar_items[toolbar_ind][2];\n",
       "        var method_name = mpl.toolbar_items[toolbar_ind][3];\n",
       "\n",
       "        if (!name) { continue; };\n",
       "\n",
       "        var button = $('<button class=\"btn btn-default\" href=\"#\" title=\"' + name + '\"><i class=\"fa ' + image + ' fa-lg\"></i></button>');\n",
       "        button.click(method_name, toolbar_event);\n",
       "        button.mouseover(tooltip, toolbar_mouse_event);\n",
       "        nav_element.append(button);\n",
       "    }\n",
       "\n",
       "    // Add the status bar.\n",
       "    var status_bar = $('<span class=\"mpl-message\" style=\"text-align:right; float: right;\"/>');\n",
       "    nav_element.append(status_bar);\n",
       "    this.message = status_bar[0];\n",
       "\n",
       "    // Add the close button to the window.\n",
       "    var buttongrp = $('<div class=\"btn-group inline pull-right\"></div>');\n",
       "    var button = $('<button class=\"btn btn-mini btn-primary\" href=\"#\" title=\"Stop Interaction\"><i class=\"fa fa-power-off icon-remove icon-large\"></i></button>');\n",
       "    button.click(function (evt) { fig.handle_close(fig, {}); } );\n",
       "    button.mouseover('Stop Interaction', toolbar_mouse_event);\n",
       "    buttongrp.append(button);\n",
       "    var titlebar = this.root.find($('.ui-dialog-titlebar'));\n",
       "    titlebar.prepend(buttongrp);\n",
       "}\n",
       "\n",
       "mpl.figure.prototype._root_extra_style = function(el){\n",
       "    var fig = this\n",
       "    el.on(\"remove\", function(){\n",
       "\tfig.close_ws(fig, {});\n",
       "    });\n",
       "}\n",
       "\n",
       "mpl.figure.prototype._canvas_extra_style = function(el){\n",
       "    // this is important to make the div 'focusable\n",
       "    el.attr('tabindex', 0)\n",
       "    // reach out to IPython and tell the keyboard manager to turn it's self\n",
       "    // off when our div gets focus\n",
       "\n",
       "    // location in version 3\n",
       "    if (IPython.notebook.keyboard_manager) {\n",
       "        IPython.notebook.keyboard_manager.register_events(el);\n",
       "    }\n",
       "    else {\n",
       "        // location in version 2\n",
       "        IPython.keyboard_manager.register_events(el);\n",
       "    }\n",
       "\n",
       "}\n",
       "\n",
       "mpl.figure.prototype._key_event_extra = function(event, name) {\n",
       "    var manager = IPython.notebook.keyboard_manager;\n",
       "    if (!manager)\n",
       "        manager = IPython.keyboard_manager;\n",
       "\n",
       "    // Check for shift+enter\n",
       "    if (event.shiftKey && event.which == 13) {\n",
       "        this.canvas_div.blur();\n",
       "        // select the cell after this one\n",
       "        var index = IPython.notebook.find_cell_index(this.cell_info[0]);\n",
       "        IPython.notebook.select(index + 1);\n",
       "    }\n",
       "}\n",
       "\n",
       "mpl.figure.prototype.handle_save = function(fig, msg) {\n",
       "    fig.ondownload(fig, null);\n",
       "}\n",
       "\n",
       "\n",
       "mpl.find_output_cell = function(html_output) {\n",
       "    // Return the cell and output element which can be found *uniquely* in the notebook.\n",
       "    // Note - this is a bit hacky, but it is done because the \"notebook_saving.Notebook\"\n",
       "    // IPython event is triggered only after the cells have been serialised, which for\n",
       "    // our purposes (turning an active figure into a static one), is too late.\n",
       "    var cells = IPython.notebook.get_cells();\n",
       "    var ncells = cells.length;\n",
       "    for (var i=0; i<ncells; i++) {\n",
       "        var cell = cells[i];\n",
       "        if (cell.cell_type === 'code'){\n",
       "            for (var j=0; j<cell.output_area.outputs.length; j++) {\n",
       "                var data = cell.output_area.outputs[j];\n",
       "                if (data.data) {\n",
       "                    // IPython >= 3 moved mimebundle to data attribute of output\n",
       "                    data = data.data;\n",
       "                }\n",
       "                if (data['text/html'] == html_output) {\n",
       "                    return [cell, data, j];\n",
       "                }\n",
       "            }\n",
       "        }\n",
       "    }\n",
       "}\n",
       "\n",
       "// Register the function which deals with the matplotlib target/channel.\n",
       "// The kernel may be null if the page has been refreshed.\n",
       "if (IPython.notebook.kernel != null) {\n",
       "    IPython.notebook.kernel.comm_manager.register_target('matplotlib', mpl.mpl_figure_comm);\n",
       "}\n"
      ],
      "text/plain": [
       "<IPython.core.display.Javascript object>"
      ]
     },
     "metadata": {},
     "output_type": "display_data"
    },
    {
     "data": {
      "text/html": [
       "<img src=\"data:image/png;base64,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\" width=\"900\">"
      ],
      "text/plain": [
       "<IPython.core.display.HTML object>"
      ]
     },
     "metadata": {},
     "output_type": "display_data"
    }
   ],
   "source": [
    "psnr_to_plot[psnr_str] = psnr_to_plot[psnr_str].astype(float)\n",
    "lplot = sns.lineplot(\n",
    "    x=noise_std_str, \n",
    "    y=psnr_str, \n",
    "    hue=model_family_str,\n",
    "    style=train_stds_str,\n",
    "    data=psnr_to_plot,\n",
    "    palette=family_model_to_color,\n",
    ")\n",
    "lplot.errorbar(\n",
    "    x=noise_std_str, \n",
    "    y=psnr_str,\n",
    "    yerr='psnr-std-dev',\n",
    "    fmt='none',\n",
    "    ecolor=[family_model_to_color[mf] for mf in psnr_to_plot[model_family_str]],\n",
    "    data=psnr_to_plot,\n",
    "    alpha=0.3,\n",
    "    label=None,\n",
    ")\n",
    "plt.legend(bbox_to_anchor=(1.0, 1.0), loc='best', borderaxespad=0)\n",
    "plt.subplots_adjust(right=0.72)"
   ]
  },
  {
   "cell_type": "code",
   "execution_count": 106,
   "metadata": {},
   "outputs": [],
   "source": [
    "l = lplot.legend()\n",
    "?l"
   ]
  },
  {
   "cell_type": "code",
   "execution_count": 107,
   "metadata": {},
   "outputs": [
    {
     "ename": "AttributeError",
     "evalue": "'Legend' object has no attribute 'title'",
     "output_type": "error",
     "traceback": [
      "\u001b[0;31m---------------------------------------------------------------------------\u001b[0m",
      "\u001b[0;31mAttributeError\u001b[0m                            Traceback (most recent call last)",
      "\u001b[0;32m<ipython-input-107-30fd0160d9ca>\u001b[0m in \u001b[0;36m<module>\u001b[0;34m\u001b[0m\n\u001b[0;32m----> 1\u001b[0;31m \u001b[0ml\u001b[0m\u001b[0;34m.\u001b[0m\u001b[0mtitle\u001b[0m\u001b[0;34m\u001b[0m\u001b[0;34m\u001b[0m\u001b[0m\n\u001b[0m",
      "\u001b[0;31mAttributeError\u001b[0m: 'Legend' object has no attribute 'title'"
     ]
    }
   ],
   "source": [
    "l.title"
   ]
  }
 ],
 "metadata": {
  "kernelspec": {
   "display_name": "Python 3",
   "language": "python",
   "name": "python3"
  },
  "language_info": {
   "codemirror_mode": {
    "name": "ipython",
    "version": 3
   },
   "file_extension": ".py",
   "mimetype": "text/x-python",
   "name": "python",
   "nbconvert_exporter": "python",
   "pygments_lexer": "ipython3",
   "version": "3.6.8"
  },
  "notify_time": "30"
 },
 "nbformat": 4,
 "nbformat_minor": 2
}
