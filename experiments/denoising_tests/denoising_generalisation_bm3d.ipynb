{
 "cells": [
  {
   "cell_type": "code",
   "execution_count": 1,
   "metadata": {},
   "outputs": [
    {
     "name": "stdout",
     "output_type": "stream",
     "text": [
      "/home/zaccharie/workspace/understanding-unets\n"
     ]
    }
   ],
   "source": [
    "%cd ../.."
   ]
  },
  {
   "cell_type": "code",
   "execution_count": 2,
   "metadata": {},
   "outputs": [],
   "source": [
    "# this just to make sure we are using only on CPU\n",
    "import os\n",
    "os.environ[\"CUDA_VISIBLE_DEVICES\"]=\"-1\""
   ]
  },
  {
   "cell_type": "code",
   "execution_count": 3,
   "metadata": {},
   "outputs": [],
   "source": [
    "%load_ext autoreload\n",
    "%autoreload 2\n",
    "import copy\n",
    "import time\n",
    "\n",
    "import numpy as np\n",
    "import pandas as pd\n",
    "from tqdm import tqdm_notebook\n",
    "\n",
    "from learning_wavelets.datasets import im_dataset_bsd68\n",
    "from learning_wavelets.utils.metrics import metrics_original_from_ds, metrics_bm3d_from_ds"
   ]
  },
  {
   "cell_type": "code",
   "execution_count": 4,
   "metadata": {},
   "outputs": [],
   "source": [
    "np.random.seed(0)"
   ]
  },
  {
   "cell_type": "code",
   "execution_count": 5,
   "metadata": {},
   "outputs": [],
   "source": [
    "# noise_stds = [5, 15, 20, 25, 30, 50, 75]\n",
    "noise_stds = [5, 15, 20]"
   ]
  },
  {
   "cell_type": "code",
   "execution_count": 6,
   "metadata": {
    "code_folding": [],
    "scrolled": false
   },
   "outputs": [
    {
     "data": {
      "application/vnd.jupyter.widget-view+json": {
       "model_id": "0ab78af336f34162b531305f19574ff6",
       "version_major": 2,
       "version_minor": 0
      },
      "text/plain": [
       "HBox(children=(IntProgress(value=0, description='Noise stds', max=3, style=ProgressStyle(description_width='in…"
      ]
     },
     "metadata": {},
     "output_type": "display_data"
    },
    {
     "data": {
      "application/vnd.jupyter.widget-view+json": {
       "model_id": "dd1481bbfd364eb295be1783d06683d4",
       "version_major": 2,
       "version_minor": 0
      },
      "text/plain": [
       "HBox(children=(IntProgress(value=1, bar_style='info', max=1), HTML(value='')))"
      ]
     },
     "metadata": {},
     "output_type": "display_data"
    },
    {
     "data": {
      "application/vnd.jupyter.widget-view+json": {
       "model_id": "432059f489b048609e0901573dd6e899",
       "version_major": 2,
       "version_minor": 0
      },
      "text/plain": [
       "HBox(children=(IntProgress(value=0, description='Stats for original noisy images', max=3, style=ProgressStyle(…"
      ]
     },
     "metadata": {},
     "output_type": "display_data"
    },
    {
     "name": "stdout",
     "output_type": "stream",
     "text": [
      "> \u001b[0;32m/home/zaccharie/workspace/understanding-unets/learning_wavelets/utils/metrics.py\u001b[0m(57)\u001b[0;36mmetrics_bm3d_from_ds\u001b[0;34m()\u001b[0m\n",
      "\u001b[0;32m     56 \u001b[0;31m    pred_and_gt_shape = [\n",
      "\u001b[0m\u001b[0;32m---> 57 \u001b[0;31m        (\n",
      "\u001b[0m\u001b[0;32m     58 \u001b[0;31m            bm3d.bm3d(\n",
      "\u001b[0m\n",
      "ipdb> c\n"
     ]
    },
    {
     "data": {
      "application/vnd.jupyter.widget-view+json": {
       "model_id": "6a727f2c6b0241d78fda98d53a97c763",
       "version_major": 2,
       "version_minor": 0
      },
      "text/plain": [
       "HBox(children=(IntProgress(value=1, bar_style='info', max=1), HTML(value='')))"
      ]
     },
     "metadata": {},
     "output_type": "display_data"
    },
    {
     "data": {
      "application/vnd.jupyter.widget-view+json": {
       "model_id": "c29df79118cd4e0c9aca72fc8b449dd4",
       "version_major": 2,
       "version_minor": 0
      },
      "text/plain": [
       "HBox(children=(IntProgress(value=0, description='Stats for BM3D', max=3, style=ProgressStyle(description_width…"
      ]
     },
     "metadata": {},
     "output_type": "display_data"
    },
    {
     "data": {
      "application/vnd.jupyter.widget-view+json": {
       "model_id": "e6350ef2c19a4c4a9172ab5c3299ec8e",
       "version_major": 2,
       "version_minor": 0
      },
      "text/plain": [
       "HBox(children=(IntProgress(value=1, bar_style='info', max=1), HTML(value='')))"
      ]
     },
     "metadata": {},
     "output_type": "display_data"
    },
    {
     "data": {
      "application/vnd.jupyter.widget-view+json": {
       "model_id": "4d7b1b7b27cf4e5884483903991215d3",
       "version_major": 2,
       "version_minor": 0
      },
      "text/plain": [
       "HBox(children=(IntProgress(value=0, description='Stats for original noisy images', max=3, style=ProgressStyle(…"
      ]
     },
     "metadata": {},
     "output_type": "display_data"
    },
    {
     "name": "stdout",
     "output_type": "stream",
     "text": [
      "> \u001b[0;32m/home/zaccharie/workspace/understanding-unets/learning_wavelets/utils/metrics.py\u001b[0m(57)\u001b[0;36mmetrics_bm3d_from_ds\u001b[0;34m()\u001b[0m\n",
      "\u001b[0;32m     56 \u001b[0;31m    pred_and_gt_shape = [\n",
      "\u001b[0m\u001b[0;32m---> 57 \u001b[0;31m        (\n",
      "\u001b[0m\u001b[0;32m     58 \u001b[0;31m            bm3d.bm3d(\n",
      "\u001b[0m\n",
      "ipdb> c\n"
     ]
    },
    {
     "data": {
      "application/vnd.jupyter.widget-view+json": {
       "model_id": "5f617eb97cc54066941ce3d85c85e689",
       "version_major": 2,
       "version_minor": 0
      },
      "text/plain": [
       "HBox(children=(IntProgress(value=1, bar_style='info', max=1), HTML(value='')))"
      ]
     },
     "metadata": {},
     "output_type": "display_data"
    },
    {
     "data": {
      "application/vnd.jupyter.widget-view+json": {
       "model_id": "4353afc1c3104f3ebda127c10b1e7dbc",
       "version_major": 2,
       "version_minor": 0
      },
      "text/plain": [
       "HBox(children=(IntProgress(value=0, description='Stats for BM3D', max=3, style=ProgressStyle(description_width…"
      ]
     },
     "metadata": {},
     "output_type": "display_data"
    },
    {
     "data": {
      "application/vnd.jupyter.widget-view+json": {
       "model_id": "a4b00debce5345ffb9e85525bbb5c610",
       "version_major": 2,
       "version_minor": 0
      },
      "text/plain": [
       "HBox(children=(IntProgress(value=1, bar_style='info', max=1), HTML(value='')))"
      ]
     },
     "metadata": {},
     "output_type": "display_data"
    },
    {
     "data": {
      "application/vnd.jupyter.widget-view+json": {
       "model_id": "e02bdfb0cee8414ab41c265168decd7b",
       "version_major": 2,
       "version_minor": 0
      },
      "text/plain": [
       "HBox(children=(IntProgress(value=0, description='Stats for original noisy images', max=3, style=ProgressStyle(…"
      ]
     },
     "metadata": {},
     "output_type": "display_data"
    },
    {
     "name": "stdout",
     "output_type": "stream",
     "text": [
      "> \u001b[0;32m/home/zaccharie/workspace/understanding-unets/learning_wavelets/utils/metrics.py\u001b[0m(57)\u001b[0;36mmetrics_bm3d_from_ds\u001b[0;34m()\u001b[0m\n",
      "\u001b[0;32m     56 \u001b[0;31m    pred_and_gt_shape = [\n",
      "\u001b[0m\u001b[0;32m---> 57 \u001b[0;31m        (\n",
      "\u001b[0m\u001b[0;32m     58 \u001b[0;31m            bm3d.bm3d(\n",
      "\u001b[0m\n",
      "ipdb> c\n"
     ]
    },
    {
     "data": {
      "application/vnd.jupyter.widget-view+json": {
       "model_id": "e9bbf35e9d5e461aa1734d759bdedcf7",
       "version_major": 2,
       "version_minor": 0
      },
      "text/plain": [
       "HBox(children=(IntProgress(value=1, bar_style='info', max=1), HTML(value='')))"
      ]
     },
     "metadata": {},
     "output_type": "display_data"
    },
    {
     "data": {
      "application/vnd.jupyter.widget-view+json": {
       "model_id": "6d87cf06a82b45b58635680e447fe574",
       "version_major": 2,
       "version_minor": 0
      },
      "text/plain": [
       "HBox(children=(IntProgress(value=0, description='Stats for BM3D', max=3, style=ProgressStyle(description_width…"
      ]
     },
     "metadata": {},
     "output_type": "display_data"
    },
    {
     "name": "stdout",
     "output_type": "stream",
     "text": [
      "\n"
     ]
    }
   ],
   "source": [
    "noise_std_metrics = {}\n",
    "n_samples = 3\n",
    "for noise_std in tqdm_notebook(noise_stds, 'Noise stds'):\n",
    "    metrics = []\n",
    "    im_ds = im_dataset_bsd68(\n",
    "        mode='testing', \n",
    "        batch_size=1, \n",
    "        patch_size=None, \n",
    "        noise_std=noise_std, \n",
    "        return_noise_level=False,\n",
    "        n_pooling=5,\n",
    "        n_samples=n_samples,\n",
    "    )\n",
    "    metrics.append(('original', metrics_original_from_ds(im_ds)))\n",
    "        \n",
    "\n",
    "    im_ds = im_dataset_bsd68(\n",
    "        mode='testing', \n",
    "        batch_size=1, \n",
    "        patch_size=None, \n",
    "        noise_std=noise_std, \n",
    "        return_noise_level=False,\n",
    "        n_pooling=5,\n",
    "        n_samples=n_samples,\n",
    "    )\n",
    "    metrics.append(('bm3d', metrics_bm3d_from_ds(im_ds, noise_std=noise_std)))\n",
    "    noise_std_metrics[noise_std] = metrics"
   ]
  },
  {
   "cell_type": "code",
   "execution_count": 7,
   "metadata": {},
   "outputs": [
    {
     "name": "stderr",
     "output_type": "stream",
     "text": [
      "WARNING: Logging before flag parsing goes to stderr.\n",
      "E0225 09:08:26.863719 139959247701760 interactiveshell.py:1178] No traceback has been produced, nothing to debug.\n"
     ]
    }
   ],
   "source": [
    "%debug"
   ]
  },
  {
   "cell_type": "code",
   "execution_count": 8,
   "metadata": {},
   "outputs": [
    {
     "data": {
      "text/plain": [
       "{5: [('original', PSNR = 34.15 +/- 0.02193 SSIM = 0.8648 +/- 0.06844),\n",
       "  ('bm3d', PSNR = 6.018 +/- 0.00183 SSIM = -0.343 +/- 0.3291)],\n",
       " 15: [('original', PSNR = 24.61 +/- 0.01594 SSIM = 0.5177 +/- 0.08687),\n",
       "  ('bm3d', PSNR = 6.01 +/- 0.004426 SSIM = -0.31 +/- 0.3498)],\n",
       " 20: [('original', PSNR = 22.11 +/- 0.02579 SSIM = 0.4143 +/- 0.05454),\n",
       "  ('bm3d', PSNR = 6.002 +/- 0.008097 SSIM = -0.2979 +/- 0.3628)]}"
      ]
     },
     "execution_count": 8,
     "metadata": {},
     "output_type": "execute_result"
    }
   ],
   "source": [
    "noise_std_metrics"
   ]
  },
  {
   "cell_type": "code",
   "execution_count": 9,
   "metadata": {},
   "outputs": [
    {
     "data": {
      "text/html": [
       "<div>\n",
       "<style scoped>\n",
       "    .dataframe tbody tr th:only-of-type {\n",
       "        vertical-align: middle;\n",
       "    }\n",
       "\n",
       "    .dataframe tbody tr th {\n",
       "        vertical-align: top;\n",
       "    }\n",
       "\n",
       "    .dataframe thead th {\n",
       "        text-align: right;\n",
       "    }\n",
       "</style>\n",
       "<table border=\"1\" class=\"dataframe\">\n",
       "  <thead>\n",
       "    <tr style=\"text-align: right;\">\n",
       "      <th></th>\n",
       "      <th>noise_std</th>\n",
       "      <th>original</th>\n",
       "      <th>wavelets_24</th>\n",
       "      <th>bm3d</th>\n",
       "    </tr>\n",
       "  </thead>\n",
       "  <tbody>\n",
       "    <tr>\n",
       "      <th>0</th>\n",
       "      <td>5</td>\n",
       "      <td>34.15 (0.01096)</td>\n",
       "      <td>NaN</td>\n",
       "      <td>6.018 (0.0009148)</td>\n",
       "    </tr>\n",
       "    <tr>\n",
       "      <th>1</th>\n",
       "      <td>15</td>\n",
       "      <td>24.61 (0.007971)</td>\n",
       "      <td>NaN</td>\n",
       "      <td>6.01 (0.002213)</td>\n",
       "    </tr>\n",
       "    <tr>\n",
       "      <th>2</th>\n",
       "      <td>20</td>\n",
       "      <td>22.11 (0.0129)</td>\n",
       "      <td>NaN</td>\n",
       "      <td>6.002 (0.004049)</td>\n",
       "    </tr>\n",
       "  </tbody>\n",
       "</table>\n",
       "</div>"
      ],
      "text/plain": [
       "  noise_std          original wavelets_24               bm3d\n",
       "0         5   34.15 (0.01096)         NaN  6.018 (0.0009148)\n",
       "1        15  24.61 (0.007971)         NaN    6.01 (0.002213)\n",
       "2        20    22.11 (0.0129)         NaN   6.002 (0.004049)"
      ]
     },
     "execution_count": 9,
     "metadata": {},
     "output_type": "execute_result"
    }
   ],
   "source": [
    "# PSNR table\n",
    "psnr_metrics_table = pd.DataFrame(\n",
    "    columns=['noise_std'] + ['original', 'wavelets_24', 'bm3d'],\n",
    ")\n",
    "for i, (noise_std, metrics) in enumerate(noise_std_metrics.items()):\n",
    "    psnr_metrics_table.loc[i, 'noise_std'] = noise_std\n",
    "    for name, m in metrics:\n",
    "        psnr_metrics_table.loc[i, name] = \"{mean:.4} ({std:.4})\".format(\n",
    "            mean=m.metrics['PSNR'].mean(), \n",
    "            std=m.metrics['PSNR'].stddev(),\n",
    "        )\n",
    "psnr_metrics_table"
   ]
  },
  {
   "cell_type": "code",
   "execution_count": 10,
   "metadata": {},
   "outputs": [
    {
     "data": {
      "text/html": [
       "<div>\n",
       "<style scoped>\n",
       "    .dataframe tbody tr th:only-of-type {\n",
       "        vertical-align: middle;\n",
       "    }\n",
       "\n",
       "    .dataframe tbody tr th {\n",
       "        vertical-align: top;\n",
       "    }\n",
       "\n",
       "    .dataframe thead th {\n",
       "        text-align: right;\n",
       "    }\n",
       "</style>\n",
       "<table border=\"1\" class=\"dataframe\">\n",
       "  <thead>\n",
       "    <tr style=\"text-align: right;\">\n",
       "      <th></th>\n",
       "      <th>noise_std</th>\n",
       "      <th>original</th>\n",
       "      <th>wavelets_24</th>\n",
       "      <th>bm3d</th>\n",
       "    </tr>\n",
       "  </thead>\n",
       "  <tbody>\n",
       "    <tr>\n",
       "      <th>0</th>\n",
       "      <td>5</td>\n",
       "      <td>0.8648 (0.03422)</td>\n",
       "      <td>NaN</td>\n",
       "      <td>-0.343 (0.1645)</td>\n",
       "    </tr>\n",
       "    <tr>\n",
       "      <th>1</th>\n",
       "      <td>15</td>\n",
       "      <td>0.5177 (0.04344)</td>\n",
       "      <td>NaN</td>\n",
       "      <td>-0.31 (0.1749)</td>\n",
       "    </tr>\n",
       "    <tr>\n",
       "      <th>2</th>\n",
       "      <td>20</td>\n",
       "      <td>0.4143 (0.02727)</td>\n",
       "      <td>NaN</td>\n",
       "      <td>-0.2979 (0.1814)</td>\n",
       "    </tr>\n",
       "  </tbody>\n",
       "</table>\n",
       "</div>"
      ],
      "text/plain": [
       "  noise_std          original wavelets_24              bm3d\n",
       "0         5  0.8648 (0.03422)         NaN   -0.343 (0.1645)\n",
       "1        15  0.5177 (0.04344)         NaN    -0.31 (0.1749)\n",
       "2        20  0.4143 (0.02727)         NaN  -0.2979 (0.1814)"
      ]
     },
     "execution_count": 10,
     "metadata": {},
     "output_type": "execute_result"
    }
   ],
   "source": [
    "# SSIM table\n",
    "ssim_metrics_table = pd.DataFrame(\n",
    "    columns=['noise_std'] + ['original', 'wavelets_24', 'bm3d'],\n",
    ")\n",
    "for i, (noise_std, metrics) in enumerate(noise_std_metrics.items()):\n",
    "    ssim_metrics_table.loc[i, 'noise_std'] = noise_std\n",
    "    for name, m in metrics:\n",
    "        ssim_metrics_table.loc[i, name] = \"{mean:.4} ({std:.4})\".format(\n",
    "            mean=m.metrics['SSIM'].mean(), \n",
    "            std=m.metrics['SSIM'].stddev(),\n",
    "        )\n",
    "ssim_metrics_table"
   ]
  },
  {
   "cell_type": "code",
   "execution_count": null,
   "metadata": {},
   "outputs": [],
   "source": []
  }
 ],
 "metadata": {
  "kernelspec": {
   "display_name": "Python 3",
   "language": "python",
   "name": "python3"
  },
  "language_info": {
   "codemirror_mode": {
    "name": "ipython",
    "version": 3
   },
   "file_extension": ".py",
   "mimetype": "text/x-python",
   "name": "python",
   "nbconvert_exporter": "python",
   "pygments_lexer": "ipython3",
   "version": "3.6.8"
  },
  "notify_time": "30"
 },
 "nbformat": 4,
 "nbformat_minor": 2
}
