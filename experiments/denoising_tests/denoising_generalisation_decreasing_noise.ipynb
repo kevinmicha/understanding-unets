{
 "cells": [
  {
   "cell_type": "code",
   "execution_count": 1,
   "metadata": {},
   "outputs": [
    {
     "name": "stdout",
     "output_type": "stream",
     "text": [
      "/volatile/home/Zaccharie/workspace/understanding-unets\n"
     ]
    }
   ],
   "source": [
    "%cd ../.."
   ]
  },
  {
   "cell_type": "code",
   "execution_count": 2,
   "metadata": {},
   "outputs": [],
   "source": [
    "# # this just to make sure we are using only on CPU\n",
    "# import os\n",
    "# os.environ[\"CUDA_VISIBLE_DEVICES\"]=\"-1\""
   ]
  },
  {
   "cell_type": "code",
   "execution_count": 3,
   "metadata": {},
   "outputs": [
    {
     "name": "stdout",
     "output_type": "stream",
     "text": [
      "\n",
      "                 .|'''|       /.\\      '||'''|,\n",
      "                 ||          // \\\\      ||   ||\n",
      "'||''|, '||  ||` `|'''|,    //...\\\\     ||...|'\n",
      " ||  ||  `|..||   .   ||   //     \\\\    ||\n",
      " ||..|'      ||   |...|' .//       \\\\. .||\n",
      " ||       ,  |'\n",
      ".||        ''\n",
      "\n",
      "Package version: 0.0.3\n",
      "\n",
      "License: CeCILL-B\n",
      "\n",
      "Authors: \n",
      "\n",
      "Antoine Grigis <antoine.grigis@cea.fr>\n",
      "Samuel Farrens <samuel.farrens@cea.fr>\n",
      "Jean-Luc Starck <jl.stark@cea.fr>\n",
      "Philippe Ciuciu <philippe.ciuciu@cea.fr>\n",
      "\n",
      "Dependencies: \n",
      "\n",
      "scipy          : >=1.3.0   - required | 1.4.1     installed\n",
      "numpy          : >=1.16.4  - required | 1.17.4    installed\n",
      "matplotlib     : >=3.0.0   - required | 3.1.2     installed\n",
      "astropy        : >=3.0.0   - required | 3.2.3     installed\n",
      "nibabel        : >=2.3.2   - required | 2.5.1     installed\n",
      "pyqtgraph      : >=0.10.0  - required | 0.10.0    installed\n",
      "progressbar2   : >=3.34.3  - required | ?         installed\n",
      "modopt         : >=1.4.0   - required | 1.4.1     installed\n",
      "scikit-learn   : >=0.19.1  - required | ?         installed\n",
      "pywt           : >=1.0.0   - required | 1.1.1     installed\n",
      "pysparse       : >=0.0.1   - required | 0.1.0     installed\n",
      "\n"
     ]
    }
   ],
   "source": [
    "%load_ext autoreload\n",
    "%autoreload 2\n",
    "import copy\n",
    "import time\n",
    "\n",
    "import numpy as np\n",
    "import pandas as pd\n",
    "from tqdm import tqdm_notebook\n",
    "\n",
    "from learning_wavelets.data.datasets import im_dataset_bsd68\n",
    "from learning_wavelets.models.dncnn import dncnn\n",
    "from learning_wavelets.keras_utils.thresholding import SoftThresholding, HardThresholding, DynamicSoftThresholding, DynamicHardThresholding, RelaxedDynamicHardThresholding, LocalWienerFiltering\n",
    "from learning_wavelets.models.learned_wavelet import learned_wavelet, learnlet\n",
    "from learning_wavelets.models.unet import unet\n",
    "from learning_wavelets.utils.metrics import metrics_from_ds, metrics_original_from_ds"
   ]
  },
  {
   "cell_type": "code",
   "execution_count": 4,
   "metadata": {},
   "outputs": [],
   "source": [
    "np.random.seed(0)"
   ]
  },
  {
   "cell_type": "code",
   "execution_count": 5,
   "metadata": {
    "code_folding": []
   },
   "outputs": [],
   "source": [
    "all_net_params = [\n",
    "]\n",
    "\n",
    "dynamic_denoising_net_params = [\n",
    "    {\n",
    "        'name': 'learnlet_0_55_big_bsd',\n",
    "        'init_function': learnlet,\n",
    "        'run_params': {\n",
    "            'denoising_activation': 'dynamic_soft_thresholding',\n",
    "            'learnlet_analysis_kwargs':{\n",
    "                'n_tiling': 256, \n",
    "                'mixing_details': False,  \n",
    "                'kernel_size': 11,\n",
    "                'skip_connection': True,\n",
    "            },\n",
    "            'learnlet_synthesis_kwargs': {\n",
    "                'res': True,\n",
    "                'kernel_size': 13,\n",
    "            },\n",
    "            'n_scales': 5,\n",
    "            'exact_reconstruction_weight': 0,\n",
    "            'clip': True,\n",
    "            'input_size': (None, None, 1),     \n",
    "        },\n",
    "        'run_id': 'learnlet_dynamic_st_bsd500_0_55_1580806694',\n",
    "        'epoch': 500,\n",
    "    },\n",
    "    {\n",
    "        'name': 'learnlet_0_55_decreasing_n_lvl',\n",
    "        'init_function': learnlet,\n",
    "        'run_params': {\n",
    "            'denoising_activation': 'dynamic_soft_thresholding',\n",
    "            'learnlet_analysis_kwargs':{\n",
    "                'n_tiling': 256, \n",
    "                'mixing_details': False,  \n",
    "                'kernel_size': 11,\n",
    "                'skip_connection': True,\n",
    "            },\n",
    "            'learnlet_synthesis_kwargs': {\n",
    "                'res': True,\n",
    "                'kernel_size': 13,\n",
    "            },\n",
    "            'n_scales': 5,\n",
    "            'exact_reconstruction_weight': 0,\n",
    "            'clip': True,\n",
    "            'input_size': (None, None, 1),     \n",
    "        },\n",
    "        'run_id': 'learnlet_dynamic_256_dynamic_soft_thresholding_bsd500_decreasing_1581584676',\n",
    "        'epoch': 500,\n",
    "    },\n",
    "]"
   ]
  },
  {
   "cell_type": "code",
   "execution_count": 6,
   "metadata": {},
   "outputs": [],
   "source": [
    "noise_stds = [0.0001, 5, 15, 20, 25, 30, 50, 75]\n",
    "# noise_stds = [15, 20, 30]\n",
    "# noise_stds = [0.0001]"
   ]
  },
  {
   "cell_type": "code",
   "execution_count": 7,
   "metadata": {
    "code_folding": [],
    "scrolled": true
   },
   "outputs": [
    {
     "name": "stderr",
     "output_type": "stream",
     "text": [
      "/volatile/home/Zaccharie/workspace/understanding-unets/venv/lib/python3.6/site-packages/ipykernel_launcher.py:3: TqdmDeprecationWarning: This function will be removed in tqdm==5.0.0\n",
      "Please use `tqdm.notebook.tqdm` instead of `tqdm.tqdm_notebook`\n",
      "  This is separate from the ipykernel package so we can avoid doing imports until\n"
     ]
    },
    {
     "data": {
      "application/vnd.jupyter.widget-view+json": {
       "model_id": "abba833d62de4a379c594ed392c0cfd4",
       "version_major": 2,
       "version_minor": 0
      },
      "text/plain": [
       "HBox(children=(FloatProgress(value=0.0, description='Noise stds', max=8.0, style=ProgressStyle(description_wid…"
      ]
     },
     "metadata": {},
     "output_type": "display_data"
    },
    {
     "data": {
      "application/vnd.jupyter.widget-view+json": {
       "model_id": "6b99b1a6962040d2a5deac4b42756174",
       "version_major": 2,
       "version_minor": 0
      },
      "text/plain": [
       "HBox(children=(FloatProgress(value=1.0, bar_style='info', max=1.0), HTML(value='')))"
      ]
     },
     "metadata": {},
     "output_type": "display_data"
    },
    {
     "name": "stdout",
     "output_type": "stream",
     "text": [
      "\n"
     ]
    },
    {
     "data": {
      "application/vnd.jupyter.widget-view+json": {
       "model_id": "9acbdf5831ea41289c5e0313faddf1ab",
       "version_major": 2,
       "version_minor": 0
      },
      "text/plain": [
       "HBox(children=(FloatProgress(value=0.0, description='Stats for original noisy images', max=68.0, style=Progres…"
      ]
     },
     "metadata": {},
     "output_type": "display_data"
    },
    {
     "name": "stderr",
     "output_type": "stream",
     "text": [
      "/volatile/home/Zaccharie/workspace/understanding-unets/learning_wavelets/evaluate.py:34: UserWarning: DEPRECATED: skimage.measure.compare_psnr has been moved to skimage.metrics.peak_signal_noise_ratio. It will be removed from skimage.measure in version 0.18.\n",
      "  return compare_psnr(gt, pred, data_range=1)\n",
      "/volatile/home/Zaccharie/workspace/understanding-unets/learning_wavelets/evaluate.py:43: UserWarning: DEPRECATED: skimage.measure.compare_ssim has been moved to skimage.metrics.structural_similarity. It will be removed from skimage.measure in version 0.18.\n",
      "  gt, pred, multichannel=True, data_range=1\n"
     ]
    },
    {
     "name": "stdout",
     "output_type": "stream",
     "text": [
      "\n"
     ]
    },
    {
     "data": {
      "application/vnd.jupyter.widget-view+json": {
       "model_id": "b7a1a6cc6d9344fc8bb494f1a241c82b",
       "version_major": 2,
       "version_minor": 0
      },
      "text/plain": [
       "HBox(children=(FloatProgress(value=1.0, bar_style='info', max=1.0), HTML(value='')))"
      ]
     },
     "metadata": {},
     "output_type": "display_data"
    },
    {
     "name": "stdout",
     "output_type": "stream",
     "text": [
      "\n"
     ]
    },
    {
     "data": {
      "application/vnd.jupyter.widget-view+json": {
       "model_id": "0fc6ba70c7ab48978c0ff221aa484a4b",
       "version_major": 2,
       "version_minor": 0
      },
      "text/plain": [
       "HBox(children=(FloatProgress(value=0.0, description='Stats for learnlet_0_55_big_bsd', max=68.0, style=Progres…"
      ]
     },
     "metadata": {},
     "output_type": "display_data"
    },
    {
     "name": "stdout",
     "output_type": "stream",
     "text": [
      "\n"
     ]
    },
    {
     "data": {
      "application/vnd.jupyter.widget-view+json": {
       "model_id": "95d2d1bec23b427e90455e0490a56ffe",
       "version_major": 2,
       "version_minor": 0
      },
      "text/plain": [
       "HBox(children=(FloatProgress(value=1.0, bar_style='info', max=1.0), HTML(value='')))"
      ]
     },
     "metadata": {},
     "output_type": "display_data"
    },
    {
     "name": "stdout",
     "output_type": "stream",
     "text": [
      "\n"
     ]
    },
    {
     "data": {
      "application/vnd.jupyter.widget-view+json": {
       "model_id": "98459034586f4096b326ffd2bf564b61",
       "version_major": 2,
       "version_minor": 0
      },
      "text/plain": [
       "HBox(children=(FloatProgress(value=0.0, description='Stats for learnlet_0_55_decreasing_n_lvl', max=68.0, styl…"
      ]
     },
     "metadata": {},
     "output_type": "display_data"
    },
    {
     "name": "stdout",
     "output_type": "stream",
     "text": [
      "\n"
     ]
    },
    {
     "data": {
      "application/vnd.jupyter.widget-view+json": {
       "model_id": "bed1072bd44446f893fe3ecdbbdd549e",
       "version_major": 2,
       "version_minor": 0
      },
      "text/plain": [
       "HBox(children=(FloatProgress(value=1.0, bar_style='info', max=1.0), HTML(value='')))"
      ]
     },
     "metadata": {},
     "output_type": "display_data"
    },
    {
     "name": "stdout",
     "output_type": "stream",
     "text": [
      "\n"
     ]
    },
    {
     "data": {
      "application/vnd.jupyter.widget-view+json": {
       "model_id": "567ee0f7835240e7b66f4fc29776adf5",
       "version_major": 2,
       "version_minor": 0
      },
      "text/plain": [
       "HBox(children=(FloatProgress(value=0.0, description='Stats for original noisy images', max=68.0, style=Progres…"
      ]
     },
     "metadata": {},
     "output_type": "display_data"
    },
    {
     "name": "stdout",
     "output_type": "stream",
     "text": [
      "\n"
     ]
    },
    {
     "data": {
      "application/vnd.jupyter.widget-view+json": {
       "model_id": "f0a1bebaddd642848150824ba12187db",
       "version_major": 2,
       "version_minor": 0
      },
      "text/plain": [
       "HBox(children=(FloatProgress(value=1.0, bar_style='info', max=1.0), HTML(value='')))"
      ]
     },
     "metadata": {},
     "output_type": "display_data"
    },
    {
     "name": "stdout",
     "output_type": "stream",
     "text": [
      "\n"
     ]
    },
    {
     "data": {
      "application/vnd.jupyter.widget-view+json": {
       "model_id": "e32bb8305df74c65b237ab419d2616c3",
       "version_major": 2,
       "version_minor": 0
      },
      "text/plain": [
       "HBox(children=(FloatProgress(value=0.0, description='Stats for learnlet_0_55_big_bsd', max=68.0, style=Progres…"
      ]
     },
     "metadata": {},
     "output_type": "display_data"
    },
    {
     "name": "stdout",
     "output_type": "stream",
     "text": [
      "\n"
     ]
    },
    {
     "data": {
      "application/vnd.jupyter.widget-view+json": {
       "model_id": "98ad9654a6b346ffaf4c2a9b44ce1b89",
       "version_major": 2,
       "version_minor": 0
      },
      "text/plain": [
       "HBox(children=(FloatProgress(value=1.0, bar_style='info', max=1.0), HTML(value='')))"
      ]
     },
     "metadata": {},
     "output_type": "display_data"
    },
    {
     "name": "stdout",
     "output_type": "stream",
     "text": [
      "\n"
     ]
    },
    {
     "data": {
      "application/vnd.jupyter.widget-view+json": {
       "model_id": "15ebf075a74b4d50a26e2e232c00ef97",
       "version_major": 2,
       "version_minor": 0
      },
      "text/plain": [
       "HBox(children=(FloatProgress(value=0.0, description='Stats for learnlet_0_55_decreasing_n_lvl', max=68.0, styl…"
      ]
     },
     "metadata": {},
     "output_type": "display_data"
    },
    {
     "name": "stdout",
     "output_type": "stream",
     "text": [
      "\n"
     ]
    },
    {
     "data": {
      "application/vnd.jupyter.widget-view+json": {
       "model_id": "4b5b20ff51a14d41a7688fe83b14103c",
       "version_major": 2,
       "version_minor": 0
      },
      "text/plain": [
       "HBox(children=(FloatProgress(value=1.0, bar_style='info', max=1.0), HTML(value='')))"
      ]
     },
     "metadata": {},
     "output_type": "display_data"
    },
    {
     "name": "stdout",
     "output_type": "stream",
     "text": [
      "\n"
     ]
    },
    {
     "data": {
      "application/vnd.jupyter.widget-view+json": {
       "model_id": "65e03d9645e549498753990d542063e2",
       "version_major": 2,
       "version_minor": 0
      },
      "text/plain": [
       "HBox(children=(FloatProgress(value=0.0, description='Stats for original noisy images', max=68.0, style=Progres…"
      ]
     },
     "metadata": {},
     "output_type": "display_data"
    },
    {
     "name": "stdout",
     "output_type": "stream",
     "text": [
      "\n"
     ]
    },
    {
     "data": {
      "application/vnd.jupyter.widget-view+json": {
       "model_id": "d285a48af49a426c8ea098ce83f0e224",
       "version_major": 2,
       "version_minor": 0
      },
      "text/plain": [
       "HBox(children=(FloatProgress(value=1.0, bar_style='info', max=1.0), HTML(value='')))"
      ]
     },
     "metadata": {},
     "output_type": "display_data"
    },
    {
     "name": "stdout",
     "output_type": "stream",
     "text": [
      "\n"
     ]
    },
    {
     "data": {
      "application/vnd.jupyter.widget-view+json": {
       "model_id": "8f7407e083314c098a88fb5a4df65f51",
       "version_major": 2,
       "version_minor": 0
      },
      "text/plain": [
       "HBox(children=(FloatProgress(value=0.0, description='Stats for learnlet_0_55_big_bsd', max=68.0, style=Progres…"
      ]
     },
     "metadata": {},
     "output_type": "display_data"
    },
    {
     "name": "stdout",
     "output_type": "stream",
     "text": [
      "\n"
     ]
    },
    {
     "data": {
      "application/vnd.jupyter.widget-view+json": {
       "model_id": "89e3a3ab52da4712b82977be3dc81f91",
       "version_major": 2,
       "version_minor": 0
      },
      "text/plain": [
       "HBox(children=(FloatProgress(value=1.0, bar_style='info', max=1.0), HTML(value='')))"
      ]
     },
     "metadata": {},
     "output_type": "display_data"
    },
    {
     "name": "stdout",
     "output_type": "stream",
     "text": [
      "\n"
     ]
    },
    {
     "data": {
      "application/vnd.jupyter.widget-view+json": {
       "model_id": "e219f87fab194fa6a3241ec52b0432d8",
       "version_major": 2,
       "version_minor": 0
      },
      "text/plain": [
       "HBox(children=(FloatProgress(value=0.0, description='Stats for learnlet_0_55_decreasing_n_lvl', max=68.0, styl…"
      ]
     },
     "metadata": {},
     "output_type": "display_data"
    },
    {
     "name": "stdout",
     "output_type": "stream",
     "text": [
      "\n"
     ]
    },
    {
     "data": {
      "application/vnd.jupyter.widget-view+json": {
       "model_id": "1c9599a8923f4fe79d03409fbf5a0bcb",
       "version_major": 2,
       "version_minor": 0
      },
      "text/plain": [
       "HBox(children=(FloatProgress(value=1.0, bar_style='info', max=1.0), HTML(value='')))"
      ]
     },
     "metadata": {},
     "output_type": "display_data"
    },
    {
     "name": "stdout",
     "output_type": "stream",
     "text": [
      "\n"
     ]
    },
    {
     "data": {
      "application/vnd.jupyter.widget-view+json": {
       "model_id": "49502bf148374cac94d39784d1edec9f",
       "version_major": 2,
       "version_minor": 0
      },
      "text/plain": [
       "HBox(children=(FloatProgress(value=0.0, description='Stats for original noisy images', max=68.0, style=Progres…"
      ]
     },
     "metadata": {},
     "output_type": "display_data"
    },
    {
     "name": "stdout",
     "output_type": "stream",
     "text": [
      "\n"
     ]
    },
    {
     "data": {
      "application/vnd.jupyter.widget-view+json": {
       "model_id": "71d4ac37b074407e9efda60865d8b15a",
       "version_major": 2,
       "version_minor": 0
      },
      "text/plain": [
       "HBox(children=(FloatProgress(value=1.0, bar_style='info', max=1.0), HTML(value='')))"
      ]
     },
     "metadata": {},
     "output_type": "display_data"
    },
    {
     "name": "stdout",
     "output_type": "stream",
     "text": [
      "\n"
     ]
    },
    {
     "data": {
      "application/vnd.jupyter.widget-view+json": {
       "model_id": "f6423cc06fe14d02b338871c0accd026",
       "version_major": 2,
       "version_minor": 0
      },
      "text/plain": [
       "HBox(children=(FloatProgress(value=0.0, description='Stats for learnlet_0_55_big_bsd', max=68.0, style=Progres…"
      ]
     },
     "metadata": {},
     "output_type": "display_data"
    },
    {
     "name": "stdout",
     "output_type": "stream",
     "text": [
      "\n"
     ]
    },
    {
     "data": {
      "application/vnd.jupyter.widget-view+json": {
       "model_id": "bd2c0c86191147e2b86aa78c60afb33c",
       "version_major": 2,
       "version_minor": 0
      },
      "text/plain": [
       "HBox(children=(FloatProgress(value=1.0, bar_style='info', max=1.0), HTML(value='')))"
      ]
     },
     "metadata": {},
     "output_type": "display_data"
    },
    {
     "name": "stdout",
     "output_type": "stream",
     "text": [
      "\n"
     ]
    },
    {
     "data": {
      "application/vnd.jupyter.widget-view+json": {
       "model_id": "89ea3eff22c64a5990ed991ab7557932",
       "version_major": 2,
       "version_minor": 0
      },
      "text/plain": [
       "HBox(children=(FloatProgress(value=0.0, description='Stats for learnlet_0_55_decreasing_n_lvl', max=68.0, styl…"
      ]
     },
     "metadata": {},
     "output_type": "display_data"
    },
    {
     "name": "stdout",
     "output_type": "stream",
     "text": [
      "\n"
     ]
    },
    {
     "data": {
      "application/vnd.jupyter.widget-view+json": {
       "model_id": "50b0b4d45fdf49f0bea8044aca094380",
       "version_major": 2,
       "version_minor": 0
      },
      "text/plain": [
       "HBox(children=(FloatProgress(value=1.0, bar_style='info', max=1.0), HTML(value='')))"
      ]
     },
     "metadata": {},
     "output_type": "display_data"
    },
    {
     "name": "stdout",
     "output_type": "stream",
     "text": [
      "\n"
     ]
    },
    {
     "data": {
      "application/vnd.jupyter.widget-view+json": {
       "model_id": "3f7252dfe336416caf05348b942c23cb",
       "version_major": 2,
       "version_minor": 0
      },
      "text/plain": [
       "HBox(children=(FloatProgress(value=0.0, description='Stats for original noisy images', max=68.0, style=Progres…"
      ]
     },
     "metadata": {},
     "output_type": "display_data"
    },
    {
     "name": "stdout",
     "output_type": "stream",
     "text": [
      "\n"
     ]
    },
    {
     "data": {
      "application/vnd.jupyter.widget-view+json": {
       "model_id": "80552a5c728d4b73977c612b633cf0ff",
       "version_major": 2,
       "version_minor": 0
      },
      "text/plain": [
       "HBox(children=(FloatProgress(value=1.0, bar_style='info', max=1.0), HTML(value='')))"
      ]
     },
     "metadata": {},
     "output_type": "display_data"
    },
    {
     "name": "stdout",
     "output_type": "stream",
     "text": [
      "\n"
     ]
    },
    {
     "data": {
      "application/vnd.jupyter.widget-view+json": {
       "model_id": "8eeb1fec4cc94770b57c5c5d0a4f8bc4",
       "version_major": 2,
       "version_minor": 0
      },
      "text/plain": [
       "HBox(children=(FloatProgress(value=0.0, description='Stats for learnlet_0_55_big_bsd', max=68.0, style=Progres…"
      ]
     },
     "metadata": {},
     "output_type": "display_data"
    },
    {
     "name": "stdout",
     "output_type": "stream",
     "text": [
      "\n"
     ]
    },
    {
     "data": {
      "application/vnd.jupyter.widget-view+json": {
       "model_id": "9d5c94f94e99498f98270935fc436b55",
       "version_major": 2,
       "version_minor": 0
      },
      "text/plain": [
       "HBox(children=(FloatProgress(value=1.0, bar_style='info', max=1.0), HTML(value='')))"
      ]
     },
     "metadata": {},
     "output_type": "display_data"
    },
    {
     "name": "stdout",
     "output_type": "stream",
     "text": [
      "\n"
     ]
    },
    {
     "data": {
      "application/vnd.jupyter.widget-view+json": {
       "model_id": "93b3a2b79a01471593cbec3cb9a9d1ff",
       "version_major": 2,
       "version_minor": 0
      },
      "text/plain": [
       "HBox(children=(FloatProgress(value=0.0, description='Stats for learnlet_0_55_decreasing_n_lvl', max=68.0, styl…"
      ]
     },
     "metadata": {},
     "output_type": "display_data"
    },
    {
     "name": "stdout",
     "output_type": "stream",
     "text": [
      "\n"
     ]
    },
    {
     "data": {
      "application/vnd.jupyter.widget-view+json": {
       "model_id": "dbf526893a2b47b68e99b5f41ab4d387",
       "version_major": 2,
       "version_minor": 0
      },
      "text/plain": [
       "HBox(children=(FloatProgress(value=1.0, bar_style='info', max=1.0), HTML(value='')))"
      ]
     },
     "metadata": {},
     "output_type": "display_data"
    },
    {
     "name": "stdout",
     "output_type": "stream",
     "text": [
      "\n"
     ]
    },
    {
     "data": {
      "application/vnd.jupyter.widget-view+json": {
       "model_id": "1ef8e117f51d49e29f2dc87012b146b6",
       "version_major": 2,
       "version_minor": 0
      },
      "text/plain": [
       "HBox(children=(FloatProgress(value=0.0, description='Stats for original noisy images', max=68.0, style=Progres…"
      ]
     },
     "metadata": {},
     "output_type": "display_data"
    },
    {
     "name": "stdout",
     "output_type": "stream",
     "text": [
      "\n"
     ]
    },
    {
     "data": {
      "application/vnd.jupyter.widget-view+json": {
       "model_id": "841b3eea36cc4950bdb540385ea103fe",
       "version_major": 2,
       "version_minor": 0
      },
      "text/plain": [
       "HBox(children=(FloatProgress(value=1.0, bar_style='info', max=1.0), HTML(value='')))"
      ]
     },
     "metadata": {},
     "output_type": "display_data"
    },
    {
     "name": "stdout",
     "output_type": "stream",
     "text": [
      "\n"
     ]
    },
    {
     "data": {
      "application/vnd.jupyter.widget-view+json": {
       "model_id": "46114b059eaa45608dbaea8701195d27",
       "version_major": 2,
       "version_minor": 0
      },
      "text/plain": [
       "HBox(children=(FloatProgress(value=0.0, description='Stats for learnlet_0_55_big_bsd', max=68.0, style=Progres…"
      ]
     },
     "metadata": {},
     "output_type": "display_data"
    },
    {
     "name": "stdout",
     "output_type": "stream",
     "text": [
      "\n"
     ]
    },
    {
     "data": {
      "application/vnd.jupyter.widget-view+json": {
       "model_id": "5fd9732181cc48b683f4134d2f21c0a9",
       "version_major": 2,
       "version_minor": 0
      },
      "text/plain": [
       "HBox(children=(FloatProgress(value=1.0, bar_style='info', max=1.0), HTML(value='')))"
      ]
     },
     "metadata": {},
     "output_type": "display_data"
    },
    {
     "name": "stdout",
     "output_type": "stream",
     "text": [
      "\n"
     ]
    },
    {
     "data": {
      "application/vnd.jupyter.widget-view+json": {
       "model_id": "25d0b27036ea4f1fb7ad58ac2b7faecd",
       "version_major": 2,
       "version_minor": 0
      },
      "text/plain": [
       "HBox(children=(FloatProgress(value=0.0, description='Stats for learnlet_0_55_decreasing_n_lvl', max=68.0, styl…"
      ]
     },
     "metadata": {},
     "output_type": "display_data"
    },
    {
     "name": "stdout",
     "output_type": "stream",
     "text": [
      "\n"
     ]
    },
    {
     "data": {
      "application/vnd.jupyter.widget-view+json": {
       "model_id": "b4ffed911b0d456aa89c89063e647b5f",
       "version_major": 2,
       "version_minor": 0
      },
      "text/plain": [
       "HBox(children=(FloatProgress(value=1.0, bar_style='info', max=1.0), HTML(value='')))"
      ]
     },
     "metadata": {},
     "output_type": "display_data"
    },
    {
     "name": "stdout",
     "output_type": "stream",
     "text": [
      "\n"
     ]
    },
    {
     "data": {
      "application/vnd.jupyter.widget-view+json": {
       "model_id": "04118af424a4425ab6e1860de270d698",
       "version_major": 2,
       "version_minor": 0
      },
      "text/plain": [
       "HBox(children=(FloatProgress(value=0.0, description='Stats for original noisy images', max=68.0, style=Progres…"
      ]
     },
     "metadata": {},
     "output_type": "display_data"
    },
    {
     "name": "stdout",
     "output_type": "stream",
     "text": [
      "\n"
     ]
    },
    {
     "data": {
      "application/vnd.jupyter.widget-view+json": {
       "model_id": "6f522ffa7dcc4cf5815c1b38056f15fe",
       "version_major": 2,
       "version_minor": 0
      },
      "text/plain": [
       "HBox(children=(FloatProgress(value=1.0, bar_style='info', max=1.0), HTML(value='')))"
      ]
     },
     "metadata": {},
     "output_type": "display_data"
    },
    {
     "name": "stdout",
     "output_type": "stream",
     "text": [
      "\n"
     ]
    },
    {
     "data": {
      "application/vnd.jupyter.widget-view+json": {
       "model_id": "163a14b8d3af411a9079a1764c56d61f",
       "version_major": 2,
       "version_minor": 0
      },
      "text/plain": [
       "HBox(children=(FloatProgress(value=0.0, description='Stats for learnlet_0_55_big_bsd', max=68.0, style=Progres…"
      ]
     },
     "metadata": {},
     "output_type": "display_data"
    },
    {
     "name": "stdout",
     "output_type": "stream",
     "text": [
      "\n"
     ]
    },
    {
     "data": {
      "application/vnd.jupyter.widget-view+json": {
       "model_id": "b1634c78a0c44a53855c3575730ed244",
       "version_major": 2,
       "version_minor": 0
      },
      "text/plain": [
       "HBox(children=(FloatProgress(value=1.0, bar_style='info', max=1.0), HTML(value='')))"
      ]
     },
     "metadata": {},
     "output_type": "display_data"
    },
    {
     "name": "stdout",
     "output_type": "stream",
     "text": [
      "\n"
     ]
    },
    {
     "data": {
      "application/vnd.jupyter.widget-view+json": {
       "model_id": "d2e40e6df93a443a862f5163310d0eed",
       "version_major": 2,
       "version_minor": 0
      },
      "text/plain": [
       "HBox(children=(FloatProgress(value=0.0, description='Stats for learnlet_0_55_decreasing_n_lvl', max=68.0, styl…"
      ]
     },
     "metadata": {},
     "output_type": "display_data"
    },
    {
     "name": "stdout",
     "output_type": "stream",
     "text": [
      "\n"
     ]
    },
    {
     "data": {
      "application/vnd.jupyter.widget-view+json": {
       "model_id": "21fe3a3918f74a5d98c5b0f72e3b0c3b",
       "version_major": 2,
       "version_minor": 0
      },
      "text/plain": [
       "HBox(children=(FloatProgress(value=1.0, bar_style='info', max=1.0), HTML(value='')))"
      ]
     },
     "metadata": {},
     "output_type": "display_data"
    },
    {
     "name": "stdout",
     "output_type": "stream",
     "text": [
      "\n"
     ]
    },
    {
     "data": {
      "application/vnd.jupyter.widget-view+json": {
       "model_id": "7f00142687c24d5ba2aaaf8f992a37f1",
       "version_major": 2,
       "version_minor": 0
      },
      "text/plain": [
       "HBox(children=(FloatProgress(value=0.0, description='Stats for original noisy images', max=68.0, style=Progres…"
      ]
     },
     "metadata": {},
     "output_type": "display_data"
    },
    {
     "name": "stdout",
     "output_type": "stream",
     "text": [
      "\n"
     ]
    },
    {
     "data": {
      "application/vnd.jupyter.widget-view+json": {
       "model_id": "1bdc1d41f2a5471aaac747ecf167406e",
       "version_major": 2,
       "version_minor": 0
      },
      "text/plain": [
       "HBox(children=(FloatProgress(value=1.0, bar_style='info', max=1.0), HTML(value='')))"
      ]
     },
     "metadata": {},
     "output_type": "display_data"
    },
    {
     "name": "stdout",
     "output_type": "stream",
     "text": [
      "\n"
     ]
    },
    {
     "data": {
      "application/vnd.jupyter.widget-view+json": {
       "model_id": "a6e1294c21c64947acbfa9c1f4d43d9d",
       "version_major": 2,
       "version_minor": 0
      },
      "text/plain": [
       "HBox(children=(FloatProgress(value=0.0, description='Stats for learnlet_0_55_big_bsd', max=68.0, style=Progres…"
      ]
     },
     "metadata": {},
     "output_type": "display_data"
    },
    {
     "name": "stdout",
     "output_type": "stream",
     "text": [
      "\n"
     ]
    },
    {
     "data": {
      "application/vnd.jupyter.widget-view+json": {
       "model_id": "033941b481d843978e14d1170d01a5ea",
       "version_major": 2,
       "version_minor": 0
      },
      "text/plain": [
       "HBox(children=(FloatProgress(value=1.0, bar_style='info', max=1.0), HTML(value='')))"
      ]
     },
     "metadata": {},
     "output_type": "display_data"
    },
    {
     "name": "stdout",
     "output_type": "stream",
     "text": [
      "\n"
     ]
    },
    {
     "data": {
      "application/vnd.jupyter.widget-view+json": {
       "model_id": "47a4b08b759b4cffaa5e9fa174ea7d95",
       "version_major": 2,
       "version_minor": 0
      },
      "text/plain": [
       "HBox(children=(FloatProgress(value=0.0, description='Stats for learnlet_0_55_decreasing_n_lvl', max=68.0, styl…"
      ]
     },
     "metadata": {},
     "output_type": "display_data"
    },
    {
     "name": "stdout",
     "output_type": "stream",
     "text": [
      "\n",
      "\n"
     ]
    }
   ],
   "source": [
    "noise_std_metrics = {}\n",
    "n_samples = None\n",
    "for noise_std in tqdm_notebook(noise_stds, 'Noise stds'):\n",
    "    metrics = []\n",
    "    for net_params in all_net_params:\n",
    "        im_ds = im_dataset_bsd68(\n",
    "            mode='testing', \n",
    "            batch_size=1, \n",
    "            patch_size=None, \n",
    "            noise_std=noise_std, \n",
    "            return_noise_level=False,\n",
    "            n_pooling=5,\n",
    "            n_samples=n_samples,\n",
    "        )\n",
    "        metrics.append((net_params['name'], metrics_from_ds(im_ds, **net_params)))\n",
    "    im_ds = im_dataset_bsd68(\n",
    "        mode='testing', \n",
    "        batch_size=1, \n",
    "        patch_size=None, \n",
    "        noise_std=noise_std, \n",
    "        return_noise_level=False,\n",
    "        n_pooling=5,\n",
    "        n_samples=n_samples,\n",
    "    )\n",
    "    metrics.append(('original', metrics_original_from_ds(im_ds)))\n",
    "        \n",
    "    for net_params in dynamic_denoising_net_params:\n",
    "        im_ds = im_dataset_bsd68(\n",
    "            mode='testing', \n",
    "            batch_size=1, \n",
    "            patch_size=None, \n",
    "            noise_std=noise_std, \n",
    "            return_noise_level=True,\n",
    "            n_pooling=5,\n",
    "            n_samples=n_samples,\n",
    "        )\n",
    "        metrics.append((net_params['name'], metrics_from_ds(im_ds, **net_params)))\n",
    "\n",
    "#     metrics.append(('bm3d', metrics_bm3d(im_gen_test)))\n",
    "#     metrics.append(('wavelets_24', metrics_wavelets(im_gen_test, '24', noise_std=noise_std)))\n",
    "#     metrics.sort(key=lambda x: x[1].metrics['PSNR'].mean())\n",
    "    noise_std_metrics[noise_std] = metrics"
   ]
  },
  {
   "cell_type": "code",
   "execution_count": 8,
   "metadata": {},
   "outputs": [
    {
     "data": {
      "text/plain": [
       "{0.0001: [('original', PSNR = 128.1 +/- 0.03673 SSIM = 1 +/- 5.808e-11),\n",
       "  ('learnlet_0_55_big_bsd', PSNR = 43.76 +/- 7.204 SSIM = 0.9959 +/- 0.00322),\n",
       "  ('learnlet_0_55_decreasing_n_lvl',\n",
       "   PSNR = 49.54 +/- 6.972 SSIM = 0.9986 +/- 0.0009801)],\n",
       " 5: [('original', PSNR = 34.15 +/- 0.02796 SSIM = 0.8855 +/- 0.102),\n",
       "  ('learnlet_0_55_big_bsd', PSNR = 36.38 +/- 4.074 SSIM = 0.9569 +/- 0.03055),\n",
       "  ('learnlet_0_55_decreasing_n_lvl',\n",
       "   PSNR = 36.89 +/- 3.765 SSIM = 0.9593 +/- 0.02913)],\n",
       " 15: [('original', PSNR = 24.61 +/- 0.03432 SSIM = 0.569 +/- 0.2582),\n",
       "  ('learnlet_0_55_big_bsd', PSNR = 30.84 +/- 4.738 SSIM = 0.8588 +/- 0.09551),\n",
       "  ('learnlet_0_55_decreasing_n_lvl',\n",
       "   PSNR = 30.93 +/- 4.592 SSIM = 0.8595 +/- 0.0908)],\n",
       " 20: [('original', PSNR = 22.11 +/- 0.03832 SSIM = 0.4664 +/- 0.2662),\n",
       "  ('learnlet_0_55_big_bsd', PSNR = 29.48 +/- 4.851 SSIM = 0.8153 +/- 0.1103),\n",
       "  ('learnlet_0_55_decreasing_n_lvl',\n",
       "   PSNR = 29.52 +/- 4.685 SSIM = 0.8142 +/- 0.1058)],\n",
       " 25: [('original', PSNR = 20.17 +/- 0.03083 SSIM = 0.3881 +/- 0.2564),\n",
       "  ('learnlet_0_55_big_bsd', PSNR = 28.46 +/- 4.892 SSIM = 0.7758 +/- 0.1198),\n",
       "  ('learnlet_0_55_decreasing_n_lvl',\n",
       "   PSNR = 28.45 +/- 4.734 SSIM = 0.7721 +/- 0.1135)],\n",
       " 30: [('original', PSNR = 18.59 +/- 0.03082 SSIM = 0.3279 +/- 0.2402),\n",
       "  ('learnlet_0_55_big_bsd', PSNR = 27.66 +/- 4.907 SSIM = 0.7396 +/- 0.1254),\n",
       "  ('learnlet_0_55_decreasing_n_lvl',\n",
       "   PSNR = 27.61 +/- 4.702 SSIM = 0.7335 +/- 0.1182)],\n",
       " 50: [('original', PSNR = 14.15 +/- 0.04023 SSIM = 0.1834 +/- 0.1671),\n",
       "  ('learnlet_0_55_big_bsd', PSNR = 25.48 +/- 4.768 SSIM = 0.619 +/- 0.1367),\n",
       "  ('learnlet_0_55_decreasing_n_lvl',\n",
       "   PSNR = 25.31 +/- 4.464 SSIM = 0.6038 +/- 0.1216)],\n",
       " 75: [('original', PSNR = 10.63 +/- 0.03056 SSIM = 0.1012 +/- 0.1033),\n",
       "  ('learnlet_0_55_big_bsd', PSNR = 23.78 +/- 4.358 SSIM = 0.5062 +/- 0.1276),\n",
       "  ('learnlet_0_55_decreasing_n_lvl',\n",
       "   PSNR = 23.51 +/- 4.015 SSIM = 0.483 +/- 0.1148)]}"
      ]
     },
     "execution_count": 8,
     "metadata": {},
     "output_type": "execute_result"
    }
   ],
   "source": [
    "noise_std_metrics"
   ]
  },
  {
   "cell_type": "code",
   "execution_count": 9,
   "metadata": {},
   "outputs": [],
   "source": [
    "BM3D_psnr_results = {\n",
    "    5: 37.57,\n",
    "    15: 31.07,\n",
    "    20: 29.60,\n",
    "    25: 28.57,\n",
    "    30: 27.74,\n",
    "    50: 25.62,\n",
    "    75: 24.21,\n",
    "}\n",
    "\n",
    "wavelets_psnr_results = {\n",
    "    5: (35.76,  1.937),\n",
    "    15: (29.56,  2.553),\n",
    "    20: (28.25,  2.645),\n",
    "    25: (27.32,  2.684),\n",
    "    30: (26.61,  2.694),\n",
    "    50: (24.79,  2.673),\n",
    "    75: (23.46,  2.574),\n",
    "}"
   ]
  },
  {
   "cell_type": "code",
   "execution_count": 10,
   "metadata": {},
   "outputs": [
    {
     "data": {
      "text/html": [
       "<div>\n",
       "<style scoped>\n",
       "    .dataframe tbody tr th:only-of-type {\n",
       "        vertical-align: middle;\n",
       "    }\n",
       "\n",
       "    .dataframe tbody tr th {\n",
       "        vertical-align: top;\n",
       "    }\n",
       "\n",
       "    .dataframe thead th {\n",
       "        text-align: right;\n",
       "    }\n",
       "</style>\n",
       "<table border=\"1\" class=\"dataframe\">\n",
       "  <thead>\n",
       "    <tr style=\"text-align: right;\">\n",
       "      <th></th>\n",
       "      <th>noise_std</th>\n",
       "      <th>learnlet_0_55_big_bsd</th>\n",
       "      <th>learnlet_0_55_decreasing_n_lvl</th>\n",
       "      <th>original</th>\n",
       "      <th>wavelets_24</th>\n",
       "      <th>bm3d</th>\n",
       "    </tr>\n",
       "  </thead>\n",
       "  <tbody>\n",
       "    <tr>\n",
       "      <th>0</th>\n",
       "      <td>0.0001</td>\n",
       "      <td>43.76 (3.6)</td>\n",
       "      <td>49.54 (3.5)</td>\n",
       "      <td>128.1 (0.018)</td>\n",
       "      <td>NaN</td>\n",
       "      <td>NaN</td>\n",
       "    </tr>\n",
       "    <tr>\n",
       "      <th>1</th>\n",
       "      <td>5</td>\n",
       "      <td>36.38 (2.0)</td>\n",
       "      <td>36.89 (1.9)</td>\n",
       "      <td>34.15 (0.014)</td>\n",
       "      <td>NaN</td>\n",
       "      <td>NaN</td>\n",
       "    </tr>\n",
       "    <tr>\n",
       "      <th>2</th>\n",
       "      <td>15</td>\n",
       "      <td>30.84 (2.4)</td>\n",
       "      <td>30.93 (2.3)</td>\n",
       "      <td>24.61 (0.017)</td>\n",
       "      <td>NaN</td>\n",
       "      <td>NaN</td>\n",
       "    </tr>\n",
       "    <tr>\n",
       "      <th>3</th>\n",
       "      <td>20</td>\n",
       "      <td>29.48 (2.4)</td>\n",
       "      <td>29.52 (2.3)</td>\n",
       "      <td>22.11 (0.019)</td>\n",
       "      <td>NaN</td>\n",
       "      <td>NaN</td>\n",
       "    </tr>\n",
       "    <tr>\n",
       "      <th>4</th>\n",
       "      <td>25</td>\n",
       "      <td>28.46 (2.4)</td>\n",
       "      <td>28.45 (2.4)</td>\n",
       "      <td>20.17 (0.015)</td>\n",
       "      <td>NaN</td>\n",
       "      <td>NaN</td>\n",
       "    </tr>\n",
       "    <tr>\n",
       "      <th>5</th>\n",
       "      <td>30</td>\n",
       "      <td>27.66 (2.5)</td>\n",
       "      <td>27.61 (2.4)</td>\n",
       "      <td>18.59 (0.015)</td>\n",
       "      <td>NaN</td>\n",
       "      <td>NaN</td>\n",
       "    </tr>\n",
       "    <tr>\n",
       "      <th>6</th>\n",
       "      <td>50</td>\n",
       "      <td>25.48 (2.4)</td>\n",
       "      <td>25.31 (2.2)</td>\n",
       "      <td>14.15 (0.02)</td>\n",
       "      <td>NaN</td>\n",
       "      <td>NaN</td>\n",
       "    </tr>\n",
       "    <tr>\n",
       "      <th>7</th>\n",
       "      <td>75</td>\n",
       "      <td>23.78 (2.2)</td>\n",
       "      <td>23.51 (2.0)</td>\n",
       "      <td>10.63 (0.015)</td>\n",
       "      <td>NaN</td>\n",
       "      <td>NaN</td>\n",
       "    </tr>\n",
       "  </tbody>\n",
       "</table>\n",
       "</div>"
      ],
      "text/plain": [
       "  noise_std learnlet_0_55_big_bsd learnlet_0_55_decreasing_n_lvl  \\\n",
       "0    0.0001           43.76 (3.6)                    49.54 (3.5)   \n",
       "1         5           36.38 (2.0)                    36.89 (1.9)   \n",
       "2        15           30.84 (2.4)                    30.93 (2.3)   \n",
       "3        20           29.48 (2.4)                    29.52 (2.3)   \n",
       "4        25           28.46 (2.4)                    28.45 (2.4)   \n",
       "5        30           27.66 (2.5)                    27.61 (2.4)   \n",
       "6        50           25.48 (2.4)                    25.31 (2.2)   \n",
       "7        75           23.78 (2.2)                    23.51 (2.0)   \n",
       "\n",
       "        original wavelets_24 bm3d  \n",
       "0  128.1 (0.018)         NaN  NaN  \n",
       "1  34.15 (0.014)         NaN  NaN  \n",
       "2  24.61 (0.017)         NaN  NaN  \n",
       "3  22.11 (0.019)         NaN  NaN  \n",
       "4  20.17 (0.015)         NaN  NaN  \n",
       "5  18.59 (0.015)         NaN  NaN  \n",
       "6   14.15 (0.02)         NaN  NaN  \n",
       "7  10.63 (0.015)         NaN  NaN  "
      ]
     },
     "execution_count": 10,
     "metadata": {},
     "output_type": "execute_result"
    }
   ],
   "source": [
    "# PSNR table\n",
    "psnr_metrics_table = pd.DataFrame(\n",
    "    columns=['noise_std'] + [p['name'] for p in all_net_params] + [p['name'] for p in dynamic_denoising_net_params] + ['original', 'wavelets_24', 'bm3d'],\n",
    ")\n",
    "for i, (noise_std, metrics) in enumerate(noise_std_metrics.items()):\n",
    "    psnr_metrics_table.loc[i, 'noise_std'] = noise_std\n",
    "    for name, m in metrics:\n",
    "        psnr_metrics_table.loc[i, name] = \"{mean:.4} ({std:.2})\".format(\n",
    "            mean=m.metrics['PSNR'].mean(), \n",
    "            std=m.metrics['PSNR'].stddev(),\n",
    "        )\n",
    "#     psnr_metrics_table.loc[i, 'bm3d'] = BM3D_psnr_results[noise_std]\n",
    "#     psnr_metrics_table.loc[i, 'wavelets_24'] = \"{mean:.4} ({std:.2})\".format(\n",
    "#         mean=wavelets_psnr_results[noise_std][0], \n",
    "#         std=wavelets_psnr_results[noise_std][1],\n",
    "#     )\n",
    "psnr_metrics_table"
   ]
  },
  {
   "cell_type": "code",
   "execution_count": 11,
   "metadata": {},
   "outputs": [
    {
     "data": {
      "text/html": [
       "<div>\n",
       "<style scoped>\n",
       "    .dataframe tbody tr th:only-of-type {\n",
       "        vertical-align: middle;\n",
       "    }\n",
       "\n",
       "    .dataframe tbody tr th {\n",
       "        vertical-align: top;\n",
       "    }\n",
       "\n",
       "    .dataframe thead th {\n",
       "        text-align: right;\n",
       "    }\n",
       "</style>\n",
       "<table border=\"1\" class=\"dataframe\">\n",
       "  <thead>\n",
       "    <tr style=\"text-align: right;\">\n",
       "      <th></th>\n",
       "      <th>noise_std</th>\n",
       "      <th>learnlet_0_55_big_bsd</th>\n",
       "      <th>learnlet_0_55_decreasing_n_lvl</th>\n",
       "      <th>original</th>\n",
       "      <th>wavelets_24</th>\n",
       "      <th>bm3d</th>\n",
       "    </tr>\n",
       "  </thead>\n",
       "  <tbody>\n",
       "    <tr>\n",
       "      <th>0</th>\n",
       "      <td>0.0001</td>\n",
       "      <td>0.9959 (0.00161)</td>\n",
       "      <td>0.9986 (0.00049)</td>\n",
       "      <td>1.0 (2.904e-11)</td>\n",
       "      <td>NaN</td>\n",
       "      <td>NaN</td>\n",
       "    </tr>\n",
       "    <tr>\n",
       "      <th>1</th>\n",
       "      <td>5</td>\n",
       "      <td>0.9569 (0.01528)</td>\n",
       "      <td>0.9593 (0.01457)</td>\n",
       "      <td>0.8855 (0.05099)</td>\n",
       "      <td>NaN</td>\n",
       "      <td>NaN</td>\n",
       "    </tr>\n",
       "    <tr>\n",
       "      <th>2</th>\n",
       "      <td>15</td>\n",
       "      <td>0.8588 (0.04775)</td>\n",
       "      <td>0.8595 (0.0454)</td>\n",
       "      <td>0.569 (0.1291)</td>\n",
       "      <td>NaN</td>\n",
       "      <td>NaN</td>\n",
       "    </tr>\n",
       "    <tr>\n",
       "      <th>3</th>\n",
       "      <td>20</td>\n",
       "      <td>0.8153 (0.05517)</td>\n",
       "      <td>0.8142 (0.05289)</td>\n",
       "      <td>0.4664 (0.1331)</td>\n",
       "      <td>NaN</td>\n",
       "      <td>NaN</td>\n",
       "    </tr>\n",
       "    <tr>\n",
       "      <th>4</th>\n",
       "      <td>25</td>\n",
       "      <td>0.7758 (0.05992)</td>\n",
       "      <td>0.7721 (0.05674)</td>\n",
       "      <td>0.3881 (0.1282)</td>\n",
       "      <td>NaN</td>\n",
       "      <td>NaN</td>\n",
       "    </tr>\n",
       "    <tr>\n",
       "      <th>5</th>\n",
       "      <td>30</td>\n",
       "      <td>0.7396 (0.06272)</td>\n",
       "      <td>0.7335 (0.05908)</td>\n",
       "      <td>0.3279 (0.1201)</td>\n",
       "      <td>NaN</td>\n",
       "      <td>NaN</td>\n",
       "    </tr>\n",
       "    <tr>\n",
       "      <th>6</th>\n",
       "      <td>50</td>\n",
       "      <td>0.619 (0.06835)</td>\n",
       "      <td>0.6038 (0.0608)</td>\n",
       "      <td>0.1834 (0.08356)</td>\n",
       "      <td>NaN</td>\n",
       "      <td>NaN</td>\n",
       "    </tr>\n",
       "    <tr>\n",
       "      <th>7</th>\n",
       "      <td>75</td>\n",
       "      <td>0.5062 (0.06381)</td>\n",
       "      <td>0.483 (0.0574)</td>\n",
       "      <td>0.1012 (0.05167)</td>\n",
       "      <td>NaN</td>\n",
       "      <td>NaN</td>\n",
       "    </tr>\n",
       "  </tbody>\n",
       "</table>\n",
       "</div>"
      ],
      "text/plain": [
       "  noise_std learnlet_0_55_big_bsd learnlet_0_55_decreasing_n_lvl  \\\n",
       "0    0.0001      0.9959 (0.00161)               0.9986 (0.00049)   \n",
       "1         5      0.9569 (0.01528)               0.9593 (0.01457)   \n",
       "2        15      0.8588 (0.04775)                0.8595 (0.0454)   \n",
       "3        20      0.8153 (0.05517)               0.8142 (0.05289)   \n",
       "4        25      0.7758 (0.05992)               0.7721 (0.05674)   \n",
       "5        30      0.7396 (0.06272)               0.7335 (0.05908)   \n",
       "6        50       0.619 (0.06835)                0.6038 (0.0608)   \n",
       "7        75      0.5062 (0.06381)                 0.483 (0.0574)   \n",
       "\n",
       "           original wavelets_24 bm3d  \n",
       "0   1.0 (2.904e-11)         NaN  NaN  \n",
       "1  0.8855 (0.05099)         NaN  NaN  \n",
       "2    0.569 (0.1291)         NaN  NaN  \n",
       "3   0.4664 (0.1331)         NaN  NaN  \n",
       "4   0.3881 (0.1282)         NaN  NaN  \n",
       "5   0.3279 (0.1201)         NaN  NaN  \n",
       "6  0.1834 (0.08356)         NaN  NaN  \n",
       "7  0.1012 (0.05167)         NaN  NaN  "
      ]
     },
     "execution_count": 11,
     "metadata": {},
     "output_type": "execute_result"
    }
   ],
   "source": [
    "# SSIM table\n",
    "ssim_metrics_table = pd.DataFrame(\n",
    "    columns=['noise_std'] + [p['name'] for p in all_net_params] + [p['name'] for p in dynamic_denoising_net_params] + ['original', 'wavelets_24', 'bm3d'],\n",
    ")\n",
    "for i, (noise_std, metrics) in enumerate(noise_std_metrics.items()):\n",
    "    ssim_metrics_table.loc[i, 'noise_std'] = noise_std\n",
    "    for name, m in metrics:\n",
    "        ssim_metrics_table.loc[i, name] = \"{mean:.4} ({std:.4})\".format(\n",
    "            mean=m.metrics['SSIM'].mean(), \n",
    "            std=m.metrics['SSIM'].stddev(),\n",
    "        )\n",
    "ssim_metrics_table"
   ]
  },
  {
   "cell_type": "code",
   "execution_count": 12,
   "metadata": {},
   "outputs": [],
   "source": [
    "%matplotlib inline\n",
    "import matplotlib.pyplot as plt\n",
    "import seaborn as sns"
   ]
  },
  {
   "cell_type": "code",
   "execution_count": 13,
   "metadata": {},
   "outputs": [],
   "source": [
    "sns.set(style=\"whitegrid\", palette=\"muted\", rc={'figure.figsize': (9, 5), 'image.cmap': 'gray'})"
   ]
  },
  {
   "cell_type": "code",
   "execution_count": 17,
   "metadata": {
    "scrolled": false
   },
   "outputs": [
    {
     "data": {
      "text/html": [
       "<div>\n",
       "<style scoped>\n",
       "    .dataframe tbody tr th:only-of-type {\n",
       "        vertical-align: middle;\n",
       "    }\n",
       "\n",
       "    .dataframe tbody tr th {\n",
       "        vertical-align: top;\n",
       "    }\n",
       "\n",
       "    .dataframe thead th {\n",
       "        text-align: right;\n",
       "    }\n",
       "</style>\n",
       "<table border=\"1\" class=\"dataframe\">\n",
       "  <thead>\n",
       "    <tr style=\"text-align: right;\">\n",
       "      <th></th>\n",
       "      <th>Test noise standard deviation</th>\n",
       "      <th>Ratio over original PSNR</th>\n",
       "      <th>psnr-std-dev</th>\n",
       "      <th>model_name</th>\n",
       "      <th>$\\bf{Model}$</th>\n",
       "    </tr>\n",
       "  </thead>\n",
       "  <tbody>\n",
       "    <tr>\n",
       "      <th>0</th>\n",
       "      <td>0.0001</td>\n",
       "      <td>0.341557</td>\n",
       "      <td>1.80104</td>\n",
       "      <td>learnlet_0_55_big_bsd</td>\n",
       "      <td>LearnletsFalse</td>\n",
       "    </tr>\n",
       "    <tr>\n",
       "      <th>1</th>\n",
       "      <td>0.0001</td>\n",
       "      <td>0.386657</td>\n",
       "      <td>1.74308</td>\n",
       "      <td>learnlet_0_55_decreasing_n_lvl</td>\n",
       "      <td>LearnletsTrue</td>\n",
       "    </tr>\n",
       "    <tr>\n",
       "      <th>2</th>\n",
       "      <td>5</td>\n",
       "      <td>1.06532</td>\n",
       "      <td>1.01849</td>\n",
       "      <td>learnlet_0_55_big_bsd</td>\n",
       "      <td>LearnletsFalse</td>\n",
       "    </tr>\n",
       "    <tr>\n",
       "      <th>3</th>\n",
       "      <td>5</td>\n",
       "      <td>1.08026</td>\n",
       "      <td>0.941162</td>\n",
       "      <td>learnlet_0_55_decreasing_n_lvl</td>\n",
       "      <td>LearnletsTrue</td>\n",
       "    </tr>\n",
       "    <tr>\n",
       "      <th>4</th>\n",
       "      <td>15</td>\n",
       "      <td>1.25294</td>\n",
       "      <td>1.18449</td>\n",
       "      <td>learnlet_0_55_big_bsd</td>\n",
       "      <td>LearnletsFalse</td>\n",
       "    </tr>\n",
       "    <tr>\n",
       "      <th>5</th>\n",
       "      <td>15</td>\n",
       "      <td>1.25685</td>\n",
       "      <td>1.148</td>\n",
       "      <td>learnlet_0_55_decreasing_n_lvl</td>\n",
       "      <td>LearnletsTrue</td>\n",
       "    </tr>\n",
       "    <tr>\n",
       "      <th>6</th>\n",
       "      <td>20</td>\n",
       "      <td>1.33318</td>\n",
       "      <td>1.21266</td>\n",
       "      <td>learnlet_0_55_big_bsd</td>\n",
       "      <td>LearnletsFalse</td>\n",
       "    </tr>\n",
       "    <tr>\n",
       "      <th>7</th>\n",
       "      <td>20</td>\n",
       "      <td>1.33468</td>\n",
       "      <td>1.1712</td>\n",
       "      <td>learnlet_0_55_decreasing_n_lvl</td>\n",
       "      <td>LearnletsTrue</td>\n",
       "    </tr>\n",
       "    <tr>\n",
       "      <th>8</th>\n",
       "      <td>25</td>\n",
       "      <td>1.4112</td>\n",
       "      <td>1.2231</td>\n",
       "      <td>learnlet_0_55_big_bsd</td>\n",
       "      <td>LearnletsFalse</td>\n",
       "    </tr>\n",
       "    <tr>\n",
       "      <th>9</th>\n",
       "      <td>25</td>\n",
       "      <td>1.41055</td>\n",
       "      <td>1.18356</td>\n",
       "      <td>learnlet_0_55_decreasing_n_lvl</td>\n",
       "      <td>LearnletsTrue</td>\n",
       "    </tr>\n",
       "    <tr>\n",
       "      <th>10</th>\n",
       "      <td>30</td>\n",
       "      <td>1.488</td>\n",
       "      <td>1.22676</td>\n",
       "      <td>learnlet_0_55_big_bsd</td>\n",
       "      <td>LearnletsFalse</td>\n",
       "    </tr>\n",
       "    <tr>\n",
       "      <th>11</th>\n",
       "      <td>30</td>\n",
       "      <td>1.48524</td>\n",
       "      <td>1.17553</td>\n",
       "      <td>learnlet_0_55_decreasing_n_lvl</td>\n",
       "      <td>LearnletsTrue</td>\n",
       "    </tr>\n",
       "    <tr>\n",
       "      <th>12</th>\n",
       "      <td>50</td>\n",
       "      <td>1.80048</td>\n",
       "      <td>1.19201</td>\n",
       "      <td>learnlet_0_55_big_bsd</td>\n",
       "      <td>LearnletsFalse</td>\n",
       "    </tr>\n",
       "    <tr>\n",
       "      <th>13</th>\n",
       "      <td>50</td>\n",
       "      <td>1.7879</td>\n",
       "      <td>1.11601</td>\n",
       "      <td>learnlet_0_55_decreasing_n_lvl</td>\n",
       "      <td>LearnletsTrue</td>\n",
       "    </tr>\n",
       "    <tr>\n",
       "      <th>14</th>\n",
       "      <td>75</td>\n",
       "      <td>2.23689</td>\n",
       "      <td>1.08941</td>\n",
       "      <td>learnlet_0_55_big_bsd</td>\n",
       "      <td>LearnletsFalse</td>\n",
       "    </tr>\n",
       "    <tr>\n",
       "      <th>15</th>\n",
       "      <td>75</td>\n",
       "      <td>2.21126</td>\n",
       "      <td>1.0037</td>\n",
       "      <td>learnlet_0_55_decreasing_n_lvl</td>\n",
       "      <td>LearnletsTrue</td>\n",
       "    </tr>\n",
       "  </tbody>\n",
       "</table>\n",
       "</div>"
      ],
      "text/plain": [
       "   Test noise standard deviation Ratio over original PSNR psnr-std-dev  \\\n",
       "0                         0.0001                 0.341557      1.80104   \n",
       "1                         0.0001                 0.386657      1.74308   \n",
       "2                              5                  1.06532      1.01849   \n",
       "3                              5                  1.08026     0.941162   \n",
       "4                             15                  1.25294      1.18449   \n",
       "5                             15                  1.25685        1.148   \n",
       "6                             20                  1.33318      1.21266   \n",
       "7                             20                  1.33468       1.1712   \n",
       "8                             25                   1.4112       1.2231   \n",
       "9                             25                  1.41055      1.18356   \n",
       "10                            30                    1.488      1.22676   \n",
       "11                            30                  1.48524      1.17553   \n",
       "12                            50                  1.80048      1.19201   \n",
       "13                            50                   1.7879      1.11601   \n",
       "14                            75                  2.23689      1.08941   \n",
       "15                            75                  2.21126       1.0037   \n",
       "\n",
       "                        model_name    $\\bf{Model}$  \n",
       "0            learnlet_0_55_big_bsd  LearnletsFalse  \n",
       "1   learnlet_0_55_decreasing_n_lvl   LearnletsTrue  \n",
       "2            learnlet_0_55_big_bsd  LearnletsFalse  \n",
       "3   learnlet_0_55_decreasing_n_lvl   LearnletsTrue  \n",
       "4            learnlet_0_55_big_bsd  LearnletsFalse  \n",
       "5   learnlet_0_55_decreasing_n_lvl   LearnletsTrue  \n",
       "6            learnlet_0_55_big_bsd  LearnletsFalse  \n",
       "7   learnlet_0_55_decreasing_n_lvl   LearnletsTrue  \n",
       "8            learnlet_0_55_big_bsd  LearnletsFalse  \n",
       "9   learnlet_0_55_decreasing_n_lvl   LearnletsTrue  \n",
       "10           learnlet_0_55_big_bsd  LearnletsFalse  \n",
       "11  learnlet_0_55_decreasing_n_lvl   LearnletsTrue  \n",
       "12           learnlet_0_55_big_bsd  LearnletsFalse  \n",
       "13  learnlet_0_55_decreasing_n_lvl   LearnletsTrue  \n",
       "14           learnlet_0_55_big_bsd  LearnletsFalse  \n",
       "15  learnlet_0_55_decreasing_n_lvl   LearnletsTrue  "
      ]
     },
     "execution_count": 17,
     "metadata": {},
     "output_type": "execute_result"
    }
   ],
   "source": [
    "relative_to_original = True\n",
    "\n",
    "model_family_str = r'$\\bf{Model}$'\n",
    "noise_std_str = 'Test noise standard deviation'\n",
    "psnr_str = 'Ratio over original PSNR'\n",
    "# PSNR to plot\n",
    "psnr_to_plot = pd.DataFrame(\n",
    "    columns=[noise_std_str, psnr_str, 'psnr-std-dev', 'model_name', model_family_str]\n",
    ")\n",
    "\n",
    "def from_name_to_family(model_name):\n",
    "    if 'learnlet' in model_name:\n",
    "        return 'Learnlets'\n",
    "    elif 'unet' in model_name:\n",
    "        return 'U-net'\n",
    "    elif 'bm3d' in model_name:\n",
    "        return 'BM3D'\n",
    "    elif 'wavelets' in model_name:\n",
    "        return 'Wavelets'\n",
    "    else:\n",
    "        return 'Original'\n",
    "    \n",
    "def from_name_to_decreasing(model_name):\n",
    "    return 'decreasing' in model_name\n",
    "\n",
    "family_model_to_color = {\n",
    "    'U-net': (0.2823529411764706, 0.47058823529411764, 0.8156862745098039),\n",
    "    'Learnlets': (0.9333333333333333, 0.5215686274509804, 0.2901960784313726),\n",
    "    'LearnletsFalse': (0.9333333333333333, 0.5215686274509804, 0.2901960784313726),\n",
    "    'LearnletsTrue': 'red',\n",
    "    'BM3D': 'violet',\n",
    "    'Wavelets': 'red',\n",
    "    'Original': (0.41568627450980394, 0.8, 0.39215686274509803),\n",
    "}\n",
    "index = 0\n",
    "orig_psnrs = {}\n",
    "for i_noise, (noise_std, metrics) in enumerate(noise_std_metrics.items()):\n",
    "    for j_model, (name, m) in enumerate(metrics):\n",
    "        if relative_to_original and name == 'original':\n",
    "            orig_psnrs[noise_std] = m.metrics['PSNR'].mean()\n",
    "        else:\n",
    "            psnr_to_plot.loc[index, noise_std_str] = noise_std\n",
    "            psnr_to_plot.loc[index, psnr_str] = m.metrics['PSNR'].mean()\n",
    "            psnr_to_plot.loc[index, 'psnr-std-dev'] = m.metrics['PSNR'].stddev() / 2\n",
    "            psnr_to_plot.loc[index, 'model_name'] = name\n",
    "            psnr_to_plot.loc[index, model_family_str] = from_name_to_family(name) + str(from_name_to_decreasing(name))\n",
    "            index += 1\n",
    "#     name = 'bm3d'\n",
    "#     psnr_to_plot.loc[index, noise_std_str] = noise_std\n",
    "#     psnr_to_plot.loc[index, psnr_str] = BM3D_psnr_results[noise_std]\n",
    "#     psnr_to_plot.loc[index, 'psnr-std-dev'] = 0\n",
    "#     psnr_to_plot.loc[index, 'model_name'] = name\n",
    "#     psnr_to_plot.loc[index, train_stds_str] = from_name_to_train_stds(name)\n",
    "#     psnr_to_plot.loc[index, model_family_str] = from_name_to_family(name)\n",
    "#     index += 1\n",
    "#     name = 'wavelets_24'\n",
    "#     psnr_to_plot.loc[index, noise_std_str] = noise_std\n",
    "#     psnr_to_plot.loc[index, psnr_str] = wavelets_psnr_results[noise_std][0]\n",
    "#     psnr_to_plot.loc[index, 'psnr-std-dev'] = wavelets_psnr_results[noise_std][1]\n",
    "#     psnr_to_plot.loc[index, 'model_name'] = name\n",
    "#     psnr_to_plot.loc[index, train_stds_str] = from_name_to_train_stds(name)\n",
    "#     psnr_to_plot.loc[index, model_family_str] = from_name_to_family(name)\n",
    "#     index += 1\n",
    "    \n",
    "\n",
    "if relative_to_original:\n",
    "    for noise_std, orig_psnr in orig_psnrs.items():\n",
    "        psnr_to_plot.loc[psnr_to_plot[noise_std_str] == noise_std, psnr_str] = psnr_to_plot[psnr_to_plot[noise_std_str] == noise_std][psnr_str] / orig_psnr\n",
    "    \n",
    "psnr_to_plot"
   ]
  },
  {
   "cell_type": "code",
   "execution_count": 18,
   "metadata": {
    "scrolled": false
   },
   "outputs": [],
   "source": [
    "# plt.figure()\n",
    "# psnr_to_plot[psnr_str] = psnr_to_plot[psnr_str].astype(float)\n",
    "# lplot = sns.lineplot(\n",
    "#     x=noise_std_str, \n",
    "#     y=psnr_str, \n",
    "#     hue=model_family_str,\n",
    "#     style=train_stds_str,\n",
    "#     data=psnr_to_plot,\n",
    "#     palette=family_model_to_color,\n",
    "# )\n",
    "# lplot.errorbar(\n",
    "#     x=noise_std_str, \n",
    "#     y=psnr_str,\n",
    "#     yerr='psnr-std-dev',\n",
    "#     fmt='none',\n",
    "#     ecolor=[family_model_to_color[mf] for mf in psnr_to_plot[model_family_str]],\n",
    "#     data=psnr_to_plot,\n",
    "#     alpha=0.3,\n",
    "#     label=None,\n",
    "# )\n",
    "# plt.legend(bbox_to_anchor=(1.0, 1.0), loc='best', borderaxespad=0)\n",
    "# plt.subplots_adjust(right=0.83)\n",
    "# plt.savefig(f'gen.png')"
   ]
  },
  {
   "cell_type": "code",
   "execution_count": 19,
   "metadata": {
    "scrolled": false
   },
   "outputs": [
    {
     "data": {
      "image/png": "[encoded data removed]",
      "text/plain": [
       "<Figure size 648x360 with 1 Axes>"
      ]
     },
     "metadata": {},
     "output_type": "display_data"
    }
   ],
   "source": [
    "plt.figure()\n",
    "psnr_to_plot[psnr_str] = psnr_to_plot[psnr_str].astype(float)\n",
    "lplot = sns.lineplot(\n",
    "    x=noise_std_str, \n",
    "    y=psnr_str, \n",
    "    hue=model_family_str,\n",
    "    data=psnr_to_plot,\n",
    "    palette=family_model_to_color,\n",
    ")\n",
    "# lplot.errorbar(\n",
    "#     x=noise_std_str, \n",
    "#     y=psnr_str,\n",
    "#     yerr='psnr-std-dev',\n",
    "#     fmt='none',\n",
    "#     ecolor=[family_model_to_color[mf] for mf in psnr_to_plot[model_family_str]],\n",
    "#     data=psnr_to_plot,\n",
    "#     alpha=0.3,\n",
    "#     label=None,\n",
    "# )\n",
    "plt.legend(bbox_to_anchor=(1.0, 1.0), loc='best', borderaxespad=0)\n",
    "plt.subplots_adjust(right=0.83)\n",
    "plt.savefig(f'gen_wo_error_bars.png')"
   ]
  },
  {
   "cell_type": "code",
   "execution_count": null,
   "metadata": {},
   "outputs": [],
   "source": []
  }
 ],
 "metadata": {
  "kernelspec": {
   "display_name": "Python 3",
   "language": "python",
   "name": "python3"
  },
  "language_info": {
   "codemirror_mode": {
    "name": "ipython",
    "version": 3
   },
   "file_extension": ".py",
   "mimetype": "text/x-python",
   "name": "python",
   "nbconvert_exporter": "python",
   "pygments_lexer": "ipython3",
   "version": "3.6.8"
  },
  "notify_time": "30"
 },
 "nbformat": 4,
 "nbformat_minor": 2
}
