{
 "cells": [
  {
   "cell_type": "code",
   "execution_count": 1,
   "metadata": {},
   "outputs": [
    {
     "name": "stdout",
     "output_type": "stream",
     "text": [
      "/volatile/home/Zaccharie/workspace/understanding-unets\n"
     ]
    }
   ],
   "source": [
    "%cd ../.."
   ]
  },
  {
   "cell_type": "code",
   "execution_count": 2,
   "metadata": {},
   "outputs": [],
   "source": [
    "# this just to make sure we are using only on CPU\n",
    "import os\n",
    "os.environ[\"CUDA_VISIBLE_DEVICES\"]=\"-1\""
   ]
  },
  {
   "cell_type": "code",
   "execution_count": 3,
   "metadata": {},
   "outputs": [
    {
     "name": "stdout",
     "output_type": "stream",
     "text": [
      "\n",
      "                 .|'''|       /.\\      '||'''|,\n",
      "                 ||          // \\\\      ||   ||\n",
      "'||''|, '||  ||` `|'''|,    //...\\\\     ||...|'\n",
      " ||  ||  `|..||   .   ||   //     \\\\    ||\n",
      " ||..|'      ||   |...|' .//       \\\\. .||\n",
      " ||       ,  |'\n",
      ".||        ''\n",
      "\n",
      "Package version: 0.0.3\n",
      "\n",
      "License: CeCILL-B\n",
      "\n",
      "Authors: \n",
      "\n",
      "Antoine Grigis <antoine.grigis@cea.fr>\n",
      "Samuel Farrens <samuel.farrens@cea.fr>\n",
      "Jean-Luc Starck <jl.stark@cea.fr>\n",
      "Philippe Ciuciu <philippe.ciuciu@cea.fr>\n",
      "\n",
      "Dependencies: \n",
      "\n",
      "scipy          : >=1.3.0   - required | 1.4.1     installed\n",
      "numpy          : >=1.16.4  - required | 1.17.4    installed\n",
      "matplotlib     : >=3.0.0   - required | 3.1.2     installed\n",
      "astropy        : >=3.0.0   - required | 3.2.3     installed\n",
      "nibabel        : >=2.3.2   - required | 2.5.1     installed\n",
      "pyqtgraph      : >=0.10.0  - required | 0.10.0    installed\n",
      "progressbar2   : >=3.34.3  - required | ?         installed\n",
      "modopt         : >=1.4.0   - required | 1.4.1     installed\n",
      "scikit-learn   : >=0.19.1  - required | ?         installed\n",
      "pywt           : >=1.0.0   - required | 1.1.1     installed\n",
      "pysparse       : >=0.0.1   - required | 0.1.0     installed\n",
      "\n"
     ]
    }
   ],
   "source": [
    "%load_ext autoreload\n",
    "%autoreload 2\n",
    "import copy\n",
    "import time\n",
    "\n",
    "import numpy as np\n",
    "import pandas as pd\n",
    "from tqdm import tqdm_notebook\n",
    "\n",
    "from learning_wavelets.data.datasets import im_dataset_bsd68\n",
    "from learning_wavelets.models.learned_wavelet import learnlet\n",
    "from learning_wavelets.models.unet import unet\n",
    "from learning_wavelets.utils.metrics import metrics_from_ds, metrics_original_from_ds, n_params_from_params"
   ]
  },
  {
   "cell_type": "code",
   "execution_count": 4,
   "metadata": {},
   "outputs": [],
   "source": [
    "np.random.seed(0)"
   ]
  },
  {
   "cell_type": "code",
   "execution_count": 5,
   "metadata": {},
   "outputs": [],
   "source": [
    "def from_run_id_to_n_filters_learnlets(run_id):\n",
    "    if '_128_' in run_id:\n",
    "        return 128\n",
    "    elif '_64_' in run_id:\n",
    "        return 64\n",
    "    elif '_32_' in run_id:\n",
    "        return 32\n",
    "    elif '_16_' in run_id:\n",
    "        return 16\n",
    "    else:\n",
    "        return 256\n",
    "    \n",
    "def from_run_id_to_n_filters_unets(run_id):\n",
    "    if '_4_' in run_id:\n",
    "        return 4\n",
    "    elif '_8_' in run_id:\n",
    "        return 8\n",
    "    elif '_32_' in run_id:\n",
    "        return 32\n",
    "    elif '_16_' in run_id:\n",
    "        return 16\n",
    "    else:\n",
    "        return 64"
   ]
  },
  {
   "cell_type": "code",
   "execution_count": 6,
   "metadata": {
    "code_folding": []
   },
   "outputs": [],
   "source": [
    "unet_run_ids = [\n",
    "#     'unet_dynamic_st_bsd500_0_55_1576668365',  # 64 base filters, 1st seed\n",
    "    'unet_64_dynamic_st_bsd500_0.0_55.0_None_1582124277',  # 2nd seed\n",
    "    'unet_16_dynamic_st_bsd500_0.0_55.0_None_1581751880',\n",
    "#     'unet_32_dynamic_st_bsd500_0.0_55.0_None_1581751880',  # 1st seed\n",
    "    'unet_32_dynamic_st_bsd500_0.0_55.0_None_1582124277',  # 2nd seed\n",
    "    'unet_4_dynamic_st_bsd500_0.0_55.0_None_1581751880',\n",
    "    'unet_8_dynamic_st_bsd500_0.0_55.0_None_1581751880',\n",
    "    \n",
    "]\n",
    "\n",
    "def unet_params(run_id):\n",
    "    base_n_filters = from_run_id_to_n_filters_unets(run_id)\n",
    "    unet_params_complete = {\n",
    "        'name': run_id,\n",
    "        'init_function': unet,\n",
    "        'run_params': {\n",
    "            'n_layers': 5, \n",
    "            'pool': 'max', \n",
    "            \"layers_n_channels\": [base_n_filters * 2**i for i in range(5)], \n",
    "            'layers_n_non_lins': 2,\n",
    "            'non_relu_contract': False,\n",
    "            'bn': True,\n",
    "            'input_size': (None, None, 1),\n",
    "        },\n",
    "        'run_id': run_id,\n",
    "        'epoch': 500,\n",
    "    }\n",
    "    return unet_params_complete\n",
    "\n",
    "all_net_params = [\n",
    "    unet_params(run_id) for run_id in unet_run_ids\n",
    "]\n",
    "\n",
    "def learnlet_params(run_id):\n",
    "    learnlet_params_complete = {\n",
    "        'name': run_id,\n",
    "        'init_function': learnlet,\n",
    "        'run_params': {\n",
    "            'denoising_activation': 'dynamic_soft_thresholding',\n",
    "            'learnlet_analysis_kwargs':{\n",
    "                'n_tiling': from_run_id_to_n_filters_learnlets(run_id), \n",
    "                'mixing_details': False,  \n",
    "                'kernel_size': 11,\n",
    "                'skip_connection': True,\n",
    "            },\n",
    "            'learnlet_synthesis_kwargs': {\n",
    "                'res': True,\n",
    "                'kernel_size': 13,\n",
    "            },\n",
    "            'n_scales': 5,\n",
    "            'exact_reconstruction_weight': 0,\n",
    "            'clip': True,\n",
    "            'input_size': (None, None, 1),     \n",
    "        },\n",
    "        'run_id': run_id,\n",
    "        'epoch': 500,\n",
    "    }\n",
    "    return learnlet_params_complete\n",
    "\n",
    "learnlet_run_ids = [\n",
    "    'learnlet_dynamic_st_bsd500_0_55_1580806694', # 256 filters\n",
    "    'learnlet_dynamic_128_dynamic_soft_thresholding_bsd500_0.0_55.0_None_1581559967',\n",
    "    'learnlet_dynamic_16_dynamic_soft_thresholding_bsd500_0.0_55.0_None_1581559967',\n",
    "    'learnlet_dynamic_32_dynamic_soft_thresholding_bsd500_0.0_55.0_None_1581559967',\n",
    "    'learnlet_dynamic_64_dynamic_soft_thresholding_bsd500_0.0_55.0_None_1581559967',\n",
    "]\n",
    "dynamic_denoising_net_params = [\n",
    "    learnlet_params(run_id) for run_id in learnlet_run_ids\n",
    "]"
   ]
  },
  {
   "cell_type": "code",
   "execution_count": 7,
   "metadata": {},
   "outputs": [],
   "source": [
    "noise_stds = [0.0001, 5, 15, 20, 25, 30, 50, 55, 60, 75]\n",
    "# noise_stds = [15, 20, 30]\n",
    "# noise_stds = [0.0001]"
   ]
  },
  {
   "cell_type": "code",
   "execution_count": 8,
   "metadata": {
    "code_folding": [],
    "scrolled": true
   },
   "outputs": [
    {
     "name": "stderr",
     "output_type": "stream",
     "text": [
      "/volatile/home/Zaccharie/workspace/understanding-unets/venv/lib/python3.6/site-packages/ipykernel_launcher.py:3: TqdmDeprecationWarning: This function will be removed in tqdm==5.0.0\n",
      "Please use `tqdm.notebook.tqdm` instead of `tqdm.tqdm_notebook`\n",
      "  This is separate from the ipykernel package so we can avoid doing imports until\n"
     ]
    },
    {
     "data": {
      "application/vnd.jupyter.widget-view+json": {
       "model_id": "8a24cc3d954b40e0a75ae18b26a89185",
       "version_major": 2,
       "version_minor": 0
      },
      "text/plain": [
       "HBox(children=(FloatProgress(value=0.0, description='Noise stds', max=8.0, style=ProgressStyle(description_wid…"
      ]
     },
     "metadata": {},
     "output_type": "display_data"
    },
    {
     "data": {
      "application/vnd.jupyter.widget-view+json": {
       "model_id": "c52175fe7c17493490a728db0d30fd67",
       "version_major": 2,
       "version_minor": 0
      },
      "text/plain": [
       "HBox(children=(FloatProgress(value=1.0, bar_style='info', max=1.0), HTML(value='')))"
      ]
     },
     "metadata": {},
     "output_type": "display_data"
    },
    {
     "name": "stdout",
     "output_type": "stream",
     "text": [
      "\n"
     ]
    },
    {
     "data": {
      "application/vnd.jupyter.widget-view+json": {
       "model_id": "ffb60af28dcd460599c37a5c2bcd8fdc",
       "version_major": 2,
       "version_minor": 0
      },
      "text/plain": [
       "HBox(children=(FloatProgress(value=0.0, description='Stats for unet_64_dynamic_st_bsd500_0.0_55.0_None_1582124…"
      ]
     },
     "metadata": {},
     "output_type": "display_data"
    },
    {
     "name": "stderr",
     "output_type": "stream",
     "text": [
      "/volatile/home/Zaccharie/workspace/understanding-unets/learning_wavelets/evaluate.py:34: UserWarning: DEPRECATED: skimage.measure.compare_psnr has been moved to skimage.metrics.peak_signal_noise_ratio. It will be removed from skimage.measure in version 0.18.\n",
      "  return compare_psnr(gt, pred, data_range=1)\n",
      "/volatile/home/Zaccharie/workspace/understanding-unets/learning_wavelets/evaluate.py:43: UserWarning: DEPRECATED: skimage.measure.compare_ssim has been moved to skimage.metrics.structural_similarity. It will be removed from skimage.measure in version 0.18.\n",
      "  gt, pred, multichannel=True, data_range=1\n"
     ]
    },
    {
     "name": "stdout",
     "output_type": "stream",
     "text": [
      "\n"
     ]
    },
    {
     "data": {
      "application/vnd.jupyter.widget-view+json": {
       "model_id": "619693065df846ebabebaab0c0f6bae4",
       "version_major": 2,
       "version_minor": 0
      },
      "text/plain": [
       "HBox(children=(FloatProgress(value=1.0, bar_style='info', max=1.0), HTML(value='')))"
      ]
     },
     "metadata": {},
     "output_type": "display_data"
    },
    {
     "name": "stdout",
     "output_type": "stream",
     "text": [
      "\n"
     ]
    },
    {
     "data": {
      "application/vnd.jupyter.widget-view+json": {
       "model_id": "4c7ebea1c5c54ae0a9dd70404a3c7536",
       "version_major": 2,
       "version_minor": 0
      },
      "text/plain": [
       "HBox(children=(FloatProgress(value=0.0, description='Stats for unet_16_dynamic_st_bsd500_0.0_55.0_None_1581751…"
      ]
     },
     "metadata": {},
     "output_type": "display_data"
    },
    {
     "name": "stdout",
     "output_type": "stream",
     "text": [
      "\n"
     ]
    },
    {
     "data": {
      "application/vnd.jupyter.widget-view+json": {
       "model_id": "089951d8cf1742b8be722cbe0259b4fd",
       "version_major": 2,
       "version_minor": 0
      },
      "text/plain": [
       "HBox(children=(FloatProgress(value=1.0, bar_style='info', max=1.0), HTML(value='')))"
      ]
     },
     "metadata": {},
     "output_type": "display_data"
    },
    {
     "name": "stdout",
     "output_type": "stream",
     "text": [
      "\n"
     ]
    },
    {
     "data": {
      "application/vnd.jupyter.widget-view+json": {
       "model_id": "76bd8414aab649b9a13f1dc04c183a94",
       "version_major": 2,
       "version_minor": 0
      },
      "text/plain": [
       "HBox(children=(FloatProgress(value=0.0, description='Stats for unet_32_dynamic_st_bsd500_0.0_55.0_None_1582124…"
      ]
     },
     "metadata": {},
     "output_type": "display_data"
    },
    {
     "name": "stdout",
     "output_type": "stream",
     "text": [
      "\n"
     ]
    },
    {
     "data": {
      "application/vnd.jupyter.widget-view+json": {
       "model_id": "933c3edfa2504edd8ed45ecd002149e0",
       "version_major": 2,
       "version_minor": 0
      },
      "text/plain": [
       "HBox(children=(FloatProgress(value=1.0, bar_style='info', max=1.0), HTML(value='')))"
      ]
     },
     "metadata": {},
     "output_type": "display_data"
    },
    {
     "name": "stdout",
     "output_type": "stream",
     "text": [
      "\n"
     ]
    },
    {
     "data": {
      "application/vnd.jupyter.widget-view+json": {
       "model_id": "b774f94b99844cb5821f73cb56b079f5",
       "version_major": 2,
       "version_minor": 0
      },
      "text/plain": [
       "HBox(children=(FloatProgress(value=0.0, description='Stats for unet_4_dynamic_st_bsd500_0.0_55.0_None_15817518…"
      ]
     },
     "metadata": {},
     "output_type": "display_data"
    },
    {
     "name": "stdout",
     "output_type": "stream",
     "text": [
      "\n"
     ]
    },
    {
     "data": {
      "application/vnd.jupyter.widget-view+json": {
       "model_id": "32298a13da60419197921650507185b9",
       "version_major": 2,
       "version_minor": 0
      },
      "text/plain": [
       "HBox(children=(FloatProgress(value=1.0, bar_style='info', max=1.0), HTML(value='')))"
      ]
     },
     "metadata": {},
     "output_type": "display_data"
    },
    {
     "name": "stdout",
     "output_type": "stream",
     "text": [
      "\n"
     ]
    },
    {
     "data": {
      "application/vnd.jupyter.widget-view+json": {
       "model_id": "56b6678b439f48b1928cea7d5477d930",
       "version_major": 2,
       "version_minor": 0
      },
      "text/plain": [
       "HBox(children=(FloatProgress(value=0.0, description='Stats for unet_8_dynamic_st_bsd500_0.0_55.0_None_15817518…"
      ]
     },
     "metadata": {},
     "output_type": "display_data"
    },
    {
     "name": "stdout",
     "output_type": "stream",
     "text": [
      "\n"
     ]
    },
    {
     "data": {
      "application/vnd.jupyter.widget-view+json": {
       "model_id": "e5cefe9cc5544a93acc97457417faaf9",
       "version_major": 2,
       "version_minor": 0
      },
      "text/plain": [
       "HBox(children=(FloatProgress(value=1.0, bar_style='info', max=1.0), HTML(value='')))"
      ]
     },
     "metadata": {},
     "output_type": "display_data"
    },
    {
     "name": "stdout",
     "output_type": "stream",
     "text": [
      "\n"
     ]
    },
    {
     "data": {
      "application/vnd.jupyter.widget-view+json": {
       "model_id": "404a4daa7ab744b7a222f9ede30b5691",
       "version_major": 2,
       "version_minor": 0
      },
      "text/plain": [
       "HBox(children=(FloatProgress(value=0.0, description='Stats for original noisy images', max=68.0, style=Progres…"
      ]
     },
     "metadata": {},
     "output_type": "display_data"
    },
    {
     "name": "stdout",
     "output_type": "stream",
     "text": [
      "\n"
     ]
    },
    {
     "data": {
      "application/vnd.jupyter.widget-view+json": {
       "model_id": "699f646601f14caba038d3254a4382cd",
       "version_major": 2,
       "version_minor": 0
      },
      "text/plain": [
       "HBox(children=(FloatProgress(value=1.0, bar_style='info', max=1.0), HTML(value='')))"
      ]
     },
     "metadata": {},
     "output_type": "display_data"
    },
    {
     "name": "stdout",
     "output_type": "stream",
     "text": [
      "\n"
     ]
    },
    {
     "data": {
      "application/vnd.jupyter.widget-view+json": {
       "model_id": "d1202769ffd940b8ae9dbf8d1ad124c9",
       "version_major": 2,
       "version_minor": 0
      },
      "text/plain": [
       "HBox(children=(FloatProgress(value=0.0, description='Stats for learnlet_dynamic_st_bsd500_0_55_1580806694', ma…"
      ]
     },
     "metadata": {},
     "output_type": "display_data"
    },
    {
     "name": "stdout",
     "output_type": "stream",
     "text": [
      "\n"
     ]
    },
    {
     "data": {
      "application/vnd.jupyter.widget-view+json": {
       "model_id": "218f3b53fc57423097577eb9d238456e",
       "version_major": 2,
       "version_minor": 0
      },
      "text/plain": [
       "HBox(children=(FloatProgress(value=1.0, bar_style='info', max=1.0), HTML(value='')))"
      ]
     },
     "metadata": {},
     "output_type": "display_data"
    },
    {
     "name": "stdout",
     "output_type": "stream",
     "text": [
      "\n"
     ]
    },
    {
     "data": {
      "application/vnd.jupyter.widget-view+json": {
       "model_id": "a7bdeca96938486f8f49109b4d74b8f6",
       "version_major": 2,
       "version_minor": 0
      },
      "text/plain": [
       "HBox(children=(FloatProgress(value=0.0, description='Stats for learnlet_dynamic_128_dynamic_soft_thresholding_…"
      ]
     },
     "metadata": {},
     "output_type": "display_data"
    },
    {
     "name": "stdout",
     "output_type": "stream",
     "text": [
      "\n"
     ]
    },
    {
     "data": {
      "application/vnd.jupyter.widget-view+json": {
       "model_id": "9c9449e094e14851aead335f2184956a",
       "version_major": 2,
       "version_minor": 0
      },
      "text/plain": [
       "HBox(children=(FloatProgress(value=1.0, bar_style='info', max=1.0), HTML(value='')))"
      ]
     },
     "metadata": {},
     "output_type": "display_data"
    },
    {
     "name": "stdout",
     "output_type": "stream",
     "text": [
      "\n"
     ]
    },
    {
     "data": {
      "application/vnd.jupyter.widget-view+json": {
       "model_id": "cd45336d860247058a81c6635da60334",
       "version_major": 2,
       "version_minor": 0
      },
      "text/plain": [
       "HBox(children=(FloatProgress(value=0.0, description='Stats for learnlet_dynamic_16_dynamic_soft_thresholding_b…"
      ]
     },
     "metadata": {},
     "output_type": "display_data"
    },
    {
     "name": "stdout",
     "output_type": "stream",
     "text": [
      "\n"
     ]
    },
    {
     "data": {
      "application/vnd.jupyter.widget-view+json": {
       "model_id": "4c32c536804d4db1b1351dbd0b19d7bf",
       "version_major": 2,
       "version_minor": 0
      },
      "text/plain": [
       "HBox(children=(FloatProgress(value=1.0, bar_style='info', max=1.0), HTML(value='')))"
      ]
     },
     "metadata": {},
     "output_type": "display_data"
    },
    {
     "name": "stdout",
     "output_type": "stream",
     "text": [
      "\n"
     ]
    },
    {
     "data": {
      "application/vnd.jupyter.widget-view+json": {
       "model_id": "1385141b9b3948c484d73766875c2b1a",
       "version_major": 2,
       "version_minor": 0
      },
      "text/plain": [
       "HBox(children=(FloatProgress(value=0.0, description='Stats for learnlet_dynamic_32_dynamic_soft_thresholding_b…"
      ]
     },
     "metadata": {},
     "output_type": "display_data"
    },
    {
     "name": "stdout",
     "output_type": "stream",
     "text": [
      "\n"
     ]
    },
    {
     "data": {
      "application/vnd.jupyter.widget-view+json": {
       "model_id": "123e33d6d2e34cab97ca4934ec13c545",
       "version_major": 2,
       "version_minor": 0
      },
      "text/plain": [
       "HBox(children=(FloatProgress(value=1.0, bar_style='info', max=1.0), HTML(value='')))"
      ]
     },
     "metadata": {},
     "output_type": "display_data"
    },
    {
     "name": "stdout",
     "output_type": "stream",
     "text": [
      "\n"
     ]
    },
    {
     "data": {
      "application/vnd.jupyter.widget-view+json": {
       "model_id": "1f2f084fecba4b19889f8a1b6637eaa7",
       "version_major": 2,
       "version_minor": 0
      },
      "text/plain": [
       "HBox(children=(FloatProgress(value=0.0, description='Stats for learnlet_dynamic_64_dynamic_soft_thresholding_b…"
      ]
     },
     "metadata": {},
     "output_type": "display_data"
    },
    {
     "name": "stdout",
     "output_type": "stream",
     "text": [
      "\n"
     ]
    },
    {
     "data": {
      "application/vnd.jupyter.widget-view+json": {
       "model_id": "cb9411328b54411abb4c1d75b7762a95",
       "version_major": 2,
       "version_minor": 0
      },
      "text/plain": [
       "HBox(children=(FloatProgress(value=1.0, bar_style='info', max=1.0), HTML(value='')))"
      ]
     },
     "metadata": {},
     "output_type": "display_data"
    },
    {
     "name": "stdout",
     "output_type": "stream",
     "text": [
      "\n"
     ]
    },
    {
     "data": {
      "application/vnd.jupyter.widget-view+json": {
       "model_id": "420b6a823de04cc8b5f0e7c23e6544c6",
       "version_major": 2,
       "version_minor": 0
      },
      "text/plain": [
       "HBox(children=(FloatProgress(value=0.0, description='Stats for unet_64_dynamic_st_bsd500_0.0_55.0_None_1582124…"
      ]
     },
     "metadata": {},
     "output_type": "display_data"
    },
    {
     "name": "stdout",
     "output_type": "stream",
     "text": [
      "\n"
     ]
    },
    {
     "data": {
      "application/vnd.jupyter.widget-view+json": {
       "model_id": "0713d6ee218745d6b45a5f4c5ac464da",
       "version_major": 2,
       "version_minor": 0
      },
      "text/plain": [
       "HBox(children=(FloatProgress(value=1.0, bar_style='info', max=1.0), HTML(value='')))"
      ]
     },
     "metadata": {},
     "output_type": "display_data"
    },
    {
     "name": "stdout",
     "output_type": "stream",
     "text": [
      "\n"
     ]
    },
    {
     "data": {
      "application/vnd.jupyter.widget-view+json": {
       "model_id": "0ca60a35f27f4b4a8ba897e24aa62f7f",
       "version_major": 2,
       "version_minor": 0
      },
      "text/plain": [
       "HBox(children=(FloatProgress(value=0.0, description='Stats for unet_16_dynamic_st_bsd500_0.0_55.0_None_1581751…"
      ]
     },
     "metadata": {},
     "output_type": "display_data"
    },
    {
     "name": "stdout",
     "output_type": "stream",
     "text": [
      "\n"
     ]
    },
    {
     "data": {
      "application/vnd.jupyter.widget-view+json": {
       "model_id": "630793a26fea4ac290baae7caf5ddc9f",
       "version_major": 2,
       "version_minor": 0
      },
      "text/plain": [
       "HBox(children=(FloatProgress(value=1.0, bar_style='info', max=1.0), HTML(value='')))"
      ]
     },
     "metadata": {},
     "output_type": "display_data"
    },
    {
     "name": "stdout",
     "output_type": "stream",
     "text": [
      "\n"
     ]
    },
    {
     "data": {
      "application/vnd.jupyter.widget-view+json": {
       "model_id": "8bc43e4067984fdd928cdbf92dc403e8",
       "version_major": 2,
       "version_minor": 0
      },
      "text/plain": [
       "HBox(children=(FloatProgress(value=0.0, description='Stats for unet_32_dynamic_st_bsd500_0.0_55.0_None_1582124…"
      ]
     },
     "metadata": {},
     "output_type": "display_data"
    },
    {
     "name": "stdout",
     "output_type": "stream",
     "text": [
      "\n"
     ]
    },
    {
     "data": {
      "application/vnd.jupyter.widget-view+json": {
       "model_id": "e156b67a90d24ca19fd8d0f313772efe",
       "version_major": 2,
       "version_minor": 0
      },
      "text/plain": [
       "HBox(children=(FloatProgress(value=1.0, bar_style='info', max=1.0), HTML(value='')))"
      ]
     },
     "metadata": {},
     "output_type": "display_data"
    },
    {
     "name": "stdout",
     "output_type": "stream",
     "text": [
      "\n"
     ]
    },
    {
     "data": {
      "application/vnd.jupyter.widget-view+json": {
       "model_id": "e04edf1525a84ed7ada6b5e0efada57d",
       "version_major": 2,
       "version_minor": 0
      },
      "text/plain": [
       "HBox(children=(FloatProgress(value=0.0, description='Stats for unet_4_dynamic_st_bsd500_0.0_55.0_None_15817518…"
      ]
     },
     "metadata": {},
     "output_type": "display_data"
    },
    {
     "name": "stdout",
     "output_type": "stream",
     "text": [
      "\n"
     ]
    },
    {
     "data": {
      "application/vnd.jupyter.widget-view+json": {
       "model_id": "a6fa6d44fad3455db0e28ce774fe858a",
       "version_major": 2,
       "version_minor": 0
      },
      "text/plain": [
       "HBox(children=(FloatProgress(value=1.0, bar_style='info', max=1.0), HTML(value='')))"
      ]
     },
     "metadata": {},
     "output_type": "display_data"
    },
    {
     "name": "stdout",
     "output_type": "stream",
     "text": [
      "\n"
     ]
    },
    {
     "data": {
      "application/vnd.jupyter.widget-view+json": {
       "model_id": "3f76768dc806483cbf10c177df86ebd2",
       "version_major": 2,
       "version_minor": 0
      },
      "text/plain": [
       "HBox(children=(FloatProgress(value=0.0, description='Stats for unet_8_dynamic_st_bsd500_0.0_55.0_None_15817518…"
      ]
     },
     "metadata": {},
     "output_type": "display_data"
    },
    {
     "name": "stdout",
     "output_type": "stream",
     "text": [
      "\n"
     ]
    },
    {
     "data": {
      "application/vnd.jupyter.widget-view+json": {
       "model_id": "437b9daf468c41778a0dcf131d461daa",
       "version_major": 2,
       "version_minor": 0
      },
      "text/plain": [
       "HBox(children=(FloatProgress(value=1.0, bar_style='info', max=1.0), HTML(value='')))"
      ]
     },
     "metadata": {},
     "output_type": "display_data"
    },
    {
     "name": "stdout",
     "output_type": "stream",
     "text": [
      "\n"
     ]
    },
    {
     "data": {
      "application/vnd.jupyter.widget-view+json": {
       "model_id": "69013a458e51418ea9328963506ed65f",
       "version_major": 2,
       "version_minor": 0
      },
      "text/plain": [
       "HBox(children=(FloatProgress(value=0.0, description='Stats for original noisy images', max=68.0, style=Progres…"
      ]
     },
     "metadata": {},
     "output_type": "display_data"
    },
    {
     "name": "stdout",
     "output_type": "stream",
     "text": [
      "\n"
     ]
    },
    {
     "data": {
      "application/vnd.jupyter.widget-view+json": {
       "model_id": "4ca81f69f66c4fcc9163d40b23531944",
       "version_major": 2,
       "version_minor": 0
      },
      "text/plain": [
       "HBox(children=(FloatProgress(value=1.0, bar_style='info', max=1.0), HTML(value='')))"
      ]
     },
     "metadata": {},
     "output_type": "display_data"
    },
    {
     "name": "stdout",
     "output_type": "stream",
     "text": [
      "\n"
     ]
    },
    {
     "data": {
      "application/vnd.jupyter.widget-view+json": {
       "model_id": "7785421a34cb4ab19330d3a460dedcfa",
       "version_major": 2,
       "version_minor": 0
      },
      "text/plain": [
       "HBox(children=(FloatProgress(value=0.0, description='Stats for learnlet_dynamic_st_bsd500_0_55_1580806694', ma…"
      ]
     },
     "metadata": {},
     "output_type": "display_data"
    },
    {
     "name": "stdout",
     "output_type": "stream",
     "text": [
      "\n"
     ]
    },
    {
     "data": {
      "application/vnd.jupyter.widget-view+json": {
       "model_id": "a4f59d8600214e5db2b96babb21fac57",
       "version_major": 2,
       "version_minor": 0
      },
      "text/plain": [
       "HBox(children=(FloatProgress(value=1.0, bar_style='info', max=1.0), HTML(value='')))"
      ]
     },
     "metadata": {},
     "output_type": "display_data"
    },
    {
     "name": "stdout",
     "output_type": "stream",
     "text": [
      "\n"
     ]
    },
    {
     "data": {
      "application/vnd.jupyter.widget-view+json": {
       "model_id": "a4bd7833780742e88cd77385beb83623",
       "version_major": 2,
       "version_minor": 0
      },
      "text/plain": [
       "HBox(children=(FloatProgress(value=0.0, description='Stats for learnlet_dynamic_128_dynamic_soft_thresholding_…"
      ]
     },
     "metadata": {},
     "output_type": "display_data"
    },
    {
     "name": "stdout",
     "output_type": "stream",
     "text": [
      "\n"
     ]
    },
    {
     "data": {
      "application/vnd.jupyter.widget-view+json": {
       "model_id": "998712457a4d4a3a926346de834287df",
       "version_major": 2,
       "version_minor": 0
      },
      "text/plain": [
       "HBox(children=(FloatProgress(value=1.0, bar_style='info', max=1.0), HTML(value='')))"
      ]
     },
     "metadata": {},
     "output_type": "display_data"
    },
    {
     "name": "stdout",
     "output_type": "stream",
     "text": [
      "\n"
     ]
    },
    {
     "data": {
      "application/vnd.jupyter.widget-view+json": {
       "model_id": "af6cea6031c74cd8ab4bf3d7f5c051f0",
       "version_major": 2,
       "version_minor": 0
      },
      "text/plain": [
       "HBox(children=(FloatProgress(value=0.0, description='Stats for learnlet_dynamic_16_dynamic_soft_thresholding_b…"
      ]
     },
     "metadata": {},
     "output_type": "display_data"
    },
    {
     "name": "stdout",
     "output_type": "stream",
     "text": [
      "\n"
     ]
    },
    {
     "data": {
      "application/vnd.jupyter.widget-view+json": {
       "model_id": "552c1fde54284d6f866eb7e6aac1e996",
       "version_major": 2,
       "version_minor": 0
      },
      "text/plain": [
       "HBox(children=(FloatProgress(value=1.0, bar_style='info', max=1.0), HTML(value='')))"
      ]
     },
     "metadata": {},
     "output_type": "display_data"
    },
    {
     "name": "stdout",
     "output_type": "stream",
     "text": [
      "\n"
     ]
    },
    {
     "data": {
      "application/vnd.jupyter.widget-view+json": {
       "model_id": "4fdc4f470ab440009849c4aa107f85ad",
       "version_major": 2,
       "version_minor": 0
      },
      "text/plain": [
       "HBox(children=(FloatProgress(value=0.0, description='Stats for learnlet_dynamic_32_dynamic_soft_thresholding_b…"
      ]
     },
     "metadata": {},
     "output_type": "display_data"
    },
    {
     "name": "stdout",
     "output_type": "stream",
     "text": [
      "\n"
     ]
    },
    {
     "data": {
      "application/vnd.jupyter.widget-view+json": {
       "model_id": "852717223b7f4c718f7962f1bbd57edb",
       "version_major": 2,
       "version_minor": 0
      },
      "text/plain": [
       "HBox(children=(FloatProgress(value=1.0, bar_style='info', max=1.0), HTML(value='')))"
      ]
     },
     "metadata": {},
     "output_type": "display_data"
    },
    {
     "name": "stdout",
     "output_type": "stream",
     "text": [
      "\n"
     ]
    },
    {
     "data": {
      "application/vnd.jupyter.widget-view+json": {
       "model_id": "1243903eb8d94faeaa7bc1ecfbe5a137",
       "version_major": 2,
       "version_minor": 0
      },
      "text/plain": [
       "HBox(children=(FloatProgress(value=0.0, description='Stats for learnlet_dynamic_64_dynamic_soft_thresholding_b…"
      ]
     },
     "metadata": {},
     "output_type": "display_data"
    },
    {
     "name": "stdout",
     "output_type": "stream",
     "text": [
      "\n"
     ]
    },
    {
     "data": {
      "application/vnd.jupyter.widget-view+json": {
       "model_id": "85a6b14a1e684926a8c3738ab846f3f7",
       "version_major": 2,
       "version_minor": 0
      },
      "text/plain": [
       "HBox(children=(FloatProgress(value=1.0, bar_style='info', max=1.0), HTML(value='')))"
      ]
     },
     "metadata": {},
     "output_type": "display_data"
    },
    {
     "name": "stdout",
     "output_type": "stream",
     "text": [
      "\n"
     ]
    },
    {
     "data": {
      "application/vnd.jupyter.widget-view+json": {
       "model_id": "b7991670c3034baaa879ad05ee82f408",
       "version_major": 2,
       "version_minor": 0
      },
      "text/plain": [
       "HBox(children=(FloatProgress(value=0.0, description='Stats for unet_64_dynamic_st_bsd500_0.0_55.0_None_1582124…"
      ]
     },
     "metadata": {},
     "output_type": "display_data"
    },
    {
     "name": "stdout",
     "output_type": "stream",
     "text": [
      "\n"
     ]
    },
    {
     "data": {
      "application/vnd.jupyter.widget-view+json": {
       "model_id": "7e8869dc2b384c68b1c56095927d4059",
       "version_major": 2,
       "version_minor": 0
      },
      "text/plain": [
       "HBox(children=(FloatProgress(value=1.0, bar_style='info', max=1.0), HTML(value='')))"
      ]
     },
     "metadata": {},
     "output_type": "display_data"
    },
    {
     "name": "stdout",
     "output_type": "stream",
     "text": [
      "\n"
     ]
    },
    {
     "data": {
      "application/vnd.jupyter.widget-view+json": {
       "model_id": "67186990edd24d31bc2de56aa3689612",
       "version_major": 2,
       "version_minor": 0
      },
      "text/plain": [
       "HBox(children=(FloatProgress(value=0.0, description='Stats for unet_16_dynamic_st_bsd500_0.0_55.0_None_1581751…"
      ]
     },
     "metadata": {},
     "output_type": "display_data"
    },
    {
     "name": "stdout",
     "output_type": "stream",
     "text": [
      "\n"
     ]
    },
    {
     "data": {
      "application/vnd.jupyter.widget-view+json": {
       "model_id": "0882918f096b402eacfd7d2493673f6a",
       "version_major": 2,
       "version_minor": 0
      },
      "text/plain": [
       "HBox(children=(FloatProgress(value=1.0, bar_style='info', max=1.0), HTML(value='')))"
      ]
     },
     "metadata": {},
     "output_type": "display_data"
    },
    {
     "name": "stdout",
     "output_type": "stream",
     "text": [
      "\n"
     ]
    },
    {
     "data": {
      "application/vnd.jupyter.widget-view+json": {
       "model_id": "a92f41fe30f2420b939982a2b2180812",
       "version_major": 2,
       "version_minor": 0
      },
      "text/plain": [
       "HBox(children=(FloatProgress(value=0.0, description='Stats for unet_32_dynamic_st_bsd500_0.0_55.0_None_1582124…"
      ]
     },
     "metadata": {},
     "output_type": "display_data"
    },
    {
     "name": "stdout",
     "output_type": "stream",
     "text": [
      "\n"
     ]
    },
    {
     "data": {
      "application/vnd.jupyter.widget-view+json": {
       "model_id": "abe4307ada0043f1b2c9a67f95eadf80",
       "version_major": 2,
       "version_minor": 0
      },
      "text/plain": [
       "HBox(children=(FloatProgress(value=1.0, bar_style='info', max=1.0), HTML(value='')))"
      ]
     },
     "metadata": {},
     "output_type": "display_data"
    },
    {
     "name": "stdout",
     "output_type": "stream",
     "text": [
      "\n"
     ]
    },
    {
     "data": {
      "application/vnd.jupyter.widget-view+json": {
       "model_id": "bbca5449b20c463dba8573be0ac52d8a",
       "version_major": 2,
       "version_minor": 0
      },
      "text/plain": [
       "HBox(children=(FloatProgress(value=0.0, description='Stats for unet_4_dynamic_st_bsd500_0.0_55.0_None_15817518…"
      ]
     },
     "metadata": {},
     "output_type": "display_data"
    },
    {
     "name": "stdout",
     "output_type": "stream",
     "text": [
      "\n"
     ]
    },
    {
     "data": {
      "application/vnd.jupyter.widget-view+json": {
       "model_id": "45a4a48014404dcaa21b40fffcb483a5",
       "version_major": 2,
       "version_minor": 0
      },
      "text/plain": [
       "HBox(children=(FloatProgress(value=1.0, bar_style='info', max=1.0), HTML(value='')))"
      ]
     },
     "metadata": {},
     "output_type": "display_data"
    },
    {
     "name": "stdout",
     "output_type": "stream",
     "text": [
      "\n"
     ]
    },
    {
     "data": {
      "application/vnd.jupyter.widget-view+json": {
       "model_id": "b38586f3f80c46a991ffa9610ed573b8",
       "version_major": 2,
       "version_minor": 0
      },
      "text/plain": [
       "HBox(children=(FloatProgress(value=0.0, description='Stats for unet_8_dynamic_st_bsd500_0.0_55.0_None_15817518…"
      ]
     },
     "metadata": {},
     "output_type": "display_data"
    },
    {
     "name": "stdout",
     "output_type": "stream",
     "text": [
      "\n"
     ]
    },
    {
     "data": {
      "application/vnd.jupyter.widget-view+json": {
       "model_id": "9e2399d3781a4a1f9d873b27bb5f39ca",
       "version_major": 2,
       "version_minor": 0
      },
      "text/plain": [
       "HBox(children=(FloatProgress(value=1.0, bar_style='info', max=1.0), HTML(value='')))"
      ]
     },
     "metadata": {},
     "output_type": "display_data"
    },
    {
     "name": "stdout",
     "output_type": "stream",
     "text": [
      "\n"
     ]
    },
    {
     "data": {
      "application/vnd.jupyter.widget-view+json": {
       "model_id": "5056462f372c4ef3aef8f260e695cebb",
       "version_major": 2,
       "version_minor": 0
      },
      "text/plain": [
       "HBox(children=(FloatProgress(value=0.0, description='Stats for original noisy images', max=68.0, style=Progres…"
      ]
     },
     "metadata": {},
     "output_type": "display_data"
    },
    {
     "name": "stdout",
     "output_type": "stream",
     "text": [
      "\n"
     ]
    },
    {
     "data": {
      "application/vnd.jupyter.widget-view+json": {
       "model_id": "6f6949517ce846fc9b8bb2aad01c1d5e",
       "version_major": 2,
       "version_minor": 0
      },
      "text/plain": [
       "HBox(children=(FloatProgress(value=1.0, bar_style='info', max=1.0), HTML(value='')))"
      ]
     },
     "metadata": {},
     "output_type": "display_data"
    },
    {
     "name": "stdout",
     "output_type": "stream",
     "text": [
      "\n"
     ]
    },
    {
     "data": {
      "application/vnd.jupyter.widget-view+json": {
       "model_id": "74b312fb0cb841ffb35a949ba8c46a25",
       "version_major": 2,
       "version_minor": 0
      },
      "text/plain": [
       "HBox(children=(FloatProgress(value=0.0, description='Stats for learnlet_dynamic_st_bsd500_0_55_1580806694', ma…"
      ]
     },
     "metadata": {},
     "output_type": "display_data"
    },
    {
     "name": "stdout",
     "output_type": "stream",
     "text": [
      "\n"
     ]
    },
    {
     "data": {
      "application/vnd.jupyter.widget-view+json": {
       "model_id": "71e344969d9a41e58791c5dcc2c74f0e",
       "version_major": 2,
       "version_minor": 0
      },
      "text/plain": [
       "HBox(children=(FloatProgress(value=1.0, bar_style='info', max=1.0), HTML(value='')))"
      ]
     },
     "metadata": {},
     "output_type": "display_data"
    },
    {
     "name": "stdout",
     "output_type": "stream",
     "text": [
      "\n"
     ]
    },
    {
     "data": {
      "application/vnd.jupyter.widget-view+json": {
       "model_id": "7f802f37ca7342419e43ee0b482d8626",
       "version_major": 2,
       "version_minor": 0
      },
      "text/plain": [
       "HBox(children=(FloatProgress(value=0.0, description='Stats for learnlet_dynamic_128_dynamic_soft_thresholding_…"
      ]
     },
     "metadata": {},
     "output_type": "display_data"
    },
    {
     "name": "stdout",
     "output_type": "stream",
     "text": [
      "\n"
     ]
    },
    {
     "data": {
      "application/vnd.jupyter.widget-view+json": {
       "model_id": "f4a597230dda44eb973ffb797d7428bb",
       "version_major": 2,
       "version_minor": 0
      },
      "text/plain": [
       "HBox(children=(FloatProgress(value=1.0, bar_style='info', max=1.0), HTML(value='')))"
      ]
     },
     "metadata": {},
     "output_type": "display_data"
    },
    {
     "name": "stdout",
     "output_type": "stream",
     "text": [
      "\n"
     ]
    },
    {
     "data": {
      "application/vnd.jupyter.widget-view+json": {
       "model_id": "b96ab352cc8342f999453c33a1733298",
       "version_major": 2,
       "version_minor": 0
      },
      "text/plain": [
       "HBox(children=(FloatProgress(value=0.0, description='Stats for learnlet_dynamic_16_dynamic_soft_thresholding_b…"
      ]
     },
     "metadata": {},
     "output_type": "display_data"
    },
    {
     "name": "stdout",
     "output_type": "stream",
     "text": [
      "\n"
     ]
    },
    {
     "data": {
      "application/vnd.jupyter.widget-view+json": {
       "model_id": "0a1e0612f8104f718c7e7c6e7021bb59",
       "version_major": 2,
       "version_minor": 0
      },
      "text/plain": [
       "HBox(children=(FloatProgress(value=1.0, bar_style='info', max=1.0), HTML(value='')))"
      ]
     },
     "metadata": {},
     "output_type": "display_data"
    },
    {
     "name": "stdout",
     "output_type": "stream",
     "text": [
      "\n"
     ]
    },
    {
     "data": {
      "application/vnd.jupyter.widget-view+json": {
       "model_id": "be157ee308194758a6831d457c75052e",
       "version_major": 2,
       "version_minor": 0
      },
      "text/plain": [
       "HBox(children=(FloatProgress(value=0.0, description='Stats for learnlet_dynamic_32_dynamic_soft_thresholding_b…"
      ]
     },
     "metadata": {},
     "output_type": "display_data"
    },
    {
     "name": "stdout",
     "output_type": "stream",
     "text": [
      "\n"
     ]
    },
    {
     "data": {
      "application/vnd.jupyter.widget-view+json": {
       "model_id": "542676ef2591435c8dd9d4046c8d6c30",
       "version_major": 2,
       "version_minor": 0
      },
      "text/plain": [
       "HBox(children=(FloatProgress(value=1.0, bar_style='info', max=1.0), HTML(value='')))"
      ]
     },
     "metadata": {},
     "output_type": "display_data"
    },
    {
     "name": "stdout",
     "output_type": "stream",
     "text": [
      "\n"
     ]
    },
    {
     "data": {
      "application/vnd.jupyter.widget-view+json": {
       "model_id": "10546e93810647fca715fe862752d7de",
       "version_major": 2,
       "version_minor": 0
      },
      "text/plain": [
       "HBox(children=(FloatProgress(value=0.0, description='Stats for learnlet_dynamic_64_dynamic_soft_thresholding_b…"
      ]
     },
     "metadata": {},
     "output_type": "display_data"
    },
    {
     "name": "stdout",
     "output_type": "stream",
     "text": [
      "\n"
     ]
    },
    {
     "data": {
      "application/vnd.jupyter.widget-view+json": {
       "model_id": "a64aa38e7a864737be974fa6e48466f8",
       "version_major": 2,
       "version_minor": 0
      },
      "text/plain": [
       "HBox(children=(FloatProgress(value=1.0, bar_style='info', max=1.0), HTML(value='')))"
      ]
     },
     "metadata": {},
     "output_type": "display_data"
    },
    {
     "name": "stdout",
     "output_type": "stream",
     "text": [
      "\n"
     ]
    },
    {
     "data": {
      "application/vnd.jupyter.widget-view+json": {
       "model_id": "9518fe33f30146ba92a73f9cfbd48341",
       "version_major": 2,
       "version_minor": 0
      },
      "text/plain": [
       "HBox(children=(FloatProgress(value=0.0, description='Stats for unet_64_dynamic_st_bsd500_0.0_55.0_None_1582124…"
      ]
     },
     "metadata": {},
     "output_type": "display_data"
    },
    {
     "name": "stdout",
     "output_type": "stream",
     "text": [
      "\n"
     ]
    },
    {
     "data": {
      "application/vnd.jupyter.widget-view+json": {
       "model_id": "2c2c000d300b46de9f73e4b27ea2ab7f",
       "version_major": 2,
       "version_minor": 0
      },
      "text/plain": [
       "HBox(children=(FloatProgress(value=1.0, bar_style='info', max=1.0), HTML(value='')))"
      ]
     },
     "metadata": {},
     "output_type": "display_data"
    },
    {
     "name": "stdout",
     "output_type": "stream",
     "text": [
      "\n"
     ]
    },
    {
     "data": {
      "application/vnd.jupyter.widget-view+json": {
       "model_id": "35f59744e0d741efba4a18a680b258f9",
       "version_major": 2,
       "version_minor": 0
      },
      "text/plain": [
       "HBox(children=(FloatProgress(value=0.0, description='Stats for unet_16_dynamic_st_bsd500_0.0_55.0_None_1581751…"
      ]
     },
     "metadata": {},
     "output_type": "display_data"
    },
    {
     "name": "stdout",
     "output_type": "stream",
     "text": [
      "\n"
     ]
    },
    {
     "data": {
      "application/vnd.jupyter.widget-view+json": {
       "model_id": "a883f988a68545a7b101acf4e4cf281b",
       "version_major": 2,
       "version_minor": 0
      },
      "text/plain": [
       "HBox(children=(FloatProgress(value=1.0, bar_style='info', max=1.0), HTML(value='')))"
      ]
     },
     "metadata": {},
     "output_type": "display_data"
    },
    {
     "name": "stdout",
     "output_type": "stream",
     "text": [
      "\n"
     ]
    },
    {
     "data": {
      "application/vnd.jupyter.widget-view+json": {
       "model_id": "eed98dff43884a6b9a77b91a43d0fcf1",
       "version_major": 2,
       "version_minor": 0
      },
      "text/plain": [
       "HBox(children=(FloatProgress(value=0.0, description='Stats for unet_32_dynamic_st_bsd500_0.0_55.0_None_1582124…"
      ]
     },
     "metadata": {},
     "output_type": "display_data"
    },
    {
     "name": "stdout",
     "output_type": "stream",
     "text": [
      "\n"
     ]
    },
    {
     "data": {
      "application/vnd.jupyter.widget-view+json": {
       "model_id": "a1dde329a2aa469798e9ed2a93057059",
       "version_major": 2,
       "version_minor": 0
      },
      "text/plain": [
       "HBox(children=(FloatProgress(value=1.0, bar_style='info', max=1.0), HTML(value='')))"
      ]
     },
     "metadata": {},
     "output_type": "display_data"
    },
    {
     "name": "stdout",
     "output_type": "stream",
     "text": [
      "\n"
     ]
    },
    {
     "data": {
      "application/vnd.jupyter.widget-view+json": {
       "model_id": "51f0d412ae9341ccaeb745c42ddfe216",
       "version_major": 2,
       "version_minor": 0
      },
      "text/plain": [
       "HBox(children=(FloatProgress(value=0.0, description='Stats for unet_4_dynamic_st_bsd500_0.0_55.0_None_15817518…"
      ]
     },
     "metadata": {},
     "output_type": "display_data"
    },
    {
     "name": "stdout",
     "output_type": "stream",
     "text": [
      "\n"
     ]
    },
    {
     "data": {
      "application/vnd.jupyter.widget-view+json": {
       "model_id": "b3b22af4aacb40fda38e1eee809706dd",
       "version_major": 2,
       "version_minor": 0
      },
      "text/plain": [
       "HBox(children=(FloatProgress(value=1.0, bar_style='info', max=1.0), HTML(value='')))"
      ]
     },
     "metadata": {},
     "output_type": "display_data"
    },
    {
     "name": "stdout",
     "output_type": "stream",
     "text": [
      "\n"
     ]
    },
    {
     "data": {
      "application/vnd.jupyter.widget-view+json": {
       "model_id": "5145a523dbe442c5b3f3146283c06ea2",
       "version_major": 2,
       "version_minor": 0
      },
      "text/plain": [
       "HBox(children=(FloatProgress(value=0.0, description='Stats for unet_8_dynamic_st_bsd500_0.0_55.0_None_15817518…"
      ]
     },
     "metadata": {},
     "output_type": "display_data"
    },
    {
     "name": "stdout",
     "output_type": "stream",
     "text": [
      "\n"
     ]
    },
    {
     "data": {
      "application/vnd.jupyter.widget-view+json": {
       "model_id": "5c349da9ae8e433d8b9f3bb43aaf74f6",
       "version_major": 2,
       "version_minor": 0
      },
      "text/plain": [
       "HBox(children=(FloatProgress(value=1.0, bar_style='info', max=1.0), HTML(value='')))"
      ]
     },
     "metadata": {},
     "output_type": "display_data"
    },
    {
     "name": "stdout",
     "output_type": "stream",
     "text": [
      "\n"
     ]
    },
    {
     "data": {
      "application/vnd.jupyter.widget-view+json": {
       "model_id": "fe18b4a16a024d14b4aa602c20018434",
       "version_major": 2,
       "version_minor": 0
      },
      "text/plain": [
       "HBox(children=(FloatProgress(value=0.0, description='Stats for original noisy images', max=68.0, style=Progres…"
      ]
     },
     "metadata": {},
     "output_type": "display_data"
    },
    {
     "name": "stdout",
     "output_type": "stream",
     "text": [
      "\n"
     ]
    },
    {
     "data": {
      "application/vnd.jupyter.widget-view+json": {
       "model_id": "22aa39f7c01a4fc2aaaacc78dd6a047f",
       "version_major": 2,
       "version_minor": 0
      },
      "text/plain": [
       "HBox(children=(FloatProgress(value=1.0, bar_style='info', max=1.0), HTML(value='')))"
      ]
     },
     "metadata": {},
     "output_type": "display_data"
    },
    {
     "name": "stdout",
     "output_type": "stream",
     "text": [
      "\n"
     ]
    },
    {
     "data": {
      "application/vnd.jupyter.widget-view+json": {
       "model_id": "facca75bbdce4c399c97804ce8cc6292",
       "version_major": 2,
       "version_minor": 0
      },
      "text/plain": [
       "HBox(children=(FloatProgress(value=0.0, description='Stats for learnlet_dynamic_st_bsd500_0_55_1580806694', ma…"
      ]
     },
     "metadata": {},
     "output_type": "display_data"
    },
    {
     "name": "stdout",
     "output_type": "stream",
     "text": [
      "\n"
     ]
    },
    {
     "data": {
      "application/vnd.jupyter.widget-view+json": {
       "model_id": "bf4e152f35d34e4bb3144cd1b1ef2bbb",
       "version_major": 2,
       "version_minor": 0
      },
      "text/plain": [
       "HBox(children=(FloatProgress(value=1.0, bar_style='info', max=1.0), HTML(value='')))"
      ]
     },
     "metadata": {},
     "output_type": "display_data"
    },
    {
     "name": "stdout",
     "output_type": "stream",
     "text": [
      "\n"
     ]
    },
    {
     "data": {
      "application/vnd.jupyter.widget-view+json": {
       "model_id": "e2f2a91400e94fe38e6c0055a0cb226d",
       "version_major": 2,
       "version_minor": 0
      },
      "text/plain": [
       "HBox(children=(FloatProgress(value=0.0, description='Stats for learnlet_dynamic_128_dynamic_soft_thresholding_…"
      ]
     },
     "metadata": {},
     "output_type": "display_data"
    },
    {
     "name": "stdout",
     "output_type": "stream",
     "text": [
      "\n"
     ]
    },
    {
     "data": {
      "application/vnd.jupyter.widget-view+json": {
       "model_id": "e51be26beda446299cabfceaaed52e30",
       "version_major": 2,
       "version_minor": 0
      },
      "text/plain": [
       "HBox(children=(FloatProgress(value=1.0, bar_style='info', max=1.0), HTML(value='')))"
      ]
     },
     "metadata": {},
     "output_type": "display_data"
    },
    {
     "name": "stdout",
     "output_type": "stream",
     "text": [
      "\n"
     ]
    },
    {
     "data": {
      "application/vnd.jupyter.widget-view+json": {
       "model_id": "f3a44574e9b44d55a8dde665e2aa6372",
       "version_major": 2,
       "version_minor": 0
      },
      "text/plain": [
       "HBox(children=(FloatProgress(value=0.0, description='Stats for learnlet_dynamic_16_dynamic_soft_thresholding_b…"
      ]
     },
     "metadata": {},
     "output_type": "display_data"
    },
    {
     "name": "stdout",
     "output_type": "stream",
     "text": [
      "\n"
     ]
    },
    {
     "data": {
      "application/vnd.jupyter.widget-view+json": {
       "model_id": "26a5be5d05694a1abda2e01f3690288c",
       "version_major": 2,
       "version_minor": 0
      },
      "text/plain": [
       "HBox(children=(FloatProgress(value=1.0, bar_style='info', max=1.0), HTML(value='')))"
      ]
     },
     "metadata": {},
     "output_type": "display_data"
    },
    {
     "name": "stdout",
     "output_type": "stream",
     "text": [
      "\n"
     ]
    },
    {
     "data": {
      "application/vnd.jupyter.widget-view+json": {
       "model_id": "23b86dfb77cc427a9585813b71449292",
       "version_major": 2,
       "version_minor": 0
      },
      "text/plain": [
       "HBox(children=(FloatProgress(value=0.0, description='Stats for learnlet_dynamic_32_dynamic_soft_thresholding_b…"
      ]
     },
     "metadata": {},
     "output_type": "display_data"
    },
    {
     "name": "stdout",
     "output_type": "stream",
     "text": [
      "\n"
     ]
    },
    {
     "data": {
      "application/vnd.jupyter.widget-view+json": {
       "model_id": "9ae235b952f74b22928957e4c1c643f1",
       "version_major": 2,
       "version_minor": 0
      },
      "text/plain": [
       "HBox(children=(FloatProgress(value=1.0, bar_style='info', max=1.0), HTML(value='')))"
      ]
     },
     "metadata": {},
     "output_type": "display_data"
    },
    {
     "name": "stdout",
     "output_type": "stream",
     "text": [
      "\n"
     ]
    },
    {
     "data": {
      "application/vnd.jupyter.widget-view+json": {
       "model_id": "bb805769155d4ac18aac0d42b908831c",
       "version_major": 2,
       "version_minor": 0
      },
      "text/plain": [
       "HBox(children=(FloatProgress(value=0.0, description='Stats for learnlet_dynamic_64_dynamic_soft_thresholding_b…"
      ]
     },
     "metadata": {},
     "output_type": "display_data"
    },
    {
     "name": "stdout",
     "output_type": "stream",
     "text": [
      "\n"
     ]
    },
    {
     "data": {
      "application/vnd.jupyter.widget-view+json": {
       "model_id": "85544070aece447ca61dc13b3c1c895f",
       "version_major": 2,
       "version_minor": 0
      },
      "text/plain": [
       "HBox(children=(FloatProgress(value=1.0, bar_style='info', max=1.0), HTML(value='')))"
      ]
     },
     "metadata": {},
     "output_type": "display_data"
    },
    {
     "name": "stdout",
     "output_type": "stream",
     "text": [
      "\n"
     ]
    },
    {
     "data": {
      "application/vnd.jupyter.widget-view+json": {
       "model_id": "34082ed5439742edad643c7488b3e3f3",
       "version_major": 2,
       "version_minor": 0
      },
      "text/plain": [
       "HBox(children=(FloatProgress(value=0.0, description='Stats for unet_64_dynamic_st_bsd500_0.0_55.0_None_1582124…"
      ]
     },
     "metadata": {},
     "output_type": "display_data"
    },
    {
     "name": "stdout",
     "output_type": "stream",
     "text": [
      "\n"
     ]
    },
    {
     "data": {
      "application/vnd.jupyter.widget-view+json": {
       "model_id": "d2e253cfc2204360954bc7310dab4593",
       "version_major": 2,
       "version_minor": 0
      },
      "text/plain": [
       "HBox(children=(FloatProgress(value=1.0, bar_style='info', max=1.0), HTML(value='')))"
      ]
     },
     "metadata": {},
     "output_type": "display_data"
    },
    {
     "name": "stdout",
     "output_type": "stream",
     "text": [
      "\n"
     ]
    },
    {
     "data": {
      "application/vnd.jupyter.widget-view+json": {
       "model_id": "1e219b1723e449b5a959788fdbb9624a",
       "version_major": 2,
       "version_minor": 0
      },
      "text/plain": [
       "HBox(children=(FloatProgress(value=0.0, description='Stats for unet_16_dynamic_st_bsd500_0.0_55.0_None_1581751…"
      ]
     },
     "metadata": {},
     "output_type": "display_data"
    },
    {
     "name": "stdout",
     "output_type": "stream",
     "text": [
      "\n"
     ]
    },
    {
     "data": {
      "application/vnd.jupyter.widget-view+json": {
       "model_id": "ec8122191f144b5ba08eb8dd0373f815",
       "version_major": 2,
       "version_minor": 0
      },
      "text/plain": [
       "HBox(children=(FloatProgress(value=1.0, bar_style='info', max=1.0), HTML(value='')))"
      ]
     },
     "metadata": {},
     "output_type": "display_data"
    },
    {
     "name": "stdout",
     "output_type": "stream",
     "text": [
      "\n"
     ]
    },
    {
     "data": {
      "application/vnd.jupyter.widget-view+json": {
       "model_id": "a418fb6a54dc4654b4fb39cc0ebda2a1",
       "version_major": 2,
       "version_minor": 0
      },
      "text/plain": [
       "HBox(children=(FloatProgress(value=0.0, description='Stats for unet_32_dynamic_st_bsd500_0.0_55.0_None_1582124…"
      ]
     },
     "metadata": {},
     "output_type": "display_data"
    },
    {
     "name": "stdout",
     "output_type": "stream",
     "text": [
      "\n"
     ]
    },
    {
     "data": {
      "application/vnd.jupyter.widget-view+json": {
       "model_id": "8807cf6bd52948819f2588eb2b041899",
       "version_major": 2,
       "version_minor": 0
      },
      "text/plain": [
       "HBox(children=(FloatProgress(value=1.0, bar_style='info', max=1.0), HTML(value='')))"
      ]
     },
     "metadata": {},
     "output_type": "display_data"
    },
    {
     "name": "stdout",
     "output_type": "stream",
     "text": [
      "\n"
     ]
    },
    {
     "data": {
      "application/vnd.jupyter.widget-view+json": {
       "model_id": "46b284c31f9b416b9dec3ebc3a8d6160",
       "version_major": 2,
       "version_minor": 0
      },
      "text/plain": [
       "HBox(children=(FloatProgress(value=0.0, description='Stats for unet_4_dynamic_st_bsd500_0.0_55.0_None_15817518…"
      ]
     },
     "metadata": {},
     "output_type": "display_data"
    },
    {
     "name": "stdout",
     "output_type": "stream",
     "text": [
      "\n"
     ]
    },
    {
     "data": {
      "application/vnd.jupyter.widget-view+json": {
       "model_id": "0fb10676b55a4c19a51092a834404266",
       "version_major": 2,
       "version_minor": 0
      },
      "text/plain": [
       "HBox(children=(FloatProgress(value=1.0, bar_style='info', max=1.0), HTML(value='')))"
      ]
     },
     "metadata": {},
     "output_type": "display_data"
    },
    {
     "name": "stdout",
     "output_type": "stream",
     "text": [
      "\n"
     ]
    },
    {
     "data": {
      "application/vnd.jupyter.widget-view+json": {
       "model_id": "7713fc96b4d04fab920527a750110209",
       "version_major": 2,
       "version_minor": 0
      },
      "text/plain": [
       "HBox(children=(FloatProgress(value=0.0, description='Stats for unet_8_dynamic_st_bsd500_0.0_55.0_None_15817518…"
      ]
     },
     "metadata": {},
     "output_type": "display_data"
    },
    {
     "name": "stdout",
     "output_type": "stream",
     "text": [
      "\n"
     ]
    },
    {
     "data": {
      "application/vnd.jupyter.widget-view+json": {
       "model_id": "651d14ec08b644f7a728ff15209e8bbd",
       "version_major": 2,
       "version_minor": 0
      },
      "text/plain": [
       "HBox(children=(FloatProgress(value=1.0, bar_style='info', max=1.0), HTML(value='')))"
      ]
     },
     "metadata": {},
     "output_type": "display_data"
    },
    {
     "name": "stdout",
     "output_type": "stream",
     "text": [
      "\n"
     ]
    },
    {
     "data": {
      "application/vnd.jupyter.widget-view+json": {
       "model_id": "d9834b0b2df44d518ff0921cd4f67584",
       "version_major": 2,
       "version_minor": 0
      },
      "text/plain": [
       "HBox(children=(FloatProgress(value=0.0, description='Stats for original noisy images', max=68.0, style=Progres…"
      ]
     },
     "metadata": {},
     "output_type": "display_data"
    },
    {
     "name": "stdout",
     "output_type": "stream",
     "text": [
      "\n"
     ]
    },
    {
     "data": {
      "application/vnd.jupyter.widget-view+json": {
       "model_id": "5341eb7d85e44e5b9c3d3d450326a2fd",
       "version_major": 2,
       "version_minor": 0
      },
      "text/plain": [
       "HBox(children=(FloatProgress(value=1.0, bar_style='info', max=1.0), HTML(value='')))"
      ]
     },
     "metadata": {},
     "output_type": "display_data"
    },
    {
     "name": "stdout",
     "output_type": "stream",
     "text": [
      "\n"
     ]
    },
    {
     "data": {
      "application/vnd.jupyter.widget-view+json": {
       "model_id": "907b69b13386450093d41d51b0cc1249",
       "version_major": 2,
       "version_minor": 0
      },
      "text/plain": [
       "HBox(children=(FloatProgress(value=0.0, description='Stats for learnlet_dynamic_st_bsd500_0_55_1580806694', ma…"
      ]
     },
     "metadata": {},
     "output_type": "display_data"
    },
    {
     "name": "stdout",
     "output_type": "stream",
     "text": [
      "\n"
     ]
    },
    {
     "data": {
      "application/vnd.jupyter.widget-view+json": {
       "model_id": "5f3fd1b6aacb44aaada79406daeda045",
       "version_major": 2,
       "version_minor": 0
      },
      "text/plain": [
       "HBox(children=(FloatProgress(value=1.0, bar_style='info', max=1.0), HTML(value='')))"
      ]
     },
     "metadata": {},
     "output_type": "display_data"
    },
    {
     "name": "stdout",
     "output_type": "stream",
     "text": [
      "\n"
     ]
    },
    {
     "data": {
      "application/vnd.jupyter.widget-view+json": {
       "model_id": "9be29096af5e4a3787067f7560eebb08",
       "version_major": 2,
       "version_minor": 0
      },
      "text/plain": [
       "HBox(children=(FloatProgress(value=0.0, description='Stats for learnlet_dynamic_128_dynamic_soft_thresholding_…"
      ]
     },
     "metadata": {},
     "output_type": "display_data"
    },
    {
     "name": "stdout",
     "output_type": "stream",
     "text": [
      "\n"
     ]
    },
    {
     "data": {
      "application/vnd.jupyter.widget-view+json": {
       "model_id": "da93858188674644a9d9bfc3c14d2c80",
       "version_major": 2,
       "version_minor": 0
      },
      "text/plain": [
       "HBox(children=(FloatProgress(value=1.0, bar_style='info', max=1.0), HTML(value='')))"
      ]
     },
     "metadata": {},
     "output_type": "display_data"
    },
    {
     "name": "stdout",
     "output_type": "stream",
     "text": [
      "\n"
     ]
    },
    {
     "data": {
      "application/vnd.jupyter.widget-view+json": {
       "model_id": "97b9f19f50a942b69ecc91728259cd8b",
       "version_major": 2,
       "version_minor": 0
      },
      "text/plain": [
       "HBox(children=(FloatProgress(value=0.0, description='Stats for learnlet_dynamic_16_dynamic_soft_thresholding_b…"
      ]
     },
     "metadata": {},
     "output_type": "display_data"
    },
    {
     "name": "stdout",
     "output_type": "stream",
     "text": [
      "\n"
     ]
    },
    {
     "data": {
      "application/vnd.jupyter.widget-view+json": {
       "model_id": "9756f01b2df84e4a93cf5529828863fe",
       "version_major": 2,
       "version_minor": 0
      },
      "text/plain": [
       "HBox(children=(FloatProgress(value=1.0, bar_style='info', max=1.0), HTML(value='')))"
      ]
     },
     "metadata": {},
     "output_type": "display_data"
    },
    {
     "name": "stdout",
     "output_type": "stream",
     "text": [
      "\n"
     ]
    },
    {
     "data": {
      "application/vnd.jupyter.widget-view+json": {
       "model_id": "86a91ec6fc964f68991ec171ca438784",
       "version_major": 2,
       "version_minor": 0
      },
      "text/plain": [
       "HBox(children=(FloatProgress(value=0.0, description='Stats for learnlet_dynamic_32_dynamic_soft_thresholding_b…"
      ]
     },
     "metadata": {},
     "output_type": "display_data"
    },
    {
     "name": "stdout",
     "output_type": "stream",
     "text": [
      "\n"
     ]
    },
    {
     "data": {
      "application/vnd.jupyter.widget-view+json": {
       "model_id": "54055b4b8f85425e8420066966a80baf",
       "version_major": 2,
       "version_minor": 0
      },
      "text/plain": [
       "HBox(children=(FloatProgress(value=1.0, bar_style='info', max=1.0), HTML(value='')))"
      ]
     },
     "metadata": {},
     "output_type": "display_data"
    },
    {
     "name": "stdout",
     "output_type": "stream",
     "text": [
      "\n"
     ]
    },
    {
     "data": {
      "application/vnd.jupyter.widget-view+json": {
       "model_id": "d5d35db9c3434a299ebb5d519670bde2",
       "version_major": 2,
       "version_minor": 0
      },
      "text/plain": [
       "HBox(children=(FloatProgress(value=0.0, description='Stats for learnlet_dynamic_64_dynamic_soft_thresholding_b…"
      ]
     },
     "metadata": {},
     "output_type": "display_data"
    },
    {
     "name": "stdout",
     "output_type": "stream",
     "text": [
      "\n"
     ]
    },
    {
     "data": {
      "application/vnd.jupyter.widget-view+json": {
       "model_id": "8c83e0895a0c4baa98de22d0132748eb",
       "version_major": 2,
       "version_minor": 0
      },
      "text/plain": [
       "HBox(children=(FloatProgress(value=1.0, bar_style='info', max=1.0), HTML(value='')))"
      ]
     },
     "metadata": {},
     "output_type": "display_data"
    },
    {
     "name": "stdout",
     "output_type": "stream",
     "text": [
      "\n"
     ]
    },
    {
     "data": {
      "application/vnd.jupyter.widget-view+json": {
       "model_id": "44e9bf5c91f64caca469e6c3bd97ec30",
       "version_major": 2,
       "version_minor": 0
      },
      "text/plain": [
       "HBox(children=(FloatProgress(value=0.0, description='Stats for unet_64_dynamic_st_bsd500_0.0_55.0_None_1582124…"
      ]
     },
     "metadata": {},
     "output_type": "display_data"
    },
    {
     "name": "stdout",
     "output_type": "stream",
     "text": [
      "\n"
     ]
    },
    {
     "data": {
      "application/vnd.jupyter.widget-view+json": {
       "model_id": "7b6076b2e764422faa2b38903fc6cc2e",
       "version_major": 2,
       "version_minor": 0
      },
      "text/plain": [
       "HBox(children=(FloatProgress(value=1.0, bar_style='info', max=1.0), HTML(value='')))"
      ]
     },
     "metadata": {},
     "output_type": "display_data"
    },
    {
     "name": "stdout",
     "output_type": "stream",
     "text": [
      "\n"
     ]
    },
    {
     "data": {
      "application/vnd.jupyter.widget-view+json": {
       "model_id": "420d2829ea104bc59594648e4e7e5799",
       "version_major": 2,
       "version_minor": 0
      },
      "text/plain": [
       "HBox(children=(FloatProgress(value=0.0, description='Stats for unet_16_dynamic_st_bsd500_0.0_55.0_None_1581751…"
      ]
     },
     "metadata": {},
     "output_type": "display_data"
    },
    {
     "name": "stdout",
     "output_type": "stream",
     "text": [
      "\n"
     ]
    },
    {
     "data": {
      "application/vnd.jupyter.widget-view+json": {
       "model_id": "bd16b3c51b4642ceb5205b2c9c98a312",
       "version_major": 2,
       "version_minor": 0
      },
      "text/plain": [
       "HBox(children=(FloatProgress(value=1.0, bar_style='info', max=1.0), HTML(value='')))"
      ]
     },
     "metadata": {},
     "output_type": "display_data"
    },
    {
     "name": "stdout",
     "output_type": "stream",
     "text": [
      "\n"
     ]
    },
    {
     "data": {
      "application/vnd.jupyter.widget-view+json": {
       "model_id": "7b4a9c6979a9419f82537fde1b639f81",
       "version_major": 2,
       "version_minor": 0
      },
      "text/plain": [
       "HBox(children=(FloatProgress(value=0.0, description='Stats for unet_32_dynamic_st_bsd500_0.0_55.0_None_1582124…"
      ]
     },
     "metadata": {},
     "output_type": "display_data"
    },
    {
     "name": "stdout",
     "output_type": "stream",
     "text": [
      "\n"
     ]
    },
    {
     "data": {
      "application/vnd.jupyter.widget-view+json": {
       "model_id": "d2932527205a47fbb987ea9b5650ef41",
       "version_major": 2,
       "version_minor": 0
      },
      "text/plain": [
       "HBox(children=(FloatProgress(value=1.0, bar_style='info', max=1.0), HTML(value='')))"
      ]
     },
     "metadata": {},
     "output_type": "display_data"
    },
    {
     "name": "stdout",
     "output_type": "stream",
     "text": [
      "\n"
     ]
    },
    {
     "data": {
      "application/vnd.jupyter.widget-view+json": {
       "model_id": "511b49770af44680966d7535a69bdd99",
       "version_major": 2,
       "version_minor": 0
      },
      "text/plain": [
       "HBox(children=(FloatProgress(value=0.0, description='Stats for unet_4_dynamic_st_bsd500_0.0_55.0_None_15817518…"
      ]
     },
     "metadata": {},
     "output_type": "display_data"
    },
    {
     "name": "stdout",
     "output_type": "stream",
     "text": [
      "\n"
     ]
    },
    {
     "data": {
      "application/vnd.jupyter.widget-view+json": {
       "model_id": "dbba345da1614e109065dcef4b1604df",
       "version_major": 2,
       "version_minor": 0
      },
      "text/plain": [
       "HBox(children=(FloatProgress(value=1.0, bar_style='info', max=1.0), HTML(value='')))"
      ]
     },
     "metadata": {},
     "output_type": "display_data"
    },
    {
     "name": "stdout",
     "output_type": "stream",
     "text": [
      "\n"
     ]
    },
    {
     "data": {
      "application/vnd.jupyter.widget-view+json": {
       "model_id": "d8ccba149b6c49d2988cd6a8b915cf69",
       "version_major": 2,
       "version_minor": 0
      },
      "text/plain": [
       "HBox(children=(FloatProgress(value=0.0, description='Stats for unet_8_dynamic_st_bsd500_0.0_55.0_None_15817518…"
      ]
     },
     "metadata": {},
     "output_type": "display_data"
    },
    {
     "name": "stdout",
     "output_type": "stream",
     "text": [
      "\n"
     ]
    },
    {
     "data": {
      "application/vnd.jupyter.widget-view+json": {
       "model_id": "ae695a0f0f63493b8d1635125b283f84",
       "version_major": 2,
       "version_minor": 0
      },
      "text/plain": [
       "HBox(children=(FloatProgress(value=1.0, bar_style='info', max=1.0), HTML(value='')))"
      ]
     },
     "metadata": {},
     "output_type": "display_data"
    },
    {
     "name": "stdout",
     "output_type": "stream",
     "text": [
      "\n"
     ]
    },
    {
     "data": {
      "application/vnd.jupyter.widget-view+json": {
       "model_id": "dcbd51f1b9734ab5892c24217f52422e",
       "version_major": 2,
       "version_minor": 0
      },
      "text/plain": [
       "HBox(children=(FloatProgress(value=0.0, description='Stats for original noisy images', max=68.0, style=Progres…"
      ]
     },
     "metadata": {},
     "output_type": "display_data"
    },
    {
     "name": "stdout",
     "output_type": "stream",
     "text": [
      "\n"
     ]
    },
    {
     "data": {
      "application/vnd.jupyter.widget-view+json": {
       "model_id": "94417cc8fc774d43a0125b4453456fd7",
       "version_major": 2,
       "version_minor": 0
      },
      "text/plain": [
       "HBox(children=(FloatProgress(value=1.0, bar_style='info', max=1.0), HTML(value='')))"
      ]
     },
     "metadata": {},
     "output_type": "display_data"
    },
    {
     "name": "stdout",
     "output_type": "stream",
     "text": [
      "\n"
     ]
    },
    {
     "data": {
      "application/vnd.jupyter.widget-view+json": {
       "model_id": "c03736f761874b5fa708a2b5052b005f",
       "version_major": 2,
       "version_minor": 0
      },
      "text/plain": [
       "HBox(children=(FloatProgress(value=0.0, description='Stats for learnlet_dynamic_st_bsd500_0_55_1580806694', ma…"
      ]
     },
     "metadata": {},
     "output_type": "display_data"
    },
    {
     "name": "stdout",
     "output_type": "stream",
     "text": [
      "\n"
     ]
    },
    {
     "data": {
      "application/vnd.jupyter.widget-view+json": {
       "model_id": "d7fd368bc5b949358d8a66fe8c569092",
       "version_major": 2,
       "version_minor": 0
      },
      "text/plain": [
       "HBox(children=(FloatProgress(value=1.0, bar_style='info', max=1.0), HTML(value='')))"
      ]
     },
     "metadata": {},
     "output_type": "display_data"
    },
    {
     "name": "stdout",
     "output_type": "stream",
     "text": [
      "\n"
     ]
    },
    {
     "data": {
      "application/vnd.jupyter.widget-view+json": {
       "model_id": "5551b81387a94ee7976c56fc75f5d357",
       "version_major": 2,
       "version_minor": 0
      },
      "text/plain": [
       "HBox(children=(FloatProgress(value=0.0, description='Stats for learnlet_dynamic_128_dynamic_soft_thresholding_…"
      ]
     },
     "metadata": {},
     "output_type": "display_data"
    },
    {
     "name": "stdout",
     "output_type": "stream",
     "text": [
      "\n"
     ]
    },
    {
     "data": {
      "application/vnd.jupyter.widget-view+json": {
       "model_id": "cad2fabbda84441caab8fae41e1db4f2",
       "version_major": 2,
       "version_minor": 0
      },
      "text/plain": [
       "HBox(children=(FloatProgress(value=1.0, bar_style='info', max=1.0), HTML(value='')))"
      ]
     },
     "metadata": {},
     "output_type": "display_data"
    },
    {
     "name": "stdout",
     "output_type": "stream",
     "text": [
      "\n"
     ]
    },
    {
     "data": {
      "application/vnd.jupyter.widget-view+json": {
       "model_id": "bf87454efdd74b7caba5cfe5f1a072e9",
       "version_major": 2,
       "version_minor": 0
      },
      "text/plain": [
       "HBox(children=(FloatProgress(value=0.0, description='Stats for learnlet_dynamic_16_dynamic_soft_thresholding_b…"
      ]
     },
     "metadata": {},
     "output_type": "display_data"
    },
    {
     "name": "stdout",
     "output_type": "stream",
     "text": [
      "\n"
     ]
    },
    {
     "data": {
      "application/vnd.jupyter.widget-view+json": {
       "model_id": "938faf0332d64187bdf1466dc592cbf9",
       "version_major": 2,
       "version_minor": 0
      },
      "text/plain": [
       "HBox(children=(FloatProgress(value=1.0, bar_style='info', max=1.0), HTML(value='')))"
      ]
     },
     "metadata": {},
     "output_type": "display_data"
    },
    {
     "name": "stdout",
     "output_type": "stream",
     "text": [
      "\n"
     ]
    },
    {
     "data": {
      "application/vnd.jupyter.widget-view+json": {
       "model_id": "9e2b3f0ae77d4aa7b9588087e9a47c66",
       "version_major": 2,
       "version_minor": 0
      },
      "text/plain": [
       "HBox(children=(FloatProgress(value=0.0, description='Stats for learnlet_dynamic_32_dynamic_soft_thresholding_b…"
      ]
     },
     "metadata": {},
     "output_type": "display_data"
    },
    {
     "name": "stdout",
     "output_type": "stream",
     "text": [
      "\n"
     ]
    },
    {
     "data": {
      "application/vnd.jupyter.widget-view+json": {
       "model_id": "11a3a2b86cbe4e3aac739fe1304970f0",
       "version_major": 2,
       "version_minor": 0
      },
      "text/plain": [
       "HBox(children=(FloatProgress(value=1.0, bar_style='info', max=1.0), HTML(value='')))"
      ]
     },
     "metadata": {},
     "output_type": "display_data"
    },
    {
     "name": "stdout",
     "output_type": "stream",
     "text": [
      "\n"
     ]
    },
    {
     "data": {
      "application/vnd.jupyter.widget-view+json": {
       "model_id": "c3943b91a446430783c231e7377b5f34",
       "version_major": 2,
       "version_minor": 0
      },
      "text/plain": [
       "HBox(children=(FloatProgress(value=0.0, description='Stats for learnlet_dynamic_64_dynamic_soft_thresholding_b…"
      ]
     },
     "metadata": {},
     "output_type": "display_data"
    },
    {
     "name": "stdout",
     "output_type": "stream",
     "text": [
      "\n"
     ]
    },
    {
     "data": {
      "application/vnd.jupyter.widget-view+json": {
       "model_id": "d4b9b10ba20940298bb1a51024a9f7b9",
       "version_major": 2,
       "version_minor": 0
      },
      "text/plain": [
       "HBox(children=(FloatProgress(value=1.0, bar_style='info', max=1.0), HTML(value='')))"
      ]
     },
     "metadata": {},
     "output_type": "display_data"
    },
    {
     "name": "stdout",
     "output_type": "stream",
     "text": [
      "\n"
     ]
    },
    {
     "data": {
      "application/vnd.jupyter.widget-view+json": {
       "model_id": "0249f70e530446a6b81071f11201e263",
       "version_major": 2,
       "version_minor": 0
      },
      "text/plain": [
       "HBox(children=(FloatProgress(value=0.0, description='Stats for unet_64_dynamic_st_bsd500_0.0_55.0_None_1582124…"
      ]
     },
     "metadata": {},
     "output_type": "display_data"
    },
    {
     "name": "stdout",
     "output_type": "stream",
     "text": [
      "\n"
     ]
    },
    {
     "data": {
      "application/vnd.jupyter.widget-view+json": {
       "model_id": "b8f3e007640f4f2496c9d1882c33857c",
       "version_major": 2,
       "version_minor": 0
      },
      "text/plain": [
       "HBox(children=(FloatProgress(value=1.0, bar_style='info', max=1.0), HTML(value='')))"
      ]
     },
     "metadata": {},
     "output_type": "display_data"
    },
    {
     "name": "stdout",
     "output_type": "stream",
     "text": [
      "\n"
     ]
    },
    {
     "data": {
      "application/vnd.jupyter.widget-view+json": {
       "model_id": "dac12115607b4cc1916155c2cfbf20b6",
       "version_major": 2,
       "version_minor": 0
      },
      "text/plain": [
       "HBox(children=(FloatProgress(value=0.0, description='Stats for unet_16_dynamic_st_bsd500_0.0_55.0_None_1581751…"
      ]
     },
     "metadata": {},
     "output_type": "display_data"
    },
    {
     "name": "stdout",
     "output_type": "stream",
     "text": [
      "\n"
     ]
    },
    {
     "data": {
      "application/vnd.jupyter.widget-view+json": {
       "model_id": "0a0fb535b10a41799e23560cdd714339",
       "version_major": 2,
       "version_minor": 0
      },
      "text/plain": [
       "HBox(children=(FloatProgress(value=1.0, bar_style='info', max=1.0), HTML(value='')))"
      ]
     },
     "metadata": {},
     "output_type": "display_data"
    },
    {
     "name": "stdout",
     "output_type": "stream",
     "text": [
      "\n"
     ]
    },
    {
     "data": {
      "application/vnd.jupyter.widget-view+json": {
       "model_id": "6eac5a5cff4441e19bc9f25070e44112",
       "version_major": 2,
       "version_minor": 0
      },
      "text/plain": [
       "HBox(children=(FloatProgress(value=0.0, description='Stats for unet_32_dynamic_st_bsd500_0.0_55.0_None_1582124…"
      ]
     },
     "metadata": {},
     "output_type": "display_data"
    },
    {
     "name": "stdout",
     "output_type": "stream",
     "text": [
      "\n"
     ]
    },
    {
     "data": {
      "application/vnd.jupyter.widget-view+json": {
       "model_id": "6c27f6cc48024e978518c0673b76f22f",
       "version_major": 2,
       "version_minor": 0
      },
      "text/plain": [
       "HBox(children=(FloatProgress(value=1.0, bar_style='info', max=1.0), HTML(value='')))"
      ]
     },
     "metadata": {},
     "output_type": "display_data"
    },
    {
     "name": "stdout",
     "output_type": "stream",
     "text": [
      "\n"
     ]
    },
    {
     "data": {
      "application/vnd.jupyter.widget-view+json": {
       "model_id": "1ca1ef9818a34d6bbd88b78d380fe483",
       "version_major": 2,
       "version_minor": 0
      },
      "text/plain": [
       "HBox(children=(FloatProgress(value=0.0, description='Stats for unet_4_dynamic_st_bsd500_0.0_55.0_None_15817518…"
      ]
     },
     "metadata": {},
     "output_type": "display_data"
    },
    {
     "name": "stdout",
     "output_type": "stream",
     "text": [
      "\n"
     ]
    },
    {
     "data": {
      "application/vnd.jupyter.widget-view+json": {
       "model_id": "6c65d7815a2345ae8d3d118ea76a3066",
       "version_major": 2,
       "version_minor": 0
      },
      "text/plain": [
       "HBox(children=(FloatProgress(value=1.0, bar_style='info', max=1.0), HTML(value='')))"
      ]
     },
     "metadata": {},
     "output_type": "display_data"
    },
    {
     "name": "stdout",
     "output_type": "stream",
     "text": [
      "\n"
     ]
    },
    {
     "data": {
      "application/vnd.jupyter.widget-view+json": {
       "model_id": "f59dd299e9bd4218a24ddd35495ba185",
       "version_major": 2,
       "version_minor": 0
      },
      "text/plain": [
       "HBox(children=(FloatProgress(value=0.0, description='Stats for unet_8_dynamic_st_bsd500_0.0_55.0_None_15817518…"
      ]
     },
     "metadata": {},
     "output_type": "display_data"
    },
    {
     "name": "stdout",
     "output_type": "stream",
     "text": [
      "\n"
     ]
    },
    {
     "data": {
      "application/vnd.jupyter.widget-view+json": {
       "model_id": "2fc8ddf46d214492a6bfbb91fa1f5e67",
       "version_major": 2,
       "version_minor": 0
      },
      "text/plain": [
       "HBox(children=(FloatProgress(value=1.0, bar_style='info', max=1.0), HTML(value='')))"
      ]
     },
     "metadata": {},
     "output_type": "display_data"
    },
    {
     "name": "stdout",
     "output_type": "stream",
     "text": [
      "\n"
     ]
    },
    {
     "data": {
      "application/vnd.jupyter.widget-view+json": {
       "model_id": "89f26ede878e4c7bb931e22e23d1c0bb",
       "version_major": 2,
       "version_minor": 0
      },
      "text/plain": [
       "HBox(children=(FloatProgress(value=0.0, description='Stats for original noisy images', max=68.0, style=Progres…"
      ]
     },
     "metadata": {},
     "output_type": "display_data"
    },
    {
     "name": "stdout",
     "output_type": "stream",
     "text": [
      "\n"
     ]
    },
    {
     "data": {
      "application/vnd.jupyter.widget-view+json": {
       "model_id": "85d26019dd9b422fb0f5ffbb0bdcb345",
       "version_major": 2,
       "version_minor": 0
      },
      "text/plain": [
       "HBox(children=(FloatProgress(value=1.0, bar_style='info', max=1.0), HTML(value='')))"
      ]
     },
     "metadata": {},
     "output_type": "display_data"
    },
    {
     "name": "stdout",
     "output_type": "stream",
     "text": [
      "\n"
     ]
    },
    {
     "data": {
      "application/vnd.jupyter.widget-view+json": {
       "model_id": "12e180933a0e41ad91bf104beb4b3e63",
       "version_major": 2,
       "version_minor": 0
      },
      "text/plain": [
       "HBox(children=(FloatProgress(value=0.0, description='Stats for learnlet_dynamic_st_bsd500_0_55_1580806694', ma…"
      ]
     },
     "metadata": {},
     "output_type": "display_data"
    },
    {
     "name": "stdout",
     "output_type": "stream",
     "text": [
      "\n"
     ]
    },
    {
     "data": {
      "application/vnd.jupyter.widget-view+json": {
       "model_id": "f8715ae282b74071a6fff6096ac1441c",
       "version_major": 2,
       "version_minor": 0
      },
      "text/plain": [
       "HBox(children=(FloatProgress(value=1.0, bar_style='info', max=1.0), HTML(value='')))"
      ]
     },
     "metadata": {},
     "output_type": "display_data"
    },
    {
     "name": "stdout",
     "output_type": "stream",
     "text": [
      "\n"
     ]
    },
    {
     "data": {
      "application/vnd.jupyter.widget-view+json": {
       "model_id": "b729a99f08444638bd93be8c0990a858",
       "version_major": 2,
       "version_minor": 0
      },
      "text/plain": [
       "HBox(children=(FloatProgress(value=0.0, description='Stats for learnlet_dynamic_128_dynamic_soft_thresholding_…"
      ]
     },
     "metadata": {},
     "output_type": "display_data"
    },
    {
     "name": "stdout",
     "output_type": "stream",
     "text": [
      "\n"
     ]
    },
    {
     "data": {
      "application/vnd.jupyter.widget-view+json": {
       "model_id": "c85c57ff0de64a32809f5ab1a39ec3bf",
       "version_major": 2,
       "version_minor": 0
      },
      "text/plain": [
       "HBox(children=(FloatProgress(value=1.0, bar_style='info', max=1.0), HTML(value='')))"
      ]
     },
     "metadata": {},
     "output_type": "display_data"
    },
    {
     "name": "stdout",
     "output_type": "stream",
     "text": [
      "\n"
     ]
    },
    {
     "data": {
      "application/vnd.jupyter.widget-view+json": {
       "model_id": "df9f95c2345a4f85b04db0f86325b161",
       "version_major": 2,
       "version_minor": 0
      },
      "text/plain": [
       "HBox(children=(FloatProgress(value=0.0, description='Stats for learnlet_dynamic_16_dynamic_soft_thresholding_b…"
      ]
     },
     "metadata": {},
     "output_type": "display_data"
    },
    {
     "name": "stdout",
     "output_type": "stream",
     "text": [
      "\n"
     ]
    },
    {
     "data": {
      "application/vnd.jupyter.widget-view+json": {
       "model_id": "c8a1bdf7a8c4472abc6d33a20e5a0788",
       "version_major": 2,
       "version_minor": 0
      },
      "text/plain": [
       "HBox(children=(FloatProgress(value=1.0, bar_style='info', max=1.0), HTML(value='')))"
      ]
     },
     "metadata": {},
     "output_type": "display_data"
    },
    {
     "name": "stdout",
     "output_type": "stream",
     "text": [
      "\n"
     ]
    },
    {
     "data": {
      "application/vnd.jupyter.widget-view+json": {
       "model_id": "238908f5dc694a04adb132bc1a832cc1",
       "version_major": 2,
       "version_minor": 0
      },
      "text/plain": [
       "HBox(children=(FloatProgress(value=0.0, description='Stats for learnlet_dynamic_32_dynamic_soft_thresholding_b…"
      ]
     },
     "metadata": {},
     "output_type": "display_data"
    },
    {
     "name": "stdout",
     "output_type": "stream",
     "text": [
      "\n"
     ]
    },
    {
     "data": {
      "application/vnd.jupyter.widget-view+json": {
       "model_id": "696cd42ee9364868a9f60a31a74401b8",
       "version_major": 2,
       "version_minor": 0
      },
      "text/plain": [
       "HBox(children=(FloatProgress(value=1.0, bar_style='info', max=1.0), HTML(value='')))"
      ]
     },
     "metadata": {},
     "output_type": "display_data"
    },
    {
     "name": "stdout",
     "output_type": "stream",
     "text": [
      "\n"
     ]
    },
    {
     "data": {
      "application/vnd.jupyter.widget-view+json": {
       "model_id": "56d1175e6ab44a4db2170a6b254ce5d5",
       "version_major": 2,
       "version_minor": 0
      },
      "text/plain": [
       "HBox(children=(FloatProgress(value=0.0, description='Stats for learnlet_dynamic_64_dynamic_soft_thresholding_b…"
      ]
     },
     "metadata": {},
     "output_type": "display_data"
    },
    {
     "name": "stdout",
     "output_type": "stream",
     "text": [
      "\n"
     ]
    },
    {
     "data": {
      "application/vnd.jupyter.widget-view+json": {
       "model_id": "7a020dfc8cda41ed96f399a10a314410",
       "version_major": 2,
       "version_minor": 0
      },
      "text/plain": [
       "HBox(children=(FloatProgress(value=1.0, bar_style='info', max=1.0), HTML(value='')))"
      ]
     },
     "metadata": {},
     "output_type": "display_data"
    },
    {
     "name": "stdout",
     "output_type": "stream",
     "text": [
      "\n"
     ]
    },
    {
     "data": {
      "application/vnd.jupyter.widget-view+json": {
       "model_id": "9bf1a8c86efd42eea80c4d3baa7b37c5",
       "version_major": 2,
       "version_minor": 0
      },
      "text/plain": [
       "HBox(children=(FloatProgress(value=0.0, description='Stats for unet_64_dynamic_st_bsd500_0.0_55.0_None_1582124…"
      ]
     },
     "metadata": {},
     "output_type": "display_data"
    },
    {
     "name": "stdout",
     "output_type": "stream",
     "text": [
      "\n"
     ]
    },
    {
     "data": {
      "application/vnd.jupyter.widget-view+json": {
       "model_id": "53162f16c8344ed2ae56309f97aac092",
       "version_major": 2,
       "version_minor": 0
      },
      "text/plain": [
       "HBox(children=(FloatProgress(value=1.0, bar_style='info', max=1.0), HTML(value='')))"
      ]
     },
     "metadata": {},
     "output_type": "display_data"
    },
    {
     "name": "stdout",
     "output_type": "stream",
     "text": [
      "\n"
     ]
    },
    {
     "data": {
      "application/vnd.jupyter.widget-view+json": {
       "model_id": "d8ea1f239dc040b6932c2dfe6ae40ed1",
       "version_major": 2,
       "version_minor": 0
      },
      "text/plain": [
       "HBox(children=(FloatProgress(value=0.0, description='Stats for unet_16_dynamic_st_bsd500_0.0_55.0_None_1581751…"
      ]
     },
     "metadata": {},
     "output_type": "display_data"
    },
    {
     "name": "stdout",
     "output_type": "stream",
     "text": [
      "\n"
     ]
    },
    {
     "data": {
      "application/vnd.jupyter.widget-view+json": {
       "model_id": "dcc2cf1dc50d41afb402b4fcfabfa53f",
       "version_major": 2,
       "version_minor": 0
      },
      "text/plain": [
       "HBox(children=(FloatProgress(value=1.0, bar_style='info', max=1.0), HTML(value='')))"
      ]
     },
     "metadata": {},
     "output_type": "display_data"
    },
    {
     "name": "stdout",
     "output_type": "stream",
     "text": [
      "\n"
     ]
    },
    {
     "data": {
      "application/vnd.jupyter.widget-view+json": {
       "model_id": "dd3816cace1c47e09582719527e40e5d",
       "version_major": 2,
       "version_minor": 0
      },
      "text/plain": [
       "HBox(children=(FloatProgress(value=0.0, description='Stats for unet_32_dynamic_st_bsd500_0.0_55.0_None_1582124…"
      ]
     },
     "metadata": {},
     "output_type": "display_data"
    },
    {
     "name": "stdout",
     "output_type": "stream",
     "text": [
      "\n"
     ]
    },
    {
     "data": {
      "application/vnd.jupyter.widget-view+json": {
       "model_id": "889ec6c9c9524ca9941f2056118afbda",
       "version_major": 2,
       "version_minor": 0
      },
      "text/plain": [
       "HBox(children=(FloatProgress(value=1.0, bar_style='info', max=1.0), HTML(value='')))"
      ]
     },
     "metadata": {},
     "output_type": "display_data"
    },
    {
     "name": "stdout",
     "output_type": "stream",
     "text": [
      "\n"
     ]
    },
    {
     "data": {
      "application/vnd.jupyter.widget-view+json": {
       "model_id": "6db498dec16b4b44acef28a5ce6dfb08",
       "version_major": 2,
       "version_minor": 0
      },
      "text/plain": [
       "HBox(children=(FloatProgress(value=0.0, description='Stats for unet_4_dynamic_st_bsd500_0.0_55.0_None_15817518…"
      ]
     },
     "metadata": {},
     "output_type": "display_data"
    },
    {
     "name": "stdout",
     "output_type": "stream",
     "text": [
      "\n"
     ]
    },
    {
     "data": {
      "application/vnd.jupyter.widget-view+json": {
       "model_id": "a0ba5bdbe92e419dae66171b895d43bc",
       "version_major": 2,
       "version_minor": 0
      },
      "text/plain": [
       "HBox(children=(FloatProgress(value=1.0, bar_style='info', max=1.0), HTML(value='')))"
      ]
     },
     "metadata": {},
     "output_type": "display_data"
    },
    {
     "name": "stdout",
     "output_type": "stream",
     "text": [
      "\n"
     ]
    },
    {
     "data": {
      "application/vnd.jupyter.widget-view+json": {
       "model_id": "39f97dc651144722a2a40a7cf1420648",
       "version_major": 2,
       "version_minor": 0
      },
      "text/plain": [
       "HBox(children=(FloatProgress(value=0.0, description='Stats for unet_8_dynamic_st_bsd500_0.0_55.0_None_15817518…"
      ]
     },
     "metadata": {},
     "output_type": "display_data"
    },
    {
     "name": "stdout",
     "output_type": "stream",
     "text": [
      "\n"
     ]
    },
    {
     "data": {
      "application/vnd.jupyter.widget-view+json": {
       "model_id": "878f6c6209ba44cdbe6718d0c82ca14c",
       "version_major": 2,
       "version_minor": 0
      },
      "text/plain": [
       "HBox(children=(FloatProgress(value=1.0, bar_style='info', max=1.0), HTML(value='')))"
      ]
     },
     "metadata": {},
     "output_type": "display_data"
    },
    {
     "name": "stdout",
     "output_type": "stream",
     "text": [
      "\n"
     ]
    },
    {
     "data": {
      "application/vnd.jupyter.widget-view+json": {
       "model_id": "c9d74f1cf2384993a7174545adbc87e0",
       "version_major": 2,
       "version_minor": 0
      },
      "text/plain": [
       "HBox(children=(FloatProgress(value=0.0, description='Stats for original noisy images', max=68.0, style=Progres…"
      ]
     },
     "metadata": {},
     "output_type": "display_data"
    },
    {
     "name": "stdout",
     "output_type": "stream",
     "text": [
      "\n"
     ]
    },
    {
     "data": {
      "application/vnd.jupyter.widget-view+json": {
       "model_id": "3abef51b97f14d93ad9bcadc70286748",
       "version_major": 2,
       "version_minor": 0
      },
      "text/plain": [
       "HBox(children=(FloatProgress(value=1.0, bar_style='info', max=1.0), HTML(value='')))"
      ]
     },
     "metadata": {},
     "output_type": "display_data"
    },
    {
     "name": "stdout",
     "output_type": "stream",
     "text": [
      "\n"
     ]
    },
    {
     "data": {
      "application/vnd.jupyter.widget-view+json": {
       "model_id": "2806bdd50251414e8f9fa1ccc354fe12",
       "version_major": 2,
       "version_minor": 0
      },
      "text/plain": [
       "HBox(children=(FloatProgress(value=0.0, description='Stats for learnlet_dynamic_st_bsd500_0_55_1580806694', ma…"
      ]
     },
     "metadata": {},
     "output_type": "display_data"
    },
    {
     "name": "stdout",
     "output_type": "stream",
     "text": [
      "\n"
     ]
    },
    {
     "data": {
      "application/vnd.jupyter.widget-view+json": {
       "model_id": "1ed54100be894ffbba11c81a1f13e51b",
       "version_major": 2,
       "version_minor": 0
      },
      "text/plain": [
       "HBox(children=(FloatProgress(value=1.0, bar_style='info', max=1.0), HTML(value='')))"
      ]
     },
     "metadata": {},
     "output_type": "display_data"
    },
    {
     "name": "stdout",
     "output_type": "stream",
     "text": [
      "\n"
     ]
    },
    {
     "data": {
      "application/vnd.jupyter.widget-view+json": {
       "model_id": "5f708a031ee24261ba0e37f11a906666",
       "version_major": 2,
       "version_minor": 0
      },
      "text/plain": [
       "HBox(children=(FloatProgress(value=0.0, description='Stats for learnlet_dynamic_128_dynamic_soft_thresholding_…"
      ]
     },
     "metadata": {},
     "output_type": "display_data"
    },
    {
     "name": "stdout",
     "output_type": "stream",
     "text": [
      "\n"
     ]
    },
    {
     "data": {
      "application/vnd.jupyter.widget-view+json": {
       "model_id": "486f21741c1b4104886e8bd9668a46a0",
       "version_major": 2,
       "version_minor": 0
      },
      "text/plain": [
       "HBox(children=(FloatProgress(value=1.0, bar_style='info', max=1.0), HTML(value='')))"
      ]
     },
     "metadata": {},
     "output_type": "display_data"
    },
    {
     "name": "stdout",
     "output_type": "stream",
     "text": [
      "\n"
     ]
    },
    {
     "data": {
      "application/vnd.jupyter.widget-view+json": {
       "model_id": "24fa73ae059e4ce3be6b3d07c5629b8f",
       "version_major": 2,
       "version_minor": 0
      },
      "text/plain": [
       "HBox(children=(FloatProgress(value=0.0, description='Stats for learnlet_dynamic_16_dynamic_soft_thresholding_b…"
      ]
     },
     "metadata": {},
     "output_type": "display_data"
    },
    {
     "name": "stdout",
     "output_type": "stream",
     "text": [
      "\n"
     ]
    },
    {
     "data": {
      "application/vnd.jupyter.widget-view+json": {
       "model_id": "2c332f62f349464abbf6d0ea558ecbbe",
       "version_major": 2,
       "version_minor": 0
      },
      "text/plain": [
       "HBox(children=(FloatProgress(value=1.0, bar_style='info', max=1.0), HTML(value='')))"
      ]
     },
     "metadata": {},
     "output_type": "display_data"
    },
    {
     "name": "stdout",
     "output_type": "stream",
     "text": [
      "\n"
     ]
    },
    {
     "data": {
      "application/vnd.jupyter.widget-view+json": {
       "model_id": "b784a7347e5a453ba4091d6a87792dde",
       "version_major": 2,
       "version_minor": 0
      },
      "text/plain": [
       "HBox(children=(FloatProgress(value=0.0, description='Stats for learnlet_dynamic_32_dynamic_soft_thresholding_b…"
      ]
     },
     "metadata": {},
     "output_type": "display_data"
    },
    {
     "name": "stdout",
     "output_type": "stream",
     "text": [
      "\n"
     ]
    },
    {
     "data": {
      "application/vnd.jupyter.widget-view+json": {
       "model_id": "8a54f9880a264b7fa855de8fbffcb89f",
       "version_major": 2,
       "version_minor": 0
      },
      "text/plain": [
       "HBox(children=(FloatProgress(value=1.0, bar_style='info', max=1.0), HTML(value='')))"
      ]
     },
     "metadata": {},
     "output_type": "display_data"
    },
    {
     "name": "stdout",
     "output_type": "stream",
     "text": [
      "\n"
     ]
    },
    {
     "data": {
      "application/vnd.jupyter.widget-view+json": {
       "model_id": "67c37017632847d4b9678a93d7b90e5c",
       "version_major": 2,
       "version_minor": 0
      },
      "text/plain": [
       "HBox(children=(FloatProgress(value=0.0, description='Stats for learnlet_dynamic_64_dynamic_soft_thresholding_b…"
      ]
     },
     "metadata": {},
     "output_type": "display_data"
    },
    {
     "name": "stdout",
     "output_type": "stream",
     "text": [
      "\n",
      "\n"
     ]
    }
   ],
   "source": [
    "noise_std_metrics = {}\n",
    "n_samples = None\n",
    "for noise_std in tqdm_notebook(noise_stds, 'Noise stds'):\n",
    "    metrics = []\n",
    "    for net_params in all_net_params:\n",
    "        im_ds = im_dataset_bsd68(\n",
    "            mode='testing', \n",
    "            batch_size=1, \n",
    "            patch_size=None, \n",
    "            noise_std=noise_std, \n",
    "            return_noise_level=False,\n",
    "            n_pooling=5,\n",
    "            n_samples=n_samples,\n",
    "        )\n",
    "        metrics.append((net_params['name'], metrics_from_ds(im_ds, **net_params)))\n",
    "    im_ds = im_dataset_bsd68(\n",
    "        mode='testing', \n",
    "        batch_size=1, \n",
    "        patch_size=None, \n",
    "        noise_std=noise_std, \n",
    "        return_noise_level=False,\n",
    "        n_pooling=5,\n",
    "        n_samples=n_samples,\n",
    "    )\n",
    "    metrics.append(('original', metrics_original_from_ds(im_ds)))\n",
    "        \n",
    "    for net_params in dynamic_denoising_net_params:\n",
    "        im_ds = im_dataset_bsd68(\n",
    "            mode='testing', \n",
    "            batch_size=1, \n",
    "            patch_size=None, \n",
    "            noise_std=noise_std, \n",
    "            return_noise_level=True,\n",
    "            n_pooling=5,\n",
    "            n_samples=n_samples,\n",
    "        )\n",
    "        metrics.append((net_params['name'], metrics_from_ds(im_ds, **net_params)))\n",
    "\n",
    "    noise_std_metrics[noise_std] = metrics"
   ]
  },
  {
   "cell_type": "code",
   "execution_count": 9,
   "metadata": {},
   "outputs": [],
   "source": [
    "# params counting\n",
    "params_count = {}\n",
    "for net_params in all_net_params + dynamic_denoising_net_params:\n",
    "    params_count[net_params['name']] = n_params_from_params(**net_params)"
   ]
  },
  {
   "cell_type": "code",
   "execution_count": 10,
   "metadata": {},
   "outputs": [],
   "source": [
    "# PSNR table\n",
    "psnr_metrics_table = pd.DataFrame(\n",
    "    columns=['noise_std'] + [p['name'] for p in all_net_params] + [p['name'] for p in dynamic_denoising_net_params] + ['original', 'wavelets_24', 'bm3d'],\n",
    ")\n",
    "for i, (noise_std, metrics) in enumerate(noise_std_metrics.items()):\n",
    "    psnr_metrics_table.loc[i, 'noise_std'] = noise_std\n",
    "    for name, m in metrics:\n",
    "        psnr_metrics_table.loc[i, name] = \"{mean:.4} ({std:.2})\".format(\n",
    "            mean=m.metrics['PSNR'].mean(), \n",
    "            std=m.metrics['PSNR'].stddev(),\n",
    "        )\n",
    "psnr_metrics_table;"
   ]
  },
  {
   "cell_type": "code",
   "execution_count": 11,
   "metadata": {},
   "outputs": [],
   "source": [
    "# SSIM table\n",
    "ssim_metrics_table = pd.DataFrame(\n",
    "    columns=['noise_std'] + [p['name'] for p in all_net_params] + [p['name'] for p in dynamic_denoising_net_params] + ['original', 'wavelets_24', 'bm3d'],\n",
    ")\n",
    "for i, (noise_std, metrics) in enumerate(noise_std_metrics.items()):\n",
    "    ssim_metrics_table.loc[i, 'noise_std'] = noise_std\n",
    "    for name, m in metrics:\n",
    "        ssim_metrics_table.loc[i, name] = \"{mean:.4} ({std:.4})\".format(\n",
    "            mean=m.metrics['SSIM'].mean(), \n",
    "            std=m.metrics['SSIM'].stddev(),\n",
    "        )\n",
    "ssim_metrics_table;"
   ]
  },
  {
   "cell_type": "code",
   "execution_count": 12,
   "metadata": {},
   "outputs": [],
   "source": [
    "%matplotlib nbagg\n",
    "import matplotlib.pyplot as plt\n",
    "import seaborn as sns"
   ]
  },
  {
   "cell_type": "code",
   "execution_count": 13,
   "metadata": {},
   "outputs": [],
   "source": [
    "sns.set(style=\"whitegrid\", palette=\"muted\", rc={'figure.figsize': (9, 5), 'image.cmap': 'gray'})"
   ]
  },
  {
   "cell_type": "code",
   "execution_count": 14,
   "metadata": {},
   "outputs": [],
   "source": [
    "import math\n",
    "\n",
    "millnames = ['', 'K', 'M', 'G', 'T']\n",
    "\n",
    "def millify(n):\n",
    "    n = float(n)\n",
    "    millidx = max(0,min(len(millnames)-1,\n",
    "                        int(math.floor(0 if n == 0 else math.log10(abs(n))/3))))\n",
    "\n",
    "    return '{:.0f}{}'.format(n / 10**(3 * millidx), millnames[millidx])"
   ]
  },
  {
   "cell_type": "code",
   "execution_count": 20,
   "metadata": {
    "scrolled": false
   },
   "outputs": [
    {
     "data": {
      "text/html": [
       "<div>\n",
       "<style scoped>\n",
       "    .dataframe tbody tr th:only-of-type {\n",
       "        vertical-align: middle;\n",
       "    }\n",
       "\n",
       "    .dataframe tbody tr th {\n",
       "        vertical-align: top;\n",
       "    }\n",
       "\n",
       "    .dataframe thead th {\n",
       "        text-align: right;\n",
       "    }\n",
       "</style>\n",
       "<table border=\"1\" class=\"dataframe\">\n",
       "  <thead>\n",
       "    <tr style=\"text-align: right;\">\n",
       "      <th></th>\n",
       "      <th>$\\sigma$</th>\n",
       "      <th>Ratio over original PSNR</th>\n",
       "      <th>psnr-std-dev</th>\n",
       "      <th>model_name</th>\n",
       "      <th>$\\bf{Model}$</th>\n",
       "      <th>$\\bf{Nb filters}$</th>\n",
       "      <th>$\\bf{Nb params}$</th>\n",
       "    </tr>\n",
       "  </thead>\n",
       "  <tbody>\n",
       "    <tr>\n",
       "      <th>0</th>\n",
       "      <td>5</td>\n",
       "      <td>1.10472</td>\n",
       "      <td>0.920384</td>\n",
       "      <td>unet_64_dynamic_st_bsd500_0.0_55.0_None_158212...</td>\n",
       "      <td>U-net</td>\n",
       "      <td>64</td>\n",
       "      <td>31M</td>\n",
       "    </tr>\n",
       "    <tr>\n",
       "      <th>1</th>\n",
       "      <td>5</td>\n",
       "      <td>1.09307</td>\n",
       "      <td>0.925918</td>\n",
       "      <td>unet_16_dynamic_st_bsd500_0.0_55.0_None_158175...</td>\n",
       "      <td>U-net</td>\n",
       "      <td>16</td>\n",
       "      <td>2M</td>\n",
       "    </tr>\n",
       "    <tr>\n",
       "      <th>2</th>\n",
       "      <td>5</td>\n",
       "      <td>1.09924</td>\n",
       "      <td>0.917801</td>\n",
       "      <td>unet_32_dynamic_st_bsd500_0.0_55.0_None_158212...</td>\n",
       "      <td>U-net</td>\n",
       "      <td>32</td>\n",
       "      <td>8M</td>\n",
       "    </tr>\n",
       "    <tr>\n",
       "      <th>3</th>\n",
       "      <td>5</td>\n",
       "      <td>1.03707</td>\n",
       "      <td>1.15755</td>\n",
       "      <td>unet_4_dynamic_st_bsd500_0.0_55.0_None_1581751880</td>\n",
       "      <td>U-net</td>\n",
       "      <td>4</td>\n",
       "      <td>122K</td>\n",
       "    </tr>\n",
       "    <tr>\n",
       "      <th>4</th>\n",
       "      <td>5</td>\n",
       "      <td>1.07468</td>\n",
       "      <td>0.942066</td>\n",
       "      <td>unet_8_dynamic_st_bsd500_0.0_55.0_None_1581751880</td>\n",
       "      <td>U-net</td>\n",
       "      <td>8</td>\n",
       "      <td>486K</td>\n",
       "    </tr>\n",
       "    <tr>\n",
       "      <th>...</th>\n",
       "      <td>...</td>\n",
       "      <td>...</td>\n",
       "      <td>...</td>\n",
       "      <td>...</td>\n",
       "      <td>...</td>\n",
       "      <td>...</td>\n",
       "      <td>...</td>\n",
       "    </tr>\n",
       "    <tr>\n",
       "      <th>75</th>\n",
       "      <td>75</td>\n",
       "      <td>2.2374</td>\n",
       "      <td>1.0876</td>\n",
       "      <td>learnlet_dynamic_st_bsd500_0_55_1580806694</td>\n",
       "      <td>Learnlets</td>\n",
       "      <td>256</td>\n",
       "      <td>372K</td>\n",
       "    </tr>\n",
       "    <tr>\n",
       "      <th>76</th>\n",
       "      <td>75</td>\n",
       "      <td>2.23662</td>\n",
       "      <td>1.08279</td>\n",
       "      <td>learnlet_dynamic_128_dynamic_soft_thresholding...</td>\n",
       "      <td>Learnlets</td>\n",
       "      <td>128</td>\n",
       "      <td>186K</td>\n",
       "    </tr>\n",
       "    <tr>\n",
       "      <th>77</th>\n",
       "      <td>75</td>\n",
       "      <td>2.21664</td>\n",
       "      <td>1.02484</td>\n",
       "      <td>learnlet_dynamic_16_dynamic_soft_thresholding_...</td>\n",
       "      <td>Learnlets</td>\n",
       "      <td>16</td>\n",
       "      <td>24K</td>\n",
       "    </tr>\n",
       "    <tr>\n",
       "      <th>78</th>\n",
       "      <td>75</td>\n",
       "      <td>2.22538</td>\n",
       "      <td>1.05048</td>\n",
       "      <td>learnlet_dynamic_32_dynamic_soft_thresholding_...</td>\n",
       "      <td>Learnlets</td>\n",
       "      <td>32</td>\n",
       "      <td>47K</td>\n",
       "    </tr>\n",
       "    <tr>\n",
       "      <th>79</th>\n",
       "      <td>75</td>\n",
       "      <td>2.23102</td>\n",
       "      <td>1.0664</td>\n",
       "      <td>learnlet_dynamic_64_dynamic_soft_thresholding_...</td>\n",
       "      <td>Learnlets</td>\n",
       "      <td>64</td>\n",
       "      <td>94K</td>\n",
       "    </tr>\n",
       "  </tbody>\n",
       "</table>\n",
       "<p>80 rows × 7 columns</p>\n",
       "</div>"
      ],
      "text/plain": [
       "   $\\sigma$ Ratio over original PSNR psnr-std-dev  \\\n",
       "0         5                  1.10472     0.920384   \n",
       "1         5                  1.09307     0.925918   \n",
       "2         5                  1.09924     0.917801   \n",
       "3         5                  1.03707      1.15755   \n",
       "4         5                  1.07468     0.942066   \n",
       "..      ...                      ...          ...   \n",
       "75       75                   2.2374       1.0876   \n",
       "76       75                  2.23662      1.08279   \n",
       "77       75                  2.21664      1.02484   \n",
       "78       75                  2.22538      1.05048   \n",
       "79       75                  2.23102       1.0664   \n",
       "\n",
       "                                           model_name $\\bf{Model}$  \\\n",
       "0   unet_64_dynamic_st_bsd500_0.0_55.0_None_158212...        U-net   \n",
       "1   unet_16_dynamic_st_bsd500_0.0_55.0_None_158175...        U-net   \n",
       "2   unet_32_dynamic_st_bsd500_0.0_55.0_None_158212...        U-net   \n",
       "3   unet_4_dynamic_st_bsd500_0.0_55.0_None_1581751880        U-net   \n",
       "4   unet_8_dynamic_st_bsd500_0.0_55.0_None_1581751880        U-net   \n",
       "..                                                ...          ...   \n",
       "75         learnlet_dynamic_st_bsd500_0_55_1580806694    Learnlets   \n",
       "76  learnlet_dynamic_128_dynamic_soft_thresholding...    Learnlets   \n",
       "77  learnlet_dynamic_16_dynamic_soft_thresholding_...    Learnlets   \n",
       "78  learnlet_dynamic_32_dynamic_soft_thresholding_...    Learnlets   \n",
       "79  learnlet_dynamic_64_dynamic_soft_thresholding_...    Learnlets   \n",
       "\n",
       "   $\\bf{Nb filters}$ $\\bf{Nb params}$  \n",
       "0                 64              31M  \n",
       "1                 16               2M  \n",
       "2                 32               8M  \n",
       "3                  4             122K  \n",
       "4                  8             486K  \n",
       "..               ...              ...  \n",
       "75               256             372K  \n",
       "76               128             186K  \n",
       "77                16              24K  \n",
       "78                32              47K  \n",
       "79                64              94K  \n",
       "\n",
       "[80 rows x 7 columns]"
      ]
     },
     "execution_count": 20,
     "metadata": {},
     "output_type": "execute_result"
    }
   ],
   "source": [
    "relative_to_original = True\n",
    "\n",
    "model_family_str = r'$\\bf{Model}$'\n",
    "n_filters_str = r'$\\bf{Nb filters}$'\n",
    "n_params_str = r'$\\bf{Nb params}$'\n",
    "noise_std_str = r'$\\sigma$'\n",
    "psnr_str = 'Ratio over original PSNR'\n",
    "# PSNR to plot\n",
    "psnr_to_plot = pd.DataFrame(\n",
    "    columns=[noise_std_str, psnr_str, 'psnr-std-dev', 'model_name', model_family_str, n_filters_str, n_params_str]\n",
    ")\n",
    "\n",
    "def from_name_to_family(model_name):\n",
    "    if 'learnlet' in model_name:\n",
    "        return 'Learnlets'\n",
    "    elif 'unet' in model_name:\n",
    "        return 'U-net'\n",
    "    else:\n",
    "        return 'Original'\n",
    "    \n",
    "def from_model_name_to_n_filters_learnlets(model_name):\n",
    "    return from_run_id_to_n_filters_learnlets(model_name)\n",
    "\n",
    "def from_model_name_to_n_filters_unets(model_name):\n",
    "    return from_run_id_to_n_filters_unets(model_name)\n",
    "\n",
    "family_model_to_color = {\n",
    "    'U-net': (0.2823529411764706, 0.47058823529411764, 0.8156862745098039),\n",
    "    'Learnlets': (0.9333333333333333, 0.5215686274509804, 0.2901960784313726),\n",
    "    'Original': (0.41568627450980394, 0.8, 0.39215686274509803),\n",
    "}\n",
    "index = 0\n",
    "orig_psnrs = {}\n",
    "for i_noise, (noise_std, metrics) in enumerate(noise_std_metrics.items()):\n",
    "    for j_model, (name, m) in enumerate(metrics):\n",
    "        if relative_to_original and name == 'original':\n",
    "            orig_psnrs[noise_std] = m.metrics['PSNR'].mean()\n",
    "        else:\n",
    "            psnr_to_plot.loc[index, noise_std_str] = noise_std\n",
    "            psnr_to_plot.loc[index, psnr_str] = m.metrics['PSNR'].mean()\n",
    "            psnr_to_plot.loc[index, 'psnr-std-dev'] = m.metrics['PSNR'].stddev() / 2\n",
    "            psnr_to_plot.loc[index, 'model_name'] = name\n",
    "            psnr_to_plot.loc[index, n_params_str] = millify(params_count[name])\n",
    "            if 'unet' in name:\n",
    "                psnr_to_plot.loc[index, n_filters_str] = from_model_name_to_n_filters_unets(name)\n",
    "            else:\n",
    "                psnr_to_plot.loc[index, n_filters_str] = from_model_name_to_n_filters_learnlets(name)\n",
    "            psnr_to_plot.loc[index, model_family_str] = from_name_to_family(name)\n",
    "            index += 1\n",
    "    \n",
    "\n",
    "if relative_to_original:\n",
    "    for noise_std, orig_psnr in orig_psnrs.items():\n",
    "        psnr_to_plot.loc[psnr_to_plot[noise_std_str] == noise_std, psnr_str] = psnr_to_plot[psnr_to_plot[noise_std_str] == noise_std][psnr_str] / orig_psnr\n",
    "    \n",
    "psnr_to_plot"
   ]
  },
  {
   "cell_type": "code",
   "execution_count": 21,
   "metadata": {},
   "outputs": [],
   "source": [
    "n_params_order_unet = [\n",
    "    '31M', \n",
    "    '8M',\n",
    "    '2M', \n",
    "    '486K', \n",
    "    '122K', \n",
    "]\n",
    "\n",
    "n_params_order_learnlet = [\n",
    "    '372K', \n",
    "    '186K', \n",
    "    '94K'\n",
    "    '47K', \n",
    "    '24K', \n",
    "]"
   ]
  },
  {
   "cell_type": "code",
   "execution_count": 27,
   "metadata": {
    "scrolled": false
   },
   "outputs": [
    {
     "data": {
      "application/javascript": [
       "/* Put everything inside the global mpl namespace */\n",
       "window.mpl = {};\n",
       "\n",
       "\n",
       "mpl.get_websocket_type = function() {\n",
       "    if (typeof(WebSocket) !== 'undefined') {\n",
       "        return WebSocket;\n",
       "    } else if (typeof(MozWebSocket) !== 'undefined') {\n",
       "        return MozWebSocket;\n",
       "    } else {\n",
       "        alert('Your browser does not have WebSocket support. ' +\n",
       "              'Please try Chrome, Safari or Firefox ≥ 6. ' +\n",
       "              'Firefox 4 and 5 are also supported but you ' +\n",
       "              'have to enable WebSockets in about:config.');\n",
       "    };\n",
       "}\n",
       "\n",
       "mpl.figure = function(figure_id, websocket, ondownload, parent_element) {\n",
       "    this.id = figure_id;\n",
       "\n",
       "    this.ws = websocket;\n",
       "\n",
       "    this.supports_binary = (this.ws.binaryType != undefined);\n",
       "\n",
       "    if (!this.supports_binary) {\n",
       "        var warnings = document.getElementById(\"mpl-warnings\");\n",
       "        if (warnings) {\n",
       "            warnings.style.display = 'block';\n",
       "            warnings.textContent = (\n",
       "                \"This browser does not support binary websocket messages. \" +\n",
       "                    \"Performance may be slow.\");\n",
       "        }\n",
       "    }\n",
       "\n",
       "    this.imageObj = new Image();\n",
       "\n",
       "    this.context = undefined;\n",
       "    this.message = undefined;\n",
       "    this.canvas = undefined;\n",
       "    this.rubberband_canvas = undefined;\n",
       "    this.rubberband_context = undefined;\n",
       "    this.format_dropdown = undefined;\n",
       "\n",
       "    this.image_mode = 'full';\n",
       "\n",
       "    this.root = $('<div/>');\n",
       "    this._root_extra_style(this.root)\n",
       "    this.root.attr('style', 'display: inline-block');\n",
       "\n",
       "    $(parent_element).append(this.root);\n",
       "\n",
       "    this._init_header(this);\n",
       "    this._init_canvas(this);\n",
       "    this._init_toolbar(this);\n",
       "\n",
       "    var fig = this;\n",
       "\n",
       "    this.waiting = false;\n",
       "\n",
       "    this.ws.onopen =  function () {\n",
       "            fig.send_message(\"supports_binary\", {value: fig.supports_binary});\n",
       "            fig.send_message(\"send_image_mode\", {});\n",
       "            if (mpl.ratio != 1) {\n",
       "                fig.send_message(\"set_dpi_ratio\", {'dpi_ratio': mpl.ratio});\n",
       "            }\n",
       "            fig.send_message(\"refresh\", {});\n",
       "        }\n",
       "\n",
       "    this.imageObj.onload = function() {\n",
       "            if (fig.image_mode == 'full') {\n",
       "                // Full images could contain transparency (where diff images\n",
       "                // almost always do), so we need to clear the canvas so that\n",
       "                // there is no ghosting.\n",
       "                fig.context.clearRect(0, 0, fig.canvas.width, fig.canvas.height);\n",
       "            }\n",
       "            fig.context.drawImage(fig.imageObj, 0, 0);\n",
       "        };\n",
       "\n",
       "    this.imageObj.onunload = function() {\n",
       "        fig.ws.close();\n",
       "    }\n",
       "\n",
       "    this.ws.onmessage = this._make_on_message_function(this);\n",
       "\n",
       "    this.ondownload = ondownload;\n",
       "}\n",
       "\n",
       "mpl.figure.prototype._init_header = function() {\n",
       "    var titlebar = $(\n",
       "        '<div class=\"ui-dialog-titlebar ui-widget-header ui-corner-all ' +\n",
       "        'ui-helper-clearfix\"/>');\n",
       "    var titletext = $(\n",
       "        '<div class=\"ui-dialog-title\" style=\"width: 100%; ' +\n",
       "        'text-align: center; padding: 3px;\"/>');\n",
       "    titlebar.append(titletext)\n",
       "    this.root.append(titlebar);\n",
       "    this.header = titletext[0];\n",
       "}\n",
       "\n",
       "\n",
       "\n",
       "mpl.figure.prototype._canvas_extra_style = function(canvas_div) {\n",
       "\n",
       "}\n",
       "\n",
       "\n",
       "mpl.figure.prototype._root_extra_style = function(canvas_div) {\n",
       "\n",
       "}\n",
       "\n",
       "mpl.figure.prototype._init_canvas = function() {\n",
       "    var fig = this;\n",
       "\n",
       "    var canvas_div = $('<div/>');\n",
       "\n",
       "    canvas_div.attr('style', 'position: relative; clear: both; outline: 0');\n",
       "\n",
       "    function canvas_keyboard_event(event) {\n",
       "        return fig.key_event(event, event['data']);\n",
       "    }\n",
       "\n",
       "    canvas_div.keydown('key_press', canvas_keyboard_event);\n",
       "    canvas_div.keyup('key_release', canvas_keyboard_event);\n",
       "    this.canvas_div = canvas_div\n",
       "    this._canvas_extra_style(canvas_div)\n",
       "    this.root.append(canvas_div);\n",
       "\n",
       "    var canvas = $('<canvas/>');\n",
       "    canvas.addClass('mpl-canvas');\n",
       "    canvas.attr('style', \"left: 0; top: 0; z-index: 0; outline: 0\")\n",
       "\n",
       "    this.canvas = canvas[0];\n",
       "    this.context = canvas[0].getContext(\"2d\");\n",
       "\n",
       "    var backingStore = this.context.backingStorePixelRatio ||\n",
       "\tthis.context.webkitBackingStorePixelRatio ||\n",
       "\tthis.context.mozBackingStorePixelRatio ||\n",
       "\tthis.context.msBackingStorePixelRatio ||\n",
       "\tthis.context.oBackingStorePixelRatio ||\n",
       "\tthis.context.backingStorePixelRatio || 1;\n",
       "\n",
       "    mpl.ratio = (window.devicePixelRatio || 1) / backingStore;\n",
       "\n",
       "    var rubberband = $('<canvas/>');\n",
       "    rubberband.attr('style', \"position: absolute; left: 0; top: 0; z-index: 1;\")\n",
       "\n",
       "    var pass_mouse_events = true;\n",
       "\n",
       "    canvas_div.resizable({\n",
       "        start: function(event, ui) {\n",
       "            pass_mouse_events = false;\n",
       "        },\n",
       "        resize: function(event, ui) {\n",
       "            fig.request_resize(ui.size.width, ui.size.height);\n",
       "        },\n",
       "        stop: function(event, ui) {\n",
       "            pass_mouse_events = true;\n",
       "            fig.request_resize(ui.size.width, ui.size.height);\n",
       "        },\n",
       "    });\n",
       "\n",
       "    function mouse_event_fn(event) {\n",
       "        if (pass_mouse_events)\n",
       "            return fig.mouse_event(event, event['data']);\n",
       "    }\n",
       "\n",
       "    rubberband.mousedown('button_press', mouse_event_fn);\n",
       "    rubberband.mouseup('button_release', mouse_event_fn);\n",
       "    // Throttle sequential mouse events to 1 every 20ms.\n",
       "    rubberband.mousemove('motion_notify', mouse_event_fn);\n",
       "\n",
       "    rubberband.mouseenter('figure_enter', mouse_event_fn);\n",
       "    rubberband.mouseleave('figure_leave', mouse_event_fn);\n",
       "\n",
       "    canvas_div.on(\"wheel\", function (event) {\n",
       "        event = event.originalEvent;\n",
       "        event['data'] = 'scroll'\n",
       "        if (event.deltaY < 0) {\n",
       "            event.step = 1;\n",
       "        } else {\n",
       "            event.step = -1;\n",
       "        }\n",
       "        mouse_event_fn(event);\n",
       "    });\n",
       "\n",
       "    canvas_div.append(canvas);\n",
       "    canvas_div.append(rubberband);\n",
       "\n",
       "    this.rubberband = rubberband;\n",
       "    this.rubberband_canvas = rubberband[0];\n",
       "    this.rubberband_context = rubberband[0].getContext(\"2d\");\n",
       "    this.rubberband_context.strokeStyle = \"#000000\";\n",
       "\n",
       "    this._resize_canvas = function(width, height) {\n",
       "        // Keep the size of the canvas, canvas container, and rubber band\n",
       "        // canvas in synch.\n",
       "        canvas_div.css('width', width)\n",
       "        canvas_div.css('height', height)\n",
       "\n",
       "        canvas.attr('width', width * mpl.ratio);\n",
       "        canvas.attr('height', height * mpl.ratio);\n",
       "        canvas.attr('style', 'width: ' + width + 'px; height: ' + height + 'px;');\n",
       "\n",
       "        rubberband.attr('width', width);\n",
       "        rubberband.attr('height', height);\n",
       "    }\n",
       "\n",
       "    // Set the figure to an initial 600x600px, this will subsequently be updated\n",
       "    // upon first draw.\n",
       "    this._resize_canvas(600, 600);\n",
       "\n",
       "    // Disable right mouse context menu.\n",
       "    $(this.rubberband_canvas).bind(\"contextmenu\",function(e){\n",
       "        return false;\n",
       "    });\n",
       "\n",
       "    function set_focus () {\n",
       "        canvas.focus();\n",
       "        canvas_div.focus();\n",
       "    }\n",
       "\n",
       "    window.setTimeout(set_focus, 100);\n",
       "}\n",
       "\n",
       "mpl.figure.prototype._init_toolbar = function() {\n",
       "    var fig = this;\n",
       "\n",
       "    var nav_element = $('<div/>');\n",
       "    nav_element.attr('style', 'width: 100%');\n",
       "    this.root.append(nav_element);\n",
       "\n",
       "    // Define a callback function for later on.\n",
       "    function toolbar_event(event) {\n",
       "        return fig.toolbar_button_onclick(event['data']);\n",
       "    }\n",
       "    function toolbar_mouse_event(event) {\n",
       "        return fig.toolbar_button_onmouseover(event['data']);\n",
       "    }\n",
       "\n",
       "    for(var toolbar_ind in mpl.toolbar_items) {\n",
       "        var name = mpl.toolbar_items[toolbar_ind][0];\n",
       "        var tooltip = mpl.toolbar_items[toolbar_ind][1];\n",
       "        var image = mpl.toolbar_items[toolbar_ind][2];\n",
       "        var method_name = mpl.toolbar_items[toolbar_ind][3];\n",
       "\n",
       "        if (!name) {\n",
       "            // put a spacer in here.\n",
       "            continue;\n",
       "        }\n",
       "        var button = $('<button/>');\n",
       "        button.addClass('ui-button ui-widget ui-state-default ui-corner-all ' +\n",
       "                        'ui-button-icon-only');\n",
       "        button.attr('role', 'button');\n",
       "        button.attr('aria-disabled', 'false');\n",
       "        button.click(method_name, toolbar_event);\n",
       "        button.mouseover(tooltip, toolbar_mouse_event);\n",
       "\n",
       "        var icon_img = $('<span/>');\n",
       "        icon_img.addClass('ui-button-icon-primary ui-icon');\n",
       "        icon_img.addClass(image);\n",
       "        icon_img.addClass('ui-corner-all');\n",
       "\n",
       "        var tooltip_span = $('<span/>');\n",
       "        tooltip_span.addClass('ui-button-text');\n",
       "        tooltip_span.html(tooltip);\n",
       "\n",
       "        button.append(icon_img);\n",
       "        button.append(tooltip_span);\n",
       "\n",
       "        nav_element.append(button);\n",
       "    }\n",
       "\n",
       "    var fmt_picker_span = $('<span/>');\n",
       "\n",
       "    var fmt_picker = $('<select/>');\n",
       "    fmt_picker.addClass('mpl-toolbar-option ui-widget ui-widget-content');\n",
       "    fmt_picker_span.append(fmt_picker);\n",
       "    nav_element.append(fmt_picker_span);\n",
       "    this.format_dropdown = fmt_picker[0];\n",
       "\n",
       "    for (var ind in mpl.extensions) {\n",
       "        var fmt = mpl.extensions[ind];\n",
       "        var option = $(\n",
       "            '<option/>', {selected: fmt === mpl.default_extension}).html(fmt);\n",
       "        fmt_picker.append(option);\n",
       "    }\n",
       "\n",
       "    // Add hover states to the ui-buttons\n",
       "    $( \".ui-button\" ).hover(\n",
       "        function() { $(this).addClass(\"ui-state-hover\");},\n",
       "        function() { $(this).removeClass(\"ui-state-hover\");}\n",
       "    );\n",
       "\n",
       "    var status_bar = $('<span class=\"mpl-message\"/>');\n",
       "    nav_element.append(status_bar);\n",
       "    this.message = status_bar[0];\n",
       "}\n",
       "\n",
       "mpl.figure.prototype.request_resize = function(x_pixels, y_pixels) {\n",
       "    // Request matplotlib to resize the figure. Matplotlib will then trigger a resize in the client,\n",
       "    // which will in turn request a refresh of the image.\n",
       "    this.send_message('resize', {'width': x_pixels, 'height': y_pixels});\n",
       "}\n",
       "\n",
       "mpl.figure.prototype.send_message = function(type, properties) {\n",
       "    properties['type'] = type;\n",
       "    properties['figure_id'] = this.id;\n",
       "    this.ws.send(JSON.stringify(properties));\n",
       "}\n",
       "\n",
       "mpl.figure.prototype.send_draw_message = function() {\n",
       "    if (!this.waiting) {\n",
       "        this.waiting = true;\n",
       "        this.ws.send(JSON.stringify({type: \"draw\", figure_id: this.id}));\n",
       "    }\n",
       "}\n",
       "\n",
       "\n",
       "mpl.figure.prototype.handle_save = function(fig, msg) {\n",
       "    var format_dropdown = fig.format_dropdown;\n",
       "    var format = format_dropdown.options[format_dropdown.selectedIndex].value;\n",
       "    fig.ondownload(fig, format);\n",
       "}\n",
       "\n",
       "\n",
       "mpl.figure.prototype.handle_resize = function(fig, msg) {\n",
       "    var size = msg['size'];\n",
       "    if (size[0] != fig.canvas.width || size[1] != fig.canvas.height) {\n",
       "        fig._resize_canvas(size[0], size[1]);\n",
       "        fig.send_message(\"refresh\", {});\n",
       "    };\n",
       "}\n",
       "\n",
       "mpl.figure.prototype.handle_rubberband = function(fig, msg) {\n",
       "    var x0 = msg['x0'] / mpl.ratio;\n",
       "    var y0 = (fig.canvas.height - msg['y0']) / mpl.ratio;\n",
       "    var x1 = msg['x1'] / mpl.ratio;\n",
       "    var y1 = (fig.canvas.height - msg['y1']) / mpl.ratio;\n",
       "    x0 = Math.floor(x0) + 0.5;\n",
       "    y0 = Math.floor(y0) + 0.5;\n",
       "    x1 = Math.floor(x1) + 0.5;\n",
       "    y1 = Math.floor(y1) + 0.5;\n",
       "    var min_x = Math.min(x0, x1);\n",
       "    var min_y = Math.min(y0, y1);\n",
       "    var width = Math.abs(x1 - x0);\n",
       "    var height = Math.abs(y1 - y0);\n",
       "\n",
       "    fig.rubberband_context.clearRect(\n",
       "        0, 0, fig.canvas.width / mpl.ratio, fig.canvas.height / mpl.ratio);\n",
       "\n",
       "    fig.rubberband_context.strokeRect(min_x, min_y, width, height);\n",
       "}\n",
       "\n",
       "mpl.figure.prototype.handle_figure_label = function(fig, msg) {\n",
       "    // Updates the figure title.\n",
       "    fig.header.textContent = msg['label'];\n",
       "}\n",
       "\n",
       "mpl.figure.prototype.handle_cursor = function(fig, msg) {\n",
       "    var cursor = msg['cursor'];\n",
       "    switch(cursor)\n",
       "    {\n",
       "    case 0:\n",
       "        cursor = 'pointer';\n",
       "        break;\n",
       "    case 1:\n",
       "        cursor = 'default';\n",
       "        break;\n",
       "    case 2:\n",
       "        cursor = 'crosshair';\n",
       "        break;\n",
       "    case 3:\n",
       "        cursor = 'move';\n",
       "        break;\n",
       "    }\n",
       "    fig.rubberband_canvas.style.cursor = cursor;\n",
       "}\n",
       "\n",
       "mpl.figure.prototype.handle_message = function(fig, msg) {\n",
       "    fig.message.textContent = msg['message'];\n",
       "}\n",
       "\n",
       "mpl.figure.prototype.handle_draw = function(fig, msg) {\n",
       "    // Request the server to send over a new figure.\n",
       "    fig.send_draw_message();\n",
       "}\n",
       "\n",
       "mpl.figure.prototype.handle_image_mode = function(fig, msg) {\n",
       "    fig.image_mode = msg['mode'];\n",
       "}\n",
       "\n",
       "mpl.figure.prototype.updated_canvas_event = function() {\n",
       "    // Called whenever the canvas gets updated.\n",
       "    this.send_message(\"ack\", {});\n",
       "}\n",
       "\n",
       "// A function to construct a web socket function for onmessage handling.\n",
       "// Called in the figure constructor.\n",
       "mpl.figure.prototype._make_on_message_function = function(fig) {\n",
       "    return function socket_on_message(evt) {\n",
       "        if (evt.data instanceof Blob) {\n",
       "            /* FIXME: We get \"Resource interpreted as Image but\n",
       "             * transferred with MIME type text/plain:\" errors on\n",
       "             * Chrome.  But how to set the MIME type?  It doesn't seem\n",
       "             * to be part of the websocket stream */\n",
       "            evt.data.type = \"image/png\";\n",
       "\n",
       "            /* Free the memory for the previous frames */\n",
       "            if (fig.imageObj.src) {\n",
       "                (window.URL || window.webkitURL).revokeObjectURL(\n",
       "                    fig.imageObj.src);\n",
       "            }\n",
       "\n",
       "            fig.imageObj.src = (window.URL || window.webkitURL).createObjectURL(\n",
       "                evt.data);\n",
       "            fig.updated_canvas_event();\n",
       "            fig.waiting = false;\n",
       "            return;\n",
       "        }\n",
       "        else if (typeof evt.data === 'string' && evt.data.slice(0, 21) == \"data:image/png;base64\") {\n",
       "            fig.imageObj.src = evt.data;\n",
       "            fig.updated_canvas_event();\n",
       "            fig.waiting = false;\n",
       "            return;\n",
       "        }\n",
       "\n",
       "        var msg = JSON.parse(evt.data);\n",
       "        var msg_type = msg['type'];\n",
       "\n",
       "        // Call the  \"handle_{type}\" callback, which takes\n",
       "        // the figure and JSON message as its only arguments.\n",
       "        try {\n",
       "            var callback = fig[\"handle_\" + msg_type];\n",
       "        } catch (e) {\n",
       "            console.log(\"No handler for the '\" + msg_type + \"' message type: \", msg);\n",
       "            return;\n",
       "        }\n",
       "\n",
       "        if (callback) {\n",
       "            try {\n",
       "                // console.log(\"Handling '\" + msg_type + \"' message: \", msg);\n",
       "                callback(fig, msg);\n",
       "            } catch (e) {\n",
       "                console.log(\"Exception inside the 'handler_\" + msg_type + \"' callback:\", e, e.stack, msg);\n",
       "            }\n",
       "        }\n",
       "    };\n",
       "}\n",
       "\n",
       "// from http://stackoverflow.com/questions/1114465/getting-mouse-location-in-canvas\n",
       "mpl.findpos = function(e) {\n",
       "    //this section is from http://www.quirksmode.org/js/events_properties.html\n",
       "    var targ;\n",
       "    if (!e)\n",
       "        e = window.event;\n",
       "    if (e.target)\n",
       "        targ = e.target;\n",
       "    else if (e.srcElement)\n",
       "        targ = e.srcElement;\n",
       "    if (targ.nodeType == 3) // defeat Safari bug\n",
       "        targ = targ.parentNode;\n",
       "\n",
       "    // jQuery normalizes the pageX and pageY\n",
       "    // pageX,Y are the mouse positions relative to the document\n",
       "    // offset() returns the position of the element relative to the document\n",
       "    var x = e.pageX - $(targ).offset().left;\n",
       "    var y = e.pageY - $(targ).offset().top;\n",
       "\n",
       "    return {\"x\": x, \"y\": y};\n",
       "};\n",
       "\n",
       "/*\n",
       " * return a copy of an object with only non-object keys\n",
       " * we need this to avoid circular references\n",
       " * http://stackoverflow.com/a/24161582/3208463\n",
       " */\n",
       "function simpleKeys (original) {\n",
       "  return Object.keys(original).reduce(function (obj, key) {\n",
       "    if (typeof original[key] !== 'object')\n",
       "        obj[key] = original[key]\n",
       "    return obj;\n",
       "  }, {});\n",
       "}\n",
       "\n",
       "mpl.figure.prototype.mouse_event = function(event, name) {\n",
       "    var canvas_pos = mpl.findpos(event)\n",
       "\n",
       "    if (name === 'button_press')\n",
       "    {\n",
       "        this.canvas.focus();\n",
       "        this.canvas_div.focus();\n",
       "    }\n",
       "\n",
       "    var x = canvas_pos.x * mpl.ratio;\n",
       "    var y = canvas_pos.y * mpl.ratio;\n",
       "\n",
       "    this.send_message(name, {x: x, y: y, button: event.button,\n",
       "                             step: event.step,\n",
       "                             guiEvent: simpleKeys(event)});\n",
       "\n",
       "    /* This prevents the web browser from automatically changing to\n",
       "     * the text insertion cursor when the button is pressed.  We want\n",
       "     * to control all of the cursor setting manually through the\n",
       "     * 'cursor' event from matplotlib */\n",
       "    event.preventDefault();\n",
       "    return false;\n",
       "}\n",
       "\n",
       "mpl.figure.prototype._key_event_extra = function(event, name) {\n",
       "    // Handle any extra behaviour associated with a key event\n",
       "}\n",
       "\n",
       "mpl.figure.prototype.key_event = function(event, name) {\n",
       "\n",
       "    // Prevent repeat events\n",
       "    if (name == 'key_press')\n",
       "    {\n",
       "        if (event.which === this._key)\n",
       "            return;\n",
       "        else\n",
       "            this._key = event.which;\n",
       "    }\n",
       "    if (name == 'key_release')\n",
       "        this._key = null;\n",
       "\n",
       "    var value = '';\n",
       "    if (event.ctrlKey && event.which != 17)\n",
       "        value += \"ctrl+\";\n",
       "    if (event.altKey && event.which != 18)\n",
       "        value += \"alt+\";\n",
       "    if (event.shiftKey && event.which != 16)\n",
       "        value += \"shift+\";\n",
       "\n",
       "    value += 'k';\n",
       "    value += event.which.toString();\n",
       "\n",
       "    this._key_event_extra(event, name);\n",
       "\n",
       "    this.send_message(name, {key: value,\n",
       "                             guiEvent: simpleKeys(event)});\n",
       "    return false;\n",
       "}\n",
       "\n",
       "mpl.figure.prototype.toolbar_button_onclick = function(name) {\n",
       "    if (name == 'download') {\n",
       "        this.handle_save(this, null);\n",
       "    } else {\n",
       "        this.send_message(\"toolbar_button\", {name: name});\n",
       "    }\n",
       "};\n",
       "\n",
       "mpl.figure.prototype.toolbar_button_onmouseover = function(tooltip) {\n",
       "    this.message.textContent = tooltip;\n",
       "};\n",
       "mpl.toolbar_items = [[\"Home\", \"Reset original view\", \"fa fa-home icon-home\", \"home\"], [\"Back\", \"Back to previous view\", \"fa fa-arrow-left icon-arrow-left\", \"back\"], [\"Forward\", \"Forward to next view\", \"fa fa-arrow-right icon-arrow-right\", \"forward\"], [\"\", \"\", \"\", \"\"], [\"Pan\", \"Pan axes with left mouse, zoom with right\", \"fa fa-arrows icon-move\", \"pan\"], [\"Zoom\", \"Zoom to rectangle\", \"fa fa-square-o icon-check-empty\", \"zoom\"], [\"\", \"\", \"\", \"\"], [\"Download\", \"Download plot\", \"fa fa-floppy-o icon-save\", \"download\"]];\n",
       "\n",
       "mpl.extensions = [\"eps\", \"jpeg\", \"pdf\", \"png\", \"ps\", \"raw\", \"svg\", \"tif\"];\n",
       "\n",
       "mpl.default_extension = \"png\";var comm_websocket_adapter = function(comm) {\n",
       "    // Create a \"websocket\"-like object which calls the given IPython comm\n",
       "    // object with the appropriate methods. Currently this is a non binary\n",
       "    // socket, so there is still some room for performance tuning.\n",
       "    var ws = {};\n",
       "\n",
       "    ws.close = function() {\n",
       "        comm.close()\n",
       "    };\n",
       "    ws.send = function(m) {\n",
       "        //console.log('sending', m);\n",
       "        comm.send(m);\n",
       "    };\n",
       "    // Register the callback with on_msg.\n",
       "    comm.on_msg(function(msg) {\n",
       "        //console.log('receiving', msg['content']['data'], msg);\n",
       "        // Pass the mpl event to the overridden (by mpl) onmessage function.\n",
       "        ws.onmessage(msg['content']['data'])\n",
       "    });\n",
       "    return ws;\n",
       "}\n",
       "\n",
       "mpl.mpl_figure_comm = function(comm, msg) {\n",
       "    // This is the function which gets called when the mpl process\n",
       "    // starts-up an IPython Comm through the \"matplotlib\" channel.\n",
       "\n",
       "    var id = msg.content.data.id;\n",
       "    // Get hold of the div created by the display call when the Comm\n",
       "    // socket was opened in Python.\n",
       "    var element = $(\"#\" + id);\n",
       "    var ws_proxy = comm_websocket_adapter(comm)\n",
       "\n",
       "    function ondownload(figure, format) {\n",
       "        window.open(figure.imageObj.src);\n",
       "    }\n",
       "\n",
       "    var fig = new mpl.figure(id, ws_proxy,\n",
       "                           ondownload,\n",
       "                           element.get(0));\n",
       "\n",
       "    // Call onopen now - mpl needs it, as it is assuming we've passed it a real\n",
       "    // web socket which is closed, not our websocket->open comm proxy.\n",
       "    ws_proxy.onopen();\n",
       "\n",
       "    fig.parent_element = element.get(0);\n",
       "    fig.cell_info = mpl.find_output_cell(\"<div id='\" + id + \"'></div>\");\n",
       "    if (!fig.cell_info) {\n",
       "        console.error(\"Failed to find cell for figure\", id, fig);\n",
       "        return;\n",
       "    }\n",
       "\n",
       "    var output_index = fig.cell_info[2]\n",
       "    var cell = fig.cell_info[0];\n",
       "\n",
       "};\n",
       "\n",
       "mpl.figure.prototype.handle_close = function(fig, msg) {\n",
       "    var width = fig.canvas.width/mpl.ratio\n",
       "    fig.root.unbind('remove')\n",
       "\n",
       "    // Update the output cell to use the data from the current canvas.\n",
       "    fig.push_to_output();\n",
       "    var dataURL = fig.canvas.toDataURL();\n",
       "    // Re-enable the keyboard manager in IPython - without this line, in FF,\n",
       "    // the notebook keyboard shortcuts fail.\n",
       "    IPython.keyboard_manager.enable()\n",
       "    $(fig.parent_element).html('<img src=\"' + dataURL + '\" width=\"' + width + '\">');\n",
       "    fig.close_ws(fig, msg);\n",
       "}\n",
       "\n",
       "mpl.figure.prototype.close_ws = function(fig, msg){\n",
       "    fig.send_message('closing', msg);\n",
       "    // fig.ws.close()\n",
       "}\n",
       "\n",
       "mpl.figure.prototype.push_to_output = function(remove_interactive) {\n",
       "    // Turn the data on the canvas into data in the output cell.\n",
       "    var width = this.canvas.width/mpl.ratio\n",
       "    var dataURL = this.canvas.toDataURL();\n",
       "    this.cell_info[1]['text/html'] = '<img src=\"' + dataURL + '\" width=\"' + width + '\">';\n",
       "}\n",
       "\n",
       "mpl.figure.prototype.updated_canvas_event = function() {\n",
       "    // Tell IPython that the notebook contents must change.\n",
       "    IPython.notebook.set_dirty(true);\n",
       "    this.send_message(\"ack\", {});\n",
       "    var fig = this;\n",
       "    // Wait a second, then push the new image to the DOM so\n",
       "    // that it is saved nicely (might be nice to debounce this).\n",
       "    setTimeout(function () { fig.push_to_output() }, 1000);\n",
       "}\n",
       "\n",
       "mpl.figure.prototype._init_toolbar = function() {\n",
       "    var fig = this;\n",
       "\n",
       "    var nav_element = $('<div/>');\n",
       "    nav_element.attr('style', 'width: 100%');\n",
       "    this.root.append(nav_element);\n",
       "\n",
       "    // Define a callback function for later on.\n",
       "    function toolbar_event(event) {\n",
       "        return fig.toolbar_button_onclick(event['data']);\n",
       "    }\n",
       "    function toolbar_mouse_event(event) {\n",
       "        return fig.toolbar_button_onmouseover(event['data']);\n",
       "    }\n",
       "\n",
       "    for(var toolbar_ind in mpl.toolbar_items){\n",
       "        var name = mpl.toolbar_items[toolbar_ind][0];\n",
       "        var tooltip = mpl.toolbar_items[toolbar_ind][1];\n",
       "        var image = mpl.toolbar_items[toolbar_ind][2];\n",
       "        var method_name = mpl.toolbar_items[toolbar_ind][3];\n",
       "\n",
       "        if (!name) { continue; };\n",
       "\n",
       "        var button = $('<button class=\"btn btn-default\" href=\"#\" title=\"' + name + '\"><i class=\"fa ' + image + ' fa-lg\"></i></button>');\n",
       "        button.click(method_name, toolbar_event);\n",
       "        button.mouseover(tooltip, toolbar_mouse_event);\n",
       "        nav_element.append(button);\n",
       "    }\n",
       "\n",
       "    // Add the status bar.\n",
       "    var status_bar = $('<span class=\"mpl-message\" style=\"text-align:right; float: right;\"/>');\n",
       "    nav_element.append(status_bar);\n",
       "    this.message = status_bar[0];\n",
       "\n",
       "    // Add the close button to the window.\n",
       "    var buttongrp = $('<div class=\"btn-group inline pull-right\"></div>');\n",
       "    var button = $('<button class=\"btn btn-mini btn-primary\" href=\"#\" title=\"Stop Interaction\"><i class=\"fa fa-power-off icon-remove icon-large\"></i></button>');\n",
       "    button.click(function (evt) { fig.handle_close(fig, {}); } );\n",
       "    button.mouseover('Stop Interaction', toolbar_mouse_event);\n",
       "    buttongrp.append(button);\n",
       "    var titlebar = this.root.find($('.ui-dialog-titlebar'));\n",
       "    titlebar.prepend(buttongrp);\n",
       "}\n",
       "\n",
       "mpl.figure.prototype._root_extra_style = function(el){\n",
       "    var fig = this\n",
       "    el.on(\"remove\", function(){\n",
       "\tfig.close_ws(fig, {});\n",
       "    });\n",
       "}\n",
       "\n",
       "mpl.figure.prototype._canvas_extra_style = function(el){\n",
       "    // this is important to make the div 'focusable\n",
       "    el.attr('tabindex', 0)\n",
       "    // reach out to IPython and tell the keyboard manager to turn it's self\n",
       "    // off when our div gets focus\n",
       "\n",
       "    // location in version 3\n",
       "    if (IPython.notebook.keyboard_manager) {\n",
       "        IPython.notebook.keyboard_manager.register_events(el);\n",
       "    }\n",
       "    else {\n",
       "        // location in version 2\n",
       "        IPython.keyboard_manager.register_events(el);\n",
       "    }\n",
       "\n",
       "}\n",
       "\n",
       "mpl.figure.prototype._key_event_extra = function(event, name) {\n",
       "    var manager = IPython.notebook.keyboard_manager;\n",
       "    if (!manager)\n",
       "        manager = IPython.keyboard_manager;\n",
       "\n",
       "    // Check for shift+enter\n",
       "    if (event.shiftKey && event.which == 13) {\n",
       "        this.canvas_div.blur();\n",
       "        // select the cell after this one\n",
       "        var index = IPython.notebook.find_cell_index(this.cell_info[0]);\n",
       "        IPython.notebook.select(index + 1);\n",
       "    }\n",
       "}\n",
       "\n",
       "mpl.figure.prototype.handle_save = function(fig, msg) {\n",
       "    fig.ondownload(fig, null);\n",
       "}\n",
       "\n",
       "\n",
       "mpl.find_output_cell = function(html_output) {\n",
       "    // Return the cell and output element which can be found *uniquely* in the notebook.\n",
       "    // Note - this is a bit hacky, but it is done because the \"notebook_saving.Notebook\"\n",
       "    // IPython event is triggered only after the cells have been serialised, which for\n",
       "    // our purposes (turning an active figure into a static one), is too late.\n",
       "    var cells = IPython.notebook.get_cells();\n",
       "    var ncells = cells.length;\n",
       "    for (var i=0; i<ncells; i++) {\n",
       "        var cell = cells[i];\n",
       "        if (cell.cell_type === 'code'){\n",
       "            for (var j=0; j<cell.output_area.outputs.length; j++) {\n",
       "                var data = cell.output_area.outputs[j];\n",
       "                if (data.data) {\n",
       "                    // IPython >= 3 moved mimebundle to data attribute of output\n",
       "                    data = data.data;\n",
       "                }\n",
       "                if (data['text/html'] == html_output) {\n",
       "                    return [cell, data, j];\n",
       "                }\n",
       "            }\n",
       "        }\n",
       "    }\n",
       "}\n",
       "\n",
       "// Register the function which deals with the matplotlib target/channel.\n",
       "// The kernel may be null if the page has been refreshed.\n",
       "if (IPython.notebook.kernel != null) {\n",
       "    IPython.notebook.kernel.comm_manager.register_target('matplotlib', mpl.mpl_figure_comm);\n",
       "}\n"
      ],
      "text/plain": [
       "<IPython.core.display.Javascript object>"
      ]
     },
     "metadata": {},
     "output_type": "display_data"
    },
    {
     "data": {
      "text/html": [
       "<img src=\"data:image/png;base64,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\" width=\"1200\">"
      ],
      "text/plain": [
       "<IPython.core.display.HTML object>"
      ]
     },
     "metadata": {},
     "output_type": "display_data"
    }
   ],
   "source": [
    "fig, axs = plt.subplots(1, 2, sharex=True, sharey=True, figsize=(12, 5))\n",
    "\n",
    "psnr_to_plot[psnr_str] = psnr_to_plot[psnr_str].astype(float)\n",
    "lplot0 = sns.lineplot(\n",
    "    x=noise_std_str, \n",
    "    y=psnr_str, \n",
    "    style=n_params_str,\n",
    "    data=psnr_to_plot[psnr_to_plot[model_family_str] == 'U-net'],\n",
    "    style_order=n_params_order_unet,\n",
    "    color=family_model_to_color['U-net'],\n",
    "    ax=axs[0],\n",
    ")\n",
    "axs[0].legend(bbox_to_anchor=(0., 1.02, 1., .05), loc='center', borderaxespad=0., ncol=6, fontsize=7.2)\n",
    "axs[0].set_title('U-net', pad=28.)\n",
    "lplot0 = sns.lineplot(\n",
    "    x=noise_std_str, \n",
    "    y=psnr_str, \n",
    "    style=n_params_str,\n",
    "    data=psnr_to_plot[psnr_to_plot[model_family_str] == 'Learnlets'],\n",
    "    style_order=n_params_order_learnlet,\n",
    "    color=family_model_to_color['Learnlets'],\n",
    "    ax=axs[1],\n",
    ")\n",
    "axs[1].legend(bbox_to_anchor=(0., 1.02, 1., .05), loc='center', borderaxespad=0., ncol=6, fontsize=7.2)\n",
    "axs[1].set_title('Learnlets', pad=28.)\n",
    "# plt.subplots_adjust(right=0.83)\n",
    "plt.savefig(f'gen_wo_error_bars_n_filters.png')"
   ]
  },
  {
   "cell_type": "code",
   "execution_count": null,
   "metadata": {},
   "outputs": [],
   "source": []
  }
 ],
 "metadata": {
  "kernelspec": {
   "display_name": "Python 3",
   "language": "python",
   "name": "python3"
  },
  "language_info": {
   "codemirror_mode": {
    "name": "ipython",
    "version": 3
   },
   "file_extension": ".py",
   "mimetype": "text/x-python",
   "name": "python",
   "nbconvert_exporter": "python",
   "pygments_lexer": "ipython3",
   "version": "3.6.8"
  },
  "notify_time": "30"
 },
 "nbformat": 4,
 "nbformat_minor": 2
}
