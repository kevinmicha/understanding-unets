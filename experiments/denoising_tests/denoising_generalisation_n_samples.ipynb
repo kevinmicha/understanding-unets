{
 "cells": [
  {
   "cell_type": "code",
   "execution_count": 1,
   "metadata": {},
   "outputs": [
    {
     "name": "stdout",
     "output_type": "stream",
     "text": [
      "/volatile/home/Zaccharie/workspace/understanding-unets\n"
     ]
    }
   ],
   "source": [
    "%cd ../.."
   ]
  },
  {
   "cell_type": "code",
   "execution_count": 2,
   "metadata": {},
   "outputs": [],
   "source": [
    "# # this just to make sure we are using only on CPU\n",
    "# import os\n",
    "# os.environ[\"CUDA_VISIBLE_DEVICES\"]=\"-1\""
   ]
  },
  {
   "cell_type": "code",
   "execution_count": 3,
   "metadata": {},
   "outputs": [
    {
     "name": "stdout",
     "output_type": "stream",
     "text": [
      "\n",
      "                 .|'''|       /.\\      '||'''|,\n",
      "                 ||          // \\\\      ||   ||\n",
      "'||''|, '||  ||` `|'''|,    //...\\\\     ||...|'\n",
      " ||  ||  `|..||   .   ||   //     \\\\    ||\n",
      " ||..|'      ||   |...|' .//       \\\\. .||\n",
      " ||       ,  |'\n",
      ".||        ''\n",
      "\n",
      "Package version: 0.0.3\n",
      "\n",
      "License: CeCILL-B\n",
      "\n",
      "Authors: \n",
      "\n",
      "Antoine Grigis <antoine.grigis@cea.fr>\n",
      "Samuel Farrens <samuel.farrens@cea.fr>\n",
      "Jean-Luc Starck <jl.stark@cea.fr>\n",
      "Philippe Ciuciu <philippe.ciuciu@cea.fr>\n",
      "\n",
      "Dependencies: \n",
      "\n",
      "scipy          : >=1.3.0   - required | 1.4.1     installed\n",
      "numpy          : >=1.16.4  - required | 1.17.4    installed\n",
      "matplotlib     : >=3.0.0   - required | 3.1.2     installed\n",
      "astropy        : >=3.0.0   - required | 3.2.3     installed\n",
      "nibabel        : >=2.3.2   - required | 2.5.1     installed\n",
      "pyqtgraph      : >=0.10.0  - required | 0.10.0    installed\n",
      "progressbar2   : >=3.34.3  - required | ?         installed\n",
      "modopt         : >=1.4.0   - required | 1.4.1     installed\n",
      "scikit-learn   : >=0.19.1  - required | ?         installed\n",
      "pywt           : >=1.0.0   - required | 1.1.1     installed\n",
      "pysparse       : >=0.0.1   - required | 0.1.0     installed\n",
      "\n"
     ]
    }
   ],
   "source": [
    "%load_ext autoreload\n",
    "%autoreload 2\n",
    "import copy\n",
    "import time\n",
    "\n",
    "import numpy as np\n",
    "import pandas as pd\n",
    "from tqdm import tqdm_notebook\n",
    "\n",
    "from learning_wavelets.data.datasets import im_dataset_bsd68\n",
    "from learning_wavelets.models.dncnn import dncnn\n",
    "from learning_wavelets.keras_utils.thresholding import SoftThresholding, HardThresholding, DynamicSoftThresholding, DynamicHardThresholding, RelaxedDynamicHardThresholding, LocalWienerFiltering\n",
    "from learning_wavelets.models.learned_wavelet import learned_wavelet, learnlet\n",
    "from learning_wavelets.models.unet import unet\n",
    "from learning_wavelets.utils.metrics import metrics_from_ds, metrics_original_from_ds"
   ]
  },
  {
   "cell_type": "code",
   "execution_count": 4,
   "metadata": {},
   "outputs": [],
   "source": [
    "np.random.seed(0)"
   ]
  },
  {
   "cell_type": "code",
   "execution_count": 5,
   "metadata": {
    "code_folding": []
   },
   "outputs": [],
   "source": [
    "def unet_params(run_id):\n",
    "    unet_params_complete = {\n",
    "        'name': run_id,\n",
    "        'init_function': unet,\n",
    "        'run_params': {\n",
    "            'n_layers': 5, \n",
    "            'pool': 'max', \n",
    "            \"layers_n_channels\": [64, 128, 256, 512, 1024], \n",
    "            'layers_n_non_lins': 2,\n",
    "            'non_relu_contract': False,\n",
    "            'bn': True,\n",
    "            'input_size': (None, None, 1),\n",
    "        },\n",
    "        'run_id': run_id,\n",
    "        'epoch': 500,\n",
    "    }\n",
    "    return unet_params_complete\n",
    "\n",
    "unet_run_ids = [\n",
    "    'unet_dynamic_st_bsd500_0_55_1576668365',\n",
    "    'unet_dynamic_st_bsd500_0.0_55.0_100_1581509879',\n",
    "    'unet_dynamic_st_bsd500_0.0_55.0_10_1581509879',\n",
    "    'unet_dynamic_st_bsd500_0.0_55.0_200_1581509879',\n",
    "    'unet_dynamic_st_bsd500_0.0_55.0_50_1581509879',\n",
    "]\n",
    "\n",
    "all_net_params = [\n",
    "        unet_params(run_id) for run_id in unet_run_ids\n",
    "]\n",
    "\n",
    "def learnlet_params(run_id):\n",
    "    learnlet_params_complete = {\n",
    "        'name': run_id,\n",
    "        'init_function': learnlet,\n",
    "        'run_params': {\n",
    "            'denoising_activation': 'dynamic_soft_thresholding',\n",
    "            'learnlet_analysis_kwargs':{\n",
    "                'n_tiling': 256, \n",
    "                'mixing_details': False,  \n",
    "                'kernel_size': 11,\n",
    "                'skip_connection': True,\n",
    "            },\n",
    "            'learnlet_synthesis_kwargs': {\n",
    "                'res': True,\n",
    "                'kernel_size': 13,\n",
    "            },\n",
    "            'n_scales': 5,\n",
    "            'exact_reconstruction_weight': 0,\n",
    "            'clip': True,\n",
    "            'input_size': (None, None, 1),     \n",
    "        },\n",
    "        'run_id': run_id,\n",
    "        'epoch': 500,\n",
    "    }\n",
    "    return learnlet_params_complete\n",
    "\n",
    "learnlet_run_ids = [\n",
    "    'learnlet_dynamic_st_bsd500_0_55_1580806694', # complete set\n",
    "    'learnlet_dynamic_256_dynamic_soft_thresholding_bsd500_0.0_55.0_100_1581526036',\n",
    "    'learnlet_dynamic_256_dynamic_soft_thresholding_bsd500_0.0_55.0_10_1581526036',\n",
    "    'learnlet_dynamic_256_dynamic_soft_thresholding_bsd500_0.0_55.0_200_1581526036',\n",
    "    'learnlet_dynamic_256_dynamic_soft_thresholding_bsd500_0.0_55.0_50_1581526036',\n",
    "]\n",
    "dynamic_denoising_net_params = [\n",
    "    learnlet_params(run_id) for run_id in learnlet_run_ids\n",
    "]"
   ]
  },
  {
   "cell_type": "code",
   "execution_count": 6,
   "metadata": {},
   "outputs": [],
   "source": [
    "noise_stds = [5, 15, 20, 25, 30, 50, 75]\n",
    "# noise_stds = [15, 20, 30]\n",
    "# noise_stds = [0.0001]"
   ]
  },
  {
   "cell_type": "code",
   "execution_count": 7,
   "metadata": {
    "code_folding": [],
    "scrolled": true
   },
   "outputs": [
    {
     "name": "stderr",
     "output_type": "stream",
     "text": [
      "/volatile/home/Zaccharie/workspace/understanding-unets/venv/lib/python3.6/site-packages/ipykernel_launcher.py:3: TqdmDeprecationWarning: This function will be removed in tqdm==5.0.0\n",
      "Please use `tqdm.notebook.tqdm` instead of `tqdm.tqdm_notebook`\n",
      "  This is separate from the ipykernel package so we can avoid doing imports until\n"
     ]
    },
    {
     "data": {
      "application/vnd.jupyter.widget-view+json": {
       "model_id": "df879e871b1e4c1192d93cd439c5bbdf",
       "version_major": 2,
       "version_minor": 0
      },
      "text/plain": [
       "HBox(children=(FloatProgress(value=0.0, description='Noise stds', max=7.0, style=ProgressStyle(description_wid…"
      ]
     },
     "metadata": {},
     "output_type": "display_data"
    },
    {
     "data": {
      "application/vnd.jupyter.widget-view+json": {
       "model_id": "5cd8fb9fbcfe40a6bd21e8e2c599f5eb",
       "version_major": 2,
       "version_minor": 0
      },
      "text/plain": [
       "HBox(children=(FloatProgress(value=1.0, bar_style='info', max=1.0), HTML(value='')))"
      ]
     },
     "metadata": {},
     "output_type": "display_data"
    },
    {
     "name": "stdout",
     "output_type": "stream",
     "text": [
      "\n"
     ]
    },
    {
     "data": {
      "application/vnd.jupyter.widget-view+json": {
       "model_id": "745179dbb96d440e9b416ac91595e5e2",
       "version_major": 2,
       "version_minor": 0
      },
      "text/plain": [
       "HBox(children=(FloatProgress(value=0.0, description='Stats for unet_dynamic_st_bsd500_0_55_1576668365', max=68…"
      ]
     },
     "metadata": {},
     "output_type": "display_data"
    },
    {
     "name": "stderr",
     "output_type": "stream",
     "text": [
      "/volatile/home/Zaccharie/workspace/understanding-unets/learning_wavelets/evaluate.py:34: UserWarning: DEPRECATED: skimage.measure.compare_psnr has been moved to skimage.metrics.peak_signal_noise_ratio. It will be removed from skimage.measure in version 0.18.\n",
      "  return compare_psnr(gt, pred, data_range=1)\n",
      "/volatile/home/Zaccharie/workspace/understanding-unets/learning_wavelets/evaluate.py:43: UserWarning: DEPRECATED: skimage.measure.compare_ssim has been moved to skimage.metrics.structural_similarity. It will be removed from skimage.measure in version 0.18.\n",
      "  gt, pred, multichannel=True, data_range=1\n"
     ]
    },
    {
     "name": "stdout",
     "output_type": "stream",
     "text": [
      "\n"
     ]
    },
    {
     "data": {
      "application/vnd.jupyter.widget-view+json": {
       "model_id": "3a3c88f321cd451195494551f65b5e3b",
       "version_major": 2,
       "version_minor": 0
      },
      "text/plain": [
       "HBox(children=(FloatProgress(value=1.0, bar_style='info', max=1.0), HTML(value='')))"
      ]
     },
     "metadata": {},
     "output_type": "display_data"
    },
    {
     "name": "stdout",
     "output_type": "stream",
     "text": [
      "\n"
     ]
    },
    {
     "data": {
      "application/vnd.jupyter.widget-view+json": {
       "model_id": "d6776465bf8247669a3688dc93a4f344",
       "version_major": 2,
       "version_minor": 0
      },
      "text/plain": [
       "HBox(children=(FloatProgress(value=0.0, description='Stats for unet_dynamic_st_bsd500_0.0_55.0_100_1581509879'…"
      ]
     },
     "metadata": {},
     "output_type": "display_data"
    },
    {
     "name": "stdout",
     "output_type": "stream",
     "text": [
      "\n"
     ]
    },
    {
     "data": {
      "application/vnd.jupyter.widget-view+json": {
       "model_id": "11a2a48bf8b748039034a3437ed073dd",
       "version_major": 2,
       "version_minor": 0
      },
      "text/plain": [
       "HBox(children=(FloatProgress(value=1.0, bar_style='info', max=1.0), HTML(value='')))"
      ]
     },
     "metadata": {},
     "output_type": "display_data"
    },
    {
     "name": "stdout",
     "output_type": "stream",
     "text": [
      "\n"
     ]
    },
    {
     "data": {
      "application/vnd.jupyter.widget-view+json": {
       "model_id": "71f0d46f6e5444c585b265c87689d868",
       "version_major": 2,
       "version_minor": 0
      },
      "text/plain": [
       "HBox(children=(FloatProgress(value=0.0, description='Stats for unet_dynamic_st_bsd500_0.0_55.0_10_1581509879',…"
      ]
     },
     "metadata": {},
     "output_type": "display_data"
    },
    {
     "name": "stdout",
     "output_type": "stream",
     "text": [
      "\n"
     ]
    },
    {
     "data": {
      "application/vnd.jupyter.widget-view+json": {
       "model_id": "a79c0b7507c14609bbd4a0d1192dfce7",
       "version_major": 2,
       "version_minor": 0
      },
      "text/plain": [
       "HBox(children=(FloatProgress(value=1.0, bar_style='info', max=1.0), HTML(value='')))"
      ]
     },
     "metadata": {},
     "output_type": "display_data"
    },
    {
     "name": "stdout",
     "output_type": "stream",
     "text": [
      "\n"
     ]
    },
    {
     "data": {
      "application/vnd.jupyter.widget-view+json": {
       "model_id": "cc3a42f3813c4eec8167bfcb1320ea41",
       "version_major": 2,
       "version_minor": 0
      },
      "text/plain": [
       "HBox(children=(FloatProgress(value=0.0, description='Stats for unet_dynamic_st_bsd500_0.0_55.0_200_1581509879'…"
      ]
     },
     "metadata": {},
     "output_type": "display_data"
    },
    {
     "name": "stdout",
     "output_type": "stream",
     "text": [
      "\n"
     ]
    },
    {
     "data": {
      "application/vnd.jupyter.widget-view+json": {
       "model_id": "1e74cc64001141dd9046021b15873dc2",
       "version_major": 2,
       "version_minor": 0
      },
      "text/plain": [
       "HBox(children=(FloatProgress(value=1.0, bar_style='info', max=1.0), HTML(value='')))"
      ]
     },
     "metadata": {},
     "output_type": "display_data"
    },
    {
     "name": "stdout",
     "output_type": "stream",
     "text": [
      "\n"
     ]
    },
    {
     "data": {
      "application/vnd.jupyter.widget-view+json": {
       "model_id": "32cb2564d9ab4122b58809c1633b60b9",
       "version_major": 2,
       "version_minor": 0
      },
      "text/plain": [
       "HBox(children=(FloatProgress(value=0.0, description='Stats for unet_dynamic_st_bsd500_0.0_55.0_50_1581509879',…"
      ]
     },
     "metadata": {},
     "output_type": "display_data"
    },
    {
     "name": "stdout",
     "output_type": "stream",
     "text": [
      "\n"
     ]
    },
    {
     "data": {
      "application/vnd.jupyter.widget-view+json": {
       "model_id": "d1e528cc6606404a9ae6b30d4ed2e528",
       "version_major": 2,
       "version_minor": 0
      },
      "text/plain": [
       "HBox(children=(FloatProgress(value=1.0, bar_style='info', max=1.0), HTML(value='')))"
      ]
     },
     "metadata": {},
     "output_type": "display_data"
    },
    {
     "name": "stdout",
     "output_type": "stream",
     "text": [
      "\n"
     ]
    },
    {
     "data": {
      "application/vnd.jupyter.widget-view+json": {
       "model_id": "a573a27e473d40acb63e8b143b58a955",
       "version_major": 2,
       "version_minor": 0
      },
      "text/plain": [
       "HBox(children=(FloatProgress(value=0.0, description='Stats for original noisy images', max=68.0, style=Progres…"
      ]
     },
     "metadata": {},
     "output_type": "display_data"
    },
    {
     "name": "stdout",
     "output_type": "stream",
     "text": [
      "\n"
     ]
    },
    {
     "data": {
      "application/vnd.jupyter.widget-view+json": {
       "model_id": "decd3d3f4c214e76b88f1c787a00662c",
       "version_major": 2,
       "version_minor": 0
      },
      "text/plain": [
       "HBox(children=(FloatProgress(value=1.0, bar_style='info', max=1.0), HTML(value='')))"
      ]
     },
     "metadata": {},
     "output_type": "display_data"
    },
    {
     "name": "stdout",
     "output_type": "stream",
     "text": [
      "\n"
     ]
    },
    {
     "data": {
      "application/vnd.jupyter.widget-view+json": {
       "model_id": "c44589f8152a4dd0b074bbf6aa7b16e8",
       "version_major": 2,
       "version_minor": 0
      },
      "text/plain": [
       "HBox(children=(FloatProgress(value=0.0, description='Stats for learnlet_dynamic_st_bsd500_0_55_1580806694', ma…"
      ]
     },
     "metadata": {},
     "output_type": "display_data"
    },
    {
     "name": "stdout",
     "output_type": "stream",
     "text": [
      "\n"
     ]
    },
    {
     "data": {
      "application/vnd.jupyter.widget-view+json": {
       "model_id": "656ec82f25c44093a16ef03625d46c15",
       "version_major": 2,
       "version_minor": 0
      },
      "text/plain": [
       "HBox(children=(FloatProgress(value=1.0, bar_style='info', max=1.0), HTML(value='')))"
      ]
     },
     "metadata": {},
     "output_type": "display_data"
    },
    {
     "name": "stdout",
     "output_type": "stream",
     "text": [
      "\n"
     ]
    },
    {
     "data": {
      "application/vnd.jupyter.widget-view+json": {
       "model_id": "c66065904d604252aae334d3aefbbae2",
       "version_major": 2,
       "version_minor": 0
      },
      "text/plain": [
       "HBox(children=(FloatProgress(value=0.0, description='Stats for learnlet_dynamic_256_dynamic_soft_thresholding_…"
      ]
     },
     "metadata": {},
     "output_type": "display_data"
    },
    {
     "name": "stdout",
     "output_type": "stream",
     "text": [
      "\n"
     ]
    },
    {
     "data": {
      "application/vnd.jupyter.widget-view+json": {
       "model_id": "9874cb17a98746b7bb280ea41ae8e249",
       "version_major": 2,
       "version_minor": 0
      },
      "text/plain": [
       "HBox(children=(FloatProgress(value=1.0, bar_style='info', max=1.0), HTML(value='')))"
      ]
     },
     "metadata": {},
     "output_type": "display_data"
    },
    {
     "name": "stdout",
     "output_type": "stream",
     "text": [
      "\n"
     ]
    },
    {
     "data": {
      "application/vnd.jupyter.widget-view+json": {
       "model_id": "8d61a123d0424096afa8893cb240156f",
       "version_major": 2,
       "version_minor": 0
      },
      "text/plain": [
       "HBox(children=(FloatProgress(value=0.0, description='Stats for learnlet_dynamic_256_dynamic_soft_thresholding_…"
      ]
     },
     "metadata": {},
     "output_type": "display_data"
    },
    {
     "name": "stdout",
     "output_type": "stream",
     "text": [
      "\n"
     ]
    },
    {
     "data": {
      "application/vnd.jupyter.widget-view+json": {
       "model_id": "93f4f3df61664d35a756c697569fb646",
       "version_major": 2,
       "version_minor": 0
      },
      "text/plain": [
       "HBox(children=(FloatProgress(value=1.0, bar_style='info', max=1.0), HTML(value='')))"
      ]
     },
     "metadata": {},
     "output_type": "display_data"
    },
    {
     "name": "stdout",
     "output_type": "stream",
     "text": [
      "\n"
     ]
    },
    {
     "data": {
      "application/vnd.jupyter.widget-view+json": {
       "model_id": "445836fa3b5243dead90e2570a9275b5",
       "version_major": 2,
       "version_minor": 0
      },
      "text/plain": [
       "HBox(children=(FloatProgress(value=0.0, description='Stats for learnlet_dynamic_256_dynamic_soft_thresholding_…"
      ]
     },
     "metadata": {},
     "output_type": "display_data"
    },
    {
     "name": "stdout",
     "output_type": "stream",
     "text": [
      "\n"
     ]
    },
    {
     "data": {
      "application/vnd.jupyter.widget-view+json": {
       "model_id": "3403476eb3ee4555ae5c6fa97d04187c",
       "version_major": 2,
       "version_minor": 0
      },
      "text/plain": [
       "HBox(children=(FloatProgress(value=1.0, bar_style='info', max=1.0), HTML(value='')))"
      ]
     },
     "metadata": {},
     "output_type": "display_data"
    },
    {
     "name": "stdout",
     "output_type": "stream",
     "text": [
      "\n"
     ]
    },
    {
     "data": {
      "application/vnd.jupyter.widget-view+json": {
       "model_id": "bde0347eb35b4590a18fc28eb87cd50c",
       "version_major": 2,
       "version_minor": 0
      },
      "text/plain": [
       "HBox(children=(FloatProgress(value=0.0, description='Stats for learnlet_dynamic_256_dynamic_soft_thresholding_…"
      ]
     },
     "metadata": {},
     "output_type": "display_data"
    },
    {
     "name": "stdout",
     "output_type": "stream",
     "text": [
      "\n"
     ]
    },
    {
     "data": {
      "application/vnd.jupyter.widget-view+json": {
       "model_id": "691fb69053dd41b191a2af76b241b091",
       "version_major": 2,
       "version_minor": 0
      },
      "text/plain": [
       "HBox(children=(FloatProgress(value=1.0, bar_style='info', max=1.0), HTML(value='')))"
      ]
     },
     "metadata": {},
     "output_type": "display_data"
    },
    {
     "name": "stdout",
     "output_type": "stream",
     "text": [
      "\n"
     ]
    },
    {
     "data": {
      "application/vnd.jupyter.widget-view+json": {
       "model_id": "772e08e8a18f4670ac99fa344530e041",
       "version_major": 2,
       "version_minor": 0
      },
      "text/plain": [
       "HBox(children=(FloatProgress(value=0.0, description='Stats for unet_dynamic_st_bsd500_0_55_1576668365', max=68…"
      ]
     },
     "metadata": {},
     "output_type": "display_data"
    },
    {
     "name": "stdout",
     "output_type": "stream",
     "text": [
      "\n"
     ]
    },
    {
     "data": {
      "application/vnd.jupyter.widget-view+json": {
       "model_id": "11572b1394f94ad3b15471a477fa369a",
       "version_major": 2,
       "version_minor": 0
      },
      "text/plain": [
       "HBox(children=(FloatProgress(value=1.0, bar_style='info', max=1.0), HTML(value='')))"
      ]
     },
     "metadata": {},
     "output_type": "display_data"
    },
    {
     "name": "stdout",
     "output_type": "stream",
     "text": [
      "\n"
     ]
    },
    {
     "data": {
      "application/vnd.jupyter.widget-view+json": {
       "model_id": "01f11b3b1181441c880ae09e8e0b6a58",
       "version_major": 2,
       "version_minor": 0
      },
      "text/plain": [
       "HBox(children=(FloatProgress(value=0.0, description='Stats for unet_dynamic_st_bsd500_0.0_55.0_100_1581509879'…"
      ]
     },
     "metadata": {},
     "output_type": "display_data"
    },
    {
     "name": "stdout",
     "output_type": "stream",
     "text": [
      "\n"
     ]
    },
    {
     "data": {
      "application/vnd.jupyter.widget-view+json": {
       "model_id": "106082681e5f4815801fec3766a8bee4",
       "version_major": 2,
       "version_minor": 0
      },
      "text/plain": [
       "HBox(children=(FloatProgress(value=1.0, bar_style='info', max=1.0), HTML(value='')))"
      ]
     },
     "metadata": {},
     "output_type": "display_data"
    },
    {
     "name": "stdout",
     "output_type": "stream",
     "text": [
      "\n"
     ]
    },
    {
     "data": {
      "application/vnd.jupyter.widget-view+json": {
       "model_id": "1d22a7ac5fe242f791629b04f896e9bf",
       "version_major": 2,
       "version_minor": 0
      },
      "text/plain": [
       "HBox(children=(FloatProgress(value=0.0, description='Stats for unet_dynamic_st_bsd500_0.0_55.0_10_1581509879',…"
      ]
     },
     "metadata": {},
     "output_type": "display_data"
    },
    {
     "name": "stdout",
     "output_type": "stream",
     "text": [
      "\n"
     ]
    },
    {
     "data": {
      "application/vnd.jupyter.widget-view+json": {
       "model_id": "3fa5dc10a42c43b584e065ec5757bc25",
       "version_major": 2,
       "version_minor": 0
      },
      "text/plain": [
       "HBox(children=(FloatProgress(value=1.0, bar_style='info', max=1.0), HTML(value='')))"
      ]
     },
     "metadata": {},
     "output_type": "display_data"
    },
    {
     "name": "stdout",
     "output_type": "stream",
     "text": [
      "\n"
     ]
    },
    {
     "data": {
      "application/vnd.jupyter.widget-view+json": {
       "model_id": "8322710987694874b0ce92a7973b2855",
       "version_major": 2,
       "version_minor": 0
      },
      "text/plain": [
       "HBox(children=(FloatProgress(value=0.0, description='Stats for unet_dynamic_st_bsd500_0.0_55.0_200_1581509879'…"
      ]
     },
     "metadata": {},
     "output_type": "display_data"
    },
    {
     "name": "stdout",
     "output_type": "stream",
     "text": [
      "\n"
     ]
    },
    {
     "data": {
      "application/vnd.jupyter.widget-view+json": {
       "model_id": "14045297e39d4184b669f82b550ca170",
       "version_major": 2,
       "version_minor": 0
      },
      "text/plain": [
       "HBox(children=(FloatProgress(value=1.0, bar_style='info', max=1.0), HTML(value='')))"
      ]
     },
     "metadata": {},
     "output_type": "display_data"
    },
    {
     "name": "stdout",
     "output_type": "stream",
     "text": [
      "\n"
     ]
    },
    {
     "data": {
      "application/vnd.jupyter.widget-view+json": {
       "model_id": "46293dbedc7e401aa8b3891d5af30738",
       "version_major": 2,
       "version_minor": 0
      },
      "text/plain": [
       "HBox(children=(FloatProgress(value=0.0, description='Stats for unet_dynamic_st_bsd500_0.0_55.0_50_1581509879',…"
      ]
     },
     "metadata": {},
     "output_type": "display_data"
    },
    {
     "name": "stdout",
     "output_type": "stream",
     "text": [
      "\n"
     ]
    },
    {
     "data": {
      "application/vnd.jupyter.widget-view+json": {
       "model_id": "1d761c0847354a67ac805dbe5c628ea0",
       "version_major": 2,
       "version_minor": 0
      },
      "text/plain": [
       "HBox(children=(FloatProgress(value=1.0, bar_style='info', max=1.0), HTML(value='')))"
      ]
     },
     "metadata": {},
     "output_type": "display_data"
    },
    {
     "name": "stdout",
     "output_type": "stream",
     "text": [
      "\n"
     ]
    },
    {
     "data": {
      "application/vnd.jupyter.widget-view+json": {
       "model_id": "7b62a6c5945e4376a6afca9bb3bb6c93",
       "version_major": 2,
       "version_minor": 0
      },
      "text/plain": [
       "HBox(children=(FloatProgress(value=0.0, description='Stats for original noisy images', max=68.0, style=Progres…"
      ]
     },
     "metadata": {},
     "output_type": "display_data"
    },
    {
     "name": "stdout",
     "output_type": "stream",
     "text": [
      "\n"
     ]
    },
    {
     "data": {
      "application/vnd.jupyter.widget-view+json": {
       "model_id": "2cc3faee90d94359adcaf425a11434d8",
       "version_major": 2,
       "version_minor": 0
      },
      "text/plain": [
       "HBox(children=(FloatProgress(value=1.0, bar_style='info', max=1.0), HTML(value='')))"
      ]
     },
     "metadata": {},
     "output_type": "display_data"
    },
    {
     "name": "stdout",
     "output_type": "stream",
     "text": [
      "\n"
     ]
    },
    {
     "data": {
      "application/vnd.jupyter.widget-view+json": {
       "model_id": "bee623a5e7ad47dfb0971273f3536abc",
       "version_major": 2,
       "version_minor": 0
      },
      "text/plain": [
       "HBox(children=(FloatProgress(value=0.0, description='Stats for learnlet_dynamic_st_bsd500_0_55_1580806694', ma…"
      ]
     },
     "metadata": {},
     "output_type": "display_data"
    },
    {
     "name": "stdout",
     "output_type": "stream",
     "text": [
      "\n"
     ]
    },
    {
     "data": {
      "application/vnd.jupyter.widget-view+json": {
       "model_id": "8dbeaf5dc50248078b8679c5b38f7ede",
       "version_major": 2,
       "version_minor": 0
      },
      "text/plain": [
       "HBox(children=(FloatProgress(value=1.0, bar_style='info', max=1.0), HTML(value='')))"
      ]
     },
     "metadata": {},
     "output_type": "display_data"
    },
    {
     "name": "stdout",
     "output_type": "stream",
     "text": [
      "\n"
     ]
    },
    {
     "data": {
      "application/vnd.jupyter.widget-view+json": {
       "model_id": "4f420315d1354c9bbaf27dd10ad62d93",
       "version_major": 2,
       "version_minor": 0
      },
      "text/plain": [
       "HBox(children=(FloatProgress(value=0.0, description='Stats for learnlet_dynamic_256_dynamic_soft_thresholding_…"
      ]
     },
     "metadata": {},
     "output_type": "display_data"
    },
    {
     "name": "stdout",
     "output_type": "stream",
     "text": [
      "\n"
     ]
    },
    {
     "data": {
      "application/vnd.jupyter.widget-view+json": {
       "model_id": "24f49a4cf05d40d1a4e1cb9b05a0cde9",
       "version_major": 2,
       "version_minor": 0
      },
      "text/plain": [
       "HBox(children=(FloatProgress(value=1.0, bar_style='info', max=1.0), HTML(value='')))"
      ]
     },
     "metadata": {},
     "output_type": "display_data"
    },
    {
     "name": "stdout",
     "output_type": "stream",
     "text": [
      "\n"
     ]
    },
    {
     "data": {
      "application/vnd.jupyter.widget-view+json": {
       "model_id": "92a4ad0d502d4d489efa17feea9e09d0",
       "version_major": 2,
       "version_minor": 0
      },
      "text/plain": [
       "HBox(children=(FloatProgress(value=0.0, description='Stats for learnlet_dynamic_256_dynamic_soft_thresholding_…"
      ]
     },
     "metadata": {},
     "output_type": "display_data"
    },
    {
     "name": "stdout",
     "output_type": "stream",
     "text": [
      "\n"
     ]
    },
    {
     "data": {
      "application/vnd.jupyter.widget-view+json": {
       "model_id": "a32a084b115c49cdb8118b31cde42bec",
       "version_major": 2,
       "version_minor": 0
      },
      "text/plain": [
       "HBox(children=(FloatProgress(value=1.0, bar_style='info', max=1.0), HTML(value='')))"
      ]
     },
     "metadata": {},
     "output_type": "display_data"
    },
    {
     "name": "stdout",
     "output_type": "stream",
     "text": [
      "\n"
     ]
    },
    {
     "data": {
      "application/vnd.jupyter.widget-view+json": {
       "model_id": "05b7418acdaf40978ba10dbd9f23c494",
       "version_major": 2,
       "version_minor": 0
      },
      "text/plain": [
       "HBox(children=(FloatProgress(value=0.0, description='Stats for learnlet_dynamic_256_dynamic_soft_thresholding_…"
      ]
     },
     "metadata": {},
     "output_type": "display_data"
    },
    {
     "name": "stdout",
     "output_type": "stream",
     "text": [
      "\n"
     ]
    },
    {
     "data": {
      "application/vnd.jupyter.widget-view+json": {
       "model_id": "483e54b3be88427b846dd2aefe71479a",
       "version_major": 2,
       "version_minor": 0
      },
      "text/plain": [
       "HBox(children=(FloatProgress(value=1.0, bar_style='info', max=1.0), HTML(value='')))"
      ]
     },
     "metadata": {},
     "output_type": "display_data"
    },
    {
     "name": "stdout",
     "output_type": "stream",
     "text": [
      "\n"
     ]
    },
    {
     "data": {
      "application/vnd.jupyter.widget-view+json": {
       "model_id": "453dca9a138f4f7ca3061adb4c383d18",
       "version_major": 2,
       "version_minor": 0
      },
      "text/plain": [
       "HBox(children=(FloatProgress(value=0.0, description='Stats for learnlet_dynamic_256_dynamic_soft_thresholding_…"
      ]
     },
     "metadata": {},
     "output_type": "display_data"
    },
    {
     "name": "stdout",
     "output_type": "stream",
     "text": [
      "\n"
     ]
    },
    {
     "data": {
      "application/vnd.jupyter.widget-view+json": {
       "model_id": "6fa6fe68915544aab6f881652e3aa8d8",
       "version_major": 2,
       "version_minor": 0
      },
      "text/plain": [
       "HBox(children=(FloatProgress(value=1.0, bar_style='info', max=1.0), HTML(value='')))"
      ]
     },
     "metadata": {},
     "output_type": "display_data"
    },
    {
     "name": "stdout",
     "output_type": "stream",
     "text": [
      "\n"
     ]
    },
    {
     "data": {
      "application/vnd.jupyter.widget-view+json": {
       "model_id": "76505e3242814732b9093e879d0b0a2c",
       "version_major": 2,
       "version_minor": 0
      },
      "text/plain": [
       "HBox(children=(FloatProgress(value=0.0, description='Stats for unet_dynamic_st_bsd500_0_55_1576668365', max=68…"
      ]
     },
     "metadata": {},
     "output_type": "display_data"
    },
    {
     "name": "stdout",
     "output_type": "stream",
     "text": [
      "\n"
     ]
    },
    {
     "data": {
      "application/vnd.jupyter.widget-view+json": {
       "model_id": "9ea35863b4c443c8b6fb42e32ea5053b",
       "version_major": 2,
       "version_minor": 0
      },
      "text/plain": [
       "HBox(children=(FloatProgress(value=1.0, bar_style='info', max=1.0), HTML(value='')))"
      ]
     },
     "metadata": {},
     "output_type": "display_data"
    },
    {
     "name": "stdout",
     "output_type": "stream",
     "text": [
      "\n"
     ]
    },
    {
     "data": {
      "application/vnd.jupyter.widget-view+json": {
       "model_id": "229e955130474cb8b355de4335cd3b5d",
       "version_major": 2,
       "version_minor": 0
      },
      "text/plain": [
       "HBox(children=(FloatProgress(value=0.0, description='Stats for unet_dynamic_st_bsd500_0.0_55.0_100_1581509879'…"
      ]
     },
     "metadata": {},
     "output_type": "display_data"
    },
    {
     "name": "stdout",
     "output_type": "stream",
     "text": [
      "\n"
     ]
    },
    {
     "data": {
      "application/vnd.jupyter.widget-view+json": {
       "model_id": "9b068e3483b1405f8bd3a555f93cabcd",
       "version_major": 2,
       "version_minor": 0
      },
      "text/plain": [
       "HBox(children=(FloatProgress(value=1.0, bar_style='info', max=1.0), HTML(value='')))"
      ]
     },
     "metadata": {},
     "output_type": "display_data"
    },
    {
     "name": "stdout",
     "output_type": "stream",
     "text": [
      "\n"
     ]
    },
    {
     "data": {
      "application/vnd.jupyter.widget-view+json": {
       "model_id": "001509768bec4693a4ebaef061348e21",
       "version_major": 2,
       "version_minor": 0
      },
      "text/plain": [
       "HBox(children=(FloatProgress(value=0.0, description='Stats for unet_dynamic_st_bsd500_0.0_55.0_10_1581509879',…"
      ]
     },
     "metadata": {},
     "output_type": "display_data"
    },
    {
     "name": "stdout",
     "output_type": "stream",
     "text": [
      "\n"
     ]
    },
    {
     "data": {
      "application/vnd.jupyter.widget-view+json": {
       "model_id": "c0371bb315c24353ad0c239ca7ce0a84",
       "version_major": 2,
       "version_minor": 0
      },
      "text/plain": [
       "HBox(children=(FloatProgress(value=1.0, bar_style='info', max=1.0), HTML(value='')))"
      ]
     },
     "metadata": {},
     "output_type": "display_data"
    },
    {
     "name": "stdout",
     "output_type": "stream",
     "text": [
      "\n"
     ]
    },
    {
     "data": {
      "application/vnd.jupyter.widget-view+json": {
       "model_id": "826dc0e6bdd54ce098d9119f4c0b6d65",
       "version_major": 2,
       "version_minor": 0
      },
      "text/plain": [
       "HBox(children=(FloatProgress(value=0.0, description='Stats for unet_dynamic_st_bsd500_0.0_55.0_200_1581509879'…"
      ]
     },
     "metadata": {},
     "output_type": "display_data"
    },
    {
     "name": "stdout",
     "output_type": "stream",
     "text": [
      "\n"
     ]
    },
    {
     "data": {
      "application/vnd.jupyter.widget-view+json": {
       "model_id": "a327f7e2129546ddb8280ab878102612",
       "version_major": 2,
       "version_minor": 0
      },
      "text/plain": [
       "HBox(children=(FloatProgress(value=1.0, bar_style='info', max=1.0), HTML(value='')))"
      ]
     },
     "metadata": {},
     "output_type": "display_data"
    },
    {
     "name": "stdout",
     "output_type": "stream",
     "text": [
      "\n"
     ]
    },
    {
     "data": {
      "application/vnd.jupyter.widget-view+json": {
       "model_id": "464d9de56da14cf481b4d279eff5f464",
       "version_major": 2,
       "version_minor": 0
      },
      "text/plain": [
       "HBox(children=(FloatProgress(value=0.0, description='Stats for unet_dynamic_st_bsd500_0.0_55.0_50_1581509879',…"
      ]
     },
     "metadata": {},
     "output_type": "display_data"
    },
    {
     "name": "stdout",
     "output_type": "stream",
     "text": [
      "\n"
     ]
    },
    {
     "data": {
      "application/vnd.jupyter.widget-view+json": {
       "model_id": "3ae4ad03515c468195abc618254aae8c",
       "version_major": 2,
       "version_minor": 0
      },
      "text/plain": [
       "HBox(children=(FloatProgress(value=1.0, bar_style='info', max=1.0), HTML(value='')))"
      ]
     },
     "metadata": {},
     "output_type": "display_data"
    },
    {
     "name": "stdout",
     "output_type": "stream",
     "text": [
      "\n"
     ]
    },
    {
     "data": {
      "application/vnd.jupyter.widget-view+json": {
       "model_id": "476f34db2c82465ca59a64c021032890",
       "version_major": 2,
       "version_minor": 0
      },
      "text/plain": [
       "HBox(children=(FloatProgress(value=0.0, description='Stats for original noisy images', max=68.0, style=Progres…"
      ]
     },
     "metadata": {},
     "output_type": "display_data"
    },
    {
     "name": "stdout",
     "output_type": "stream",
     "text": [
      "\n"
     ]
    },
    {
     "data": {
      "application/vnd.jupyter.widget-view+json": {
       "model_id": "a0ff02356f4f4b27a19afc7cd45dceed",
       "version_major": 2,
       "version_minor": 0
      },
      "text/plain": [
       "HBox(children=(FloatProgress(value=1.0, bar_style='info', max=1.0), HTML(value='')))"
      ]
     },
     "metadata": {},
     "output_type": "display_data"
    },
    {
     "name": "stdout",
     "output_type": "stream",
     "text": [
      "\n"
     ]
    },
    {
     "data": {
      "application/vnd.jupyter.widget-view+json": {
       "model_id": "0b0ec8adcb6c45ee90f1340dd29f6cb0",
       "version_major": 2,
       "version_minor": 0
      },
      "text/plain": [
       "HBox(children=(FloatProgress(value=0.0, description='Stats for learnlet_dynamic_st_bsd500_0_55_1580806694', ma…"
      ]
     },
     "metadata": {},
     "output_type": "display_data"
    },
    {
     "name": "stdout",
     "output_type": "stream",
     "text": [
      "\n"
     ]
    },
    {
     "data": {
      "application/vnd.jupyter.widget-view+json": {
       "model_id": "b81b5a9260d9436298427e7a8523eebc",
       "version_major": 2,
       "version_minor": 0
      },
      "text/plain": [
       "HBox(children=(FloatProgress(value=1.0, bar_style='info', max=1.0), HTML(value='')))"
      ]
     },
     "metadata": {},
     "output_type": "display_data"
    },
    {
     "name": "stdout",
     "output_type": "stream",
     "text": [
      "\n"
     ]
    },
    {
     "data": {
      "application/vnd.jupyter.widget-view+json": {
       "model_id": "0fef2082af3a49088407f42c832a02ce",
       "version_major": 2,
       "version_minor": 0
      },
      "text/plain": [
       "HBox(children=(FloatProgress(value=0.0, description='Stats for learnlet_dynamic_256_dynamic_soft_thresholding_…"
      ]
     },
     "metadata": {},
     "output_type": "display_data"
    },
    {
     "name": "stdout",
     "output_type": "stream",
     "text": [
      "\n"
     ]
    },
    {
     "data": {
      "application/vnd.jupyter.widget-view+json": {
       "model_id": "446f476de1514da1a287e86ee019b37b",
       "version_major": 2,
       "version_minor": 0
      },
      "text/plain": [
       "HBox(children=(FloatProgress(value=1.0, bar_style='info', max=1.0), HTML(value='')))"
      ]
     },
     "metadata": {},
     "output_type": "display_data"
    },
    {
     "name": "stdout",
     "output_type": "stream",
     "text": [
      "\n"
     ]
    },
    {
     "data": {
      "application/vnd.jupyter.widget-view+json": {
       "model_id": "aea10998011a45a295c42b4c05426a03",
       "version_major": 2,
       "version_minor": 0
      },
      "text/plain": [
       "HBox(children=(FloatProgress(value=0.0, description='Stats for learnlet_dynamic_256_dynamic_soft_thresholding_…"
      ]
     },
     "metadata": {},
     "output_type": "display_data"
    },
    {
     "name": "stdout",
     "output_type": "stream",
     "text": [
      "\n"
     ]
    },
    {
     "data": {
      "application/vnd.jupyter.widget-view+json": {
       "model_id": "950af12e2c6e48419d1fb7b457836ef5",
       "version_major": 2,
       "version_minor": 0
      },
      "text/plain": [
       "HBox(children=(FloatProgress(value=1.0, bar_style='info', max=1.0), HTML(value='')))"
      ]
     },
     "metadata": {},
     "output_type": "display_data"
    },
    {
     "name": "stdout",
     "output_type": "stream",
     "text": [
      "\n"
     ]
    },
    {
     "data": {
      "application/vnd.jupyter.widget-view+json": {
       "model_id": "57ed375e4b3842cb988ba13d8da7b1ca",
       "version_major": 2,
       "version_minor": 0
      },
      "text/plain": [
       "HBox(children=(FloatProgress(value=0.0, description='Stats for learnlet_dynamic_256_dynamic_soft_thresholding_…"
      ]
     },
     "metadata": {},
     "output_type": "display_data"
    },
    {
     "name": "stdout",
     "output_type": "stream",
     "text": [
      "\n"
     ]
    },
    {
     "data": {
      "application/vnd.jupyter.widget-view+json": {
       "model_id": "f64fd642d20b47fb8e2b558af8831a9e",
       "version_major": 2,
       "version_minor": 0
      },
      "text/plain": [
       "HBox(children=(FloatProgress(value=1.0, bar_style='info', max=1.0), HTML(value='')))"
      ]
     },
     "metadata": {},
     "output_type": "display_data"
    },
    {
     "name": "stdout",
     "output_type": "stream",
     "text": [
      "\n"
     ]
    },
    {
     "data": {
      "application/vnd.jupyter.widget-view+json": {
       "model_id": "a2d2d6e31e7340ec9e29feb49ee1602a",
       "version_major": 2,
       "version_minor": 0
      },
      "text/plain": [
       "HBox(children=(FloatProgress(value=0.0, description='Stats for learnlet_dynamic_256_dynamic_soft_thresholding_…"
      ]
     },
     "metadata": {},
     "output_type": "display_data"
    },
    {
     "name": "stdout",
     "output_type": "stream",
     "text": [
      "\n"
     ]
    },
    {
     "data": {
      "application/vnd.jupyter.widget-view+json": {
       "model_id": "b5998ed61e494f90bd348808e6312893",
       "version_major": 2,
       "version_minor": 0
      },
      "text/plain": [
       "HBox(children=(FloatProgress(value=1.0, bar_style='info', max=1.0), HTML(value='')))"
      ]
     },
     "metadata": {},
     "output_type": "display_data"
    },
    {
     "name": "stdout",
     "output_type": "stream",
     "text": [
      "\n"
     ]
    },
    {
     "data": {
      "application/vnd.jupyter.widget-view+json": {
       "model_id": "0bc86106e176473c80370bd07c41c3e5",
       "version_major": 2,
       "version_minor": 0
      },
      "text/plain": [
       "HBox(children=(FloatProgress(value=0.0, description='Stats for unet_dynamic_st_bsd500_0_55_1576668365', max=68…"
      ]
     },
     "metadata": {},
     "output_type": "display_data"
    },
    {
     "name": "stdout",
     "output_type": "stream",
     "text": [
      "\n"
     ]
    },
    {
     "data": {
      "application/vnd.jupyter.widget-view+json": {
       "model_id": "09de1384ce5c42efb2bcbdf2a26a9945",
       "version_major": 2,
       "version_minor": 0
      },
      "text/plain": [
       "HBox(children=(FloatProgress(value=1.0, bar_style='info', max=1.0), HTML(value='')))"
      ]
     },
     "metadata": {},
     "output_type": "display_data"
    },
    {
     "name": "stdout",
     "output_type": "stream",
     "text": [
      "\n"
     ]
    },
    {
     "data": {
      "application/vnd.jupyter.widget-view+json": {
       "model_id": "c29fe34d2cd845f39606453c22ed11be",
       "version_major": 2,
       "version_minor": 0
      },
      "text/plain": [
       "HBox(children=(FloatProgress(value=0.0, description='Stats for unet_dynamic_st_bsd500_0.0_55.0_100_1581509879'…"
      ]
     },
     "metadata": {},
     "output_type": "display_data"
    },
    {
     "name": "stdout",
     "output_type": "stream",
     "text": [
      "\n"
     ]
    },
    {
     "data": {
      "application/vnd.jupyter.widget-view+json": {
       "model_id": "5fac5370c8a44def943a0b66ac63d471",
       "version_major": 2,
       "version_minor": 0
      },
      "text/plain": [
       "HBox(children=(FloatProgress(value=1.0, bar_style='info', max=1.0), HTML(value='')))"
      ]
     },
     "metadata": {},
     "output_type": "display_data"
    },
    {
     "name": "stdout",
     "output_type": "stream",
     "text": [
      "\n"
     ]
    },
    {
     "data": {
      "application/vnd.jupyter.widget-view+json": {
       "model_id": "c14f5100cad64bf390185f0dd2133aa7",
       "version_major": 2,
       "version_minor": 0
      },
      "text/plain": [
       "HBox(children=(FloatProgress(value=0.0, description='Stats for unet_dynamic_st_bsd500_0.0_55.0_10_1581509879',…"
      ]
     },
     "metadata": {},
     "output_type": "display_data"
    },
    {
     "name": "stdout",
     "output_type": "stream",
     "text": [
      "\n"
     ]
    },
    {
     "data": {
      "application/vnd.jupyter.widget-view+json": {
       "model_id": "672bac3d35124738b74ea36951bde734",
       "version_major": 2,
       "version_minor": 0
      },
      "text/plain": [
       "HBox(children=(FloatProgress(value=1.0, bar_style='info', max=1.0), HTML(value='')))"
      ]
     },
     "metadata": {},
     "output_type": "display_data"
    },
    {
     "name": "stdout",
     "output_type": "stream",
     "text": [
      "\n"
     ]
    },
    {
     "data": {
      "application/vnd.jupyter.widget-view+json": {
       "model_id": "209b917da05b472aa6cd369a14637d25",
       "version_major": 2,
       "version_minor": 0
      },
      "text/plain": [
       "HBox(children=(FloatProgress(value=0.0, description='Stats for unet_dynamic_st_bsd500_0.0_55.0_200_1581509879'…"
      ]
     },
     "metadata": {},
     "output_type": "display_data"
    },
    {
     "name": "stdout",
     "output_type": "stream",
     "text": [
      "\n"
     ]
    },
    {
     "data": {
      "application/vnd.jupyter.widget-view+json": {
       "model_id": "e3f061bf8c154b5789e297a015d68b9a",
       "version_major": 2,
       "version_minor": 0
      },
      "text/plain": [
       "HBox(children=(FloatProgress(value=1.0, bar_style='info', max=1.0), HTML(value='')))"
      ]
     },
     "metadata": {},
     "output_type": "display_data"
    },
    {
     "name": "stdout",
     "output_type": "stream",
     "text": [
      "\n"
     ]
    },
    {
     "data": {
      "application/vnd.jupyter.widget-view+json": {
       "model_id": "932cccb00ef84cbe9db0f680b76a3cab",
       "version_major": 2,
       "version_minor": 0
      },
      "text/plain": [
       "HBox(children=(FloatProgress(value=0.0, description='Stats for unet_dynamic_st_bsd500_0.0_55.0_50_1581509879',…"
      ]
     },
     "metadata": {},
     "output_type": "display_data"
    },
    {
     "name": "stdout",
     "output_type": "stream",
     "text": [
      "\n"
     ]
    },
    {
     "data": {
      "application/vnd.jupyter.widget-view+json": {
       "model_id": "74c7eb985b294d77b3b61d79e73c88e6",
       "version_major": 2,
       "version_minor": 0
      },
      "text/plain": [
       "HBox(children=(FloatProgress(value=1.0, bar_style='info', max=1.0), HTML(value='')))"
      ]
     },
     "metadata": {},
     "output_type": "display_data"
    },
    {
     "name": "stdout",
     "output_type": "stream",
     "text": [
      "\n"
     ]
    },
    {
     "data": {
      "application/vnd.jupyter.widget-view+json": {
       "model_id": "814e0ecb3f294f75842a40acbf7afc0f",
       "version_major": 2,
       "version_minor": 0
      },
      "text/plain": [
       "HBox(children=(FloatProgress(value=0.0, description='Stats for original noisy images', max=68.0, style=Progres…"
      ]
     },
     "metadata": {},
     "output_type": "display_data"
    },
    {
     "name": "stdout",
     "output_type": "stream",
     "text": [
      "\n"
     ]
    },
    {
     "data": {
      "application/vnd.jupyter.widget-view+json": {
       "model_id": "1ddfb639e6da4e9cac85d9937e880325",
       "version_major": 2,
       "version_minor": 0
      },
      "text/plain": [
       "HBox(children=(FloatProgress(value=1.0, bar_style='info', max=1.0), HTML(value='')))"
      ]
     },
     "metadata": {},
     "output_type": "display_data"
    },
    {
     "name": "stdout",
     "output_type": "stream",
     "text": [
      "\n"
     ]
    },
    {
     "data": {
      "application/vnd.jupyter.widget-view+json": {
       "model_id": "162b4cc99bee4e8fa76eb23facff6ac6",
       "version_major": 2,
       "version_minor": 0
      },
      "text/plain": [
       "HBox(children=(FloatProgress(value=0.0, description='Stats for learnlet_dynamic_st_bsd500_0_55_1580806694', ma…"
      ]
     },
     "metadata": {},
     "output_type": "display_data"
    },
    {
     "name": "stdout",
     "output_type": "stream",
     "text": [
      "\n"
     ]
    },
    {
     "data": {
      "application/vnd.jupyter.widget-view+json": {
       "model_id": "8f451731fdee4dbb9e43ab13d475a26c",
       "version_major": 2,
       "version_minor": 0
      },
      "text/plain": [
       "HBox(children=(FloatProgress(value=1.0, bar_style='info', max=1.0), HTML(value='')))"
      ]
     },
     "metadata": {},
     "output_type": "display_data"
    },
    {
     "name": "stdout",
     "output_type": "stream",
     "text": [
      "\n"
     ]
    },
    {
     "data": {
      "application/vnd.jupyter.widget-view+json": {
       "model_id": "3c4e534314734f5ca4a1488408cfa434",
       "version_major": 2,
       "version_minor": 0
      },
      "text/plain": [
       "HBox(children=(FloatProgress(value=0.0, description='Stats for learnlet_dynamic_256_dynamic_soft_thresholding_…"
      ]
     },
     "metadata": {},
     "output_type": "display_data"
    },
    {
     "name": "stdout",
     "output_type": "stream",
     "text": [
      "\n"
     ]
    },
    {
     "data": {
      "application/vnd.jupyter.widget-view+json": {
       "model_id": "50493761e52e48a6bdd62ed07f0cc1b6",
       "version_major": 2,
       "version_minor": 0
      },
      "text/plain": [
       "HBox(children=(FloatProgress(value=1.0, bar_style='info', max=1.0), HTML(value='')))"
      ]
     },
     "metadata": {},
     "output_type": "display_data"
    },
    {
     "name": "stdout",
     "output_type": "stream",
     "text": [
      "\n"
     ]
    },
    {
     "data": {
      "application/vnd.jupyter.widget-view+json": {
       "model_id": "5da609a3f41848a78920bd72e6be3c8c",
       "version_major": 2,
       "version_minor": 0
      },
      "text/plain": [
       "HBox(children=(FloatProgress(value=0.0, description='Stats for learnlet_dynamic_256_dynamic_soft_thresholding_…"
      ]
     },
     "metadata": {},
     "output_type": "display_data"
    },
    {
     "name": "stdout",
     "output_type": "stream",
     "text": [
      "\n"
     ]
    },
    {
     "data": {
      "application/vnd.jupyter.widget-view+json": {
       "model_id": "6f5b4aa69ebf4f068de8f00ad5ca8770",
       "version_major": 2,
       "version_minor": 0
      },
      "text/plain": [
       "HBox(children=(FloatProgress(value=1.0, bar_style='info', max=1.0), HTML(value='')))"
      ]
     },
     "metadata": {},
     "output_type": "display_data"
    },
    {
     "name": "stdout",
     "output_type": "stream",
     "text": [
      "\n"
     ]
    },
    {
     "data": {
      "application/vnd.jupyter.widget-view+json": {
       "model_id": "9aed3614da024cff9979f7f730aeb975",
       "version_major": 2,
       "version_minor": 0
      },
      "text/plain": [
       "HBox(children=(FloatProgress(value=0.0, description='Stats for learnlet_dynamic_256_dynamic_soft_thresholding_…"
      ]
     },
     "metadata": {},
     "output_type": "display_data"
    },
    {
     "name": "stdout",
     "output_type": "stream",
     "text": [
      "\n"
     ]
    },
    {
     "data": {
      "application/vnd.jupyter.widget-view+json": {
       "model_id": "f30ed106eca94eadbab6dfc948a821a7",
       "version_major": 2,
       "version_minor": 0
      },
      "text/plain": [
       "HBox(children=(FloatProgress(value=1.0, bar_style='info', max=1.0), HTML(value='')))"
      ]
     },
     "metadata": {},
     "output_type": "display_data"
    },
    {
     "name": "stdout",
     "output_type": "stream",
     "text": [
      "\n"
     ]
    },
    {
     "data": {
      "application/vnd.jupyter.widget-view+json": {
       "model_id": "21d3559ee1364b6587ddfaa098b4c97b",
       "version_major": 2,
       "version_minor": 0
      },
      "text/plain": [
       "HBox(children=(FloatProgress(value=0.0, description='Stats for learnlet_dynamic_256_dynamic_soft_thresholding_…"
      ]
     },
     "metadata": {},
     "output_type": "display_data"
    },
    {
     "name": "stdout",
     "output_type": "stream",
     "text": [
      "\n"
     ]
    },
    {
     "data": {
      "application/vnd.jupyter.widget-view+json": {
       "model_id": "48f58698431d4152adabb6d2c1fe500d",
       "version_major": 2,
       "version_minor": 0
      },
      "text/plain": [
       "HBox(children=(FloatProgress(value=1.0, bar_style='info', max=1.0), HTML(value='')))"
      ]
     },
     "metadata": {},
     "output_type": "display_data"
    },
    {
     "name": "stdout",
     "output_type": "stream",
     "text": [
      "\n"
     ]
    },
    {
     "data": {
      "application/vnd.jupyter.widget-view+json": {
       "model_id": "002428d9cd1742998f26c6c2790fd85a",
       "version_major": 2,
       "version_minor": 0
      },
      "text/plain": [
       "HBox(children=(FloatProgress(value=0.0, description='Stats for unet_dynamic_st_bsd500_0_55_1576668365', max=68…"
      ]
     },
     "metadata": {},
     "output_type": "display_data"
    },
    {
     "name": "stdout",
     "output_type": "stream",
     "text": [
      "\n"
     ]
    },
    {
     "data": {
      "application/vnd.jupyter.widget-view+json": {
       "model_id": "226ca732030d4b17888fd2ef54c4afd1",
       "version_major": 2,
       "version_minor": 0
      },
      "text/plain": [
       "HBox(children=(FloatProgress(value=1.0, bar_style='info', max=1.0), HTML(value='')))"
      ]
     },
     "metadata": {},
     "output_type": "display_data"
    },
    {
     "name": "stdout",
     "output_type": "stream",
     "text": [
      "\n"
     ]
    },
    {
     "data": {
      "application/vnd.jupyter.widget-view+json": {
       "model_id": "a437fb8b387843f4ad2cfc4bf4adab47",
       "version_major": 2,
       "version_minor": 0
      },
      "text/plain": [
       "HBox(children=(FloatProgress(value=0.0, description='Stats for unet_dynamic_st_bsd500_0.0_55.0_100_1581509879'…"
      ]
     },
     "metadata": {},
     "output_type": "display_data"
    },
    {
     "name": "stdout",
     "output_type": "stream",
     "text": [
      "\n"
     ]
    },
    {
     "data": {
      "application/vnd.jupyter.widget-view+json": {
       "model_id": "8b2422a007cd40a59eb3f8aeed93e6c0",
       "version_major": 2,
       "version_minor": 0
      },
      "text/plain": [
       "HBox(children=(FloatProgress(value=1.0, bar_style='info', max=1.0), HTML(value='')))"
      ]
     },
     "metadata": {},
     "output_type": "display_data"
    },
    {
     "name": "stdout",
     "output_type": "stream",
     "text": [
      "\n"
     ]
    },
    {
     "data": {
      "application/vnd.jupyter.widget-view+json": {
       "model_id": "31ac9c73804c44bd87d251b702584394",
       "version_major": 2,
       "version_minor": 0
      },
      "text/plain": [
       "HBox(children=(FloatProgress(value=0.0, description='Stats for unet_dynamic_st_bsd500_0.0_55.0_10_1581509879',…"
      ]
     },
     "metadata": {},
     "output_type": "display_data"
    },
    {
     "name": "stdout",
     "output_type": "stream",
     "text": [
      "\n"
     ]
    },
    {
     "data": {
      "application/vnd.jupyter.widget-view+json": {
       "model_id": "15face097b5449ce963e7dce399887cc",
       "version_major": 2,
       "version_minor": 0
      },
      "text/plain": [
       "HBox(children=(FloatProgress(value=1.0, bar_style='info', max=1.0), HTML(value='')))"
      ]
     },
     "metadata": {},
     "output_type": "display_data"
    },
    {
     "name": "stdout",
     "output_type": "stream",
     "text": [
      "\n"
     ]
    },
    {
     "data": {
      "application/vnd.jupyter.widget-view+json": {
       "model_id": "e501bba0f7464b45bb2bafa61feb9094",
       "version_major": 2,
       "version_minor": 0
      },
      "text/plain": [
       "HBox(children=(FloatProgress(value=0.0, description='Stats for unet_dynamic_st_bsd500_0.0_55.0_200_1581509879'…"
      ]
     },
     "metadata": {},
     "output_type": "display_data"
    },
    {
     "name": "stdout",
     "output_type": "stream",
     "text": [
      "\n"
     ]
    },
    {
     "data": {
      "application/vnd.jupyter.widget-view+json": {
       "model_id": "b6a1a8a0bc9f48b887d043b3882a8865",
       "version_major": 2,
       "version_minor": 0
      },
      "text/plain": [
       "HBox(children=(FloatProgress(value=1.0, bar_style='info', max=1.0), HTML(value='')))"
      ]
     },
     "metadata": {},
     "output_type": "display_data"
    },
    {
     "name": "stdout",
     "output_type": "stream",
     "text": [
      "\n"
     ]
    },
    {
     "data": {
      "application/vnd.jupyter.widget-view+json": {
       "model_id": "dfb701e046a84782b786e3ba2ec87e4a",
       "version_major": 2,
       "version_minor": 0
      },
      "text/plain": [
       "HBox(children=(FloatProgress(value=0.0, description='Stats for unet_dynamic_st_bsd500_0.0_55.0_50_1581509879',…"
      ]
     },
     "metadata": {},
     "output_type": "display_data"
    },
    {
     "name": "stdout",
     "output_type": "stream",
     "text": [
      "\n"
     ]
    },
    {
     "data": {
      "application/vnd.jupyter.widget-view+json": {
       "model_id": "c2fcd3626430437d948a2f2213ae8cb2",
       "version_major": 2,
       "version_minor": 0
      },
      "text/plain": [
       "HBox(children=(FloatProgress(value=1.0, bar_style='info', max=1.0), HTML(value='')))"
      ]
     },
     "metadata": {},
     "output_type": "display_data"
    },
    {
     "name": "stdout",
     "output_type": "stream",
     "text": [
      "\n"
     ]
    },
    {
     "data": {
      "application/vnd.jupyter.widget-view+json": {
       "model_id": "2b79048c3c8e483ba84b1659c7ec81a7",
       "version_major": 2,
       "version_minor": 0
      },
      "text/plain": [
       "HBox(children=(FloatProgress(value=0.0, description='Stats for original noisy images', max=68.0, style=Progres…"
      ]
     },
     "metadata": {},
     "output_type": "display_data"
    },
    {
     "name": "stdout",
     "output_type": "stream",
     "text": [
      "\n"
     ]
    },
    {
     "data": {
      "application/vnd.jupyter.widget-view+json": {
       "model_id": "ca74763ca5144c4eaf12884a82be1fb3",
       "version_major": 2,
       "version_minor": 0
      },
      "text/plain": [
       "HBox(children=(FloatProgress(value=1.0, bar_style='info', max=1.0), HTML(value='')))"
      ]
     },
     "metadata": {},
     "output_type": "display_data"
    },
    {
     "name": "stdout",
     "output_type": "stream",
     "text": [
      "\n"
     ]
    },
    {
     "data": {
      "application/vnd.jupyter.widget-view+json": {
       "model_id": "a1f48e13a11241f299b3faa1d94a8de4",
       "version_major": 2,
       "version_minor": 0
      },
      "text/plain": [
       "HBox(children=(FloatProgress(value=0.0, description='Stats for learnlet_dynamic_st_bsd500_0_55_1580806694', ma…"
      ]
     },
     "metadata": {},
     "output_type": "display_data"
    },
    {
     "name": "stdout",
     "output_type": "stream",
     "text": [
      "\n"
     ]
    },
    {
     "data": {
      "application/vnd.jupyter.widget-view+json": {
       "model_id": "0fbf04d959dd4e25bda0d118ac738b56",
       "version_major": 2,
       "version_minor": 0
      },
      "text/plain": [
       "HBox(children=(FloatProgress(value=1.0, bar_style='info', max=1.0), HTML(value='')))"
      ]
     },
     "metadata": {},
     "output_type": "display_data"
    },
    {
     "name": "stdout",
     "output_type": "stream",
     "text": [
      "\n"
     ]
    },
    {
     "data": {
      "application/vnd.jupyter.widget-view+json": {
       "model_id": "37897250ebfd45bf9b19f6f7f5252b82",
       "version_major": 2,
       "version_minor": 0
      },
      "text/plain": [
       "HBox(children=(FloatProgress(value=0.0, description='Stats for learnlet_dynamic_256_dynamic_soft_thresholding_…"
      ]
     },
     "metadata": {},
     "output_type": "display_data"
    },
    {
     "name": "stdout",
     "output_type": "stream",
     "text": [
      "\n"
     ]
    },
    {
     "data": {
      "application/vnd.jupyter.widget-view+json": {
       "model_id": "5378a2e607af462abc3a57b25e1a0a96",
       "version_major": 2,
       "version_minor": 0
      },
      "text/plain": [
       "HBox(children=(FloatProgress(value=1.0, bar_style='info', max=1.0), HTML(value='')))"
      ]
     },
     "metadata": {},
     "output_type": "display_data"
    },
    {
     "name": "stdout",
     "output_type": "stream",
     "text": [
      "\n"
     ]
    },
    {
     "data": {
      "application/vnd.jupyter.widget-view+json": {
       "model_id": "20ad579c1e5e43e38196d213bc01f2b4",
       "version_major": 2,
       "version_minor": 0
      },
      "text/plain": [
       "HBox(children=(FloatProgress(value=0.0, description='Stats for learnlet_dynamic_256_dynamic_soft_thresholding_…"
      ]
     },
     "metadata": {},
     "output_type": "display_data"
    },
    {
     "name": "stdout",
     "output_type": "stream",
     "text": [
      "\n"
     ]
    },
    {
     "data": {
      "application/vnd.jupyter.widget-view+json": {
       "model_id": "f03670c13a224cf7bdab8d16d42225ed",
       "version_major": 2,
       "version_minor": 0
      },
      "text/plain": [
       "HBox(children=(FloatProgress(value=1.0, bar_style='info', max=1.0), HTML(value='')))"
      ]
     },
     "metadata": {},
     "output_type": "display_data"
    },
    {
     "name": "stdout",
     "output_type": "stream",
     "text": [
      "\n"
     ]
    },
    {
     "data": {
      "application/vnd.jupyter.widget-view+json": {
       "model_id": "29fc0028178b49bdb8e8b8d0d0480c89",
       "version_major": 2,
       "version_minor": 0
      },
      "text/plain": [
       "HBox(children=(FloatProgress(value=0.0, description='Stats for learnlet_dynamic_256_dynamic_soft_thresholding_…"
      ]
     },
     "metadata": {},
     "output_type": "display_data"
    },
    {
     "name": "stdout",
     "output_type": "stream",
     "text": [
      "\n"
     ]
    },
    {
     "data": {
      "application/vnd.jupyter.widget-view+json": {
       "model_id": "96eb7fe36cba435ab055c8e8054b0ec7",
       "version_major": 2,
       "version_minor": 0
      },
      "text/plain": [
       "HBox(children=(FloatProgress(value=1.0, bar_style='info', max=1.0), HTML(value='')))"
      ]
     },
     "metadata": {},
     "output_type": "display_data"
    },
    {
     "name": "stdout",
     "output_type": "stream",
     "text": [
      "\n"
     ]
    },
    {
     "data": {
      "application/vnd.jupyter.widget-view+json": {
       "model_id": "564b6da5f2a44ba1b0d7981f0f82328c",
       "version_major": 2,
       "version_minor": 0
      },
      "text/plain": [
       "HBox(children=(FloatProgress(value=0.0, description='Stats for learnlet_dynamic_256_dynamic_soft_thresholding_…"
      ]
     },
     "metadata": {},
     "output_type": "display_data"
    },
    {
     "name": "stdout",
     "output_type": "stream",
     "text": [
      "\n"
     ]
    },
    {
     "data": {
      "application/vnd.jupyter.widget-view+json": {
       "model_id": "efd7f837550748fdb53c3ad91be06bd1",
       "version_major": 2,
       "version_minor": 0
      },
      "text/plain": [
       "HBox(children=(FloatProgress(value=1.0, bar_style='info', max=1.0), HTML(value='')))"
      ]
     },
     "metadata": {},
     "output_type": "display_data"
    },
    {
     "name": "stdout",
     "output_type": "stream",
     "text": [
      "\n"
     ]
    },
    {
     "data": {
      "application/vnd.jupyter.widget-view+json": {
       "model_id": "faf9d323e08d4e33a031e9a7b02bc567",
       "version_major": 2,
       "version_minor": 0
      },
      "text/plain": [
       "HBox(children=(FloatProgress(value=0.0, description='Stats for unet_dynamic_st_bsd500_0_55_1576668365', max=68…"
      ]
     },
     "metadata": {},
     "output_type": "display_data"
    },
    {
     "name": "stdout",
     "output_type": "stream",
     "text": [
      "\n"
     ]
    },
    {
     "data": {
      "application/vnd.jupyter.widget-view+json": {
       "model_id": "91e968a83b484f94a5bc652da2329d04",
       "version_major": 2,
       "version_minor": 0
      },
      "text/plain": [
       "HBox(children=(FloatProgress(value=1.0, bar_style='info', max=1.0), HTML(value='')))"
      ]
     },
     "metadata": {},
     "output_type": "display_data"
    },
    {
     "name": "stdout",
     "output_type": "stream",
     "text": [
      "\n"
     ]
    },
    {
     "data": {
      "application/vnd.jupyter.widget-view+json": {
       "model_id": "d5822738c1fc4112a6b7b18ff4b10cd8",
       "version_major": 2,
       "version_minor": 0
      },
      "text/plain": [
       "HBox(children=(FloatProgress(value=0.0, description='Stats for unet_dynamic_st_bsd500_0.0_55.0_100_1581509879'…"
      ]
     },
     "metadata": {},
     "output_type": "display_data"
    },
    {
     "name": "stdout",
     "output_type": "stream",
     "text": [
      "\n"
     ]
    },
    {
     "data": {
      "application/vnd.jupyter.widget-view+json": {
       "model_id": "468346643a0b4e5094ea2e866b4fa50e",
       "version_major": 2,
       "version_minor": 0
      },
      "text/plain": [
       "HBox(children=(FloatProgress(value=1.0, bar_style='info', max=1.0), HTML(value='')))"
      ]
     },
     "metadata": {},
     "output_type": "display_data"
    },
    {
     "name": "stdout",
     "output_type": "stream",
     "text": [
      "\n"
     ]
    },
    {
     "data": {
      "application/vnd.jupyter.widget-view+json": {
       "model_id": "d3185c2d50e34b45b04a334936136856",
       "version_major": 2,
       "version_minor": 0
      },
      "text/plain": [
       "HBox(children=(FloatProgress(value=0.0, description='Stats for unet_dynamic_st_bsd500_0.0_55.0_10_1581509879',…"
      ]
     },
     "metadata": {},
     "output_type": "display_data"
    },
    {
     "name": "stdout",
     "output_type": "stream",
     "text": [
      "\n"
     ]
    },
    {
     "data": {
      "application/vnd.jupyter.widget-view+json": {
       "model_id": "8a8a5f0f04c74cc8911d0985ae042f41",
       "version_major": 2,
       "version_minor": 0
      },
      "text/plain": [
       "HBox(children=(FloatProgress(value=1.0, bar_style='info', max=1.0), HTML(value='')))"
      ]
     },
     "metadata": {},
     "output_type": "display_data"
    },
    {
     "name": "stdout",
     "output_type": "stream",
     "text": [
      "\n"
     ]
    },
    {
     "data": {
      "application/vnd.jupyter.widget-view+json": {
       "model_id": "191d57f7c424439b90b96ee39d8b2bef",
       "version_major": 2,
       "version_minor": 0
      },
      "text/plain": [
       "HBox(children=(FloatProgress(value=0.0, description='Stats for unet_dynamic_st_bsd500_0.0_55.0_200_1581509879'…"
      ]
     },
     "metadata": {},
     "output_type": "display_data"
    },
    {
     "name": "stdout",
     "output_type": "stream",
     "text": [
      "\n"
     ]
    },
    {
     "data": {
      "application/vnd.jupyter.widget-view+json": {
       "model_id": "381ac778242f44fdb4a41c47911de9af",
       "version_major": 2,
       "version_minor": 0
      },
      "text/plain": [
       "HBox(children=(FloatProgress(value=1.0, bar_style='info', max=1.0), HTML(value='')))"
      ]
     },
     "metadata": {},
     "output_type": "display_data"
    },
    {
     "name": "stdout",
     "output_type": "stream",
     "text": [
      "\n"
     ]
    },
    {
     "data": {
      "application/vnd.jupyter.widget-view+json": {
       "model_id": "3fcd329b1fd44af287f35d5533e42e8a",
       "version_major": 2,
       "version_minor": 0
      },
      "text/plain": [
       "HBox(children=(FloatProgress(value=0.0, description='Stats for unet_dynamic_st_bsd500_0.0_55.0_50_1581509879',…"
      ]
     },
     "metadata": {},
     "output_type": "display_data"
    },
    {
     "name": "stdout",
     "output_type": "stream",
     "text": [
      "\n"
     ]
    },
    {
     "data": {
      "application/vnd.jupyter.widget-view+json": {
       "model_id": "b2c5d4e8c9bd43969c548e2fba31e270",
       "version_major": 2,
       "version_minor": 0
      },
      "text/plain": [
       "HBox(children=(FloatProgress(value=1.0, bar_style='info', max=1.0), HTML(value='')))"
      ]
     },
     "metadata": {},
     "output_type": "display_data"
    },
    {
     "name": "stdout",
     "output_type": "stream",
     "text": [
      "\n"
     ]
    },
    {
     "data": {
      "application/vnd.jupyter.widget-view+json": {
       "model_id": "cf28d31672be49878f3198ca172a7d5b",
       "version_major": 2,
       "version_minor": 0
      },
      "text/plain": [
       "HBox(children=(FloatProgress(value=0.0, description='Stats for original noisy images', max=68.0, style=Progres…"
      ]
     },
     "metadata": {},
     "output_type": "display_data"
    },
    {
     "name": "stdout",
     "output_type": "stream",
     "text": [
      "\n"
     ]
    },
    {
     "data": {
      "application/vnd.jupyter.widget-view+json": {
       "model_id": "2d936cdf62e74e4f87ab21caf24e2967",
       "version_major": 2,
       "version_minor": 0
      },
      "text/plain": [
       "HBox(children=(FloatProgress(value=1.0, bar_style='info', max=1.0), HTML(value='')))"
      ]
     },
     "metadata": {},
     "output_type": "display_data"
    },
    {
     "name": "stdout",
     "output_type": "stream",
     "text": [
      "\n"
     ]
    },
    {
     "data": {
      "application/vnd.jupyter.widget-view+json": {
       "model_id": "d2b8eae623634501ab6e64763b33e142",
       "version_major": 2,
       "version_minor": 0
      },
      "text/plain": [
       "HBox(children=(FloatProgress(value=0.0, description='Stats for learnlet_dynamic_st_bsd500_0_55_1580806694', ma…"
      ]
     },
     "metadata": {},
     "output_type": "display_data"
    },
    {
     "name": "stdout",
     "output_type": "stream",
     "text": [
      "\n"
     ]
    },
    {
     "data": {
      "application/vnd.jupyter.widget-view+json": {
       "model_id": "ed5218431cbc46e08c5f27eee0af59d4",
       "version_major": 2,
       "version_minor": 0
      },
      "text/plain": [
       "HBox(children=(FloatProgress(value=1.0, bar_style='info', max=1.0), HTML(value='')))"
      ]
     },
     "metadata": {},
     "output_type": "display_data"
    },
    {
     "name": "stdout",
     "output_type": "stream",
     "text": [
      "\n"
     ]
    },
    {
     "data": {
      "application/vnd.jupyter.widget-view+json": {
       "model_id": "9c79e316c75b40798cf6b137fafa2c2b",
       "version_major": 2,
       "version_minor": 0
      },
      "text/plain": [
       "HBox(children=(FloatProgress(value=0.0, description='Stats for learnlet_dynamic_256_dynamic_soft_thresholding_…"
      ]
     },
     "metadata": {},
     "output_type": "display_data"
    },
    {
     "name": "stdout",
     "output_type": "stream",
     "text": [
      "\n"
     ]
    },
    {
     "data": {
      "application/vnd.jupyter.widget-view+json": {
       "model_id": "7622e076ab3c4a84a647b46c79752fb2",
       "version_major": 2,
       "version_minor": 0
      },
      "text/plain": [
       "HBox(children=(FloatProgress(value=1.0, bar_style='info', max=1.0), HTML(value='')))"
      ]
     },
     "metadata": {},
     "output_type": "display_data"
    },
    {
     "name": "stdout",
     "output_type": "stream",
     "text": [
      "\n"
     ]
    },
    {
     "data": {
      "application/vnd.jupyter.widget-view+json": {
       "model_id": "5145326b689542e8bb4f7cac2fc3372d",
       "version_major": 2,
       "version_minor": 0
      },
      "text/plain": [
       "HBox(children=(FloatProgress(value=0.0, description='Stats for learnlet_dynamic_256_dynamic_soft_thresholding_…"
      ]
     },
     "metadata": {},
     "output_type": "display_data"
    },
    {
     "name": "stdout",
     "output_type": "stream",
     "text": [
      "\n"
     ]
    },
    {
     "data": {
      "application/vnd.jupyter.widget-view+json": {
       "model_id": "0ff978ff1c2c4388a011b33482a1b23b",
       "version_major": 2,
       "version_minor": 0
      },
      "text/plain": [
       "HBox(children=(FloatProgress(value=1.0, bar_style='info', max=1.0), HTML(value='')))"
      ]
     },
     "metadata": {},
     "output_type": "display_data"
    },
    {
     "name": "stdout",
     "output_type": "stream",
     "text": [
      "\n"
     ]
    },
    {
     "data": {
      "application/vnd.jupyter.widget-view+json": {
       "model_id": "22156a259346415ea2c78ff377cfd290",
       "version_major": 2,
       "version_minor": 0
      },
      "text/plain": [
       "HBox(children=(FloatProgress(value=0.0, description='Stats for learnlet_dynamic_256_dynamic_soft_thresholding_…"
      ]
     },
     "metadata": {},
     "output_type": "display_data"
    },
    {
     "name": "stdout",
     "output_type": "stream",
     "text": [
      "\n"
     ]
    },
    {
     "data": {
      "application/vnd.jupyter.widget-view+json": {
       "model_id": "3cd75a9c030747e3b50c012e1a5a1abf",
       "version_major": 2,
       "version_minor": 0
      },
      "text/plain": [
       "HBox(children=(FloatProgress(value=1.0, bar_style='info', max=1.0), HTML(value='')))"
      ]
     },
     "metadata": {},
     "output_type": "display_data"
    },
    {
     "name": "stdout",
     "output_type": "stream",
     "text": [
      "\n"
     ]
    },
    {
     "data": {
      "application/vnd.jupyter.widget-view+json": {
       "model_id": "b51afcc763dc49a09373428925f6cd0e",
       "version_major": 2,
       "version_minor": 0
      },
      "text/plain": [
       "HBox(children=(FloatProgress(value=0.0, description='Stats for learnlet_dynamic_256_dynamic_soft_thresholding_…"
      ]
     },
     "metadata": {},
     "output_type": "display_data"
    },
    {
     "name": "stdout",
     "output_type": "stream",
     "text": [
      "\n"
     ]
    },
    {
     "data": {
      "application/vnd.jupyter.widget-view+json": {
       "model_id": "1696231fb625479f9f4b50b2f8be3320",
       "version_major": 2,
       "version_minor": 0
      },
      "text/plain": [
       "HBox(children=(FloatProgress(value=1.0, bar_style='info', max=1.0), HTML(value='')))"
      ]
     },
     "metadata": {},
     "output_type": "display_data"
    },
    {
     "name": "stdout",
     "output_type": "stream",
     "text": [
      "\n"
     ]
    },
    {
     "data": {
      "application/vnd.jupyter.widget-view+json": {
       "model_id": "f6fa4a7b387849229b6e5a8fe59b0997",
       "version_major": 2,
       "version_minor": 0
      },
      "text/plain": [
       "HBox(children=(FloatProgress(value=0.0, description='Stats for unet_dynamic_st_bsd500_0_55_1576668365', max=68…"
      ]
     },
     "metadata": {},
     "output_type": "display_data"
    },
    {
     "name": "stdout",
     "output_type": "stream",
     "text": [
      "\n"
     ]
    },
    {
     "data": {
      "application/vnd.jupyter.widget-view+json": {
       "model_id": "b8454eb438784a71ab97e6bf304a8352",
       "version_major": 2,
       "version_minor": 0
      },
      "text/plain": [
       "HBox(children=(FloatProgress(value=1.0, bar_style='info', max=1.0), HTML(value='')))"
      ]
     },
     "metadata": {},
     "output_type": "display_data"
    },
    {
     "name": "stdout",
     "output_type": "stream",
     "text": [
      "\n"
     ]
    },
    {
     "data": {
      "application/vnd.jupyter.widget-view+json": {
       "model_id": "f3a672a750604439a34731ad24075a43",
       "version_major": 2,
       "version_minor": 0
      },
      "text/plain": [
       "HBox(children=(FloatProgress(value=0.0, description='Stats for unet_dynamic_st_bsd500_0.0_55.0_100_1581509879'…"
      ]
     },
     "metadata": {},
     "output_type": "display_data"
    },
    {
     "name": "stdout",
     "output_type": "stream",
     "text": [
      "\n"
     ]
    },
    {
     "data": {
      "application/vnd.jupyter.widget-view+json": {
       "model_id": "0eb6c41a04fd470d9ccd511962683a63",
       "version_major": 2,
       "version_minor": 0
      },
      "text/plain": [
       "HBox(children=(FloatProgress(value=1.0, bar_style='info', max=1.0), HTML(value='')))"
      ]
     },
     "metadata": {},
     "output_type": "display_data"
    },
    {
     "name": "stdout",
     "output_type": "stream",
     "text": [
      "\n"
     ]
    },
    {
     "data": {
      "application/vnd.jupyter.widget-view+json": {
       "model_id": "250d9cee0e574f12963b20970537fd48",
       "version_major": 2,
       "version_minor": 0
      },
      "text/plain": [
       "HBox(children=(FloatProgress(value=0.0, description='Stats for unet_dynamic_st_bsd500_0.0_55.0_10_1581509879',…"
      ]
     },
     "metadata": {},
     "output_type": "display_data"
    },
    {
     "name": "stdout",
     "output_type": "stream",
     "text": [
      "\n"
     ]
    },
    {
     "data": {
      "application/vnd.jupyter.widget-view+json": {
       "model_id": "babddc47b1c240ee86877fb5fffea9f0",
       "version_major": 2,
       "version_minor": 0
      },
      "text/plain": [
       "HBox(children=(FloatProgress(value=1.0, bar_style='info', max=1.0), HTML(value='')))"
      ]
     },
     "metadata": {},
     "output_type": "display_data"
    },
    {
     "name": "stdout",
     "output_type": "stream",
     "text": [
      "\n"
     ]
    },
    {
     "data": {
      "application/vnd.jupyter.widget-view+json": {
       "model_id": "35eec99565464977998268ffa0e88d80",
       "version_major": 2,
       "version_minor": 0
      },
      "text/plain": [
       "HBox(children=(FloatProgress(value=0.0, description='Stats for unet_dynamic_st_bsd500_0.0_55.0_200_1581509879'…"
      ]
     },
     "metadata": {},
     "output_type": "display_data"
    },
    {
     "name": "stdout",
     "output_type": "stream",
     "text": [
      "\n"
     ]
    },
    {
     "data": {
      "application/vnd.jupyter.widget-view+json": {
       "model_id": "9c4df56020964c138b67ad38523f5936",
       "version_major": 2,
       "version_minor": 0
      },
      "text/plain": [
       "HBox(children=(FloatProgress(value=1.0, bar_style='info', max=1.0), HTML(value='')))"
      ]
     },
     "metadata": {},
     "output_type": "display_data"
    },
    {
     "name": "stdout",
     "output_type": "stream",
     "text": [
      "\n"
     ]
    },
    {
     "data": {
      "application/vnd.jupyter.widget-view+json": {
       "model_id": "ac36265680f44adcb8a871b7591e8660",
       "version_major": 2,
       "version_minor": 0
      },
      "text/plain": [
       "HBox(children=(FloatProgress(value=0.0, description='Stats for unet_dynamic_st_bsd500_0.0_55.0_50_1581509879',…"
      ]
     },
     "metadata": {},
     "output_type": "display_data"
    },
    {
     "name": "stdout",
     "output_type": "stream",
     "text": [
      "\n"
     ]
    },
    {
     "data": {
      "application/vnd.jupyter.widget-view+json": {
       "model_id": "44c628fc33024bfeb23943f7bb9fb9bb",
       "version_major": 2,
       "version_minor": 0
      },
      "text/plain": [
       "HBox(children=(FloatProgress(value=1.0, bar_style='info', max=1.0), HTML(value='')))"
      ]
     },
     "metadata": {},
     "output_type": "display_data"
    },
    {
     "name": "stdout",
     "output_type": "stream",
     "text": [
      "\n"
     ]
    },
    {
     "data": {
      "application/vnd.jupyter.widget-view+json": {
       "model_id": "7713aa2d805f468e98431a49235d0180",
       "version_major": 2,
       "version_minor": 0
      },
      "text/plain": [
       "HBox(children=(FloatProgress(value=0.0, description='Stats for original noisy images', max=68.0, style=Progres…"
      ]
     },
     "metadata": {},
     "output_type": "display_data"
    },
    {
     "name": "stdout",
     "output_type": "stream",
     "text": [
      "\n"
     ]
    },
    {
     "data": {
      "application/vnd.jupyter.widget-view+json": {
       "model_id": "0b07013e914b4857bd6324bf6a293a55",
       "version_major": 2,
       "version_minor": 0
      },
      "text/plain": [
       "HBox(children=(FloatProgress(value=1.0, bar_style='info', max=1.0), HTML(value='')))"
      ]
     },
     "metadata": {},
     "output_type": "display_data"
    },
    {
     "name": "stdout",
     "output_type": "stream",
     "text": [
      "\n"
     ]
    },
    {
     "data": {
      "application/vnd.jupyter.widget-view+json": {
       "model_id": "5bbb3ae7a1df40bba95df2662e6008c9",
       "version_major": 2,
       "version_minor": 0
      },
      "text/plain": [
       "HBox(children=(FloatProgress(value=0.0, description='Stats for learnlet_dynamic_st_bsd500_0_55_1580806694', ma…"
      ]
     },
     "metadata": {},
     "output_type": "display_data"
    },
    {
     "name": "stdout",
     "output_type": "stream",
     "text": [
      "\n"
     ]
    },
    {
     "data": {
      "application/vnd.jupyter.widget-view+json": {
       "model_id": "07ddfd0b131b4bab8550595e54f3e329",
       "version_major": 2,
       "version_minor": 0
      },
      "text/plain": [
       "HBox(children=(FloatProgress(value=1.0, bar_style='info', max=1.0), HTML(value='')))"
      ]
     },
     "metadata": {},
     "output_type": "display_data"
    },
    {
     "name": "stdout",
     "output_type": "stream",
     "text": [
      "\n"
     ]
    },
    {
     "data": {
      "application/vnd.jupyter.widget-view+json": {
       "model_id": "53f4b72c22b64be7bb5c0d575849b01f",
       "version_major": 2,
       "version_minor": 0
      },
      "text/plain": [
       "HBox(children=(FloatProgress(value=0.0, description='Stats for learnlet_dynamic_256_dynamic_soft_thresholding_…"
      ]
     },
     "metadata": {},
     "output_type": "display_data"
    },
    {
     "name": "stdout",
     "output_type": "stream",
     "text": [
      "\n"
     ]
    },
    {
     "data": {
      "application/vnd.jupyter.widget-view+json": {
       "model_id": "7943317b2ca546339e597c5cf614a2cc",
       "version_major": 2,
       "version_minor": 0
      },
      "text/plain": [
       "HBox(children=(FloatProgress(value=1.0, bar_style='info', max=1.0), HTML(value='')))"
      ]
     },
     "metadata": {},
     "output_type": "display_data"
    },
    {
     "name": "stdout",
     "output_type": "stream",
     "text": [
      "\n"
     ]
    },
    {
     "data": {
      "application/vnd.jupyter.widget-view+json": {
       "model_id": "2d96cbff58a64578bb50a7bcbdd546a3",
       "version_major": 2,
       "version_minor": 0
      },
      "text/plain": [
       "HBox(children=(FloatProgress(value=0.0, description='Stats for learnlet_dynamic_256_dynamic_soft_thresholding_…"
      ]
     },
     "metadata": {},
     "output_type": "display_data"
    },
    {
     "name": "stdout",
     "output_type": "stream",
     "text": [
      "\n"
     ]
    },
    {
     "data": {
      "application/vnd.jupyter.widget-view+json": {
       "model_id": "bce979f2b27b49c9b3c6059fb00a13a6",
       "version_major": 2,
       "version_minor": 0
      },
      "text/plain": [
       "HBox(children=(FloatProgress(value=1.0, bar_style='info', max=1.0), HTML(value='')))"
      ]
     },
     "metadata": {},
     "output_type": "display_data"
    },
    {
     "name": "stdout",
     "output_type": "stream",
     "text": [
      "\n"
     ]
    },
    {
     "data": {
      "application/vnd.jupyter.widget-view+json": {
       "model_id": "44ffa3c306e948ad8b25912551559084",
       "version_major": 2,
       "version_minor": 0
      },
      "text/plain": [
       "HBox(children=(FloatProgress(value=0.0, description='Stats for learnlet_dynamic_256_dynamic_soft_thresholding_…"
      ]
     },
     "metadata": {},
     "output_type": "display_data"
    },
    {
     "name": "stdout",
     "output_type": "stream",
     "text": [
      "\n"
     ]
    },
    {
     "data": {
      "application/vnd.jupyter.widget-view+json": {
       "model_id": "bf5c4a18c4444663a9022049b73282a0",
       "version_major": 2,
       "version_minor": 0
      },
      "text/plain": [
       "HBox(children=(FloatProgress(value=1.0, bar_style='info', max=1.0), HTML(value='')))"
      ]
     },
     "metadata": {},
     "output_type": "display_data"
    },
    {
     "name": "stdout",
     "output_type": "stream",
     "text": [
      "\n"
     ]
    },
    {
     "data": {
      "application/vnd.jupyter.widget-view+json": {
       "model_id": "a00d0a52b39d440b90c77d0afa539ba6",
       "version_major": 2,
       "version_minor": 0
      },
      "text/plain": [
       "HBox(children=(FloatProgress(value=0.0, description='Stats for learnlet_dynamic_256_dynamic_soft_thresholding_…"
      ]
     },
     "metadata": {},
     "output_type": "display_data"
    },
    {
     "name": "stdout",
     "output_type": "stream",
     "text": [
      "\n",
      "\n"
     ]
    }
   ],
   "source": [
    "noise_std_metrics = {}\n",
    "n_samples = None\n",
    "for noise_std in tqdm_notebook(noise_stds, 'Noise stds'):\n",
    "    metrics = []\n",
    "    for net_params in all_net_params:\n",
    "        im_ds = im_dataset_bsd68(\n",
    "            mode='testing', \n",
    "            batch_size=1, \n",
    "            patch_size=None, \n",
    "            noise_std=noise_std, \n",
    "            return_noise_level=False,\n",
    "            n_pooling=5,\n",
    "            n_samples=n_samples,\n",
    "        )\n",
    "        metrics.append((net_params['name'], metrics_from_ds(im_ds, **net_params)))\n",
    "    im_ds = im_dataset_bsd68(\n",
    "        mode='testing', \n",
    "        batch_size=1, \n",
    "        patch_size=None, \n",
    "        noise_std=noise_std, \n",
    "        return_noise_level=False,\n",
    "        n_pooling=5,\n",
    "        n_samples=n_samples,\n",
    "    )\n",
    "    metrics.append(('original', metrics_original_from_ds(im_ds)))\n",
    "        \n",
    "    for net_params in dynamic_denoising_net_params:\n",
    "        im_ds = im_dataset_bsd68(\n",
    "            mode='testing', \n",
    "            batch_size=1, \n",
    "            patch_size=None, \n",
    "            noise_std=noise_std, \n",
    "            return_noise_level=True,\n",
    "            n_pooling=5,\n",
    "            n_samples=n_samples,\n",
    "        )\n",
    "        metrics.append((net_params['name'], metrics_from_ds(im_ds, **net_params)))\n",
    "\n",
    "#     metrics.append(('bm3d', metrics_bm3d(im_gen_test)))\n",
    "#     metrics.append(('wavelets_24', metrics_wavelets(im_gen_test, '24', noise_std=noise_std)))\n",
    "#     metrics.sort(key=lambda x: x[1].metrics['PSNR'].mean())\n",
    "    noise_std_metrics[noise_std] = metrics"
   ]
  },
  {
   "cell_type": "code",
   "execution_count": 8,
   "metadata": {},
   "outputs": [
    {
     "data": {
      "text/plain": [
       "{5: [('unet_dynamic_st_bsd500_0_55_1576668365',\n",
       "   PSNR = 37.61 +/- 3.714 SSIM = 0.9652 +/- 0.02465),\n",
       "  ('unet_dynamic_st_bsd500_0.0_55.0_100_1581509879',\n",
       "   PSNR = 37.57 +/- 3.719 SSIM = 0.9647 +/- 0.02577),\n",
       "  ('unet_dynamic_st_bsd500_0.0_55.0_10_1581509879',\n",
       "   PSNR = 37.58 +/- 3.727 SSIM = 0.9646 +/- 0.02523),\n",
       "  ('unet_dynamic_st_bsd500_0.0_55.0_200_1581509879',\n",
       "   PSNR = 37.65 +/- 3.711 SSIM = 0.9653 +/- 0.02484),\n",
       "  ('unet_dynamic_st_bsd500_0.0_55.0_50_1581509879',\n",
       "   PSNR = 37.62 +/- 3.712 SSIM = 0.9651 +/- 0.02446),\n",
       "  ('original', PSNR = 34.15 +/- 0.03119 SSIM = 0.8855 +/- 0.1019),\n",
       "  ('learnlet_dynamic_st_bsd500_0_55_1580806694',\n",
       "   PSNR = 36.38 +/- 4.067 SSIM = 0.9568 +/- 0.03058),\n",
       "  ('learnlet_dynamic_256_dynamic_soft_thresholding_bsd500_0.0_55.0_100_1581526036',\n",
       "   PSNR = 36.37 +/- 4.005 SSIM = 0.9565 +/- 0.0307),\n",
       "  ('learnlet_dynamic_256_dynamic_soft_thresholding_bsd500_0.0_55.0_10_1581526036',\n",
       "   PSNR = 36.44 +/- 3.876 SSIM = 0.9564 +/- 0.03115),\n",
       "  ('learnlet_dynamic_256_dynamic_soft_thresholding_bsd500_0.0_55.0_200_1581526036',\n",
       "   PSNR = 36.44 +/- 3.972 SSIM = 0.9568 +/- 0.03038),\n",
       "  ('learnlet_dynamic_256_dynamic_soft_thresholding_bsd500_0.0_55.0_50_1581526036',\n",
       "   PSNR = 36.51 +/- 3.877 SSIM = 0.9569 +/- 0.03103)],\n",
       " 15: [('unet_dynamic_st_bsd500_0_55_1576668365',\n",
       "   PSNR = 31.59 +/- 4.88 SSIM = 0.8829 +/- 0.0851),\n",
       "  ('unet_dynamic_st_bsd500_0.0_55.0_100_1581509879',\n",
       "   PSNR = 31.54 +/- 4.857 SSIM = 0.8808 +/- 0.08765),\n",
       "  ('unet_dynamic_st_bsd500_0.0_55.0_10_1581509879',\n",
       "   PSNR = 31.55 +/- 4.868 SSIM = 0.8801 +/- 0.08988),\n",
       "  ('unet_dynamic_st_bsd500_0.0_55.0_200_1581509879',\n",
       "   PSNR = 31.53 +/- 4.896 SSIM = 0.8804 +/- 0.08854),\n",
       "  ('unet_dynamic_st_bsd500_0.0_55.0_50_1581509879',\n",
       "   PSNR = 31.56 +/- 4.889 SSIM = 0.8808 +/- 0.08737),\n",
       "  ('original', PSNR = 24.61 +/- 0.03604 SSIM = 0.5691 +/- 0.2587),\n",
       "  ('learnlet_dynamic_st_bsd500_0_55_1580806694',\n",
       "   PSNR = 30.84 +/- 4.744 SSIM = 0.8588 +/- 0.09552),\n",
       "  ('learnlet_dynamic_256_dynamic_soft_thresholding_bsd500_0.0_55.0_100_1581526036',\n",
       "   PSNR = 30.83 +/- 4.742 SSIM = 0.8589 +/- 0.09474),\n",
       "  ('learnlet_dynamic_256_dynamic_soft_thresholding_bsd500_0.0_55.0_10_1581526036',\n",
       "   PSNR = 30.8 +/- 4.684 SSIM = 0.8575 +/- 0.09589),\n",
       "  ('learnlet_dynamic_256_dynamic_soft_thresholding_bsd500_0.0_55.0_200_1581526036',\n",
       "   PSNR = 30.84 +/- 4.724 SSIM = 0.8587 +/- 0.09586),\n",
       "  ('learnlet_dynamic_256_dynamic_soft_thresholding_bsd500_0.0_55.0_50_1581526036',\n",
       "   PSNR = 30.83 +/- 4.702 SSIM = 0.8583 +/- 0.09559)],\n",
       " 20: [('unet_dynamic_st_bsd500_0_55_1576668365',\n",
       "   PSNR = 30.21 +/- 5.099 SSIM = 0.8462 +/- 0.1071),\n",
       "  ('unet_dynamic_st_bsd500_0.0_55.0_100_1581509879',\n",
       "   PSNR = 30.16 +/- 5.106 SSIM = 0.8438 +/- 0.1104),\n",
       "  ('unet_dynamic_st_bsd500_0.0_55.0_10_1581509879',\n",
       "   PSNR = 30.15 +/- 5.104 SSIM = 0.8428 +/- 0.1144),\n",
       "  ('unet_dynamic_st_bsd500_0.0_55.0_200_1581509879',\n",
       "   PSNR = 30.12 +/- 5.112 SSIM = 0.8422 +/- 0.113),\n",
       "  ('unet_dynamic_st_bsd500_0.0_55.0_50_1581509879',\n",
       "   PSNR = 30.16 +/- 5.115 SSIM = 0.8435 +/- 0.1123),\n",
       "  ('original', PSNR = 22.11 +/- 0.03544 SSIM = 0.4661 +/- 0.2659),\n",
       "  ('learnlet_dynamic_st_bsd500_0_55_1580806694',\n",
       "   PSNR = 29.48 +/- 4.855 SSIM = 0.8154 +/- 0.1105),\n",
       "  ('learnlet_dynamic_256_dynamic_soft_thresholding_bsd500_0.0_55.0_100_1581526036',\n",
       "   PSNR = 29.47 +/- 4.858 SSIM = 0.8155 +/- 0.1109),\n",
       "  ('learnlet_dynamic_256_dynamic_soft_thresholding_bsd500_0.0_55.0_10_1581526036',\n",
       "   PSNR = 29.44 +/- 4.825 SSIM = 0.814 +/- 0.11),\n",
       "  ('learnlet_dynamic_256_dynamic_soft_thresholding_bsd500_0.0_55.0_200_1581526036',\n",
       "   PSNR = 29.48 +/- 4.833 SSIM = 0.8155 +/- 0.1104),\n",
       "  ('learnlet_dynamic_256_dynamic_soft_thresholding_bsd500_0.0_55.0_50_1581526036',\n",
       "   PSNR = 29.47 +/- 4.842 SSIM = 0.8149 +/- 0.1104)],\n",
       " 25: [('unet_dynamic_st_bsd500_0_55_1576668365',\n",
       "   PSNR = 29.18 +/- 5.237 SSIM = 0.8131 +/- 0.1274),\n",
       "  ('unet_dynamic_st_bsd500_0.0_55.0_100_1581509879',\n",
       "   PSNR = 29.13 +/- 5.209 SSIM = 0.8103 +/- 0.1284),\n",
       "  ('unet_dynamic_st_bsd500_0.0_55.0_10_1581509879',\n",
       "   PSNR = 29.13 +/- 5.216 SSIM = 0.8098 +/- 0.1303),\n",
       "  ('unet_dynamic_st_bsd500_0.0_55.0_200_1581509879',\n",
       "   PSNR = 29.08 +/- 5.234 SSIM = 0.8085 +/- 0.1292),\n",
       "  ('unet_dynamic_st_bsd500_0.0_55.0_50_1581509879',\n",
       "   PSNR = 29.13 +/- 5.251 SSIM = 0.81 +/- 0.1292),\n",
       "  ('original', PSNR = 20.17 +/- 0.03409 SSIM = 0.3885 +/- 0.2565),\n",
       "  ('learnlet_dynamic_st_bsd500_0_55_1580806694',\n",
       "   PSNR = 28.47 +/- 4.911 SSIM = 0.7759 +/- 0.1197),\n",
       "  ('learnlet_dynamic_256_dynamic_soft_thresholding_bsd500_0.0_55.0_100_1581526036',\n",
       "   PSNR = 28.46 +/- 4.904 SSIM = 0.7759 +/- 0.1198),\n",
       "  ('learnlet_dynamic_256_dynamic_soft_thresholding_bsd500_0.0_55.0_10_1581526036',\n",
       "   PSNR = 28.42 +/- 4.894 SSIM = 0.7738 +/- 0.1193),\n",
       "  ('learnlet_dynamic_256_dynamic_soft_thresholding_bsd500_0.0_55.0_200_1581526036',\n",
       "   PSNR = 28.47 +/- 4.901 SSIM = 0.7763 +/- 0.1196),\n",
       "  ('learnlet_dynamic_256_dynamic_soft_thresholding_bsd500_0.0_55.0_50_1581526036',\n",
       "   PSNR = 28.45 +/- 4.893 SSIM = 0.7752 +/- 0.12)],\n",
       " 30: [('unet_dynamic_st_bsd500_0_55_1576668365',\n",
       "   PSNR = 28.37 +/- 5.301 SSIM = 0.7826 +/- 0.1438),\n",
       "  ('unet_dynamic_st_bsd500_0.0_55.0_100_1581509879',\n",
       "   PSNR = 28.33 +/- 5.309 SSIM = 0.78 +/- 0.143),\n",
       "  ('unet_dynamic_st_bsd500_0.0_55.0_10_1581509879',\n",
       "   PSNR = 28.33 +/- 5.343 SSIM = 0.7794 +/- 0.146),\n",
       "  ('unet_dynamic_st_bsd500_0.0_55.0_200_1581509879',\n",
       "   PSNR = 28.27 +/- 5.334 SSIM = 0.7777 +/- 0.1444),\n",
       "  ('unet_dynamic_st_bsd500_0.0_55.0_50_1581509879',\n",
       "   PSNR = 28.32 +/- 5.32 SSIM = 0.7795 +/- 0.1455),\n",
       "  ('original', PSNR = 18.59 +/- 0.02484 SSIM = 0.3279 +/- 0.2398),\n",
       "  ('learnlet_dynamic_st_bsd500_0_55_1580806694',\n",
       "   PSNR = 27.66 +/- 4.904 SSIM = 0.7401 +/- 0.1254),\n",
       "  ('learnlet_dynamic_256_dynamic_soft_thresholding_bsd500_0.0_55.0_100_1581526036',\n",
       "   PSNR = 27.66 +/- 4.909 SSIM = 0.7398 +/- 0.1258),\n",
       "  ('learnlet_dynamic_256_dynamic_soft_thresholding_bsd500_0.0_55.0_10_1581526036',\n",
       "   PSNR = 27.61 +/- 4.902 SSIM = 0.7377 +/- 0.1253),\n",
       "  ('learnlet_dynamic_256_dynamic_soft_thresholding_bsd500_0.0_55.0_200_1581526036',\n",
       "   PSNR = 27.66 +/- 4.909 SSIM = 0.74 +/- 0.1256),\n",
       "  ('learnlet_dynamic_256_dynamic_soft_thresholding_bsd500_0.0_55.0_50_1581526036',\n",
       "   PSNR = 27.64 +/- 4.914 SSIM = 0.7387 +/- 0.1261)],\n",
       " 50: [('unet_dynamic_st_bsd500_0_55_1576668365',\n",
       "   PSNR = 26.28 +/- 5.451 SSIM = 0.6883 +/- 0.1805),\n",
       "  ('unet_dynamic_st_bsd500_0.0_55.0_100_1581509879',\n",
       "   PSNR = 26.24 +/- 5.416 SSIM = 0.6862 +/- 0.182),\n",
       "  ('unet_dynamic_st_bsd500_0.0_55.0_10_1581509879',\n",
       "   PSNR = 26.24 +/- 5.432 SSIM = 0.6857 +/- 0.1829),\n",
       "  ('unet_dynamic_st_bsd500_0.0_55.0_200_1581509879',\n",
       "   PSNR = 26.22 +/- 5.477 SSIM = 0.6852 +/- 0.1844),\n",
       "  ('unet_dynamic_st_bsd500_0.0_55.0_50_1581509879',\n",
       "   PSNR = 26.24 +/- 5.46 SSIM = 0.6865 +/- 0.1832),\n",
       "  ('original', PSNR = 14.15 +/- 0.03437 SSIM = 0.1833 +/- 0.1669),\n",
       "  ('learnlet_dynamic_st_bsd500_0_55_1580806694',\n",
       "   PSNR = 25.48 +/- 4.749 SSIM = 0.6196 +/- 0.1341),\n",
       "  ('learnlet_dynamic_256_dynamic_soft_thresholding_bsd500_0.0_55.0_100_1581526036',\n",
       "   PSNR = 25.48 +/- 4.76 SSIM = 0.6202 +/- 0.1351),\n",
       "  ('learnlet_dynamic_256_dynamic_soft_thresholding_bsd500_0.0_55.0_10_1581526036',\n",
       "   PSNR = 25.43 +/- 4.716 SSIM = 0.6171 +/- 0.1327),\n",
       "  ('learnlet_dynamic_256_dynamic_soft_thresholding_bsd500_0.0_55.0_200_1581526036',\n",
       "   PSNR = 25.48 +/- 4.743 SSIM = 0.6203 +/- 0.1355),\n",
       "  ('learnlet_dynamic_256_dynamic_soft_thresholding_bsd500_0.0_55.0_50_1581526036',\n",
       "   PSNR = 25.47 +/- 4.749 SSIM = 0.6187 +/- 0.1339)],\n",
       " 75: [('unet_dynamic_st_bsd500_0_55_1576668365',\n",
       "   PSNR = 22.29 +/- 2.86 SSIM = 0.4071 +/- 0.148),\n",
       "  ('unet_dynamic_st_bsd500_0.0_55.0_100_1581509879',\n",
       "   PSNR = 24.7 +/- 5.384 SSIM = 0.6066 +/- 0.2012),\n",
       "  ('unet_dynamic_st_bsd500_0.0_55.0_10_1581509879',\n",
       "   PSNR = 24.68 +/- 5.372 SSIM = 0.605 +/- 0.2046),\n",
       "  ('unet_dynamic_st_bsd500_0.0_55.0_200_1581509879',\n",
       "   PSNR = 24.16 +/- 4.769 SSIM = 0.5616 +/- 0.1778),\n",
       "  ('unet_dynamic_st_bsd500_0.0_55.0_50_1581509879',\n",
       "   PSNR = 23.89 +/- 4.571 SSIM = 0.54 +/- 0.1684),\n",
       "  ('original', PSNR = 10.63 +/- 0.02827 SSIM = 0.1016 +/- 0.1033),\n",
       "  ('learnlet_dynamic_st_bsd500_0_55_1580806694',\n",
       "   PSNR = 23.78 +/- 4.362 SSIM = 0.5064 +/- 0.128),\n",
       "  ('learnlet_dynamic_256_dynamic_soft_thresholding_bsd500_0.0_55.0_100_1581526036',\n",
       "   PSNR = 23.8 +/- 4.404 SSIM = 0.5084 +/- 0.1301),\n",
       "  ('learnlet_dynamic_256_dynamic_soft_thresholding_bsd500_0.0_55.0_10_1581526036',\n",
       "   PSNR = 23.75 +/- 4.371 SSIM = 0.5041 +/- 0.1287),\n",
       "  ('learnlet_dynamic_256_dynamic_soft_thresholding_bsd500_0.0_55.0_200_1581526036',\n",
       "   PSNR = 23.79 +/- 4.427 SSIM = 0.5082 +/- 0.1304),\n",
       "  ('learnlet_dynamic_256_dynamic_soft_thresholding_bsd500_0.0_55.0_50_1581526036',\n",
       "   PSNR = 23.78 +/- 4.402 SSIM = 0.5066 +/- 0.1282)]}"
      ]
     },
     "execution_count": 8,
     "metadata": {},
     "output_type": "execute_result"
    }
   ],
   "source": [
    "noise_std_metrics"
   ]
  },
  {
   "cell_type": "code",
   "execution_count": 9,
   "metadata": {},
   "outputs": [],
   "source": [
    "BM3D_psnr_results = {\n",
    "    5: 37.57,\n",
    "    15: 31.07,\n",
    "    20: 29.60,\n",
    "    25: 28.57,\n",
    "    30: 27.74,\n",
    "    50: 25.62,\n",
    "    75: 24.21,\n",
    "}\n",
    "\n",
    "wavelets_psnr_results = {\n",
    "    5: (35.76,  1.937),\n",
    "    15: (29.56,  2.553),\n",
    "    20: (28.25,  2.645),\n",
    "    25: (27.32,  2.684),\n",
    "    30: (26.61,  2.694),\n",
    "    50: (24.79,  2.673),\n",
    "    75: (23.46,  2.574),\n",
    "}"
   ]
  },
  {
   "cell_type": "code",
   "execution_count": 10,
   "metadata": {},
   "outputs": [
    {
     "data": {
      "text/html": [
       "<div>\n",
       "<style scoped>\n",
       "    .dataframe tbody tr th:only-of-type {\n",
       "        vertical-align: middle;\n",
       "    }\n",
       "\n",
       "    .dataframe tbody tr th {\n",
       "        vertical-align: top;\n",
       "    }\n",
       "\n",
       "    .dataframe thead th {\n",
       "        text-align: right;\n",
       "    }\n",
       "</style>\n",
       "<table border=\"1\" class=\"dataframe\">\n",
       "  <thead>\n",
       "    <tr style=\"text-align: right;\">\n",
       "      <th></th>\n",
       "      <th>noise_std</th>\n",
       "      <th>unet_dynamic_st_bsd500_0_55_1576668365</th>\n",
       "      <th>unet_dynamic_st_bsd500_0.0_55.0_100_1581509879</th>\n",
       "      <th>unet_dynamic_st_bsd500_0.0_55.0_10_1581509879</th>\n",
       "      <th>unet_dynamic_st_bsd500_0.0_55.0_200_1581509879</th>\n",
       "      <th>unet_dynamic_st_bsd500_0.0_55.0_50_1581509879</th>\n",
       "      <th>learnlet_dynamic_st_bsd500_0_55_1580806694</th>\n",
       "      <th>learnlet_dynamic_256_dynamic_soft_thresholding_bsd500_0.0_55.0_100_1581526036</th>\n",
       "      <th>learnlet_dynamic_256_dynamic_soft_thresholding_bsd500_0.0_55.0_10_1581526036</th>\n",
       "      <th>learnlet_dynamic_256_dynamic_soft_thresholding_bsd500_0.0_55.0_200_1581526036</th>\n",
       "      <th>learnlet_dynamic_256_dynamic_soft_thresholding_bsd500_0.0_55.0_50_1581526036</th>\n",
       "      <th>original</th>\n",
       "      <th>wavelets_24</th>\n",
       "      <th>bm3d</th>\n",
       "    </tr>\n",
       "  </thead>\n",
       "  <tbody>\n",
       "    <tr>\n",
       "      <th>0</th>\n",
       "      <td>5</td>\n",
       "      <td>37.61 (1.9)</td>\n",
       "      <td>37.57 (1.9)</td>\n",
       "      <td>37.58 (1.9)</td>\n",
       "      <td>37.65 (1.9)</td>\n",
       "      <td>37.62 (1.9)</td>\n",
       "      <td>36.38 (2.0)</td>\n",
       "      <td>36.37 (2.0)</td>\n",
       "      <td>36.44 (1.9)</td>\n",
       "      <td>36.44 (2.0)</td>\n",
       "      <td>36.51 (1.9)</td>\n",
       "      <td>34.15 (0.016)</td>\n",
       "      <td>NaN</td>\n",
       "      <td>NaN</td>\n",
       "    </tr>\n",
       "    <tr>\n",
       "      <th>1</th>\n",
       "      <td>15</td>\n",
       "      <td>31.59 (2.4)</td>\n",
       "      <td>31.54 (2.4)</td>\n",
       "      <td>31.55 (2.4)</td>\n",
       "      <td>31.53 (2.4)</td>\n",
       "      <td>31.56 (2.4)</td>\n",
       "      <td>30.84 (2.4)</td>\n",
       "      <td>30.83 (2.4)</td>\n",
       "      <td>30.8 (2.3)</td>\n",
       "      <td>30.84 (2.4)</td>\n",
       "      <td>30.83 (2.4)</td>\n",
       "      <td>24.61 (0.018)</td>\n",
       "      <td>NaN</td>\n",
       "      <td>NaN</td>\n",
       "    </tr>\n",
       "    <tr>\n",
       "      <th>2</th>\n",
       "      <td>20</td>\n",
       "      <td>30.21 (2.5)</td>\n",
       "      <td>30.16 (2.6)</td>\n",
       "      <td>30.15 (2.6)</td>\n",
       "      <td>30.12 (2.6)</td>\n",
       "      <td>30.16 (2.6)</td>\n",
       "      <td>29.48 (2.4)</td>\n",
       "      <td>29.47 (2.4)</td>\n",
       "      <td>29.44 (2.4)</td>\n",
       "      <td>29.48 (2.4)</td>\n",
       "      <td>29.47 (2.4)</td>\n",
       "      <td>22.11 (0.018)</td>\n",
       "      <td>NaN</td>\n",
       "      <td>NaN</td>\n",
       "    </tr>\n",
       "    <tr>\n",
       "      <th>3</th>\n",
       "      <td>25</td>\n",
       "      <td>29.18 (2.6)</td>\n",
       "      <td>29.13 (2.6)</td>\n",
       "      <td>29.13 (2.6)</td>\n",
       "      <td>29.08 (2.6)</td>\n",
       "      <td>29.13 (2.6)</td>\n",
       "      <td>28.47 (2.5)</td>\n",
       "      <td>28.46 (2.5)</td>\n",
       "      <td>28.42 (2.4)</td>\n",
       "      <td>28.47 (2.5)</td>\n",
       "      <td>28.45 (2.4)</td>\n",
       "      <td>20.17 (0.017)</td>\n",
       "      <td>NaN</td>\n",
       "      <td>NaN</td>\n",
       "    </tr>\n",
       "    <tr>\n",
       "      <th>4</th>\n",
       "      <td>30</td>\n",
       "      <td>28.37 (2.7)</td>\n",
       "      <td>28.33 (2.7)</td>\n",
       "      <td>28.33 (2.7)</td>\n",
       "      <td>28.27 (2.7)</td>\n",
       "      <td>28.32 (2.7)</td>\n",
       "      <td>27.66 (2.5)</td>\n",
       "      <td>27.66 (2.5)</td>\n",
       "      <td>27.61 (2.5)</td>\n",
       "      <td>27.66 (2.5)</td>\n",
       "      <td>27.64 (2.5)</td>\n",
       "      <td>18.59 (0.012)</td>\n",
       "      <td>NaN</td>\n",
       "      <td>NaN</td>\n",
       "    </tr>\n",
       "    <tr>\n",
       "      <th>5</th>\n",
       "      <td>50</td>\n",
       "      <td>26.28 (2.7)</td>\n",
       "      <td>26.24 (2.7)</td>\n",
       "      <td>26.24 (2.7)</td>\n",
       "      <td>26.22 (2.7)</td>\n",
       "      <td>26.24 (2.7)</td>\n",
       "      <td>25.48 (2.4)</td>\n",
       "      <td>25.48 (2.4)</td>\n",
       "      <td>25.43 (2.4)</td>\n",
       "      <td>25.48 (2.4)</td>\n",
       "      <td>25.47 (2.4)</td>\n",
       "      <td>14.15 (0.017)</td>\n",
       "      <td>NaN</td>\n",
       "      <td>NaN</td>\n",
       "    </tr>\n",
       "    <tr>\n",
       "      <th>6</th>\n",
       "      <td>75</td>\n",
       "      <td>22.29 (1.4)</td>\n",
       "      <td>24.7 (2.7)</td>\n",
       "      <td>24.68 (2.7)</td>\n",
       "      <td>24.16 (2.4)</td>\n",
       "      <td>23.89 (2.3)</td>\n",
       "      <td>23.78 (2.2)</td>\n",
       "      <td>23.8 (2.2)</td>\n",
       "      <td>23.75 (2.2)</td>\n",
       "      <td>23.79 (2.2)</td>\n",
       "      <td>23.78 (2.2)</td>\n",
       "      <td>10.63 (0.014)</td>\n",
       "      <td>NaN</td>\n",
       "      <td>NaN</td>\n",
       "    </tr>\n",
       "  </tbody>\n",
       "</table>\n",
       "</div>"
      ],
      "text/plain": [
       "  noise_std unet_dynamic_st_bsd500_0_55_1576668365  \\\n",
       "0         5                            37.61 (1.9)   \n",
       "1        15                            31.59 (2.4)   \n",
       "2        20                            30.21 (2.5)   \n",
       "3        25                            29.18 (2.6)   \n",
       "4        30                            28.37 (2.7)   \n",
       "5        50                            26.28 (2.7)   \n",
       "6        75                            22.29 (1.4)   \n",
       "\n",
       "  unet_dynamic_st_bsd500_0.0_55.0_100_1581509879  \\\n",
       "0                                    37.57 (1.9)   \n",
       "1                                    31.54 (2.4)   \n",
       "2                                    30.16 (2.6)   \n",
       "3                                    29.13 (2.6)   \n",
       "4                                    28.33 (2.7)   \n",
       "5                                    26.24 (2.7)   \n",
       "6                                     24.7 (2.7)   \n",
       "\n",
       "  unet_dynamic_st_bsd500_0.0_55.0_10_1581509879  \\\n",
       "0                                   37.58 (1.9)   \n",
       "1                                   31.55 (2.4)   \n",
       "2                                   30.15 (2.6)   \n",
       "3                                   29.13 (2.6)   \n",
       "4                                   28.33 (2.7)   \n",
       "5                                   26.24 (2.7)   \n",
       "6                                   24.68 (2.7)   \n",
       "\n",
       "  unet_dynamic_st_bsd500_0.0_55.0_200_1581509879  \\\n",
       "0                                    37.65 (1.9)   \n",
       "1                                    31.53 (2.4)   \n",
       "2                                    30.12 (2.6)   \n",
       "3                                    29.08 (2.6)   \n",
       "4                                    28.27 (2.7)   \n",
       "5                                    26.22 (2.7)   \n",
       "6                                    24.16 (2.4)   \n",
       "\n",
       "  unet_dynamic_st_bsd500_0.0_55.0_50_1581509879  \\\n",
       "0                                   37.62 (1.9)   \n",
       "1                                   31.56 (2.4)   \n",
       "2                                   30.16 (2.6)   \n",
       "3                                   29.13 (2.6)   \n",
       "4                                   28.32 (2.7)   \n",
       "5                                   26.24 (2.7)   \n",
       "6                                   23.89 (2.3)   \n",
       "\n",
       "  learnlet_dynamic_st_bsd500_0_55_1580806694  \\\n",
       "0                                36.38 (2.0)   \n",
       "1                                30.84 (2.4)   \n",
       "2                                29.48 (2.4)   \n",
       "3                                28.47 (2.5)   \n",
       "4                                27.66 (2.5)   \n",
       "5                                25.48 (2.4)   \n",
       "6                                23.78 (2.2)   \n",
       "\n",
       "  learnlet_dynamic_256_dynamic_soft_thresholding_bsd500_0.0_55.0_100_1581526036  \\\n",
       "0                                        36.37 (2.0)                              \n",
       "1                                        30.83 (2.4)                              \n",
       "2                                        29.47 (2.4)                              \n",
       "3                                        28.46 (2.5)                              \n",
       "4                                        27.66 (2.5)                              \n",
       "5                                        25.48 (2.4)                              \n",
       "6                                         23.8 (2.2)                              \n",
       "\n",
       "  learnlet_dynamic_256_dynamic_soft_thresholding_bsd500_0.0_55.0_10_1581526036  \\\n",
       "0                                        36.44 (1.9)                             \n",
       "1                                         30.8 (2.3)                             \n",
       "2                                        29.44 (2.4)                             \n",
       "3                                        28.42 (2.4)                             \n",
       "4                                        27.61 (2.5)                             \n",
       "5                                        25.43 (2.4)                             \n",
       "6                                        23.75 (2.2)                             \n",
       "\n",
       "  learnlet_dynamic_256_dynamic_soft_thresholding_bsd500_0.0_55.0_200_1581526036  \\\n",
       "0                                        36.44 (2.0)                              \n",
       "1                                        30.84 (2.4)                              \n",
       "2                                        29.48 (2.4)                              \n",
       "3                                        28.47 (2.5)                              \n",
       "4                                        27.66 (2.5)                              \n",
       "5                                        25.48 (2.4)                              \n",
       "6                                        23.79 (2.2)                              \n",
       "\n",
       "  learnlet_dynamic_256_dynamic_soft_thresholding_bsd500_0.0_55.0_50_1581526036  \\\n",
       "0                                        36.51 (1.9)                             \n",
       "1                                        30.83 (2.4)                             \n",
       "2                                        29.47 (2.4)                             \n",
       "3                                        28.45 (2.4)                             \n",
       "4                                        27.64 (2.5)                             \n",
       "5                                        25.47 (2.4)                             \n",
       "6                                        23.78 (2.2)                             \n",
       "\n",
       "        original wavelets_24 bm3d  \n",
       "0  34.15 (0.016)         NaN  NaN  \n",
       "1  24.61 (0.018)         NaN  NaN  \n",
       "2  22.11 (0.018)         NaN  NaN  \n",
       "3  20.17 (0.017)         NaN  NaN  \n",
       "4  18.59 (0.012)         NaN  NaN  \n",
       "5  14.15 (0.017)         NaN  NaN  \n",
       "6  10.63 (0.014)         NaN  NaN  "
      ]
     },
     "execution_count": 10,
     "metadata": {},
     "output_type": "execute_result"
    }
   ],
   "source": [
    "# PSNR table\n",
    "psnr_metrics_table = pd.DataFrame(\n",
    "    columns=['noise_std'] + [p['name'] for p in all_net_params] + [p['name'] for p in dynamic_denoising_net_params] + ['original', 'wavelets_24', 'bm3d'],\n",
    ")\n",
    "for i, (noise_std, metrics) in enumerate(noise_std_metrics.items()):\n",
    "    psnr_metrics_table.loc[i, 'noise_std'] = noise_std\n",
    "    for name, m in metrics:\n",
    "        psnr_metrics_table.loc[i, name] = \"{mean:.4} ({std:.2})\".format(\n",
    "            mean=m.metrics['PSNR'].mean(), \n",
    "            std=m.metrics['PSNR'].stddev(),\n",
    "        )\n",
    "#     psnr_metrics_table.loc[i, 'bm3d'] = BM3D_psnr_results[noise_std]\n",
    "#     psnr_metrics_table.loc[i, 'wavelets_24'] = \"{mean:.4} ({std:.2})\".format(\n",
    "#         mean=wavelets_psnr_results[noise_std][0], \n",
    "#         std=wavelets_psnr_results[noise_std][1],\n",
    "#     )\n",
    "psnr_metrics_table"
   ]
  },
  {
   "cell_type": "code",
   "execution_count": 11,
   "metadata": {},
   "outputs": [
    {
     "data": {
      "text/html": [
       "<div>\n",
       "<style scoped>\n",
       "    .dataframe tbody tr th:only-of-type {\n",
       "        vertical-align: middle;\n",
       "    }\n",
       "\n",
       "    .dataframe tbody tr th {\n",
       "        vertical-align: top;\n",
       "    }\n",
       "\n",
       "    .dataframe thead th {\n",
       "        text-align: right;\n",
       "    }\n",
       "</style>\n",
       "<table border=\"1\" class=\"dataframe\">\n",
       "  <thead>\n",
       "    <tr style=\"text-align: right;\">\n",
       "      <th></th>\n",
       "      <th>noise_std</th>\n",
       "      <th>unet_dynamic_st_bsd500_0_55_1576668365</th>\n",
       "      <th>unet_dynamic_st_bsd500_0.0_55.0_100_1581509879</th>\n",
       "      <th>unet_dynamic_st_bsd500_0.0_55.0_10_1581509879</th>\n",
       "      <th>unet_dynamic_st_bsd500_0.0_55.0_200_1581509879</th>\n",
       "      <th>unet_dynamic_st_bsd500_0.0_55.0_50_1581509879</th>\n",
       "      <th>learnlet_dynamic_st_bsd500_0_55_1580806694</th>\n",
       "      <th>learnlet_dynamic_256_dynamic_soft_thresholding_bsd500_0.0_55.0_100_1581526036</th>\n",
       "      <th>learnlet_dynamic_256_dynamic_soft_thresholding_bsd500_0.0_55.0_10_1581526036</th>\n",
       "      <th>learnlet_dynamic_256_dynamic_soft_thresholding_bsd500_0.0_55.0_200_1581526036</th>\n",
       "      <th>learnlet_dynamic_256_dynamic_soft_thresholding_bsd500_0.0_55.0_50_1581526036</th>\n",
       "      <th>original</th>\n",
       "      <th>wavelets_24</th>\n",
       "      <th>bm3d</th>\n",
       "    </tr>\n",
       "  </thead>\n",
       "  <tbody>\n",
       "    <tr>\n",
       "      <th>0</th>\n",
       "      <td>5</td>\n",
       "      <td>0.9652 (0.01232)</td>\n",
       "      <td>0.9647 (0.01288)</td>\n",
       "      <td>0.9646 (0.01262)</td>\n",
       "      <td>0.9653 (0.01242)</td>\n",
       "      <td>0.9651 (0.01223)</td>\n",
       "      <td>0.9568 (0.01529)</td>\n",
       "      <td>0.9565 (0.01535)</td>\n",
       "      <td>0.9564 (0.01558)</td>\n",
       "      <td>0.9568 (0.01519)</td>\n",
       "      <td>0.9569 (0.01552)</td>\n",
       "      <td>0.8855 (0.05096)</td>\n",
       "      <td>NaN</td>\n",
       "      <td>NaN</td>\n",
       "    </tr>\n",
       "    <tr>\n",
       "      <th>1</th>\n",
       "      <td>15</td>\n",
       "      <td>0.8829 (0.04255)</td>\n",
       "      <td>0.8808 (0.04383)</td>\n",
       "      <td>0.8801 (0.04494)</td>\n",
       "      <td>0.8804 (0.04427)</td>\n",
       "      <td>0.8808 (0.04369)</td>\n",
       "      <td>0.8588 (0.04776)</td>\n",
       "      <td>0.8589 (0.04737)</td>\n",
       "      <td>0.8575 (0.04794)</td>\n",
       "      <td>0.8587 (0.04793)</td>\n",
       "      <td>0.8583 (0.04779)</td>\n",
       "      <td>0.5691 (0.1294)</td>\n",
       "      <td>NaN</td>\n",
       "      <td>NaN</td>\n",
       "    </tr>\n",
       "    <tr>\n",
       "      <th>2</th>\n",
       "      <td>20</td>\n",
       "      <td>0.8462 (0.05356)</td>\n",
       "      <td>0.8438 (0.05522)</td>\n",
       "      <td>0.8428 (0.05722)</td>\n",
       "      <td>0.8422 (0.0565)</td>\n",
       "      <td>0.8435 (0.05613)</td>\n",
       "      <td>0.8154 (0.05526)</td>\n",
       "      <td>0.8155 (0.05543)</td>\n",
       "      <td>0.814 (0.055)</td>\n",
       "      <td>0.8155 (0.05518)</td>\n",
       "      <td>0.8149 (0.05521)</td>\n",
       "      <td>0.4661 (0.133)</td>\n",
       "      <td>NaN</td>\n",
       "      <td>NaN</td>\n",
       "    </tr>\n",
       "    <tr>\n",
       "      <th>3</th>\n",
       "      <td>25</td>\n",
       "      <td>0.8131 (0.06369)</td>\n",
       "      <td>0.8103 (0.06422)</td>\n",
       "      <td>0.8098 (0.06517)</td>\n",
       "      <td>0.8085 (0.06458)</td>\n",
       "      <td>0.81 (0.06462)</td>\n",
       "      <td>0.7759 (0.05985)</td>\n",
       "      <td>0.7759 (0.05991)</td>\n",
       "      <td>0.7738 (0.05965)</td>\n",
       "      <td>0.7763 (0.05981)</td>\n",
       "      <td>0.7752 (0.05998)</td>\n",
       "      <td>0.3885 (0.1282)</td>\n",
       "      <td>NaN</td>\n",
       "      <td>NaN</td>\n",
       "    </tr>\n",
       "    <tr>\n",
       "      <th>4</th>\n",
       "      <td>30</td>\n",
       "      <td>0.7826 (0.07189)</td>\n",
       "      <td>0.78 (0.07151)</td>\n",
       "      <td>0.7794 (0.07301)</td>\n",
       "      <td>0.7777 (0.07222)</td>\n",
       "      <td>0.7795 (0.07273)</td>\n",
       "      <td>0.7401 (0.06268)</td>\n",
       "      <td>0.7398 (0.06289)</td>\n",
       "      <td>0.7377 (0.06267)</td>\n",
       "      <td>0.74 (0.0628)</td>\n",
       "      <td>0.7387 (0.06307)</td>\n",
       "      <td>0.3279 (0.1199)</td>\n",
       "      <td>NaN</td>\n",
       "      <td>NaN</td>\n",
       "    </tr>\n",
       "    <tr>\n",
       "      <th>5</th>\n",
       "      <td>50</td>\n",
       "      <td>0.6883 (0.09025)</td>\n",
       "      <td>0.6862 (0.091)</td>\n",
       "      <td>0.6857 (0.09145)</td>\n",
       "      <td>0.6852 (0.09218)</td>\n",
       "      <td>0.6865 (0.09159)</td>\n",
       "      <td>0.6196 (0.06705)</td>\n",
       "      <td>0.6202 (0.06757)</td>\n",
       "      <td>0.6171 (0.06634)</td>\n",
       "      <td>0.6203 (0.06777)</td>\n",
       "      <td>0.6187 (0.06697)</td>\n",
       "      <td>0.1833 (0.08347)</td>\n",
       "      <td>NaN</td>\n",
       "      <td>NaN</td>\n",
       "    </tr>\n",
       "    <tr>\n",
       "      <th>6</th>\n",
       "      <td>75</td>\n",
       "      <td>0.4071 (0.074)</td>\n",
       "      <td>0.6066 (0.1006)</td>\n",
       "      <td>0.605 (0.1023)</td>\n",
       "      <td>0.5616 (0.08892)</td>\n",
       "      <td>0.54 (0.08421)</td>\n",
       "      <td>0.5064 (0.06398)</td>\n",
       "      <td>0.5084 (0.06507)</td>\n",
       "      <td>0.5041 (0.06436)</td>\n",
       "      <td>0.5082 (0.06519)</td>\n",
       "      <td>0.5066 (0.0641)</td>\n",
       "      <td>0.1016 (0.05164)</td>\n",
       "      <td>NaN</td>\n",
       "      <td>NaN</td>\n",
       "    </tr>\n",
       "  </tbody>\n",
       "</table>\n",
       "</div>"
      ],
      "text/plain": [
       "  noise_std unet_dynamic_st_bsd500_0_55_1576668365  \\\n",
       "0         5                       0.9652 (0.01232)   \n",
       "1        15                       0.8829 (0.04255)   \n",
       "2        20                       0.8462 (0.05356)   \n",
       "3        25                       0.8131 (0.06369)   \n",
       "4        30                       0.7826 (0.07189)   \n",
       "5        50                       0.6883 (0.09025)   \n",
       "6        75                         0.4071 (0.074)   \n",
       "\n",
       "  unet_dynamic_st_bsd500_0.0_55.0_100_1581509879  \\\n",
       "0                               0.9647 (0.01288)   \n",
       "1                               0.8808 (0.04383)   \n",
       "2                               0.8438 (0.05522)   \n",
       "3                               0.8103 (0.06422)   \n",
       "4                                 0.78 (0.07151)   \n",
       "5                                 0.6862 (0.091)   \n",
       "6                                0.6066 (0.1006)   \n",
       "\n",
       "  unet_dynamic_st_bsd500_0.0_55.0_10_1581509879  \\\n",
       "0                              0.9646 (0.01262)   \n",
       "1                              0.8801 (0.04494)   \n",
       "2                              0.8428 (0.05722)   \n",
       "3                              0.8098 (0.06517)   \n",
       "4                              0.7794 (0.07301)   \n",
       "5                              0.6857 (0.09145)   \n",
       "6                                0.605 (0.1023)   \n",
       "\n",
       "  unet_dynamic_st_bsd500_0.0_55.0_200_1581509879  \\\n",
       "0                               0.9653 (0.01242)   \n",
       "1                               0.8804 (0.04427)   \n",
       "2                                0.8422 (0.0565)   \n",
       "3                               0.8085 (0.06458)   \n",
       "4                               0.7777 (0.07222)   \n",
       "5                               0.6852 (0.09218)   \n",
       "6                               0.5616 (0.08892)   \n",
       "\n",
       "  unet_dynamic_st_bsd500_0.0_55.0_50_1581509879  \\\n",
       "0                              0.9651 (0.01223)   \n",
       "1                              0.8808 (0.04369)   \n",
       "2                              0.8435 (0.05613)   \n",
       "3                                0.81 (0.06462)   \n",
       "4                              0.7795 (0.07273)   \n",
       "5                              0.6865 (0.09159)   \n",
       "6                                0.54 (0.08421)   \n",
       "\n",
       "  learnlet_dynamic_st_bsd500_0_55_1580806694  \\\n",
       "0                           0.9568 (0.01529)   \n",
       "1                           0.8588 (0.04776)   \n",
       "2                           0.8154 (0.05526)   \n",
       "3                           0.7759 (0.05985)   \n",
       "4                           0.7401 (0.06268)   \n",
       "5                           0.6196 (0.06705)   \n",
       "6                           0.5064 (0.06398)   \n",
       "\n",
       "  learnlet_dynamic_256_dynamic_soft_thresholding_bsd500_0.0_55.0_100_1581526036  \\\n",
       "0                                   0.9565 (0.01535)                              \n",
       "1                                   0.8589 (0.04737)                              \n",
       "2                                   0.8155 (0.05543)                              \n",
       "3                                   0.7759 (0.05991)                              \n",
       "4                                   0.7398 (0.06289)                              \n",
       "5                                   0.6202 (0.06757)                              \n",
       "6                                   0.5084 (0.06507)                              \n",
       "\n",
       "  learnlet_dynamic_256_dynamic_soft_thresholding_bsd500_0.0_55.0_10_1581526036  \\\n",
       "0                                   0.9564 (0.01558)                             \n",
       "1                                   0.8575 (0.04794)                             \n",
       "2                                      0.814 (0.055)                             \n",
       "3                                   0.7738 (0.05965)                             \n",
       "4                                   0.7377 (0.06267)                             \n",
       "5                                   0.6171 (0.06634)                             \n",
       "6                                   0.5041 (0.06436)                             \n",
       "\n",
       "  learnlet_dynamic_256_dynamic_soft_thresholding_bsd500_0.0_55.0_200_1581526036  \\\n",
       "0                                   0.9568 (0.01519)                              \n",
       "1                                   0.8587 (0.04793)                              \n",
       "2                                   0.8155 (0.05518)                              \n",
       "3                                   0.7763 (0.05981)                              \n",
       "4                                      0.74 (0.0628)                              \n",
       "5                                   0.6203 (0.06777)                              \n",
       "6                                   0.5082 (0.06519)                              \n",
       "\n",
       "  learnlet_dynamic_256_dynamic_soft_thresholding_bsd500_0.0_55.0_50_1581526036  \\\n",
       "0                                   0.9569 (0.01552)                             \n",
       "1                                   0.8583 (0.04779)                             \n",
       "2                                   0.8149 (0.05521)                             \n",
       "3                                   0.7752 (0.05998)                             \n",
       "4                                   0.7387 (0.06307)                             \n",
       "5                                   0.6187 (0.06697)                             \n",
       "6                                    0.5066 (0.0641)                             \n",
       "\n",
       "           original wavelets_24 bm3d  \n",
       "0  0.8855 (0.05096)         NaN  NaN  \n",
       "1   0.5691 (0.1294)         NaN  NaN  \n",
       "2    0.4661 (0.133)         NaN  NaN  \n",
       "3   0.3885 (0.1282)         NaN  NaN  \n",
       "4   0.3279 (0.1199)         NaN  NaN  \n",
       "5  0.1833 (0.08347)         NaN  NaN  \n",
       "6  0.1016 (0.05164)         NaN  NaN  "
      ]
     },
     "execution_count": 11,
     "metadata": {},
     "output_type": "execute_result"
    }
   ],
   "source": [
    "# SSIM table\n",
    "ssim_metrics_table = pd.DataFrame(\n",
    "    columns=['noise_std'] + [p['name'] for p in all_net_params] + [p['name'] for p in dynamic_denoising_net_params] + ['original', 'wavelets_24', 'bm3d'],\n",
    ")\n",
    "for i, (noise_std, metrics) in enumerate(noise_std_metrics.items()):\n",
    "    ssim_metrics_table.loc[i, 'noise_std'] = noise_std\n",
    "    for name, m in metrics:\n",
    "        ssim_metrics_table.loc[i, name] = \"{mean:.4} ({std:.4})\".format(\n",
    "            mean=m.metrics['SSIM'].mean(), \n",
    "            std=m.metrics['SSIM'].stddev(),\n",
    "        )\n",
    "ssim_metrics_table"
   ]
  },
  {
   "cell_type": "code",
   "execution_count": 12,
   "metadata": {},
   "outputs": [],
   "source": [
    "%matplotlib inline\n",
    "import matplotlib.pyplot as plt\n",
    "import seaborn as sns"
   ]
  },
  {
   "cell_type": "code",
   "execution_count": 13,
   "metadata": {},
   "outputs": [],
   "source": [
    "sns.set(style=\"whitegrid\", palette=\"muted\", rc={'figure.figsize': (9, 5), 'image.cmap': 'gray'})"
   ]
  },
  {
   "cell_type": "code",
   "execution_count": 17,
   "metadata": {
    "scrolled": false
   },
   "outputs": [
    {
     "data": {
      "text/html": [
       "<div>\n",
       "<style scoped>\n",
       "    .dataframe tbody tr th:only-of-type {\n",
       "        vertical-align: middle;\n",
       "    }\n",
       "\n",
       "    .dataframe tbody tr th {\n",
       "        vertical-align: top;\n",
       "    }\n",
       "\n",
       "    .dataframe thead th {\n",
       "        text-align: right;\n",
       "    }\n",
       "</style>\n",
       "<table border=\"1\" class=\"dataframe\">\n",
       "  <thead>\n",
       "    <tr style=\"text-align: right;\">\n",
       "      <th></th>\n",
       "      <th>Test noise standard deviation</th>\n",
       "      <th>Ratio over original PSNR</th>\n",
       "      <th>psnr-std-dev</th>\n",
       "      <th>model_name</th>\n",
       "      <th>$\\bf{Model}$</th>\n",
       "      <th>$\\bf{Train}$  $\\bf{n samples}$</th>\n",
       "    </tr>\n",
       "  </thead>\n",
       "  <tbody>\n",
       "    <tr>\n",
       "      <th>0</th>\n",
       "      <td>5</td>\n",
       "      <td>1.10135</td>\n",
       "      <td>0.928551</td>\n",
       "      <td>unet_dynamic_st_bsd500_0_55_1576668365</td>\n",
       "      <td>U-net</td>\n",
       "      <td>400</td>\n",
       "    </tr>\n",
       "    <tr>\n",
       "      <th>1</th>\n",
       "      <td>5</td>\n",
       "      <td>1.1001</td>\n",
       "      <td>0.929869</td>\n",
       "      <td>unet_dynamic_st_bsd500_0.0_55.0_100_1581509879</td>\n",
       "      <td>U-net</td>\n",
       "      <td>100</td>\n",
       "    </tr>\n",
       "    <tr>\n",
       "      <th>2</th>\n",
       "      <td>5</td>\n",
       "      <td>1.10026</td>\n",
       "      <td>0.931771</td>\n",
       "      <td>unet_dynamic_st_bsd500_0.0_55.0_10_1581509879</td>\n",
       "      <td>U-net</td>\n",
       "      <td>10</td>\n",
       "    </tr>\n",
       "    <tr>\n",
       "      <th>3</th>\n",
       "      <td>5</td>\n",
       "      <td>1.10241</td>\n",
       "      <td>0.927711</td>\n",
       "      <td>unet_dynamic_st_bsd500_0.0_55.0_200_1581509879</td>\n",
       "      <td>U-net</td>\n",
       "      <td>200</td>\n",
       "    </tr>\n",
       "    <tr>\n",
       "      <th>4</th>\n",
       "      <td>5</td>\n",
       "      <td>1.10157</td>\n",
       "      <td>0.92798</td>\n",
       "      <td>unet_dynamic_st_bsd500_0.0_55.0_50_1581509879</td>\n",
       "      <td>U-net</td>\n",
       "      <td>50</td>\n",
       "    </tr>\n",
       "    <tr>\n",
       "      <th>...</th>\n",
       "      <td>...</td>\n",
       "      <td>...</td>\n",
       "      <td>...</td>\n",
       "      <td>...</td>\n",
       "      <td>...</td>\n",
       "      <td>...</td>\n",
       "    </tr>\n",
       "    <tr>\n",
       "      <th>65</th>\n",
       "      <td>75</td>\n",
       "      <td>2.23656</td>\n",
       "      <td>1.0905</td>\n",
       "      <td>learnlet_dynamic_st_bsd500_0_55_1580806694</td>\n",
       "      <td>Learnlets</td>\n",
       "      <td>400</td>\n",
       "    </tr>\n",
       "    <tr>\n",
       "      <th>66</th>\n",
       "      <td>75</td>\n",
       "      <td>2.2382</td>\n",
       "      <td>1.10107</td>\n",
       "      <td>learnlet_dynamic_256_dynamic_soft_thresholding...</td>\n",
       "      <td>Learnlets</td>\n",
       "      <td>100</td>\n",
       "    </tr>\n",
       "    <tr>\n",
       "      <th>67</th>\n",
       "      <td>75</td>\n",
       "      <td>2.23379</td>\n",
       "      <td>1.09264</td>\n",
       "      <td>learnlet_dynamic_256_dynamic_soft_thresholding...</td>\n",
       "      <td>Learnlets</td>\n",
       "      <td>10</td>\n",
       "    </tr>\n",
       "    <tr>\n",
       "      <th>68</th>\n",
       "      <td>75</td>\n",
       "      <td>2.23791</td>\n",
       "      <td>1.10678</td>\n",
       "      <td>learnlet_dynamic_256_dynamic_soft_thresholding...</td>\n",
       "      <td>Learnlets</td>\n",
       "      <td>200</td>\n",
       "    </tr>\n",
       "    <tr>\n",
       "      <th>69</th>\n",
       "      <td>75</td>\n",
       "      <td>2.23684</td>\n",
       "      <td>1.10041</td>\n",
       "      <td>learnlet_dynamic_256_dynamic_soft_thresholding...</td>\n",
       "      <td>Learnlets</td>\n",
       "      <td>50</td>\n",
       "    </tr>\n",
       "  </tbody>\n",
       "</table>\n",
       "<p>70 rows × 6 columns</p>\n",
       "</div>"
      ],
      "text/plain": [
       "   Test noise standard deviation Ratio over original PSNR psnr-std-dev  \\\n",
       "0                              5                  1.10135     0.928551   \n",
       "1                              5                   1.1001     0.929869   \n",
       "2                              5                  1.10026     0.931771   \n",
       "3                              5                  1.10241     0.927711   \n",
       "4                              5                  1.10157      0.92798   \n",
       "..                           ...                      ...          ...   \n",
       "65                            75                  2.23656       1.0905   \n",
       "66                            75                   2.2382      1.10107   \n",
       "67                            75                  2.23379      1.09264   \n",
       "68                            75                  2.23791      1.10678   \n",
       "69                            75                  2.23684      1.10041   \n",
       "\n",
       "                                           model_name $\\bf{Model}$  \\\n",
       "0              unet_dynamic_st_bsd500_0_55_1576668365        U-net   \n",
       "1      unet_dynamic_st_bsd500_0.0_55.0_100_1581509879        U-net   \n",
       "2       unet_dynamic_st_bsd500_0.0_55.0_10_1581509879        U-net   \n",
       "3      unet_dynamic_st_bsd500_0.0_55.0_200_1581509879        U-net   \n",
       "4       unet_dynamic_st_bsd500_0.0_55.0_50_1581509879        U-net   \n",
       "..                                                ...          ...   \n",
       "65         learnlet_dynamic_st_bsd500_0_55_1580806694    Learnlets   \n",
       "66  learnlet_dynamic_256_dynamic_soft_thresholding...    Learnlets   \n",
       "67  learnlet_dynamic_256_dynamic_soft_thresholding...    Learnlets   \n",
       "68  learnlet_dynamic_256_dynamic_soft_thresholding...    Learnlets   \n",
       "69  learnlet_dynamic_256_dynamic_soft_thresholding...    Learnlets   \n",
       "\n",
       "   $\\bf{Train}$  $\\bf{n samples}$  \n",
       "0                             400  \n",
       "1                             100  \n",
       "2                              10  \n",
       "3                             200  \n",
       "4                              50  \n",
       "..                            ...  \n",
       "65                            400  \n",
       "66                            100  \n",
       "67                             10  \n",
       "68                            200  \n",
       "69                             50  \n",
       "\n",
       "[70 rows x 6 columns]"
      ]
     },
     "execution_count": 17,
     "metadata": {},
     "output_type": "execute_result"
    }
   ],
   "source": [
    "relative_to_original = True\n",
    "\n",
    "model_family_str = r'$\\bf{Model}$'\n",
    "train_n_samples_str = r'$\\bf{Train}$  $\\bf{n samples}$'\n",
    "noise_std_str = 'Test noise standard deviation'\n",
    "psnr_str = 'Ratio over original PSNR'\n",
    "# PSNR to plot\n",
    "psnr_to_plot = pd.DataFrame(\n",
    "    columns=[noise_std_str, psnr_str, 'psnr-std-dev', 'model_name', model_family_str, train_n_samples_str]\n",
    ")\n",
    "\n",
    "def from_name_to_family(model_name):\n",
    "    if 'learnlet' in model_name:\n",
    "        return 'Learnlets'\n",
    "    elif 'unet' in model_name:\n",
    "        return 'U-net'\n",
    "    elif 'bm3d' in model_name:\n",
    "        return 'BM3D'\n",
    "    elif 'wavelets' in model_name:\n",
    "        return 'Wavelets'\n",
    "    else:\n",
    "        return 'Original'\n",
    "    \n",
    "def from_name_to_train_n_samples(model_name):\n",
    "    if '_100_' in model_name:\n",
    "        return 100\n",
    "    elif '_200_' in model_name:\n",
    "        return 200\n",
    "    elif '_50_' in model_name:\n",
    "        return 50\n",
    "    elif '_10_' in model_name:\n",
    "        return 10\n",
    "    else:\n",
    "        return 400\n",
    "\n",
    "family_model_to_color = {\n",
    "    'U-net': (0.2823529411764706, 0.47058823529411764, 0.8156862745098039),\n",
    "    'Learnlets': (0.9333333333333333, 0.5215686274509804, 0.2901960784313726),\n",
    "#     'BM3D': 'violet',\n",
    "#     'Wavelets': 'red',\n",
    "    'Original': (0.41568627450980394, 0.8, 0.39215686274509803),\n",
    "}\n",
    "index = 0\n",
    "orig_psnrs = {}\n",
    "for i_noise, (noise_std, metrics) in enumerate(noise_std_metrics.items()):\n",
    "    for j_model, (name, m) in enumerate(metrics):\n",
    "        if relative_to_original and name == 'original':\n",
    "            orig_psnrs[noise_std] = m.metrics['PSNR'].mean()\n",
    "        else:\n",
    "            psnr_to_plot.loc[index, noise_std_str] = noise_std\n",
    "            psnr_to_plot.loc[index, psnr_str] = m.metrics['PSNR'].mean()\n",
    "            psnr_to_plot.loc[index, 'psnr-std-dev'] = m.metrics['PSNR'].stddev() / 2\n",
    "            psnr_to_plot.loc[index, 'model_name'] = name\n",
    "            psnr_to_plot.loc[index, train_n_samples_str] = from_name_to_train_n_samples(name)\n",
    "            psnr_to_plot.loc[index, model_family_str] = from_name_to_family(name)\n",
    "            index += 1\n",
    "#     name = 'bm3d'\n",
    "#     psnr_to_plot.loc[index, noise_std_str] = noise_std\n",
    "#     psnr_to_plot.loc[index, psnr_str] = BM3D_psnr_results[noise_std]\n",
    "#     psnr_to_plot.loc[index, 'psnr-std-dev'] = 0\n",
    "#     psnr_to_plot.loc[index, 'model_name'] = name\n",
    "#     psnr_to_plot.loc[index, train_stds_str] = from_name_to_train_stds(name)\n",
    "#     psnr_to_plot.loc[index, model_family_str] = from_name_to_family(name)\n",
    "#     index += 1\n",
    "#     name = 'wavelets_24'\n",
    "#     psnr_to_plot.loc[index, noise_std_str] = noise_std\n",
    "#     psnr_to_plot.loc[index, psnr_str] = wavelets_psnr_results[noise_std][0]\n",
    "#     psnr_to_plot.loc[index, 'psnr-std-dev'] = wavelets_psnr_results[noise_std][1]\n",
    "#     psnr_to_plot.loc[index, 'model_name'] = name\n",
    "#     psnr_to_plot.loc[index, train_stds_str] = from_name_to_train_stds(name)\n",
    "#     psnr_to_plot.loc[index, model_family_str] = from_name_to_family(name)\n",
    "#     index += 1\n",
    "    \n",
    "\n",
    "if relative_to_original:\n",
    "    for noise_std, orig_psnr in orig_psnrs.items():\n",
    "        psnr_to_plot.loc[psnr_to_plot[noise_std_str] == noise_std, psnr_str] = psnr_to_plot[psnr_to_plot[noise_std_str] == noise_std][psnr_str] / orig_psnr\n",
    "    \n",
    "psnr_to_plot"
   ]
  },
  {
   "cell_type": "code",
   "execution_count": 18,
   "metadata": {
    "scrolled": false
   },
   "outputs": [],
   "source": [
    "# plt.figure()\n",
    "# psnr_to_plot[psnr_str] = psnr_to_plot[psnr_str].astype(float)\n",
    "# lplot = sns.lineplot(\n",
    "#     x=noise_std_str, \n",
    "#     y=psnr_str, \n",
    "#     hue=model_family_str,\n",
    "#     style=train_stds_str,\n",
    "#     data=psnr_to_plot,\n",
    "#     palette=family_model_to_color,\n",
    "# )\n",
    "# lplot.errorbar(\n",
    "#     x=noise_std_str, \n",
    "#     y=psnr_str,\n",
    "#     yerr='psnr-std-dev',\n",
    "#     fmt='none',\n",
    "#     ecolor=[family_model_to_color[mf] for mf in psnr_to_plot[model_family_str]],\n",
    "#     data=psnr_to_plot,\n",
    "#     alpha=0.3,\n",
    "#     label=None,\n",
    "# )\n",
    "# plt.legend(bbox_to_anchor=(1.0, 1.0), loc='best', borderaxespad=0)\n",
    "# plt.subplots_adjust(right=0.83)\n",
    "# plt.savefig(f'gen.png')"
   ]
  },
  {
   "cell_type": "code",
   "execution_count": 19,
   "metadata": {
    "scrolled": false
   },
   "outputs": [
    {
     "data": {
      "image/png": "[encoded data removed]",
      "text/plain": [
       "<Figure size 648x360 with 1 Axes>"
      ]
     },
     "metadata": {},
     "output_type": "display_data"
    }
   ],
   "source": [
    "plt.figure()\n",
    "psnr_to_plot[psnr_str] = psnr_to_plot[psnr_str].astype(float)\n",
    "lplot = sns.lineplot(\n",
    "    x=noise_std_str, \n",
    "    y=psnr_str, \n",
    "    hue=model_family_str,\n",
    "    style=train_n_samples_str,\n",
    "    data=psnr_to_plot,\n",
    "    palette=family_model_to_color,\n",
    ")\n",
    "# lplot.errorbar(\n",
    "#     x=noise_std_str, \n",
    "#     y=psnr_str,\n",
    "#     yerr='psnr-std-dev',\n",
    "#     fmt='none',\n",
    "#     ecolor=[family_model_to_color[mf] for mf in psnr_to_plot[model_family_str]],\n",
    "#     data=psnr_to_plot,\n",
    "#     alpha=0.3,\n",
    "#     label=None,\n",
    "# )\n",
    "plt.legend(bbox_to_anchor=(1.0, 1.0), loc='best', borderaxespad=0)\n",
    "plt.subplots_adjust(right=0.83)\n",
    "plt.savefig(f'gen_wo_error_bars.png')"
   ]
  },
  {
   "cell_type": "code",
   "execution_count": null,
   "metadata": {},
   "outputs": [],
   "source": []
  }
 ],
 "metadata": {
  "kernelspec": {
   "display_name": "Python 3",
   "language": "python",
   "name": "python3"
  },
  "language_info": {
   "codemirror_mode": {
    "name": "ipython",
    "version": 3
   },
   "file_extension": ".py",
   "mimetype": "text/x-python",
   "name": "python",
   "nbconvert_exporter": "python",
   "pygments_lexer": "ipython3",
   "version": "3.6.8"
  },
  "notify_time": "30"
 },
 "nbformat": 4,
 "nbformat_minor": 2
}
