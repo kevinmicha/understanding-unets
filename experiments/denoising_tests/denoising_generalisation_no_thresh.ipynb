{
 "cells": [
  {
   "cell_type": "code",
   "execution_count": 3,
   "metadata": {},
   "outputs": [
    {
     "name": "stdout",
     "output_type": "stream",
     "text": [
      "/volatile/home/Zaccharie/workspace/understanding-unets\n"
     ]
    }
   ],
   "source": [
    "%cd ../.."
   ]
  },
  {
   "cell_type": "code",
   "execution_count": 4,
   "metadata": {},
   "outputs": [],
   "source": [
    "# # this just to make sure we are using only on CPU\n",
    "# import os\n",
    "# os.environ[\"CUDA_VISIBLE_DEVICES\"]=\"-1\""
   ]
  },
  {
   "cell_type": "code",
   "execution_count": 5,
   "metadata": {},
   "outputs": [
    {
     "name": "stdout",
     "output_type": "stream",
     "text": [
      "The autoreload extension is already loaded. To reload it, use:\n",
      "  %reload_ext autoreload\n"
     ]
    }
   ],
   "source": [
    "%load_ext autoreload\n",
    "%autoreload 2\n",
    "import copy\n",
    "import time\n",
    "\n",
    "import numpy as np\n",
    "import pandas as pd\n",
    "from tqdm import tqdm_notebook\n",
    "\n",
    "from learning_wavelets.data.datasets import im_dataset_bsd68\n",
    "from learning_wavelets.models.learned_wavelet import learnlet\n",
    "from learning_wavelets.utils.metrics import metrics_from_ds, metrics_original_from_ds"
   ]
  },
  {
   "cell_type": "code",
   "execution_count": 6,
   "metadata": {},
   "outputs": [],
   "source": [
    "np.random.seed(0)"
   ]
  },
  {
   "cell_type": "code",
   "execution_count": 7,
   "metadata": {
    "code_folding": []
   },
   "outputs": [],
   "source": [
    "dynamic_denoising_net_params = [\n",
    "    {\n",
    "        'name': 'learnlet_0_55_big_bsd',\n",
    "        'init_function': learnlet,\n",
    "        'run_params': {\n",
    "            'denoising_activation': 'dynamic_soft_thresholding',\n",
    "            'learnlet_analysis_kwargs':{\n",
    "                'n_tiling': 256, \n",
    "                'mixing_details': False,  \n",
    "                'kernel_size': 11,\n",
    "                'skip_connection': True,\n",
    "            },\n",
    "            'learnlet_synthesis_kwargs': {\n",
    "                'res': True,\n",
    "                'kernel_size': 13,\n",
    "            },\n",
    "            'n_scales': 5,\n",
    "            'exact_reconstruction_weight': 0,\n",
    "            'clip': True,\n",
    "            'input_size': (None, None, 1),     \n",
    "        },\n",
    "        'run_id': 'learnlet_dynamic_st_bsd500_0_55_1580806694',\n",
    "        'epoch': 500,\n",
    "    },\n",
    "]"
   ]
  },
  {
   "cell_type": "code",
   "execution_count": 8,
   "metadata": {},
   "outputs": [],
   "source": [
    "noise_stds = [5, 15, 20, 25, 30, 50, 75]"
   ]
  },
  {
   "cell_type": "code",
   "execution_count": 9,
   "metadata": {
    "code_folding": [],
    "scrolled": true
   },
   "outputs": [
    {
     "name": "stderr",
     "output_type": "stream",
     "text": [
      "/volatile/home/Zaccharie/workspace/understanding-unets/venv/lib/python3.6/site-packages/ipykernel_launcher.py:3: TqdmDeprecationWarning: This function will be removed in tqdm==5.0.0\n",
      "Please use `tqdm.notebook.tqdm` instead of `tqdm.tqdm_notebook`\n",
      "  This is separate from the ipykernel package so we can avoid doing imports until\n"
     ]
    },
    {
     "data": {
      "application/vnd.jupyter.widget-view+json": {
       "model_id": "cef8af68723649f5b3a569673060afee",
       "version_major": 2,
       "version_minor": 0
      },
      "text/plain": [
       "HBox(children=(FloatProgress(value=0.0, description='Noise stds', max=7.0, style=ProgressStyle(description_wid…"
      ]
     },
     "metadata": {},
     "output_type": "display_data"
    },
    {
     "data": {
      "application/vnd.jupyter.widget-view+json": {
       "model_id": "29d941f19c3c48f5b0754e1c07c70d65",
       "version_major": 2,
       "version_minor": 0
      },
      "text/plain": [
       "HBox(children=(FloatProgress(value=1.0, bar_style='info', max=1.0), HTML(value='')))"
      ]
     },
     "metadata": {},
     "output_type": "display_data"
    },
    {
     "name": "stdout",
     "output_type": "stream",
     "text": [
      "\n"
     ]
    },
    {
     "data": {
      "application/vnd.jupyter.widget-view+json": {
       "model_id": "2bcd54e8e95444d19f294549a41d2cbd",
       "version_major": 2,
       "version_minor": 0
      },
      "text/plain": [
       "HBox(children=(FloatProgress(value=0.0, description='Stats for original noisy images', max=68.0, style=Progres…"
      ]
     },
     "metadata": {},
     "output_type": "display_data"
    },
    {
     "name": "stderr",
     "output_type": "stream",
     "text": [
      "/volatile/home/Zaccharie/workspace/understanding-unets/learning_wavelets/evaluate.py:34: UserWarning: DEPRECATED: skimage.measure.compare_psnr has been moved to skimage.metrics.peak_signal_noise_ratio. It will be removed from skimage.measure in version 0.18.\n",
      "  return compare_psnr(gt, pred, data_range=1)\n",
      "/volatile/home/Zaccharie/workspace/understanding-unets/learning_wavelets/evaluate.py:43: UserWarning: DEPRECATED: skimage.measure.compare_ssim has been moved to skimage.metrics.structural_similarity. It will be removed from skimage.measure in version 0.18.\n",
      "  gt, pred, multichannel=True, data_range=1\n"
     ]
    },
    {
     "name": "stdout",
     "output_type": "stream",
     "text": [
      "\n"
     ]
    },
    {
     "data": {
      "application/vnd.jupyter.widget-view+json": {
       "model_id": "066e78b8dbf842a3a56b98cf16e8f453",
       "version_major": 2,
       "version_minor": 0
      },
      "text/plain": [
       "HBox(children=(FloatProgress(value=1.0, bar_style='info', max=1.0), HTML(value='')))"
      ]
     },
     "metadata": {},
     "output_type": "display_data"
    },
    {
     "name": "stdout",
     "output_type": "stream",
     "text": [
      "\n"
     ]
    },
    {
     "data": {
      "application/vnd.jupyter.widget-view+json": {
       "model_id": "0961c4c1076549e7a8eab9bee4b55e17",
       "version_major": 2,
       "version_minor": 0
      },
      "text/plain": [
       "HBox(children=(FloatProgress(value=0.0, description='Stats for learnlet_0_55_big_bsd', max=68.0, style=Progres…"
      ]
     },
     "metadata": {},
     "output_type": "display_data"
    },
    {
     "name": "stdout",
     "output_type": "stream",
     "text": [
      "\n"
     ]
    },
    {
     "data": {
      "application/vnd.jupyter.widget-view+json": {
       "model_id": "30feb897a6d541b0a75540d8cfe177cf",
       "version_major": 2,
       "version_minor": 0
      },
      "text/plain": [
       "HBox(children=(FloatProgress(value=1.0, bar_style='info', max=1.0), HTML(value='')))"
      ]
     },
     "metadata": {},
     "output_type": "display_data"
    },
    {
     "name": "stdout",
     "output_type": "stream",
     "text": [
      "\n"
     ]
    },
    {
     "data": {
      "application/vnd.jupyter.widget-view+json": {
       "model_id": "a09cd93a2b314285995deda5ebb79a34",
       "version_major": 2,
       "version_minor": 0
      },
      "text/plain": [
       "HBox(children=(FloatProgress(value=0.0, description='Stats for learnlet_0_55_big_bsd', max=68.0, style=Progres…"
      ]
     },
     "metadata": {},
     "output_type": "display_data"
    },
    {
     "name": "stdout",
     "output_type": "stream",
     "text": [
      "\n"
     ]
    },
    {
     "data": {
      "application/vnd.jupyter.widget-view+json": {
       "model_id": "abcb1d8f8ba54bd3850dd293699a7a19",
       "version_major": 2,
       "version_minor": 0
      },
      "text/plain": [
       "HBox(children=(FloatProgress(value=1.0, bar_style='info', max=1.0), HTML(value='')))"
      ]
     },
     "metadata": {},
     "output_type": "display_data"
    },
    {
     "name": "stdout",
     "output_type": "stream",
     "text": [
      "\n"
     ]
    },
    {
     "data": {
      "application/vnd.jupyter.widget-view+json": {
       "model_id": "9e47524f985843c89bf3e95a6c4e80a6",
       "version_major": 2,
       "version_minor": 0
      },
      "text/plain": [
       "HBox(children=(FloatProgress(value=0.0, description='Stats for original noisy images', max=68.0, style=Progres…"
      ]
     },
     "metadata": {},
     "output_type": "display_data"
    },
    {
     "name": "stdout",
     "output_type": "stream",
     "text": [
      "\n"
     ]
    },
    {
     "data": {
      "application/vnd.jupyter.widget-view+json": {
       "model_id": "175d7dd0759e4a1bb20f2738faa72ca5",
       "version_major": 2,
       "version_minor": 0
      },
      "text/plain": [
       "HBox(children=(FloatProgress(value=1.0, bar_style='info', max=1.0), HTML(value='')))"
      ]
     },
     "metadata": {},
     "output_type": "display_data"
    },
    {
     "name": "stdout",
     "output_type": "stream",
     "text": [
      "\n"
     ]
    },
    {
     "data": {
      "application/vnd.jupyter.widget-view+json": {
       "model_id": "470d9feaeae941109a12ee9c4fb49546",
       "version_major": 2,
       "version_minor": 0
      },
      "text/plain": [
       "HBox(children=(FloatProgress(value=0.0, description='Stats for learnlet_0_55_big_bsd', max=68.0, style=Progres…"
      ]
     },
     "metadata": {},
     "output_type": "display_data"
    },
    {
     "name": "stdout",
     "output_type": "stream",
     "text": [
      "\n"
     ]
    },
    {
     "data": {
      "application/vnd.jupyter.widget-view+json": {
       "model_id": "990afaecbdc542a1981e69dcc34d9e5f",
       "version_major": 2,
       "version_minor": 0
      },
      "text/plain": [
       "HBox(children=(FloatProgress(value=1.0, bar_style='info', max=1.0), HTML(value='')))"
      ]
     },
     "metadata": {},
     "output_type": "display_data"
    },
    {
     "name": "stdout",
     "output_type": "stream",
     "text": [
      "\n"
     ]
    },
    {
     "data": {
      "application/vnd.jupyter.widget-view+json": {
       "model_id": "0ef55eb39dcc42a0a734f569ba69d7ca",
       "version_major": 2,
       "version_minor": 0
      },
      "text/plain": [
       "HBox(children=(FloatProgress(value=0.0, description='Stats for learnlet_0_55_big_bsd', max=68.0, style=Progres…"
      ]
     },
     "metadata": {},
     "output_type": "display_data"
    },
    {
     "name": "stdout",
     "output_type": "stream",
     "text": [
      "\n"
     ]
    },
    {
     "data": {
      "application/vnd.jupyter.widget-view+json": {
       "model_id": "aaaec4c3204b4f3f8707ea41e6fa20cd",
       "version_major": 2,
       "version_minor": 0
      },
      "text/plain": [
       "HBox(children=(FloatProgress(value=1.0, bar_style='info', max=1.0), HTML(value='')))"
      ]
     },
     "metadata": {},
     "output_type": "display_data"
    },
    {
     "name": "stdout",
     "output_type": "stream",
     "text": [
      "\n"
     ]
    },
    {
     "data": {
      "application/vnd.jupyter.widget-view+json": {
       "model_id": "005de2f52db9464daa97b2bd25074739",
       "version_major": 2,
       "version_minor": 0
      },
      "text/plain": [
       "HBox(children=(FloatProgress(value=0.0, description='Stats for original noisy images', max=68.0, style=Progres…"
      ]
     },
     "metadata": {},
     "output_type": "display_data"
    },
    {
     "name": "stdout",
     "output_type": "stream",
     "text": [
      "\n"
     ]
    },
    {
     "data": {
      "application/vnd.jupyter.widget-view+json": {
       "model_id": "77a369178ce0442da9ee9fee62e07442",
       "version_major": 2,
       "version_minor": 0
      },
      "text/plain": [
       "HBox(children=(FloatProgress(value=1.0, bar_style='info', max=1.0), HTML(value='')))"
      ]
     },
     "metadata": {},
     "output_type": "display_data"
    },
    {
     "name": "stdout",
     "output_type": "stream",
     "text": [
      "\n"
     ]
    },
    {
     "data": {
      "application/vnd.jupyter.widget-view+json": {
       "model_id": "ddfb9f3e86414c6badf749f6ba5bfcac",
       "version_major": 2,
       "version_minor": 0
      },
      "text/plain": [
       "HBox(children=(FloatProgress(value=0.0, description='Stats for learnlet_0_55_big_bsd', max=68.0, style=Progres…"
      ]
     },
     "metadata": {},
     "output_type": "display_data"
    },
    {
     "name": "stdout",
     "output_type": "stream",
     "text": [
      "\n"
     ]
    },
    {
     "data": {
      "application/vnd.jupyter.widget-view+json": {
       "model_id": "0e2d72727c034aa081c5b3ae44154c4d",
       "version_major": 2,
       "version_minor": 0
      },
      "text/plain": [
       "HBox(children=(FloatProgress(value=1.0, bar_style='info', max=1.0), HTML(value='')))"
      ]
     },
     "metadata": {},
     "output_type": "display_data"
    },
    {
     "name": "stdout",
     "output_type": "stream",
     "text": [
      "\n"
     ]
    },
    {
     "data": {
      "application/vnd.jupyter.widget-view+json": {
       "model_id": "e3867244f5ed4db7bb299ffc96493db3",
       "version_major": 2,
       "version_minor": 0
      },
      "text/plain": [
       "HBox(children=(FloatProgress(value=0.0, description='Stats for learnlet_0_55_big_bsd', max=68.0, style=Progres…"
      ]
     },
     "metadata": {},
     "output_type": "display_data"
    },
    {
     "name": "stdout",
     "output_type": "stream",
     "text": [
      "\n"
     ]
    },
    {
     "data": {
      "application/vnd.jupyter.widget-view+json": {
       "model_id": "9942aca1645944c0a8ea9c1a4b521c9e",
       "version_major": 2,
       "version_minor": 0
      },
      "text/plain": [
       "HBox(children=(FloatProgress(value=1.0, bar_style='info', max=1.0), HTML(value='')))"
      ]
     },
     "metadata": {},
     "output_type": "display_data"
    },
    {
     "name": "stdout",
     "output_type": "stream",
     "text": [
      "\n"
     ]
    },
    {
     "data": {
      "application/vnd.jupyter.widget-view+json": {
       "model_id": "03162d70c2f147ee858c438997b6b521",
       "version_major": 2,
       "version_minor": 0
      },
      "text/plain": [
       "HBox(children=(FloatProgress(value=0.0, description='Stats for original noisy images', max=68.0, style=Progres…"
      ]
     },
     "metadata": {},
     "output_type": "display_data"
    },
    {
     "name": "stdout",
     "output_type": "stream",
     "text": [
      "\n"
     ]
    },
    {
     "data": {
      "application/vnd.jupyter.widget-view+json": {
       "model_id": "8c8e58654c1c4082ab3e5b58cbcbaa73",
       "version_major": 2,
       "version_minor": 0
      },
      "text/plain": [
       "HBox(children=(FloatProgress(value=1.0, bar_style='info', max=1.0), HTML(value='')))"
      ]
     },
     "metadata": {},
     "output_type": "display_data"
    },
    {
     "name": "stdout",
     "output_type": "stream",
     "text": [
      "\n"
     ]
    },
    {
     "data": {
      "application/vnd.jupyter.widget-view+json": {
       "model_id": "14da29ee7e314cdcadcc58d3482da233",
       "version_major": 2,
       "version_minor": 0
      },
      "text/plain": [
       "HBox(children=(FloatProgress(value=0.0, description='Stats for learnlet_0_55_big_bsd', max=68.0, style=Progres…"
      ]
     },
     "metadata": {},
     "output_type": "display_data"
    },
    {
     "name": "stdout",
     "output_type": "stream",
     "text": [
      "\n"
     ]
    },
    {
     "data": {
      "application/vnd.jupyter.widget-view+json": {
       "model_id": "f4a222c63f514a2788ff937fcf5952c6",
       "version_major": 2,
       "version_minor": 0
      },
      "text/plain": [
       "HBox(children=(FloatProgress(value=1.0, bar_style='info', max=1.0), HTML(value='')))"
      ]
     },
     "metadata": {},
     "output_type": "display_data"
    },
    {
     "name": "stdout",
     "output_type": "stream",
     "text": [
      "\n"
     ]
    },
    {
     "data": {
      "application/vnd.jupyter.widget-view+json": {
       "model_id": "7beaac7bb2244f669731a8f335b7b4a9",
       "version_major": 2,
       "version_minor": 0
      },
      "text/plain": [
       "HBox(children=(FloatProgress(value=0.0, description='Stats for learnlet_0_55_big_bsd', max=68.0, style=Progres…"
      ]
     },
     "metadata": {},
     "output_type": "display_data"
    },
    {
     "name": "stdout",
     "output_type": "stream",
     "text": [
      "\n"
     ]
    },
    {
     "data": {
      "application/vnd.jupyter.widget-view+json": {
       "model_id": "37d91b8eff4b47e08be9a4566c5e10eb",
       "version_major": 2,
       "version_minor": 0
      },
      "text/plain": [
       "HBox(children=(FloatProgress(value=1.0, bar_style='info', max=1.0), HTML(value='')))"
      ]
     },
     "metadata": {},
     "output_type": "display_data"
    },
    {
     "name": "stdout",
     "output_type": "stream",
     "text": [
      "\n"
     ]
    },
    {
     "data": {
      "application/vnd.jupyter.widget-view+json": {
       "model_id": "78056ac409464f41af437791e2fc3f2b",
       "version_major": 2,
       "version_minor": 0
      },
      "text/plain": [
       "HBox(children=(FloatProgress(value=0.0, description='Stats for original noisy images', max=68.0, style=Progres…"
      ]
     },
     "metadata": {},
     "output_type": "display_data"
    },
    {
     "name": "stdout",
     "output_type": "stream",
     "text": [
      "\n"
     ]
    },
    {
     "data": {
      "application/vnd.jupyter.widget-view+json": {
       "model_id": "1b235bd873944346a5b605da389518f5",
       "version_major": 2,
       "version_minor": 0
      },
      "text/plain": [
       "HBox(children=(FloatProgress(value=1.0, bar_style='info', max=1.0), HTML(value='')))"
      ]
     },
     "metadata": {},
     "output_type": "display_data"
    },
    {
     "name": "stdout",
     "output_type": "stream",
     "text": [
      "\n"
     ]
    },
    {
     "data": {
      "application/vnd.jupyter.widget-view+json": {
       "model_id": "7dbc823981464902b45c839c9c07d527",
       "version_major": 2,
       "version_minor": 0
      },
      "text/plain": [
       "HBox(children=(FloatProgress(value=0.0, description='Stats for learnlet_0_55_big_bsd', max=68.0, style=Progres…"
      ]
     },
     "metadata": {},
     "output_type": "display_data"
    },
    {
     "name": "stdout",
     "output_type": "stream",
     "text": [
      "\n"
     ]
    },
    {
     "data": {
      "application/vnd.jupyter.widget-view+json": {
       "model_id": "34f54b783ecf4606a57bdf4aeacd6180",
       "version_major": 2,
       "version_minor": 0
      },
      "text/plain": [
       "HBox(children=(FloatProgress(value=1.0, bar_style='info', max=1.0), HTML(value='')))"
      ]
     },
     "metadata": {},
     "output_type": "display_data"
    },
    {
     "name": "stdout",
     "output_type": "stream",
     "text": [
      "\n"
     ]
    },
    {
     "data": {
      "application/vnd.jupyter.widget-view+json": {
       "model_id": "6b41dcb8d6db4b4d846dfd101f9be04c",
       "version_major": 2,
       "version_minor": 0
      },
      "text/plain": [
       "HBox(children=(FloatProgress(value=0.0, description='Stats for learnlet_0_55_big_bsd', max=68.0, style=Progres…"
      ]
     },
     "metadata": {},
     "output_type": "display_data"
    },
    {
     "name": "stdout",
     "output_type": "stream",
     "text": [
      "\n"
     ]
    },
    {
     "data": {
      "application/vnd.jupyter.widget-view+json": {
       "model_id": "a2a793ababcc4037b33254aea8310f3a",
       "version_major": 2,
       "version_minor": 0
      },
      "text/plain": [
       "HBox(children=(FloatProgress(value=1.0, bar_style='info', max=1.0), HTML(value='')))"
      ]
     },
     "metadata": {},
     "output_type": "display_data"
    },
    {
     "name": "stdout",
     "output_type": "stream",
     "text": [
      "\n"
     ]
    },
    {
     "data": {
      "application/vnd.jupyter.widget-view+json": {
       "model_id": "1a8f73c8c15041279d7f2d1b5ae5b965",
       "version_major": 2,
       "version_minor": 0
      },
      "text/plain": [
       "HBox(children=(FloatProgress(value=0.0, description='Stats for original noisy images', max=68.0, style=Progres…"
      ]
     },
     "metadata": {},
     "output_type": "display_data"
    },
    {
     "name": "stdout",
     "output_type": "stream",
     "text": [
      "\n"
     ]
    },
    {
     "data": {
      "application/vnd.jupyter.widget-view+json": {
       "model_id": "656b61edfdbc491eaeb57b141ea36fd1",
       "version_major": 2,
       "version_minor": 0
      },
      "text/plain": [
       "HBox(children=(FloatProgress(value=1.0, bar_style='info', max=1.0), HTML(value='')))"
      ]
     },
     "metadata": {},
     "output_type": "display_data"
    },
    {
     "name": "stdout",
     "output_type": "stream",
     "text": [
      "\n"
     ]
    },
    {
     "data": {
      "application/vnd.jupyter.widget-view+json": {
       "model_id": "2fc52c2a096242539c30df48f986270f",
       "version_major": 2,
       "version_minor": 0
      },
      "text/plain": [
       "HBox(children=(FloatProgress(value=0.0, description='Stats for learnlet_0_55_big_bsd', max=68.0, style=Progres…"
      ]
     },
     "metadata": {},
     "output_type": "display_data"
    },
    {
     "name": "stdout",
     "output_type": "stream",
     "text": [
      "\n"
     ]
    },
    {
     "data": {
      "application/vnd.jupyter.widget-view+json": {
       "model_id": "8eb55fe06b934f33a5f215d4751e29fe",
       "version_major": 2,
       "version_minor": 0
      },
      "text/plain": [
       "HBox(children=(FloatProgress(value=1.0, bar_style='info', max=1.0), HTML(value='')))"
      ]
     },
     "metadata": {},
     "output_type": "display_data"
    },
    {
     "name": "stdout",
     "output_type": "stream",
     "text": [
      "\n"
     ]
    },
    {
     "data": {
      "application/vnd.jupyter.widget-view+json": {
       "model_id": "2b108a682adb422b9a7a29eb3a8d9a60",
       "version_major": 2,
       "version_minor": 0
      },
      "text/plain": [
       "HBox(children=(FloatProgress(value=0.0, description='Stats for learnlet_0_55_big_bsd', max=68.0, style=Progres…"
      ]
     },
     "metadata": {},
     "output_type": "display_data"
    },
    {
     "name": "stdout",
     "output_type": "stream",
     "text": [
      "\n"
     ]
    },
    {
     "data": {
      "application/vnd.jupyter.widget-view+json": {
       "model_id": "6d1bd0952cb84d2d9139b73bc092a988",
       "version_major": 2,
       "version_minor": 0
      },
      "text/plain": [
       "HBox(children=(FloatProgress(value=1.0, bar_style='info', max=1.0), HTML(value='')))"
      ]
     },
     "metadata": {},
     "output_type": "display_data"
    },
    {
     "name": "stdout",
     "output_type": "stream",
     "text": [
      "\n"
     ]
    },
    {
     "data": {
      "application/vnd.jupyter.widget-view+json": {
       "model_id": "1b73fdbe5f1447e39d8fc7b88ea24e67",
       "version_major": 2,
       "version_minor": 0
      },
      "text/plain": [
       "HBox(children=(FloatProgress(value=0.0, description='Stats for original noisy images', max=68.0, style=Progres…"
      ]
     },
     "metadata": {},
     "output_type": "display_data"
    },
    {
     "name": "stdout",
     "output_type": "stream",
     "text": [
      "\n"
     ]
    },
    {
     "data": {
      "application/vnd.jupyter.widget-view+json": {
       "model_id": "6be8e7f058b742dc8f126ec45fa6369b",
       "version_major": 2,
       "version_minor": 0
      },
      "text/plain": [
       "HBox(children=(FloatProgress(value=1.0, bar_style='info', max=1.0), HTML(value='')))"
      ]
     },
     "metadata": {},
     "output_type": "display_data"
    },
    {
     "name": "stdout",
     "output_type": "stream",
     "text": [
      "\n"
     ]
    },
    {
     "data": {
      "application/vnd.jupyter.widget-view+json": {
       "model_id": "3188a06504f44c05a6275efcbd845265",
       "version_major": 2,
       "version_minor": 0
      },
      "text/plain": [
       "HBox(children=(FloatProgress(value=0.0, description='Stats for learnlet_0_55_big_bsd', max=68.0, style=Progres…"
      ]
     },
     "metadata": {},
     "output_type": "display_data"
    },
    {
     "name": "stdout",
     "output_type": "stream",
     "text": [
      "\n"
     ]
    },
    {
     "data": {
      "application/vnd.jupyter.widget-view+json": {
       "model_id": "1412acc08c6c4d2ea20efba63519789f",
       "version_major": 2,
       "version_minor": 0
      },
      "text/plain": [
       "HBox(children=(FloatProgress(value=1.0, bar_style='info', max=1.0), HTML(value='')))"
      ]
     },
     "metadata": {},
     "output_type": "display_data"
    },
    {
     "name": "stdout",
     "output_type": "stream",
     "text": [
      "\n"
     ]
    },
    {
     "data": {
      "application/vnd.jupyter.widget-view+json": {
       "model_id": "8bce551d6ec0489291d15fbba4681606",
       "version_major": 2,
       "version_minor": 0
      },
      "text/plain": [
       "HBox(children=(FloatProgress(value=0.0, description='Stats for learnlet_0_55_big_bsd', max=68.0, style=Progres…"
      ]
     },
     "metadata": {},
     "output_type": "display_data"
    },
    {
     "name": "stdout",
     "output_type": "stream",
     "text": [
      "\n",
      "\n"
     ]
    }
   ],
   "source": [
    "noise_std_metrics = {}\n",
    "n_samples = None\n",
    "for noise_std in tqdm_notebook(noise_stds, 'Noise stds'):\n",
    "    metrics = []\n",
    "    im_ds = im_dataset_bsd68(\n",
    "        mode='testing', \n",
    "        batch_size=1, \n",
    "        patch_size=None, \n",
    "        noise_std=noise_std, \n",
    "        return_noise_level=False,\n",
    "        n_pooling=5,\n",
    "        n_samples=n_samples,\n",
    "    )\n",
    "    metrics.append(('original', metrics_original_from_ds(im_ds)))\n",
    "        \n",
    "    for net_params in dynamic_denoising_net_params:\n",
    "        im_ds = im_dataset_bsd68(\n",
    "            mode='testing', \n",
    "            batch_size=1, \n",
    "            patch_size=None, \n",
    "            noise_std=noise_std, \n",
    "            return_noise_level=True,\n",
    "            n_pooling=5,\n",
    "            n_samples=n_samples,\n",
    "        )\n",
    "        metrics.append((net_params['name'], metrics_from_ds(im_ds, **net_params)))\n",
    "        im_ds = im_dataset_bsd68(\n",
    "            mode='testing', \n",
    "            batch_size=1, \n",
    "            patch_size=None, \n",
    "            noise_std=noise_std, \n",
    "            return_noise_level=True,\n",
    "            n_pooling=5,\n",
    "            n_samples=n_samples,\n",
    "            set_noise_zero=True,\n",
    "        )\n",
    "        metrics.append((net_params['name']+'_no_thresh', metrics_from_ds(im_ds, **net_params)))\n",
    "\n",
    "#     metrics.append(('bm3d', metrics_bm3d(im_gen_test)))\n",
    "#     metrics.append(('wavelets_24', metrics_wavelets(im_gen_test, '24', noise_std=noise_std)))\n",
    "#     metrics.sort(key=lambda x: x[1].metrics['PSNR'].mean())\n",
    "    noise_std_metrics[noise_std] = metrics"
   ]
  },
  {
   "cell_type": "code",
   "execution_count": 10,
   "metadata": {},
   "outputs": [
    {
     "data": {
      "text/plain": [
       "{5: [('original', PSNR = 34.15 +/- 0.02959 SSIM = 0.8855 +/- 0.1022),\n",
       "  ('learnlet_0_55_big_bsd', PSNR = 36.38 +/- 4.085 SSIM = 0.9569 +/- 0.03071),\n",
       "  ('learnlet_0_55_big_bsd_no_thresh',\n",
       "   PSNR = 33.81 +/- 0.96 SSIM = 0.8905 +/- 0.09317)],\n",
       " 15: [('original', PSNR = 24.61 +/- 0.02602 SSIM = 0.5691 +/- 0.2586),\n",
       "  ('learnlet_0_55_big_bsd', PSNR = 30.84 +/- 4.749 SSIM = 0.8589 +/- 0.09629),\n",
       "  ('learnlet_0_55_big_bsd_no_thresh',\n",
       "   PSNR = 24.92 +/- 0.5862 SSIM = 0.5881 +/- 0.249)],\n",
       " 20: [('original', PSNR = 22.11 +/- 0.02707 SSIM = 0.4662 +/- 0.266),\n",
       "  ('learnlet_0_55_big_bsd', PSNR = 29.48 +/- 4.847 SSIM = 0.815 +/- 0.1113),\n",
       "  ('learnlet_0_55_big_bsd_no_thresh',\n",
       "   PSNR = 22.51 +/- 0.6657 SSIM = 0.4864 +/- 0.2614)],\n",
       " 25: [('original', PSNR = 20.17 +/- 0.03333 SSIM = 0.3883 +/- 0.2565),\n",
       "  ('learnlet_0_55_big_bsd', PSNR = 28.47 +/- 4.902 SSIM = 0.7761 +/- 0.1187),\n",
       "  ('learnlet_0_55_big_bsd_no_thresh',\n",
       "   PSNR = 20.65 +/- 0.7121 SSIM = 0.409 +/- 0.256)],\n",
       " 30: [('original', PSNR = 18.59 +/- 0.03039 SSIM = 0.328 +/- 0.2397),\n",
       "  ('learnlet_0_55_big_bsd', PSNR = 27.66 +/- 4.912 SSIM = 0.7395 +/- 0.1259),\n",
       "  ('learnlet_0_55_big_bsd_no_thresh',\n",
       "   PSNR = 19.14 +/- 0.7619 SSIM = 0.3488 +/- 0.2434)],\n",
       " 50: [('original', PSNR = 14.15 +/- 0.03117 SSIM = 0.1831 +/- 0.1665),\n",
       "  ('learnlet_0_55_big_bsd', PSNR = 25.48 +/- 4.746 SSIM = 0.6192 +/- 0.1342),\n",
       "  ('learnlet_0_55_big_bsd_no_thresh',\n",
       "   PSNR = 15.08 +/- 0.8092 SSIM = 0.2039 +/- 0.18)],\n",
       " 75: [('original', PSNR = 10.63 +/- 0.03367 SSIM = 0.1014 +/- 0.1036),\n",
       "  ('learnlet_0_55_big_bsd', PSNR = 23.77 +/- 4.356 SSIM = 0.5064 +/- 0.1269),\n",
       "  ('learnlet_0_55_big_bsd_no_thresh',\n",
       "   PSNR = 12.19 +/- 0.6836 SSIM = 0.1204 +/- 0.1182)]}"
      ]
     },
     "execution_count": 10,
     "metadata": {},
     "output_type": "execute_result"
    }
   ],
   "source": [
    "noise_std_metrics"
   ]
  },
  {
   "cell_type": "code",
   "execution_count": 11,
   "metadata": {},
   "outputs": [
    {
     "data": {
      "text/html": [
       "<div>\n",
       "<style scoped>\n",
       "    .dataframe tbody tr th:only-of-type {\n",
       "        vertical-align: middle;\n",
       "    }\n",
       "\n",
       "    .dataframe tbody tr th {\n",
       "        vertical-align: top;\n",
       "    }\n",
       "\n",
       "    .dataframe thead th {\n",
       "        text-align: right;\n",
       "    }\n",
       "</style>\n",
       "<table border=\"1\" class=\"dataframe\">\n",
       "  <thead>\n",
       "    <tr style=\"text-align: right;\">\n",
       "      <th></th>\n",
       "      <th>noise_std</th>\n",
       "      <th>learnlet_0_55_big_bsd</th>\n",
       "      <th>learnlet_0_55_big_bsd_no_thresh</th>\n",
       "      <th>original</th>\n",
       "    </tr>\n",
       "  </thead>\n",
       "  <tbody>\n",
       "    <tr>\n",
       "      <th>0</th>\n",
       "      <td>5</td>\n",
       "      <td>36.38 (2.0)</td>\n",
       "      <td>33.81 (0.48)</td>\n",
       "      <td>34.15 (0.015)</td>\n",
       "    </tr>\n",
       "    <tr>\n",
       "      <th>1</th>\n",
       "      <td>15</td>\n",
       "      <td>30.84 (2.4)</td>\n",
       "      <td>24.92 (0.29)</td>\n",
       "      <td>24.61 (0.013)</td>\n",
       "    </tr>\n",
       "    <tr>\n",
       "      <th>2</th>\n",
       "      <td>20</td>\n",
       "      <td>29.48 (2.4)</td>\n",
       "      <td>22.51 (0.33)</td>\n",
       "      <td>22.11 (0.014)</td>\n",
       "    </tr>\n",
       "    <tr>\n",
       "      <th>3</th>\n",
       "      <td>25</td>\n",
       "      <td>28.47 (2.5)</td>\n",
       "      <td>20.65 (0.36)</td>\n",
       "      <td>20.17 (0.017)</td>\n",
       "    </tr>\n",
       "    <tr>\n",
       "      <th>4</th>\n",
       "      <td>30</td>\n",
       "      <td>27.66 (2.5)</td>\n",
       "      <td>19.14 (0.38)</td>\n",
       "      <td>18.59 (0.015)</td>\n",
       "    </tr>\n",
       "    <tr>\n",
       "      <th>5</th>\n",
       "      <td>50</td>\n",
       "      <td>25.48 (2.4)</td>\n",
       "      <td>15.08 (0.4)</td>\n",
       "      <td>14.15 (0.016)</td>\n",
       "    </tr>\n",
       "    <tr>\n",
       "      <th>6</th>\n",
       "      <td>75</td>\n",
       "      <td>23.77 (2.2)</td>\n",
       "      <td>12.19 (0.34)</td>\n",
       "      <td>10.63 (0.017)</td>\n",
       "    </tr>\n",
       "  </tbody>\n",
       "</table>\n",
       "</div>"
      ],
      "text/plain": [
       "  noise_std learnlet_0_55_big_bsd learnlet_0_55_big_bsd_no_thresh  \\\n",
       "0         5           36.38 (2.0)                    33.81 (0.48)   \n",
       "1        15           30.84 (2.4)                    24.92 (0.29)   \n",
       "2        20           29.48 (2.4)                    22.51 (0.33)   \n",
       "3        25           28.47 (2.5)                    20.65 (0.36)   \n",
       "4        30           27.66 (2.5)                    19.14 (0.38)   \n",
       "5        50           25.48 (2.4)                     15.08 (0.4)   \n",
       "6        75           23.77 (2.2)                    12.19 (0.34)   \n",
       "\n",
       "        original  \n",
       "0  34.15 (0.015)  \n",
       "1  24.61 (0.013)  \n",
       "2  22.11 (0.014)  \n",
       "3  20.17 (0.017)  \n",
       "4  18.59 (0.015)  \n",
       "5  14.15 (0.016)  \n",
       "6  10.63 (0.017)  "
      ]
     },
     "execution_count": 11,
     "metadata": {},
     "output_type": "execute_result"
    }
   ],
   "source": [
    "# PSNR table\n",
    "psnr_metrics_table = pd.DataFrame(\n",
    "    columns=['noise_std'] + [p['name'] for p in dynamic_denoising_net_params] + [p['name']+'_no_thresh' for p in dynamic_denoising_net_params],\n",
    ")\n",
    "for i, (noise_std, metrics) in enumerate(noise_std_metrics.items()):\n",
    "    psnr_metrics_table.loc[i, 'noise_std'] = noise_std\n",
    "    for name, m in metrics:\n",
    "        psnr_metrics_table.loc[i, name] = \"{mean:.4} ({std:.2})\".format(\n",
    "            mean=m.metrics['PSNR'].mean(), \n",
    "            std=m.metrics['PSNR'].stddev(),\n",
    "        )\n",
    "psnr_metrics_table"
   ]
  },
  {
   "cell_type": "code",
   "execution_count": 14,
   "metadata": {},
   "outputs": [
    {
     "data": {
      "text/html": [
       "<div>\n",
       "<style scoped>\n",
       "    .dataframe tbody tr th:only-of-type {\n",
       "        vertical-align: middle;\n",
       "    }\n",
       "\n",
       "    .dataframe tbody tr th {\n",
       "        vertical-align: top;\n",
       "    }\n",
       "\n",
       "    .dataframe thead th {\n",
       "        text-align: right;\n",
       "    }\n",
       "</style>\n",
       "<table border=\"1\" class=\"dataframe\">\n",
       "  <thead>\n",
       "    <tr style=\"text-align: right;\">\n",
       "      <th></th>\n",
       "      <th>noise_std</th>\n",
       "      <th>learnlet_0_55_big_bsd</th>\n",
       "      <th>learnlet_0_55_big_bsd_no_thresh</th>\n",
       "      <th>original</th>\n",
       "    </tr>\n",
       "  </thead>\n",
       "  <tbody>\n",
       "    <tr>\n",
       "      <th>0</th>\n",
       "      <td>5</td>\n",
       "      <td>0.9569 (0.01535)</td>\n",
       "      <td>0.8905 (0.04658)</td>\n",
       "      <td>0.8855 (0.05112)</td>\n",
       "    </tr>\n",
       "    <tr>\n",
       "      <th>1</th>\n",
       "      <td>15</td>\n",
       "      <td>0.8589 (0.04814)</td>\n",
       "      <td>0.5881 (0.1245)</td>\n",
       "      <td>0.5691 (0.1293)</td>\n",
       "    </tr>\n",
       "    <tr>\n",
       "      <th>2</th>\n",
       "      <td>20</td>\n",
       "      <td>0.815 (0.05567)</td>\n",
       "      <td>0.4864 (0.1307)</td>\n",
       "      <td>0.4662 (0.133)</td>\n",
       "    </tr>\n",
       "    <tr>\n",
       "      <th>3</th>\n",
       "      <td>25</td>\n",
       "      <td>0.7761 (0.05934)</td>\n",
       "      <td>0.409 (0.128)</td>\n",
       "      <td>0.3883 (0.1282)</td>\n",
       "    </tr>\n",
       "    <tr>\n",
       "      <th>4</th>\n",
       "      <td>30</td>\n",
       "      <td>0.7395 (0.06297)</td>\n",
       "      <td>0.3488 (0.1217)</td>\n",
       "      <td>0.328 (0.1198)</td>\n",
       "    </tr>\n",
       "    <tr>\n",
       "      <th>5</th>\n",
       "      <td>50</td>\n",
       "      <td>0.6192 (0.06708)</td>\n",
       "      <td>0.2039 (0.09002)</td>\n",
       "      <td>0.1831 (0.08324)</td>\n",
       "    </tr>\n",
       "    <tr>\n",
       "      <th>6</th>\n",
       "      <td>75</td>\n",
       "      <td>0.5064 (0.06344)</td>\n",
       "      <td>0.1204 (0.05911)</td>\n",
       "      <td>0.1014 (0.05182)</td>\n",
       "    </tr>\n",
       "  </tbody>\n",
       "</table>\n",
       "</div>"
      ],
      "text/plain": [
       "  noise_std learnlet_0_55_big_bsd learnlet_0_55_big_bsd_no_thresh  \\\n",
       "0         5      0.9569 (0.01535)                0.8905 (0.04658)   \n",
       "1        15      0.8589 (0.04814)                 0.5881 (0.1245)   \n",
       "2        20       0.815 (0.05567)                 0.4864 (0.1307)   \n",
       "3        25      0.7761 (0.05934)                   0.409 (0.128)   \n",
       "4        30      0.7395 (0.06297)                 0.3488 (0.1217)   \n",
       "5        50      0.6192 (0.06708)                0.2039 (0.09002)   \n",
       "6        75      0.5064 (0.06344)                0.1204 (0.05911)   \n",
       "\n",
       "           original  \n",
       "0  0.8855 (0.05112)  \n",
       "1   0.5691 (0.1293)  \n",
       "2    0.4662 (0.133)  \n",
       "3   0.3883 (0.1282)  \n",
       "4    0.328 (0.1198)  \n",
       "5  0.1831 (0.08324)  \n",
       "6  0.1014 (0.05182)  "
      ]
     },
     "execution_count": 14,
     "metadata": {},
     "output_type": "execute_result"
    }
   ],
   "source": [
    "# SSIM table\n",
    "ssim_metrics_table = pd.DataFrame(\n",
    "    columns=['noise_std'] + [p['name'] for p in dynamic_denoising_net_params] + [p['name']+'_no_thresh' for p in dynamic_denoising_net_params])\n",
    "for i, (noise_std, metrics) in enumerate(noise_std_metrics.items()):\n",
    "    ssim_metrics_table.loc[i, 'noise_std'] = noise_std\n",
    "    for name, m in metrics:\n",
    "        ssim_metrics_table.loc[i, name] = \"{mean:.4} ({std:.4})\".format(\n",
    "            mean=m.metrics['SSIM'].mean(), \n",
    "            std=m.metrics['SSIM'].stddev(),\n",
    "        )\n",
    "ssim_metrics_table"
   ]
  },
  {
   "cell_type": "code",
   "execution_count": 15,
   "metadata": {},
   "outputs": [],
   "source": [
    "%matplotlib inline\n",
    "import matplotlib.pyplot as plt\n",
    "import seaborn as sns"
   ]
  },
  {
   "cell_type": "code",
   "execution_count": 16,
   "metadata": {},
   "outputs": [],
   "source": [
    "sns.set(style=\"whitegrid\", palette=\"muted\", rc={'figure.figsize': (9, 5), 'image.cmap': 'gray'})"
   ]
  },
  {
   "cell_type": "code",
   "execution_count": 22,
   "metadata": {
    "scrolled": false
   },
   "outputs": [
    {
     "data": {
      "text/html": [
       "<div>\n",
       "<style scoped>\n",
       "    .dataframe tbody tr th:only-of-type {\n",
       "        vertical-align: middle;\n",
       "    }\n",
       "\n",
       "    .dataframe tbody tr th {\n",
       "        vertical-align: top;\n",
       "    }\n",
       "\n",
       "    .dataframe thead th {\n",
       "        text-align: right;\n",
       "    }\n",
       "</style>\n",
       "<table border=\"1\" class=\"dataframe\">\n",
       "  <thead>\n",
       "    <tr style=\"text-align: right;\">\n",
       "      <th></th>\n",
       "      <th>Test noise standard deviation</th>\n",
       "      <th>Ratio over original PSNR</th>\n",
       "      <th>psnr-std-dev</th>\n",
       "      <th>model_name</th>\n",
       "      <th>$\\bf{Model}$</th>\n",
       "      <th>$\\bf{Train}$  $\\bf{std}$</th>\n",
       "    </tr>\n",
       "  </thead>\n",
       "  <tbody>\n",
       "    <tr>\n",
       "      <th>0</th>\n",
       "      <td>5</td>\n",
       "      <td>1.06525</td>\n",
       "      <td>1.02117</td>\n",
       "      <td>learnlet_0_55_big_bsd</td>\n",
       "      <td>Learnlets</td>\n",
       "      <td>[0; 55]</td>\n",
       "    </tr>\n",
       "    <tr>\n",
       "      <th>1</th>\n",
       "      <td>5</td>\n",
       "      <td>0.99005</td>\n",
       "      <td>0.23999</td>\n",
       "      <td>learnlet_0_55_big_bsd_no_thresh</td>\n",
       "      <td>Learnlets \\n w/o thresholding</td>\n",
       "      <td>[0; 55]</td>\n",
       "    </tr>\n",
       "    <tr>\n",
       "      <th>2</th>\n",
       "      <td>15</td>\n",
       "      <td>1.25301</td>\n",
       "      <td>1.18722</td>\n",
       "      <td>learnlet_0_55_big_bsd</td>\n",
       "      <td>Learnlets</td>\n",
       "      <td>[0; 55]</td>\n",
       "    </tr>\n",
       "    <tr>\n",
       "      <th>3</th>\n",
       "      <td>15</td>\n",
       "      <td>1.01242</td>\n",
       "      <td>0.146554</td>\n",
       "      <td>learnlet_0_55_big_bsd_no_thresh</td>\n",
       "      <td>Learnlets \\n w/o thresholding</td>\n",
       "      <td>[0; 55]</td>\n",
       "    </tr>\n",
       "    <tr>\n",
       "      <th>4</th>\n",
       "      <td>20</td>\n",
       "      <td>1.33311</td>\n",
       "      <td>1.21179</td>\n",
       "      <td>learnlet_0_55_big_bsd</td>\n",
       "      <td>Learnlets</td>\n",
       "      <td>[0; 55]</td>\n",
       "    </tr>\n",
       "    <tr>\n",
       "      <th>5</th>\n",
       "      <td>20</td>\n",
       "      <td>1.01785</td>\n",
       "      <td>0.166424</td>\n",
       "      <td>learnlet_0_55_big_bsd_no_thresh</td>\n",
       "      <td>Learnlets \\n w/o thresholding</td>\n",
       "      <td>[0; 55]</td>\n",
       "    </tr>\n",
       "    <tr>\n",
       "      <th>6</th>\n",
       "      <td>25</td>\n",
       "      <td>1.41107</td>\n",
       "      <td>1.22552</td>\n",
       "      <td>learnlet_0_55_big_bsd</td>\n",
       "      <td>Learnlets</td>\n",
       "      <td>[0; 55]</td>\n",
       "    </tr>\n",
       "    <tr>\n",
       "      <th>7</th>\n",
       "      <td>25</td>\n",
       "      <td>1.0234</td>\n",
       "      <td>0.178037</td>\n",
       "      <td>learnlet_0_55_big_bsd_no_thresh</td>\n",
       "      <td>Learnlets \\n w/o thresholding</td>\n",
       "      <td>[0; 55]</td>\n",
       "    </tr>\n",
       "    <tr>\n",
       "      <th>8</th>\n",
       "      <td>30</td>\n",
       "      <td>1.48773</td>\n",
       "      <td>1.22811</td>\n",
       "      <td>learnlet_0_55_big_bsd</td>\n",
       "      <td>Learnlets</td>\n",
       "      <td>[0; 55]</td>\n",
       "    </tr>\n",
       "    <tr>\n",
       "      <th>9</th>\n",
       "      <td>30</td>\n",
       "      <td>1.02966</td>\n",
       "      <td>0.190486</td>\n",
       "      <td>learnlet_0_55_big_bsd_no_thresh</td>\n",
       "      <td>Learnlets \\n w/o thresholding</td>\n",
       "      <td>[0; 55]</td>\n",
       "    </tr>\n",
       "    <tr>\n",
       "      <th>10</th>\n",
       "      <td>50</td>\n",
       "      <td>1.80071</td>\n",
       "      <td>1.1864</td>\n",
       "      <td>learnlet_0_55_big_bsd</td>\n",
       "      <td>Learnlets</td>\n",
       "      <td>[0; 55]</td>\n",
       "    </tr>\n",
       "    <tr>\n",
       "      <th>11</th>\n",
       "      <td>50</td>\n",
       "      <td>1.06589</td>\n",
       "      <td>0.202294</td>\n",
       "      <td>learnlet_0_55_big_bsd_no_thresh</td>\n",
       "      <td>Learnlets \\n w/o thresholding</td>\n",
       "      <td>[0; 55]</td>\n",
       "    </tr>\n",
       "    <tr>\n",
       "      <th>12</th>\n",
       "      <td>75</td>\n",
       "      <td>2.23662</td>\n",
       "      <td>1.08897</td>\n",
       "      <td>learnlet_0_55_big_bsd</td>\n",
       "      <td>Learnlets</td>\n",
       "      <td>[0; 55]</td>\n",
       "    </tr>\n",
       "    <tr>\n",
       "      <th>13</th>\n",
       "      <td>75</td>\n",
       "      <td>1.14718</td>\n",
       "      <td>0.170912</td>\n",
       "      <td>learnlet_0_55_big_bsd_no_thresh</td>\n",
       "      <td>Learnlets \\n w/o thresholding</td>\n",
       "      <td>[0; 55]</td>\n",
       "    </tr>\n",
       "  </tbody>\n",
       "</table>\n",
       "</div>"
      ],
      "text/plain": [
       "   Test noise standard deviation Ratio over original PSNR psnr-std-dev  \\\n",
       "0                              5                  1.06525      1.02117   \n",
       "1                              5                  0.99005      0.23999   \n",
       "2                             15                  1.25301      1.18722   \n",
       "3                             15                  1.01242     0.146554   \n",
       "4                             20                  1.33311      1.21179   \n",
       "5                             20                  1.01785     0.166424   \n",
       "6                             25                  1.41107      1.22552   \n",
       "7                             25                   1.0234     0.178037   \n",
       "8                             30                  1.48773      1.22811   \n",
       "9                             30                  1.02966     0.190486   \n",
       "10                            50                  1.80071       1.1864   \n",
       "11                            50                  1.06589     0.202294   \n",
       "12                            75                  2.23662      1.08897   \n",
       "13                            75                  1.14718     0.170912   \n",
       "\n",
       "                         model_name                   $\\bf{Model}$  \\\n",
       "0             learnlet_0_55_big_bsd                      Learnlets   \n",
       "1   learnlet_0_55_big_bsd_no_thresh  Learnlets \\n w/o thresholding   \n",
       "2             learnlet_0_55_big_bsd                      Learnlets   \n",
       "3   learnlet_0_55_big_bsd_no_thresh  Learnlets \\n w/o thresholding   \n",
       "4             learnlet_0_55_big_bsd                      Learnlets   \n",
       "5   learnlet_0_55_big_bsd_no_thresh  Learnlets \\n w/o thresholding   \n",
       "6             learnlet_0_55_big_bsd                      Learnlets   \n",
       "7   learnlet_0_55_big_bsd_no_thresh  Learnlets \\n w/o thresholding   \n",
       "8             learnlet_0_55_big_bsd                      Learnlets   \n",
       "9   learnlet_0_55_big_bsd_no_thresh  Learnlets \\n w/o thresholding   \n",
       "10            learnlet_0_55_big_bsd                      Learnlets   \n",
       "11  learnlet_0_55_big_bsd_no_thresh  Learnlets \\n w/o thresholding   \n",
       "12            learnlet_0_55_big_bsd                      Learnlets   \n",
       "13  learnlet_0_55_big_bsd_no_thresh  Learnlets \\n w/o thresholding   \n",
       "\n",
       "   $\\bf{Train}$  $\\bf{std}$  \n",
       "0                   [0; 55]  \n",
       "1                   [0; 55]  \n",
       "2                   [0; 55]  \n",
       "3                   [0; 55]  \n",
       "4                   [0; 55]  \n",
       "5                   [0; 55]  \n",
       "6                   [0; 55]  \n",
       "7                   [0; 55]  \n",
       "8                   [0; 55]  \n",
       "9                   [0; 55]  \n",
       "10                  [0; 55]  \n",
       "11                  [0; 55]  \n",
       "12                  [0; 55]  \n",
       "13                  [0; 55]  "
      ]
     },
     "execution_count": 22,
     "metadata": {},
     "output_type": "execute_result"
    }
   ],
   "source": [
    "relative_to_original = True\n",
    "\n",
    "model_family_str = r'$\\bf{Model}$'\n",
    "train_stds_str = r'$\\bf{Train}$  $\\bf{std}$'\n",
    "noise_std_str = 'Test noise standard deviation'\n",
    "psnr_str = 'Ratio over original PSNR'\n",
    "# PSNR to plot\n",
    "psnr_to_plot = pd.DataFrame(\n",
    "    columns=[noise_std_str, psnr_str, 'psnr-std-dev', 'model_name', model_family_str, train_stds_str]\n",
    ")\n",
    "\n",
    "def from_name_to_family(model_name):\n",
    "    if 'learnlet' in model_name:\n",
    "        if 'no_thresh' in model_name:\n",
    "            return 'Learnlets \\n w/o thresholding'\n",
    "        else:\n",
    "            return 'Learnlets'\n",
    "    elif 'unet' in model_name:\n",
    "        return 'U-net'\n",
    "    elif 'bm3d' in model_name:\n",
    "        return 'BM3D'\n",
    "    elif 'wavelets' in model_name:\n",
    "        return 'Wavelets'\n",
    "    else:\n",
    "        return 'Original'\n",
    "    \n",
    "def from_name_to_train_stds(model_name):\n",
    "    if '30' in model_name:\n",
    "        return '30'\n",
    "    elif '20_40' in model_name:\n",
    "        return '[20; 40]'\n",
    "    else:\n",
    "        return '[0; 55]'\n",
    "\n",
    "family_model_to_color = {\n",
    "    'U-net': (0.2823529411764706, 0.47058823529411764, 0.8156862745098039),\n",
    "    'Learnlets': (0.9333333333333333, 0.5215686274509804, 0.2901960784313726),\n",
    "    'Learnlets \\n w/o thresholding': (0.8333333333333333, 0.5215686274509804, 0.3901960784313726),\n",
    "    'BM3D': 'violet',\n",
    "    'Wavelets': 'red',\n",
    "    'Original': (0.41568627450980394, 0.8, 0.39215686274509803),\n",
    "}\n",
    "index = 0\n",
    "orig_psnrs = {}\n",
    "for i_noise, (noise_std, metrics) in enumerate(noise_std_metrics.items()):\n",
    "    for j_model, (name, m) in enumerate(metrics):\n",
    "        if relative_to_original and name == 'original':\n",
    "            orig_psnrs[noise_std] = m.metrics['PSNR'].mean()\n",
    "        else:\n",
    "            psnr_to_plot.loc[index, noise_std_str] = noise_std\n",
    "            psnr_to_plot.loc[index, psnr_str] = m.metrics['PSNR'].mean()\n",
    "            psnr_to_plot.loc[index, 'psnr-std-dev'] = m.metrics['PSNR'].stddev() / 2\n",
    "            psnr_to_plot.loc[index, 'model_name'] = name\n",
    "            psnr_to_plot.loc[index, train_stds_str] = from_name_to_train_stds(name)\n",
    "            psnr_to_plot.loc[index, model_family_str] = from_name_to_family(name)\n",
    "            index += 1\n",
    "    \n",
    "\n",
    "if relative_to_original:\n",
    "    for noise_std, orig_psnr in orig_psnrs.items():\n",
    "        psnr_to_plot.loc[psnr_to_plot[noise_std_str] == noise_std, psnr_str] = psnr_to_plot[psnr_to_plot[noise_std_str] == noise_std][psnr_str] / orig_psnr\n",
    "    \n",
    "psnr_to_plot"
   ]
  },
  {
   "cell_type": "code",
   "execution_count": 23,
   "metadata": {
    "scrolled": false
   },
   "outputs": [],
   "source": [
    "# plt.figure()\n",
    "# psnr_to_plot[psnr_str] = psnr_to_plot[psnr_str].astype(float)\n",
    "# lplot = sns.lineplot(\n",
    "#     x=noise_std_str, \n",
    "#     y=psnr_str, \n",
    "#     hue=model_family_str,\n",
    "#     style=train_stds_str,\n",
    "#     data=psnr_to_plot,\n",
    "#     palette=family_model_to_color,\n",
    "# )\n",
    "# lplot.errorbar(\n",
    "#     x=noise_std_str, \n",
    "#     y=psnr_str,\n",
    "#     yerr='psnr-std-dev',\n",
    "#     fmt='none',\n",
    "#     ecolor=[family_model_to_color[mf] for mf in psnr_to_plot[model_family_str]],\n",
    "#     data=psnr_to_plot,\n",
    "#     alpha=0.3,\n",
    "#     label=None,\n",
    "# )\n",
    "# plt.legend(bbox_to_anchor=(1.0, 1.0), loc='best', borderaxespad=0)\n",
    "# plt.subplots_adjust(right=0.83)\n",
    "# plt.savefig(f'gen.png')"
   ]
  },
  {
   "cell_type": "code",
   "execution_count": 27,
   "metadata": {
    "scrolled": false
   },
   "outputs": [
    {
     "data": {
      "image/png": "[encoded data removed]",
      "text/plain": [
       "<Figure size 648x360 with 1 Axes>"
      ]
     },
     "metadata": {},
     "output_type": "display_data"
    }
   ],
   "source": [
    "plt.figure()\n",
    "psnr_to_plot[psnr_str] = psnr_to_plot[psnr_str].astype(float)\n",
    "lplot = sns.lineplot(\n",
    "    x=noise_std_str, \n",
    "    y=psnr_str, \n",
    "    hue=model_family_str,\n",
    "    style=train_stds_str,\n",
    "    data=psnr_to_plot,\n",
    "    palette=family_model_to_color,\n",
    ")\n",
    "# lplot.errorbar(\n",
    "#     x=noise_std_str, \n",
    "#     y=psnr_str,\n",
    "#     yerr='psnr-std-dev',\n",
    "#     fmt='none',\n",
    "#     ecolor=[family_model_to_color[mf] for mf in psnr_to_plot[model_family_str]],\n",
    "#     data=psnr_to_plot,\n",
    "#     alpha=0.3,\n",
    "#     label=None,\n",
    "# )\n",
    "plt.legend(bbox_to_anchor=(1.0, 1.0), loc='best', borderaxespad=0)\n",
    "plt.subplots_adjust(right=0.785)\n",
    "plt.savefig(f'gen_wo_error_bars.png')"
   ]
  },
  {
   "cell_type": "code",
   "execution_count": null,
   "metadata": {},
   "outputs": [],
   "source": []
  }
 ],
 "metadata": {
  "kernelspec": {
   "display_name": "Python 3",
   "language": "python",
   "name": "python3"
  },
  "language_info": {
   "codemirror_mode": {
    "name": "ipython",
    "version": 3
   },
   "file_extension": ".py",
   "mimetype": "text/x-python",
   "name": "python",
   "nbconvert_exporter": "python",
   "pygments_lexer": "ipython3",
   "version": "3.6.8"
  },
  "notify_time": "30"
 },
 "nbformat": 4,
 "nbformat_minor": 2
}
