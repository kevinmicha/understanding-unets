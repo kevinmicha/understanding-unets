{
 "cells": [
  {
   "cell_type": "code",
   "execution_count": 1,
   "metadata": {},
   "outputs": [
    {
     "name": "stdout",
     "output_type": "stream",
     "text": [
      "/home/zaccharie/workspace/understanding-unets\n"
     ]
    }
   ],
   "source": [
    "%cd .."
   ]
  },
  {
   "cell_type": "code",
   "execution_count": 2,
   "metadata": {},
   "outputs": [
    {
     "name": "stderr",
     "output_type": "stream",
     "text": [
      "Using TensorFlow backend.\n"
     ]
    }
   ],
   "source": [
    "%load_ext autoreload\n",
    "%autoreload 2\n",
    "%matplotlib nbagg\n",
    "import glob\n",
    "import math\n",
    "import os.path as op\n",
    "\n",
    "from keras.models import load_model\n",
    "import matplotlib.pyplot as plt\n",
    "import numpy as np\n",
    "from tqdm import tqdm_notebook"
   ]
  },
  {
   "cell_type": "markdown",
   "metadata": {},
   "source": [
    "# Model loading"
   ]
  },
  {
   "cell_type": "code",
   "execution_count": 3,
   "metadata": {},
   "outputs": [
    {
     "name": "stdout",
     "output_type": "stream",
     "text": [
      "WARNING:tensorflow:From /home/zaccharie/workspace/understanding-unets/venv/lib/python3.6/site-packages/tensorflow/python/framework/op_def_library.py:263: colocate_with (from tensorflow.python.framework.ops) is deprecated and will be removed in a future version.\n",
      "Instructions for updating:\n",
      "Colocations handled automatically by placer.\n",
      "WARNING:tensorflow:From /home/zaccharie/workspace/understanding-unets/venv/lib/python3.6/site-packages/tensorflow/python/ops/math_ops.py:3066: to_int32 (from tensorflow.python.ops.math_ops) is deprecated and will be removed in a future version.\n",
      "Instructions for updating:\n",
      "Use tf.cast instead.\n"
     ]
    }
   ],
   "source": [
    "run_id = 'big_no_nlin'\n",
    "load_path = op.join('saved_models', f'{run_id}.h5')\n",
    "model = load_model(load_path)"
   ]
  },
  {
   "cell_type": "code",
   "execution_count": 4,
   "metadata": {
    "scrolled": true
   },
   "outputs": [
    {
     "name": "stdout",
     "output_type": "stream",
     "text": [
      "__________________________________________________________________________________________________\n",
      "Layer (type)                    Output Shape         Param #     Connected to                     \n",
      "==================================================================================================\n",
      "input_1 (InputLayer)            (None, 256, 256, 1)  0                                            \n",
      "__________________________________________________________________________________________________\n",
      "conv2d_1 (Conv2D)               (None, 256, 256, 2)  20          input_1[0][0]                    \n",
      "__________________________________________________________________________________________________\n",
      "average_pooling2d_1 (AveragePoo (None, 128, 128, 2)  0           conv2d_1[0][0]                   \n",
      "__________________________________________________________________________________________________\n",
      "conv2d_2 (Conv2D)               (None, 128, 128, 4)  76          average_pooling2d_1[0][0]        \n",
      "__________________________________________________________________________________________________\n",
      "average_pooling2d_2 (AveragePoo (None, 64, 64, 4)    0           conv2d_2[0][0]                   \n",
      "__________________________________________________________________________________________________\n",
      "conv2d_3 (Conv2D)               (None, 64, 64, 8)    296         average_pooling2d_2[0][0]        \n",
      "__________________________________________________________________________________________________\n",
      "average_pooling2d_3 (AveragePoo (None, 32, 32, 8)    0           conv2d_3[0][0]                   \n",
      "__________________________________________________________________________________________________\n",
      "conv2d_4 (Conv2D)               (None, 32, 32, 16)   1168        average_pooling2d_3[0][0]        \n",
      "__________________________________________________________________________________________________\n",
      "up_sampling2d_1 (UpSampling2D)  (None, 64, 64, 16)   0           conv2d_4[0][0]                   \n",
      "__________________________________________________________________________________________________\n",
      "concatenate_1 (Concatenate)     (None, 64, 64, 24)   0           conv2d_3[0][0]                   \n",
      "                                                                 up_sampling2d_1[0][0]            \n",
      "__________________________________________________________________________________________________\n",
      "conv2d_5 (Conv2D)               (None, 64, 64, 8)    1736        concatenate_1[0][0]              \n",
      "__________________________________________________________________________________________________\n",
      "up_sampling2d_2 (UpSampling2D)  (None, 128, 128, 8)  0           conv2d_5[0][0]                   \n",
      "__________________________________________________________________________________________________\n",
      "concatenate_2 (Concatenate)     (None, 128, 128, 12) 0           conv2d_2[0][0]                   \n",
      "                                                                 up_sampling2d_2[0][0]            \n",
      "__________________________________________________________________________________________________\n",
      "conv2d_6 (Conv2D)               (None, 128, 128, 4)  436         concatenate_2[0][0]              \n",
      "__________________________________________________________________________________________________\n",
      "up_sampling2d_3 (UpSampling2D)  (None, 256, 256, 4)  0           conv2d_6[0][0]                   \n",
      "__________________________________________________________________________________________________\n",
      "concatenate_3 (Concatenate)     (None, 256, 256, 6)  0           conv2d_1[0][0]                   \n",
      "                                                                 up_sampling2d_3[0][0]            \n",
      "__________________________________________________________________________________________________\n",
      "conv2d_7 (Conv2D)               (None, 256, 256, 2)  110         concatenate_3[0][0]              \n",
      "__________________________________________________________________________________________________\n",
      "conv2d_8 (Conv2D)               (None, 256, 256, 1)  19          conv2d_7[0][0]                   \n",
      "==================================================================================================\n",
      "Total params: 3,861\n",
      "Trainable params: 3,861\n",
      "Non-trainable params: 0\n",
      "__________________________________________________________________________________________________\n",
      "None\n"
     ]
    }
   ],
   "source": [
    "print(model.summary())"
   ]
  },
  {
   "cell_type": "markdown",
   "metadata": {},
   "source": [
    "# Data iterates"
   ]
  },
  {
   "cell_type": "code",
   "execution_count": 5,
   "metadata": {},
   "outputs": [],
   "source": [
    "bsd_dir_test = 'BSDS300/images/test'\n",
    "bsd_dir_train = 'BSDS300/images/train'"
   ]
  },
  {
   "cell_type": "code",
   "execution_count": 6,
   "metadata": {},
   "outputs": [],
   "source": [
    "filelist = glob.glob(bsd_dir_test + '/*') + glob.glob(bsd_dir_train + '/*')"
   ]
  },
  {
   "cell_type": "code",
   "execution_count": 14,
   "metadata": {},
   "outputs": [
    {
     "name": "stdout",
     "output_type": "stream",
     "text": [
      "0.013837017787365638\n",
      "18.589603273819655\n"
     ]
    }
   ],
   "source": [
    "im_list = [plt.imread(fname).mean(axis=-1) for fname in filelist]\n",
    "noisy_im_list = [im + np.random.normal(scale=30, size=im.shape) for im in im_list]\n",
    "\n",
    "noise_mses = [np.mean((noisy_im / 255 - im / 255)**2) for im, noisy_im in zip(im_list, noisy_im_list)]\n",
    "print(np.mean(noise_mses))\n",
    "print(np.mean(-10*np.log10(noise_mses)))"
   ]
  },
  {
   "cell_type": "code",
   "execution_count": 8,
   "metadata": {},
   "outputs": [],
   "source": [
    "def evaluate(im_noisy, im_gt):\n",
    "    x_recon = denoise(im_noisy)\n",
    "    return np.mean((x_recon - im_gt)**2)\n",
    "\n",
    "def denoise_image(im_noisy):\n",
    "    sub_patches = {}\n",
    "    recon_matrix = np.zeros_like(im_noisy)\n",
    "    for i in range(math.ceil(im_noisy.shape[0] / 256)):\n",
    "        for j in range(math.ceil(im_noisy.shape[1] / 256)):\n",
    "            i_max = min((i+1) * 256, im_noisy.shape[0]+1)\n",
    "            i_min = max(0, i_max - 257)\n",
    "            j_max = min((j+1) * 256, im_noisy.shape[1]+1)\n",
    "            j_min = max(0, j_max - 257)\n",
    "            slice_i = slice(i_min, i_max)\n",
    "            slice_j = slice(j_min, j_max)\n",
    "            recon_matrix[slice_i, slice_j] += 1\n",
    "            sub_patches[(i, j)] = im_noisy[slice_i, slice_j]\n",
    "    sub_patches_done = {k: model.predict(sub_patch[None, ..., None]) for k, sub_patch in sub_patches.items()}\n",
    "    x_recon = np.zeros_like(im_noisy)\n",
    "    for (i, j), sub_patch_recon in sub_patches_done.items():\n",
    "        i_max = min((i+1) * 256, im_noisy.shape[0]+1)\n",
    "        i_min = max(0, i_max - 257)\n",
    "        j_max = min((j+1) * 256, im_noisy.shape[1]+1)\n",
    "        j_min = max(0, j_max - 257)\n",
    "        slice_i = slice(i_min, i_max)\n",
    "        slice_j = slice(j_min, j_max)\n",
    "        x_recon[slice_i, slice_j] += sub_patch_recon[0, ..., 0]\n",
    "    x_recon /= recon_matrix\n",
    "    return x_recon"
   ]
  },
  {
   "cell_type": "code",
   "execution_count": 9,
   "metadata": {},
   "outputs": [
    {
     "data": {
      "application/vnd.jupyter.widget-view+json": {
       "model_id": "42b1e9558d0646e9a873fa294f9e09fd",
       "version_major": 2,
       "version_minor": 0
      },
      "text/plain": [
       "HBox(children=(IntProgress(value=0, max=300), HTML(value='')))"
      ]
     },
     "metadata": {},
     "output_type": "display_data"
    },
    {
     "name": "stdout",
     "output_type": "stream",
     "text": [
      "\n"
     ]
    }
   ],
   "source": [
    "mses = [evaluate(noisy_im / 255, im / 255) for im, noisy_im in tqdm_notebook(zip(im_list, noisy_im_list))]"
   ]
  },
  {
   "cell_type": "code",
   "execution_count": 10,
   "metadata": {},
   "outputs": [
    {
     "data": {
      "text/plain": [
       "0.050478359922382296"
      ]
     },
     "execution_count": 10,
     "metadata": {},
     "output_type": "execute_result"
    }
   ],
   "source": [
    "np.mean(mses)"
   ]
  },
  {
   "cell_type": "code",
   "execution_count": 11,
   "metadata": {},
   "outputs": [
    {
     "data": {
      "text/plain": [
       "13.466179543653134"
      ]
     },
     "execution_count": 11,
     "metadata": {},
     "output_type": "execute_result"
    }
   ],
   "source": [
    "np.mean(-10 * np.log10(mses))"
   ]
  },
  {
   "cell_type": "code",
   "execution_count": null,
   "metadata": {},
   "outputs": [],
   "source": []
  }
 ],
 "metadata": {
  "kernelspec": {
   "display_name": "Python 3",
   "language": "python",
   "name": "python3"
  },
  "language_info": {
   "codemirror_mode": {
    "name": "ipython",
    "version": 3
   },
   "file_extension": ".py",
   "mimetype": "text/x-python",
   "name": "python",
   "nbconvert_exporter": "python",
   "pygments_lexer": "ipython3",
   "version": "3.6.7"
  }
 },
 "nbformat": 4,
 "nbformat_minor": 2
}
