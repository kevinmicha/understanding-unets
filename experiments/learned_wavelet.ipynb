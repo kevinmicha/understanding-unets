{
 "cells": [
  {
   "cell_type": "code",
   "execution_count": 1,
   "metadata": {},
   "outputs": [
    {
     "name": "stdout",
     "output_type": "stream",
     "text": [
      "/volatile/home/Zaccharie/workspace/understanding-unets\n"
     ]
    }
   ],
   "source": [
    "%cd .."
   ]
  },
  {
   "cell_type": "code",
   "execution_count": 2,
   "metadata": {},
   "outputs": [],
   "source": [
    "# # this just to make sure we are using only on CPU\n",
    "# import os\n",
    "# os.environ[\"CUDA_VISIBLE_DEVICES\"]=\"-1\""
   ]
  },
  {
   "cell_type": "code",
   "execution_count": 3,
   "metadata": {},
   "outputs": [
    {
     "name": "stderr",
     "output_type": "stream",
     "text": [
      "Using TensorFlow backend.\n"
     ]
    }
   ],
   "source": [
    "%load_ext autoreload\n",
    "%autoreload 2\n",
    "import os.path as op\n",
    "import time\n",
    "\n",
    "from tensorflow.keras.callbacks import TensorBoard, ModelCheckpoint\n",
    "from keras_tqdm import TQDMNotebookCallback\n",
    "import tensorflow as tf\n",
    "from tqdm import tqdm_notebook\n",
    "\n",
    "from learning_wavelets.data import im_generators\n",
    "from learning_wavelets.evaluate import psnr, ssim\n",
    "from learning_wavelets.keras_utils.filters_cback import NormalizeWeights\n",
    "from learning_wavelets.keras_utils.image_tboard_cback import TensorBoardImage\n",
    "from learning_wavelets.keras_utils.normalisation import NormalisationAdjustment\n",
    "from learning_wavelets.keras_utils.thresholding import SoftThresholding\n",
    "from learning_wavelets.learned_wavelet import learned_wavelet"
   ]
  },
  {
   "cell_type": "code",
   "execution_count": 4,
   "metadata": {},
   "outputs": [],
   "source": [
    "tf.random.set_seed(1)"
   ]
  },
  {
   "cell_type": "code",
   "execution_count": 5,
   "metadata": {},
   "outputs": [
    {
     "name": "stdout",
     "output_type": "stream",
     "text": [
      "Found 720 images belonging to 1 classes.\n",
      "Found 720 images belonging to 1 classes.\n",
      "Found 80 images belonging to 1 classes.\n",
      "Found 80 images belonging to 1 classes.\n",
      "Found 100 images belonging to 1 classes.\n",
      "Found 100 images belonging to 1 classes.\n"
     ]
    }
   ],
   "source": [
    "source = 'div2k'\n",
    "noise_std = 30\n",
    "grey = True\n",
    "im_gen_train, im_gen_val, im_gen_test, size, n_samples_train = im_generators(\n",
    "    source, \n",
    "    batch_size=1, \n",
    "    validation_split=0.1, \n",
    "    no_augment=False, \n",
    "    noise_std=noise_std,\n",
    "    grey=grey,\n",
    ")  "
   ]
  },
  {
   "cell_type": "code",
   "execution_count": 6,
   "metadata": {},
   "outputs": [
    {
     "name": "stdout",
     "output_type": "stream",
     "text": [
      "learned_wavelet_div2k_30_1573570871\n"
     ]
    }
   ],
   "source": [
    "n_coarse = 3\n",
    "if grey:\n",
    "    n_coarse = 1\n",
    "thresh = 2*noise_std/255\n",
    "run_params = {\n",
    "    'n_scales': 5, \n",
    "    'n_details': 256, \n",
    "    'n_coarse': n_coarse, \n",
    "    'n_groupping': 256,\n",
    "    'denoising_activation': SoftThresholding(thresh),\n",
    "    'wav_pooling': True,\n",
    "    'wav_use_bias': False,\n",
    "    'wav_normed': True,\n",
    "    'filters_normed': ['details', 'coarse'],\n",
    "}\n",
    "n_epochs = 10\n",
    "run_id = f'learned_wavelet_{source}_{noise_std}_{int(time.time())}'\n",
    "chkpt_path = f'checkpoints/{run_id}' + '-{epoch:02d}.hdf5'\n",
    "print(run_id)"
   ]
  },
  {
   "cell_type": "code",
   "execution_count": 7,
   "metadata": {},
   "outputs": [
    {
     "name": "stderr",
     "output_type": "stream",
     "text": [
      "WARNING: Logging before flag parsing goes to stderr.\n",
      "W1112 16:01:11.391887 140599946725120 callbacks.py:859] `period` argument is deprecated. Please use `save_freq` to specify the frequency in number of samples seen.\n"
     ]
    }
   ],
   "source": [
    "chkpt_cback = ModelCheckpoint(chkpt_path, period=n_epochs, save_weights_only=False)\n",
    "log_dir = op.join('logs', run_id)\n",
    "tboard_cback = TensorBoard(\n",
    "    log_dir=log_dir, \n",
    "    histogram_freq=0, \n",
    "    write_graph=True, \n",
    "    write_images=False, \n",
    ")\n",
    "tqdm_cb = TQDMNotebookCallback(metric_format=\"{name}: {value:e}\")\n",
    "tqdm_cb.on_train_batch_begin = tqdm_cb.on_batch_begin\n",
    "tqdm_cb.on_train_batch_end = tqdm_cb.on_batch_end\n",
    "val_noisy, val_gt = im_gen_val[0]\n",
    "tboard_image_cback = TensorBoardImage(\n",
    "    log_dir=log_dir + '/images',\n",
    "    image=val_gt[0:1],\n",
    "    noisy_image=val_noisy[0:1],\n",
    ")\n",
    "norm_cback = NormalisationAdjustment(momentum=0.99, n_pooling=5)\n",
    "norm_cback.on_train_batch_end = norm_cback.on_batch_end"
   ]
  },
  {
   "cell_type": "code",
   "execution_count": 8,
   "metadata": {
    "scrolled": true
   },
   "outputs": [
    {
     "name": "stdout",
     "output_type": "stream",
     "text": [
      "Model: \"model\"\n",
      "______________________________________________________________________________________________________________________________________________________\n",
      "Layer (type)                                     Output Shape                     Param #           Connected to                                      \n",
      "======================================================================================================================================================\n",
      "input_1 (InputLayer)                             [(None, None, None, 1)]          0                                                                   \n",
      "______________________________________________________________________________________________________________________________________________________\n",
      "low_pass_filtering_1 (Conv2D)                    (None, None, None, 1)            25                input_1[0][0]                                     \n",
      "______________________________________________________________________________________________________________________________________________________\n",
      "average_pooling2d (AveragePooling2D)             (None, None, None, 1)            0                 low_pass_filtering_1[0][0]                        \n",
      "______________________________________________________________________________________________________________________________________________________\n",
      "low_pass_filtering_2 (Conv2D)                    (None, None, None, 1)            25                average_pooling2d[0][0]                           \n",
      "______________________________________________________________________________________________________________________________________________________\n",
      "average_pooling2d_1 (AveragePooling2D)           (None, None, None, 1)            0                 low_pass_filtering_2[0][0]                        \n",
      "______________________________________________________________________________________________________________________________________________________\n",
      "low_pass_filtering_3 (Conv2D)                    (None, None, None, 1)            25                average_pooling2d_1[0][0]                         \n",
      "______________________________________________________________________________________________________________________________________________________\n",
      "average_pooling2d_2 (AveragePooling2D)           (None, None, None, 1)            0                 low_pass_filtering_3[0][0]                        \n",
      "______________________________________________________________________________________________________________________________________________________\n",
      "low_pass_filtering_4 (Conv2D)                    (None, None, None, 1)            25                average_pooling2d_2[0][0]                         \n",
      "______________________________________________________________________________________________________________________________________________________\n",
      "average_pooling2d_3 (AveragePooling2D)           (None, None, None, 1)            0                 low_pass_filtering_4[0][0]                        \n",
      "______________________________________________________________________________________________________________________________________________________\n",
      "high_pass_filtering_5 (Conv2D)                   (None, None, None, 1)            25                average_pooling2d_3[0][0]                         \n",
      "______________________________________________________________________________________________________________________________________________________\n",
      "wav_normalisation_5 (Lambda)                     (None, None, None, 1)            0                 high_pass_filtering_5[0][0]                       \n",
      "______________________________________________________________________________________________________________________________________________________\n",
      "details_tiling_5 (Conv2D)                        (None, None, None, 256)          2304              wav_normalisation_5[0][0]                         \n",
      "______________________________________________________________________________________________________________________________________________________\n",
      "normalisation_4 (Normalisation)                  (None, None, None, 256)          256               details_tiling_5[0][0]                            \n",
      "                                                                                                    activation_4[0][0]                                \n",
      "______________________________________________________________________________________________________________________________________________________\n",
      "activation_4 (Activation)                        (None, None, None, 256)          0                 normalisation_4[0][0]                             \n",
      "______________________________________________________________________________________________________________________________________________________\n",
      "low_pass_filtering_5 (Conv2D)                    (None, None, None, 1)            25                average_pooling2d_3[0][0]                         \n",
      "______________________________________________________________________________________________________________________________________________________\n",
      "wav_denormalisation_5 (Lambda)                   (None, None, None, 256)          0                 normalisation_4[1][0]                             \n",
      "______________________________________________________________________________________________________________________________________________________\n",
      "high_pass_filtering_4 (Conv2D)                   (None, None, None, 1)            25                average_pooling2d_2[0][0]                         \n",
      "______________________________________________________________________________________________________________________________________________________\n",
      "concatenate (Concatenate)                        (None, None, None, 257)          0                 low_pass_filtering_5[0][0]                        \n",
      "                                                                                                    wav_denormalisation_5[0][0]                       \n",
      "______________________________________________________________________________________________________________________________________________________\n",
      "wav_normalisation_4 (Lambda)                     (None, None, None, 1)            0                 high_pass_filtering_4[0][0]                       \n",
      "______________________________________________________________________________________________________________________________________________________\n",
      "groupping_conv_1 (Conv2D)                        (None, None, None, 256)          592128            concatenate[0][0]                                 \n",
      "______________________________________________________________________________________________________________________________________________________\n",
      "details_tiling_4 (Conv2D)                        (None, None, None, 256)          2304              wav_normalisation_4[0][0]                         \n",
      "______________________________________________________________________________________________________________________________________________________\n",
      "activation_5 (Activation)                        (None, None, None, 256)          0                 groupping_conv_1[0][0]                            \n",
      "______________________________________________________________________________________________________________________________________________________\n",
      "normalisation_3 (Normalisation)                  (None, None, None, 256)          256               details_tiling_4[0][0]                            \n",
      "                                                                                                    activation_3[0][0]                                \n",
      "______________________________________________________________________________________________________________________________________________________\n",
      "conv2d (Conv2D)                                  (None, None, None, 1)            256               activation_5[0][0]                                \n",
      "______________________________________________________________________________________________________________________________________________________\n",
      "activation_3 (Activation)                        (None, None, None, 256)          0                 normalisation_3[0][0]                             \n",
      "______________________________________________________________________________________________________________________________________________________\n",
      "activation_6 (Activation)                        (None, None, None, 1)            0                 conv2d[0][0]                                      \n",
      "______________________________________________________________________________________________________________________________________________________\n",
      "up_sampling2d (UpSampling2D)                     (None, None, None, 1)            0                 activation_6[0][0]                                \n",
      "______________________________________________________________________________________________________________________________________________________\n",
      "wav_denormalisation_4 (Lambda)                   (None, None, None, 256)          0                 normalisation_3[1][0]                             \n",
      "______________________________________________________________________________________________________________________________________________________\n",
      "high_pass_filtering_3 (Conv2D)                   (None, None, None, 1)            25                average_pooling2d_1[0][0]                         \n",
      "______________________________________________________________________________________________________________________________________________________\n",
      "concatenate_1 (Concatenate)                      (None, None, None, 257)          0                 up_sampling2d[0][0]                               \n",
      "                                                                                                    wav_denormalisation_4[0][0]                       \n",
      "______________________________________________________________________________________________________________________________________________________\n",
      "wav_normalisation_3 (Lambda)                     (None, None, None, 1)            0                 high_pass_filtering_3[0][0]                       \n",
      "______________________________________________________________________________________________________________________________________________________\n",
      "groupping_conv_2 (Conv2D)                        (None, None, None, 256)          592128            concatenate_1[0][0]                               \n",
      "______________________________________________________________________________________________________________________________________________________\n",
      "details_tiling_3 (Conv2D)                        (None, None, None, 256)          2304              wav_normalisation_3[0][0]                         \n",
      "______________________________________________________________________________________________________________________________________________________\n",
      "activation_7 (Activation)                        (None, None, None, 256)          0                 groupping_conv_2[0][0]                            \n",
      "______________________________________________________________________________________________________________________________________________________\n",
      "normalisation_2 (Normalisation)                  (None, None, None, 256)          256               details_tiling_3[0][0]                            \n",
      "                                                                                                    activation_2[0][0]                                \n",
      "______________________________________________________________________________________________________________________________________________________\n",
      "conv2d_1 (Conv2D)                                (None, None, None, 1)            256               activation_7[0][0]                                \n",
      "______________________________________________________________________________________________________________________________________________________\n",
      "activation_2 (Activation)                        (None, None, None, 256)          0                 normalisation_2[0][0]                             \n",
      "______________________________________________________________________________________________________________________________________________________\n",
      "activation_8 (Activation)                        (None, None, None, 1)            0                 conv2d_1[0][0]                                    \n",
      "______________________________________________________________________________________________________________________________________________________\n",
      "up_sampling2d_1 (UpSampling2D)                   (None, None, None, 1)            0                 activation_8[0][0]                                \n",
      "______________________________________________________________________________________________________________________________________________________\n",
      "wav_denormalisation_3 (Lambda)                   (None, None, None, 256)          0                 normalisation_2[1][0]                             \n",
      "______________________________________________________________________________________________________________________________________________________\n",
      "high_pass_filtering_2 (Conv2D)                   (None, None, None, 1)            25                average_pooling2d[0][0]                           \n",
      "______________________________________________________________________________________________________________________________________________________\n",
      "concatenate_2 (Concatenate)                      (None, None, None, 257)          0                 up_sampling2d_1[0][0]                             \n",
      "                                                                                                    wav_denormalisation_3[0][0]                       \n",
      "______________________________________________________________________________________________________________________________________________________\n",
      "wav_normalisation_2 (Lambda)                     (None, None, None, 1)            0                 high_pass_filtering_2[0][0]                       \n",
      "______________________________________________________________________________________________________________________________________________________\n",
      "groupping_conv_3 (Conv2D)                        (None, None, None, 256)          592128            concatenate_2[0][0]                               \n",
      "______________________________________________________________________________________________________________________________________________________\n",
      "details_tiling_2 (Conv2D)                        (None, None, None, 256)          2304              wav_normalisation_2[0][0]                         \n",
      "______________________________________________________________________________________________________________________________________________________\n",
      "activation_9 (Activation)                        (None, None, None, 256)          0                 groupping_conv_3[0][0]                            \n",
      "______________________________________________________________________________________________________________________________________________________\n",
      "normalisation_1 (Normalisation)                  (None, None, None, 256)          256               details_tiling_2[0][0]                            \n",
      "                                                                                                    activation_1[0][0]                                \n",
      "______________________________________________________________________________________________________________________________________________________\n",
      "conv2d_2 (Conv2D)                                (None, None, None, 1)            256               activation_9[0][0]                                \n",
      "______________________________________________________________________________________________________________________________________________________\n",
      "activation_1 (Activation)                        (None, None, None, 256)          0                 normalisation_1[0][0]                             \n",
      "______________________________________________________________________________________________________________________________________________________\n",
      "activation_10 (Activation)                       (None, None, None, 1)            0                 conv2d_2[0][0]                                    \n",
      "______________________________________________________________________________________________________________________________________________________\n",
      "up_sampling2d_2 (UpSampling2D)                   (None, None, None, 1)            0                 activation_10[0][0]                               \n",
      "______________________________________________________________________________________________________________________________________________________\n",
      "wav_denormalisation_2 (Lambda)                   (None, None, None, 256)          0                 normalisation_1[1][0]                             \n",
      "______________________________________________________________________________________________________________________________________________________\n",
      "high_pass_filtering_1 (Conv2D)                   (None, None, None, 1)            25                input_1[0][0]                                     \n",
      "______________________________________________________________________________________________________________________________________________________\n",
      "concatenate_3 (Concatenate)                      (None, None, None, 257)          0                 up_sampling2d_2[0][0]                             \n",
      "                                                                                                    wav_denormalisation_2[0][0]                       \n",
      "______________________________________________________________________________________________________________________________________________________\n",
      "wav_normalisation_1 (Lambda)                     (None, None, None, 1)            0                 high_pass_filtering_1[0][0]                       \n",
      "______________________________________________________________________________________________________________________________________________________\n",
      "groupping_conv_4 (Conv2D)                        (None, None, None, 256)          592128            concatenate_3[0][0]                               \n",
      "______________________________________________________________________________________________________________________________________________________\n",
      "details_tiling_1 (Conv2D)                        (None, None, None, 256)          2304              wav_normalisation_1[0][0]                         \n",
      "______________________________________________________________________________________________________________________________________________________\n",
      "activation_11 (Activation)                       (None, None, None, 256)          0                 groupping_conv_4[0][0]                            \n",
      "______________________________________________________________________________________________________________________________________________________\n",
      "normalisation (Normalisation)                    (None, None, None, 256)          256               details_tiling_1[0][0]                            \n",
      "                                                                                                    activation[0][0]                                  \n",
      "______________________________________________________________________________________________________________________________________________________\n",
      "conv2d_3 (Conv2D)                                (None, None, None, 1)            256               activation_11[0][0]                               \n",
      "______________________________________________________________________________________________________________________________________________________\n",
      "activation (Activation)                          (None, None, None, 256)          0                 normalisation[0][0]                               \n",
      "______________________________________________________________________________________________________________________________________________________\n",
      "activation_12 (Activation)                       (None, None, None, 1)            0                 conv2d_3[0][0]                                    \n",
      "______________________________________________________________________________________________________________________________________________________\n",
      "up_sampling2d_3 (UpSampling2D)                   (None, None, None, 1)            0                 activation_12[0][0]                               \n",
      "______________________________________________________________________________________________________________________________________________________\n",
      "wav_denormalisation_1 (Lambda)                   (None, None, None, 256)          0                 normalisation[1][0]                               \n",
      "______________________________________________________________________________________________________________________________________________________\n",
      "concatenate_4 (Concatenate)                      (None, None, None, 257)          0                 up_sampling2d_3[0][0]                             \n",
      "                                                                                                    wav_denormalisation_1[0][0]                       \n",
      "______________________________________________________________________________________________________________________________________________________\n",
      "groupping_conv_5 (Conv2D)                        (None, None, None, 256)          592128            concatenate_4[0][0]                               \n",
      "______________________________________________________________________________________________________________________________________________________\n",
      "activation_13 (Activation)                       (None, None, None, 256)          0                 groupping_conv_5[0][0]                            \n",
      "______________________________________________________________________________________________________________________________________________________\n",
      "conv2d_4 (Conv2D)                                (None, None, None, 1)            256               activation_13[0][0]                               \n",
      "______________________________________________________________________________________________________________________________________________________\n",
      "activation_14 (Activation)                       (None, None, None, 1)            0                 conv2d_4[0][0]                                    \n",
      "======================================================================================================================================================\n",
      "Total params: 2,974,970\n",
      "Trainable params: 2,973,440\n",
      "Non-trainable params: 1,530\n",
      "______________________________________________________________________________________________________________________________________________________\n",
      "None\n"
     ]
    }
   ],
   "source": [
    "n_channels = 3\n",
    "if grey:\n",
    "    n_channels = 1\n",
    "model = learned_wavelet(input_size=(None, None, n_channels), lr=1e-3, **run_params)\n",
    "print(model.summary(line_length=150))"
   ]
  },
  {
   "cell_type": "code",
   "execution_count": 9,
   "metadata": {
    "scrolled": true
   },
   "outputs": [
    {
     "data": {
      "application/vnd.jupyter.widget-view+json": {
       "model_id": "c0ec4fe32e5542959361025cc3de75cd",
       "version_major": 2,
       "version_minor": 0
      },
      "text/plain": [
       "HBox(children=(IntProgress(value=0, description='Training', max=10, style=ProgressStyle(description_width='ini…"
      ]
     },
     "metadata": {},
     "output_type": "display_data"
    },
    {
     "data": {
      "application/vnd.jupyter.widget-view+json": {
       "model_id": "",
       "version_major": 2,
       "version_minor": 0
      },
      "text/plain": [
       "HBox(children=(IntProgress(value=0, description='Epoch 0', max=5, style=ProgressStyle(description_width='initi…"
      ]
     },
     "metadata": {},
     "output_type": "display_data"
    },
    {
     "name": "stderr",
     "output_type": "stream",
     "text": [
      "W1112 16:01:21.788461 140599946725120 callbacks.py:241] Method (on_train_batch_end) is slow compared to the batch update (0.387348). Check your callbacks.\n",
      "W1112 16:01:21.985952 140599946725120 callbacks.py:241] Method (on_train_batch_end) is slow compared to the batch update (0.179893). Check your callbacks.\n",
      "W1112 16:01:22.194286 140599946725120 callbacks.py:241] Method (on_train_batch_end) is slow compared to the batch update (0.158560). Check your callbacks.\n",
      "W1112 16:01:22.405254 140599946725120 callbacks.py:241] Method (on_train_batch_end) is slow compared to the batch update (0.138671). Check your callbacks.\n"
     ]
    },
    {
     "data": {
      "application/vnd.jupyter.widget-view+json": {
       "model_id": "",
       "version_major": 2,
       "version_minor": 0
      },
      "text/plain": [
       "HBox(children=(IntProgress(value=0, description='Epoch 1', max=5, style=ProgressStyle(description_width='initi…"
      ]
     },
     "metadata": {},
     "output_type": "display_data"
    },
    {
     "name": "stderr",
     "output_type": "stream",
     "text": [
      "W1112 16:01:26.824437 140599946725120 callbacks.py:241] Method (on_train_batch_end) is slow compared to the batch update (0.149321). Check your callbacks.\n",
      "W1112 16:01:27.035589 140599946725120 callbacks.py:241] Method (on_train_batch_end) is slow compared to the batch update (0.144917). Check your callbacks.\n",
      "W1112 16:01:27.246660 140599946725120 callbacks.py:241] Method (on_train_batch_end) is slow compared to the batch update (0.140514). Check your callbacks.\n",
      "W1112 16:01:27.458166 140599946725120 callbacks.py:241] Method (on_train_batch_end) is slow compared to the batch update (0.140227). Check your callbacks.\n",
      "W1112 16:01:27.665353 140599946725120 callbacks.py:241] Method (on_train_batch_end) is slow compared to the batch update (0.139941). Check your callbacks.\n"
     ]
    },
    {
     "data": {
      "application/vnd.jupyter.widget-view+json": {
       "model_id": "",
       "version_major": 2,
       "version_minor": 0
      },
      "text/plain": [
       "HBox(children=(IntProgress(value=0, description='Epoch 2', max=5, style=ProgressStyle(description_width='initi…"
      ]
     },
     "metadata": {},
     "output_type": "display_data"
    },
    {
     "name": "stderr",
     "output_type": "stream",
     "text": [
      "W1112 16:01:30.787612 140599946725120 callbacks.py:241] Method (on_train_batch_end) is slow compared to the batch update (0.174363). Check your callbacks.\n",
      "W1112 16:01:31.000374 140599946725120 callbacks.py:241] Method (on_train_batch_end) is slow compared to the batch update (0.156259). Check your callbacks.\n",
      "W1112 16:01:31.245677 140599946725120 callbacks.py:241] Method (on_train_batch_end) is slow compared to the batch update (0.158406). Check your callbacks.\n",
      "W1112 16:01:31.460886 140599946725120 callbacks.py:241] Method (on_train_batch_end) is slow compared to the batch update (0.150919). Check your callbacks.\n",
      "W1112 16:01:31.661001 140599946725120 callbacks.py:241] Method (on_train_batch_end) is slow compared to the batch update (0.143433). Check your callbacks.\n"
     ]
    },
    {
     "data": {
      "application/vnd.jupyter.widget-view+json": {
       "model_id": "",
       "version_major": 2,
       "version_minor": 0
      },
      "text/plain": [
       "HBox(children=(IntProgress(value=0, description='Epoch 3', max=5, style=ProgressStyle(description_width='initi…"
      ]
     },
     "metadata": {},
     "output_type": "display_data"
    },
    {
     "name": "stderr",
     "output_type": "stream",
     "text": [
      "W1112 16:01:34.829657 140599946725120 callbacks.py:241] Method (on_train_batch_end) is slow compared to the batch update (0.201356). Check your callbacks.\n",
      "W1112 16:01:35.039169 140599946725120 callbacks.py:241] Method (on_train_batch_end) is slow compared to the batch update (0.169822). Check your callbacks.\n",
      "W1112 16:01:35.263656 140599946725120 callbacks.py:241] Method (on_train_batch_end) is slow compared to the batch update (0.149636). Check your callbacks.\n",
      "W1112 16:01:35.467710 140599946725120 callbacks.py:241] Method (on_train_batch_end) is slow compared to the batch update (0.143962). Check your callbacks.\n",
      "W1112 16:01:35.677603 140599946725120 callbacks.py:241] Method (on_train_batch_end) is slow compared to the batch update (0.138288). Check your callbacks.\n"
     ]
    },
    {
     "data": {
      "application/vnd.jupyter.widget-view+json": {
       "model_id": "",
       "version_major": 2,
       "version_minor": 0
      },
      "text/plain": [
       "HBox(children=(IntProgress(value=0, description='Epoch 4', max=5, style=ProgressStyle(description_width='initi…"
      ]
     },
     "metadata": {},
     "output_type": "display_data"
    },
    {
     "name": "stderr",
     "output_type": "stream",
     "text": [
      "W1112 16:01:38.747855 140599946725120 callbacks.py:241] Method (on_train_batch_end) is slow compared to the batch update (0.194165). Check your callbacks.\n",
      "W1112 16:01:38.969483 140599946725120 callbacks.py:241] Method (on_train_batch_end) is slow compared to the batch update (0.168755). Check your callbacks.\n",
      "W1112 16:01:39.203340 140599946725120 callbacks.py:241] Method (on_train_batch_end) is slow compared to the batch update (0.154939). Check your callbacks.\n",
      "W1112 16:01:39.416548 140599946725120 callbacks.py:241] Method (on_train_batch_end) is slow compared to the batch update (0.149142). Check your callbacks.\n",
      "W1112 16:01:39.620813 140599946725120 callbacks.py:241] Method (on_train_batch_end) is slow compared to the batch update (0.143344). Check your callbacks.\n"
     ]
    },
    {
     "data": {
      "application/vnd.jupyter.widget-view+json": {
       "model_id": "",
       "version_major": 2,
       "version_minor": 0
      },
      "text/plain": [
       "HBox(children=(IntProgress(value=0, description='Epoch 5', max=5, style=ProgressStyle(description_width='initi…"
      ]
     },
     "metadata": {},
     "output_type": "display_data"
    },
    {
     "name": "stderr",
     "output_type": "stream",
     "text": [
      "W1112 16:01:43.134669 140599946725120 callbacks.py:241] Method (on_train_batch_end) is slow compared to the batch update (0.192375). Check your callbacks.\n",
      "W1112 16:01:43.380552 140599946725120 callbacks.py:241] Method (on_train_batch_end) is slow compared to the batch update (0.178525). Check your callbacks.\n",
      "W1112 16:01:43.601836 140599946725120 callbacks.py:241] Method (on_train_batch_end) is slow compared to the batch update (0.164675). Check your callbacks.\n",
      "W1112 16:01:43.814809 140599946725120 callbacks.py:241] Method (on_train_batch_end) is slow compared to the batch update (0.153239). Check your callbacks.\n",
      "W1112 16:01:44.021260 140599946725120 callbacks.py:241] Method (on_train_batch_end) is slow compared to the batch update (0.141804). Check your callbacks.\n"
     ]
    },
    {
     "data": {
      "application/vnd.jupyter.widget-view+json": {
       "model_id": "",
       "version_major": 2,
       "version_minor": 0
      },
      "text/plain": [
       "HBox(children=(IntProgress(value=0, description='Epoch 6', max=5, style=ProgressStyle(description_width='initi…"
      ]
     },
     "metadata": {},
     "output_type": "display_data"
    },
    {
     "name": "stderr",
     "output_type": "stream",
     "text": [
      "W1112 16:01:47.453667 140599946725120 callbacks.py:241] Method (on_train_batch_end) is slow compared to the batch update (0.202170). Check your callbacks.\n",
      "W1112 16:01:47.707277 140599946725120 callbacks.py:241] Method (on_train_batch_end) is slow compared to the batch update (0.189343). Check your callbacks.\n",
      "W1112 16:01:47.935419 140599946725120 callbacks.py:241] Method (on_train_batch_end) is slow compared to the batch update (0.176517). Check your callbacks.\n",
      "W1112 16:01:48.161219 140599946725120 callbacks.py:241] Method (on_train_batch_end) is slow compared to the batch update (0.165951). Check your callbacks.\n",
      "W1112 16:01:48.381062 140599946725120 callbacks.py:241] Method (on_train_batch_end) is slow compared to the batch update (0.155386). Check your callbacks.\n"
     ]
    },
    {
     "data": {
      "application/vnd.jupyter.widget-view+json": {
       "model_id": "",
       "version_major": 2,
       "version_minor": 0
      },
      "text/plain": [
       "HBox(children=(IntProgress(value=0, description='Epoch 7', max=5, style=ProgressStyle(description_width='initi…"
      ]
     },
     "metadata": {},
     "output_type": "display_data"
    },
    {
     "name": "stderr",
     "output_type": "stream",
     "text": [
      "W1112 16:01:51.911108 140599946725120 callbacks.py:241] Method (on_train_batch_end) is slow compared to the batch update (0.197746). Check your callbacks.\n",
      "W1112 16:01:52.204931 140599946725120 callbacks.py:241] Method (on_train_batch_end) is slow compared to the batch update (0.204907). Check your callbacks.\n",
      "W1112 16:01:52.429196 140599946725120 callbacks.py:241] Method (on_train_batch_end) is slow compared to the batch update (0.197746). Check your callbacks.\n",
      "W1112 16:01:52.641567 140599946725120 callbacks.py:241] Method (on_train_batch_end) is slow compared to the batch update (0.167871). Check your callbacks.\n",
      "W1112 16:01:52.848496 140599946725120 callbacks.py:241] Method (on_train_batch_end) is slow compared to the batch update (0.137997). Check your callbacks.\n"
     ]
    },
    {
     "data": {
      "application/vnd.jupyter.widget-view+json": {
       "model_id": "",
       "version_major": 2,
       "version_minor": 0
      },
      "text/plain": [
       "HBox(children=(IntProgress(value=0, description='Epoch 8', max=5, style=ProgressStyle(description_width='initi…"
      ]
     },
     "metadata": {},
     "output_type": "display_data"
    },
    {
     "name": "stderr",
     "output_type": "stream",
     "text": [
      "W1112 16:01:56.331531 140599946725120 callbacks.py:241] Method (on_train_batch_end) is slow compared to the batch update (0.203851). Check your callbacks.\n",
      "W1112 16:01:56.584855 140599946725120 callbacks.py:241] Method (on_train_batch_end) is slow compared to the batch update (0.187215). Check your callbacks.\n",
      "W1112 16:01:56.796975 140599946725120 callbacks.py:241] Method (on_train_batch_end) is slow compared to the batch update (0.170580). Check your callbacks.\n",
      "W1112 16:01:57.007047 140599946725120 callbacks.py:241] Method (on_train_batch_end) is slow compared to the batch update (0.155760). Check your callbacks.\n",
      "W1112 16:01:57.225702 140599946725120 callbacks.py:241] Method (on_train_batch_end) is slow compared to the batch update (0.146119). Check your callbacks.\n"
     ]
    },
    {
     "data": {
      "application/vnd.jupyter.widget-view+json": {
       "model_id": "",
       "version_major": 2,
       "version_minor": 0
      },
      "text/plain": [
       "HBox(children=(IntProgress(value=0, description='Epoch 9', max=5, style=ProgressStyle(description_width='initi…"
      ]
     },
     "metadata": {},
     "output_type": "display_data"
    },
    {
     "name": "stderr",
     "output_type": "stream",
     "text": [
      "W1112 16:02:00.554909 140599946725120 callbacks.py:241] Method (on_train_batch_end) is slow compared to the batch update (0.168361). Check your callbacks.\n",
      "W1112 16:02:00.769980 140599946725120 callbacks.py:241] Method (on_train_batch_end) is slow compared to the batch update (0.155672). Check your callbacks.\n",
      "W1112 16:02:01.039528 140599946725120 callbacks.py:241] Method (on_train_batch_end) is slow compared to the batch update (0.168361). Check your callbacks.\n",
      "W1112 16:02:01.262384 140599946725120 callbacks.py:241] Method (on_train_batch_end) is slow compared to the batch update (0.159929). Check your callbacks.\n",
      "W1112 16:02:01.486136 140599946725120 callbacks.py:241] Method (on_train_batch_end) is slow compared to the batch update (0.151497). Check your callbacks.\n"
     ]
    },
    {
     "name": "stdout",
     "output_type": "stream",
     "text": [
      "\n",
      "CPU times: user 17.5 s, sys: 28.2 s, total: 45.7 s\n",
      "Wall time: 51 s\n"
     ]
    },
    {
     "data": {
      "text/plain": [
       "<tensorflow.python.keras.callbacks.History at 0x7fdeac04c6a0>"
      ]
     },
     "execution_count": 9,
     "metadata": {},
     "output_type": "execute_result"
    }
   ],
   "source": [
    "%%time\n",
    "model.fit_generator(\n",
    "    im_gen_train, \n",
    "#     steps_per_epoch=int((1-validation_split) * n_samples_train / batch_size), \n",
    "    steps_per_epoch=5, \n",
    "    epochs=n_epochs,\n",
    "    validation_data=im_gen_val,\n",
    "#     validation_steps=int(validation_split * n_samples_train / batch_size),\n",
    "    validation_steps=1,\n",
    "    verbose=0,\n",
    "    callbacks=[tqdm_cb, tboard_cback, chkpt_cback, tboard_image_cback, norm_cback],\n",
    "    max_queue_size=100,\n",
    "    use_multiprocessing=True,\n",
    "    workers=35,\n",
    "    shuffle=False,\n",
    ")"
   ]
  },
  {
   "cell_type": "code",
   "execution_count": 10,
   "metadata": {
    "scrolled": true
   },
   "outputs": [],
   "source": [
    "# %%time\n",
    "# # overfitting trials\n",
    "# data = im_gen_train[0]\n",
    "# val_data = im_gen_val[0]\n",
    "# model.fit(\n",
    "#     x=data[0], \n",
    "#     y=data[1], \n",
    "# #     validation_data=val_data, \n",
    "#     batch_size=data[0].shape[0], \n",
    "#     callbacks=[tqdm_cb, tboard_cback, tboard_image_cback, norm_cback],\n",
    "#     epochs=200, \n",
    "#     verbose=2, \n",
    "#     shuffle=False,\n",
    "# )\n",
    "# print('Original metrics')\n",
    "# print(psnr(*data))\n",
    "# print(ssim(*data))"
   ]
  },
  {
   "cell_type": "code",
   "execution_count": null,
   "metadata": {},
   "outputs": [],
   "source": []
  }
 ],
 "metadata": {
  "kernelspec": {
   "display_name": "Python 3",
   "language": "python",
   "name": "python3"
  },
  "language_info": {
   "codemirror_mode": {
    "name": "ipython",
    "version": 3
   },
   "file_extension": ".py",
   "mimetype": "text/x-python",
   "name": "python",
   "nbconvert_exporter": "python",
   "pygments_lexer": "ipython3",
   "version": "3.6.8"
  },
  "notify_time": "30"
 },
 "nbformat": 4,
 "nbformat_minor": 2
}
