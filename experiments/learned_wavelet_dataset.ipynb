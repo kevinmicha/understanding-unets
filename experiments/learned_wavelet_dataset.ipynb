{
 "cells": [
  {
   "cell_type": "code",
   "execution_count": 1,
   "metadata": {},
   "outputs": [
    {
     "name": "stdout",
     "output_type": "stream",
     "text": [
      "/volatile/home/Zaccharie/workspace/understanding-unets\n"
     ]
    }
   ],
   "source": [
    "%cd .."
   ]
  },
  {
   "cell_type": "code",
   "execution_count": 2,
   "metadata": {},
   "outputs": [],
   "source": [
    "# # this just to make sure we are using only on CPU\n",
    "# import os\n",
    "# os.environ[\"CUDA_VISIBLE_DEVICES\"]=\"-1\""
   ]
  },
  {
   "cell_type": "code",
   "execution_count": 3,
   "metadata": {
    "scrolled": true
   },
   "outputs": [
    {
     "name": "stderr",
     "output_type": "stream",
     "text": [
      "Using TensorFlow backend.\n"
     ]
    }
   ],
   "source": [
    "%load_ext autoreload\n",
    "%autoreload 2\n",
    "import os.path as op\n",
    "import time\n",
    "\n",
    "from tensorflow.keras.callbacks import TensorBoard, ModelCheckpoint, LearningRateScheduler\n",
    "from keras_tqdm import TQDMNotebookCallback\n",
    "import tensorflow as tf\n",
    "# from tensorflow_addons.callbacks import TQDMProgressBar\n",
    "from tqdm import tqdm_notebook\n",
    "\n",
    "from learning_wavelets.datasets import im_dataset_div2k\n",
    "from learning_wavelets.evaluate import psnr, ssim\n",
    "from learning_wavelets.keras_utils.filters_cback import NormalizeWeights\n",
    "from learning_wavelets.keras_utils.image_tboard_cback import TensorBoardImage\n",
    "from learning_wavelets.keras_utils.normalisation import NormalisationAdjustment\n",
    "from learning_wavelets.keras_utils.thresholding import SoftThresholding\n",
    "from learning_wavelets.learned_wavelet import learned_wavelet"
   ]
  },
  {
   "cell_type": "code",
   "execution_count": 4,
   "metadata": {},
   "outputs": [],
   "source": [
    "tf.random.set_seed(1)"
   ]
  },
  {
   "cell_type": "code",
   "execution_count": 5,
   "metadata": {},
   "outputs": [],
   "source": [
    "noise_std = 30\n",
    "batch_size = 8\n",
    "n_samples_train = 800\n",
    "im_ds_train = im_dataset_div2k(mode='training', batch_size=batch_size, patch_size=256, noise_std=30)\n",
    "im_ds_val = im_dataset_div2k(mode='validation', batch_size=1, patch_size=256, noise_std=30)"
   ]
  },
  {
   "cell_type": "code",
   "execution_count": 6,
   "metadata": {},
   "outputs": [
    {
     "name": "stdout",
     "output_type": "stream",
     "text": [
      "learned_wavelet_div2k_30_1574790444\n"
     ]
    }
   ],
   "source": [
    "n_coarse = 1\n",
    "thresh = 2*noise_std/255\n",
    "run_params = {\n",
    "    'n_scales': 5, \n",
    "    'n_details': 256, \n",
    "    'n_coarse': n_coarse, \n",
    "    'mixing_details': False,\n",
    "    'denoising_activation': SoftThresholding(thresh),\n",
    "    'wav_pooling': True,\n",
    "    'wav_use_bias': False,\n",
    "    'wav_normed': True,\n",
    "    'filters_normed': ['details', 'coarse'],\n",
    "}\n",
    "n_epochs = 250\n",
    "run_id = f'learned_wavelet_div2k_{noise_std}_{int(time.time())}'\n",
    "chkpt_path = f'checkpoints/{run_id}' + '-{epoch:02d}.hdf5'\n",
    "print(run_id)"
   ]
  },
  {
   "cell_type": "code",
   "execution_count": 7,
   "metadata": {},
   "outputs": [],
   "source": [
    "def l_rate_schedule(epoch):\n",
    "    return max(1e-3 / 2**(epoch//25), 1e-5)\n",
    "lrate_cback = LearningRateScheduler(l_rate_schedule)"
   ]
  },
  {
   "cell_type": "code",
   "execution_count": 8,
   "metadata": {},
   "outputs": [
    {
     "name": "stderr",
     "output_type": "stream",
     "text": [
      "WARNING: Logging before flag parsing goes to stderr.\n",
      "W1126 18:47:24.810588 139855565879040 callbacks.py:863] `period` argument is deprecated. Please use `save_freq` to specify the frequency in number of samples seen.\n"
     ]
    }
   ],
   "source": [
    "chkpt_cback = ModelCheckpoint(chkpt_path, period=n_epochs, save_weights_only=False)\n",
    "log_dir = op.join('logs', run_id)\n",
    "tboard_cback = TensorBoard(\n",
    "    log_dir=log_dir, \n",
    "    histogram_freq=0, \n",
    "    write_graph=True, \n",
    "    write_images=False, \n",
    "    profile_batch=0,\n",
    ")\n",
    "tqdm_cb = TQDMNotebookCallback(metric_format=\"{name}: {value:e}\")\n",
    "tqdm_cb.on_train_batch_begin = tqdm_cb.on_batch_begin\n",
    "tqdm_cb.on_train_batch_end = tqdm_cb.on_batch_end\n",
    "# tqdm_cb = TQDMProgressBar()\n",
    "val_noisy, val_gt = next(iter(im_ds_val))\n",
    "tboard_image_cback = TensorBoardImage(\n",
    "    log_dir=log_dir + '/images',\n",
    "    image=val_gt[0:1],\n",
    "    noisy_image=val_noisy[0:1],\n",
    ")\n",
    "norm_cback = NormalisationAdjustment(momentum=0.99, n_pooling=5)\n",
    "norm_cback.on_train_batch_end = norm_cback.on_batch_end"
   ]
  },
  {
   "cell_type": "code",
   "execution_count": 9,
   "metadata": {
    "scrolled": true
   },
   "outputs": [
    {
     "name": "stdout",
     "output_type": "stream",
     "text": [
      "Model: \"model\"\n",
      "______________________________________________________________________________________________________________________________________________________\n",
      "Layer (type)                                     Output Shape                     Param #           Connected to                                      \n",
      "======================================================================================================================================================\n",
      "input_1 (InputLayer)                             [(None, None, None, 1)]          0                                                                   \n",
      "______________________________________________________________________________________________________________________________________________________\n",
      "low_pass_filtering_1 (Conv2D)                    (None, None, None, 1)            25                input_1[0][0]                                     \n",
      "______________________________________________________________________________________________________________________________________________________\n",
      "average_pooling2d (AveragePooling2D)             (None, None, None, 1)            0                 low_pass_filtering_1[0][0]                        \n",
      "______________________________________________________________________________________________________________________________________________________\n",
      "low_pass_filtering_2 (Conv2D)                    (None, None, None, 1)            25                average_pooling2d[0][0]                           \n",
      "______________________________________________________________________________________________________________________________________________________\n",
      "average_pooling2d_1 (AveragePooling2D)           (None, None, None, 1)            0                 low_pass_filtering_2[0][0]                        \n",
      "______________________________________________________________________________________________________________________________________________________\n",
      "low_pass_filtering_3 (Conv2D)                    (None, None, None, 1)            25                average_pooling2d_1[0][0]                         \n",
      "______________________________________________________________________________________________________________________________________________________\n",
      "average_pooling2d_2 (AveragePooling2D)           (None, None, None, 1)            0                 low_pass_filtering_3[0][0]                        \n",
      "______________________________________________________________________________________________________________________________________________________\n",
      "low_pass_filtering_4 (Conv2D)                    (None, None, None, 1)            25                average_pooling2d_2[0][0]                         \n",
      "______________________________________________________________________________________________________________________________________________________\n",
      "average_pooling2d_3 (AveragePooling2D)           (None, None, None, 1)            0                 low_pass_filtering_4[0][0]                        \n",
      "______________________________________________________________________________________________________________________________________________________\n",
      "high_pass_filtering_5 (Conv2D)                   (None, None, None, 1)            25                average_pooling2d_3[0][0]                         \n",
      "______________________________________________________________________________________________________________________________________________________\n",
      "wav_normalisation_5 (Lambda)                     (None, None, None, 1)            0                 high_pass_filtering_5[0][0]                       \n",
      "______________________________________________________________________________________________________________________________________________________\n",
      "details_tiling_5 (Conv2D)                        (None, None, None, 256)          6400              wav_normalisation_5[0][0]                         \n",
      "______________________________________________________________________________________________________________________________________________________\n",
      "normalisation_4 (Normalisation)                  (None, None, None, 256)          256               details_tiling_5[0][0]                            \n",
      "                                                                                                    activation_4[0][0]                                \n",
      "______________________________________________________________________________________________________________________________________________________\n",
      "activation_4 (Activation)                        (None, None, None, 256)          0                 normalisation_4[0][0]                             \n",
      "______________________________________________________________________________________________________________________________________________________\n",
      "high_pass_filtering_4 (Conv2D)                   (None, None, None, 1)            25                average_pooling2d_2[0][0]                         \n",
      "______________________________________________________________________________________________________________________________________________________\n",
      "wav_normalisation_4 (Lambda)                     (None, None, None, 1)            0                 high_pass_filtering_4[0][0]                       \n",
      "______________________________________________________________________________________________________________________________________________________\n",
      "low_pass_filtering_5 (Conv2D)                    (None, None, None, 1)            25                average_pooling2d_3[0][0]                         \n",
      "______________________________________________________________________________________________________________________________________________________\n",
      "wav_denormalisation_5 (Lambda)                   (None, None, None, 256)          0                 normalisation_4[1][0]                             \n",
      "______________________________________________________________________________________________________________________________________________________\n",
      "details_tiling_4 (Conv2D)                        (None, None, None, 256)          6400              wav_normalisation_4[0][0]                         \n",
      "______________________________________________________________________________________________________________________________________________________\n",
      "concatenate (Concatenate)                        (None, None, None, 257)          0                 low_pass_filtering_5[0][0]                        \n",
      "                                                                                                    wav_denormalisation_5[0][0]                       \n",
      "______________________________________________________________________________________________________________________________________________________\n",
      "normalisation_3 (Normalisation)                  (None, None, None, 256)          256               details_tiling_4[0][0]                            \n",
      "                                                                                                    activation_3[0][0]                                \n",
      "______________________________________________________________________________________________________________________________________________________\n",
      "groupping_conv_1 (Conv2D)                        (None, None, None, 1)            6425              concatenate[0][0]                                 \n",
      "______________________________________________________________________________________________________________________________________________________\n",
      "activation_3 (Activation)                        (None, None, None, 256)          0                 normalisation_3[0][0]                             \n",
      "______________________________________________________________________________________________________________________________________________________\n",
      "high_pass_filtering_3 (Conv2D)                   (None, None, None, 1)            25                average_pooling2d_1[0][0]                         \n",
      "______________________________________________________________________________________________________________________________________________________\n",
      "activation_5 (Activation)                        (None, None, None, 1)            0                 groupping_conv_1[0][0]                            \n",
      "______________________________________________________________________________________________________________________________________________________\n",
      "wav_normalisation_3 (Lambda)                     (None, None, None, 1)            0                 high_pass_filtering_3[0][0]                       \n",
      "______________________________________________________________________________________________________________________________________________________\n",
      "up_sampling2d (UpSampling2D)                     (None, None, None, 1)            0                 activation_5[0][0]                                \n",
      "______________________________________________________________________________________________________________________________________________________\n",
      "wav_denormalisation_4 (Lambda)                   (None, None, None, 256)          0                 normalisation_3[1][0]                             \n",
      "______________________________________________________________________________________________________________________________________________________\n",
      "details_tiling_3 (Conv2D)                        (None, None, None, 256)          6400              wav_normalisation_3[0][0]                         \n",
      "______________________________________________________________________________________________________________________________________________________\n",
      "concatenate_1 (Concatenate)                      (None, None, None, 257)          0                 up_sampling2d[0][0]                               \n",
      "                                                                                                    wav_denormalisation_4[0][0]                       \n",
      "______________________________________________________________________________________________________________________________________________________\n",
      "normalisation_2 (Normalisation)                  (None, None, None, 256)          256               details_tiling_3[0][0]                            \n",
      "                                                                                                    activation_2[0][0]                                \n",
      "______________________________________________________________________________________________________________________________________________________\n",
      "groupping_conv_2 (Conv2D)                        (None, None, None, 1)            6425              concatenate_1[0][0]                               \n",
      "______________________________________________________________________________________________________________________________________________________\n",
      "activation_2 (Activation)                        (None, None, None, 256)          0                 normalisation_2[0][0]                             \n",
      "______________________________________________________________________________________________________________________________________________________\n",
      "high_pass_filtering_2 (Conv2D)                   (None, None, None, 1)            25                average_pooling2d[0][0]                           \n",
      "______________________________________________________________________________________________________________________________________________________\n",
      "activation_6 (Activation)                        (None, None, None, 1)            0                 groupping_conv_2[0][0]                            \n",
      "______________________________________________________________________________________________________________________________________________________\n",
      "wav_normalisation_2 (Lambda)                     (None, None, None, 1)            0                 high_pass_filtering_2[0][0]                       \n",
      "______________________________________________________________________________________________________________________________________________________\n",
      "up_sampling2d_1 (UpSampling2D)                   (None, None, None, 1)            0                 activation_6[0][0]                                \n",
      "______________________________________________________________________________________________________________________________________________________\n",
      "wav_denormalisation_3 (Lambda)                   (None, None, None, 256)          0                 normalisation_2[1][0]                             \n",
      "______________________________________________________________________________________________________________________________________________________\n",
      "details_tiling_2 (Conv2D)                        (None, None, None, 256)          6400              wav_normalisation_2[0][0]                         \n",
      "______________________________________________________________________________________________________________________________________________________\n",
      "concatenate_2 (Concatenate)                      (None, None, None, 257)          0                 up_sampling2d_1[0][0]                             \n",
      "                                                                                                    wav_denormalisation_3[0][0]                       \n",
      "______________________________________________________________________________________________________________________________________________________\n",
      "normalisation_1 (Normalisation)                  (None, None, None, 256)          256               details_tiling_2[0][0]                            \n",
      "                                                                                                    activation_1[0][0]                                \n",
      "______________________________________________________________________________________________________________________________________________________\n",
      "groupping_conv_3 (Conv2D)                        (None, None, None, 1)            6425              concatenate_2[0][0]                               \n",
      "______________________________________________________________________________________________________________________________________________________\n",
      "activation_1 (Activation)                        (None, None, None, 256)          0                 normalisation_1[0][0]                             \n",
      "______________________________________________________________________________________________________________________________________________________\n",
      "high_pass_filtering_1 (Conv2D)                   (None, None, None, 1)            25                input_1[0][0]                                     \n",
      "______________________________________________________________________________________________________________________________________________________\n",
      "activation_7 (Activation)                        (None, None, None, 1)            0                 groupping_conv_3[0][0]                            \n",
      "______________________________________________________________________________________________________________________________________________________\n",
      "wav_normalisation_1 (Lambda)                     (None, None, None, 1)            0                 high_pass_filtering_1[0][0]                       \n",
      "______________________________________________________________________________________________________________________________________________________\n",
      "up_sampling2d_2 (UpSampling2D)                   (None, None, None, 1)            0                 activation_7[0][0]                                \n",
      "______________________________________________________________________________________________________________________________________________________\n",
      "wav_denormalisation_2 (Lambda)                   (None, None, None, 256)          0                 normalisation_1[1][0]                             \n",
      "______________________________________________________________________________________________________________________________________________________\n",
      "details_tiling_1 (Conv2D)                        (None, None, None, 256)          6400              wav_normalisation_1[0][0]                         \n",
      "______________________________________________________________________________________________________________________________________________________\n",
      "concatenate_3 (Concatenate)                      (None, None, None, 257)          0                 up_sampling2d_2[0][0]                             \n",
      "                                                                                                    wav_denormalisation_2[0][0]                       \n",
      "______________________________________________________________________________________________________________________________________________________\n",
      "normalisation (Normalisation)                    (None, None, None, 256)          256               details_tiling_1[0][0]                            \n",
      "                                                                                                    activation[0][0]                                  \n",
      "______________________________________________________________________________________________________________________________________________________\n",
      "groupping_conv_4 (Conv2D)                        (None, None, None, 1)            6425              concatenate_3[0][0]                               \n",
      "______________________________________________________________________________________________________________________________________________________\n",
      "activation (Activation)                          (None, None, None, 256)          0                 normalisation[0][0]                               \n",
      "______________________________________________________________________________________________________________________________________________________\n",
      "activation_8 (Activation)                        (None, None, None, 1)            0                 groupping_conv_4[0][0]                            \n",
      "______________________________________________________________________________________________________________________________________________________\n",
      "up_sampling2d_3 (UpSampling2D)                   (None, None, None, 1)            0                 activation_8[0][0]                                \n",
      "______________________________________________________________________________________________________________________________________________________\n",
      "wav_denormalisation_1 (Lambda)                   (None, None, None, 256)          0                 normalisation[1][0]                               \n",
      "______________________________________________________________________________________________________________________________________________________\n",
      "concatenate_4 (Concatenate)                      (None, None, None, 257)          0                 up_sampling2d_3[0][0]                             \n",
      "                                                                                                    wav_denormalisation_1[0][0]                       \n",
      "______________________________________________________________________________________________________________________________________________________\n",
      "groupping_conv_5 (Conv2D)                        (None, None, None, 1)            6425              concatenate_4[0][0]                               \n",
      "______________________________________________________________________________________________________________________________________________________\n",
      "activation_9 (Activation)                        (None, None, None, 1)            0                 groupping_conv_5[0][0]                            \n",
      "======================================================================================================================================================\n",
      "Total params: 65,655\n",
      "Trainable params: 64,125\n",
      "Non-trainable params: 1,530\n",
      "______________________________________________________________________________________________________________________________________________________\n",
      "None\n"
     ]
    }
   ],
   "source": [
    "n_channels = 1\n",
    "model = learned_wavelet(input_size=(None, None, n_channels), lr=1e-3, **run_params)\n",
    "print(model.summary(line_length=150))"
   ]
  },
  {
   "cell_type": "code",
   "execution_count": null,
   "metadata": {
    "scrolled": true
   },
   "outputs": [
    {
     "data": {
      "application/vnd.jupyter.widget-view+json": {
       "model_id": "6adad479c4fb41fc971f2974f2c6c5d2",
       "version_major": 2,
       "version_minor": 0
      },
      "text/plain": [
       "HBox(children=(IntProgress(value=0, description='Training', max=250, style=ProgressStyle(description_width='in…"
      ]
     },
     "metadata": {},
     "output_type": "display_data"
    },
    {
     "data": {
      "application/vnd.jupyter.widget-view+json": {
       "model_id": "",
       "version_major": 2,
       "version_minor": 0
      },
      "text/plain": [
       "HBox(children=(IntProgress(value=0, description='Epoch 0', style=ProgressStyle(description_width='initial')), …"
      ]
     },
     "metadata": {},
     "output_type": "display_data"
    },
    {
     "data": {
      "application/vnd.jupyter.widget-view+json": {
       "model_id": "",
       "version_major": 2,
       "version_minor": 0
      },
      "text/plain": [
       "HBox(children=(IntProgress(value=0, description='Epoch 1', style=ProgressStyle(description_width='initial')), …"
      ]
     },
     "metadata": {},
     "output_type": "display_data"
    },
    {
     "data": {
      "application/vnd.jupyter.widget-view+json": {
       "model_id": "",
       "version_major": 2,
       "version_minor": 0
      },
      "text/plain": [
       "HBox(children=(IntProgress(value=0, description='Epoch 2', style=ProgressStyle(description_width='initial')), …"
      ]
     },
     "metadata": {},
     "output_type": "display_data"
    },
    {
     "name": "stderr",
     "output_type": "stream",
     "text": [
      "W1126 18:49:00.855328 139855565879040 callbacks.py:244] Method (on_train_batch_end) is slow compared to the batch update (0.355224). Check your callbacks.\n",
      "W1126 18:49:01.298155 139855565879040 callbacks.py:244] Method (on_train_batch_end) is slow compared to the batch update (0.261720). Check your callbacks.\n"
     ]
    },
    {
     "data": {
      "application/vnd.jupyter.widget-view+json": {
       "model_id": "",
       "version_major": 2,
       "version_minor": 0
      },
      "text/plain": [
       "HBox(children=(IntProgress(value=0, description='Epoch 3', style=ProgressStyle(description_width='initial')), …"
      ]
     },
     "metadata": {},
     "output_type": "display_data"
    },
    {
     "data": {
      "application/vnd.jupyter.widget-view+json": {
       "model_id": "",
       "version_major": 2,
       "version_minor": 0
      },
      "text/plain": [
       "HBox(children=(IntProgress(value=0, description='Epoch 4', style=ProgressStyle(description_width='initial')), …"
      ]
     },
     "metadata": {},
     "output_type": "display_data"
    },
    {
     "name": "stderr",
     "output_type": "stream",
     "text": [
      "W1126 18:50:27.874625 139855565879040 callbacks.py:244] Method (on_train_batch_end) is slow compared to the batch update (0.294275). Check your callbacks.\n"
     ]
    },
    {
     "data": {
      "application/vnd.jupyter.widget-view+json": {
       "model_id": "",
       "version_major": 2,
       "version_minor": 0
      },
      "text/plain": [
       "HBox(children=(IntProgress(value=0, description='Epoch 5', style=ProgressStyle(description_width='initial')), …"
      ]
     },
     "metadata": {},
     "output_type": "display_data"
    },
    {
     "name": "stderr",
     "output_type": "stream",
     "text": [
      "W1126 18:51:11.220229 139855565879040 callbacks.py:244] Method (on_train_batch_end) is slow compared to the batch update (0.312131). Check your callbacks.\n"
     ]
    },
    {
     "data": {
      "application/vnd.jupyter.widget-view+json": {
       "model_id": "",
       "version_major": 2,
       "version_minor": 0
      },
      "text/plain": [
       "HBox(children=(IntProgress(value=0, description='Epoch 6', style=ProgressStyle(description_width='initial')), …"
      ]
     },
     "metadata": {},
     "output_type": "display_data"
    },
    {
     "data": {
      "application/vnd.jupyter.widget-view+json": {
       "model_id": "",
       "version_major": 2,
       "version_minor": 0
      },
      "text/plain": [
       "HBox(children=(IntProgress(value=0, description='Epoch 7', style=ProgressStyle(description_width='initial')), …"
      ]
     },
     "metadata": {},
     "output_type": "display_data"
    },
    {
     "data": {
      "application/vnd.jupyter.widget-view+json": {
       "model_id": "7a8de5d973994be3bbb7bd4a2b809b98",
       "version_major": 2,
       "version_minor": 0
      },
      "text/plain": [
       "HBox(children=(IntProgress(value=0, description='Epoch 8', style=ProgressStyle(description_width='initial')), …"
      ]
     },
     "metadata": {},
     "output_type": "display_data"
    }
   ],
   "source": [
    "%%time\n",
    "model.fit(\n",
    "    im_ds_train, \n",
    "    steps_per_epoch=int(n_samples_train / batch_size), \n",
    "#     steps_per_epoch=5, \n",
    "    epochs=n_epochs,\n",
    "    validation_data=im_ds_val,\n",
    "#     validation_steps=int(validation_split * n_samples_train / batch_size),\n",
    "    validation_steps=1,\n",
    "    verbose=0,\n",
    "#     callbacks=[tqdm_cb, norm_cback],\n",
    "    callbacks=[tqdm_cb, tboard_cback, chkpt_cback, tboard_image_cback, norm_cback, lrate_cback],\n",
    "    shuffle=False,\n",
    ")"
   ]
  },
  {
   "cell_type": "code",
   "execution_count": null,
   "metadata": {
    "scrolled": true
   },
   "outputs": [],
   "source": [
    "# %%time\n",
    "# # overfitting trials\n",
    "# data = im_gen_train[0]\n",
    "# val_data = im_gen_val[0]\n",
    "# model.fit(\n",
    "#     x=data[0], \n",
    "#     y=data[1], \n",
    "# #     validation_data=val_data, \n",
    "#     batch_size=data[0].shape[0], \n",
    "#     callbacks=[tqdm_cb, tboard_cback, tboard_image_cback, norm_cback],\n",
    "#     epochs=200, \n",
    "#     verbose=2, \n",
    "#     shuffle=False,\n",
    "# )\n",
    "# print('Original metrics')\n",
    "# print(psnr(*data))\n",
    "# print(ssim(*data))"
   ]
  },
  {
   "cell_type": "code",
   "execution_count": null,
   "metadata": {
    "scrolled": false
   },
   "outputs": [],
   "source": [
    "%matplotlib nbagg\n",
    "import matplotlib.pyplot as plt\n",
    "plt.figure()\n",
    "plt.plot(norm_cback.stds_lists[3])\n",
    "plt.ylim([0.3, 1.3])"
   ]
  }
 ],
 "metadata": {
  "kernelspec": {
   "display_name": "Python 3",
   "language": "python",
   "name": "python3"
  },
  "language_info": {
   "codemirror_mode": {
    "name": "ipython",
    "version": 3
   },
   "file_extension": ".py",
   "mimetype": "text/x-python",
   "name": "python",
   "nbconvert_exporter": "python",
   "pygments_lexer": "ipython3",
   "version": "3.6.8"
  },
  "notify_time": "30"
 },
 "nbformat": 4,
 "nbformat_minor": 2
}
