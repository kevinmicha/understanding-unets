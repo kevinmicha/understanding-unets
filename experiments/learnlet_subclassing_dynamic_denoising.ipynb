{
 "cells": [
  {
   "cell_type": "code",
   "execution_count": 1,
   "metadata": {},
   "outputs": [
    {
     "name": "stdout",
     "output_type": "stream",
     "text": [
      "/volatile/home/Zaccharie/workspace/understanding-unets\n"
     ]
    }
   ],
   "source": [
    "%cd .."
   ]
  },
  {
   "cell_type": "code",
   "execution_count": 2,
   "metadata": {},
   "outputs": [],
   "source": [
    "# # this just to make sure we are using only on CPU\n",
    "# import os\n",
    "# os.environ[\"CUDA_VISIBLE_DEVICES\"]=\"-1\""
   ]
  },
  {
   "cell_type": "code",
   "execution_count": 3,
   "metadata": {},
   "outputs": [
    {
     "name": "stderr",
     "output_type": "stream",
     "text": [
      "Using TensorFlow backend.\n"
     ]
    }
   ],
   "source": [
    "%load_ext autoreload\n",
    "%autoreload 2\n",
    "import os.path as op\n",
    "import time\n",
    "\n",
    "from tensorflow.keras.callbacks import TensorBoard, ModelCheckpoint, LearningRateScheduler\n",
    "from keras_tqdm import TQDMNotebookCallback\n",
    "import tensorflow as tf\n",
    "from tensorflow.keras.optimizers import Adam\n",
    "from tqdm import tqdm_notebook\n",
    "\n",
    "from learning_wavelets.datasets import im_dataset_div2k, im_dataset_bsd500\n",
    "from learning_wavelets.evaluate import keras_psnr, keras_ssim, center_keras_psnr\n",
    "from learning_wavelets.keras_utils.filters_cback import NormalizeWeights\n",
    "from learning_wavelets.keras_utils.image_tboard_cback import TensorBoardImage\n",
    "from learning_wavelets.keras_utils.normalisation import NormalisationAdjustment\n",
    "from learning_wavelets.keras_utils.thresholding import DynamicSoftThresholding, DynamicHardThresholding\n",
    "from learning_wavelets.learnlet_model import Learnlet"
   ]
  },
  {
   "cell_type": "code",
   "execution_count": 4,
   "metadata": {},
   "outputs": [],
   "source": [
    "tf.random.set_seed(1)"
   ]
  },
  {
   "cell_type": "code",
   "execution_count": 5,
   "metadata": {},
   "outputs": [],
   "source": [
    "noise_std_train = (0, 55)\n",
    "noise_std_val = 30\n",
    "batch_size = 8\n",
    "source = 'bsd500'\n",
    "if source == 'bsd500':\n",
    "    data_func = im_dataset_bsd500\n",
    "    n_samples_train = 400\n",
    "else:\n",
    "    data_func = im_dataset_div2k\n",
    "    n_samples_train = 800\n",
    "im_ds_train = data_func(\n",
    "    mode='training', \n",
    "    batch_size=batch_size, \n",
    "    patch_size=256, \n",
    "    noise_std=noise_std_train, \n",
    "    return_noise_level=True,\n",
    ")\n",
    "im_ds_val = data_func(\n",
    "    mode='validation', \n",
    "    batch_size=batch_size, \n",
    "    patch_size=256, \n",
    "    noise_std=noise_std_val, \n",
    "    return_noise_level=True,\n",
    ")"
   ]
  },
  {
   "cell_type": "code",
   "execution_count": 6,
   "metadata": {},
   "outputs": [
    {
     "name": "stdout",
     "output_type": "stream",
     "text": [
      "learnlet_subclassing_st_bsd500_0_55_1581766374\n"
     ]
    }
   ],
   "source": [
    "# alpha = 2\n",
    "run_params = {\n",
    "    'denoising_activation': 'dynamic_soft_thresholding',\n",
    "    'learnlet_analysis_kwargs':{\n",
    "        'n_tiling': 64, \n",
    "        'mixing_details': False,    \n",
    "        'skip_connection': True,\n",
    "        'kernel_size': 11,\n",
    "    },\n",
    "    'learnlet_synthesis_kwargs': {\n",
    "        'res': True,\n",
    "        'kernel_size': 13,\n",
    "    },\n",
    "    'threshold_kwargs':{\n",
    "        'noise_std_norm': True,\n",
    "    },\n",
    "#     'wav_type': 'bior',\n",
    "    'n_scales': 5,\n",
    "    'n_reweights_learn': 3,\n",
    "#     'exact_reconstruction_weight': 0,\n",
    "    'clip': False,\n",
    "}\n",
    "n_epochs = 500\n",
    "run_id = f'learnlet_subclassing_st_{source}_{noise_std_train[0]}_{noise_std_train[1]}_{int(time.time())}'\n",
    "chkpt_path = f'checkpoints/{run_id}' + '-{epoch:02d}.hdf5'\n",
    "print(run_id)"
   ]
  },
  {
   "cell_type": "code",
   "execution_count": 7,
   "metadata": {},
   "outputs": [],
   "source": [
    "def l_rate_schedule(epoch):\n",
    "    return max(1e-3 / 2**(epoch//25), 1e-5)\n",
    "lrate_cback = LearningRateScheduler(l_rate_schedule)"
   ]
  },
  {
   "cell_type": "code",
   "execution_count": 8,
   "metadata": {},
   "outputs": [
    {
     "name": "stdout",
     "output_type": "stream",
     "text": [
      "WARNING:tensorflow:`period` argument is deprecated. Please use `save_freq` to specify the frequency in number of samples seen.\n"
     ]
    }
   ],
   "source": [
    "chkpt_cback = ModelCheckpoint(chkpt_path, period=n_epochs, save_weights_only=False)\n",
    "log_dir = op.join('logs', run_id)\n",
    "tboard_cback = TensorBoard(\n",
    "    log_dir=log_dir, \n",
    "    histogram_freq=0, \n",
    "    write_graph=True, \n",
    "    write_images=False, \n",
    "    profile_batch=0,\n",
    ")\n",
    "tqdm_cb = TQDMNotebookCallback(metric_format=\"{name}: {value:e}\")\n",
    "tqdm_cb.on_train_batch_begin = tqdm_cb.on_batch_begin\n",
    "tqdm_cb.on_train_batch_end = tqdm_cb.on_batch_end\n",
    "# tqdm_cb = TQDMProgressBar()\n",
    "val_noisy, val_gt = next(iter(im_ds_val))\n",
    "tboard_image_cback = TensorBoardImage(\n",
    "    log_dir=log_dir + '/images',\n",
    "    image=val_gt[0:1],\n",
    "    noisy_image=val_noisy[0:1],\n",
    ")\n",
    "norm_cback = NormalisationAdjustment(momentum=0.99, n_pooling=5, dynamic_denoising=True)\n",
    "norm_cback.on_train_batch_end = norm_cback.on_batch_end"
   ]
  },
  {
   "cell_type": "code",
   "execution_count": 9,
   "metadata": {
    "scrolled": true
   },
   "outputs": [],
   "source": [
    "model = Learnlet(**run_params)\n",
    "model.compile(\n",
    "    optimizer=Adam(lr=1e-3),\n",
    "    loss='mse',\n",
    "    metrics=[keras_psnr, keras_ssim, center_keras_psnr],\n",
    ")\n",
    "# print(model.summary(line_length=114))"
   ]
  },
  {
   "cell_type": "code",
   "execution_count": null,
   "metadata": {
    "scrolled": false
   },
   "outputs": [
    {
     "data": {
      "application/vnd.jupyter.widget-view+json": {
       "model_id": "aca54a957f934027966951b8ccd3e9bb",
       "version_major": 2,
       "version_minor": 0
      },
      "text/plain": [
       "HBox(children=(FloatProgress(value=0.0, description='Training', max=500.0, style=ProgressStyle(description_wid…"
      ]
     },
     "metadata": {},
     "output_type": "display_data"
    },
    {
     "data": {
      "application/vnd.jupyter.widget-view+json": {
       "model_id": "",
       "version_major": 2,
       "version_minor": 0
      },
      "text/plain": [
       "HBox(children=(FloatProgress(value=0.0, description='Epoch 0', max=200.0, style=ProgressStyle(description_widt…"
      ]
     },
     "metadata": {},
     "output_type": "display_data"
    },
    {
     "data": {
      "application/vnd.jupyter.widget-view+json": {
       "model_id": "694987432c7c4d1ab90a600d54f1a4c8",
       "version_major": 2,
       "version_minor": 0
      },
      "text/plain": [
       "HBox(children=(FloatProgress(value=0.0, description='Epoch 1', max=200.0, style=ProgressStyle(description_widt…"
      ]
     },
     "metadata": {},
     "output_type": "display_data"
    }
   ],
   "source": [
    "%%time\n",
    "model.fit(\n",
    "    im_ds_train, \n",
    "    steps_per_epoch=200, \n",
    "#     steps_per_epoch=5, \n",
    "    epochs=n_epochs,\n",
    "    validation_data=im_ds_val,\n",
    "#     validation_steps=int(validation_split * n_samples_train / batch_size),\n",
    "    validation_steps=1,\n",
    "    verbose=0,\n",
    "    callbacks=[tqdm_cb, tboard_cback, chkpt_cback, norm_cback, lrate_cback],\n",
    "#     callbacks=[tqdm_cb, tboard_cback, chkpt_cback, tboard_image_cback, norm_cback, lrate_cback],\n",
    "    shuffle=False,\n",
    ")"
   ]
  },
  {
   "cell_type": "code",
   "execution_count": null,
   "metadata": {
    "scrolled": true
   },
   "outputs": [],
   "source": [
    "# %%time\n",
    "# # overfitting trials\n",
    "# data = next(iter(im_ds_train))\n",
    "# val_data = next(iter(im_ds_val))\n",
    "# model.fit(\n",
    "#     x=data[0], \n",
    "#     y=data[1], \n",
    "# #     validation_data=val_data, \n",
    "#     batch_size=1, \n",
    "# #     callbacks=[tqdm_cb, tboard_cback, tboard_image_cback, norm_cback, lrate_cback],\n",
    "#     callbacks=[tqdm_cb, tboard_cback, lrate_cback],\n",
    "#     epochs=n_epochs, \n",
    "#     verbose=2, \n",
    "#     shuffle=False,\n",
    "# )"
   ]
  },
  {
   "cell_type": "code",
   "execution_count": null,
   "metadata": {},
   "outputs": [],
   "source": [
    "dyn = [l for l in model.layers if 'dynamic' in l.name]"
   ]
  },
  {
   "cell_type": "code",
   "execution_count": null,
   "metadata": {},
   "outputs": [],
   "source": [
    "[l.alpha_thresh.numpy() for l in dyn]"
   ]
  },
  {
   "cell_type": "code",
   "execution_count": null,
   "metadata": {},
   "outputs": [],
   "source": [
    "[l.alpha_bias.numpy() for l in dyn]"
   ]
  },
  {
   "cell_type": "code",
   "execution_count": null,
   "metadata": {
    "cell_style": "split"
   },
   "outputs": [],
   "source": []
  }
 ],
 "metadata": {
  "kernelspec": {
   "display_name": "Python 3",
   "language": "python",
   "name": "python3"
  },
  "language_info": {
   "codemirror_mode": {
    "name": "ipython",
    "version": 3
   },
   "file_extension": ".py",
   "mimetype": "text/x-python",
   "name": "python",
   "nbconvert_exporter": "python",
   "pygments_lexer": "ipython3",
   "version": "3.6.8"
  },
  "notify_time": "30"
 },
 "nbformat": 4,
 "nbformat_minor": 2
}
