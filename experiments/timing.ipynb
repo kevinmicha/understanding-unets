{
 "cells": [
  {
   "cell_type": "code",
   "execution_count": 1,
   "metadata": {},
   "outputs": [
    {
     "name": "stdout",
     "output_type": "stream",
     "text": [
      "/volatile/home/Zaccharie/workspace/understanding-unets\n"
     ]
    }
   ],
   "source": [
    "%cd .."
   ]
  },
  {
   "cell_type": "code",
   "execution_count": 18,
   "metadata": {},
   "outputs": [],
   "source": [
    "%matplotlib inline\n",
    "import bm3d\n",
    "import matplotlib.pyplot as plt\n",
    "import numpy as np\n",
    "import tensorflow as tf\n",
    "\n",
    "from learning_wavelets.data.datasets import im_dataset_bsd68\n",
    "from learning_wavelets.image_utils import trim_padding\n",
    "from learning_wavelets.keras_utils.load_model import unpack_model\n",
    "from learning_wavelets.models.learned_wavelet import learnlet\n",
    "from learning_wavelets.models.unet import unet\n",
    "from learning_wavelets.models.wavelet_denoising import wavelet_denoising_pysap"
   ]
  },
  {
   "cell_type": "code",
   "execution_count": 3,
   "metadata": {},
   "outputs": [],
   "source": [
    "plt.rcParams['figure.figsize'] = (480/8, 320/8)\n",
    "plt.rcParams['image.cmap'] = 'gray'"
   ]
  },
  {
   "cell_type": "code",
   "execution_count": 4,
   "metadata": {},
   "outputs": [],
   "source": [
    "tf.random.set_seed(0)"
   ]
  },
  {
   "cell_type": "code",
   "execution_count": 5,
   "metadata": {},
   "outputs": [],
   "source": [
    "all_net_params = [\n",
    "    {\n",
    "        'name': 'unet_0_55',\n",
    "        'init_function': unet,\n",
    "        'run_params': {\n",
    "            'n_layers': 5, \n",
    "            'pool': 'max', \n",
    "            \"layers_n_channels\": [64, 128, 256, 512, 1024], \n",
    "            'layers_n_non_lins': 2,\n",
    "            'non_relu_contract': False,\n",
    "            'bn': True,\n",
    "            'input_size': (None, None, 1),\n",
    "        },\n",
    "        'run_id': 'unet_dynamic_st_bsd500_0_55_1576668365',\n",
    "        'epoch': 500,\n",
    "    },\n",
    "]\n",
    "\n",
    "dynamic_denoising_net_params = [\n",
    "    {\n",
    "        'name': 'learnlet_0_55_big_bsd',\n",
    "        'init_function': learnlet,\n",
    "        'run_params': {\n",
    "            'denoising_activation': 'dynamic_soft_thresholding',\n",
    "            'learnlet_analysis_kwargs':{\n",
    "                'n_tiling': 256, \n",
    "                'mixing_details': False,  \n",
    "                'kernel_size': 11,\n",
    "                'skip_connection': True,\n",
    "            },\n",
    "            'learnlet_synthesis_kwargs': {\n",
    "                'res': True,\n",
    "                'kernel_size': 13,\n",
    "            },\n",
    "            'n_scales': 5,\n",
    "            'exact_reconstruction_weight': 0,\n",
    "            'clip': True,\n",
    "            'input_size': (None, None, 1),     \n",
    "        },\n",
    "        'run_id': 'learnlet_dynamic_st_bsd500_0_55_1580806694',\n",
    "        'epoch': 500,\n",
    "    },\n",
    "]"
   ]
  },
  {
   "cell_type": "code",
   "execution_count": 6,
   "metadata": {},
   "outputs": [],
   "source": [
    "noise_std = 30"
   ]
  },
  {
   "cell_type": "code",
   "execution_count": 7,
   "metadata": {},
   "outputs": [],
   "source": [
    "im_ds = im_dataset_bsd68(\n",
    "    mode='testing', \n",
    "    batch_size=1, \n",
    "    patch_size=None, \n",
    "    noise_std=noise_std, \n",
    "    return_noise_level=True,\n",
    "    n_pooling=5,\n",
    "    n_samples=1,\n",
    ")"
   ]
  },
  {
   "cell_type": "code",
   "execution_count": 8,
   "metadata": {},
   "outputs": [],
   "source": [
    "(im_noisy, tf_noise_std), im_gt, orig_im_shape = next(iter(im_ds))"
   ]
  },
  {
   "cell_type": "code",
   "execution_count": 9,
   "metadata": {},
   "outputs": [],
   "source": [
    "unet_model = unpack_model(**all_net_params[0])"
   ]
  },
  {
   "cell_type": "code",
   "execution_count": 13,
   "metadata": {},
   "outputs": [
    {
     "name": "stdout",
     "output_type": "stream",
     "text": [
      "63.7 ms ± 1.39 ms per loop (mean ± std. dev. of 7 runs, 10 loops each)\n"
     ]
    }
   ],
   "source": [
    "%%timeit\n",
    "im_denoised_unet = unet_model(im_noisy)"
   ]
  },
  {
   "cell_type": "code",
   "execution_count": 14,
   "metadata": {},
   "outputs": [],
   "source": [
    "learnlet_model = unpack_model(**dynamic_denoising_net_params[0])"
   ]
  },
  {
   "cell_type": "code",
   "execution_count": 15,
   "metadata": {},
   "outputs": [
    {
     "name": "stdout",
     "output_type": "stream",
     "text": [
      "106 ms ± 12.1 ms per loop (mean ± std. dev. of 7 runs, 1 loop each)\n"
     ]
    }
   ],
   "source": [
    "%%timeit\n",
    "im_denoised_learnlet = learnlet_model([im_noisy, tf_noise_std])"
   ]
  },
  {
   "cell_type": "code",
   "execution_count": 16,
   "metadata": {},
   "outputs": [],
   "source": [
    "im_noisy_numpy = np.squeeze(im_noisy.numpy())"
   ]
  },
  {
   "cell_type": "code",
   "execution_count": 19,
   "metadata": {},
   "outputs": [
    {
     "name": "stdout",
     "output_type": "stream",
     "text": [
      "10.8 s ± 223 ms per loop (mean ± std. dev. of 7 runs, 1 loop each)\n"
     ]
    }
   ],
   "source": [
    "%%timeit\n",
    "im_denoised_bm3d = bm3d.bm3d(im_noisy_numpy + 0.5, sigma_psd=noise_std/255, stage_arg=bm3d.BM3DStages.ALL_STAGES) - 0.5"
   ]
  },
  {
   "cell_type": "code",
   "execution_count": 20,
   "metadata": {},
   "outputs": [
    {
     "name": "stdout",
     "output_type": "stream",
     "text": [
      "274 ms ± 20.5 ms per loop (mean ± std. dev. of 7 runs, 1 loop each)\n"
     ]
    }
   ],
   "source": [
    "%%timeit\n",
    "im_denoised_wavelets = wavelet_denoising_pysap([im_noisy_numpy], noise_std/255, '24', 5, False, 3)[0]"
   ]
  },
  {
   "cell_type": "code",
   "execution_count": null,
   "metadata": {},
   "outputs": [],
   "source": []
  }
 ],
 "metadata": {
  "kernelspec": {
   "display_name": "Python 3",
   "language": "python",
   "name": "python3"
  },
  "language_info": {
   "codemirror_mode": {
    "name": "ipython",
    "version": 3
   },
   "file_extension": ".py",
   "mimetype": "text/x-python",
   "name": "python",
   "nbconvert_exporter": "python",
   "pygments_lexer": "ipython3",
   "version": "3.6.8"
  }
 },
 "nbformat": 4,
 "nbformat_minor": 2
}
