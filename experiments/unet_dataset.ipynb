{
 "cells": [
  {
   "cell_type": "code",
   "execution_count": 1,
   "metadata": {},
   "outputs": [
    {
     "name": "stdout",
     "output_type": "stream",
     "text": [
      "/volatile/home/Zaccharie/workspace/understanding-unets\n"
     ]
    }
   ],
   "source": [
    "%cd .."
   ]
  },
  {
   "cell_type": "code",
   "execution_count": 2,
   "metadata": {},
   "outputs": [],
   "source": [
    "# # this just to make sure we are using only on CPU\n",
    "# import os\n",
    "# os.environ[\"CUDA_VISIBLE_DEVICES\"]=\"-1\""
   ]
  },
  {
   "cell_type": "code",
   "execution_count": 3,
   "metadata": {},
   "outputs": [
    {
     "name": "stderr",
     "output_type": "stream",
     "text": [
      "Using TensorFlow backend.\n"
     ]
    }
   ],
   "source": [
    "%load_ext autoreload\n",
    "%autoreload 2\n",
    "import os.path as op\n",
    "import time\n",
    "\n",
    "from tensorflow.keras.callbacks import TensorBoard, ModelCheckpoint, LearningRateScheduler\n",
    "from keras_tqdm import TQDMNotebookCallback\n",
    "import tensorflow as tf\n",
    "from tqdm import tqdm_notebook\n",
    "\n",
    "from learning_wavelets.datasets import im_dataset_div2k\n",
    "from learning_wavelets.evaluate import psnr, ssim\n",
    "from learning_wavelets.keras_utils.image_tboard_cback import TensorBoardImage\n",
    "from learning_wavelets.unet import unet"
   ]
  },
  {
   "cell_type": "code",
   "execution_count": 4,
   "metadata": {},
   "outputs": [],
   "source": [
    "tf.random.set_seed(1)"
   ]
  },
  {
   "cell_type": "code",
   "execution_count": 5,
   "metadata": {},
   "outputs": [],
   "source": [
    "noise_std = 30\n",
    "batch_size = 8\n",
    "n_samples_train = 800\n",
    "im_ds_train = im_dataset_div2k(mode='training', batch_size=batch_size, patch_size=256, noise_std=30)\n",
    "im_ds_val = im_dataset_div2k(mode='validation', batch_size=1, patch_size=256, noise_std=30)"
   ]
  },
  {
   "cell_type": "code",
   "execution_count": 6,
   "metadata": {},
   "outputs": [
    {
     "name": "stdout",
     "output_type": "stream",
     "text": [
      "unet_div2k_30_1574408775\n"
     ]
    }
   ],
   "source": [
    "run_params = {\n",
    "    'n_layers': 5, \n",
    "#     'n_layers': 2, \n",
    "    'pool': 'max', \n",
    "    \"layers_n_channels\": [64, 128, 256, 512, 1024], \n",
    "#     \"layers_n_channels\": [16, 32], \n",
    "    'layers_n_non_lins': 2,\n",
    "    'non_relu_contract': False,\n",
    "    'bn': False,\n",
    "}\n",
    "n_epochs = 250\n",
    "run_id = f'unet_div2k_{noise_std}_{int(time.time())}'\n",
    "chkpt_path = f'checkpoints/{run_id}' + '-{epoch:02d}.hdf5'\n",
    "print(run_id)"
   ]
  },
  {
   "cell_type": "code",
   "execution_count": 7,
   "metadata": {},
   "outputs": [],
   "source": [
    "def l_rate_schedule(epoch):\n",
    "    return 1e-3 / 2**(epoch//25)\n",
    "lrate_cback = LearningRateScheduler(l_rate_schedule)"
   ]
  },
  {
   "cell_type": "code",
   "execution_count": 8,
   "metadata": {
    "scrolled": false
   },
   "outputs": [
    {
     "name": "stderr",
     "output_type": "stream",
     "text": [
      "WARNING: Logging before flag parsing goes to stderr.\n",
      "W1122 08:46:15.929141 139635243329280 callbacks.py:863] `period` argument is deprecated. Please use `save_freq` to specify the frequency in number of samples seen.\n"
     ]
    }
   ],
   "source": [
    "chkpt_cback = ModelCheckpoint(chkpt_path, period=n_epochs, save_weights_only=False)\n",
    "log_dir = op.join('logs', run_id)\n",
    "tboard_cback = TensorBoard(\n",
    "    log_dir=log_dir, \n",
    "    histogram_freq=0, \n",
    "    write_graph=True, \n",
    "    write_images=False, \n",
    "    profile_batch=0,\n",
    ")\n",
    "tqdm_cb = TQDMNotebookCallback(metric_format=\"{name}: {value:e}\")\n",
    "val_noisy, val_gt = next(iter(im_ds_val))\n",
    "tboard_image_cback = TensorBoardImage(\n",
    "    log_dir=log_dir + '/images',\n",
    "    image=val_gt[0:1],\n",
    "    noisy_image=val_noisy[0:1],\n",
    ")"
   ]
  },
  {
   "cell_type": "code",
   "execution_count": 9,
   "metadata": {
    "scrolled": true
   },
   "outputs": [
    {
     "name": "stdout",
     "output_type": "stream",
     "text": [
      "Model: \"model\"\n",
      "______________________________________________________________________________________________________________________________________________________\n",
      "Layer (type)                                     Output Shape                     Param #           Connected to                                      \n",
      "======================================================================================================================================================\n",
      "input_1 (InputLayer)                             [(None, None, None, 1)]          0                                                                   \n",
      "______________________________________________________________________________________________________________________________________________________\n",
      "conv2d (Conv2D)                                  (None, None, None, 64)           640               input_1[0][0]                                     \n",
      "______________________________________________________________________________________________________________________________________________________\n",
      "conv2d_1 (Conv2D)                                (None, None, None, 64)           36928             conv2d[0][0]                                      \n",
      "______________________________________________________________________________________________________________________________________________________\n",
      "max_pooling2d (MaxPooling2D)                     (None, None, None, 64)           0                 conv2d_1[0][0]                                    \n",
      "______________________________________________________________________________________________________________________________________________________\n",
      "conv2d_2 (Conv2D)                                (None, None, None, 128)          73856             max_pooling2d[0][0]                               \n",
      "______________________________________________________________________________________________________________________________________________________\n",
      "conv2d_3 (Conv2D)                                (None, None, None, 128)          147584            conv2d_2[0][0]                                    \n",
      "______________________________________________________________________________________________________________________________________________________\n",
      "max_pooling2d_1 (MaxPooling2D)                   (None, None, None, 128)          0                 conv2d_3[0][0]                                    \n",
      "______________________________________________________________________________________________________________________________________________________\n",
      "conv2d_4 (Conv2D)                                (None, None, None, 256)          295168            max_pooling2d_1[0][0]                             \n",
      "______________________________________________________________________________________________________________________________________________________\n",
      "conv2d_5 (Conv2D)                                (None, None, None, 256)          590080            conv2d_4[0][0]                                    \n",
      "______________________________________________________________________________________________________________________________________________________\n",
      "max_pooling2d_2 (MaxPooling2D)                   (None, None, None, 256)          0                 conv2d_5[0][0]                                    \n",
      "______________________________________________________________________________________________________________________________________________________\n",
      "conv2d_6 (Conv2D)                                (None, None, None, 512)          1180160           max_pooling2d_2[0][0]                             \n",
      "______________________________________________________________________________________________________________________________________________________\n",
      "conv2d_7 (Conv2D)                                (None, None, None, 512)          2359808           conv2d_6[0][0]                                    \n",
      "______________________________________________________________________________________________________________________________________________________\n",
      "max_pooling2d_3 (MaxPooling2D)                   (None, None, None, 512)          0                 conv2d_7[0][0]                                    \n",
      "______________________________________________________________________________________________________________________________________________________\n",
      "conv2d_8 (Conv2D)                                (None, None, None, 1024)         4719616           max_pooling2d_3[0][0]                             \n",
      "______________________________________________________________________________________________________________________________________________________\n",
      "conv2d_9 (Conv2D)                                (None, None, None, 1024)         9438208           conv2d_8[0][0]                                    \n",
      "______________________________________________________________________________________________________________________________________________________\n",
      "up_sampling2d (UpSampling2D)                     (None, None, None, 1024)         0                 conv2d_9[0][0]                                    \n",
      "______________________________________________________________________________________________________________________________________________________\n",
      "conv2d_10 (Conv2D)                               (None, None, None, 512)          2097664           up_sampling2d[0][0]                               \n",
      "______________________________________________________________________________________________________________________________________________________\n",
      "concatenate (Concatenate)                        (None, None, None, 1024)         0                 conv2d_7[0][0]                                    \n",
      "                                                                                                    conv2d_10[0][0]                                   \n",
      "______________________________________________________________________________________________________________________________________________________\n",
      "conv2d_11 (Conv2D)                               (None, None, None, 512)          4719104           concatenate[0][0]                                 \n",
      "______________________________________________________________________________________________________________________________________________________\n",
      "conv2d_12 (Conv2D)                               (None, None, None, 512)          2359808           conv2d_11[0][0]                                   \n",
      "______________________________________________________________________________________________________________________________________________________\n",
      "up_sampling2d_1 (UpSampling2D)                   (None, None, None, 512)          0                 conv2d_12[0][0]                                   \n",
      "______________________________________________________________________________________________________________________________________________________\n",
      "conv2d_13 (Conv2D)                               (None, None, None, 256)          524544            up_sampling2d_1[0][0]                             \n",
      "______________________________________________________________________________________________________________________________________________________\n",
      "concatenate_1 (Concatenate)                      (None, None, None, 512)          0                 conv2d_5[0][0]                                    \n",
      "                                                                                                    conv2d_13[0][0]                                   \n",
      "______________________________________________________________________________________________________________________________________________________\n",
      "conv2d_14 (Conv2D)                               (None, None, None, 256)          1179904           concatenate_1[0][0]                               \n",
      "______________________________________________________________________________________________________________________________________________________\n",
      "conv2d_15 (Conv2D)                               (None, None, None, 256)          590080            conv2d_14[0][0]                                   \n",
      "______________________________________________________________________________________________________________________________________________________\n",
      "up_sampling2d_2 (UpSampling2D)                   (None, None, None, 256)          0                 conv2d_15[0][0]                                   \n",
      "______________________________________________________________________________________________________________________________________________________\n",
      "conv2d_16 (Conv2D)                               (None, None, None, 128)          131200            up_sampling2d_2[0][0]                             \n",
      "______________________________________________________________________________________________________________________________________________________\n",
      "concatenate_2 (Concatenate)                      (None, None, None, 256)          0                 conv2d_3[0][0]                                    \n",
      "                                                                                                    conv2d_16[0][0]                                   \n",
      "______________________________________________________________________________________________________________________________________________________\n",
      "conv2d_17 (Conv2D)                               (None, None, None, 128)          295040            concatenate_2[0][0]                               \n",
      "______________________________________________________________________________________________________________________________________________________\n",
      "conv2d_18 (Conv2D)                               (None, None, None, 128)          147584            conv2d_17[0][0]                                   \n",
      "______________________________________________________________________________________________________________________________________________________\n",
      "up_sampling2d_3 (UpSampling2D)                   (None, None, None, 128)          0                 conv2d_18[0][0]                                   \n",
      "______________________________________________________________________________________________________________________________________________________\n",
      "conv2d_19 (Conv2D)                               (None, None, None, 64)           32832             up_sampling2d_3[0][0]                             \n",
      "______________________________________________________________________________________________________________________________________________________\n",
      "concatenate_3 (Concatenate)                      (None, None, None, 128)          0                 conv2d_1[0][0]                                    \n",
      "                                                                                                    conv2d_19[0][0]                                   \n",
      "______________________________________________________________________________________________________________________________________________________\n",
      "conv2d_20 (Conv2D)                               (None, None, None, 64)           73792             concatenate_3[0][0]                               \n",
      "______________________________________________________________________________________________________________________________________________________\n",
      "conv2d_21 (Conv2D)                               (None, None, None, 64)           36928             conv2d_20[0][0]                                   \n",
      "______________________________________________________________________________________________________________________________________________________\n",
      "conv2d_22 (Conv2D)                               (None, None, None, 4)            260               conv2d_21[0][0]                                   \n",
      "______________________________________________________________________________________________________________________________________________________\n",
      "conv2d_23 (Conv2D)                               (None, None, None, 1)            5                 conv2d_22[0][0]                                   \n",
      "======================================================================================================================================================\n",
      "Total params: 31,030,793\n",
      "Trainable params: 31,030,793\n",
      "Non-trainable params: 0\n",
      "______________________________________________________________________________________________________________________________________________________\n",
      "None\n"
     ]
    }
   ],
   "source": [
    "n_channels = 1\n",
    "model = unet(input_size=(None, None, n_channels), lr=1e-3, **run_params)\n",
    "print(model.summary(line_length=150))"
   ]
  },
  {
   "cell_type": "code",
   "execution_count": null,
   "metadata": {
    "scrolled": true
   },
   "outputs": [
    {
     "data": {
      "application/vnd.jupyter.widget-view+json": {
       "model_id": "95ca83a68d3e4a36b89ed310eb4a6ceb",
       "version_major": 2,
       "version_minor": 0
      },
      "text/plain": [
       "HBox(children=(IntProgress(value=0, description='Training', max=250, style=ProgressStyle(description_width='in…"
      ]
     },
     "metadata": {},
     "output_type": "display_data"
    },
    {
     "data": {
      "application/vnd.jupyter.widget-view+json": {
       "model_id": "",
       "version_major": 2,
       "version_minor": 0
      },
      "text/plain": [
       "HBox(children=(IntProgress(value=0, description='Epoch 0', style=ProgressStyle(description_width='initial')), …"
      ]
     },
     "metadata": {},
     "output_type": "display_data"
    },
    {
     "data": {
      "application/vnd.jupyter.widget-view+json": {
       "model_id": "",
       "version_major": 2,
       "version_minor": 0
      },
      "text/plain": [
       "HBox(children=(IntProgress(value=0, description='Epoch 1', style=ProgressStyle(description_width='initial')), …"
      ]
     },
     "metadata": {},
     "output_type": "display_data"
    },
    {
     "data": {
      "application/vnd.jupyter.widget-view+json": {
       "model_id": "",
       "version_major": 2,
       "version_minor": 0
      },
      "text/plain": [
       "HBox(children=(IntProgress(value=0, description='Epoch 2', style=ProgressStyle(description_width='initial')), …"
      ]
     },
     "metadata": {},
     "output_type": "display_data"
    },
    {
     "data": {
      "application/vnd.jupyter.widget-view+json": {
       "model_id": "0c04e81cce1446ca985d7f447f69bd66",
       "version_major": 2,
       "version_minor": 0
      },
      "text/plain": [
       "HBox(children=(IntProgress(value=0, description='Epoch 3', style=ProgressStyle(description_width='initial')), …"
      ]
     },
     "metadata": {},
     "output_type": "display_data"
    }
   ],
   "source": [
    "%%time\n",
    "model.fit(\n",
    "    im_ds_train, \n",
    "    steps_per_epoch=int(n_samples_train / batch_size), \n",
    "#     steps_per_epoch=5, \n",
    "    epochs=n_epochs,\n",
    "    validation_data=im_ds_val,\n",
    "#     validation_steps=int(validation_split * n_samples_train / batch_size),\n",
    "    validation_steps=1,\n",
    "    verbose=0,\n",
    "    callbacks=[tqdm_cb, tboard_cback, chkpt_cback, tboard_image_cback, lrate_cback],\n",
    "    shuffle=False,\n",
    ")"
   ]
  },
  {
   "cell_type": "code",
   "execution_count": null,
   "metadata": {
    "scrolled": true
   },
   "outputs": [],
   "source": [
    "# %%time\n",
    "# # overfitting trials\n",
    "# data = im_gen_train[0]\n",
    "# val_data = im_gen_val[0]\n",
    "# model.fit(\n",
    "#     x=data[0], \n",
    "#     y=data[1], \n",
    "# #     validation_data=val_data, \n",
    "#     batch_size=data[0].shape[0], \n",
    "#     callbacks=[tqdm_cb, tboard_cback, tboard_image_cback],\n",
    "#     epochs=200, \n",
    "#     verbose=2, \n",
    "#     shuffle=False,\n",
    "# )\n",
    "# print('Original metrics')\n",
    "# print(psnr(*data))\n",
    "# print(ssim(*data))"
   ]
  },
  {
   "cell_type": "code",
   "execution_count": null,
   "metadata": {},
   "outputs": [],
   "source": []
  }
 ],
 "metadata": {
  "kernelspec": {
   "display_name": "Python 3",
   "language": "python",
   "name": "python3"
  },
  "language_info": {
   "codemirror_mode": {
    "name": "ipython",
    "version": 3
   },
   "file_extension": ".py",
   "mimetype": "text/x-python",
   "name": "python",
   "nbconvert_exporter": "python",
   "pygments_lexer": "ipython3",
   "version": "3.6.8"
  },
  "notify_time": "30"
 },
 "nbformat": 4,
 "nbformat_minor": 2
}
