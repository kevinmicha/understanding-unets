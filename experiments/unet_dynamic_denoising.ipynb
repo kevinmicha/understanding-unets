{
 "cells": [
  {
   "cell_type": "code",
   "execution_count": 1,
   "metadata": {},
   "outputs": [
    {
     "name": "stdout",
     "output_type": "stream",
     "text": [
      "/volatile/home/Zaccharie/workspace/understanding-unets\n"
     ]
    }
   ],
   "source": [
    "%cd .."
   ]
  },
  {
   "cell_type": "code",
   "execution_count": 2,
   "metadata": {},
   "outputs": [],
   "source": [
    "# # this just to make sure we are using only on CPU\n",
    "# import os\n",
    "# os.environ[\"CUDA_VISIBLE_DEVICES\"]=\"-1\""
   ]
  },
  {
   "cell_type": "code",
   "execution_count": 3,
   "metadata": {},
   "outputs": [],
   "source": [
    "%load_ext autoreload\n",
    "%autoreload 2\n",
    "import os.path as op\n",
    "import time\n",
    "\n",
    "from tensorflow.keras.callbacks import TensorBoard, ModelCheckpoint, LearningRateScheduler\n",
    "import tensorflow_addons as tfa\n",
    "import tensorflow as tf\n",
    "from tqdm import tqdm_notebook\n",
    "\n",
    "from learning_wavelets.data.datasets import im_dataset_div2k, im_dataset_bsd500\n",
    "from learning_wavelets.evaluate import psnr, ssim\n",
    "from learning_wavelets.keras_utils.image_tboard_cback import TensorBoardImage\n",
    "from learning_wavelets.models.unet import unet"
   ]
  },
  {
   "cell_type": "code",
   "execution_count": 4,
   "metadata": {},
   "outputs": [],
   "source": [
    "tf.random.set_seed(1)"
   ]
  },
  {
   "cell_type": "code",
   "execution_count": 5,
   "metadata": {},
   "outputs": [],
   "source": [
    "noise_std_train = (0, 55)\n",
    "noise_std_val = 30\n",
    "batch_size = 8\n",
    "source = 'bsd500'\n",
    "if source == 'bsd500':\n",
    "    data_func = im_dataset_bsd500\n",
    "    n_samples_train = 400\n",
    "else:\n",
    "    data_func = im_dataset_div2k\n",
    "    n_samples_train = 800\n",
    "im_ds_train = data_func(\n",
    "    mode='training', \n",
    "    batch_size=batch_size, \n",
    "    patch_size=256, \n",
    "    noise_std=noise_std_train, \n",
    "    return_noise_level=False,\n",
    ")\n",
    "im_ds_val = data_func(\n",
    "    mode='validation', \n",
    "    batch_size=1, \n",
    "    patch_size=256, \n",
    "    noise_std=noise_std_val, \n",
    "    return_noise_level=False,\n",
    ")"
   ]
  },
  {
   "cell_type": "code",
   "execution_count": 6,
   "metadata": {},
   "outputs": [
    {
     "name": "stdout",
     "output_type": "stream",
     "text": [
      "unet_dynamic_st_bsd500_0_55_1582625310\n"
     ]
    }
   ],
   "source": [
    "run_params = {\n",
    "    'n_layers': 5, \n",
    "#     'n_layers': 2, \n",
    "    'pool': 'max', \n",
    "    \"layers_n_channels\": [64, 128, 256, 512, 1024], \n",
    "#     \"layers_n_channels\": [16, 32], \n",
    "    'layers_n_non_lins': 2,\n",
    "    'non_relu_contract': False,\n",
    "    'bn': True,\n",
    "}\n",
    "n_epochs = 2\n",
    "run_id = f'unet_dynamic_st_{source}_{noise_std_train[0]}_{noise_std_train[1]}_{int(time.time())}'\n",
    "chkpt_path = f'checkpoints/{run_id}' + '-{epoch:02d}.hdf5'\n",
    "print(run_id)"
   ]
  },
  {
   "cell_type": "code",
   "execution_count": 7,
   "metadata": {},
   "outputs": [],
   "source": [
    "def l_rate_schedule(epoch):\n",
    "    return max(1e-3 / 2**(epoch//25), 1e-5)\n",
    "lrate_cback = LearningRateScheduler(l_rate_schedule)"
   ]
  },
  {
   "cell_type": "code",
   "execution_count": 8,
   "metadata": {},
   "outputs": [
    {
     "name": "stdout",
     "output_type": "stream",
     "text": [
      "WARNING:tensorflow:`period` argument is deprecated. Please use `save_freq` to specify the frequency in number of samples seen.\n"
     ]
    }
   ],
   "source": [
    "chkpt_cback = ModelCheckpoint(chkpt_path, period=n_epochs, save_weights_only=False)\n",
    "log_dir = op.join('logs', run_id)\n",
    "tboard_cback = TensorBoard(\n",
    "    log_dir=log_dir, \n",
    "    histogram_freq=0, \n",
    "    write_graph=False, \n",
    "    write_images=False, \n",
    "    profile_batch=0,\n",
    ")\n",
    "tqdm_cb = tfa.callbacks.TQDMProgressBar(metrics_format=\"{name}: {value:e}\")\n",
    "# val_noisy, val_gt = next(iter(im_ds_val))\n",
    "# tboard_image_cback = TensorBoardImage(\n",
    "#     log_dir=log_dir + '/images',\n",
    "#     image=val_gt[0:1],\n",
    "#     noisy_image=val_noisy[0:1],\n",
    "# )"
   ]
  },
  {
   "cell_type": "code",
   "execution_count": 9,
   "metadata": {
    "scrolled": true
   },
   "outputs": [
    {
     "name": "stdout",
     "output_type": "stream",
     "text": [
      "Model: \"model\"\n",
      "__________________________________________________________________________________________________________________\n",
      "Layer (type)                         Output Shape             Param #       Connected to                          \n",
      "==================================================================================================================\n",
      "input_1 (InputLayer)                 [(None, None, None, 1)]  0                                                   \n",
      "__________________________________________________________________________________________________________________\n",
      "conv2d (Conv2D)                      (None, None, None, 64)   640           input_1[0][0]                         \n",
      "__________________________________________________________________________________________________________________\n",
      "conv2d_1 (Conv2D)                    (None, None, None, 64)   36928         conv2d[0][0]                          \n",
      "__________________________________________________________________________________________________________________\n",
      "max_pooling2d (MaxPooling2D)         (None, None, None, 64)   0             conv2d_1[0][0]                        \n",
      "__________________________________________________________________________________________________________________\n",
      "conv2d_2 (Conv2D)                    (None, None, None, 128)  73856         max_pooling2d[0][0]                   \n",
      "__________________________________________________________________________________________________________________\n",
      "conv2d_3 (Conv2D)                    (None, None, None, 128)  147584        conv2d_2[0][0]                        \n",
      "__________________________________________________________________________________________________________________\n",
      "max_pooling2d_1 (MaxPooling2D)       (None, None, None, 128)  0             conv2d_3[0][0]                        \n",
      "__________________________________________________________________________________________________________________\n",
      "conv2d_4 (Conv2D)                    (None, None, None, 256)  295168        max_pooling2d_1[0][0]                 \n",
      "__________________________________________________________________________________________________________________\n",
      "conv2d_5 (Conv2D)                    (None, None, None, 256)  590080        conv2d_4[0][0]                        \n",
      "__________________________________________________________________________________________________________________\n",
      "max_pooling2d_2 (MaxPooling2D)       (None, None, None, 256)  0             conv2d_5[0][0]                        \n",
      "__________________________________________________________________________________________________________________\n",
      "conv2d_6 (Conv2D)                    (None, None, None, 512)  1180160       max_pooling2d_2[0][0]                 \n",
      "__________________________________________________________________________________________________________________\n",
      "conv2d_7 (Conv2D)                    (None, None, None, 512)  2359808       conv2d_6[0][0]                        \n",
      "__________________________________________________________________________________________________________________\n",
      "max_pooling2d_3 (MaxPooling2D)       (None, None, None, 512)  0             conv2d_7[0][0]                        \n",
      "__________________________________________________________________________________________________________________\n",
      "conv2d_8 (Conv2D)                    (None, None, None, 1024) 4719616       max_pooling2d_3[0][0]                 \n",
      "__________________________________________________________________________________________________________________\n",
      "conv2d_9 (Conv2D)                    (None, None, None, 1024) 9438208       conv2d_8[0][0]                        \n",
      "__________________________________________________________________________________________________________________\n",
      "up_sampling2d (UpSampling2D)         (None, None, None, 1024) 0             conv2d_9[0][0]                        \n",
      "__________________________________________________________________________________________________________________\n",
      "conv2d_10 (Conv2D)                   (None, None, None, 512)  2097664       up_sampling2d[0][0]                   \n",
      "__________________________________________________________________________________________________________________\n",
      "concatenate (Concatenate)            (None, None, None, 1024) 0             conv2d_7[0][0]                        \n",
      "                                                                            conv2d_10[0][0]                       \n",
      "__________________________________________________________________________________________________________________\n",
      "conv2d_11 (Conv2D)                   (None, None, None, 512)  4719104       concatenate[0][0]                     \n",
      "__________________________________________________________________________________________________________________\n",
      "conv2d_12 (Conv2D)                   (None, None, None, 512)  2359808       conv2d_11[0][0]                       \n",
      "__________________________________________________________________________________________________________________\n",
      "up_sampling2d_1 (UpSampling2D)       (None, None, None, 512)  0             conv2d_12[0][0]                       \n",
      "__________________________________________________________________________________________________________________\n",
      "conv2d_13 (Conv2D)                   (None, None, None, 256)  524544        up_sampling2d_1[0][0]                 \n",
      "__________________________________________________________________________________________________________________\n",
      "concatenate_1 (Concatenate)          (None, None, None, 512)  0             conv2d_5[0][0]                        \n",
      "                                                                            conv2d_13[0][0]                       \n",
      "__________________________________________________________________________________________________________________\n",
      "conv2d_14 (Conv2D)                   (None, None, None, 256)  1179904       concatenate_1[0][0]                   \n",
      "__________________________________________________________________________________________________________________\n",
      "conv2d_15 (Conv2D)                   (None, None, None, 256)  590080        conv2d_14[0][0]                       \n",
      "__________________________________________________________________________________________________________________\n",
      "up_sampling2d_2 (UpSampling2D)       (None, None, None, 256)  0             conv2d_15[0][0]                       \n",
      "__________________________________________________________________________________________________________________\n",
      "conv2d_16 (Conv2D)                   (None, None, None, 128)  131200        up_sampling2d_2[0][0]                 \n",
      "__________________________________________________________________________________________________________________\n",
      "concatenate_2 (Concatenate)          (None, None, None, 256)  0             conv2d_3[0][0]                        \n",
      "                                                                            conv2d_16[0][0]                       \n",
      "__________________________________________________________________________________________________________________\n",
      "conv2d_17 (Conv2D)                   (None, None, None, 128)  295040        concatenate_2[0][0]                   \n",
      "__________________________________________________________________________________________________________________\n",
      "conv2d_18 (Conv2D)                   (None, None, None, 128)  147584        conv2d_17[0][0]                       \n",
      "__________________________________________________________________________________________________________________\n",
      "up_sampling2d_3 (UpSampling2D)       (None, None, None, 128)  0             conv2d_18[0][0]                       \n",
      "__________________________________________________________________________________________________________________\n",
      "conv2d_19 (Conv2D)                   (None, None, None, 64)   32832         up_sampling2d_3[0][0]                 \n",
      "__________________________________________________________________________________________________________________\n",
      "concatenate_3 (Concatenate)          (None, None, None, 128)  0             conv2d_1[0][0]                        \n",
      "                                                                            conv2d_19[0][0]                       \n",
      "__________________________________________________________________________________________________________________\n",
      "conv2d_20 (Conv2D)                   (None, None, None, 64)   73792         concatenate_3[0][0]                   \n",
      "__________________________________________________________________________________________________________________\n",
      "conv2d_21 (Conv2D)                   (None, None, None, 64)   36928         conv2d_20[0][0]                       \n",
      "__________________________________________________________________________________________________________________\n",
      "conv2d_22 (Conv2D)                   (None, None, None, 4)    260           conv2d_21[0][0]                       \n",
      "__________________________________________________________________________________________________________________\n",
      "conv2d_23 (Conv2D)                   (None, None, None, 1)    5             conv2d_22[0][0]                       \n",
      "==================================================================================================================\n",
      "Total params: 31,030,793\n",
      "Trainable params: 31,030,793\n",
      "Non-trainable params: 0\n",
      "__________________________________________________________________________________________________________________\n",
      "None\n"
     ]
    }
   ],
   "source": [
    "n_channels = 1\n",
    "model = unet(input_size=(None, None, n_channels), lr=1e-3, **run_params)\n",
    "print(model.summary(line_length=114))"
   ]
  },
  {
   "cell_type": "code",
   "execution_count": 10,
   "metadata": {
    "scrolled": false
   },
   "outputs": [
    {
     "data": {
      "application/vnd.jupyter.widget-view+json": {
       "model_id": "f5ab4a38c07a4bc6a5bc3e1c0872f1b0",
       "version_major": 2,
       "version_minor": 0
      },
      "text/plain": [
       "HBox(children=(FloatProgress(value=0.0, description='Training', layout=Layout(flex='2'), max=2.0, style=Progre…"
      ]
     },
     "metadata": {},
     "output_type": "display_data"
    },
    {
     "name": "stdout",
     "output_type": "stream",
     "text": [
      "Epoch 1/2\n"
     ]
    },
    {
     "data": {
      "application/vnd.jupyter.widget-view+json": {
       "model_id": "964c25ea857a430c9111c3b1cc37439a",
       "version_major": 2,
       "version_minor": 0
      },
      "text/plain": [
       "HBox(children=(FloatProgress(value=0.0, layout=Layout(flex='2'), max=20.0), HTML(value='')), layout=Layout(dis…"
      ]
     },
     "metadata": {},
     "output_type": "display_data"
    },
    {
     "name": "stdout",
     "output_type": "stream",
     "text": [
      "\n",
      "Epoch 2/2\n"
     ]
    },
    {
     "data": {
      "application/vnd.jupyter.widget-view+json": {
       "model_id": "d11a3f4c1c704ab8aa4122694c97027f",
       "version_major": 2,
       "version_minor": 0
      },
      "text/plain": [
       "HBox(children=(FloatProgress(value=0.0, layout=Layout(flex='2'), max=20.0), HTML(value='')), layout=Layout(dis…"
      ]
     },
     "metadata": {},
     "output_type": "display_data"
    },
    {
     "name": "stdout",
     "output_type": "stream",
     "text": [
      "\n",
      "\n",
      "CPU times: user 25.5 s, sys: 7.45 s, total: 32.9 s\n",
      "Wall time: 24.1 s\n"
     ]
    },
    {
     "data": {
      "text/plain": [
       "<tensorflow.python.keras.callbacks.History at 0x7f127032a978>"
      ]
     },
     "execution_count": 10,
     "metadata": {},
     "output_type": "execute_result"
    }
   ],
   "source": [
    "%%time\n",
    "model.fit(\n",
    "    im_ds_train, \n",
    "    steps_per_epoch=20, \n",
    "#     steps_per_epoch=5, \n",
    "    epochs=n_epochs,\n",
    "    validation_data=im_ds_val,\n",
    "#     validation_steps=int(validation_split * n_samples_train / batch_size),\n",
    "    validation_steps=1,\n",
    "    verbose=0,\n",
    "#     callbacks=[tqdm_cb, tboard_cback, chkpt_cback, lrate_cback],\n",
    "    callbacks=[tqdm_cb, lrate_cback],\n",
    "#     callbacks=[tqdm_cb, tboard_cback, chkpt_cback, tboard_image_cback, norm_cback, lrate_cback],\n",
    "    shuffle=False,\n",
    ")"
   ]
  },
  {
   "cell_type": "code",
   "execution_count": 11,
   "metadata": {
    "scrolled": true
   },
   "outputs": [],
   "source": [
    "# %%time\n",
    "# # overfitting trials\n",
    "# data = next(iter(im_ds_train))\n",
    "# val_data = next(iter(im_ds_val))\n",
    "# model.fit(\n",
    "#     x=data[0], \n",
    "#     y=data[1], \n",
    "# #     validation_data=val_data, \n",
    "#     batch_size=1, \n",
    "# #     callbacks=[tqdm_cb, tboard_cback, tboard_image_cback, norm_cback, lrate_cback],\n",
    "#     callbacks=[tqdm_cb, tboard_cback,],\n",
    "#     epochs=50, \n",
    "#     verbose=2, \n",
    "#     shuffle=False,\n",
    "# )\n",
    "# # print('Original metrics')\n",
    "# # print(psnr(data[0].numpy(), data[1].numpy()))\n",
    "# # print(ssim(data[0].numpy(), data[1].numpy()))"
   ]
  },
  {
   "cell_type": "code",
   "execution_count": null,
   "metadata": {
    "cell_style": "split"
   },
   "outputs": [],
   "source": []
  }
 ],
 "metadata": {
  "kernelspec": {
   "display_name": "Python 3",
   "language": "python",
   "name": "python3"
  },
  "language_info": {
   "codemirror_mode": {
    "name": "ipython",
    "version": 3
   },
   "file_extension": ".py",
   "mimetype": "text/x-python",
   "name": "python",
   "nbconvert_exporter": "python",
   "pygments_lexer": "ipython3",
   "version": "3.6.8"
  },
  "notify_time": "30"
 },
 "nbformat": 4,
 "nbformat_minor": 2
}
