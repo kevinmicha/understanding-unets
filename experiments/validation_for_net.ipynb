{
 "cells": [
  {
   "cell_type": "code",
   "execution_count": 1,
   "metadata": {},
   "outputs": [
    {
     "name": "stdout",
     "output_type": "stream",
     "text": [
      "/volatile/home/Zaccharie/workspace/understanding-unets\n"
     ]
    }
   ],
   "source": [
    "%cd .."
   ]
  },
  {
   "cell_type": "code",
   "execution_count": 2,
   "metadata": {},
   "outputs": [],
   "source": [
    "# # this just to make sure we are using only on CPU\n",
    "# import os\n",
    "# os.environ[\"CUDA_VISIBLE_DEVICES\"]=\"-1\""
   ]
  },
  {
   "cell_type": "code",
   "execution_count": 3,
   "metadata": {},
   "outputs": [
    {
     "name": "stderr",
     "output_type": "stream",
     "text": [
      "Using TensorFlow backend.\n"
     ]
    }
   ],
   "source": [
    "%load_ext autoreload\n",
    "%autoreload 2\n",
    "%matplotlib nbagg\n",
    "import time\n",
    "import warnings\n",
    "warnings.filterwarnings(\"ignore\")\n",
    "\n",
    "import matplotlib.pyplot as plt\n",
    "import numpy as np\n",
    "import pandas as pd\n",
    "from tqdm import tqdm_notebook\n",
    "\n",
    "from learning_wavelets.data import im_generators, ConcatenateGenerators\n",
    "from learning_wavelets.evaluate import Metrics\n",
    "from learning_wavelets.keras_utils.thresholding import SoftThresholding\n",
    "from learning_wavelets.learned_wavelet import learned_wavelet\n",
    "from learning_wavelets.unet import unet\n",
    "from learning_wavelets.wavelet_denoising import wavelet_denoising"
   ]
  },
  {
   "cell_type": "code",
   "execution_count": 4,
   "metadata": {},
   "outputs": [],
   "source": [
    "np.random.seed(0)"
   ]
  },
  {
   "cell_type": "code",
   "execution_count": 5,
   "metadata": {},
   "outputs": [],
   "source": [
    "plt.rcParams['figure.figsize'] = (9, 5)\n",
    "plt.rcParams['image.cmap'] = 'gray'"
   ]
  },
  {
   "cell_type": "code",
   "execution_count": 6,
   "metadata": {
    "code_folding": []
   },
   "outputs": [],
   "source": [
    "grey = True\n",
    "n_channels = 3\n",
    "if grey:\n",
    "    n_channels = 1\n",
    "im_gen_train, im_gen_val, im_gen_test, size, n_samples_train = im_generators(\n",
    "    'bsd68', \n",
    "    batch_size=1, \n",
    "    validation_split=0.1, \n",
    "    no_augment=True, \n",
    "    noise_std=30,\n",
    "    grey=grey\n",
    ")    \n",
    "im_bsd68 = ConcatenateGenerators(im_gen_train, im_gen_val, im_gen_test)"
   ]
  },
  {
   "cell_type": "code",
   "execution_count": 7,
   "metadata": {},
   "outputs": [],
   "source": [
    "all_net_params = [\n",
    "    {\n",
    "        'name': 'unet',\n",
    "        'init_function': unet,\n",
    "        'run_params': {\n",
    "            'n_layers': 5, \n",
    "            'pool': 'max', \n",
    "            \"layers_n_channels\": [64, 128, 256, 512, 1024], \n",
    "            'layers_n_non_lins': 2,\n",
    "            'non_relu_contract': False,\n",
    "            'input_size': (size, size, n_channels),\n",
    "        },\n",
    "        'run_id': 'unet_div2k_30_1570805218',\n",
    "    },\n",
    "    {\n",
    "        'name': 'unet_bn',\n",
    "        'init_function': unet,\n",
    "        'run_params': {\n",
    "            'n_layers': 5, \n",
    "            'pool': 'max', \n",
    "            \"layers_n_channels\": [64, 128, 256, 512, 1024], \n",
    "            'layers_n_non_lins': 2,\n",
    "            'non_relu_contract': False,\n",
    "            'bn': True,\n",
    "            'input_size': (size, size, n_channels),\n",
    "        },\n",
    "        'run_id': 'unet_div2k_30_1571047085',\n",
    "    },\n",
    "    {\n",
    "        'name': 'learned wavelet',\n",
    "        'init_function': learned_wavelet,\n",
    "        'run_params': {\n",
    "            'n_scales': 5, \n",
    "            'n_details': 256, \n",
    "            'n_coarse': 1, \n",
    "            'n_groupping': 256,\n",
    "            'input_size': (size, size, n_channels),\n",
    "        },\n",
    "        'run_id': 'learned_wavelet_div2k_30_1570806527',\n",
    "    },\n",
    "    {\n",
    "        'name': 'learned wavelet_st_0.1',\n",
    "        'init_function': learned_wavelet,\n",
    "        'run_params': {\n",
    "            'n_scales': 5, \n",
    "            'n_details': 256, \n",
    "            'n_coarse': 1, \n",
    "            'n_groupping': 256,\n",
    "            'denoising_activation': SoftThresholding(0.1),\n",
    "            'input_size': (size, size, n_channels),\n",
    "        },\n",
    "        'run_id': 'learned_wavelet_div2k_30_1571645964',\n",
    "    },\n",
    "    {\n",
    "        'name': 'learned wavelet_st_0.1_wav_pooling',\n",
    "        'init_function': learned_wavelet,\n",
    "        'run_params': {\n",
    "            'n_scales': 5, \n",
    "            'n_details': 256, \n",
    "            'n_coarse': 1, \n",
    "            'n_groupping': 256,\n",
    "            'denoising_activation': SoftThresholding(0.1),\n",
    "            'input_size': (size, size, n_channels),\n",
    "            'wav_pooling': True,\n",
    "        },\n",
    "        'run_id': 'learned_wavelet_div2k_30_1571646276',\n",
    "    },\n",
    "    {\n",
    "        'name': 'learned wavelet_st_0.1_unit_norm',\n",
    "        'init_function': learned_wavelet,\n",
    "        'run_params': {\n",
    "            'n_scales': 5, \n",
    "            'n_details': 256, \n",
    "            'n_coarse': 1, \n",
    "            'n_groupping': 256,\n",
    "            'denoising_activation': SoftThresholding(0.1),\n",
    "            'input_size': (size, size, n_channels),\n",
    "            'filters_normed': ['details', 'coarse'],\n",
    "\n",
    "        },\n",
    "        'run_id': 'learned_wavelet_div2k_30_1571646661',\n",
    "    },\n",
    "    {\n",
    "        'name': 'learned wavelet_st_0.1_wav_pooling_unit_norm',\n",
    "        'init_function': learned_wavelet,\n",
    "        'run_params': {\n",
    "            'n_scales': 5, \n",
    "            'n_details': 256, \n",
    "            'n_coarse': 1, \n",
    "            'n_groupping': 256,\n",
    "            'denoising_activation': SoftThresholding(0.1),\n",
    "            'input_size': (size, size, n_channels),\n",
    "            'wav_pooling': True,\n",
    "            'filters_normed': ['details', 'coarse'],\n",
    "\n",
    "        },\n",
    "        'run_id': 'learned_wavelet_div2k_30_1571647144',\n",
    "    },\n",
    "    {\n",
    "        'name': 'learned wavelet_st_0.01',\n",
    "        'init_function': learned_wavelet,\n",
    "        'run_params': {\n",
    "            'n_scales': 5, \n",
    "            'n_details': 256, \n",
    "            'n_coarse': 1, \n",
    "            'n_groupping': 256,\n",
    "            'denoising_activation': SoftThresholding(0.01),\n",
    "            'input_size': (size, size, n_channels),\n",
    "        },\n",
    "        'run_id': 'learned_wavelet_div2k_30_1571647448',\n",
    "    },\n",
    "    {\n",
    "        'name': 'learned wavelet_st_1',\n",
    "        'init_function': learned_wavelet,\n",
    "        'run_params': {\n",
    "            'n_scales': 5, \n",
    "            'n_details': 256, \n",
    "            'n_coarse': 1, \n",
    "            'n_groupping': 256,\n",
    "            'denoising_activation': SoftThresholding(1.0),\n",
    "            'input_size': (size, size, n_channels),\n",
    "        },\n",
    "        'run_id': 'learned_wavelet_div2k_30_1571647811',\n",
    "    },\n",
    "    {\n",
    "        'name': 'learned wavelet_linear',\n",
    "        'init_function': learned_wavelet,\n",
    "        'run_params': {\n",
    "            'n_scales': 5, \n",
    "            'n_details': 256, \n",
    "            'n_coarse': 1, \n",
    "            'n_groupping': 256,\n",
    "            'denoising_activation': 'linear',\n",
    "            'input_size': (size, size, n_channels),\n",
    "        },\n",
    "        'run_id': 'learned_wavelet_div2k_30_1571645666',\n",
    "    },\n",
    "]"
   ]
  },
  {
   "cell_type": "code",
   "execution_count": 8,
   "metadata": {},
   "outputs": [],
   "source": [
    "def unpack_model(init_function=None, run_params=None, run_id=None, epoch=500, **dummy_kwargs):\n",
    "    model = init_function(**run_params)\n",
    "    chkpt_path = f'checkpoints/{run_id}-{epoch}.hdf5'\n",
    "    model.load_weights(chkpt_path)\n",
    "    return model\n",
    "\n",
    "def enumerate_seq(seq, name):\n",
    "    return (seq[i] for i in tqdm_notebook(range(len(seq)), desc=f'Val files for {name}'))\n",
    "\n",
    "def metrics_for_params(reco_function=None, name=None, **net_params):\n",
    "    model = unpack_model(**net_params)\n",
    "    metrics = Metrics()\n",
    "    pred_and_gt = [\n",
    "        (model.predict_on_batch(images_noisy), images_gt)\n",
    "        for images_noisy, images_gt in enumerate_seq(im_bsd68, name)\n",
    "    ]    \n",
    "    for im_recos, images in tqdm_notebook(pred_and_gt, desc=f'Stats for {name}'):\n",
    "        metrics.push(images, im_recos)\n",
    "    return metrics\n",
    "\n",
    "def metrics_original():\n",
    "    metrics = Metrics()\n",
    "    pred_and_gt = [\n",
    "        (images_noisy, images_gt)\n",
    "        for images_noisy, images_gt in enumerate_seq(im_bsd68, 'Original noisy image')\n",
    "    ]    \n",
    "    for im_recos, images in tqdm_notebook(pred_and_gt, desc='Original noisy image'):\n",
    "        metrics.push(images, im_recos)\n",
    "    return metrics\n",
    "\n",
    "def metrics_wavelets():\n",
    "    metrics = Metrics()\n",
    "    pred_and_gt = [\n",
    "        (wavelet_denoising(images_noisy[0], 30/255, n_scales=5), images_gt[0])\n",
    "        for images_noisy, images_gt in enumerate_seq(im_bsd68, 'Wavelet denoising')\n",
    "    ]    \n",
    "    for im_recos, images in tqdm_notebook(pred_and_gt, desc='Stats for wavelet denoising'):\n",
    "        metrics.push(images, im_recos)\n",
    "    return metrics"
   ]
  },
  {
   "cell_type": "code",
   "execution_count": 9,
   "metadata": {},
   "outputs": [
    {
     "name": "stdout",
     "output_type": "stream",
     "text": [
      "WARNING:tensorflow:From /volatile/home/Zaccharie/workspace/understanding-unets/venv/lib/python3.6/site-packages/tensorflow/python/framework/op_def_library.py:263: colocate_with (from tensorflow.python.framework.ops) is deprecated and will be removed in a future version.\n",
      "Instructions for updating:\n",
      "Colocations handled automatically by placer.\n"
     ]
    },
    {
     "data": {
      "application/vnd.jupyter.widget-view+json": {
       "model_id": "f1e35b0ebf8b4610b84f0d648b95dbad",
       "version_major": 2,
       "version_minor": 0
      },
      "text/plain": [
       "HBox(children=(IntProgress(value=0, description='Val files for unet', max=300, style=ProgressStyle(description…"
      ]
     },
     "metadata": {},
     "output_type": "display_data"
    },
    {
     "name": "stdout",
     "output_type": "stream",
     "text": [
      "\n"
     ]
    },
    {
     "data": {
      "application/vnd.jupyter.widget-view+json": {
       "model_id": "bd12cdea8a254eb0b5cdebc77c9ba861",
       "version_major": 2,
       "version_minor": 0
      },
      "text/plain": [
       "HBox(children=(IntProgress(value=0, description='Stats for unet', max=300, style=ProgressStyle(description_wid…"
      ]
     },
     "metadata": {},
     "output_type": "display_data"
    },
    {
     "name": "stdout",
     "output_type": "stream",
     "text": [
      "\n"
     ]
    },
    {
     "data": {
      "application/vnd.jupyter.widget-view+json": {
       "model_id": "ec0dcf47d73249e5a8840f732903d829",
       "version_major": 2,
       "version_minor": 0
      },
      "text/plain": [
       "HBox(children=(IntProgress(value=0, description='Val files for unet_bn', max=300, style=ProgressStyle(descript…"
      ]
     },
     "metadata": {},
     "output_type": "display_data"
    },
    {
     "name": "stdout",
     "output_type": "stream",
     "text": [
      "\n"
     ]
    },
    {
     "data": {
      "application/vnd.jupyter.widget-view+json": {
       "model_id": "e218ef9b31974014b2bcf1e16ac10bda",
       "version_major": 2,
       "version_minor": 0
      },
      "text/plain": [
       "HBox(children=(IntProgress(value=0, description='Stats for unet_bn', max=300, style=ProgressStyle(description_…"
      ]
     },
     "metadata": {},
     "output_type": "display_data"
    },
    {
     "name": "stdout",
     "output_type": "stream",
     "text": [
      "\n"
     ]
    },
    {
     "data": {
      "application/vnd.jupyter.widget-view+json": {
       "model_id": "c9d8b79e7a3a41ab9ddeef2b0bddfd60",
       "version_major": 2,
       "version_minor": 0
      },
      "text/plain": [
       "HBox(children=(IntProgress(value=0, description='Val files for learned wavelet', max=300, style=ProgressStyle(…"
      ]
     },
     "metadata": {},
     "output_type": "display_data"
    },
    {
     "name": "stdout",
     "output_type": "stream",
     "text": [
      "\n"
     ]
    },
    {
     "data": {
      "application/vnd.jupyter.widget-view+json": {
       "model_id": "db24cce934ca4831a7fee0db32d963a5",
       "version_major": 2,
       "version_minor": 0
      },
      "text/plain": [
       "HBox(children=(IntProgress(value=0, description='Stats for learned wavelet', max=300, style=ProgressStyle(desc…"
      ]
     },
     "metadata": {},
     "output_type": "display_data"
    },
    {
     "name": "stdout",
     "output_type": "stream",
     "text": [
      "\n"
     ]
    },
    {
     "data": {
      "application/vnd.jupyter.widget-view+json": {
       "model_id": "ef46751ab1d64241a509c81073ba8ae1",
       "version_major": 2,
       "version_minor": 0
      },
      "text/plain": [
       "HBox(children=(IntProgress(value=0, description='Val files for learned wavelet_st_0.1', max=300, style=Progres…"
      ]
     },
     "metadata": {},
     "output_type": "display_data"
    },
    {
     "name": "stdout",
     "output_type": "stream",
     "text": [
      "\n"
     ]
    },
    {
     "data": {
      "application/vnd.jupyter.widget-view+json": {
       "model_id": "7ca345e70d1d4f4ba13869fe2fd66714",
       "version_major": 2,
       "version_minor": 0
      },
      "text/plain": [
       "HBox(children=(IntProgress(value=0, description='Stats for learned wavelet_st_0.1', max=300, style=ProgressSty…"
      ]
     },
     "metadata": {},
     "output_type": "display_data"
    },
    {
     "name": "stdout",
     "output_type": "stream",
     "text": [
      "\n"
     ]
    },
    {
     "data": {
      "application/vnd.jupyter.widget-view+json": {
       "model_id": "d41909f306ae4ab8829b788662b4df08",
       "version_major": 2,
       "version_minor": 0
      },
      "text/plain": [
       "HBox(children=(IntProgress(value=0, description='Val files for learned wavelet_st_0.1_wav_pooling', max=300, s…"
      ]
     },
     "metadata": {},
     "output_type": "display_data"
    },
    {
     "name": "stdout",
     "output_type": "stream",
     "text": [
      "\n"
     ]
    },
    {
     "data": {
      "application/vnd.jupyter.widget-view+json": {
       "model_id": "7be8c00763ed4091aabd528444f25923",
       "version_major": 2,
       "version_minor": 0
      },
      "text/plain": [
       "HBox(children=(IntProgress(value=0, description='Stats for learned wavelet_st_0.1_wav_pooling', max=300, style…"
      ]
     },
     "metadata": {},
     "output_type": "display_data"
    },
    {
     "name": "stdout",
     "output_type": "stream",
     "text": [
      "\n"
     ]
    },
    {
     "data": {
      "application/vnd.jupyter.widget-view+json": {
       "model_id": "ae6a0291484343adaa91e44660cfc79a",
       "version_major": 2,
       "version_minor": 0
      },
      "text/plain": [
       "HBox(children=(IntProgress(value=0, description='Val files for learned wavelet_st_0.1_unit_norm', max=300, sty…"
      ]
     },
     "metadata": {},
     "output_type": "display_data"
    },
    {
     "name": "stdout",
     "output_type": "stream",
     "text": [
      "\n"
     ]
    },
    {
     "data": {
      "application/vnd.jupyter.widget-view+json": {
       "model_id": "858323f61cb44330a3f45f70dcf63576",
       "version_major": 2,
       "version_minor": 0
      },
      "text/plain": [
       "HBox(children=(IntProgress(value=0, description='Stats for learned wavelet_st_0.1_unit_norm', max=300, style=P…"
      ]
     },
     "metadata": {},
     "output_type": "display_data"
    },
    {
     "name": "stdout",
     "output_type": "stream",
     "text": [
      "\n"
     ]
    },
    {
     "data": {
      "application/vnd.jupyter.widget-view+json": {
       "model_id": "e4e1e617d8264cd68116e08d3eeeb330",
       "version_major": 2,
       "version_minor": 0
      },
      "text/plain": [
       "HBox(children=(IntProgress(value=0, description='Val files for learned wavelet_st_0.1_wav_pooling_unit_norm', …"
      ]
     },
     "metadata": {},
     "output_type": "display_data"
    },
    {
     "name": "stdout",
     "output_type": "stream",
     "text": [
      "\n"
     ]
    },
    {
     "data": {
      "application/vnd.jupyter.widget-view+json": {
       "model_id": "30a09268eb2d4c88b9390876f5ff021c",
       "version_major": 2,
       "version_minor": 0
      },
      "text/plain": [
       "HBox(children=(IntProgress(value=0, description='Stats for learned wavelet_st_0.1_wav_pooling_unit_norm', max=…"
      ]
     },
     "metadata": {},
     "output_type": "display_data"
    },
    {
     "name": "stdout",
     "output_type": "stream",
     "text": [
      "\n"
     ]
    },
    {
     "data": {
      "application/vnd.jupyter.widget-view+json": {
       "model_id": "98ea0632a48b47c09f2cf4dc87c415dc",
       "version_major": 2,
       "version_minor": 0
      },
      "text/plain": [
       "HBox(children=(IntProgress(value=0, description='Val files for learned wavelet_st_0.01', max=300, style=Progre…"
      ]
     },
     "metadata": {},
     "output_type": "display_data"
    },
    {
     "name": "stdout",
     "output_type": "stream",
     "text": [
      "\n"
     ]
    },
    {
     "data": {
      "application/vnd.jupyter.widget-view+json": {
       "model_id": "add221530322487088cf3d3a968967ef",
       "version_major": 2,
       "version_minor": 0
      },
      "text/plain": [
       "HBox(children=(IntProgress(value=0, description='Stats for learned wavelet_st_0.01', max=300, style=ProgressSt…"
      ]
     },
     "metadata": {},
     "output_type": "display_data"
    },
    {
     "name": "stdout",
     "output_type": "stream",
     "text": [
      "\n"
     ]
    },
    {
     "data": {
      "application/vnd.jupyter.widget-view+json": {
       "model_id": "3ed63a4083954b6fad0f89fa4b11964e",
       "version_major": 2,
       "version_minor": 0
      },
      "text/plain": [
       "HBox(children=(IntProgress(value=0, description='Val files for learned wavelet_st_1', max=300, style=ProgressS…"
      ]
     },
     "metadata": {},
     "output_type": "display_data"
    },
    {
     "name": "stdout",
     "output_type": "stream",
     "text": [
      "\n"
     ]
    },
    {
     "data": {
      "application/vnd.jupyter.widget-view+json": {
       "model_id": "e8c837432e514b029fa49a7ad13b771a",
       "version_major": 2,
       "version_minor": 0
      },
      "text/plain": [
       "HBox(children=(IntProgress(value=0, description='Stats for learned wavelet_st_1', max=300, style=ProgressStyle…"
      ]
     },
     "metadata": {},
     "output_type": "display_data"
    },
    {
     "name": "stdout",
     "output_type": "stream",
     "text": [
      "\n"
     ]
    },
    {
     "data": {
      "application/vnd.jupyter.widget-view+json": {
       "model_id": "9e1ae5c072a84b2b9c10867e5c610592",
       "version_major": 2,
       "version_minor": 0
      },
      "text/plain": [
       "HBox(children=(IntProgress(value=0, description='Val files for learned wavelet_linear', max=300, style=Progres…"
      ]
     },
     "metadata": {},
     "output_type": "display_data"
    },
    {
     "name": "stdout",
     "output_type": "stream",
     "text": [
      "\n"
     ]
    },
    {
     "data": {
      "application/vnd.jupyter.widget-view+json": {
       "model_id": "2ce210b71f134e819f3eb70704176096",
       "version_major": 2,
       "version_minor": 0
      },
      "text/plain": [
       "HBox(children=(IntProgress(value=0, description='Stats for learned wavelet_linear', max=300, style=ProgressSty…"
      ]
     },
     "metadata": {},
     "output_type": "display_data"
    },
    {
     "name": "stdout",
     "output_type": "stream",
     "text": [
      "\n"
     ]
    },
    {
     "data": {
      "application/vnd.jupyter.widget-view+json": {
       "model_id": "e64fd1d1fd9b48cfb66fc682ba30182e",
       "version_major": 2,
       "version_minor": 0
      },
      "text/plain": [
       "HBox(children=(IntProgress(value=0, description='Val files for Original noisy image', max=300, style=ProgressS…"
      ]
     },
     "metadata": {},
     "output_type": "display_data"
    },
    {
     "name": "stdout",
     "output_type": "stream",
     "text": [
      "\n"
     ]
    },
    {
     "data": {
      "application/vnd.jupyter.widget-view+json": {
       "model_id": "99419dc186634484bd8a45a278d5740d",
       "version_major": 2,
       "version_minor": 0
      },
      "text/plain": [
       "HBox(children=(IntProgress(value=0, description='Original noisy image', max=300, style=ProgressStyle(descripti…"
      ]
     },
     "metadata": {},
     "output_type": "display_data"
    },
    {
     "name": "stdout",
     "output_type": "stream",
     "text": [
      "\n"
     ]
    },
    {
     "data": {
      "application/vnd.jupyter.widget-view+json": {
       "model_id": "49650e6a18224aa385f9cf3b127df90d",
       "version_major": 2,
       "version_minor": 0
      },
      "text/plain": [
       "HBox(children=(IntProgress(value=0, description='Val files for Wavelet denoising', max=300, style=ProgressStyl…"
      ]
     },
     "metadata": {},
     "output_type": "display_data"
    },
    {
     "name": "stdout",
     "output_type": "stream",
     "text": [
      "\n"
     ]
    },
    {
     "data": {
      "application/vnd.jupyter.widget-view+json": {
       "model_id": "f12e65bf55634803923b7e16a1347e3b",
       "version_major": 2,
       "version_minor": 0
      },
      "text/plain": [
       "HBox(children=(IntProgress(value=0, description='Stats for wavelet denoising', max=300, style=ProgressStyle(de…"
      ]
     },
     "metadata": {},
     "output_type": "display_data"
    },
    {
     "name": "stdout",
     "output_type": "stream",
     "text": [
      "\n",
      "CPU times: user 4min 50s, sys: 1min 1s, total: 5min 51s\n",
      "Wall time: 6min 5s\n"
     ]
    }
   ],
   "source": [
    "%%time\n",
    "metrics = []\n",
    "for net_params in all_net_params:\n",
    "    metrics.append((net_params['name'], metrics_for_params(**net_params)))\n",
    "    \n",
    "metrics.append(('original', metrics_original()))\n",
    "metrics.append(('wavelets', metrics_wavelets()))"
   ]
  },
  {
   "cell_type": "code",
   "execution_count": 10,
   "metadata": {},
   "outputs": [
    {
     "data": {
      "text/plain": [
       "[('unet', PSNR = 26.14 +/- 3.94 SSIM = 0.6788 +/- 0.1393),\n",
       " ('unet_bn', PSNR = 26.3 +/- 4.001 SSIM = 0.6776 +/- 0.1396),\n",
       " ('learned wavelet', PSNR = 25.95 +/- 3.885 SSIM = 0.6633 +/- 0.1216),\n",
       " ('learned wavelet_st_0.1', PSNR = 26.31 +/- 3.984 SSIM = 0.6716 +/- 0.1281),\n",
       " ('learned wavelet_st_0.1_wav_pooling',\n",
       "  PSNR = 26.13 +/- 4.135 SSIM = 0.6856 +/- 0.1444),\n",
       " ('learned wavelet_st_0.1_unit_norm',\n",
       "  PSNR = 25.09 +/- 3.616 SSIM = 0.619 +/- 0.09594),\n",
       " ('learned wavelet_st_0.1_wav_pooling_unit_norm',\n",
       "  PSNR = 25.56 +/- 3.615 SSIM = 0.6574 +/- 0.1093),\n",
       " ('learned wavelet_st_0.01', PSNR = 25.97 +/- 3.745 SSIM = 0.6678 +/- 0.1176),\n",
       " ('learned wavelet_st_1', PSNR = 23.87 +/- 3.235 SSIM = 0.5559 +/- 0.1102),\n",
       " ('learned wavelet_linear', PSNR = 24.73 +/- 3.436 SSIM = 0.6051 +/- 0.09892),\n",
       " ('original', PSNR = 19.3 +/- 1.085 SSIM = 0.348 +/- 0.2037),\n",
       " ('wavelets', PSNR = 22.19 +/- 1.438 SSIM = 0.4577 +/- 0.167)]"
      ]
     },
     "execution_count": 10,
     "metadata": {},
     "output_type": "execute_result"
    }
   ],
   "source": [
    "metrics"
   ]
  },
  {
   "cell_type": "code",
   "execution_count": 11,
   "metadata": {},
   "outputs": [],
   "source": [
    "metrics.sort(key=lambda x: x[1].metrics['PSNR'].mean())"
   ]
  },
  {
   "cell_type": "code",
   "execution_count": 12,
   "metadata": {},
   "outputs": [],
   "source": [
    "# import pickle\n",
    "# with open('metrics_net_rec_fastmri', 'wb') as f:\n",
    "#     pickle.dump(metrics, f)"
   ]
  },
  {
   "cell_type": "code",
   "execution_count": 13,
   "metadata": {},
   "outputs": [],
   "source": [
    "def n_model_params_for_params(reco_function=None, val_gen=None, name=None, **net_params):\n",
    "    model = unpack_model(**net_params)\n",
    "    n_params = model.count_params()\n",
    "    return n_params"
   ]
  },
  {
   "cell_type": "code",
   "execution_count": 14,
   "metadata": {},
   "outputs": [
    {
     "name": "stdout",
     "output_type": "stream",
     "text": [
      "CPU times: user 18.9 s, sys: 767 ms, total: 19.7 s\n",
      "Wall time: 19.3 s\n"
     ]
    }
   ],
   "source": [
    "%%time\n",
    "n_params = {}\n",
    "for net_params in all_net_params:\n",
    "    n_params[net_params['name']] =  n_model_params_for_params(**net_params)\n",
    "    \n",
    "n_params['original'] =  0\n",
    "n_params['wavelets'] =  2  # number of scales and type of wavelets"
   ]
  },
  {
   "cell_type": "code",
   "execution_count": 15,
   "metadata": {},
   "outputs": [],
   "source": [
    "def runtime_for_params(reco_function=None, name=None, **net_params):\n",
    "    model = unpack_model(**net_params)\n",
    "    data = im_bsd68[0]\n",
    "    start = time.time()\n",
    "    model.predict_on_batch(data[0])\n",
    "    end = time.time()\n",
    "    return end - start"
   ]
  },
  {
   "cell_type": "code",
   "execution_count": 16,
   "metadata": {
    "scrolled": true
   },
   "outputs": [
    {
     "data": {
      "application/vnd.jupyter.widget-view+json": {
       "model_id": "ac836397c2a947a1b4c86d0fa94b3abb",
       "version_major": 2,
       "version_minor": 0
      },
      "text/plain": [
       "HBox(children=(IntProgress(value=0, max=10), HTML(value='')))"
      ]
     },
     "metadata": {},
     "output_type": "display_data"
    },
    {
     "name": "stdout",
     "output_type": "stream",
     "text": [
      "\n",
      "CPU times: user 38.6 s, sys: 790 ms, total: 39.4 s\n",
      "Wall time: 39 s\n"
     ]
    }
   ],
   "source": [
    "%%time\n",
    "runtimes = {}\n",
    "for net_params in tqdm_notebook(all_net_params):\n",
    "    runtimes[net_params['name']] =  runtime_for_params(**net_params)\n",
    "    \n",
    "runtimes['original'] = 'NA'\n",
    "runtimes['wavelets'] = 'NA'  # TODO: code function for that"
   ]
  },
  {
   "cell_type": "code",
   "execution_count": 17,
   "metadata": {},
   "outputs": [],
   "source": [
    "metrics_table = pd.DataFrame(\n",
    "    index=[name for name, _ in metrics], \n",
    "    columns=['PSNR-mean (std) (dB)', 'SSIM-mean (std)', '# params', 'Runtime (s)'],\n",
    ")\n",
    "for name, m in metrics:\n",
    "    metrics_table.loc[name, 'PSNR-mean (std) (dB)'] = \"{mean:.4} ({std:.4})\".format(\n",
    "        mean=m.metrics['PSNR'].mean(), \n",
    "        std=m.metrics['PSNR'].stddev(),\n",
    "    )\n",
    "    metrics_table.loc[name, 'SSIM-mean (std)'] = \"{mean:.4} ({std:.4})\".format(\n",
    "        mean=m.metrics['SSIM'].mean(), \n",
    "        std=m.metrics['SSIM'].stddev(),\n",
    "    )\n",
    "    metrics_table.loc[name, '# params'] = \"{}\".format(\n",
    "        n_params[name], \n",
    "     )\n",
    "    metrics_table.loc[name, 'Runtime (s)'] = \"{runtime:.4}\".format(\n",
    "        runtime=runtimes[name], \n",
    "    )"
   ]
  },
  {
   "cell_type": "code",
   "execution_count": 18,
   "metadata": {},
   "outputs": [
    {
     "data": {
      "text/html": [
       "<div>\n",
       "<style scoped>\n",
       "    .dataframe tbody tr th:only-of-type {\n",
       "        vertical-align: middle;\n",
       "    }\n",
       "\n",
       "    .dataframe tbody tr th {\n",
       "        vertical-align: top;\n",
       "    }\n",
       "\n",
       "    .dataframe thead th {\n",
       "        text-align: right;\n",
       "    }\n",
       "</style>\n",
       "<table border=\"1\" class=\"dataframe\">\n",
       "  <thead>\n",
       "    <tr style=\"text-align: right;\">\n",
       "      <th></th>\n",
       "      <th>PSNR-mean (std) (dB)</th>\n",
       "      <th>SSIM-mean (std)</th>\n",
       "      <th># params</th>\n",
       "      <th>Runtime (s)</th>\n",
       "    </tr>\n",
       "  </thead>\n",
       "  <tbody>\n",
       "    <tr>\n",
       "      <td>original</td>\n",
       "      <td>19.3 (0.5426)</td>\n",
       "      <td>0.348 (0.1019)</td>\n",
       "      <td>0</td>\n",
       "      <td>NA</td>\n",
       "    </tr>\n",
       "    <tr>\n",
       "      <td>wavelets</td>\n",
       "      <td>22.19 (0.719)</td>\n",
       "      <td>0.4577 (0.0835)</td>\n",
       "      <td>2</td>\n",
       "      <td>NA</td>\n",
       "    </tr>\n",
       "    <tr>\n",
       "      <td>learned wavelet_st_1</td>\n",
       "      <td>23.87 (1.617)</td>\n",
       "      <td>0.5559 (0.05508)</td>\n",
       "      <td>2976055</td>\n",
       "      <td>1.173</td>\n",
       "    </tr>\n",
       "    <tr>\n",
       "      <td>learned wavelet_linear</td>\n",
       "      <td>24.73 (1.718)</td>\n",
       "      <td>0.6051 (0.04946)</td>\n",
       "      <td>2976055</td>\n",
       "      <td>1.212</td>\n",
       "    </tr>\n",
       "    <tr>\n",
       "      <td>learned wavelet_st_0.1_unit_norm</td>\n",
       "      <td>25.09 (1.808)</td>\n",
       "      <td>0.619 (0.04797)</td>\n",
       "      <td>2976055</td>\n",
       "      <td>1.021</td>\n",
       "    </tr>\n",
       "    <tr>\n",
       "      <td>learned wavelet_st_0.1_wav_pooling_unit_norm</td>\n",
       "      <td>25.56 (1.808)</td>\n",
       "      <td>0.6574 (0.05467)</td>\n",
       "      <td>2976070</td>\n",
       "      <td>1.06</td>\n",
       "    </tr>\n",
       "    <tr>\n",
       "      <td>learned wavelet</td>\n",
       "      <td>25.95 (1.943)</td>\n",
       "      <td>0.6633 (0.06082)</td>\n",
       "      <td>2976055</td>\n",
       "      <td>0.9569</td>\n",
       "    </tr>\n",
       "    <tr>\n",
       "      <td>learned wavelet_st_0.01</td>\n",
       "      <td>25.97 (1.872)</td>\n",
       "      <td>0.6678 (0.05881)</td>\n",
       "      <td>2976055</td>\n",
       "      <td>1.165</td>\n",
       "    </tr>\n",
       "    <tr>\n",
       "      <td>learned wavelet_st_0.1_wav_pooling</td>\n",
       "      <td>26.13 (2.067)</td>\n",
       "      <td>0.6856 (0.07222)</td>\n",
       "      <td>2976070</td>\n",
       "      <td>0.9872</td>\n",
       "    </tr>\n",
       "    <tr>\n",
       "      <td>unet</td>\n",
       "      <td>26.14 (1.97)</td>\n",
       "      <td>0.6788 (0.06967)</td>\n",
       "      <td>31030793</td>\n",
       "      <td>0.8287</td>\n",
       "    </tr>\n",
       "    <tr>\n",
       "      <td>unet_bn</td>\n",
       "      <td>26.3 (2.001)</td>\n",
       "      <td>0.6776 (0.0698)</td>\n",
       "      <td>31030793</td>\n",
       "      <td>0.8577</td>\n",
       "    </tr>\n",
       "    <tr>\n",
       "      <td>learned wavelet_st_0.1</td>\n",
       "      <td>26.31 (1.992)</td>\n",
       "      <td>0.6716 (0.06403)</td>\n",
       "      <td>2976055</td>\n",
       "      <td>0.9378</td>\n",
       "    </tr>\n",
       "  </tbody>\n",
       "</table>\n",
       "</div>"
      ],
      "text/plain": [
       "                                             PSNR-mean (std) (dB)  \\\n",
       "original                                            19.3 (0.5426)   \n",
       "wavelets                                            22.19 (0.719)   \n",
       "learned wavelet_st_1                                23.87 (1.617)   \n",
       "learned wavelet_linear                              24.73 (1.718)   \n",
       "learned wavelet_st_0.1_unit_norm                    25.09 (1.808)   \n",
       "learned wavelet_st_0.1_wav_pooling_unit_norm        25.56 (1.808)   \n",
       "learned wavelet                                     25.95 (1.943)   \n",
       "learned wavelet_st_0.01                             25.97 (1.872)   \n",
       "learned wavelet_st_0.1_wav_pooling                  26.13 (2.067)   \n",
       "unet                                                 26.14 (1.97)   \n",
       "unet_bn                                              26.3 (2.001)   \n",
       "learned wavelet_st_0.1                              26.31 (1.992)   \n",
       "\n",
       "                                               SSIM-mean (std)  # params  \\\n",
       "original                                        0.348 (0.1019)         0   \n",
       "wavelets                                       0.4577 (0.0835)         2   \n",
       "learned wavelet_st_1                          0.5559 (0.05508)   2976055   \n",
       "learned wavelet_linear                        0.6051 (0.04946)   2976055   \n",
       "learned wavelet_st_0.1_unit_norm               0.619 (0.04797)   2976055   \n",
       "learned wavelet_st_0.1_wav_pooling_unit_norm  0.6574 (0.05467)   2976070   \n",
       "learned wavelet                               0.6633 (0.06082)   2976055   \n",
       "learned wavelet_st_0.01                       0.6678 (0.05881)   2976055   \n",
       "learned wavelet_st_0.1_wav_pooling            0.6856 (0.07222)   2976070   \n",
       "unet                                          0.6788 (0.06967)  31030793   \n",
       "unet_bn                                        0.6776 (0.0698)  31030793   \n",
       "learned wavelet_st_0.1                        0.6716 (0.06403)   2976055   \n",
       "\n",
       "                                             Runtime (s)  \n",
       "original                                              NA  \n",
       "wavelets                                              NA  \n",
       "learned wavelet_st_1                               1.173  \n",
       "learned wavelet_linear                             1.212  \n",
       "learned wavelet_st_0.1_unit_norm                   1.021  \n",
       "learned wavelet_st_0.1_wav_pooling_unit_norm        1.06  \n",
       "learned wavelet                                   0.9569  \n",
       "learned wavelet_st_0.01                            1.165  \n",
       "learned wavelet_st_0.1_wav_pooling                0.9872  \n",
       "unet                                              0.8287  \n",
       "unet_bn                                           0.8577  \n",
       "learned wavelet_st_0.1                            0.9378  "
      ]
     },
     "execution_count": 18,
     "metadata": {},
     "output_type": "execute_result"
    }
   ],
   "source": [
    "metrics_table"
   ]
  },
  {
   "cell_type": "code",
   "execution_count": null,
   "metadata": {},
   "outputs": [],
   "source": []
  }
 ],
 "metadata": {
  "kernelspec": {
   "display_name": "Python 3",
   "language": "python",
   "name": "python3"
  },
  "language_info": {
   "codemirror_mode": {
    "name": "ipython",
    "version": 3
   },
   "file_extension": ".py",
   "mimetype": "text/x-python",
   "name": "python",
   "nbconvert_exporter": "python",
   "pygments_lexer": "ipython3",
   "version": "3.6.8"
  },
  "notify_time": "30"
 },
 "nbformat": 4,
 "nbformat_minor": 2
}
