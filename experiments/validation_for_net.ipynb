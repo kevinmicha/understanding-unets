{
 "cells": [
  {
   "cell_type": "code",
   "execution_count": 1,
   "metadata": {},
   "outputs": [
    {
     "name": "stdout",
     "output_type": "stream",
     "text": [
      "/volatile/home/Zaccharie/workspace/understanding-unets\n"
     ]
    }
   ],
   "source": [
    "%cd .."
   ]
  },
  {
   "cell_type": "code",
   "execution_count": 2,
   "metadata": {},
   "outputs": [],
   "source": [
    "# # this just to make sure we are using only on CPU\n",
    "# import os\n",
    "# os.environ[\"CUDA_VISIBLE_DEVICES\"]=\"-1\""
   ]
  },
  {
   "cell_type": "code",
   "execution_count": 3,
   "metadata": {},
   "outputs": [
    {
     "name": "stdout",
     "output_type": "stream",
     "text": [
      "\n",
      "                 .|'''|       /.\\      '||'''|,\n",
      "                 ||          // \\\\      ||   ||\n",
      "'||''|, '||  ||` `|'''|,    //...\\\\     ||...|'\n",
      " ||  ||  `|..||   .   ||   //     \\\\    ||\n",
      " ||..|'      ||   |...|' .//       \\\\. .||\n",
      " ||       ,  |'\n",
      ".||        ''\n",
      "\n",
      "Package version: 0.0.3\n",
      "\n",
      "License: CeCILL-B\n",
      "\n",
      "Authors: \n",
      "\n",
      "Antoine Grigis <antoine.grigis@cea.fr>\n",
      "Samuel Farrens <samuel.farrens@cea.fr>\n",
      "Jean-Luc Starck <jl.stark@cea.fr>\n",
      "Philippe Ciuciu <philippe.ciuciu@cea.fr>\n",
      "\n",
      "Dependencies: \n",
      "\n",
      "scipy          : >=1.3.0   - required | 1.3.0     installed\n",
      "numpy          : >=1.16.4  - required | 1.17.4    installed\n",
      "matplotlib     : >=3.0.0   - required | 3.1.0     installed\n",
      "astropy        : >=3.0.0   - required | 3.1.2     installed\n",
      "nibabel        : >=2.3.2   - required | 2.5.1     installed\n",
      "pyqtgraph      : >=0.10.0  - required | 0.10.0    installed\n",
      "progressbar2   : >=3.34.3  - required | ?         installed\n",
      "modopt         : >=1.4.0   - required | 1.4.1     installed\n",
      "scikit-learn   : >=0.19.1  - required | ?         installed\n",
      "pywt           : >=1.0.0   - required | 1.0.3     installed\n",
      "pysparse       : >=0.0.1   - required | 0.1.0     installed\n",
      "\n"
     ]
    }
   ],
   "source": [
    "%load_ext autoreload\n",
    "%autoreload 2\n",
    "%matplotlib nbagg\n",
    "import time\n",
    "import warnings\n",
    "warnings.filterwarnings(\"ignore\")\n",
    "\n",
    "import bm3d\n",
    "import matplotlib.pyplot as plt\n",
    "import numpy as np\n",
    "import pandas as pd\n",
    "from tqdm import tqdm_notebook\n",
    "\n",
    "from learning_wavelets.data import im_generators, ConcatenateGenerators\n",
    "from learning_wavelets.evaluate import Metrics\n",
    "from learning_wavelets.keras_utils.thresholding import SoftThresholding, HardThresholding\n",
    "from learning_wavelets.learned_wavelet import learned_wavelet\n",
    "from learning_wavelets.unet import unet\n",
    "from learning_wavelets.wavelet_denoising import wavelet_denoising_pysap"
   ]
  },
  {
   "cell_type": "code",
   "execution_count": 4,
   "metadata": {},
   "outputs": [],
   "source": [
    "np.random.seed(0)"
   ]
  },
  {
   "cell_type": "code",
   "execution_count": 5,
   "metadata": {},
   "outputs": [],
   "source": [
    "plt.rcParams['figure.figsize'] = (9, 5)\n",
    "plt.rcParams['image.cmap'] = 'gray'"
   ]
  },
  {
   "cell_type": "code",
   "execution_count": 6,
   "metadata": {
    "code_folding": []
   },
   "outputs": [],
   "source": [
    "grey = True\n",
    "n_channels = 3\n",
    "if grey:\n",
    "    n_channels = 1\n",
    "noise_std = 30\n",
    "im_gen_train, im_gen_val, im_gen_test, size, n_samples_train = im_generators(\n",
    "    'bsd68', \n",
    "    batch_size=1, \n",
    "    validation_split=0, \n",
    "    no_augment=True, \n",
    "    noise_std=noise_std,\n",
    "    grey=grey\n",
    ")    \n",
    "im_bsd68 = im_gen_test"
   ]
  },
  {
   "cell_type": "code",
   "execution_count": 7,
   "metadata": {},
   "outputs": [],
   "source": [
    "thresh = 2*noise_std/255\n",
    "all_net_params = [\n",
    "    {\n",
    "        'name': 'unet',\n",
    "        'init_function': unet,\n",
    "        'run_params': {\n",
    "            'n_layers': 5, \n",
    "            'pool': 'max', \n",
    "            \"layers_n_channels\": [64, 128, 256, 512, 1024], \n",
    "            'layers_n_non_lins': 2,\n",
    "            'non_relu_contract': False,\n",
    "            'input_size': (size, size, n_channels),\n",
    "        },\n",
    "        'run_id': 'unet_div2k_30_1574408775',\n",
    "    },\n",
    "    {\n",
    "        'name': 'learned wavelet_st',\n",
    "        'init_function': learned_wavelet,\n",
    "        'run_params': {\n",
    "            'n_scales': 5, \n",
    "            'n_details': 256, \n",
    "            'n_coarse': n_channels, \n",
    "            'mixing_details': False,\n",
    "            'denoising_activation': SoftThresholding(thresh),\n",
    "            'wav_pooling': True,\n",
    "            'wav_use_bias': False,\n",
    "            'wav_normed': True,\n",
    "            'filters_normed': ['details', 'coarse'],\n",
    "            'input_size': (size, size, n_channels),     \n",
    "        },\n",
    "        'run_id': 'learned_wavelet_div2k_30_1574790444',\n",
    "        'epoch': 250,\n",
    "    },\n",
    "#     {\n",
    "#         'name': 'learned wavelet_ht',\n",
    "#         'init_function': learned_wavelet,\n",
    "#         'run_params': {\n",
    "#             'n_scales': 5, \n",
    "#             'n_details': 256, \n",
    "#             'n_coarse': n_channels, \n",
    "#             'mixing_details': False,\n",
    "#             'denoising_activation': HardThresholding(1.5*thresh),\n",
    "#             'wav_pooling': True,\n",
    "#             'wav_use_bias': False,\n",
    "#             'wav_normed': True,\n",
    "#             'filters_normed': ['details', 'coarse'],\n",
    "#             'input_size': (size, size, n_channels),\n",
    "#         },\n",
    "#         'run_id': 'learned_wavelet_div2k_30_1574371296',\n",
    "#         'epoch': 50,\n",
    "#     },\n",
    "]"
   ]
  },
  {
   "cell_type": "code",
   "execution_count": 8,
   "metadata": {},
   "outputs": [],
   "source": [
    "def unpack_model(init_function=None, run_params=None, run_id=None, epoch=250, **dummy_kwargs):\n",
    "    model = init_function(**run_params)\n",
    "    chkpt_path = f'checkpoints/{run_id}-{epoch}.hdf5'\n",
    "    model.load_weights(chkpt_path)\n",
    "    return model\n",
    "\n",
    "def enumerate_seq(seq, name):\n",
    "    return (seq[i] for i in tqdm_notebook(range(len(seq)), desc=f'Val files for {name}'))\n",
    "\n",
    "def enumerate_seq_noisy(seq, name):\n",
    "    return (np.squeeze(seq[i][0]) for i in tqdm_notebook(range(len(seq)), desc=f'Val files for {name}'))\n",
    "\n",
    "def enumerate_seq_gt(seq):\n",
    "    return (np.squeeze(seq[i][1]) for i in range(len(seq)))\n",
    "\n",
    "def metrics_for_params(reco_function=None, name=None, **net_params):\n",
    "    model = unpack_model(**net_params)\n",
    "    metrics = Metrics()\n",
    "    pred_and_gt = [\n",
    "        (model.predict_on_batch(images_noisy), images_gt)\n",
    "        for images_noisy, images_gt in enumerate_seq(im_bsd68, name)\n",
    "    ]    \n",
    "    for im_recos, images in tqdm_notebook(pred_and_gt, desc=f'Stats for {name}'):\n",
    "#         import ipdb; ipdb.set_trace()\n",
    "        metrics.push(images, im_recos.numpy())\n",
    "    return metrics\n",
    "\n",
    "def metrics_original():\n",
    "    metrics = Metrics()\n",
    "    pred_and_gt = [\n",
    "        (images_noisy, images_gt)\n",
    "        for images_noisy, images_gt in enumerate_seq(im_bsd68, 'Original noisy image')\n",
    "    ]    \n",
    "    for im_recos, images in tqdm_notebook(pred_and_gt, desc='Original noisy image'):\n",
    "        metrics.push(images, im_recos)\n",
    "    return metrics\n",
    "\n",
    "def metrics_wavelets(wavelet_id):\n",
    "    metrics = Metrics()\n",
    "    pred = wavelet_denoising_pysap(\n",
    "        enumerate_seq_noisy(im_bsd68, f'Wavelet denoising {wavelet_id}'),\n",
    "        noise_std=noise_std/255,\n",
    "        wavelet_id=wavelet_id, \n",
    "        n_scales=5, \n",
    "        soft_thresh=False, \n",
    "        n_sigma=3,\n",
    "    )\n",
    "    gt = enumerate_seq_gt(im_bsd68)\n",
    "    for im_recos, images in tqdm_notebook(zip(pred, gt), desc='Stats for wavelet denoising'):\n",
    "        metrics.push(images[..., None], im_recos[..., None])\n",
    "    return metrics\n",
    "\n",
    "def metrics_bm3d():\n",
    "    metrics = Metrics()\n",
    "    pred = [\n",
    "        bm3d.bm3d(image_noisy + 0.5, sigma_psd=noise_std/255, stage_arg=bm3d.BM3DStages.ALL_STAGES) - 0.5\n",
    "        for image_noisy in enumerate_seq_noisy(im_bsd68, f'BM3D')\n",
    "    ]\n",
    "    gt = enumerate_seq_gt(im_bsd68)\n",
    "    for im_recos, images in tqdm_notebook(zip(pred, gt), desc='Stats for bm3d'):\n",
    "        metrics.push(images[..., None], im_recos[..., None])\n",
    "    return metrics"
   ]
  },
  {
   "cell_type": "code",
   "execution_count": 9,
   "metadata": {},
   "outputs": [
    {
     "data": {
      "application/vnd.jupyter.widget-view+json": {
       "model_id": "d2a46fa6c80745d4903bd03d23764249",
       "version_major": 2,
       "version_minor": 0
      },
      "text/plain": [
       "HBox(children=(IntProgress(value=0, description='Val files for unet', max=68, style=ProgressStyle(description_…"
      ]
     },
     "metadata": {},
     "output_type": "display_data"
    },
    {
     "name": "stdout",
     "output_type": "stream",
     "text": [
      "\n"
     ]
    },
    {
     "data": {
      "application/vnd.jupyter.widget-view+json": {
       "model_id": "d8d43e702501491fae4872cd350af6cc",
       "version_major": 2,
       "version_minor": 0
      },
      "text/plain": [
       "HBox(children=(IntProgress(value=0, description='Stats for unet', max=68, style=ProgressStyle(description_widt…"
      ]
     },
     "metadata": {},
     "output_type": "display_data"
    },
    {
     "name": "stdout",
     "output_type": "stream",
     "text": [
      "\n"
     ]
    },
    {
     "data": {
      "application/vnd.jupyter.widget-view+json": {
       "model_id": "9a39eaf8a13c4b0491e9ed752fc7c637",
       "version_major": 2,
       "version_minor": 0
      },
      "text/plain": [
       "HBox(children=(IntProgress(value=0, description='Val files for learned wavelet_st', max=68, style=ProgressStyl…"
      ]
     },
     "metadata": {},
     "output_type": "display_data"
    },
    {
     "name": "stdout",
     "output_type": "stream",
     "text": [
      "\n"
     ]
    },
    {
     "data": {
      "application/vnd.jupyter.widget-view+json": {
       "model_id": "c31ea20b6b0549dd92128156bfb3aaad",
       "version_major": 2,
       "version_minor": 0
      },
      "text/plain": [
       "HBox(children=(IntProgress(value=0, description='Stats for learned wavelet_st', max=68, style=ProgressStyle(de…"
      ]
     },
     "metadata": {},
     "output_type": "display_data"
    },
    {
     "name": "stdout",
     "output_type": "stream",
     "text": [
      "\n"
     ]
    },
    {
     "data": {
      "application/vnd.jupyter.widget-view+json": {
       "model_id": "85a1a06d9db54f139862c6e535065a79",
       "version_major": 2,
       "version_minor": 0
      },
      "text/plain": [
       "HBox(children=(IntProgress(value=0, description='Val files for Original noisy image', max=68, style=ProgressSt…"
      ]
     },
     "metadata": {},
     "output_type": "display_data"
    },
    {
     "name": "stdout",
     "output_type": "stream",
     "text": [
      "\n"
     ]
    },
    {
     "data": {
      "application/vnd.jupyter.widget-view+json": {
       "model_id": "c877afb6365b4803afb0826a1f9b77b7",
       "version_major": 2,
       "version_minor": 0
      },
      "text/plain": [
       "HBox(children=(IntProgress(value=0, description='Original noisy image', max=68, style=ProgressStyle(descriptio…"
      ]
     },
     "metadata": {},
     "output_type": "display_data"
    },
    {
     "name": "stdout",
     "output_type": "stream",
     "text": [
      "\n"
     ]
    },
    {
     "data": {
      "application/vnd.jupyter.widget-view+json": {
       "model_id": "a932a623c1364b24afbac58ef592d59c",
       "version_major": 2,
       "version_minor": 0
      },
      "text/plain": [
       "HBox(children=(IntProgress(value=0, description='Val files for BM3D', max=68, style=ProgressStyle(description_…"
      ]
     },
     "metadata": {},
     "output_type": "display_data"
    },
    {
     "name": "stdout",
     "output_type": "stream",
     "text": [
      "\n"
     ]
    },
    {
     "data": {
      "application/vnd.jupyter.widget-view+json": {
       "model_id": "b7b4dbd4e4c9450098c21eef1dd88a65",
       "version_major": 2,
       "version_minor": 0
      },
      "text/plain": [
       "HBox(children=(IntProgress(value=1, bar_style='info', description='Stats for bm3d', max=1, style=ProgressStyle…"
      ]
     },
     "metadata": {},
     "output_type": "display_data"
    },
    {
     "name": "stdout",
     "output_type": "stream",
     "text": [
      "\n"
     ]
    },
    {
     "data": {
      "application/vnd.jupyter.widget-view+json": {
       "model_id": "6fe6c571d7e146e6afa49fc67b81d5cd",
       "version_major": 2,
       "version_minor": 0
      },
      "text/plain": [
       "HBox(children=(IntProgress(value=0, description='Val files for Wavelet denoising 24', max=68, style=ProgressSt…"
      ]
     },
     "metadata": {},
     "output_type": "display_data"
    },
    {
     "name": "stdout",
     "output_type": "stream",
     "text": [
      "\n"
     ]
    },
    {
     "data": {
      "application/vnd.jupyter.widget-view+json": {
       "model_id": "4e2812b919e64bc79bd465d86ab00a15",
       "version_major": 2,
       "version_minor": 0
      },
      "text/plain": [
       "HBox(children=(IntProgress(value=1, bar_style='info', description='Stats for wavelet denoising', max=1, style=…"
      ]
     },
     "metadata": {},
     "output_type": "display_data"
    },
    {
     "name": "stdout",
     "output_type": "stream",
     "text": [
      "\n",
      "CPU times: user 23min 56s, sys: 5min 56s, total: 29min 52s\n",
      "Wall time: 11min 31s\n"
     ]
    }
   ],
   "source": [
    "%%time\n",
    "metrics = []\n",
    "for net_params in all_net_params:\n",
    "    metrics.append((net_params['name'], metrics_for_params(**net_params)))\n",
    "    \n",
    "metrics.append(('original', metrics_original()))\n",
    "metrics.append(('bm3d', metrics_bm3d()))\n",
    "metrics.append(('wavelets_24', metrics_wavelets('24')))"
   ]
  },
  {
   "cell_type": "code",
   "execution_count": 10,
   "metadata": {},
   "outputs": [
    {
     "data": {
      "text/plain": [
       "[('unet', PSNR = 28.25 +/- 5.22 SSIM = 0.7802 +/- 0.137),\n",
       " ('learned wavelet_st', PSNR = 27.26 +/- 4.603 SSIM = 0.7231 +/- 0.1262),\n",
       " ('original', PSNR = 18.59 +/- 0.03194 SSIM = 0.3279 +/- 0.2399),\n",
       " ('bm3d', PSNR = 27.77 +/- 5.199 SSIM = 0.7527 +/- 0.1531),\n",
       " ('wavelets_24', PSNR = 26.33 +/- 4.952 SSIM = 0.6981 +/- 0.1665)]"
      ]
     },
     "execution_count": 10,
     "metadata": {},
     "output_type": "execute_result"
    }
   ],
   "source": [
    "metrics"
   ]
  },
  {
   "cell_type": "code",
   "execution_count": 11,
   "metadata": {},
   "outputs": [],
   "source": [
    "metrics.sort(key=lambda x: x[1].metrics['PSNR'].mean())"
   ]
  },
  {
   "cell_type": "code",
   "execution_count": 12,
   "metadata": {},
   "outputs": [],
   "source": [
    "# import pickle\n",
    "# with open('metrics_net_rec_fastmri', 'wb') as f:\n",
    "#     pickle.dump(metrics, f)"
   ]
  },
  {
   "cell_type": "code",
   "execution_count": 13,
   "metadata": {},
   "outputs": [],
   "source": [
    "def n_model_params_for_params(reco_function=None, val_gen=None, name=None, **net_params):\n",
    "    model = unpack_model(**net_params)\n",
    "    n_params = model.count_params()\n",
    "    return n_params"
   ]
  },
  {
   "cell_type": "code",
   "execution_count": 14,
   "metadata": {},
   "outputs": [
    {
     "name": "stdout",
     "output_type": "stream",
     "text": [
      "CPU times: user 1.18 s, sys: 152 ms, total: 1.33 s\n",
      "Wall time: 1.26 s\n"
     ]
    }
   ],
   "source": [
    "%%time\n",
    "n_params = {}\n",
    "for net_params in all_net_params:\n",
    "    n_params[net_params['name']] =  n_model_params_for_params(**net_params)\n",
    "    \n",
    "n_params['original'] =  0\n",
    "n_params['bm3d'] =  2  # number of scales and type of wavelets\n",
    "n_params['wavelets_24'] =  2  # number of scales and type of wavelets"
   ]
  },
  {
   "cell_type": "code",
   "execution_count": 15,
   "metadata": {},
   "outputs": [],
   "source": [
    "def runtime_for_params(reco_function=None, name=None, **net_params):\n",
    "    model = unpack_model(**net_params)\n",
    "    data = im_bsd68[0]\n",
    "    start = time.time()\n",
    "    model.predict_on_batch(data[0])\n",
    "    end = time.time()\n",
    "    return end - start"
   ]
  },
  {
   "cell_type": "code",
   "execution_count": 16,
   "metadata": {
    "scrolled": true
   },
   "outputs": [
    {
     "data": {
      "application/vnd.jupyter.widget-view+json": {
       "model_id": "e58a466f908e4f19a1f8098973278c62",
       "version_major": 2,
       "version_minor": 0
      },
      "text/plain": [
       "HBox(children=(IntProgress(value=0, max=2), HTML(value='')))"
      ]
     },
     "metadata": {},
     "output_type": "display_data"
    },
    {
     "name": "stdout",
     "output_type": "stream",
     "text": [
      "\n",
      "CPU times: user 1.12 s, sys: 113 ms, total: 1.24 s\n",
      "Wall time: 1.2 s\n"
     ]
    }
   ],
   "source": [
    "%%time\n",
    "runtimes = {}\n",
    "for net_params in tqdm_notebook(all_net_params):\n",
    "    runtimes[net_params['name']] =  runtime_for_params(**net_params)\n",
    "    \n",
    "runtimes['original'] = 'NA'\n",
    "runtimes['bm3d'] = 'NA'  # TODO: code function for that\n",
    "runtimes['wavelets_24'] = 'NA'  # TODO: code function for that"
   ]
  },
  {
   "cell_type": "code",
   "execution_count": 17,
   "metadata": {},
   "outputs": [],
   "source": [
    "metrics_table = pd.DataFrame(\n",
    "    index=[name for name, _ in metrics], \n",
    "    columns=['PSNR-mean (std) (dB)', 'SSIM-mean (std)', '# params', 'Runtime (s)'],\n",
    ")\n",
    "for name, m in metrics:\n",
    "    metrics_table.loc[name, 'PSNR-mean (std) (dB)'] = \"{mean:.4} ({std:.4})\".format(\n",
    "        mean=m.metrics['PSNR'].mean(), \n",
    "        std=m.metrics['PSNR'].stddev(),\n",
    "    )\n",
    "    metrics_table.loc[name, 'SSIM-mean (std)'] = \"{mean:.4} ({std:.4})\".format(\n",
    "        mean=m.metrics['SSIM'].mean(), \n",
    "        std=m.metrics['SSIM'].stddev(),\n",
    "    )\n",
    "    metrics_table.loc[name, '# params'] = \"{}\".format(\n",
    "        n_params[name], \n",
    "     )\n",
    "    metrics_table.loc[name, 'Runtime (s)'] = \"{runtime:.4}\".format(\n",
    "        runtime=runtimes[name], \n",
    "    )"
   ]
  },
  {
   "cell_type": "code",
   "execution_count": 18,
   "metadata": {},
   "outputs": [
    {
     "data": {
      "text/html": [
       "<div>\n",
       "<style scoped>\n",
       "    .dataframe tbody tr th:only-of-type {\n",
       "        vertical-align: middle;\n",
       "    }\n",
       "\n",
       "    .dataframe tbody tr th {\n",
       "        vertical-align: top;\n",
       "    }\n",
       "\n",
       "    .dataframe thead th {\n",
       "        text-align: right;\n",
       "    }\n",
       "</style>\n",
       "<table border=\"1\" class=\"dataframe\">\n",
       "  <thead>\n",
       "    <tr style=\"text-align: right;\">\n",
       "      <th></th>\n",
       "      <th>PSNR-mean (std) (dB)</th>\n",
       "      <th>SSIM-mean (std)</th>\n",
       "      <th># params</th>\n",
       "      <th>Runtime (s)</th>\n",
       "    </tr>\n",
       "  </thead>\n",
       "  <tbody>\n",
       "    <tr>\n",
       "      <td>original</td>\n",
       "      <td>18.59 (0.01597)</td>\n",
       "      <td>0.3279 (0.12)</td>\n",
       "      <td>0</td>\n",
       "      <td>NA</td>\n",
       "    </tr>\n",
       "    <tr>\n",
       "      <td>wavelets_24</td>\n",
       "      <td>26.33 (2.476)</td>\n",
       "      <td>0.6981 (0.08324)</td>\n",
       "      <td>2</td>\n",
       "      <td>NA</td>\n",
       "    </tr>\n",
       "    <tr>\n",
       "      <td>learned wavelet_st</td>\n",
       "      <td>27.26 (2.301)</td>\n",
       "      <td>0.7231 (0.06312)</td>\n",
       "      <td>65655</td>\n",
       "      <td>0.0515</td>\n",
       "    </tr>\n",
       "    <tr>\n",
       "      <td>bm3d</td>\n",
       "      <td>27.77 (2.599)</td>\n",
       "      <td>0.7527 (0.07653)</td>\n",
       "      <td>2</td>\n",
       "      <td>NA</td>\n",
       "    </tr>\n",
       "    <tr>\n",
       "      <td>unet</td>\n",
       "      <td>28.25 (2.61)</td>\n",
       "      <td>0.7802 (0.06849)</td>\n",
       "      <td>31030793</td>\n",
       "      <td>0.01725</td>\n",
       "    </tr>\n",
       "  </tbody>\n",
       "</table>\n",
       "</div>"
      ],
      "text/plain": [
       "                   PSNR-mean (std) (dB)   SSIM-mean (std)  # params  \\\n",
       "original                18.59 (0.01597)     0.3279 (0.12)         0   \n",
       "wavelets_24               26.33 (2.476)  0.6981 (0.08324)         2   \n",
       "learned wavelet_st        27.26 (2.301)  0.7231 (0.06312)     65655   \n",
       "bm3d                      27.77 (2.599)  0.7527 (0.07653)         2   \n",
       "unet                       28.25 (2.61)  0.7802 (0.06849)  31030793   \n",
       "\n",
       "                   Runtime (s)  \n",
       "original                    NA  \n",
       "wavelets_24                 NA  \n",
       "learned wavelet_st      0.0515  \n",
       "bm3d                        NA  \n",
       "unet                   0.01725  "
      ]
     },
     "execution_count": 18,
     "metadata": {},
     "output_type": "execute_result"
    }
   ],
   "source": [
    "metrics_table"
   ]
  },
  {
   "cell_type": "code",
   "execution_count": null,
   "metadata": {},
   "outputs": [],
   "source": []
  }
 ],
 "metadata": {
  "kernelspec": {
   "display_name": "Python 3",
   "language": "python",
   "name": "python3"
  },
  "language_info": {
   "codemirror_mode": {
    "name": "ipython",
    "version": 3
   },
   "file_extension": ".py",
   "mimetype": "text/x-python",
   "name": "python",
   "nbconvert_exporter": "python",
   "pygments_lexer": "ipython3",
   "version": "3.6.8"
  },
  "notify_time": "30"
 },
 "nbformat": 4,
 "nbformat_minor": 2
}
